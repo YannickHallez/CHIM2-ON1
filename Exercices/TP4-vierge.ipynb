{
 "cells": [
  {
   "cell_type": "code",
   "execution_count": 2,
   "id": "2006fc9e",
   "metadata": {
    "scrolled": true,
    "tags": []
   },
   "outputs": [
    {
     "data": {
      "text/html": [
       "<style>\n",
       "h1, h2, h3, h4, h5, h6 {\n",
       "  font-family: Verdana, \"DejaVu Sans\", \"Bitstream Vera Sans\", Geneva, sans-serif;\n",
       "  font-weight: bold;\n",
       "}\n",
       "body {\n",
       "  font-family: Verdana, \"DejaVu Sans\", \"Bitstream Vera Sans\", Geneva, sans-serif;\n",
       "  font-weight: 200;\n",
       "}\n",
       "h1 {\n",
       "  border: 0 solid #333;\n",
       "  padding: 30px ;\n",
       "  color: white;\n",
       "  background: #b11d01;\n",
       "  text-align: center;\n",
       "}\n",
       "h2 {\n",
       "  border: 3px solid #333;\n",
       "  padding: 18px ;\n",
       "  color: #b11d01;\n",
       "  background: #ffffff;\n",
       "  text-align: center;\n",
       "}\n",
       "h3 {\n",
       "  border: 0 solid #333;\n",
       "  padding: 12px ;\n",
       "  color: #000000;\n",
       "  background: #c1c1c1;\n",
       "  text-align: left;\n",
       "}\n",
       "h4 {\n",
       "  border: 0 solid #333;\n",
       "  padding: 2px ;\n",
       "  color: #000000;\n",
       "  background: #d9fffc;\n",
       "  text-align: left;\n",
       "}\n",
       "h5 {\n",
       "  border: 1px solid #333;\n",
       "  padding: 2px ;\n",
       "  color: #000000;\n",
       "  background: #ffffff;\n",
       "  text-align: left;\n",
       "}\n",
       ".warn {    \n",
       "    background-color: #fcf2f2;\n",
       "    border-color: #dFb5b4;\n",
       "    border-left: 5px solid #dfb5b4;\n",
       "    padding: 0.5em;\n",
       "    font-weight: 200;\n",
       "    }\n",
       ".rq {    \n",
       "    background-color: #e2e2e2;\n",
       "    border-color: #969696;\n",
       "    border-left: 5px solid #969696;\n",
       "    padding: 0.5em;\n",
       "    font-weight: 200;\n",
       "    }\n",
       "</style>\n"
      ],
      "text/plain": [
       "<IPython.core.display.HTML object>"
      ]
     },
     "metadata": {},
     "output_type": "display_data"
    },
    {
     "data": {
      "text/markdown": [
       "**Début à:** Tuesday 14 November 2023, 12:31:29  \n",
       "**Hostname:** ir-kd253.ups-tlse.fr (Darwin)"
      ],
      "text/plain": [
       "<IPython.core.display.Markdown object>"
      ]
     },
     "metadata": {},
     "output_type": "display_data"
    },
    {
     "data": {
      "text/markdown": [
       "<p style=\"text-align: center\"><img width=\"800px\" src=\"../config/svg/logoDebut.svg\" style=\"margin-left:auto; margin-right:auto\"/></p>"
      ],
      "text/plain": [
       "<IPython.core.display.Markdown object>"
      ]
     },
     "metadata": {},
     "output_type": "display_data"
    }
   ],
   "source": [
    "###############################################################################################\n",
    "#\n",
    "# exécutez cette cellule avant d'utiliser le reste du notebook\n",
    "#\n",
    "# supprimez-là si vous exécutez ce notebook en-dehors de la distribution CHIM2-ON1 #\n",
    "#\n",
    "###############################################################################################\n",
    "\n",
    "import os\n",
    "import sys\n",
    "\n",
    "cwd0 = \"../config/\"\n",
    "sys.path.append(cwd0)\n",
    "                            \n",
    "import visualID as vID\n",
    "from visualID import color\n",
    "vID.init(cwd0)"
   ]
  },
  {
   "cell_type": "markdown",
   "id": "e3d44c2e",
   "metadata": {},
   "source": [
    "# TP4. Exercices sur la définition de fonctions et l'ajustement de modèles\n",
    "\n",
    "## Exercice 1. Définir quelques fonctions simples\n",
    "\n",
    "Définir une fonction donnant le rayon d'un cercle à partir des coordonnées $(x,y)$ d'un point du cercle.\n"
   ]
  },
  {
   "cell_type": "code",
   "execution_count": null,
   "id": "b444bf24",
   "metadata": {
    "scrolled": true
   },
   "outputs": [],
   "source": [
    "# Votre code\n"
   ]
  },
  {
   "cell_type": "markdown",
   "id": "6a449b9e",
   "metadata": {},
   "source": [
    "Définir une fonction renvoyant l'énergie cinétique d'une particule de masse $m$ et vitesse $v$"
   ]
  },
  {
   "cell_type": "code",
   "execution_count": null,
   "id": "8c88bebc",
   "metadata": {
    "scrolled": true
   },
   "outputs": [],
   "source": [
    "# Votre code"
   ]
  },
  {
   "cell_type": "markdown",
   "id": "7597d30f",
   "metadata": {},
   "source": [
    "Définir une fonction calculant le produit scalaire de deux vecteurs $\\hat a (x_a,y_a,z_a)$ et $\\hat b (x_b,y_b,z_b)$"
   ]
  },
  {
   "cell_type": "code",
   "execution_count": null,
   "id": "b23dd39b",
   "metadata": {
    "scrolled": true
   },
   "outputs": [],
   "source": [
    "# Votre code"
   ]
  },
  {
   "cell_type": "markdown",
   "id": "cd9a3b99",
   "metadata": {},
   "source": [
    "Ecrire une fonction qui retourne une liste avec les coordonnées cartésiennes $(x,y,z)$ à partir des coordonnées sphériques $r$, $\\theta$ et $\\phi$"
   ]
  },
  {
   "cell_type": "code",
   "execution_count": null,
   "id": "3598c581",
   "metadata": {
    "scrolled": true
   },
   "outputs": [],
   "source": [
    "# Votre code"
   ]
  },
  {
   "cell_type": "markdown",
   "id": "4c04895f",
   "metadata": {},
   "source": [
    "## Exercice 2. Calcul du pH d'une solution d'acide formique.\n",
    "\n",
    "On ajoute de l'acide formique (HCOOH, abrégé ici AH, pKa=3.8) à une concentration initiale $[AH_0]$ dans de l'eau à pH=7. On suppose que $[AH_0]\\gg 10^{-7}$ M de manière à pouvoir négliger la dissociation de l'eau. On considère la réaction de dissociation \n",
    "\n",
    "$$\\mathrm{AH +H_2O\\leftrightarrow A^- + H_3O^+}$$\n",
    "\n",
    "dont la constante est \n",
    "\n",
    "$$Ka=\\frac{[\\mathrm{A^-}][\\mathrm{H_3O^+}]}{[\\mathrm{AH}]}.$$ \n",
    "\n",
    "Il est possible de démontrer que le pH est  \n",
    "\n",
    "$$pH = -\\log\\left[ \\frac{Ka}{2}\\left(\\sqrt{1+4\\frac{[\\mathrm{AH_0}]}{Ka}}-1\\right)\\right]$$\n",
    "\n",
    "et que la fraction d'acide est  \n",
    "\n",
    "$$f=\\frac{[AH]}{[AH_0]}=\\frac{1}{1+10^{pH-pKa}}$$\n",
    "\n",
    "1. Ecrivez une fonction Python appelée calculepH() qui prend en argument la concentration initiale en acide $[AH_0]$ et son pKa et qui renvoie à l'utilisateur le pH à l'équilibre. \n",
    "2. Testez cette fonction pour la valider : le pH de l'acide formique à une concentration initiale de 1 mM devrait être d'environ 3.48.\n",
    "3. Utilisez la fonction pour tracer la courbe du pH d'une solution d'acide formique en fonction de sa concentration initiale $[AH_0]$ comprise entre 0.1 mM et 1 M. Pour ceci, vous créerez au préalable un tableau numpy AH0 contenant 100 valeurs entre 0.1 mM et 1M. \n",
    "4. Ecrivez une fonction fraction() qui prend comme argument le pH et le pKa et qui renvoie la valeur de la fraction en acide $f$. \n",
    "5. Tracez le diagramme de spéciation de l'acide formique pour des pH compris entre 0 et 10, c'est-à-dire un graphe représentant la fraction de la forme acide en fonction du pH sur une première courbe, ainsi que la fraction de la forme basique en fonction du pH sur une autre courbe. Pour ceci, il faudra créer un tableau numpy pour le pH. Votre graphe aura des labels sur les axes, ainsi qu'une légende."
   ]
  },
  {
   "cell_type": "markdown",
   "id": "362d0e78",
   "metadata": {},
   "source": [
    "#1 \n",
    "\n",
    "#2\n",
    "\n",
    "#3\n",
    "\n",
    "#4\n",
    "\n",
    "#5\n"
   ]
  },
  {
   "cell_type": "markdown",
   "id": "788d2d08",
   "metadata": {},
   "source": [
    "## **Exercice 3**. Cinétique de décoloration de la phénolphtaléine en milieu basique\n",
    "\n",
    "*Ce sujet initialement créé par V. Pimienta et M. Brost, a été adapté en `Python`*.\n",
    "\n",
    "En milieu très basique, la forme pourpre de la phénolphtaléine se décolore lentement à température ambiante (θ = 25°C). La réaction est totale et l'équation de réaction s’écrit :\n",
    "\n",
    "$$\\mathrm{In^{2-}(pourpre) +  HO^- = InOH^{3-}(incolore)}$$\n",
    "\n",
    "La loi de vitesse de cette réaction est de la forme $v = k [\\mathrm{In^{2-}}]^\\alpha[\\mathrm{HO^-}]^\\beta$\n",
    "\n",
    "où $k$ est appelée la constante de vitesse de la réaction, et $\\alpha$ et $\\beta$ sont les ordres partiels de la réaction.\n",
    "\n",
    "On va se placer dans des conditions expérimentales où la concentration en hydroxyde HO$^-$ est très supérieure à celle de la forme pourpre de la phénolphtaléine, In$^{2-}$. Dans ces conditions, [HO$^-$] peut être considérée comme constante au cours du temps ($[\\mathrm{HO^-}]_t\\sim[\\mathrm{HO^-}]_0$), et on peut écrire :\n",
    "\n",
    "$$v = k_{\\mathrm{app}}[\\mathrm{In^{2-}}]^\\alpha$$\n",
    "\n",
    "avec $k_{\\mathrm{app}}=k[\\mathrm{HO^-}]_0^\\beta$\n",
    "\n",
    "L'objectif de cet exercice est de complètement déterminer la loi de vitesse de cette réaction, ce qui nécessite :\n",
    "\n",
    "- de déterminer $\\alpha$, l'ordre partiel par rapport à In$^{2-}$\n",
    "\n",
    "- puis de déterminer $\\beta$, l'ordre partiel par rapport à HO$^{-}$\n",
    "\n",
    "- et enfin de trouver la constante de vitesse de la réaction, $k$ (qui en réalité dépend de la température : $k=k(T)$). \n",
    "\n",
    "On va pour cela exploiter des données expérimentales et **chercher quelle loi mathématique permet de les reproduire en fonction du temps**. On va donc essayer d'**ajuster** (de \"*fitter*\") un modèle.\n",
    "\n",
    "La cinétique de décoloration en fonction du temps est mesurée par spectrophotométrie dans différentes conditions de température et de concentration initiale [HO$^-$]$_0$. On rappelle que dans le cadre de cette technique, on mesure l'absorbance *A* d'une espèce colorée (ici In$^{2-}$). Elle est reliée à la concentration par la loi de Beer-Lambert :\n",
    "\n",
    "$$A(\\mathrm{In^{2-}}) = \\varepsilon(\\lambda)\\ell[\\mathrm{In^{2-}}]$$\n",
    "\n",
    "où $\\varepsilon(\\lambda)$ est le coefficient d'extinction molaire de In$^{2-}$ et $\\ell$ est la largeur de la cuve qui contient l'échantillon dont on mesure l'absorbance. La mesure est faite à $\\lambda$ = 550 nm, dans une cuve $\\ell$ = 1 cm de large.\n",
    "\n",
    "On donne : **$\\boldsymbol{\\varepsilon(550)}$ = 7950 L mol$^{-1}$ cm$^{-1}$**"
   ]
  },
  {
   "cell_type": "markdown",
   "id": "c0d36fbe",
   "metadata": {},
   "source": [
    "### **1.** Recherche de $\\alpha$, l'ordre partiel de In$^{2-}$\n",
    "\n",
    "On va utiliser les résultats d'une **<span style='color:red'>expérience A</span>**, menée dans les conditions suivantes : \n",
    "\n",
    "- [HO$^-$]$_0$ = 0,2 mol.L$^{-1}$\n",
    "- $\\theta$ = 25°C\n",
    "\n",
    "Le fichier `cinExpA.dat` contient deux colonnes, séparées par des \";\" : le temps et l'absorbance mesurée à 550 nm. La première ligne contient l'en-tête `t / min ; Abs`\n",
    "\n",
    "**1.** Lire le contenu du fichier dans deux tableaux `tA` et `AbsA`. Puis définir une fonction `BL()` qui prend comme argument une valeur d'absorbance `Abs`, la largeur de la cuve `l` et le coefficient d'extinction molaire `eps`, et qui renvoie la concentration. L'utiliser pour calculer les valeurs de concentrations [In$^{2-}$]$_t$, qu'on rangera dans un tableau `CA`."
   ]
  },
  {
   "cell_type": "code",
   "execution_count": 4,
   "id": "c1daa28c",
   "metadata": {
    "scrolled": true
   },
   "outputs": [],
   "source": [
    "# entrez votre code python dans cette cellule\n"
   ]
  },
  {
   "cell_type": "markdown",
   "id": "7ecb99ee",
   "metadata": {},
   "source": [
    "**2.** Vérifier que la première mesure à bien été faite à *t* = 0. Sauver la valeur de la concentration correspondante dans une variable `CA0`. L'afficher pour vérifier qu'on est a bien [HO$^-$]$_0$ >> [In$^{2-}$]$_0$"
   ]
  },
  {
   "cell_type": "code",
   "execution_count": 5,
   "id": "0ea7c1c9",
   "metadata": {
    "scrolled": true
   },
   "outputs": [],
   "source": [
    "# entrez votre code python dans cette cellule\n"
   ]
  },
  {
   "cell_type": "markdown",
   "id": "23b33d13",
   "metadata": {},
   "source": [
    "**3.** Tracer $C=f(t)$. La courbe sera représentée avec des +."
   ]
  },
  {
   "cell_type": "code",
   "execution_count": 6,
   "id": "0e3866f7",
   "metadata": {
    "scrolled": true
   },
   "outputs": [],
   "source": [
    "# entrez votre code python dans cette cellule\n"
   ]
  },
  {
   "cell_type": "markdown",
   "id": "b7cdbef1",
   "metadata": {},
   "source": [
    "**4.** On sait que les hypothèses les plus probables pour l'ordre partiel $\\alpha$ sont 0 ou 1 ou bien 2. On va évaluer chacune de ces trois hypothèses afin de déterminer quelle est celle qui permet d'ajuster au mieux ldes données expérimentales à l'aide des relations théoriques ci-dessous. On peut en effet démontrer les relations suivantes (se reporter à un cours de cinétique) :\n",
    "\n",
    "**- ordre $\\alpha$ = 0**\n",
    "\n",
    "$$ C^\\mathrm{ordre\\,0}(t) = C(0) - k_\\mathrm{app}t$$\n",
    "\n",
    "C'est-à-dire que la concentration <span style=\"color:red\">décroît de façon linéaire</span> en fonction du temps.\n",
    "\n",
    "**- ordre $\\alpha$ = 1**\n",
    "\n",
    "$$ C^\\mathrm{ordre\\,1}(t) = C(0) \\exp(-k_\\mathrm{app}t)$$\n",
    "\n",
    "C'est donc une loi de <span style=\"color:red\">décroissance exponentielle</span> de la concentration au cours du temps.\n",
    "\n",
    "**- ordre $\\alpha$ = 2**\n",
    "\n",
    "$$ C^\\mathrm{ordre\\,2}(t) = \\frac{1}{k_\\mathrm{app}t+\\frac{1}{C(0)}}$$\n",
    "\n",
    "On a ici une <span style=\"color:red\">décroissance hyperbolique</span> de la concentration au cours du temps.\n",
    "\n",
    "**<span style=\"color:red\">L'objectif de cette question est de déterminer lequel de ces modèles reproduit au mieux les données expérimentales, c'est-à-dire l'évolution de la concentration au cours du temps</span>**.\n",
    "\n",
    "**4a.** On va pour cela définir trois fonctions, `Cordre0(t,C0,kapp)`, `Cordre1(t,C0,kapp)` et `Cordre2(t,C0,kapp)`, qui prennent chacune comme argument une variable temps `t`, une variable concentration initiale `C0`, et une variable constante de vitesse `kapp`, et qui vont donc renvoyer les expressions définies ci-dessus.\n",
    "\n",
    "Tracez ensuite ces fonctions sur un même graphe. Pour ceci, vous créerez au préalable un tableau numpy `tt` contenant 100 valeurs entre 0 min et 15 mn. On prendra les mêmes valeurs de $k_\\mathrm{app} = 0.1$ et $C(0)=1$ mol.L$^{-1}$"
   ]
  },
  {
   "cell_type": "code",
   "execution_count": 7,
   "id": "88ba34a7",
   "metadata": {
    "scrolled": true
   },
   "outputs": [],
   "source": [
    "# entrez votre code python dans cette cellule\n"
   ]
  },
  {
   "cell_type": "markdown",
   "id": "19e7d262",
   "metadata": {},
   "source": [
    "**4b.** Les méthodes modernes de détermination de l’ordre visent à reproduire directement les données expérimentales en fonction du temps. C'est ce qu'on va faire maintenant. On doit donc ajuster chacune des trois fonctions, en utilisant la fonction `curve_fit` de `scipy.optimize`. Rappelons ce qui est écrit dans le documentation :\n",
    "\n",
    "<div class=\"rq\">\n",
    "\n",
    "`scipy.optimize.curve_fit(f, xdata, ydata,....)`\n",
    "    \n",
    "Use non-linear least squares to fit a function, f, to data.\n",
    "    \n",
    "Assumes <span style=\"color:rgb(232, 62, 140)\">ydata = f(xdata, *params) + eps</span>.\n",
    "\n",
    "**Parameters**\n",
    "\n",
    "- f : callable.\n",
    " The model function, f(x, *params). It must take the independent variable as the first argument and the parameters to fit as separate remaining arguments.\n",
    "\n",
    "- xdata : array_like or object.\n",
    " The independent variable where the data is measured.  Should usually be an M-length sequence.\n",
    "\n",
    "- ydata : array_like.\n",
    " The dependent data, a length M array - nominally <span style=\"color:rgb(232, 62, 140)\">f(xdata, ...)</span>.\n",
    "    \n",
    "**Returns**\n",
    "\n",
    "- popt : array. Optimal values for the parameters so that the sum of the squared residuals of <span style=\"color:rgb(232, 62, 140)\">f(xdata, *popt) - ydata</span> is minimized.\n",
    "\n",
    "- pcov : 2-D array. The estimated covariance of popt. \n",
    "    \n",
    "Seul le contenu du premier tableau nous intéresse. On pourra quand même jeter un oeil à la précision du fit, contenue dans le tableau popt. \n",
    "\n",
    "</div>\n",
    "\n",
    "L'application de `curve_fit` va nous permettre, pour chacun des modèles mathématiques `Cordre0(t,C0,kapp)`, `Cordre1(t,C0,kapp)` et `Cordre2(t,C0,kapp)` de trouver le meilleur couple de valeurs de $k_\\mathrm{app}$ et de $C_0$ qui se rapproche des données expérimentales $[\\mathrm{In^{2-}}]=f(t)$. \n",
    "\n",
    "Recherchez ces valeurs, qu'on notera :\n",
    "- ordre 0 : `CA0_0` et `kappA_0`\n",
    "- ordre 1 : `CA0_1` et `kappA_1`\n",
    "- ordre 2 : `CA0_2` et `kappA_2`"
   ]
  },
  {
   "cell_type": "code",
   "execution_count": null,
   "id": "37957415",
   "metadata": {
    "scrolled": true
   },
   "outputs": [],
   "source": [
    "# entrez votre code python dans cette cellule\n"
   ]
  },
  {
   "cell_type": "markdown",
   "id": "acc08aa7",
   "metadata": {},
   "source": [
    "**c.** On va évaluer graphiquement lequel des trois modèles mathématiques reproduit au mieux l'ensemble des données expérimentales. On en déduira ainsi quel est l'ordre partiel de In$^{2-}$. Sur un même graphe :\n",
    "- tracez la concentration expérimentale en fonction du temps.  La courbe sera représentée avec des +.\n",
    "- tracez ensuite chacune des trois fonctions `Cordre0`, `Cordre1` et `Cordre2` en utilisant les arguments optimisés pour chacune d'entre elles\n",
    "\n",
    "Ajoutez les légendes, ainsi que les labels des axes, sans oublier les unités.\n",
    "\n",
    "Quelle est la loi cinétique qui reproduit au mieux les données expérimentales ?"
   ]
  },
  {
   "cell_type": "code",
   "execution_count": 3,
   "id": "f47b5b8b",
   "metadata": {
    "scrolled": true
   },
   "outputs": [],
   "source": [
    "# entrez votre code python dans cette cellule\n"
   ]
  },
  {
   "cell_type": "markdown",
   "id": "f11d4c11",
   "metadata": {},
   "source": [
    "### **2.** [*Optionnel*] Recherche de $\\beta$, l'ordre partiel de HO$^{-}$\n",
    "\n",
    "<span style='color:red'>**Cette question est facultative.** Voyez avec votre enseignant si vous avez le temps de la traiter.</span>\n",
    "\n",
    "\n",
    "Quatre autres expériences ont été réalisées, à la même température ($\\theta$ = 25°C), mais avec des concentrations d'hydroxyde différentes. Leurs résultats ont été enregistrés dans les fichiers `cinExpB.dat`, `cinExpC.dat`, `cinExpD.dat`, `cinExpE.dat`. L'ordre $\\alpha$ de In$^{2-}$ qui a été trouvé dans la première partie est **toujours valide**, car il est caractéristique d'une réaction chimique et n'est fonction ni des concentrations, ni de la température.\n",
    "\n",
    "Dans chaque cas, la concentration initiale en hydroxyde, [HO$^-$]$_0$, est suffisamment élevée pour pouvoir être considérée comme constante au cours du temps. C'est-à-dire qu'on a toujours :\n",
    "\n",
    "$$v = k_{\\mathrm{app}}[\\mathrm{In^{2-}}]$$\n",
    "\n",
    "(car si tout s'est bien passé dans la première partie, vous avez trouvé $\\alpha=1$)\n",
    "\n",
    "avec $k_{\\mathrm{app}}=k[\\mathrm{HO^-}]_0^\\beta$\n",
    "\n",
    "dont on peut déduire :\n",
    "\n",
    "$\\ln(k_{\\mathrm{app}})=\\ln(k)+\\beta\\ln([\\mathrm{HO^-}]_0)$\n",
    "\n",
    "*(si ça ne vous semble pas évident, il faudrait réviser le [logarithme naturel](https://fr.wikipedia.org/wiki/Logarithme_naturel) et les [fonctions exponentielles](https://fr.wikipedia.org/wiki/Fonction_exponentielle))*\n",
    "\n",
    "**1.** Complétez le tableau ci-dessous en y reportant les valeurs de $k_\\mathrm{app}$ que vous devez maintenant déterminer pour chacune de expériences B à E ($k_\\mathrm{app}^\\mathrm{(A)}$ ayant déjà été déterminée dans la première partie).\n",
    "\n",
    "| Expérience | [HO$^-$]$_0$ / mol.L$^{-1}$ | $k_\\mathrm{app}$ / s$^{-1}$ |\n",
    "| :---------------: |:---------------:| :---------------:|\n",
    "|A|0,20|1,8636 $\\times$ 10$^{-1}$|\n",
    "|B|0,25||\n",
    "|C|0,35||\n",
    "|D|0,40||\n",
    "|E|0,50||\n",
    "\n",
    "Pour être plus précis, on va stocker les valeurs dans des tableaux. Il est recommandé d'utiliser des variables bien différenciées :\n",
    "- tableaux de temps : `tB`, `tC`, `tD` et `tE`\n",
    "- tableaux de concentrations : `CB`, `CC`, `CD` et `CE`\n",
    "- valeurs des constantes de vitesse : `kappB`, `kappC`, `kappD`, `kappE`\n",
    "- valeurs des concentrations issues du fit : `CB0`, `CC0`, `CD0`, `CE0`"
   ]
  },
  {
   "cell_type": "code",
   "execution_count": null,
   "id": "4f7c067a",
   "metadata": {
    "scrolled": true
   },
   "outputs": [],
   "source": [
    "# entrez votre code python dans cette cellule\n"
   ]
  },
  {
   "cell_type": "markdown",
   "id": "461bb454",
   "metadata": {},
   "source": [
    "**2.** Vérifiez graphiquement que chacun des ajustements reproduit bien chacun des jeux de données expérimentales. On organisera les tracés en définissant une mosaïque de 2x2 figures, à l'aide de la fonction `subplot_mosaic` de `matplotlib`."
   ]
  },
  {
   "cell_type": "code",
   "execution_count": null,
   "id": "8bba89c7",
   "metadata": {
    "scrolled": true
   },
   "outputs": [],
   "source": [
    "# entrez votre code python dans cette cellule\n"
   ]
  },
  {
   "cell_type": "markdown",
   "id": "2c0f448f",
   "metadata": {},
   "source": [
    "**3.** L'équation $\\ln(k_{\\mathrm{app}})=\\beta\\ln([\\mathrm{HO^-}]_0)+\\ln(k)$ est de la forme $y=ax+b$, avec $y\\equiv\\ln(k_{\\mathrm{app}})$, $a\\equiv\\beta$, $x\\equiv\\ln([\\mathrm{HO^-}]_0)$ et $b\\equiv\\ln(k)$.\n",
    "\n",
    "On va donc pouvoir déterminer $\\ln(k)$ et $\\beta$ en faisant une régression linéaire à l'aide de la fonction `linregress` du module `scipy.stats`. \n",
    "\n",
    "**a.** Recherchez $\\ln(k)$ et $\\beta$ par régression linéaire. Affichez également le coefficient de détermination $R^2$, qui est une mesure de la qualité de prédiction d’une régression linéaire. Calculez également $k$ (pour info, elle est exprimé en L.mol$^{-1}$.s$^{-1}$, ce qu'on démontrera pas dans le cadre de ce TP)"
   ]
  },
  {
   "cell_type": "code",
   "execution_count": null,
   "id": "e6ece08f",
   "metadata": {
    "scrolled": true
   },
   "outputs": [],
   "source": [
    "# entrez votre code python dans cette cellule\n"
   ]
  },
  {
   "cell_type": "markdown",
   "id": "ad0a92be",
   "metadata": {},
   "source": [
    "**b.** Même si vous avez probablement trouvé une valeur de $R^2$ très proche de 1, il est toujours prudent de vérifier graphiquement la qualité de la régression, c'est-à-dire dans ce cas $\\ln(k_\\mathrm{app})$ en fonction de $\\ln(\\mathrm{[HO^-]})$\n",
    "\n",
    "- Construisez une droite à partir des coefficients trouvés. On tracera une droite de couleur rouge.\n",
    "- Reportez les valeurs de $\\ln(k_\\mathrm{app})$ déterminées pour chacune des cinq expériences (utiliser des ronds bleus)."
   ]
  },
  {
   "cell_type": "code",
   "execution_count": 8,
   "id": "d589f7e6",
   "metadata": {
    "scrolled": true
   },
   "outputs": [],
   "source": [
    "# entrez votre code python dans cette cellule\n"
   ]
  },
  {
   "cell_type": "code",
   "execution_count": 9,
   "id": "d0ca2367",
   "metadata": {
    "scrolled": true
   },
   "outputs": [
    {
     "data": {
      "text/markdown": [
       "**Fin à:** Monday 21 November 2022, 09:46:34  \n",
       "**Durée:** 00:01:57 427ms"
      ],
      "text/plain": [
       "<IPython.core.display.Markdown object>"
      ]
     },
     "metadata": {},
     "output_type": "display_data"
    },
    {
     "data": {
      "text/markdown": [
       "<p style=\"text-align: center\"><img width=\"800px\" src=\"../config/svg/logoFin.svg\" style=\"margin-left:auto; margin-right:auto\"/></p>"
      ],
      "text/plain": [
       "<IPython.core.display.Markdown object>"
      ]
     },
     "metadata": {},
     "output_type": "display_data"
    }
   ],
   "source": [
    "###############################################################################################\n",
    "# supprimez cette cellule si vous exécutez ce notebook en-dehors de la distribution CHIM2-ON1 #\n",
    "###############################################################################################\n",
    "\n",
    "vID.end(cwd0)"
   ]
  },
  {
   "cell_type": "code",
   "execution_count": null,
   "id": "4c7671d4-2705-441f-a705-3dd99a67ae7a",
   "metadata": {
    "scrolled": true
   },
   "outputs": [],
   "source": []
  }
 ],
 "metadata": {
  "kernelspec": {
   "display_name": "Python 3 (ipykernel)",
   "language": "python",
   "name": "python3"
  },
  "language_info": {
   "codemirror_mode": {
    "name": "ipython",
    "version": 3
   },
   "file_extension": ".py",
   "mimetype": "text/x-python",
   "name": "python",
   "nbconvert_exporter": "python",
   "pygments_lexer": "ipython3",
   "version": "3.9.6"
  }
 },
 "nbformat": 4,
 "nbformat_minor": 5
}
