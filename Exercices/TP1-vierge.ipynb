{
 "cells": [
  {
   "cell_type": "code",
   "execution_count": 1,
   "id": "a031484a",
   "metadata": {},
   "outputs": [
    {
     "data": {
      "text/html": [
       "<style>\n",
       "h1, h2, h3, h4, h5, h6 {\n",
       "  font-family: Verdana, \"DejaVu Sans\", \"Bitstream Vera Sans\", Geneva, sans-serif;\n",
       "  font-weight: bold;\n",
       "}\n",
       "body {\n",
       "  font-family: Verdana, \"DejaVu Sans\", \"Bitstream Vera Sans\", Geneva, sans-serif;\n",
       "  font-weight: 200;\n",
       "}\n",
       "h1 {\n",
       "  border: 0 solid #333;\n",
       "  padding: 30px ;\n",
       "  color: white;\n",
       "  background: #b11d01;\n",
       "  text-align: center;\n",
       "}\n",
       "h2 {\n",
       "  border: 3px solid #333;\n",
       "  padding: 18px ;\n",
       "  color: #b11d01;\n",
       "  background: #ffffff;\n",
       "  text-align: center;\n",
       "}\n",
       "h3 {\n",
       "  border: 0 solid #333;\n",
       "  padding: 12px ;\n",
       "  color: #000000;\n",
       "  background: #c1c1c1;\n",
       "  text-align: left;\n",
       "}\n",
       "h4 {\n",
       "  border: 0 solid #333;\n",
       "  padding: 2px ;\n",
       "  color: #000000;\n",
       "  background: #d9fffc;\n",
       "  text-align: left;\n",
       "}\n",
       "h5 {\n",
       "  border: 1px solid #333;\n",
       "  padding: 2px ;\n",
       "  color: #000000;\n",
       "  background: #ffffff;\n",
       "  text-align: left;\n",
       "}\n",
       ".warn {    \n",
       "    background-color: #fcf2f2;\n",
       "    border-color: #dFb5b4;\n",
       "    border-left: 5px solid #dfb5b4;\n",
       "    padding: 0.5em;\n",
       "    font-weight: 200;\n",
       "    }\n",
       ".rq {    \n",
       "    background-color: #e2e2e2;\n",
       "    border-color: #969696;\n",
       "    border-left: 5px solid #969696;\n",
       "    padding: 0.5em;\n",
       "    font-weight: 200;\n",
       "    }\n",
       "</style>\n"
      ],
      "text/plain": [
       "<IPython.core.display.HTML object>"
      ]
     },
     "metadata": {},
     "output_type": "display_data"
    },
    {
     "data": {
      "text/markdown": [
       "**Début à:** Thursday 21 September 2023, 10:43:49  \n",
       "**Hostname:** yggdrasil.private.univ-tlse3.fr (Darwin)"
      ],
      "text/plain": [
       "<IPython.core.display.Markdown object>"
      ]
     },
     "metadata": {},
     "output_type": "display_data"
    },
    {
     "data": {
      "text/markdown": [
       "<p style=\"text-align: center\"><img width=\"800px\" src=\"../config/svg/logoDebut.svg\" style=\"margin-left:auto; margin-right:auto\"/></p>"
      ],
      "text/plain": [
       "<IPython.core.display.Markdown object>"
      ]
     },
     "metadata": {},
     "output_type": "display_data"
    }
   ],
   "source": [
    "###############################################################################################\n",
    "# supprimez cette cellule si vous exécutez ce notebook en-dehors de la distribution CHIM2-ON1 #\n",
    "###############################################################################################\n",
    "\n",
    "import os\n",
    "import sys\n",
    "\n",
    "cwd0 = \"../config/\"\n",
    "sys.path.append(cwd0)\n",
    "                            \n",
    "import visualID as vID\n",
    "from visualID import color\n",
    "vID.init(cwd0)"
   ]
  },
  {
   "cell_type": "markdown",
   "id": "fa6df19e-e946-4534-82c9-37683316e133",
   "metadata": {},
   "source": [
    "# TP1. Exercices sur les listes\n",
    "## 1. Liste des alcalins\n",
    "**1.** Créer une liste `alcalin` contenant les chaînes de caractères Li, Na, K et Rb (liste de métal alcalin)et une autre liste `numAtom` qui contient respectivement les numéros atomiques de chacun de ces éléments : 3, 11, 19,37. Afficher ces 2 listes"
   ]
  },
  {
   "cell_type": "code",
   "execution_count": 2,
   "id": "636f1089-4b72-4729-8f1c-9949c45095d0",
   "metadata": {},
   "outputs": [
    {
     "name": "stdout",
     "output_type": "stream",
     "text": [
      "['Li']\n"
     ]
    }
   ],
   "source": [
    "# entrez votre code python dans cette cellule\n",
    "alcalin = ['Li']\n",
    "print(alcalin)"
   ]
  },
  {
   "cell_type": "markdown",
   "id": "9f16d788-3745-46bb-8d38-89a6b07f4187",
   "metadata": {},
   "source": [
    "**2.** En demandant à l’utilisateur le numéro dans la liste d’un élément (compris entre 1 et 4) afficher le nom de l’élément correspondant et sa masse atomique."
   ]
  },
  {
   "cell_type": "code",
   "execution_count": 3,
   "id": "2d0dd861-5c4c-464b-9052-c44756117104",
   "metadata": {},
   "outputs": [],
   "source": [
    "# entrez votre code python dans cette cellule\n"
   ]
  },
  {
   "cell_type": "markdown",
   "id": "f020444f-c62c-4741-b831-0db621745a3c",
   "metadata": {},
   "source": [
    "**3a.** Créer les listes `alcalin2` contenant Cs et Fr et `numAtom2` contenant 55 et 87 qui correspondent aux données pour les métaux alcalins manquants dans les listes précédentes."
   ]
  },
  {
   "cell_type": "code",
   "execution_count": 4,
   "id": "d4e337c9-78ae-447c-b350-6b87bc623ab3",
   "metadata": {},
   "outputs": [],
   "source": [
    "# entrez votre code python dans cette cellule\n"
   ]
  },
  {
   "cell_type": "markdown",
   "id": "7afe13b2",
   "metadata": {},
   "source": [
    "**3b.** A partir de ces 2 listes, compléter les listes `alcalin` et `numAtom`."
   ]
  },
  {
   "cell_type": "code",
   "execution_count": 5,
   "id": "ef98b337",
   "metadata": {},
   "outputs": [],
   "source": [
    "# entrez votre code python dans cette cellule\n"
   ]
  },
  {
   "cell_type": "markdown",
   "id": "b6a1b7a3",
   "metadata": {},
   "source": [
    "**3c.** Vérifier en affichant `alcalin` et `numAtom` et tester en affichant le nom du sixième élément et sa masse atomique"
   ]
  },
  {
   "cell_type": "code",
   "execution_count": 6,
   "id": "50c35369",
   "metadata": {},
   "outputs": [],
   "source": [
    "# entrez votre code python dans cette cellule\n"
   ]
  },
  {
   "cell_type": "markdown",
   "id": "1b7142f8",
   "metadata": {},
   "source": [
    "**4.** Sans compter le nombre d’éléments, afficher le dernier élément de la liste alcalin."
   ]
  },
  {
   "cell_type": "code",
   "execution_count": 7,
   "id": "399bacc8",
   "metadata": {},
   "outputs": [],
   "source": [
    "# entrez votre code python dans cette cellule\n"
   ]
  },
  {
   "cell_type": "markdown",
   "id": "e9b2d287",
   "metadata": {},
   "source": [
    "**5.** Afficher tous les éléments de la liste sauf le premier."
   ]
  },
  {
   "cell_type": "code",
   "execution_count": 8,
   "id": "165e9023",
   "metadata": {},
   "outputs": [],
   "source": [
    "# entrez votre code python dans cette cellule\n"
   ]
  },
  {
   "cell_type": "markdown",
   "id": "13c01e0d",
   "metadata": {},
   "source": [
    "**6.** Afficher le nombre de métaux alcalins en utilisant 2 fonctions différentes."
   ]
  },
  {
   "cell_type": "code",
   "execution_count": 9,
   "id": "0e339fda",
   "metadata": {},
   "outputs": [],
   "source": [
    "# entrez votre code python dans cette cellule\n"
   ]
  },
  {
   "cell_type": "markdown",
   "id": "50ee58a7",
   "metadata": {},
   "source": [
    "**7.** Afficher tous les éléments de la liste sauf les deux derniers"
   ]
  },
  {
   "cell_type": "code",
   "execution_count": 10,
   "id": "9a121057",
   "metadata": {},
   "outputs": [],
   "source": [
    "# entrez votre code python dans cette cellule\n"
   ]
  },
  {
   "cell_type": "markdown",
   "id": "58a8473d",
   "metadata": {},
   "source": [
    "**8.** Afficher tous les éléments de la liste à l’envers"
   ]
  },
  {
   "cell_type": "code",
   "execution_count": 11,
   "id": "14de23b1",
   "metadata": {},
   "outputs": [],
   "source": [
    "# entrez votre code python dans cette cellule\n"
   ]
  },
  {
   "cell_type": "markdown",
   "id": "9f92b521",
   "metadata": {},
   "source": [
    "**9.** En utilisant une liste de listes, écrire une liste unique `alcalinMetal` qui contient à la fois\n",
    "le symbole de ces métaux et leur numéro atomique."
   ]
  },
  {
   "cell_type": "code",
   "execution_count": 12,
   "id": "e4f4bd3d",
   "metadata": {},
   "outputs": [],
   "source": [
    "# entrez votre code python dans cette cellule\n"
   ]
  },
  {
   "cell_type": "markdown",
   "id": "6bc8c796",
   "metadata": {},
   "source": [
    "**10.** En demandant à l’utilisateur le numéro dans la liste `alcalinMetal` d’un élément (compris\n",
    "entre 1 et 4) afficher le nom de l’élément correspondant et son numéro atomique en utilisant\n",
    "`alcalinMetal`"
   ]
  },
  {
   "cell_type": "code",
   "execution_count": 13,
   "id": "8ce1bcf9",
   "metadata": {},
   "outputs": [],
   "source": [
    "# entrez votre code python dans cette cellule\n"
   ]
  },
  {
   "cell_type": "markdown",
   "id": "e8e075ed",
   "metadata": {},
   "source": [
    "## 2. Génération de listes d'entiers"
   ]
  },
  {
   "cell_type": "markdown",
   "id": "93a2cabb",
   "metadata": {},
   "source": [
    "**1.**  Générer une liste d’entiers allant de 0 à 10 compris"
   ]
  },
  {
   "cell_type": "code",
   "execution_count": 14,
   "id": "d9a551fa",
   "metadata": {},
   "outputs": [],
   "source": [
    "# entrez votre code python dans cette cellule\n"
   ]
  },
  {
   "cell_type": "markdown",
   "id": "294d71a8",
   "metadata": {},
   "source": [
    "**2.** Générer une liste d’entiers allant de 0 à 10 compris avec seulement les éléments pairs"
   ]
  },
  {
   "cell_type": "code",
   "execution_count": 15,
   "id": "0c5496c6",
   "metadata": {},
   "outputs": [],
   "source": [
    "# entrez votre code python dans cette cellule\n"
   ]
  },
  {
   "cell_type": "markdown",
   "id": "8eed0def",
   "metadata": {},
   "source": [
    "**3.** Générer une liste d’entiers allant de 5 à 20 compris"
   ]
  },
  {
   "cell_type": "code",
   "execution_count": 16,
   "id": "44016463",
   "metadata": {},
   "outputs": [],
   "source": [
    "# entrez votre code python dans cette cellule\n"
   ]
  },
  {
   "cell_type": "markdown",
   "id": "275ac0b5",
   "metadata": {},
   "source": [
    "**4.**  Générer une liste d’entiers allant de 5 à -10 compris"
   ]
  },
  {
   "cell_type": "code",
   "execution_count": 17,
   "id": "11042ebe",
   "metadata": {},
   "outputs": [],
   "source": [
    "# entrez votre code python dans cette cellule\n"
   ]
  },
  {
   "cell_type": "markdown",
   "id": "371bdf8e",
   "metadata": {},
   "source": [
    "## 3. Quelques boucles simples"
   ]
  },
  {
   "cell_type": "markdown",
   "id": "2ee9da85",
   "metadata": {},
   "source": [
    "### 3.1 Boucle while\n",
    "En utilisant une boucle while, faire afficher une table de conversion de la monnaie européenne, l'euro, en monnaie chinoise, le renminbi. 1 euro = 7.7 renminbi\n",
    "\n",
    "1) La progression des sommes de la table sera comme dans l'exemple ci-dessous :\n",
    "\n",
    "1 euro(s) = 7.7 renminbis\n",
    "\n",
    "2 euro(s) = 15.4 renminbis\n",
    "\n",
    "3 euro(s) = 23.1 renminbis\n",
    "\n",
    "4 euro(s) = 30.8 renminbis\n",
    "\n",
    "etc.\n",
    "\n",
    "Vous devez arrèter le tableaux à 10 euros"
   ]
  },
  {
   "cell_type": "code",
   "execution_count": null,
   "id": "9a25757a",
   "metadata": {},
   "outputs": [],
   "source": []
  },
  {
   "cell_type": "markdown",
   "id": "b7d49d6c",
   "metadata": {},
   "source": [
    "2) Proposez une autre table dont la progression sera comme dans le nouvel exemple ci-dessous :\n",
    "\n",
    "1 euro(s) = 7.7 renminbis\n",
    "\n",
    "2 euro(s) = 15.4 renminbis\n",
    "\n",
    "4 euro(s) = 23.1 renminbis\n",
    "\n",
    "8 euro(s) = 30.8 renminbis\n",
    "\n",
    "etc.\n",
    "\n",
    "Vous devez arrèter le tableaux à 64 euros"
   ]
  },
  {
   "cell_type": "code",
   "execution_count": null,
   "id": "01d0c795",
   "metadata": {},
   "outputs": [],
   "source": []
  },
  {
   "cell_type": "markdown",
   "id": "b508d22f",
   "metadata": {},
   "source": [
    "### 3.2 Boucle for\n",
    "Reproduisez le dernier exercice avec une boucle for au lieu d'une boucle while. "
   ]
  },
  {
   "cell_type": "code",
   "execution_count": null,
   "id": "afe5906a",
   "metadata": {},
   "outputs": [],
   "source": []
  },
  {
   "cell_type": "markdown",
   "id": "9a32006f",
   "metadata": {},
   "source": [
    "## 4. Remplir une liste avec des éléments saisis par l’utilisateur"
   ]
  },
  {
   "cell_type": "markdown",
   "id": "72689161",
   "metadata": {},
   "source": [
    "**1.** En utilisant une structure `for`, demander à l’utilisateur de saisir les différents métaux alcalins (un par un) que vous placerez dans une liste `alcalin` et les numéros atomiques correspondant dans une liste `numAtom`. Cette dernière liste devra contenir des entiers. Les différents métaux alcalins sont donnés dans l’exercice 1.\n",
    "\n",
    "*Piste* : Vous partirez de listes vides que vous remplirez au fur et à mesure en utilisant append."
   ]
  },
  {
   "cell_type": "code",
   "execution_count": 18,
   "id": "9175ab3a",
   "metadata": {},
   "outputs": [],
   "source": [
    "# entrez votre code python dans cette cellule\n"
   ]
  },
  {
   "cell_type": "markdown",
   "id": "3904a68a",
   "metadata": {},
   "source": [
    "**2.** Après la saisie de l’ensemble des éléments, afficher sous la forme :\n",
    "\n",
    "* élément : Li; numéro atomique : 3\n",
    "* élément : Na; numéro atomique :11\n",
    "* et ainsi de suite ..."
   ]
  },
  {
   "cell_type": "code",
   "execution_count": 19,
   "id": "6e8fa334",
   "metadata": {},
   "outputs": [],
   "source": [
    "# entrez votre code python dans cette cellule\n"
   ]
  },
  {
   "cell_type": "markdown",
   "id": "bb130c11",
   "metadata": {},
   "source": [
    "## 5. Dosage des ions Calcium et Magnesium dans de l’eau\n",
    "\n",
    "Des mesures par dosage de la concentration en ions Calcium et Magnesium sont réalisées. À partir d’une série de mesures, vous allez calculer des grandeurs caractéristiques de cette série. Afin de générer artificiellement cette série de mesures, vous téléchargerez depuis moodle le fichier `genereConcentration.py`. Vous écrirez en début de votre programme les lignes suivantes qui appellent la fonction `genereC` du module `genereConcentration` pour créer une liste appelée C de N concentrations mesurées.\n",
    "\n",
    "```\n",
    "import genereConcentration as gc\n",
    "N = 150\n",
    "C = gc.genereC(N)\n",
    "print (C)\n",
    "```\n",
    "\n",
    "**Dans cet exercice, vous n’utiliserez pas le module `pylab` pour répondre aux questions 1 à 3.**"
   ]
  },
  {
   "cell_type": "code",
   "execution_count": 20,
   "id": "18718c99",
   "metadata": {},
   "outputs": [
    {
     "name": "stdout",
     "output_type": "stream",
     "text": [
      "[4.08357, 4.2453, 4.06449, 3.83056, 4.26591, 4.35471, 3.97811, 3.84129, 4.14617, 4.3241, 4.04697, 4.14611, 4.07409, 4.01555, 3.99012, 3.86473, 4.50375, 3.967, 4.09752, 3.45806, 4.13412, 4.1129, 4.16187, 3.74121, 3.891, 3.71253, 3.94107, 4.12122, 3.96584, 4.20981, 3.89308, 4.07955, 3.87684, 4.23863, 3.73193, 3.60691, 4.21389, 3.9308, 3.96876, 4.0794, 3.95078, 3.98129, 3.95447, 4.3439, 3.90041, 4.37367, 3.71345, 4.06126, 3.96396, 3.82844, 4.20654, 3.36531, 4.10671, 4.11914, 3.90215, 4.11434, 3.64214, 4.11918, 4.02365, 4.14536, 3.78045, 4.26454, 4.0917, 3.73223, 3.77959, 3.90139, 4.15654, 4.19859, 3.7954, 4.07183, 4.25837, 3.957, 4.03647, 4.04901, 4.47336, 4.54043, 3.91788, 4.03071, 3.9828, 3.90487, 3.89056, 4.29422, 4.00715, 3.88435, 4.17391, 3.83372, 3.95128, 3.97869, 4.06337, 3.71379, 4.16322, 3.97079, 4.13211, 4.11578, 4.09156, 4.19658, 3.96262, 3.93727, 4.30276, 3.67862, 4.1791, 4.04516, 4.02036, 4.15461, 3.86465, 3.9243, 3.78393, 3.72619, 3.58995, 4.09115, 4.2188, 4.45975, 3.60366, 3.74112, 3.72343, 3.81522, 4.06308, 4.34864, 3.75793, 3.90789, 3.68984, 3.80333, 4.14485, 3.87407, 4.03148, 4.25151, 4.15732, 4.10169, 4.16369, 3.68774, 4.07873, 3.75299, 3.91418, 4.225, 3.42701, 4.40555, 3.96964, 4.10651, 4.25944, 4.17043, 3.8027, 4.09956, 4.35716, 3.8435, 4.29178, 4.1754, 4.16818, 4.25944, 3.78934, 4.30277]\n"
     ]
    }
   ],
   "source": [
    "# génération des concentrations\n",
    "import genereConcentration as gc\n",
    "N = 150\n",
    "C = gc.genereC(N)\n",
    "print (C)"
   ]
  },
  {
   "cell_type": "markdown",
   "id": "8c89c5fa",
   "metadata": {},
   "source": [
    "**1.**  Calculer la moyenne de la concentration, $\\bar{c}$, qu'on appelera `cmoy`"
   ]
  },
  {
   "cell_type": "code",
   "execution_count": 21,
   "id": "244a0ed5",
   "metadata": {},
   "outputs": [],
   "source": [
    "# entrez votre code python dans cette cellule\n"
   ]
  },
  {
   "cell_type": "markdown",
   "id": "02007def",
   "metadata": {},
   "source": [
    "**2.** Trouver le minimum et le maximum de la concentration"
   ]
  },
  {
   "cell_type": "code",
   "execution_count": 22,
   "id": "c4e1d9d3",
   "metadata": {},
   "outputs": [],
   "source": [
    "# entrez votre code python dans cette cellule\n"
   ]
  },
  {
   "cell_type": "markdown",
   "id": "3b97ff36",
   "metadata": {},
   "source": [
    "**3.** Calculer l’écart-type de la série de mesure. On donne la formule permettant le calcul de l’écart-type :\n",
    "\n",
    "$$\\sigma=\\sqrt{\\frac{1}{N}\\sum_{i=1}^{N}(c_{i}-\\bar{c})^{2}}$$\n",
    "\n",
    "où $N$ est le nombre de valeurs de la série de concentrations générée par `genereC`. Les $c_i$ correspondent aux\n",
    "éléments de la matrice des concentrations `C` générée par ce code."
   ]
  },
  {
   "cell_type": "code",
   "execution_count": 23,
   "id": "015a66d3",
   "metadata": {},
   "outputs": [],
   "source": [
    "# entrez votre code python dans cette cellule\n"
   ]
  },
  {
   "cell_type": "markdown",
   "id": "a442b4b3",
   "metadata": {},
   "source": [
    "**4.** Vérifier maintenant à l'aide des fonctions `mean()`, `min()`, `max()`, `std()` du module `pylab`"
   ]
  },
  {
   "cell_type": "code",
   "execution_count": 24,
   "id": "15067f78",
   "metadata": {},
   "outputs": [],
   "source": [
    "# entrez votre code python dans cette cellule\n"
   ]
  },
  {
   "cell_type": "code",
   "execution_count": 2,
   "id": "16c95e7f",
   "metadata": {},
   "outputs": [
    {
     "data": {
      "text/markdown": [
       "**Fin à:** Thursday 03 November 2022, 21:27:15  \n",
       "**Durée:** 00:00:10 430ms"
      ],
      "text/plain": [
       "<IPython.core.display.Markdown object>"
      ]
     },
     "metadata": {},
     "output_type": "display_data"
    },
    {
     "data": {
      "text/markdown": [
       "<p style=\"text-align: center\"><img width=\"800px\" src=\"../config/svg/logoFin.svg\" style=\"margin-left:auto; margin-right:auto\"/></p>"
      ],
      "text/plain": [
       "<IPython.core.display.Markdown object>"
      ]
     },
     "metadata": {},
     "output_type": "display_data"
    }
   ],
   "source": [
    "###############################################################################################\n",
    "# supprimez cette cellule si vous exécutez ce notebook en-dehors de la distribution CHIM2-ON1 #\n",
    "###############################################################################################\n",
    "\n",
    "vID.end(cwd0)"
   ]
  },
  {
   "cell_type": "code",
   "execution_count": null,
   "id": "d545dfb7",
   "metadata": {},
   "outputs": [],
   "source": []
  }
 ],
 "metadata": {
  "kernelspec": {
   "display_name": "Python 3 (ipykernel)",
   "language": "python",
   "name": "python3"
  },
  "language_info": {
   "codemirror_mode": {
    "name": "ipython",
    "version": 3
   },
   "file_extension": ".py",
   "mimetype": "text/x-python",
   "name": "python",
   "nbconvert_exporter": "python",
   "pygments_lexer": "ipython3",
   "version": "3.9.6"
  }
 },
 "nbformat": 4,
 "nbformat_minor": 5
}
