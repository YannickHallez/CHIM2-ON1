{
 "cells": [
  {
   "cell_type": "markdown",
   "id": "fa6df19e-e946-4534-82c9-37683316e133",
   "metadata": {},
   "source": [
    "# TP1. Exercice sur les listes\n",
    "## 1. Liste des alcalins\n",
    "**1.** Créer une liste `alcalin` contenant les chaînes de caractères Li, Na, K et Rb (liste de métal alcalin)et une autre liste `numAtom` qui contient respectivement les numéros atomiques de chacun de ces éléments : 3, 11, 19,37. Afficher ces 2 listes"
   ]
  },
  {
   "cell_type": "code",
   "execution_count": 42,
   "id": "636f1089-4b72-4729-8f1c-9949c45095d0",
   "metadata": {},
   "outputs": [],
   "source": [
    "# entrez votre code python dans cette cellule\n"
   ]
  },
  {
   "cell_type": "markdown",
   "id": "9f16d788-3745-46bb-8d38-89a6b07f4187",
   "metadata": {},
   "source": [
    "**2.** En demandant à l’utilisateur le numéro dans la liste d’un élément (compris entre 1 et 4) afficher le nom de l’élément correspondant et sa masse atomique."
   ]
  },
  {
   "cell_type": "code",
   "execution_count": 43,
   "id": "2d0dd861-5c4c-464b-9052-c44756117104",
   "metadata": {},
   "outputs": [],
   "source": [
    "# entrez votre code python dans cette cellule\n"
   ]
  },
  {
   "cell_type": "markdown",
   "id": "f020444f-c62c-4741-b831-0db621745a3c",
   "metadata": {},
   "source": [
    "**3a.** Créer les listes `alcalin2` contenant Cs et Fr et `numAtom2` contenant 55 et 87 qui correspondent aux données pour les métaux alcalins manquants dans les listes précédentes."
   ]
  },
  {
   "cell_type": "code",
   "execution_count": 44,
   "id": "d4e337c9-78ae-447c-b350-6b87bc623ab3",
   "metadata": {},
   "outputs": [],
   "source": [
    "# entrez votre code python dans cette cellule\n"
   ]
  },
  {
   "cell_type": "markdown",
   "id": "7afe13b2",
   "metadata": {},
   "source": [
    "**3b.** A partir de ces 2 listes, compléter les listes `alcalin` et `numAtom`."
   ]
  },
  {
   "cell_type": "code",
   "execution_count": 45,
   "id": "ef98b337",
   "metadata": {},
   "outputs": [],
   "source": [
    "# entrez votre code python dans cette cellule\n"
   ]
  },
  {
   "cell_type": "markdown",
   "id": "b6a1b7a3",
   "metadata": {},
   "source": [
    "**3c.** Vérifier en affichant `alcalin` et `numAtom` et tester en affichant le nom du sixième élément et sa masse atomique"
   ]
  },
  {
   "cell_type": "code",
   "execution_count": 46,
   "id": "50c35369",
   "metadata": {},
   "outputs": [],
   "source": [
    "# entrez votre code python dans cette cellule\n"
   ]
  },
  {
   "cell_type": "markdown",
   "id": "1b7142f8",
   "metadata": {},
   "source": [
    "**4.** Sans compter le nombre d’éléments, afficher le dernier élément de la liste alcalin."
   ]
  },
  {
   "cell_type": "code",
   "execution_count": 47,
   "id": "399bacc8",
   "metadata": {},
   "outputs": [],
   "source": [
    "# entrez votre code python dans cette cellule\n"
   ]
  },
  {
   "cell_type": "markdown",
   "id": "e9b2d287",
   "metadata": {},
   "source": [
    "**5.** Afficher tous les éléments de la liste sauf le premier."
   ]
  },
  {
   "cell_type": "code",
   "execution_count": 48,
   "id": "165e9023",
   "metadata": {},
   "outputs": [],
   "source": [
    "# entrez votre code python dans cette cellule\n"
   ]
  },
  {
   "cell_type": "markdown",
   "id": "13c01e0d",
   "metadata": {},
   "source": [
    "**6.** Afficher le nombre de métaux alcalins en utilisant 2 fonctions différentes."
   ]
  },
  {
   "cell_type": "code",
   "execution_count": 49,
   "id": "0e339fda",
   "metadata": {},
   "outputs": [],
   "source": [
    "# entrez votre code python dans cette cellule\n"
   ]
  },
  {
   "cell_type": "markdown",
   "id": "50ee58a7",
   "metadata": {},
   "source": [
    "**7.** Afficher tous les éléments de la liste sauf les deux derniers"
   ]
  },
  {
   "cell_type": "code",
   "execution_count": 50,
   "id": "9a121057",
   "metadata": {},
   "outputs": [],
   "source": [
    "# entrez votre code python dans cette cellule\n"
   ]
  },
  {
   "cell_type": "markdown",
   "id": "58a8473d",
   "metadata": {},
   "source": [
    "**8.** Afficher tous les éléments de la liste à l’envers"
   ]
  },
  {
   "cell_type": "code",
   "execution_count": 51,
   "id": "14de23b1",
   "metadata": {},
   "outputs": [],
   "source": [
    "# entrez votre code python dans cette cellule\n"
   ]
  },
  {
   "cell_type": "markdown",
   "id": "e8e075ed",
   "metadata": {},
   "source": [
    "## 2. Génération de listes d'entiers"
   ]
  },
  {
   "cell_type": "markdown",
   "id": "93a2cabb",
   "metadata": {},
   "source": [
    "**1.**  Générer une liste d’entiers allant de 0 à 10 compris"
   ]
  },
  {
   "cell_type": "code",
   "execution_count": 52,
   "id": "d9a551fa",
   "metadata": {},
   "outputs": [],
   "source": [
    "# entrez votre code python dans cette cellule\n"
   ]
  },
  {
   "cell_type": "markdown",
   "id": "294d71a8",
   "metadata": {},
   "source": [
    "**2.** Générer une liste d’entiers allant de 0 à 10 compris avec seulement les éléments pairs"
   ]
  },
  {
   "cell_type": "code",
   "execution_count": 53,
   "id": "0c5496c6",
   "metadata": {},
   "outputs": [],
   "source": [
    "# entrez votre code python dans cette cellule\n"
   ]
  },
  {
   "cell_type": "markdown",
   "id": "8eed0def",
   "metadata": {},
   "source": [
    "**3.** Générer une liste d’entiers allant de 5 à 20 compris"
   ]
  },
  {
   "cell_type": "code",
   "execution_count": 54,
   "id": "44016463",
   "metadata": {},
   "outputs": [],
   "source": [
    "# entrez votre code python dans cette cellule\n"
   ]
  },
  {
   "cell_type": "markdown",
   "id": "275ac0b5",
   "metadata": {},
   "source": [
    "**4.**  Générer une liste d’entiers allant de 5 à -10 compris"
   ]
  },
  {
   "cell_type": "code",
   "execution_count": 55,
   "id": "11042ebe",
   "metadata": {},
   "outputs": [],
   "source": [
    "# entrez votre code python dans cette cellule\n"
   ]
  },
  {
   "cell_type": "markdown",
   "id": "9a32006f",
   "metadata": {},
   "source": [
    "## 3. Remplir une liste avec des éléments saisis par l’utilisateur"
   ]
  },
  {
   "cell_type": "markdown",
   "id": "72689161",
   "metadata": {},
   "source": [
    "**1.** En utilisant une structure `for`, demander à l’utilisateur de saisir les différents métaux alcalins (un par un) que vous placerez dans une liste `alcalin` et les numéros atomiques correspondant dans une liste `numAtom`. Cette dernière liste devra contenir des entiers. Les différents métaux alcalins sont donnés dans l’exercice 1.\n",
    "\n",
    "*Piste* : Vous partirez de listes vides que vous remplirez au fur et à mesure en utilisant append."
   ]
  },
  {
   "cell_type": "code",
   "execution_count": 56,
   "id": "9175ab3a",
   "metadata": {},
   "outputs": [],
   "source": [
    "# entrez votre code python dans cette cellule\n"
   ]
  },
  {
   "cell_type": "markdown",
   "id": "3904a68a",
   "metadata": {},
   "source": [
    "**2.** Après la saisie de l’ensemble des éléments, afficher sous la forme :\n",
    "\n",
    "* élément : Li; numéro atomique : 3\n",
    "* élément : Na; numéro atomique :11\n",
    "* et ainsi de suite ..."
   ]
  },
  {
   "cell_type": "code",
   "execution_count": 57,
   "id": "6e8fa334",
   "metadata": {},
   "outputs": [],
   "source": [
    "# entrez votre code python dans cette cellule\n"
   ]
  },
  {
   "cell_type": "markdown",
   "id": "bb130c11",
   "metadata": {},
   "source": [
    "## 4. Dosage des ions Calcium et Magnesium dans de l’eau\n",
    "\n",
    "Des mesures par dosage de la concentration en ions Calcium et Magnesium sont réalisées. À partir d’une série de mesures, vous allez calculer des grandeurs caractéristiques de cette série. Afin de générer artificiellement cette série de mesures, vous téléchargerez depuis moodle le fichier `genereConcentration.py`. Vous écrirez en début de votre programme les lignes suivantes qui appellent la fonction `genereC` du module `genereConcentration` pour créer une liste appelée C de N concentrations mesurées.\n",
    "\n",
    "```\n",
    "import genereConcentration as gc\n",
    "N = 150\n",
    "C = gc.genereC(N)\n",
    "print (C)\n",
    "```\n",
    "\n",
    "**Dans cet exercice, vous n’utiliserez pas le module `pylab` pour répondre aux questions 1 à 3.**"
   ]
  },
  {
   "cell_type": "code",
   "execution_count": null,
   "id": "18718c99",
   "metadata": {},
   "outputs": [],
   "source": [
    "# génération des concentrations\n",
    "import genereConcentration as gc\n",
    "N = 150\n",
    "C = gc.genereC(N)\n",
    "print (C)"
   ]
  },
  {
   "cell_type": "markdown",
   "id": "8c89c5fa",
   "metadata": {},
   "source": [
    "**1.**  Calculer la moyenne de la concentration, $\\bar{c}$, qu'on appelera `cmoy`"
   ]
  },
  {
   "cell_type": "code",
   "execution_count": 58,
   "id": "244a0ed5",
   "metadata": {},
   "outputs": [],
   "source": [
    "# entrez votre code python dans cette cellule\n"
   ]
  },
  {
   "cell_type": "markdown",
   "id": "02007def",
   "metadata": {},
   "source": [
    "**2.** Trouver le minimum et le maximum de la concentration"
   ]
  },
  {
   "cell_type": "code",
   "execution_count": 59,
   "id": "c4e1d9d3",
   "metadata": {},
   "outputs": [],
   "source": [
    "# entrez votre code python dans cette cellule\n"
   ]
  },
  {
   "cell_type": "markdown",
   "id": "3b97ff36",
   "metadata": {},
   "source": [
    "**3.** Calculer l’écart-type de la série de mesure. On donne la formule permettant le calcul de l’écart-type :\n",
    "\n",
    "$$\\sigma=\\sqrt{\\frac{1}{N}\\sum_{i=1}^{N}(c_{i}-\\bar{c})^{2}}$$\n",
    "\n",
    "où $N$ est le nombre de valeurs de la série de concentrations générée par `genereC`. Les $c_i$ correspondent aux\n",
    "éléments de la matrice des concentrations `C` générée par ce code."
   ]
  },
  {
   "cell_type": "code",
   "execution_count": 60,
   "id": "015a66d3",
   "metadata": {},
   "outputs": [],
   "source": [
    "# entrez votre code python dans cette cellule\n"
   ]
  },
  {
   "cell_type": "markdown",
   "id": "a442b4b3",
   "metadata": {},
   "source": [
    "**4.** Vérifier maintenant à l'aide des fonctions `mean()`, `min()`, `max()`, `std()` du module `pylab`"
   ]
  },
  {
   "cell_type": "code",
   "execution_count": 1,
   "id": "15067f78",
   "metadata": {},
   "outputs": [],
   "source": [
    "# entrez votre code python dans cette cellule\n"
   ]
  }
 ],
 "metadata": {
  "kernelspec": {
   "display_name": "Python 3 (ipykernel)",
   "language": "python",
   "name": "python3"
  },
  "language_info": {
   "codemirror_mode": {
    "name": "ipython",
    "version": 3
   },
   "file_extension": ".py",
   "mimetype": "text/x-python",
   "name": "python",
   "nbconvert_exporter": "python",
   "pygments_lexer": "ipython3",
   "version": "3.9.12"
  }
 },
 "nbformat": 4,
 "nbformat_minor": 5
}
