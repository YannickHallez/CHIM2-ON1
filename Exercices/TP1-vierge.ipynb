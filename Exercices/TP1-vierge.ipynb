{
 "cells": [
  {
   "cell_type": "markdown",
   "id": "f2459da8",
   "metadata": {
    "colab_type": "text",
    "id": "view-in-github"
   },
   "source": [
    "<a href=\"https://colab.research.google.com/github/YannickHallez/CHIM2-ON1/blob/main/Copie_de_TP1_vierge_V23.ipynb\" target=\"_parent\"><img src=\"https://colab.research.google.com/assets/colab-badge.svg\" alt=\"Open In Colab\"/></a>"
   ]
  },
  {
   "cell_type": "code",
   "execution_count": 1,
   "id": "a031484a",
   "metadata": {
    "colab": {
     "base_uri": "https://localhost:8080/",
     "height": 387
    },
    "id": "a031484a",
    "outputId": "f22258d3-2c87-49dd-ebd7-f659085fa485"
   },
   "outputs": [
    {
     "ename": "NameError",
     "evalue": "name 'cd0' is not defined",
     "output_type": "error",
     "traceback": [
      "\u001b[0;31m---------------------------------------------------------------------------\u001b[0m",
      "\u001b[0;31mNameError\u001b[0m                                 Traceback (most recent call last)",
      "\u001b[0;32m/tmp/ipykernel_22076/1599696738.py\u001b[0m in \u001b[0;36m<module>\u001b[0;34m\u001b[0m\n\u001b[1;32m      7\u001b[0m \u001b[0;34m\u001b[0m\u001b[0m\n\u001b[1;32m      8\u001b[0m \u001b[0mcwd0\u001b[0m \u001b[0;34m=\u001b[0m \u001b[0;34m\"../config/\"\u001b[0m\u001b[0;34m\u001b[0m\u001b[0;34m\u001b[0m\u001b[0m\n\u001b[0;32m----> 9\u001b[0;31m \u001b[0msys\u001b[0m\u001b[0;34m.\u001b[0m\u001b[0mpath\u001b[0m\u001b[0;34m.\u001b[0m\u001b[0mappend\u001b[0m\u001b[0;34m(\u001b[0m\u001b[0mcd0\u001b[0m\u001b[0;34m)\u001b[0m\u001b[0;34m\u001b[0m\u001b[0;34m\u001b[0m\u001b[0m\n\u001b[0m\u001b[1;32m     10\u001b[0m \u001b[0;34m\u001b[0m\u001b[0m\n\u001b[1;32m     11\u001b[0m \u001b[0;32mimport\u001b[0m \u001b[0mvisualID\u001b[0m \u001b[0;32mas\u001b[0m \u001b[0mvID\u001b[0m\u001b[0;34m\u001b[0m\u001b[0;34m\u001b[0m\u001b[0m\n",
      "\u001b[0;31mNameError\u001b[0m: name 'cd0' is not defined"
     ]
    }
   ],
   "source": [
    "###############################################################################################\n",
    "# supprimez cette cellule si vous exécutez ce notebook en-dehors de la distribution CHIM2-ON1 #\n",
    "###############################################################################################\n",
    "\n",
    "import os\n",
    "import sys\n",
    "\n",
    "cwd0 = \"../config/\"\n",
    "sys.path.append(cd0)\n",
    "\n",
    "import visualID as vID\n",
    "from visualID import color\n",
    "vID.init(cwd0)"
   ]
  },
  {
   "cell_type": "markdown",
   "id": "fa6df19e-e946-4534-82c9-37683316e133",
   "metadata": {
    "id": "fa6df19e-e946-4534-82c9-37683316e133"
   },
   "source": [
    "# TP1. Exercices sur les listes\n",
    "## Exercices d'entrainement\n",
    "*Difficulté : 1/5*\n",
    "\n",
    "**1.** Dans une variable que vous appellerez `val`, stocker la liste [1,4,-6,12,1.55] et afficher son contenu."
   ]
  },
  {
   "cell_type": "code",
   "execution_count": null,
   "id": "Eo5MCMnJOhny",
   "metadata": {
    "id": "Eo5MCMnJOhny"
   },
   "outputs": [],
   "source": [
    "# entrez votre code python dans cette cellule"
   ]
  },
  {
   "cell_type": "markdown",
   "id": "nt2ZVe0QWRjF",
   "metadata": {
    "id": "nt2ZVe0QWRjF"
   },
   "source": [
    "**2.** Afficher le premier élément de la liste. On rappelle que pour accéder à un élément, l'indice de celui-ci dans le tableau se met entre crochets :[]. De plus, les indices d'un tableau commence à 0."
   ]
  },
  {
   "cell_type": "code",
   "execution_count": null,
   "id": "x0zmlhTTWRjM",
   "metadata": {
    "id": "x0zmlhTTWRjM"
   },
   "outputs": [],
   "source": [
    "# entrez votre code python dans cette cellule"
   ]
  },
  {
   "cell_type": "markdown",
   "id": "5b4_cNheOozo",
   "metadata": {
    "id": "5b4_cNheOozo"
   },
   "source": [
    "**3.** Afficher le troisième élément de la liste. On rappelle que pour accéder à un élément, l'indice de celui-ci dans le tableau se met entre crochets :[]. De plus, les indices d'un tableau commence à 0."
   ]
  },
  {
   "cell_type": "code",
   "execution_count": null,
   "id": "G8WI-7kBPFMT",
   "metadata": {
    "id": "G8WI-7kBPFMT"
   },
   "outputs": [],
   "source": [
    "# entrez votre code python dans cette cellule"
   ]
  },
  {
   "cell_type": "markdown",
   "id": "jY7zTDcGRu00",
   "metadata": {
    "id": "jY7zTDcGRu00"
   },
   "source": [
    "**4.** Afficher le dernier élément de la liste sans utiliser l'indice 4."
   ]
  },
  {
   "cell_type": "code",
   "execution_count": null,
   "id": "Seic0g2ERu04",
   "metadata": {
    "id": "Seic0g2ERu04"
   },
   "outputs": [],
   "source": [
    "# entrez votre code python dans cette cellule"
   ]
  },
  {
   "cell_type": "markdown",
   "id": "qnw650GqPonO",
   "metadata": {
    "id": "qnw650GqPonO"
   },
   "source": [
    "**5.** Afficher la sous-liste [4,-6,12] de la variable `val`\n",
    "\n",
    "  "
   ]
  },
  {
   "cell_type": "code",
   "execution_count": null,
   "id": "v_yasfFjPonU",
   "metadata": {
    "id": "v_yasfFjPonU"
   },
   "outputs": [],
   "source": [
    "# entrez votre code python dans cette cellule"
   ]
  },
  {
   "cell_type": "markdown",
   "id": "7fe1c620",
   "metadata": {},
   "source": [
    "**6.** En utilisant la fonction append(), ajouter à la liste un élément de valeur 5"
   ]
  },
  {
   "cell_type": "code",
   "execution_count": null,
   "id": "9dd005f8",
   "metadata": {},
   "outputs": [],
   "source": [
    "# entrez votre code python dans cette cellule"
   ]
  },
  {
   "cell_type": "markdown",
   "id": "qVqaaZOcNTAV",
   "metadata": {
    "id": "qVqaaZOcNTAV"
   },
   "source": [
    "\n",
    "## Exercice 1. Liste des alcalins\n",
    "\n",
    "*Difficulté : 2/5 puis 2,5/5 pour les questions 9 et 10*\n",
    "\n",
    "**1.** Créer une liste `alcalin` contenant les chaînes de caractères 'Li', 'Na', 'K' et 'Rb' (liste de métal alcalin) et une autre liste `numAtom` qui contient respectivement les numéros atomiques de chacun de ces éléments : 3, 11, 19,37. Afficher ces 2 listes"
   ]
  },
  {
   "cell_type": "code",
   "execution_count": null,
   "id": "636f1089-4b72-4729-8f1c-9949c45095d0",
   "metadata": {
    "id": "636f1089-4b72-4729-8f1c-9949c45095d0"
   },
   "outputs": [],
   "source": [
    "# entrez votre code python dans cette cellule"
   ]
  },
  {
   "cell_type": "markdown",
   "id": "9f16d788-3745-46bb-8d38-89a6b07f4187",
   "metadata": {
    "id": "9f16d788-3745-46bb-8d38-89a6b07f4187"
   },
   "source": [
    "**2.** En demandant à l’utilisateur le numéro dans la liste d’un élément (compris entre 1 et 4) afficher le nom de l’élément correspondant et sa masse atomique."
   ]
  },
  {
   "cell_type": "code",
   "execution_count": null,
   "id": "2d0dd861-5c4c-464b-9052-c44756117104",
   "metadata": {
    "id": "2d0dd861-5c4c-464b-9052-c44756117104"
   },
   "outputs": [],
   "source": [
    "# entrez votre code python dans cette cellule\n"
   ]
  },
  {
   "cell_type": "markdown",
   "id": "f020444f-c62c-4741-b831-0db621745a3c",
   "metadata": {
    "id": "f020444f-c62c-4741-b831-0db621745a3c"
   },
   "source": [
    "**3a.** Créer les listes `alcalin2` contenant Cs et Fr et `numAtom2` contenant 55 et 87 qui correspondent aux données pour les métaux alcalins manquants dans les listes précédentes."
   ]
  },
  {
   "cell_type": "code",
   "execution_count": null,
   "id": "d4e337c9-78ae-447c-b350-6b87bc623ab3",
   "metadata": {
    "id": "d4e337c9-78ae-447c-b350-6b87bc623ab3"
   },
   "outputs": [],
   "source": [
    "# entrez votre code python dans cette cellule\n"
   ]
  },
  {
   "cell_type": "markdown",
   "id": "7afe13b2",
   "metadata": {
    "id": "7afe13b2"
   },
   "source": [
    "**3b.** A partir de ces 2 listes, compléter les listes `alcalin` et `numAtom`."
   ]
  },
  {
   "cell_type": "code",
   "execution_count": null,
   "id": "ef98b337",
   "metadata": {
    "id": "ef98b337"
   },
   "outputs": [],
   "source": [
    "# entrez votre code python dans cette cellule\n"
   ]
  },
  {
   "cell_type": "markdown",
   "id": "b6a1b7a3",
   "metadata": {
    "id": "b6a1b7a3"
   },
   "source": [
    "**3c.** Vérifier en affichant `alcalin` et `numAtom` et tester en affichant le nom du sixième élément et sa masse atomique"
   ]
  },
  {
   "cell_type": "code",
   "execution_count": null,
   "id": "50c35369",
   "metadata": {
    "id": "50c35369"
   },
   "outputs": [],
   "source": [
    "# entrez votre code python dans cette cellule\n"
   ]
  },
  {
   "cell_type": "markdown",
   "id": "1b7142f8",
   "metadata": {
    "id": "1b7142f8"
   },
   "source": [
    "**4.** Sans compter le nombre d’éléments, afficher le dernier élément de la liste alcalin."
   ]
  },
  {
   "cell_type": "code",
   "execution_count": null,
   "id": "399bacc8",
   "metadata": {
    "id": "399bacc8"
   },
   "outputs": [],
   "source": [
    "# entrez votre code python dans cette cellule\n"
   ]
  },
  {
   "cell_type": "markdown",
   "id": "e9b2d287",
   "metadata": {
    "id": "e9b2d287"
   },
   "source": [
    "**5.** Afficher tous les éléments de la liste sauf le premier."
   ]
  },
  {
   "cell_type": "code",
   "execution_count": null,
   "id": "165e9023",
   "metadata": {
    "id": "165e9023"
   },
   "outputs": [],
   "source": [
    "# entrez votre code python dans cette cellule\n"
   ]
  },
  {
   "cell_type": "markdown",
   "id": "13c01e0d",
   "metadata": {
    "id": "13c01e0d"
   },
   "source": [
    "**6.** Afficher le nombre de métaux alcalins en utilisant 2 fonctions différentes."
   ]
  },
  {
   "cell_type": "code",
   "execution_count": null,
   "id": "0e339fda",
   "metadata": {
    "id": "0e339fda"
   },
   "outputs": [],
   "source": [
    "# entrez votre code python dans cette cellule\n"
   ]
  },
  {
   "cell_type": "markdown",
   "id": "50ee58a7",
   "metadata": {
    "id": "50ee58a7"
   },
   "source": [
    "**7.** Afficher tous les éléments de la liste sauf les deux derniers"
   ]
  },
  {
   "cell_type": "code",
   "execution_count": null,
   "id": "9a121057",
   "metadata": {
    "id": "9a121057"
   },
   "outputs": [],
   "source": [
    "# entrez votre code python dans cette cellule\n"
   ]
  },
  {
   "cell_type": "markdown",
   "id": "58a8473d",
   "metadata": {
    "id": "58a8473d"
   },
   "source": [
    "**8.** Afficher tous les éléments de la liste à l’envers"
   ]
  },
  {
   "cell_type": "code",
   "execution_count": null,
   "id": "14de23b1",
   "metadata": {
    "id": "14de23b1"
   },
   "outputs": [],
   "source": [
    "# entrez votre code python dans cette cellule\n"
   ]
  },
  {
   "cell_type": "markdown",
   "id": "9f92b521",
   "metadata": {
    "id": "9f92b521"
   },
   "source": [
    "**9.** En utilisant une liste de listes, écrire une liste unique `alcalinMetal` qui contient à la fois\n",
    "le symbole de ces métaux et leur numéro atomique."
   ]
  },
  {
   "cell_type": "code",
   "execution_count": null,
   "id": "e4f4bd3d",
   "metadata": {
    "id": "e4f4bd3d"
   },
   "outputs": [],
   "source": [
    "# entrez votre code python dans cette cellule\n"
   ]
  },
  {
   "cell_type": "markdown",
   "id": "6bc8c796",
   "metadata": {
    "id": "6bc8c796"
   },
   "source": [
    "**10.** En demandant à l’utilisateur le numéro dans la liste `alcalinMetal` d’un élément (compris\n",
    "entre 1 et 4) afficher le nom de l’élément correspondant et son numéro atomique en utilisant\n",
    "`alcalinMetal`"
   ]
  },
  {
   "cell_type": "code",
   "execution_count": null,
   "id": "8ce1bcf9",
   "metadata": {
    "id": "8ce1bcf9"
   },
   "outputs": [],
   "source": [
    "# entrez votre code python dans cette cellule\n"
   ]
  },
  {
   "cell_type": "markdown",
   "id": "e8e075ed",
   "metadata": {
    "id": "e8e075ed"
   },
   "source": [
    "## 2. Génération de listes d'entiers\n",
    "\n",
    "*Difficulté : 1/5*"
   ]
  },
  {
   "cell_type": "markdown",
   "id": "93a2cabb",
   "metadata": {
    "id": "93a2cabb"
   },
   "source": [
    "**1.**  Générer une liste d’entiers allant de 0 à 10 compris"
   ]
  },
  {
   "cell_type": "code",
   "execution_count": null,
   "id": "d9a551fa",
   "metadata": {
    "id": "d9a551fa"
   },
   "outputs": [],
   "source": [
    "# entrez votre code python dans cette cellule\n"
   ]
  },
  {
   "cell_type": "markdown",
   "id": "294d71a8",
   "metadata": {
    "id": "294d71a8"
   },
   "source": [
    "**2.** Générer une liste d’entiers allant de 0 à 10 compris avec seulement les éléments pairs"
   ]
  },
  {
   "cell_type": "code",
   "execution_count": null,
   "id": "0c5496c6",
   "metadata": {
    "id": "0c5496c6"
   },
   "outputs": [],
   "source": [
    "# entrez votre code python dans cette cellule\n"
   ]
  },
  {
   "cell_type": "markdown",
   "id": "8eed0def",
   "metadata": {
    "id": "8eed0def"
   },
   "source": [
    "**3.** Générer une liste d’entiers allant de 5 à 20 compris"
   ]
  },
  {
   "cell_type": "code",
   "execution_count": null,
   "id": "44016463",
   "metadata": {
    "id": "44016463"
   },
   "outputs": [],
   "source": [
    "# entrez votre code python dans cette cellule\n"
   ]
  },
  {
   "cell_type": "markdown",
   "id": "275ac0b5",
   "metadata": {
    "id": "275ac0b5"
   },
   "source": [
    "**4.**  Générer une liste d’entiers allant de 5 à -10 compris"
   ]
  },
  {
   "cell_type": "code",
   "execution_count": null,
   "id": "11042ebe",
   "metadata": {
    "id": "11042ebe"
   },
   "outputs": [],
   "source": [
    "# entrez votre code python dans cette cellule\n"
   ]
  },
  {
   "cell_type": "markdown",
   "id": "371bdf8e",
   "metadata": {
    "id": "371bdf8e"
   },
   "source": [
    "## 3. Quelques boucles simples\n",
    "\n",
    "*Difficulté : 1/5*"
   ]
  },
  {
   "cell_type": "markdown",
   "id": "2ee9da85",
   "metadata": {
    "id": "2ee9da85"
   },
   "source": [
    "### 3.1 Boucle while\n",
    "En utilisant une boucle while, faire afficher une table de conversion de la monnaie européenne, l'euro, en monnaie chinoise, le renminbi. 1 euro = 7.7 renminbi\n",
    "\n",
    "1) La progression des sommes de la table sera comme dans l'exemple ci-dessous :\n",
    "\n",
    "1 euro(s) = 7.7 renminbis\n",
    "\n",
    "2 euro(s) = 15.4 renminbis\n",
    "\n",
    "3 euro(s) = 23.1 renminbis\n",
    "\n",
    "4 euro(s) = 30.8 renminbis\n",
    "\n",
    "etc.\n",
    "\n",
    "Vous devez arrèter le tableaux à 10 euros"
   ]
  },
  {
   "cell_type": "code",
   "execution_count": null,
   "id": "9a25757a",
   "metadata": {
    "id": "9a25757a"
   },
   "outputs": [],
   "source": []
  },
  {
   "cell_type": "markdown",
   "id": "b7d49d6c",
   "metadata": {
    "id": "b7d49d6c"
   },
   "source": [
    "2) Proposez une autre table dont la progression sera comme dans le nouvel exemple ci-dessous :\n",
    "\n",
    "1 euro(s) = 7.7 renminbis\n",
    "\n",
    "2 euro(s) = 15.4 renminbis\n",
    "\n",
    "4 euro(s) = 23.1 renminbis\n",
    "\n",
    "8 euro(s) = 30.8 renminbis\n",
    "\n",
    "etc.\n",
    "\n",
    "Vous devez arrèter le tableaux à 64 euros"
   ]
  },
  {
   "cell_type": "code",
   "execution_count": null,
   "id": "01d0c795",
   "metadata": {
    "id": "01d0c795"
   },
   "outputs": [],
   "source": []
  },
  {
   "cell_type": "markdown",
   "id": "b508d22f",
   "metadata": {
    "id": "b508d22f"
   },
   "source": [
    "### 3.2 Boucle for\n",
    "Reproduisez le dernier exercice avec une boucle for au lieu d'une boucle while."
   ]
  },
  {
   "cell_type": "code",
   "execution_count": null,
   "id": "afe5906a",
   "metadata": {
    "id": "afe5906a"
   },
   "outputs": [],
   "source": []
  },
  {
   "cell_type": "markdown",
   "id": "9a32006f",
   "metadata": {
    "id": "9a32006f"
   },
   "source": [
    "## 4. Remplir une liste avec des éléments saisis par l’utilisateur\n",
    "\n",
    "*Difficulté : 1,5/5*"
   ]
  },
  {
   "cell_type": "markdown",
   "id": "72689161",
   "metadata": {
    "id": "72689161"
   },
   "source": [
    "**1.** En utilisant une structure `for`, demander à l’utilisateur de saisir les différents métaux alcalins (un par un) que vous placerez dans une liste `alcalin` et les numéros atomiques correspondant dans une liste `numAtom`. Cette dernière liste devra contenir des entiers. Les différents métaux alcalins sont donnés dans l’exercice 1.\n",
    "\n",
    "*Indice* : Vous partirez de listes vides que vous remplirez au fur et à mesure en utilisant append.\n",
    "\n",
    "On rappelle la liste des alcalins\n",
    "\n",
    "| nom | num atomique |\n",
    "|---|---|\n",
    "|Li|3 |\n",
    "|Na|11 |\n",
    "|K |19 |\n",
    "|Rb |37 |\n",
    "|Cs |55|"
   ]
  },
  {
   "cell_type": "code",
   "execution_count": null,
   "id": "9175ab3a",
   "metadata": {
    "id": "9175ab3a"
   },
   "outputs": [],
   "source": [
    "# entrez votre code python dans cette cellule\n"
   ]
  },
  {
   "cell_type": "markdown",
   "id": "3904a68a",
   "metadata": {
    "id": "3904a68a"
   },
   "source": [
    "**2.** Après la saisie de l’ensemble des éléments, afficher la liste des alcalins sous la forme :\n",
    "\n",
    "* élément : Li; numéro atomique : 3\n",
    "* élément : Na; numéro atomique :11\n",
    "* et ainsi de suite ..."
   ]
  },
  {
   "cell_type": "code",
   "execution_count": null,
   "id": "6e8fa334",
   "metadata": {
    "id": "6e8fa334"
   },
   "outputs": [],
   "source": [
    "# entrez votre code python dans cette cellule\n"
   ]
  },
  {
   "cell_type": "markdown",
   "id": "bb130c11",
   "metadata": {
    "id": "bb130c11"
   },
   "source": [
    "## 5. Dosage des ions Calcium et Magnesium dans de l’eau\n",
    "\n",
    "*Difficulté : 2/5*\n",
    "\n",
    "Des mesures par dosage de la concentration en ions Calcium et Magnesium sont réalisées. À partir d’une série de mesures, vous allez calculer des grandeurs caractéristiques de cette série. Afin de générer artificiellement cette série de mesures, vous téléchargerez depuis moodle le fichier `genereConcentration.py`. Vous écrirez en début de votre programme les lignes suivantes qui appellent la fonction `genereC` du module `genereConcentration` pour créer une liste appelée C de N concentrations mesurées.\n",
    "\n",
    "```\n",
    "import genereConcentration as gc\n",
    "N = 150\n",
    "C = gc.genereC(N)\n",
    "print (C)\n",
    "```\n",
    "\n",
    "**Dans cet exercice, vous n’utiliserez pas le module `pylab` pour répondre aux questions 1 à 3.**"
   ]
  },
  {
   "cell_type": "code",
   "execution_count": null,
   "id": "18718c99",
   "metadata": {
    "colab": {
     "base_uri": "https://localhost:8080/",
     "height": 387
    },
    "id": "18718c99",
    "outputId": "4dc0d4a3-798d-46a5-f784-ac7ce286b69a"
   },
   "outputs": [],
   "source": [
    "# génération des concentrations\n",
    "import genereConcentration as gc\n",
    "N = 150\n",
    "C = gc.genereC(N)\n",
    "print (C)"
   ]
  },
  {
   "cell_type": "markdown",
   "id": "8c89c5fa",
   "metadata": {
    "id": "8c89c5fa"
   },
   "source": [
    "**1.**  Calculer la moyenne de la concentration, $\\bar{c}$, qu'on appelera `cmoy`"
   ]
  },
  {
   "cell_type": "code",
   "execution_count": null,
   "id": "244a0ed5",
   "metadata": {
    "id": "244a0ed5"
   },
   "outputs": [],
   "source": [
    "# entrez votre code python dans cette cellule\n"
   ]
  },
  {
   "cell_type": "markdown",
   "id": "02007def",
   "metadata": {
    "id": "02007def"
   },
   "source": [
    "**2.** Trouver le minimum et le maximum de la concentration"
   ]
  },
  {
   "cell_type": "code",
   "execution_count": null,
   "id": "c4e1d9d3",
   "metadata": {
    "id": "c4e1d9d3"
   },
   "outputs": [],
   "source": [
    "# entrez votre code python dans cette cellule\n"
   ]
  },
  {
   "cell_type": "markdown",
   "id": "3b97ff36",
   "metadata": {
    "id": "3b97ff36"
   },
   "source": [
    "**3.** Calculer l’écart-type de la série de mesure. On donne la formule permettant le calcul de l’écart-type :\n",
    "\n",
    "$$\\sigma=\\sqrt{\\frac{1}{N}\\sum_{i=1}^{N}(c_{i}-\\bar{c})^{2}}$$\n",
    "\n",
    "où $N$ est le nombre de valeurs de la série de concentrations générée par `genereC`. Les $c_i$ correspondent aux\n",
    "éléments de la matrice des concentrations `C` générée par ce code."
   ]
  },
  {
   "cell_type": "code",
   "execution_count": null,
   "id": "015a66d3",
   "metadata": {
    "id": "015a66d3"
   },
   "outputs": [],
   "source": [
    "# entrez votre code python dans cette cellule\n"
   ]
  },
  {
   "cell_type": "markdown",
   "id": "a442b4b3",
   "metadata": {
    "id": "a442b4b3"
   },
   "source": [
    "**4.** Vérifier maintenant à l'aide des fonctions `mean()`, `min()`, `max()`, `std()` du module `pylab`"
   ]
  },
  {
   "cell_type": "code",
   "execution_count": null,
   "id": "15067f78",
   "metadata": {
    "id": "15067f78"
   },
   "outputs": [],
   "source": [
    "# entrez votre code python dans cette cellule\n"
   ]
  },
  {
   "cell_type": "code",
   "execution_count": null,
   "id": "16c95e7f",
   "metadata": {
    "id": "16c95e7f",
    "outputId": "7ccd4e6d-2aea-4fa4-ef03-344b08b85e88"
   },
   "outputs": [],
   "source": [
    "###############################################################################################\n",
    "# supprimez cette cellule si vous exécutez ce notebook en-dehors de la distribution CHIM2-ON1 #\n",
    "###############################################################################################\n",
    "\n",
    "vID.end(cwd0)"
   ]
  },
  {
   "cell_type": "code",
   "execution_count": null,
   "id": "d545dfb7",
   "metadata": {
    "id": "d545dfb7"
   },
   "outputs": [],
   "source": []
  }
 ],
 "metadata": {
  "colab": {
   "include_colab_link": true,
   "provenance": []
  },
  "kernelspec": {
   "display_name": "Python 3",
   "language": "python",
   "name": "python3"
  },
  "language_info": {
   "codemirror_mode": {
    "name": "ipython",
    "version": 3
   },
   "file_extension": ".py",
   "mimetype": "text/x-python",
   "name": "python",
   "nbconvert_exporter": "python",
   "pygments_lexer": "ipython3",
   "version": "3.9.13"
  }
 },
 "nbformat": 4,
 "nbformat_minor": 5
}
