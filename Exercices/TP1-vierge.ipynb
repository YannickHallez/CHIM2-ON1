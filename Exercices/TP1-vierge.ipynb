{
 "cells": [
  {
   "cell_type": "markdown",
   "id": "fa6df19e-e946-4534-82c9-37683316e133",
   "metadata": {},
   "source": [
    "# Exercice sur les listes\n",
    "## 1. Liste des alcalins\n",
    "**1.** Créer une liste `alcalin` contenant les chaînes de caractères Li, Na, K et Rb (liste de métal alcalin)et une autre liste `numAtom` qui contient respectivement les numéros atomiques de chacun de ces éléments : 3, 11, 19,37. Afficher ces 2 listes"
   ]
  },
  {
   "cell_type": "code",
   "execution_count": 42,
   "id": "636f1089-4b72-4729-8f1c-9949c45095d0",
   "metadata": {},
   "outputs": [],
   "source": [
    "# entrez votre code python dans cette cellule\n"
   ]
  },
  {
   "cell_type": "markdown",
   "id": "9f16d788-3745-46bb-8d38-89a6b07f4187",
   "metadata": {},
   "source": [
    "**2.** En demandant à l’utilisateur le numéro dans la liste d’un élément (compris entre 1 et 4) afficher le nom de l’élément correspondant et sa masse atomique."
   ]
  },
  {
   "cell_type": "code",
   "execution_count": 43,
   "id": "2d0dd861-5c4c-464b-9052-c44756117104",
   "metadata": {},
   "outputs": [],
   "source": [
    "# entrez votre code python dans cette cellule\n"
   ]
  },
  {
   "cell_type": "markdown",
   "id": "f020444f-c62c-4741-b831-0db621745a3c",
   "metadata": {},
   "source": [
    "**3a.** Créer les listes `alcalin2` contenant Cs et Fr et `numAtom2` contenant 55 et 87 qui correspondent aux données pour les métaux alcalins manquants dans les listes précédentes."
   ]
  },
  {
   "cell_type": "code",
   "execution_count": 44,
   "id": "d4e337c9-78ae-447c-b350-6b87bc623ab3",
   "metadata": {},
   "outputs": [],
   "source": [
    "# entrez votre code python dans cette cellule\n"
   ]
  },
  {
   "cell_type": "markdown",
   "id": "fc2fa224",
   "metadata": {},
   "source": [
    "**3b.** A partir de ces 2 listes, compléter les listes `alcalin` et `numAtom`."
   ]
  },
  {
   "cell_type": "code",
   "execution_count": 45,
   "id": "74ee8de8",
   "metadata": {},
   "outputs": [],
   "source": [
    "# entrez votre code python dans cette cellule\n"
   ]
  },
  {
   "cell_type": "markdown",
   "id": "1555de62",
   "metadata": {},
   "source": [
    "**3c.** Vérifier en affichant `alcalin` et `numAtom` et tester en affichant le nom du sixième élément et sa masse atomique"
   ]
  },
  {
   "cell_type": "code",
   "execution_count": 46,
   "id": "c4424fdd",
   "metadata": {},
   "outputs": [],
   "source": [
    "# entrez votre code python dans cette cellule\n"
   ]
  },
  {
   "cell_type": "markdown",
   "id": "efc755c1",
   "metadata": {},
   "source": [
    "**4.** Sans compter le nombre d’éléments, afficher le dernier élément de la liste alcalin."
   ]
  },
  {
   "cell_type": "code",
   "execution_count": 47,
   "id": "b6b1d8c0",
   "metadata": {},
   "outputs": [],
   "source": [
    "# entrez votre code python dans cette cellule\n"
   ]
  },
  {
   "cell_type": "markdown",
   "id": "fe028ea4",
   "metadata": {},
   "source": [
    "**5.** Afficher tous les éléments de la liste sauf le premier."
   ]
  },
  {
   "cell_type": "code",
   "execution_count": 48,
   "id": "139615c9",
   "metadata": {},
   "outputs": [],
   "source": [
    "# entrez votre code python dans cette cellule\n"
   ]
  },
  {
   "cell_type": "markdown",
   "id": "4e1245a9",
   "metadata": {},
   "source": [
    "**6.** Afficher le nombre de métaux alcalins en utilisant 2 fonctions différentes."
   ]
  },
  {
   "cell_type": "code",
   "execution_count": 49,
   "id": "37ba3a55",
   "metadata": {},
   "outputs": [],
   "source": [
    "# entrez votre code python dans cette cellule\n"
   ]
  },
  {
   "cell_type": "markdown",
   "id": "6ccb6ab5",
   "metadata": {},
   "source": [
    "**7.** Afficher tous les éléments de la liste sauf les deux derniers"
   ]
  },
  {
   "cell_type": "code",
   "execution_count": 50,
   "id": "d0691b65",
   "metadata": {},
   "outputs": [],
   "source": [
    "# entrez votre code python dans cette cellule\n"
   ]
  },
  {
   "cell_type": "markdown",
   "id": "918d78e4",
   "metadata": {},
   "source": [
    "**8.** Afficher tous les éléments de la liste à l’envers"
   ]
  },
  {
   "cell_type": "code",
   "execution_count": 51,
   "id": "c8a9150d",
   "metadata": {},
   "outputs": [],
   "source": [
    "# entrez votre code python dans cette cellule\n"
   ]
  },
  {
   "cell_type": "markdown",
   "id": "87baaf00",
   "metadata": {},
   "source": [
    "## 2. Génération de listes d'entiers"
   ]
  },
  {
   "cell_type": "markdown",
   "id": "8c490ad4",
   "metadata": {},
   "source": [
    "**1.**  Générer une liste d’entiers allant de 0 à 10 compris"
   ]
  },
  {
   "cell_type": "code",
   "execution_count": 52,
   "id": "958c3e72",
   "metadata": {},
   "outputs": [],
   "source": [
    "# entrez votre code python dans cette cellule\n"
   ]
  },
  {
   "cell_type": "markdown",
   "id": "81a8d16a",
   "metadata": {},
   "source": [
    "**2.** Générer une liste d’entiers allant de 0 à 10 compris avec seulement les éléments pairs"
   ]
  },
  {
   "cell_type": "code",
   "execution_count": 53,
   "id": "9dbe9937",
   "metadata": {},
   "outputs": [],
   "source": [
    "# entrez votre code python dans cette cellule\n"
   ]
  },
  {
   "cell_type": "markdown",
   "id": "ea621dad",
   "metadata": {},
   "source": [
    "**3.** Générer une liste d’entiers allant de 5 à 20 compris"
   ]
  },
  {
   "cell_type": "code",
   "execution_count": 54,
   "id": "dfcd4543",
   "metadata": {},
   "outputs": [],
   "source": [
    "# entrez votre code python dans cette cellule\n"
   ]
  },
  {
   "cell_type": "markdown",
   "id": "3db5b8f4",
   "metadata": {},
   "source": [
    "**4.**  Générer une liste d’entiers allant de 5 à -10 compris"
   ]
  },
  {
   "cell_type": "code",
   "execution_count": 55,
   "id": "c9c6c7db",
   "metadata": {},
   "outputs": [],
   "source": [
    "# entrez votre code python dans cette cellule\n"
   ]
  },
  {
   "cell_type": "markdown",
   "id": "b1fc1b20",
   "metadata": {},
   "source": [
    "## 3. Remplir une liste avec des éléments saisis par l’utilisateur"
   ]
  },
  {
   "cell_type": "markdown",
   "id": "88460823",
   "metadata": {},
   "source": [
    "**1.** En utilisant une structure `for`, demander à l’utilisateur de saisir les différents métaux alcalins (un par un) que vous placerez dans une liste `alcalin` et les numéros atomiques correspondant dans une liste `numAtom`. Cette dernière liste devra contenir des entiers. Les différents métaux alcalins sont donnés dans l’exercice 1.\n",
    "\n",
    "*Piste* : Vous partirez de listes vides que vous remplirez au fur et à mesure en utilisant append."
   ]
  },
  {
   "cell_type": "code",
   "execution_count": 56,
   "id": "9bc15a3c",
   "metadata": {},
   "outputs": [],
   "source": [
    "# entrez votre code python dans cette cellule\n"
   ]
  },
  {
   "cell_type": "markdown",
   "id": "a231c9ed",
   "metadata": {},
   "source": [
    "**2.** Après la saisie de l’ensemble des éléments, afficher sous la forme :\n",
    "\n",
    "* élément : Li; numéro atomique : 3\n",
    "* élément : Na; numéro atomique :11\n",
    "* et ainsi de suite ..."
   ]
  },
  {
   "cell_type": "code",
   "execution_count": 57,
   "id": "01115bd4",
   "metadata": {},
   "outputs": [],
   "source": [
    "# entrez votre code python dans cette cellule\n"
   ]
  },
  {
   "cell_type": "markdown",
   "id": "c22c4690",
   "metadata": {},
   "source": [
    "## 4. Dosage des ions Calcium et Magnesium dans de l’eau\n",
    "\n",
    "Des mesures par dosage de la concentration en ions Calcium et Magnesium sont réalisées. À partir d’une série de mesures, vous allez calculer des grandeurs caractéristiques de cette série. Afin de générer artificiellement cette série de mesures, vous téléchargerez depuis moodle le fichier `genereConcentration.py`. Vous écrirez en début de votre programme les lignes suivantes qui appellent la fonction `genereC` du module `genereConcentration` pour créer une liste appelée C de N concentrations mesurées.\n",
    "\n",
    "```\n",
    "import genereConcentration as gc\n",
    "N = 150\n",
    "C = gc. genereC (N)\n",
    "print (C)\n",
    "```\n",
    "\n",
    "**Dans cet exercice, vous n’utiliserez pas le module `pylab`**"
   ]
  },
  {
   "cell_type": "markdown",
   "id": "f8dc3fd3",
   "metadata": {},
   "source": [
    "**1.**  Calculer la moyenne de la concentration, $\\bar{c}$, qu'on appelera `cmoy`"
   ]
  },
  {
   "cell_type": "code",
   "execution_count": 58,
   "id": "3ee000ae",
   "metadata": {},
   "outputs": [],
   "source": [
    "# entrez votre code python dans cette cellule\n"
   ]
  },
  {
   "cell_type": "markdown",
   "id": "9eb799fc",
   "metadata": {},
   "source": [
    "**2.** Trouver le minimum et le maximum de la concentration"
   ]
  },
  {
   "cell_type": "code",
   "execution_count": 59,
   "id": "f72f0522",
   "metadata": {},
   "outputs": [],
   "source": [
    "# entrez votre code python dans cette cellule\n"
   ]
  },
  {
   "cell_type": "markdown",
   "id": "9e725402",
   "metadata": {},
   "source": [
    "Calculer l’écart-type de la série de mesure. On donne la formule permettant le calcul de l’écart-type :\n",
    "\n",
    "$$\\sigma=\\sqrt{\\frac{1}{N}\\sum_{i=1}^{N}(c_{i}-\\bar{c})^{2}}$$\n",
    "\n",
    "où $N$ est le nombre de valeurs de la série de concentrations générée par `genereC`. Les $c_i$ correspondent aux\n",
    "éléments de la matrice des concentrations `C` générée par le code ci-dessus."
   ]
  },
  {
   "cell_type": "code",
   "execution_count": 60,
   "id": "c11f5dc4",
   "metadata": {},
   "outputs": [],
   "source": [
    "# entrez votre code python dans cette cellule\n"
   ]
  }
 ],
 "metadata": {
  "kernelspec": {
   "display_name": "Python 3 (ipykernel)",
   "language": "python",
   "name": "python3"
  },
  "language_info": {
   "codemirror_mode": {
    "name": "ipython",
    "version": 3
   },
   "file_extension": ".py",
   "mimetype": "text/x-python",
   "name": "python",
   "nbconvert_exporter": "python",
   "pygments_lexer": "ipython3",
   "version": "3.9.12"
  }
 },
 "nbformat": 4,
 "nbformat_minor": 5
}
