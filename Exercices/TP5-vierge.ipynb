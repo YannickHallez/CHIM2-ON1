{
 "cells": [
  {
   "cell_type": "code",
   "execution_count": 2,
   "id": "45433400",
   "metadata": {},
   "outputs": [
    {
     "data": {
      "text/html": [
       "<style>\n",
       "h1, h2, h3, h4, h5, h6 {\n",
       "  font-family: Verdana, \"DejaVu Sans\", \"Bitstream Vera Sans\", Geneva, sans-serif;\n",
       "  font-weight: bold;\n",
       "}\n",
       "body {\n",
       "  font-family: Verdana, \"DejaVu Sans\", \"Bitstream Vera Sans\", Geneva, sans-serif;\n",
       "  font-weight: 200;\n",
       "}\n",
       "h1 {\n",
       "  border: 0 solid #333;\n",
       "  padding: 30px ;\n",
       "  color: white;\n",
       "  background: #b11d01;\n",
       "  text-align: center;\n",
       "}\n",
       "h2 {\n",
       "  border: 3px solid #333;\n",
       "  padding: 18px ;\n",
       "  color: #b11d01;\n",
       "  background: #ffffff;\n",
       "  text-align: center;\n",
       "}\n",
       "h3 {\n",
       "  border: 0 solid #333;\n",
       "  padding: 12px ;\n",
       "  color: #000000;\n",
       "  background: #c1c1c1;\n",
       "  text-align: left;\n",
       "}\n",
       "h4 {\n",
       "  border: 0 solid #333;\n",
       "  padding: 2px ;\n",
       "  color: #000000;\n",
       "  background: #d9fffc;\n",
       "  text-align: left;\n",
       "}\n",
       "h5 {\n",
       "  border: 1px solid #333;\n",
       "  padding: 2px ;\n",
       "  color: #000000;\n",
       "  background: #ffffff;\n",
       "  text-align: left;\n",
       "}\n",
       ".warn {    \n",
       "    background-color: #fcf2f2;\n",
       "    border-color: #dFb5b4;\n",
       "    border-left: 5px solid #dfb5b4;\n",
       "    padding: 0.5em;\n",
       "    font-weight: 200;\n",
       "    }\n",
       ".rq {    \n",
       "    background-color: #e2e2e2;\n",
       "    border-color: #969696;\n",
       "    border-left: 5px solid #969696;\n",
       "    padding: 0.5em;\n",
       "    font-weight: 200;\n",
       "    }\n",
       "</style>\n"
      ],
      "text/plain": [
       "<IPython.core.display.HTML object>"
      ]
     },
     "metadata": {},
     "output_type": "display_data"
    },
    {
     "data": {
      "text/markdown": [
       "**Début à:** Wednesday 07 December 2022, 09:09:03  \n",
       "**Hostname:** heimdall (Darwin)"
      ],
      "text/plain": [
       "<IPython.core.display.Markdown object>"
      ]
     },
     "metadata": {},
     "output_type": "display_data"
    },
    {
     "data": {
      "text/markdown": [
       "<p style=\"text-align: center\"><img width=\"800px\" src=\"../config/svg/logoDebut.svg\" style=\"margin-left:auto; margin-right:auto\"/></p>"
      ],
      "text/plain": [
       "<IPython.core.display.Markdown object>"
      ]
     },
     "metadata": {},
     "output_type": "display_data"
    }
   ],
   "source": [
    "###############################################################################################\n",
    "#\n",
    "# exécutez cette cellule avant d'utiliser le reste du notebook\n",
    "#\n",
    "# supprimez-là si vous exécutez ce notebook en-dehors de la distribution CHIM2-ON1 #\n",
    "#\n",
    "###############################################################################################\n",
    "\n",
    "import os\n",
    "import sys\n",
    "\n",
    "cwd0 = \"../config/\"\n",
    "sys.path.append(cwd0)\n",
    "                            \n",
    "import visualID as vID\n",
    "from visualID import color\n",
    "vID.init(cwd0)"
   ]
  },
  {
   "cell_type": "markdown",
   "id": "f5cc23dd",
   "metadata": {},
   "source": [
    "# TP. Exercices sur l'intégration numérique et la résolution d'équations. \n",
    "\n",
    "## Exercice 1. Petits Exercices d'intégration. \n",
    "\n",
    "1. Calculez numériquement l'intégrale de $f(x)=e^{3x^2+1}$ entre 1 et 2. \n",
    "\n",
    "2. Calculez numériquement l'intégrale de $g(t,A,B) = \\cos(At+B)$ pour A=2, B=3, et t entre 3.5 et 6. \n",
    "\n",
    "3. Calculez numériquement l'intégrale de la fonction donnée par les abscisses x = 3, 4, 5, 6, 8, 10 et ordonnées h = 1, 2, 3.6, 0.4, -2, 6. \n"
   ]
  },
  {
   "cell_type": "code",
   "execution_count": 3,
   "id": "7e0ea913",
   "metadata": {},
   "outputs": [],
   "source": [
    "# A completer... "
   ]
  },
  {
   "cell_type": "markdown",
   "id": "5af02eb8",
   "metadata": {},
   "source": [
    "## Exercice 2. Quantité de dioxygène transférée dans l'eau.\n",
    "\n",
    "On enlève un maximum de dioxygène contenu dans de l'eau pour réaliser une expérience. La concentration est alors de  $C_0 = 0.1\\,mol/m^3$. Cette eau est dans un Becher de hauteur $H=0.1$ m et de diamètre $d=0.05$ m, posé sur une paillasse. Avec le temps, le dioxygène contenu dans l'air va contaminer l'eau à nouveau. Tant que le dioxygène dissout n'a pas diffusé jusqu'au fond du Becher, le champ de concentration en $O_2$ dans l'eau est \n",
    "$$C(z,t) = C_e + (C_0 - C_e) \\text{erf}\\left\\{ \\frac{z}{2\\sqrt{Dt}} \\right\\} $$\n",
    "avec $C_e=7.143\\,mol/m^3$ la concentration en $O_2$ à l'interface eau-air, $z$ la coordonnée qui vaut 0 à l'interface eau-air et qui est positive en rentrant dans l'eau, $D=1.95\\,10^{-9}\\,m^2/s$ le coefficient de diffusion du dioxygène dans l'eau et $t$ le temps en secondes. Pour un temps $t$ donné, la quantité totale de dioxygène dans l'eau (en mol) est : \n",
    "$$N = S\\int_0^H C(z,t) dz$$\n",
    "où $S = \\pi d^2/4$ est la section du Becher. \n",
    "\n",
    "Le but du calcul proposé est d'évaluer au bout de combien de temps la concentration en $O_2$ dans l'eau remonte à un niveau problématique pour mener à bien l'expérience prévue. Pour ceci, il faut évaluer l'intégrale ci-dessus pour différents temps, mais le problème est qu'il n'existe pas de primitive pour la fonction erf. Le calcul doit donc se faire numériquement. \n",
    "\n",
    "1. Définissez une fonction Python C(z, t) qui retourne la solution théorique ci-dessus. $C_0$, $C_e$ et $D$ seront considérées comme des variables globales. \n",
    "\n",
    "2. Tracez les profils C(z) pour des temps de 1 minute, 30 minutes, 2 heures, 8 heures, 24 heures. Votre graphe aura des labels pour les axes, avec les unités, et une légende. \n",
    "\n",
    "3. Calculez la quantité de dioxygène dans l'eau au bout de 2 heures. Si tout va bien, vous devriez trouver environ $7.81\\,10^{-5}$ mol.\n",
    "\n",
    "4. Définissez un tableau numpy `t` avec 100 valeurs du temps entre 1 s et 24 h et construisez un tableau ou une liste contenant les 100 valeurs de `N` associées. \n",
    "\n",
    "5. Déduisez-en un tableau contenant la concentration moyenne Cmoy = N/Volume en mol/L. \n",
    "\n",
    "6. Tracez `Cmoy` en fonction du temps en heures sur un graphique soigné avec axes, labels, etc. \n",
    "\n",
    "7. De combien de temps environ dispose-t-on si l'expérience doit être réalisée pour $C < 0.6$ mM ?\n",
    "\n",
    "8. (Optionnel) Ecrivez une fonction qui revoie Cmoy à partir d'une valeur de t donnée en entrée et utilisez fsolve pour trouver la valeur de t limite. "
   ]
  },
  {
   "cell_type": "code",
   "execution_count": 4,
   "id": "7241be39",
   "metadata": {},
   "outputs": [],
   "source": [
    "# A completer"
   ]
  },
  {
   "cell_type": "markdown",
   "id": "05387b78",
   "metadata": {},
   "source": [
    "## Exercice 3. Aires des pics de RMN. \n",
    "\n",
    "1. Définissez les indices des bornes intégration dans des tableaux b_CH2 et b_CH3, pour les pics de CH2 et CH3 respectivement : pour ceci, la distance $d$ (en termes d'indices) entre deux pics d'un même groupe vous est fournie. Les bornes autour de chaque pic d'indice $i$ seront prises comme l'indice du pic $\\pm d//2$. Le CH2 ayant 4 pics, il faudra définir 5 points dans b_CH2. Le CH3 ayant 3 pics, il faudra définir 4 points dans b_CH3.\n",
    "\n",
    "2. Tracez I en fonction de ppm, puis tracez les bornes d'integration avec des cercles noirs. \n",
    "\n",
    "3. Calculez les aires de chaque pic dans les groupes CH2 et CH3. Vous les stockerez dans des tableaux numpy `aires_CH2` et `aires_CH3`. \n",
    "\n",
    "4. Vérifiez que la somme des aires des pics du CH2 est égale à 2/3 de la somme des aires des pics du CH3. \n",
    "\n",
    "5. Vérifiez que les aires des pics suivent bien la règle du triangle de pascal. "
   ]
  },
  {
   "cell_type": "code",
   "execution_count": 1,
   "id": "82ed64ef",
   "metadata": {},
   "outputs": [],
   "source": [
    "#---------------------------------------------------------------------#\n",
    "# Chargement des donnees, detection des pics, calcul de la distance d #\n",
    "#---------------------------------------------------------------------#\n",
    "from scipy.integrate import simps\n",
    "from pylab import * \n",
    "ppm, I = genfromtxt('EthanolNMRData.dat', unpack=True) \n",
    "ppm2 = ppm.copy() \n",
    "I2 = I.copy()\n",
    "ppm2[I<1e5] = NaN\n",
    "I2[I<1e5] = NaN\n",
    "from itertools import groupby\n",
    "result = [list(v) for k,v in groupby(I2,np.isfinite) if k]\n",
    "N = len(result) \n",
    "listeIndices = []\n",
    "for i in range(N):\n",
    "    maxpic = max(result[i])\n",
    "    listeIndices.append( where(I==maxpic)[0][0] )\n",
    "ppmMax = ppm[listeIndices]\n",
    "Imax   = I  [listeIndices]\n",
    "d      = (listeIndices[4]-listeIndices[1])//3      # moyenne des distances entre les pics du CH2\n",
    "#---------------------------------------------------------------------#\n",
    "\n",
    "# A completer... "
   ]
  },
  {
   "cell_type": "markdown",
   "id": "5b17e1c6",
   "metadata": {},
   "source": [
    "## Exercice 4 : hauteur de remplissage d'un réservoir sphérique (résolution d'équation)\n",
    "\n",
    "Soit un réservoir sphérique de rayon $r=1$ m. On désire connaître la hauteur de fluide dans ce réservoir pour un volume total de fluide $V$. Cette hauteur répond à l'équation : \n",
    "$$ h= sqrt \\left( \\frac{h^3+\\frac{3V}{\\pi}}{3r} \\right)$$\n",
    "\n",
    "Vous pourrez initialiser vos calculs avec une hauteur correspondant à un réservoir à moitié plein.\n",
    "\n",
    "1. Quel sera la hauteur du liquide pour un volume de liquide $V=0.6$ m$^3$ ?"
   ]
  },
  {
   "cell_type": "code",
   "execution_count": 6,
   "id": "3f7d8116",
   "metadata": {},
   "outputs": [],
   "source": [
    "#compléter"
   ]
  },
  {
   "cell_type": "markdown",
   "id": "e0112093",
   "metadata": {},
   "source": [
    "2. En appelant $V_r=\\frac{4}{3}\\pi r^3$ le volume total du réacteur et $H_m=2*r$ la hauteur maximale de fluide dans le réservoir, on définit les grandeurs adimensionnelles $V^*=\\dfrac{V}{V_r}$ et $h^*=\\dfrac{h}{H_m}$. \n",
    "\n",
    "Tracer $h^*$ en fonction de $V^*$ pour  $V^*$ compris entre 0.01 et 0.99."
   ]
  },
  {
   "cell_type": "code",
   "execution_count": 7,
   "id": "89c1e46f",
   "metadata": {},
   "outputs": [],
   "source": [
    "#compléter"
   ]
  },
  {
   "cell_type": "markdown",
   "id": "9a4a1e4e",
   "metadata": {},
   "source": [
    "## Exercice 5 : Température d'ébullition\n",
    "\n",
    "On considère un mélange liquide de n-pentane et de n-hexane de fraction molaire respective $x_5$ et $x_6$. On rappelle que $x_5+x_6=1$. On désire connaître la température d'ébullition $T_e$ d'un tel mélange à la pression atmosphérique.\n",
    "\n",
    "D'après la loi de Raoult, l'ébullition a lieu quand \n",
    "$$ 760 = x_5 P_5^{\\mathrm{sat}} + x_6 P_6^{\\mathrm{sat}} $$\n",
    "\n",
    "On sait que\n",
    "    $$ \\log_{10}(P_5^{\\mathrm{sat}})=6.85-\\dfrac{1064}{232+T} $$\n",
    "et    \n",
    "    $$ \\log_{10}(P_6^{\\mathrm{sat}})=6.88-\\dfrac{1171}{242+T} $$\n",
    "    \n",
    "Les pressions $P_5^{\\mathrm{sat}}$ et $P_6^{\\mathrm{sat}}$ sont les pressions de vapeur saturante en mmHg respectivement pour le n-pentane et le n-hexane. $T$ est la température en °C. (il n'y a pas de conversion d'unité à faire dans cet exercice)\n",
    "    \n",
    "On vous demande de trouver la température d'ébullition d'un mélange équimolaire ($x_5 = x_6 = 0.5$). Vous pourrez initialiser votre procédure en prenant la température d'ébullition du pentane à la pression atmosphérique qui est d'environ 36 °C.\n",
    "    \n",
    "\n",
    "\n",
    "\n"
   ]
  },
  {
   "cell_type": "code",
   "execution_count": 8,
   "id": "543d3ed5",
   "metadata": {},
   "outputs": [],
   "source": [
    "#compléter"
   ]
  },
  {
   "cell_type": "code",
   "execution_count": 9,
   "id": "dc8d93d6",
   "metadata": {},
   "outputs": [
    {
     "data": {
      "text/markdown": [
       "**Fin à:** Wednesday 07 December 2022, 09:09:13  \n",
       "**Durée:** 00:00:10 838ms"
      ],
      "text/plain": [
       "<IPython.core.display.Markdown object>"
      ]
     },
     "metadata": {},
     "output_type": "display_data"
    },
    {
     "data": {
      "text/markdown": [
       "<p style=\"text-align: center\"><img width=\"800px\" src=\"../config/svg/logoFin.svg\" style=\"margin-left:auto; margin-right:auto\"/></p>"
      ],
      "text/plain": [
       "<IPython.core.display.Markdown object>"
      ]
     },
     "metadata": {},
     "output_type": "display_data"
    }
   ],
   "source": [
    "###############################################################################################\n",
    "# supprimez cette cellule si vous exécutez ce notebook en-dehors de la distribution CHIM2-ON1 #\n",
    "###############################################################################################\n",
    "\n",
    "vID.end(cwd0)"
   ]
  }
 ],
 "metadata": {
  "kernelspec": {
   "display_name": "Python 3 (ipykernel)",
   "language": "python",
   "name": "python3"
  },
  "language_info": {
   "codemirror_mode": {
    "name": "ipython",
    "version": 3
   },
   "file_extension": ".py",
   "mimetype": "text/x-python",
   "name": "python",
   "nbconvert_exporter": "python",
   "pygments_lexer": "ipython3",
   "version": "3.9.6"
  }
 },
 "nbformat": 4,
 "nbformat_minor": 5
}
