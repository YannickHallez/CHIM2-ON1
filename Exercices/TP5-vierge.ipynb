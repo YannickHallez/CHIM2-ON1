{
 "cells": [
  {
   "cell_type": "code",
   "execution_count": 1,
   "id": "dc15ebcf",
   "metadata": {},
   "outputs": [
    {
     "data": {
      "text/html": [
       "<style>\n",
       "h1, h2, h3, h4, h5, h6 {\n",
       "  font-family: Verdana, \"DejaVu Sans\", \"Bitstream Vera Sans\", Geneva, sans-serif;\n",
       "  font-weight: bold;\n",
       "}\n",
       "body {\n",
       "  font-family: Verdana, \"DejaVu Sans\", \"Bitstream Vera Sans\", Geneva, sans-serif;\n",
       "  font-weight: 200;\n",
       "}\n",
       "h1 {\n",
       "  border: 0 solid #333;\n",
       "  padding: 30px ;\n",
       "  color: white;\n",
       "  background: #b11d01;\n",
       "  text-align: center;\n",
       "}\n",
       "h2 {\n",
       "  border: 3px solid #333;\n",
       "  padding: 18px ;\n",
       "  color: #b11d01;\n",
       "  background: #ffffff;\n",
       "  text-align: center;\n",
       "}\n",
       "h3 {\n",
       "  border: 0 solid #333;\n",
       "  padding: 12px ;\n",
       "  color: #000000;\n",
       "  background: #c1c1c1;\n",
       "  text-align: left;\n",
       "}\n",
       "h4 {\n",
       "  border: 0 solid #333;\n",
       "  padding: 2px ;\n",
       "  color: #000000;\n",
       "  background: #d9fffc;\n",
       "  text-align: left;\n",
       "}\n",
       "h5 {\n",
       "  border: 1px solid #333;\n",
       "  padding: 2px ;\n",
       "  color: #000000;\n",
       "  background: #ffffff;\n",
       "  text-align: left;\n",
       "}\n",
       ".warn {    \n",
       "    background-color: #fcf2f2;\n",
       "    border-color: #dFb5b4;\n",
       "    border-left: 5px solid #dfb5b4;\n",
       "    padding: 0.5em;\n",
       "    font-weight: 200;\n",
       "    }\n",
       ".rq {    \n",
       "    background-color: #e2e2e2;\n",
       "    border-color: #969696;\n",
       "    border-left: 5px solid #969696;\n",
       "    padding: 0.5em;\n",
       "    font-weight: 200;\n",
       "    }\n",
       "</style>\n"
      ],
      "text/plain": [
       "<IPython.core.display.HTML object>"
      ]
     },
     "metadata": {},
     "output_type": "display_data"
    },
    {
     "data": {
      "text/markdown": [
       "**Début à:** Thursday 17 November 2022, 21:50:53  \n",
       "**Hostname:** heimdall (Darwin)"
      ],
      "text/plain": [
       "<IPython.core.display.Markdown object>"
      ]
     },
     "metadata": {},
     "output_type": "display_data"
    },
    {
     "data": {
      "text/markdown": [
       "<p style=\"text-align: center\"><img width=\"800px\" src=\"../config/svg/logoDebut.svg\" style=\"margin-left:auto; margin-right:auto\"/></p>"
      ],
      "text/plain": [
       "<IPython.core.display.Markdown object>"
      ]
     },
     "metadata": {},
     "output_type": "display_data"
    }
   ],
   "source": [
    "###############################################################################################\n",
    "#\n",
    "# exécutez cette cellule avant d'utiliser le reste du notebook\n",
    "#\n",
    "# supprimez-là si vous exécutez ce notebook en-dehors de la distribution CHIM2-ON1 #\n",
    "#\n",
    "###############################################################################################\n",
    "\n",
    "import os\n",
    "import sys\n",
    "\n",
    "cwd0 = \"../config/\"\n",
    "sys.path.append(cwd0)\n",
    "                            \n",
    "import visualID as vID\n",
    "from visualID import color\n",
    "vID.init(cwd0)"
   ]
  },
  {
   "cell_type": "markdown",
   "id": "ab62bf62",
   "metadata": {},
   "source": [
    "# TP. Exercices sur l'intégration numérique et la résolution d'équations. \n",
    "\n",
    "## Exercice 1. Petits Exercices d'intégration. \n",
    "\n",
    "1. Calculez numériquement l'intégrale de $f(x)=e^{3x^2+1}$ entre 1 et 2. \n",
    "\n",
    "2. Calculez numériquement l'intégrale de $g(t,a,b) = \\cos(At+B)$ pour A=2, B=3, et t entre 3.5 et 6. \n",
    "\n",
    "3. Calculez numériquement l'intégrale de la fonction donnée par les abscisses x = 3, 4, 5, 6, 8, 10 et ordonnées h = 1, 2, 3.6, 0.4, -2, 6. \n"
   ]
  },
  {
   "cell_type": "code",
   "execution_count": 7,
   "id": "cc59589d",
   "metadata": {},
   "outputs": [],
   "source": [
    "# A completer... "
   ]
  },
  {
   "cell_type": "markdown",
   "id": "2fbcee4e",
   "metadata": {},
   "source": [
    "## Exercice 2. Aires des pics de RMN. \n",
    "\n",
    "1. Définissez les indices des bornes intégration dans des tableaux b_CH2 et b_CH3, pour les pics de CH2 et CH3 respectivement : pour ceci, la distance $d$ (en termes d'indices) entre deux pics d'un même groupe vous est fournie. Les bornes autour de chaque pic d'indice $i$ seront prises comme l'indice du pic $\\pm d//2$. Le CH2 ayant 4 pics, il faudra définir 5 points dans b_CH2. Le CH3 ayant 3 pics, il faudra définir 4 points dans b_CH3.\n",
    "\n",
    "2. Tracez I en fonction de ppm, puis tracez les bornes d'integration avec des cercles noirs. \n",
    "\n",
    "3. Calculez les aires de chaque pic dans les groupes CH2 et CH3. Vous les stockerez dans des tableaux numpy `aires_CH2` et `aires_CH3`. \n",
    "\n",
    "4. Vérifiez que la somme des aires des pics du CH2 est égale à 2/3 de la somme des aires des pics du CH3. \n",
    "\n",
    "5. Vérifiez que les aires des pics suivent bien la règle du triangle de pascal. "
   ]
  },
  {
   "cell_type": "code",
   "execution_count": 2,
   "id": "eb14cac8",
   "metadata": {},
   "outputs": [],
   "source": [
    "# A completer... "
   ]
  },
  {
   "cell_type": "code",
   "execution_count": 2,
   "id": "3efac721",
   "metadata": {},
   "outputs": [
    {
     "data": {
      "text/markdown": [
       "**Fin à:** Wednesday 16 November 2022, 21:09:26  \n",
       "**Durée:** 00:01:29 789ms"
      ],
      "text/plain": [
       "<IPython.core.display.Markdown object>"
      ]
     },
     "metadata": {},
     "output_type": "display_data"
    },
    {
     "data": {
      "text/markdown": [
       "<p style=\"text-align: center\"><img width=\"800px\" src=\"../config/svg/logoFin.svg\" style=\"margin-left:auto; margin-right:auto\"/></p>"
      ],
      "text/plain": [
       "<IPython.core.display.Markdown object>"
      ]
     },
     "metadata": {},
     "output_type": "display_data"
    }
   ],
   "source": [
    "###############################################################################################\n",
    "# supprimez cette cellule si vous exécutez ce notebook en-dehors de la distribution CHIM2-ON1 #\n",
    "###############################################################################################\n",
    "\n",
    "vID.end(cwd0)"
   ]
  }
 ],
 "metadata": {
  "kernelspec": {
   "display_name": "Python 3",
   "language": "python",
   "name": "python3"
  },
  "language_info": {
   "codemirror_mode": {
    "name": "ipython",
    "version": 3
   },
   "file_extension": ".py",
   "mimetype": "text/x-python",
   "name": "python",
   "nbconvert_exporter": "python",
   "pygments_lexer": "ipython3",
   "version": "3.7.6"
  }
 },
 "nbformat": 4,
 "nbformat_minor": 5
}
