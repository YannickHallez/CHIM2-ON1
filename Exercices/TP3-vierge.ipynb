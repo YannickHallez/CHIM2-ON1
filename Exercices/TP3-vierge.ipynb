{
 "cells": [
  {
   "cell_type": "code",
   "execution_count": 1,
   "id": "b215d49a",
   "metadata": {},
   "outputs": [
    {
     "data": {
      "text/html": [
       "<style>\n",
       "h1, h2, h3, h4, h5, h6 {\n",
       "  font-family: Verdana, \"DejaVu Sans\", \"Bitstream Vera Sans\", Geneva, sans-serif;\n",
       "  font-weight: bold;\n",
       "}\n",
       "body {\n",
       "  font-family: Verdana, \"DejaVu Sans\", \"Bitstream Vera Sans\", Geneva, sans-serif;\n",
       "  font-weight: 200;\n",
       "}\n",
       "h1 {\n",
       "  border: 0 solid #333;\n",
       "  padding: 30px ;\n",
       "  color: white;\n",
       "  background: #b11d01;\n",
       "  text-align: center;\n",
       "}\n",
       "h2 {\n",
       "  border: 3px solid #333;\n",
       "  padding: 18px ;\n",
       "  color: #b11d01;\n",
       "  background: #ffffff;\n",
       "  text-align: center;\n",
       "}\n",
       "h3 {\n",
       "  border: 0 solid #333;\n",
       "  padding: 12px ;\n",
       "  color: #000000;\n",
       "  background: #c1c1c1;\n",
       "  text-align: left;\n",
       "}\n",
       "h4 {\n",
       "  border: 0 solid #333;\n",
       "  padding: 2px ;\n",
       "  color: #000000;\n",
       "  background: #d9fffc;\n",
       "  text-align: left;\n",
       "}\n",
       "h5 {\n",
       "  border: 1px solid #333;\n",
       "  padding: 2px ;\n",
       "  color: #000000;\n",
       "  background: #ffffff;\n",
       "  text-align: left;\n",
       "}\n",
       ".warn {    \n",
       "    background-color: #fcf2f2;\n",
       "    border-color: #dFb5b4;\n",
       "    border-left: 5px solid #dfb5b4;\n",
       "    padding: 0.5em;\n",
       "    font-weight: 200;\n",
       "    }\n",
       ".rq {    \n",
       "    background-color: #e2e2e2;\n",
       "    border-color: #969696;\n",
       "    border-left: 5px solid #969696;\n",
       "    padding: 0.5em;\n",
       "    font-weight: 200;\n",
       "    }\n",
       "</style>\n"
      ],
      "text/plain": [
       "<IPython.core.display.HTML object>"
      ]
     },
     "metadata": {},
     "output_type": "display_data"
    },
    {
     "data": {
      "text/markdown": [
       "**Début à:** Monday 14 November 2022, 21:33:41  \n",
       "**Hostname:** heimdall (Darwin)"
      ],
      "text/plain": [
       "<IPython.core.display.Markdown object>"
      ]
     },
     "metadata": {},
     "output_type": "display_data"
    },
    {
     "data": {
      "text/markdown": [
       "<p style=\"text-align: center\"><img width=\"800px\" src=\"../config/svg/logoDebut.svg\" style=\"margin-left:auto; margin-right:auto\"/></p>"
      ],
      "text/plain": [
       "<IPython.core.display.Markdown object>"
      ]
     },
     "metadata": {},
     "output_type": "display_data"
    }
   ],
   "source": [
    "###############################################################################################\n",
    "#\n",
    "# exécutez cette cellule avant d'utiliser le reste du notebook\n",
    "#\n",
    "# supprimez-là si vous exécutez ce notebook en-dehors de la distribution CHIM2-ON1 #\n",
    "#\n",
    "###############################################################################################\n",
    "\n",
    "import os\n",
    "import sys\n",
    "\n",
    "cwd0 = \"../config/\"\n",
    "sys.path.append(cwd0)\n",
    "                            \n",
    "import visualID as vID\n",
    "from visualID import color\n",
    "vID.init(cwd0)"
   ]
  },
  {
   "cell_type": "markdown",
   "id": "09b91283",
   "metadata": {},
   "source": [
    "# TP3. Exercices sur la lecture et la représentation de données\n",
    "\n",
    "## Exercice 1. Tracer des courbes rapidement\n",
    "\n",
    "Tracer le plus simplement possible la courbe de $\\sin(x)$ entre 0 et 2$\\pi$. "
   ]
  },
  {
   "cell_type": "code",
   "execution_count": null,
   "id": "ea2474a2",
   "metadata": {},
   "outputs": [],
   "source": []
  },
  {
   "cell_type": "markdown",
   "id": "6570f6aa",
   "metadata": {},
   "source": [
    "Tracer en ligne pointillée la courbe de $e^x$ entre -1 et 1."
   ]
  },
  {
   "cell_type": "code",
   "execution_count": null,
   "id": "8b985efe",
   "metadata": {},
   "outputs": [],
   "source": []
  },
  {
   "cell_type": "markdown",
   "id": "b8e313e4",
   "metadata": {},
   "source": [
    "Tracer la courbe de $\\frac{\\sin(x)}{x}$ entre $-\\pi$ et $\\pi$ avec une courbe de couleur rouge."
   ]
  },
  {
   "cell_type": "code",
   "execution_count": null,
   "id": "eaa092e8",
   "metadata": {},
   "outputs": [],
   "source": []
  },
  {
   "cell_type": "markdown",
   "id": "eb0b41e5",
   "metadata": {},
   "source": [
    "Tracer la courbe $x^4\\ln(x)$ entre 1 et 10. Ajoutez l'étiquette \"x\" sur l'axe des abscisses et l'étiquette \"valeur\" sur l'axe des ordonnées."
   ]
  },
  {
   "cell_type": "code",
   "execution_count": null,
   "id": "819b258e",
   "metadata": {},
   "outputs": [],
   "source": []
  },
  {
   "cell_type": "markdown",
   "id": "54abb708",
   "metadata": {},
   "source": [
    "Sur une même figure, tracer les courbes de $\\sin(x)$ et $\\cos(x)$ entre -$\\pi$ et 𝜋. La première sera en bleu, et la seconde en vert. Ajouter une légende mentionnant \"sin x\" et \"cos x\". "
   ]
  },
  {
   "cell_type": "code",
   "execution_count": 9,
   "id": "f3026c5f",
   "metadata": {},
   "outputs": [
    {
     "data": {
      "text/plain": [
       "<matplotlib.legend.Legend at 0x1283023d0>"
      ]
     },
     "execution_count": 9,
     "metadata": {},
     "output_type": "execute_result"
    },
    {
     "data": {
      "image/png": "[encoded data removed]",
      "text/plain": [
       "<Figure size 640x480 with 1 Axes>"
      ]
     },
     "metadata": {},
     "output_type": "display_data"
    }
   ],
   "source": [
    "from pylab import * \n",
    "from numpy.random import random\n",
    "x = linspace(-pi, pi, 100) \n",
    "plot(x, sin(x)+random(100)*0.1, \"o\", label='experience')\n",
    "plot(x, sin(x), label='theorie')\n",
    "xlabel('variable x')\n",
    "ylabel('mesure et theorie')\n",
    "legend()"
   ]
  },
  {
   "cell_type": "markdown",
   "id": "0f08c7ff",
   "metadata": {},
   "source": [
    "## Exercice 2. Charger et tracer des données rapidement\n",
    "\n",
    "Chargez les données contenues dans le fichier MysteryCurve.dat et tracez les avec une ligne continue rouge. "
   ]
  },
  {
   "cell_type": "code",
   "execution_count": 2,
   "id": "a51f120d",
   "metadata": {},
   "outputs": [],
   "source": [
    "# A completer... \n",
    "\n",
    "# chargement : \n",
    "\n",
    "# trace : "
   ]
  },
  {
   "cell_type": "markdown",
   "id": "77606415",
   "metadata": {},
   "source": [
    "## Exercice 3. Produire un graphique de qualité.\n",
    "\n",
    "Reproduisez le graphique ci-dessous avec tous ses éléments (titre, labels, couleurs, légende, etc). L'axe des abscisses va jusqu'à $4\\pi$.\n",
    "![](Graphe_a_reproduire.png)"
   ]
  },
  {
   "cell_type": "code",
   "execution_count": 3,
   "id": "014882f2",
   "metadata": {},
   "outputs": [],
   "source": [
    "# Completer "
   ]
  },
  {
   "cell_type": "markdown",
   "id": "b12e0cb6",
   "metadata": {},
   "source": [
    "## Exercice 4. Charger, tracer et analyser des données issues d'un titrage pour en déduire  la constante de dissociation d'un acide. \n",
    "\n",
    "On titre une solution d'acide acétique à 0.1 M utilisant de la soude à 0.2 M. La réaction est \n",
    "\n",
    "$\\mathrm{CH_3CO_2H+OH^{−} \\rightarrow CH_3CO^-_2 + H_2O}$\n",
    "\n",
    "Le volume initial d'acide est 50 mL. Un titrateur automatique ajoute lentement et progressivement 25 mL de soude et enregistre le pH au cours de cet ajout. A la fin de l'expérience, l'appareil a enregistré les données dans le fichier `Titrage.csv` sous la forme d'une première colonne pour le volume ajouté et d'une seconde colonne pour le pH. \n",
    "\n",
    "Le but de l'exercice est de déduire le pKa à partir de ces données. Pour ceci, suivez le étapes ci-dessous. \n",
    "\n",
    "### Chargement/représentation des données \n",
    "\n",
    "Chargez et représentez les données sur un graphe donnant le pH en fonction du volume de soude ajouté. Le pH sera stocké dans un tableau `pH` et le volume de soude ajouté dans un tableau `Vs`. \n",
    "\n",
    "Placez les labels des axes ainsi que la légende. La courbe sera représentée avec des croix.  "
   ]
  },
  {
   "cell_type": "code",
   "execution_count": 4,
   "id": "5be60d75",
   "metadata": {},
   "outputs": [],
   "source": [
    "# Chargement \n",
    "\n",
    "# Graphe \n"
   ]
  },
  {
   "cell_type": "markdown",
   "id": "7259838e",
   "metadata": {},
   "source": [
    "### Recherche du point d'inflexion\n",
    "\n",
    "Pour trouver le pKa, on recherche le point d'inflexion sur la courbe, pour lequel pH=pKa. Ce point correspond au point où la dérivée seconde du pH en fonction de Vs s'annule. \n",
    "\n",
    "La courbe est données par les tableaux `pH` et `Vs` qui comptent N valeurs. La dérivée seconde au point numéro `i` peut être estimée grâce à la formule \n",
    "\n",
    "$$\\mathrm{dérivéeSeconde}_i = \\frac{ \\mathrm{pH}_{i+1} - 2\\mathrm{pH}_i + \\mathrm{pH}_{i-1} }{ dV^2 }$$\n",
    "\n",
    "où $dV$ est l'incrément de volume de soude entre deux points de mesure. \n",
    "\n",
    "Créez un tableau numpy `deriveeSeconde` qui contient les valeurs de la dérivée seconde pour tous les i entre 1 et N-2. \n",
    "\n",
    "Tracez ensuite la dérivée seconde du pH en fonction du volume ajouté, ainsi que la ligne horizontale qui passe par y = 0."
   ]
  },
  {
   "cell_type": "code",
   "execution_count": 5,
   "id": "6984341e",
   "metadata": {},
   "outputs": [],
   "source": [
    "# calcul de la dérivée seconde \n",
    "\n",
    "# tracé de la dérivée seconde en fonction du pH\n"
   ]
  },
  {
   "cell_type": "markdown",
   "id": "f90ed23d",
   "metadata": {},
   "source": [
    "La dérivée seconde est d'abord négative, puis positive. Recherchez (à l'aide de Python) les indices i1 et i2 des points juste avant le changement de signe et juste après ce changement. "
   ]
  },
  {
   "cell_type": "code",
   "execution_count": 6,
   "id": "9912281d",
   "metadata": {},
   "outputs": [],
   "source": [
    "# Determination des indices "
   ]
  },
  {
   "cell_type": "markdown",
   "id": "82447726",
   "metadata": {},
   "source": [
    "Calculez le pKa comme la moyenne des pH aux points i1 et i2. Vous devriez trouver autour de 4.76. \n",
    "Calculez le volume de soude ajouté correspondant `Vs0`, aussi grâce à une moyenne entre les volumes aux points i1 et i2. "
   ]
  },
  {
   "cell_type": "code",
   "execution_count": 7,
   "id": "988ce301",
   "metadata": {},
   "outputs": [],
   "source": [
    "# Calcul de pKa et Vs0 "
   ]
  },
  {
   "cell_type": "markdown",
   "id": "8fe26f65",
   "metadata": {},
   "source": [
    "### Mise en forme finale du tracé\n",
    "\n",
    "Vous allez faire un tracé qui ressemble à : \n",
    "![](pKa.png)\n",
    "\n",
    "Pour cela, suivez les étapes suivantes : \n",
    "- Tracez à nouveau la courbe pH(Vs) à l'aide de croix, et placez un rond rouge sur cette courbe au niveau du pKa.\n",
    "- Ajustez les limites des axes x et y aux valeurs min/max des grandeurs Vs et pH. \n",
    "- Tracez des segments horizontaux et verticaux pointillés rouges pour relier ce point aux axes. "
   ]
  },
  {
   "cell_type": "code",
   "execution_count": 8,
   "id": "d6cb4018",
   "metadata": {},
   "outputs": [],
   "source": [
    "# Trace final "
   ]
  },
  {
   "cell_type": "markdown",
   "id": "5e8da942",
   "metadata": {},
   "source": [
    "Optionnel : ce dernier calcul suppose que le zéro est au milieu entre les points d'indice i1 et i2. Ce n'est pas forcément le cas. Vous pouvez améliorer la précision du résultat en effectuant une interpolation linéaire entre les points i1 et i2 : déterminez dans un premier temps la position précise `Vs0` du zéro de deriveeSeconde grâce à l'interpolation, et calculez ensuite le `pKa` avec une deuxième interpolation utilisant i1, i2 et `Vs0`. "
   ]
  },
  {
   "cell_type": "code",
   "execution_count": 13,
   "id": "695e9dfa",
   "metadata": {},
   "outputs": [
    {
     "data": {
      "text/markdown": [
       "**Fin à:** Monday 14 November 2022, 21:33:41  \n",
       "**Durée:** 00:00:00 091ms"
      ],
      "text/plain": [
       "<IPython.core.display.Markdown object>"
      ]
     },
     "metadata": {},
     "output_type": "display_data"
    },
    {
     "data": {
      "text/markdown": [
       "<p style=\"text-align: center\"><img width=\"800px\" src=\"../config/svg/logoFin.svg\" style=\"margin-left:auto; margin-right:auto\"/></p>"
      ],
      "text/plain": [
       "<IPython.core.display.Markdown object>"
      ]
     },
     "metadata": {},
     "output_type": "display_data"
    }
   ],
   "source": [
    "###############################################################################################\n",
    "# supprimez cette cellule si vous exécutez ce notebook en-dehors de la distribution CHIM2-ON1 #\n",
    "###############################################################################################\n",
    "\n",
    "vID.end(cwd0)"
   ]
  }
 ],
 "metadata": {
  "kernelspec": {
   "display_name": "Python 3 (ipykernel)",
   "language": "python",
   "name": "python3"
  },
  "language_info": {
   "codemirror_mode": {
    "name": "ipython",
    "version": 3
   },
   "file_extension": ".py",
   "mimetype": "text/x-python",
   "name": "python",
   "nbconvert_exporter": "python",
   "pygments_lexer": "ipython3",
   "version": "3.9.13"
  }
 },
 "nbformat": 4,
 "nbformat_minor": 5
}
