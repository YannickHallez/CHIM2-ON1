{
 "cells": [
  {
   "cell_type": "code",
   "execution_count": 1,
   "metadata": {},
   "outputs": [
    {
     "data": {
      "text/html": [
       "<style>\n",
       "h1, h2, h3, h4, h5, h6 {\n",
       "  font-family: Verdana, \"DejaVu Sans\", \"Bitstream Vera Sans\", Geneva, sans-serif;\n",
       "  font-weight: bold;\n",
       "}\n",
       "body {\n",
       "  font-family: Verdana, \"DejaVu Sans\", \"Bitstream Vera Sans\", Geneva, sans-serif;\n",
       "  font-weight: 200;\n",
       "}\n",
       "h1 {\n",
       "  border: 0 solid #333;\n",
       "  padding: 30px ;\n",
       "  color: white;\n",
       "  background: #b11d01;\n",
       "  text-align: center;\n",
       "}\n",
       "h2 {\n",
       "  border: 3px solid #333;\n",
       "  padding: 18px ;\n",
       "  color: #b11d01;\n",
       "  background: #ffffff;\n",
       "  text-align: center;\n",
       "}\n",
       "h3 {\n",
       "  border: 0 solid #333;\n",
       "  padding: 12px ;\n",
       "  color: #000000;\n",
       "  background: #c1c1c1;\n",
       "  text-align: left;\n",
       "}\n",
       "h4 {\n",
       "  border: 0 solid #333;\n",
       "  padding: 2px ;\n",
       "  color: #000000;\n",
       "  background: #d9fffc;\n",
       "  text-align: left;\n",
       "}\n",
       "h5 {\n",
       "  border: 1px solid #333;\n",
       "  padding: 2px ;\n",
       "  color: #000000;\n",
       "  background: #ffffff;\n",
       "  text-align: left;\n",
       "}\n",
       ".warn {    \n",
       "    background-color: #fcf2f2;\n",
       "    border-color: #dFb5b4;\n",
       "    border-left: 5px solid #dfb5b4;\n",
       "    padding: 0.5em;\n",
       "    font-weight: 200;\n",
       "    }\n",
       ".rq {    \n",
       "    background-color: #e2e2e2;\n",
       "    border-color: #969696;\n",
       "    border-left: 5px solid #969696;\n",
       "    padding: 0.5em;\n",
       "    font-weight: 200;\n",
       "    }\n",
       "</style>\n"
      ],
      "text/plain": [
       "<IPython.core.display.HTML object>"
      ]
     },
     "metadata": {},
     "output_type": "display_data"
    },
    {
     "data": {
      "text/markdown": [
       "**Début à:** Thursday 10 November 2022, 11:58:33  \n",
       "**Hostname:** heimdall (Darwin)"
      ],
      "text/plain": [
       "<IPython.core.display.Markdown object>"
      ]
     },
     "metadata": {},
     "output_type": "display_data"
    },
    {
     "data": {
      "text/markdown": [
       "<p style=\"text-align: center\"><img width=\"800px\" src=\"../config/svg/logoDebut.svg\" style=\"margin-left:auto; margin-right:auto\"/></p>"
      ],
      "text/plain": [
       "<IPython.core.display.Markdown object>"
      ]
     },
     "metadata": {},
     "output_type": "display_data"
    }
   ],
   "source": [
    "###############################################################################################\n",
    "# supprimez cette cellule si vous exécutez ce notebook en-dehors de la distribution CHIM2-ON1 #\n",
    "###############################################################################################\n",
    "\n",
    "import os\n",
    "import sys\n",
    "\n",
    "cwd0 = \"../config/\"\n",
    "sys.path.append(cwd0)\n",
    "                            \n",
    "import visualID as vID\n",
    "from visualID import color\n",
    "vID.init(cwd0)"
   ]
  },
  {
   "cell_type": "markdown",
   "metadata": {},
   "source": [
    "# TP3. Exercices sur la lecture et la représentation de données\n",
    "\n",
    "## Exercice 1. Charger et tracer des données rapidement\n",
    "\n",
    "Chargez les données contenues dans le fichier MysteryCurve.dat et tracez les avec une ligne continue rouge. "
   ]
  },
  {
   "cell_type": "code",
   "execution_count": 2,
   "metadata": {},
   "outputs": [],
   "source": [
    "# A completer... \n",
    "\n",
    "# chargement : \n",
    "\n",
    "# trace : "
   ]
  },
  {
   "cell_type": "markdown",
   "metadata": {},
   "source": [
    "## Exercice 2. Produire un graphique de qualité.\n",
    "\n",
    "Reproduisez le graphique ci-dessous avec tous ses éléments (titre, labels, couleurs, légende, etc). L'axe des abscisses va jusqu'à $4\\pi$.\n",
    "![](Graphe_a_reproduire.png)"
   ]
  },
  {
   "cell_type": "code",
   "execution_count": 3,
   "metadata": {},
   "outputs": [],
   "source": [
    "# Completer "
   ]
  },
  {
   "cell_type": "markdown",
   "metadata": {},
   "source": [
    "## Exercice 3. Charger, tracer et analyser des données issues d'un titrage pour en déduire  la constante de dissociation d'un acide. \n",
    "\n",
    "On titre une solution d'acide acétique à 0.1 M utilisant de la soude à 0.2 M. La réaction est \n",
    "\n",
    "$CH_3CO_2H+OH^{−} \\rightarrow CH3CO^-_2 + H_2O$\n",
    "\n",
    "Le volume initial d'acide est 50 mL. Un titrateur automatique ajoute lentement et progressivement 25 mL de soude et enregistre le pH au cours de cet ajout. A la fin de l'expérience, l'appareil a enregistré données dans le fichier `Titrage.csv`. \n",
    "\n",
    "Le but de l'exercice est de déduire le pKa à partir de ces données. Pour ceci, suivez le étapes ci-dessous. \n",
    "\n",
    "### Chargement/représentation des données \n",
    "\n",
    "Chargez et représentez les données sur un graphe donnant le pH en fonction du volume de soude ajouté. Le pH sera stocké dans un tableau `pH` et le volume de soude ajouté dans un tableau `Vs`. \n",
    "\n",
    "Placez les labels des axes ainsi que la légende. La courbe sera représentée avec des croix.  "
   ]
  },
  {
   "cell_type": "code",
   "execution_count": 4,
   "metadata": {},
   "outputs": [],
   "source": [
    "# Chargement \n",
    "\n",
    "# Graphe \n"
   ]
  },
  {
   "cell_type": "markdown",
   "metadata": {},
   "source": [
    "### Recherche du point d'inflexion\n",
    "\n",
    "Pour trouver le pKa, on recherche le point d'inflexion sur la courbe, pour lequel pH=pKa. Ce point correspond au point où la dérivée seconde du pH en fonction de Vs s'annule. \n",
    "\n",
    "La courbe est données par les tableaux `pH` et `Vs` qui comptent N valeurs. La dérivée seconde au point numéro `i`, avec `i`entre 0 et N-1, peut être estimée grâce à la formule \n",
    "\n",
    "$deriveeSeconde_i = \\frac{ pH_{i+1} - 2pH_i + pH_{i-1} }{ dV^2 }$\n",
    "\n",
    "où $dV$ est l'incrément de volume de soude entre deux points de mesure. \n",
    "\n",
    "Créez un tableau numpy `deriveeSeconde` qui contient les valeurs de la dérivée seconde pour tous les i entre 1 et N-2. "
   ]
  },
  {
   "cell_type": "code",
   "execution_count": 6,
   "metadata": {},
   "outputs": [],
   "source": [
    "# calul de la derivee seconde \n"
   ]
  },
  {
   "cell_type": "markdown",
   "metadata": {},
   "source": [
    "La dérivée seconde est d'abord négative, puis positive. Recherchez (à l'aide de Python) les indices i1 et i2 des points juste avant le changement de signe et juste après ce changement. "
   ]
  },
  {
   "cell_type": "code",
   "execution_count": 5,
   "metadata": {},
   "outputs": [],
   "source": [
    "# Determination des indices "
   ]
  },
  {
   "cell_type": "markdown",
   "metadata": {},
   "source": [
    "Calculez le pKa comme la moyenne des pH aux points i1 et i2. Vous devriez trouver autour de 4.76. \n",
    "Calculez le volume de soude ajouté correspondant `Vs0`, aussi grâce à une moyenne entre les volumes aux points i1 et i2. "
   ]
  },
  {
   "cell_type": "code",
   "execution_count": 7,
   "metadata": {},
   "outputs": [],
   "source": [
    "# Calcul de pKa et Vs0 "
   ]
  },
  {
   "cell_type": "markdown",
   "metadata": {},
   "source": [
    "### Mise en forme finale du tracé\n",
    "\n",
    "- Tracez à nouveau la courbe pH(Vs) à l'aide de croix, et placez un rond rouge sur cette courbe au niveau du pKa.\n",
    "- Ajustez les limites des axes x et y aux valeurs min/max des grandeurs Vs et pH. \n",
    "- Tracez des segments horizontaux et verticaux pointillés rouges pour relier ce point aux axes. "
   ]
  },
  {
   "cell_type": "code",
   "execution_count": 8,
   "metadata": {},
   "outputs": [],
   "source": [
    "# Trace final "
   ]
  },
  {
   "cell_type": "markdown",
   "metadata": {},
   "source": [
    "Optionnel : ce dernier calcul suppose que le zéro est au milieu entre les points d'indice i1 et i2. Ce n'est pas forcément le cas. Vous pouvez améliorer la précision du résultat en effectuant une interpolation linéaire entre les points i1 et i2 : déterminez dans un premier temps la position précise `Vs0` du zéro de deriveeSeconde grâce à l'interpolation, et calculez ensuite le `pKa` avec une deuxième interpolation utilisant i1, i2 et `Vs0`. "
   ]
  },
  {
   "cell_type": "markdown",
   "metadata": {},
   "source": [
    "## Exercice 4. Tracer et analyser le spectre RMN de l'éthanol. \n",
    "\n",
    "Le fichier de données `EthanolNMRData.dat` contient une première colonne contenant les shifts en ppm et une seconde colonne contenant l'intensité du signal. \n",
    "\n",
    "1. Chargez le spectre RMN de l'éthanol dans des variablles ppm (pour les abscisses) et I (pour les ordonnées). \n",
    "\n",
    "Vous allez créer une figure de taille 12 ppouces x 6 pouces dans laquelle il y aura 4 graphes, un large en haut et trois petits en dessous.\n",
    "\n",
    "2. Dans le graphe du haut, tracez le spectre. Attention, ces spectres se tracent en général avec l'axe x inversé (le 0 est à droite). Utilisez xlim() pour inverser l'axe.  Placez un label \"ppm\" en abscisse. \n",
    "\n",
    "L'algorithme fourni ci-dessous découpe le spectre en morceaux correspondant aux pics. Il renvoie deux listes ppms et Is qui contiennent les abscisses et ordonnées de chaque morceau. \n",
    "\n",
    "3. Créez des listes ppmMax et Imax contenant, pour chaque pic, le shift et l'intensité du pic. \n",
    "\n",
    "4. Complétez la figure en créant 3 petits graphes qui sont des zooms sur les 3 groupes de pics. Le premier sur le pic de l'eau vers ppm=4.7, le second sur le groupe du CH2 vers ppm=3.5, et le dernier sur le groupe du CH3 vers ppm=1.07. Sur chacun de ces graphes, placez le label \"ppm\" sur l'axe x, insérez un titre indiquant quel groupe est visualisé, et placez les pics détectés à l'aide de lignes verticales rouges. A la fin du programme, rajoutez `tight_layout()` pour réajuster les distances entre graphiques. "
   ]
  },
  {
   "cell_type": "code",
   "execution_count": null,
   "metadata": {},
   "outputs": [],
   "source": [
    "from pylab import * \n",
    "\n",
    "\n",
    "\n",
    "# -------------------------------------------------------\n",
    "#   Section fournie \n",
    "# -------------------------------------------------------\n",
    "# detection des pics \n",
    "# On coupe le tableau en morceaux correspondant aux pics \n",
    "ppmsave = ppm.copy() \n",
    "Isave = I.copy() \n",
    "ppm[I<1.0e5] = NaN\n",
    "I[I<1.0e5] = NaN \n",
    "from itertools import groupby \n",
    "Is   = [list(v) for k,v in groupby(I,isfinite) if k]\n",
    "ppms = [list(v) for k,v in groupby(ppm,isfinite) if k]\n",
    "# -------------------------------------------------------\n",
    "\n"
   ]
  },
  {
   "cell_type": "code",
   "execution_count": 9,
   "metadata": {},
   "outputs": [
    {
     "data": {
      "text/markdown": [
       "**Fin à:** Thursday 10 November 2022, 11:59:49  \n",
       "**Durée:** 00:01:16 427ms"
      ],
      "text/plain": [
       "<IPython.core.display.Markdown object>"
      ]
     },
     "metadata": {},
     "output_type": "display_data"
    },
    {
     "data": {
      "text/markdown": [
       "<p style=\"text-align: center\"><img width=\"800px\" src=\"../config/svg/logoFin.svg\" style=\"margin-left:auto; margin-right:auto\"/></p>"
      ],
      "text/plain": [
       "<IPython.core.display.Markdown object>"
      ]
     },
     "metadata": {},
     "output_type": "display_data"
    }
   ],
   "source": [
    "###############################################################################################\n",
    "# supprimez cette cellule si vous exécutez ce notebook en-dehors de la distribution CHIM2-ON1 #\n",
    "###############################################################################################\n",
    "\n",
    "vID.end(cwd0)"
   ]
  }
 ],
 "metadata": {
  "kernelspec": {
   "display_name": "Python 3",
   "language": "python",
   "name": "python3"
  },
  "language_info": {
   "codemirror_mode": {
    "name": "ipython",
    "version": 3
   },
   "file_extension": ".py",
   "mimetype": "text/x-python",
   "name": "python",
   "nbconvert_exporter": "python",
   "pygments_lexer": "ipython3",
   "version": "3.7.6"
  }
 },
 "nbformat": 4,
 "nbformat_minor": 5
}
