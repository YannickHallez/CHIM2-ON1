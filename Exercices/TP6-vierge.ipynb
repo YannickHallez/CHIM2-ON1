{
 "cells": [
  {
   "cell_type": "code",
   "execution_count": 6,
   "id": "9025a57d",
   "metadata": {},
   "outputs": [
    {
     "data": {
      "text/html": [
       "<style>\n",
       "h1, h2, h3, h4, h5, h6 {\n",
       "  font-family: Verdana, \"DejaVu Sans\", \"Bitstream Vera Sans\", Geneva, sans-serif;\n",
       "  font-weight: bold;\n",
       "}\n",
       "body {\n",
       "  font-family: Verdana, \"DejaVu Sans\", \"Bitstream Vera Sans\", Geneva, sans-serif;\n",
       "  font-weight: 200;\n",
       "}\n",
       "h1 {\n",
       "  border: 0 solid #333;\n",
       "  padding: 30px ;\n",
       "  color: white;\n",
       "  background: #b11d01;\n",
       "  text-align: center;\n",
       "}\n",
       "h2 {\n",
       "  border: 3px solid #333;\n",
       "  padding: 18px ;\n",
       "  color: #b11d01;\n",
       "  background: #ffffff;\n",
       "  text-align: center;\n",
       "}\n",
       "h3 {\n",
       "  border: 0 solid #333;\n",
       "  padding: 12px ;\n",
       "  color: #000000;\n",
       "  background: #c1c1c1;\n",
       "  text-align: left;\n",
       "}\n",
       "h4 {\n",
       "  border: 0 solid #333;\n",
       "  padding: 2px ;\n",
       "  color: #000000;\n",
       "  background: #d9fffc;\n",
       "  text-align: left;\n",
       "}\n",
       "h5 {\n",
       "  border: 1px solid #333;\n",
       "  padding: 2px ;\n",
       "  color: #000000;\n",
       "  background: #ffffff;\n",
       "  text-align: left;\n",
       "}\n",
       ".warn {    \n",
       "    background-color: #fcf2f2;\n",
       "    border-color: #dFb5b4;\n",
       "    border-left: 5px solid #dfb5b4;\n",
       "    padding: 0.5em;\n",
       "    font-weight: 200;\n",
       "    }\n",
       ".rq {    \n",
       "    background-color: #e2e2e2;\n",
       "    border-color: #969696;\n",
       "    border-left: 5px solid #969696;\n",
       "    padding: 0.5em;\n",
       "    font-weight: 200;\n",
       "    }\n",
       "</style>\n"
      ],
      "text/plain": [
       "<IPython.core.display.HTML object>"
      ]
     },
     "metadata": {},
     "output_type": "display_data"
    },
    {
     "data": {
      "text/markdown": [
       "**Début à:** Tuesday 15 November 2022, 09:29:06  \n",
       "**Hostname:** hc-OptiPlex-7070 (Linux)"
      ],
      "text/plain": [
       "<IPython.core.display.Markdown object>"
      ]
     },
     "metadata": {},
     "output_type": "display_data"
    },
    {
     "data": {
      "text/markdown": [
       "<p style=\"text-align: center\"><img width=\"800px\" src=\"../config/svg/logoDebut.svg\" style=\"margin-left:auto; margin-right:auto\"/></p>"
      ],
      "text/plain": [
       "<IPython.core.display.Markdown object>"
      ]
     },
     "metadata": {},
     "output_type": "display_data"
    }
   ],
   "source": [
    "###############################################################################################\n",
    "#\n",
    "# exécutez cette cellule avant d'utiliser le reste du notebook\n",
    "#\n",
    "# supprimez-là si vous exécutez ce notebook en-dehors de la distribution CHIM2-ON1 #\n",
    "#\n",
    "###############################################################################################\n",
    "\n",
    "import os\n",
    "import sys\n",
    "\n",
    "cwd0 = \"../config/\"\n",
    "sys.path.append(cwd0)\n",
    "                            \n",
    "import visualID as vID\n",
    "from visualID import color\n",
    "vID.init(cwd0)"
   ]
  },
  {
   "cell_type": "markdown",
   "id": "94c9771b",
   "metadata": {},
   "source": [
    "# TP. Exercices sur la résolution d'équations différentielles ordinaires d'ordre 1 \n",
    "\n",
    "## Exercice 1. Temps de décroissance radioactive\n",
    "\n",
    "$$\\require{mhchem}$$\n",
    "$$\\require{siunitx}$$    \n",
    "\n",
    "Le potassium $\\ce{^{40}_{19}K}$ se désintègre radioactivement suivant les deux réactions :\n",
    "\n",
    "$ \\ce{^{40}_{19}K -> e^- + ^{40}_{20}Ca} $\n",
    "\n",
    "de constante de temps $\\lambda_{1}= 4.96.10^{-10}$ par an\n",
    "\n",
    "$ \\ce{^{40}_{19}K + e^- ->  ^{40}_{18}Ar} $\n",
    "\n",
    "de constante de temps $\\lambda_{2}=5.81.10^{-11}$ par an.\n",
    "\n",
    "L'évolution du nombre d'atomes de potassium d'une roche, $n_K$, est régie par l'équation différentielle :\n",
    "\n",
    "$$ \\dfrac{dn_k}{dt}=-(\\lambda_1+\\lambda_2)n_k$$\n",
    "\n",
    "Tracer l'évolution de $n_K$sur 2 milliards d'années, sachant qu'à l'origine cette roche en contenait $5.10^{18}$. "
   ]
  },
  {
   "cell_type": "code",
   "execution_count": 7,
   "id": "585b60ab",
   "metadata": {},
   "outputs": [],
   "source": [
    "# A completer... "
   ]
  },
  {
   "cell_type": "markdown",
   "id": "643c2f84",
   "metadata": {},
   "source": [
    "## Exercice 2. Réaction d'ordre 1 dans un réacteur piston\n",
    "\n",
    "Le but de cet exercice est d'étudier l'évolution de la concentration d'un réactif A dans un réacteur piston. Ce réactif réagit suivant la réaction : $\\ce{A -> B}$ qui possède une constante de réaction $k$ et qui est de second ordre. Dans ces conditions, l'évolution de la concentration de A dans le réacteur répond à l'équation différentielle : \n",
    "\n",
    "$$ Q\\dfrac{dC}{dx}=-S\\,k\\,C$$ \n",
    "\n",
    "dans laquelle\n",
    "\n",
    "$C$ est la concentration en A dans le réacteur en \\si{\\mol\\per\\cubic\\meter}\n",
    "\n",
    "$x$ est la distance depuis l'entrée du réacteur en m\n",
    "\n",
    "$S = 0.1$ m$^2$ est la section du réacteur\n",
    "\n",
    "$Q =0.1$ m$^3$.min$^{-1}$ est le débit volumique de la solution de A\n",
    "\n",
    "$C_e = 20$ mol.m$^{-3}$ est la concentration en entrée du réacteur en A\n",
    "\n",
    "$k = 5$ min$^{-1}$\n",
    "\n",
    "\n",
    "Tracer l'évolution de $C$ sur le premier mètre de réacteur."
   ]
  },
  {
   "cell_type": "code",
   "execution_count": 8,
   "id": "449216d3",
   "metadata": {},
   "outputs": [],
   "source": [
    "# Completer "
   ]
  },
  {
   "cell_type": "markdown",
   "id": "c41b1906",
   "metadata": {},
   "source": [
    "## Exercice 3. Réaction d'ordre 2 dans un réacteur agité continu\n",
    "\n",
    "Le but de cet exercice est d'étudier l'évolution de la concentration d'un réactif A dans un réacteur agité continu. Ce réactif réagit suivant la réaction : $\\ce{A -> B}$ qui possède une constante de réaction $k$ et qui est de second ordre. Dans ces conditions, l'évolution de la concentration de A dans le réacteur répond à l'équation différentielle : \n",
    "\n",
    "$$ V\\dfrac{dC}{dt}=Q(C_e-C)-kVC^2$$ \n",
    "\n",
    "dans laquelle\n",
    "\n",
    "$C$ est la concentration en A dans le réacteur en \\si{\\mol\\per\\cubic\\meter}\n",
    "\n",
    "$t$ est le temps en minutes\n",
    "\n",
    "$V =5$ m$^{-3}$ est le volume du réacteur\n",
    "\n",
    "$Q = 0.1$ m$^3$.min$^{-1}$ est le débit volumique de la solution de A\n",
    "\n",
    "$C_e = 20$ mol.m$^{-3}$ est la concentration en entrée du réacteur en A\n",
    "\n",
    "$k = 0.01$ m$^3$.mol$^{-1}$.min$^{-1}${\\cubic\\meter\\per\\mol\\per\\min}\n",
    "\n",
    "\n",
    "Tracer l'évolution de $C$ sur les 60 premières minutes."
   ]
  },
  {
   "cell_type": "code",
   "execution_count": 9,
   "id": "78a8f369",
   "metadata": {},
   "outputs": [],
   "source": [
    "# Completer \n"
   ]
  },
  {
   "cell_type": "markdown",
   "id": "4dd0a266",
   "metadata": {},
   "source": [
    "## Exercice 4. Evolution d'une population de paramécies\n",
    "\n",
    "Dans cet exercice, nous étudierons l'évolution d'une population de paramécies (des organismes unicellulaires) à volume de nutriment constant suivant un modèle proposé dans les années 1930 par un biologiste russe, \\textit{G. Gause}. \n",
    "\n",
    "Nous appellerons $P$ la population, i. e.  le nombre, de paramécies\n",
    "\n",
    "\n",
    "### Modèle simple de croissance exponentielle (modèle de Malthus) :\n",
    "\n",
    "Dans ce premier modèle, on considère que la croissance de la population est strictement proportionnelle à la population elle-même. Ceci se traduit mathématiquement par l'équation suivante :\n",
    "\n",
    "$$ \\dfrac{dP}{dt}=kP $$\n",
    "\n",
    "où $t$ est le temps mesuré en jours et $k = 0.7944$ jour$^{-1}$.\n",
    "\n",
    "Tracer l'évolution de la population de paramécies sur 15 jours en prenant une population initiale de 2 paramécies. Que pensez-vous du réalisme de ce modèle ? "
   ]
  },
  {
   "cell_type": "code",
   "execution_count": 10,
   "id": "819c3e24",
   "metadata": {},
   "outputs": [],
   "source": [
    "# Completer "
   ]
  },
  {
   "cell_type": "markdown",
   "id": "c6c07b41",
   "metadata": {},
   "source": [
    "Que pensez-vous du réalisme de ce modèle ? \n",
    "\n",
    "**Culture Générale** : Oui, oui, ce modèle porte bien le nom de l'économiste Thomas Malthus (1766-1834) dont une politique porte le nom : le malthusianisme. Suivant cette politique, face à la forte évolution de la population (comme celle que vous venez d'observer) dans un environnement aux ressources limitées, il préconisait une limitation du nombre de naissances.  \n",
    "\n",
    "### Modèle logistique (modèle de Verhulst (1804-1849))\n",
    "\n",
    "Une correction du modèle précédent consiste à dire que le taux de croissance de la population est contrôlé également par la capacité à nourrir les paramécies : plus la population de paramécies est importante par rapport à  la quantité de nutriments moins la croissance de la population sera importante. Ceci se traduit par l'équation différentielle suivante :\n",
    "\n",
    "$$ \\dfrac{dP}{dt}=kP\\left( 1-\\dfrac{P}{K} \\right) $$\n",
    "\n",
    "où $K$ est la population limite. Dans l'étude de Gause, $K=64$.\n",
    "\n",
    "Sur une fenêtre comprenant 2 sous-figures, tracer dans une première sous-figure l'évolution de la population de paramécies sur 15 jours en prenant une population initiale de 2 paramécies suivant le modèle exponentiel et le modèle logistique. Vous limiterez la valeur maximale sur l'axe des ordonnées à 70. Sur la deuxième sous-figure, faire le même tracé mais seulement sur les 2 premiers jours. Il faudra que les deux courbes soient légendées pour les différencier et que les axes soient nommés.\n"
   ]
  },
  {
   "cell_type": "code",
   "execution_count": 11,
   "id": "9161012e",
   "metadata": {},
   "outputs": [],
   "source": [
    "# Completer \n"
   ]
  },
  {
   "cell_type": "markdown",
   "id": "4897fd0f",
   "metadata": {},
   "source": [
    "Que pensez-vous de la comparaison entre ces 2 modèles ?\n",
    "\n",
    "**Culture Générale**  : Le modèle logistique est bien plus général que son application en biologie, on le retrouve pour évaluer l'évolution de la population d'un pays, du nombre de cas d'une maladie, de la population touchée par une rumeur, du nombre d'abonnés au réseau téléphonique, etc... "
   ]
  },
  {
   "cell_type": "code",
   "execution_count": 14,
   "id": "f337b898",
   "metadata": {},
   "outputs": [
    {
     "data": {
      "text/markdown": [
       "**Fin à:** Tuesday 15 November 2022, 09:29:06  \n",
       "**Durée:** 00:00:00 030ms"
      ],
      "text/plain": [
       "<IPython.core.display.Markdown object>"
      ]
     },
     "metadata": {},
     "output_type": "display_data"
    },
    {
     "data": {
      "text/markdown": [
       "<p style=\"text-align: center\"><img width=\"800px\" src=\"../config/svg/logoFin.svg\" style=\"margin-left:auto; margin-right:auto\"/></p>"
      ],
      "text/plain": [
       "<IPython.core.display.Markdown object>"
      ]
     },
     "metadata": {},
     "output_type": "display_data"
    }
   ],
   "source": [
    "###############################################################################################\n",
    "# supprimez cette cellule si vous exécutez ce notebook en-dehors de la distribution CHIM2-ON1 #\n",
    "###############################################################################################\n",
    "\n",
    "vID.end(cwd0)"
   ]
  }
 ],
 "metadata": {
  "kernelspec": {
   "display_name": "Python 3",
   "language": "python",
   "name": "python3"
  },
  "language_info": {
   "codemirror_mode": {
    "name": "ipython",
    "version": 3
   },
   "file_extension": ".py",
   "mimetype": "text/x-python",
   "name": "python",
   "nbconvert_exporter": "python",
   "pygments_lexer": "ipython3",
   "version": "3.9.13"
  }
 },
 "nbformat": 4,
 "nbformat_minor": 5
}
