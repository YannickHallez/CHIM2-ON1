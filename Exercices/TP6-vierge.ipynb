{
 "cells": [
  {
   "cell_type": "code",
   "execution_count": 1,
   "id": "9a8d17b4",
   "metadata": {},
   "outputs": [
    {
     "data": {
      "text/html": [
       "<style>\n",
       "h1, h2, h3, h4, h5, h6 {\n",
       "  font-family: Verdana, \"DejaVu Sans\", \"Bitstream Vera Sans\", Geneva, sans-serif;\n",
       "  font-weight: bold;\n",
       "}\n",
       "body {\n",
       "  font-family: Verdana, \"DejaVu Sans\", \"Bitstream Vera Sans\", Geneva, sans-serif;\n",
       "  font-weight: 200;\n",
       "}\n",
       "h1 {\n",
       "  border: 0 solid #333;\n",
       "  padding: 30px ;\n",
       "  color: white;\n",
       "  background: #b11d01;\n",
       "  text-align: center;\n",
       "}\n",
       "h2 {\n",
       "  border: 3px solid #333;\n",
       "  padding: 18px ;\n",
       "  color: #b11d01;\n",
       "  background: #ffffff;\n",
       "  text-align: center;\n",
       "}\n",
       "h3 {\n",
       "  border: 0 solid #333;\n",
       "  padding: 12px ;\n",
       "  color: #000000;\n",
       "  background: #c1c1c1;\n",
       "  text-align: left;\n",
       "}\n",
       "h4 {\n",
       "  border: 0 solid #333;\n",
       "  padding: 2px ;\n",
       "  color: #000000;\n",
       "  background: #d9fffc;\n",
       "  text-align: left;\n",
       "}\n",
       "h5 {\n",
       "  border: 1px solid #333;\n",
       "  padding: 2px ;\n",
       "  color: #000000;\n",
       "  background: #ffffff;\n",
       "  text-align: left;\n",
       "}\n",
       ".warn {    \n",
       "    background-color: #fcf2f2;\n",
       "    border-color: #dFb5b4;\n",
       "    border-left: 5px solid #dfb5b4;\n",
       "    padding: 0.5em;\n",
       "    font-weight: 200;\n",
       "    }\n",
       ".rq {    \n",
       "    background-color: #e2e2e2;\n",
       "    border-color: #969696;\n",
       "    border-left: 5px solid #969696;\n",
       "    padding: 0.5em;\n",
       "    font-weight: 200;\n",
       "    }\n",
       "</style>\n"
      ],
      "text/plain": [
       "<IPython.core.display.HTML object>"
      ]
     },
     "metadata": {},
     "output_type": "display_data"
    },
    {
     "data": {
      "text/markdown": [
       "**Début à:** Thursday 17 November 2022, 21:16:30  \n",
       "**Hostname:** heimdall (Darwin)"
      ],
      "text/plain": [
       "<IPython.core.display.Markdown object>"
      ]
     },
     "metadata": {},
     "output_type": "display_data"
    },
    {
     "data": {
      "text/markdown": [
       "<p style=\"text-align: center\"><img width=\"800px\" src=\"../config/svg/logoDebut.svg\" style=\"margin-left:auto; margin-right:auto\"/></p>"
      ],
      "text/plain": [
       "<IPython.core.display.Markdown object>"
      ]
     },
     "metadata": {},
     "output_type": "display_data"
    }
   ],
   "source": [
    "###############################################################################################\n",
    "#\n",
    "# exécutez cette cellule avant d'utiliser le reste du notebook\n",
    "#\n",
    "# supprimez-là si vous exécutez ce notebook en-dehors de la distribution CHIM2-ON1 #\n",
    "#\n",
    "###############################################################################################\n",
    "\n",
    "import os\n",
    "import sys\n",
    "\n",
    "cwd0 = \"../config/\"\n",
    "sys.path.append(cwd0)\n",
    "                            \n",
    "import visualID as vID\n",
    "from visualID import color\n",
    "vID.init(cwd0)"
   ]
  },
  {
   "cell_type": "markdown",
   "id": "17752953",
   "metadata": {},
   "source": [
    "# TP. Exercices sur la résolution d'équations différentielles ordinaires d'ordre 1 \n",
    "\n",
    "## Exercice d'entrainement 1:\n",
    "*Difficulté : 1/5*\n",
    "\n",
    "Tracer la solution de l'équation différentielle $$\\dfrac{dy}{dt}=t^2\\sin(y)$$ sur l'intervalle $t \\in [0,\\pi]$ sachant que pour $t=0$, on a $y(t=0)=2$. Pour cela, vous devez suivre les étapes suivantes :\n",
    "1. Ecrire une fonction que vous appelerez deriv qui calcule la dérivée de la fonction $y$, c'est à dire $\\dfrac{dy}{dt}$, à partir de $y$ et $t$. Cette fonction doit renvoyer la valeur de la dérivée avec 2 paramètres $y$ et $t$ en son entrée. Remarque : c'est justement la valeur donnée par l'équation différentielle ! Elle dépend  de $y$ et $t$ !\n",
    "1. Une fois la fonction finie, mettre la valeur de $y(0)$ dans une variable y0.\n",
    "1. En utilisant linspace, créer une variable appelée temps dans laquelle il y aura 5 valeurs sur l'intervalle $[0,\\pi]$\n",
    "1. Faire appel à odeint pour résoudre l'équation différentielle comme indiqué dans le cours\n",
    "1. Tracer l'évolution de $y$ en fonction de $t$\n",
    "1. Plutôt que les 5 valeurs sur l'intervalle $[0,\\pi]$ (section 3), prendre maintenant 100 valeurs et tracer à nouveau la courbe.\n",
    " "
   ]
  },
  {
   "cell_type": "code",
   "execution_count": null,
   "id": "d4a89c87",
   "metadata": {},
   "outputs": [],
   "source": [
    "# A completer... "
   ]
  },
  {
   "cell_type": "markdown",
   "id": "61cec6ae",
   "metadata": {},
   "source": [
    "## Exercice d'entrainement 2 :\n",
    "*Difficulté : 1/5*\n",
    "\n",
    "Tracer la solution de l'équation différentielle $$\\dfrac{dy}{dx}=x$$ sur l'intervalle $x \\in [0,1]$ sachant que pour $x=0$, on a $y(x=0)=0$. Pour cela, vous devez suivre les étapes suivantes :\n",
    "1. Ecrire une fonction que vous appelerez der qui calcule la dérivée de la fonction $y$, c'est à dire $\\dfrac{dy}{dx}$, à partir de $y$ et $x$. Cette fonction doit renvoyer la valeur de la dérivée avec 2 paramètres $y$ et $x$ en son entrée. Remarque importante : Bien que dans le terme de droite de l'équation différentielle, seule $x$ apparaît, la fonction qui est appelée par odeint doit avoir $y$ et $x$ comme paramètres et dans cet ordre.\n",
    "1. Une fois la fonction finie, mettre la valeur de $y(0)$ dans une variable y0.\n",
    "1. En utilisant linspace, créer une variable appelée pos dans laquelle il y aura 100 valeurs sur l'intervalle $[0,1]$\n",
    "1. Faire appel à odeint pour résoudre l'équation différentielle comme indiqué dans le cours\n",
    "1. Tracer l'évolution de $y$ en fonction de $x$\n",
    " "
   ]
  },
  {
   "cell_type": "code",
   "execution_count": 59,
   "id": "b0b46bc1",
   "metadata": {
    "scrolled": true
   },
   "outputs": [],
   "source": [
    "# A completer... "
   ]
  },
  {
   "cell_type": "markdown",
   "id": "cb856cb8",
   "metadata": {},
   "source": [
    "## Exercice d'entrainement 3 :\n",
    "*Difficulté : 1/5*\n",
    "\n",
    "Tracer la solution de l'équation différentielle $$\\dfrac{dy}{dt}=-2y$$ sur l'intervalle $t \\in [0,4]$ sachant que pour $t=0$, on a $y(t=0)=10$. Pour cela, vous devez suivre les étapes suivantes :\n",
    "1. Ecrire une fonction que vous appelerez der qui calcule la dérivée de la fonction $y$, c'est à dire $\\dfrac{dy}{dt}$, à partir de $y$ et $t$. Cette fonction doit renvoyer la valeur de la dérivée avec 2 paramètres $y$ et $t$ en son entrée. *Remarque importante* : Bien que dans le terme de droite de l'équation différentielle, seul $y$ apparaît, la fonction qui est appelée par odeint **doit** avoir $y$ et $t$ comme paramètres dans cet ordre.\n",
    "1. Une fois la fonction finie, mettre la valeur de $y(0)$ dans une variable y0.\n",
    "1. En utilisant linspace, créer une variable appelée tt dans laquelle il y aura 100 valeurs sur l'intervalle $[0,4]$\n",
    "1. Faire appel à odeint pour résoudre l'équation différentielle comme indiqué dans le cours\n",
    "1. Tracer l'évolution de $y$ en fonction de $t$\n",
    " "
   ]
  },
  {
   "cell_type": "code",
   "execution_count": 60,
   "id": "9e63825f",
   "metadata": {},
   "outputs": [],
   "source": [
    "# A completer... "
   ]
  },
  {
   "cell_type": "markdown",
   "id": "4406cc02",
   "metadata": {},
   "source": [
    "## Exercice 1. Temps de décroissance radioactive\n",
    "*Difficulté : 2,5/5*\n",
    "\n",
    "\n",
    "\n",
    "\n",
    "Le potassium ${^{40}_{19}K}$ se désintègre radioactivement suivant les deux réactions :\n",
    "\n",
    "$ {^{40}_{19}K -> e^- + ^{40}_{20}Ca} $\n",
    "\n",
    "de constante de temps $\\lambda_{1}= 4.96.10^{-10}$ par an\n",
    "\n",
    "$ {^{40}_{19}K + e^- ->  ^{40}_{18}Ar} $\n",
    "\n",
    "de constante de temps $\\lambda_{2}=5.81.10^{-11}$ par an.\n",
    "\n",
    "L'évolution du nombre d'atomes de potassium d'une roche, $n_K$, est régie par l'équation différentielle :\n",
    "\n",
    "$$ \\dfrac{dn_k}{dt}=-(\\lambda_1+\\lambda_2)n_k$$\n",
    "\n",
    "Tracer l'évolution de $n_K$sur 2 milliards d'années, sachant qu'à l'origine cette roche en contenait $5.10^{18}$. "
   ]
  },
  {
   "cell_type": "code",
   "execution_count": 2,
   "id": "271e9602",
   "metadata": {},
   "outputs": [],
   "source": [
    "# A completer... "
   ]
  },
  {
   "cell_type": "markdown",
   "id": "3da5be35",
   "metadata": {},
   "source": [
    "## Exercice 2. Réaction d'ordre 1 dans un réacteur piston\n",
    "*Difficulté : 2,5/5*\n",
    "\n",
    "Le but de cet exercice est d'étudier l'évolution de la concentration d'un réactif A dans un réacteur piston. Ce réactif réagit suivant la réaction : $\\ce{A -> B}$ qui possède une constante de réaction $k$ et qui est de second ordre. Dans ces conditions, l'évolution de la concentration de A dans le réacteur répond à l'équation différentielle : \n",
    "\n",
    "$$ Q\\dfrac{dC}{dx}=-S\\,k\\,C$$ \n",
    "\n",
    "dans laquelle\n",
    "\n",
    "$C$ est la concentration en A dans le réacteur en \\si{\\mol\\per\\cubic\\meter}\n",
    "\n",
    "$x$ est la distance depuis l'entrée du réacteur en m\n",
    "\n",
    "$S = 0.1$ m$^2$ est la section du réacteur\n",
    "\n",
    "$Q =0.1$ m$^3$.min$^{-1}$ est le débit volumique de la solution de A\n",
    "\n",
    "$C_e = 20$ mol.m$^{-3}$ est la concentration en entrée du réacteur en A\n",
    "\n",
    "$k = 5$ min$^{-1}$\n",
    "\n",
    "\n",
    "Tracer l'évolution de $C$ sur le premier mètre de réacteur."
   ]
  },
  {
   "cell_type": "code",
   "execution_count": 8,
   "id": "72b79121",
   "metadata": {},
   "outputs": [],
   "source": [
    "# Completer "
   ]
  },
  {
   "cell_type": "markdown",
   "id": "551614ac",
   "metadata": {},
   "source": [
    "## Exercice 3. Réaction d'ordre 2 dans un réacteur agité continu\n",
    "*Difficulté : 2,5/5*\n",
    "\n",
    "Le but de cet exercice est d'étudier l'évolution de la concentration d'un réactif A dans un réacteur agité continu. Ce réactif réagit suivant la réaction : $A \\rightarrow B$ qui possède une constante de réaction $k$ et qui est de second ordre. Dans ces conditions, l'évolution de la concentration de A dans le réacteur répond à l'équation différentielle : \n",
    "\n",
    "$$ V\\dfrac{dC}{dt}=Q(C_e-C)-kVC^2$$ \n",
    "\n",
    "dans laquelle\n",
    "\n",
    "$C$ est la concentration en A dans le réacteur en \\si{\\mol\\per\\cubic\\meter}\n",
    "\n",
    "$t$ est le temps en minutes\n",
    "\n",
    "$V =5$ m$^{-3}$ est le volume du réacteur\n",
    "\n",
    "$Q = 0.1$ m$^3$.min$^{-1}$ est le débit volumique de la solution de A\n",
    "\n",
    "$C_e = 20$ mol.m$^{-3}$ est la concentration en entrée du réacteur en A\n",
    "\n",
    "$k = 0.01$ m$^3$.mol$^{-1}$.min$^{-1}$\n",
    "\n",
    "\n",
    "Tracer l'évolution de $C$ sur les 60 premières minutes."
   ]
  },
  {
   "cell_type": "code",
   "execution_count": 9,
   "id": "0bfff18b",
   "metadata": {},
   "outputs": [],
   "source": [
    "# Completer \n"
   ]
  },
  {
   "cell_type": "markdown",
   "id": "09445203",
   "metadata": {},
   "source": [
    "## Exercice 4. Evolution d'une population de paramécies\n",
    "*Difficulté : 2,5/5*\n",
    "\n",
    "Dans cet exercice, nous étudierons l'évolution d'une population de paramécies (des organismes unicellulaires) à volume de nutriment constant suivant un modèle proposé dans les années 1930 par un biologiste russe: *G. Gause*. \n",
    "\n",
    "Nous appellerons $P$ la population, i. e.  le nombre, de paramécies\n",
    "\n",
    "\n",
    "### Modèle simple de croissance exponentielle (modèle de Malthus) :\n",
    "\n",
    "Dans ce premier modèle, on considère que la croissance de la population est strictement proportionnelle à la population elle-même. Ceci se traduit mathématiquement par l'équation suivante :\n",
    "\n",
    "$$ \\dfrac{dP}{dt}=kP $$\n",
    "\n",
    "où $t$ est le temps mesuré en jours et $k = 0.7944$ jour$^{-1}$.\n",
    "\n",
    "Tracer l'évolution de la population de paramécies sur 15 jours en prenant une population initiale de 2 paramécies. Que pensez-vous du réalisme de ce modèle ? "
   ]
  },
  {
   "cell_type": "code",
   "execution_count": 10,
   "id": "65638004",
   "metadata": {},
   "outputs": [],
   "source": [
    "# Completer "
   ]
  },
  {
   "cell_type": "markdown",
   "id": "fa28cb4e",
   "metadata": {},
   "source": [
    "Que pensez-vous du réalisme de ce modèle ? \n",
    "\n",
    "**Culture Générale** : Oui, oui, ce modèle porte bien le nom de l'économiste Thomas Malthus (1766-1834) dont une politique porte le nom : le malthusianisme. Suivant cette politique, face à la forte évolution de la population (comme celle que vous venez d'observer) dans un environnement aux ressources limitées, il préconisait une limitation du nombre de naissances.  \n",
    "\n",
    "### Modèle logistique (modèle de Verhulst (1804-1849))\n",
    "\n",
    "Une correction du modèle précédent consiste à dire que le taux de croissance de la population est contrôlé également par la capacité à nourrir les paramécies : plus la population de paramécies est importante par rapport à  la quantité de nutriments moins la croissance de la population sera importante. Ceci se traduit par l'équation différentielle suivante :\n",
    "\n",
    "$$ \\dfrac{dP}{dt}=kP\\left( 1-\\dfrac{P}{K} \\right) $$\n",
    "\n",
    "où $K$ est la population limite. Dans l'étude de Gause, $K=64$.\n",
    "\n",
    "Sur une fenêtre comprenant 2 sous-figures, tracer dans une première sous-figure l'évolution de la population de paramécies sur 15 jours en prenant une population initiale de 2 paramécies suivant le modèle exponentiel et le modèle logistique. Vous limiterez la valeur maximale sur l'axe des ordonnées à 70. Sur la deuxième sous-figure, faire le même tracé mais seulement sur les 2 premiers jours. Il faudra que les deux courbes soient légendées pour les différencier et que les axes soient nommés.\n"
   ]
  },
  {
   "cell_type": "code",
   "execution_count": 11,
   "id": "904f740e",
   "metadata": {},
   "outputs": [],
   "source": [
    "# Completer \n"
   ]
  },
  {
   "cell_type": "markdown",
   "id": "86f992f7",
   "metadata": {},
   "source": [
    "Que pensez-vous de la comparaison entre ces 2 modèles ?\n",
    "\n",
    "**Culture Générale**  : Le modèle logistique est bien plus général que son application en biologie, on le retrouve pour évaluer l'évolution de la population d'un pays, du nombre de cas d'une maladie, de la population touchée par une rumeur, du nombre d'abonnés au réseau téléphonique, etc... "
   ]
  },
  {
   "cell_type": "markdown",
   "id": "73ea53b7",
   "metadata": {},
   "source": [
    "# Exercice 5. Modélisation de mécanismes réactionnels : cas des réactions successives (facultatif)\n",
    "*Difficulté : 5/5*\n",
    "\n",
    "## Description\n",
    "Dans un réacteur batch (cuve) on suit la transformation chimique de l'espèce $A$ en l'espèce $B$ selon la réaction totale suivante :\n",
    "\\begin{equation}\n",
    "    A \\xrightarrow{k_1} B,\n",
    "\\end{equation}\n",
    "et $B$ se décompose également en une espèce $C$ selon la réaction totale :\n",
    "\\begin{equation}\n",
    "    B \\xrightarrow{k_2} C.\n",
    "\\end{equation}\n",
    "$k_1$ = 0,005 s$^{-1}$ et $k_2$ = 0,0025 s$^{-1}$ sont les constantes de vitesse de ces réactions dans les conditions expérimentales.\n",
    "\n",
    "**On désire :**\n",
    "+ calculer numériquement l'évolution temporelle des concentrations en $A$, $B$ et $C$ : $c_A(t)$, $c_B(t)$, $c_C(t)$\n",
    "+ déterminer au bout de quelle durée de réaction $t_{max}$ la concentration en $B$ est maximale ${c_B}_{max}$.\n",
    "\n",
    "A l'aide de bilans matière et des expressions des lois de vitesse (en supposant des mécanismes simples), on établit les relations couplées suivantes :\n",
    "\n",
    "$\\frac{d c_A}{dt} = -k_1 c_A$\n",
    "\n",
    "$\\frac{d c_B}{dt} = k_1 c_A - k_2 c_B$\n",
    "\n",
    "$\\frac{d c_C}{dt} = k_2 c_B$\n",
    "\n",
    "associées aux conditions initiales :\n",
    "\n",
    "$c_A(0)$ = 1 mM\n",
    "\n",
    "$c_B(0)$ = 0\n",
    "\n",
    "$c_C(0)$ = 0\n",
    "\n",
    "**Vous allez calculer numériquement $c_A(t)$, $c_B(t)$ et $c_C(t)$ sur l'intervalle de temps [0, 2000 s])**\n",
    "\n",
    "\n",
    "## Système d'ODE\n",
    "Vous allez devoir utiliser la fonction odeint du module scipy.integrate. Cette fonction intègre des ODE de la forme :\n",
    "\\begin{equation}\n",
    "    \\frac{dY}{dt} = F(Y,t).\n",
    "\\end{equation}\n",
    "\n",
    "\n",
    "$Y$ peut être un vecteur, c'est à dire contenir plusieurs éléments. Autrement dit, l'équation précédente peut correspondre à plusieurs ODE couplées et **c'est justement le cas ici**.\n",
    "\n",
    "En fait le système d'équations à résoudre peut se mettre sous la forme :\n",
    "\n",
    "\\begin{align}\n",
    "     \\frac{d}{dt} & \\begin{bmatrix}  \n",
    "                        c_A \\\\            \n",
    "                        c_B \\\\            \n",
    "                        c_C               \n",
    "                     \\end{bmatrix} = \n",
    "                     \\begin{bmatrix}\n",
    "                         -k_1 c_A \\\\\n",
    "                         k_1 c_A - k_2 c_B \\\\\n",
    "                         k_2 c_B\n",
    "                     \\end{bmatrix}.\n",
    "\\end{align}\n",
    "\n",
    "En définissant le vecteur $Y$ comme :\n",
    "\\begin{align}\n",
    "     Y & = \\begin{bmatrix}  \n",
    "                        c_A \\\\            \n",
    "                        c_B \\\\            \n",
    "                        c_C               \n",
    "                     \\end{bmatrix}\n",
    "\\end{align}\n",
    "On peut ré-écrire le système des 3 équations sous la forme d'une seule équation :\n",
    "\\begin{equation}\n",
    "    \\frac{dY}{dt} = F(Y,t),\n",
    "\\end{equation}\n",
    "où $F$ est également un vecteur donné par :\n",
    "\\begin{align}\n",
    "     F & = \\begin{bmatrix}  \n",
    "                        -k_1 Y(1) \\\\            \n",
    "                        k_1 Y(1) - k_2 Y(2) \\\\            \n",
    "                        k_2 Y(2)               \n",
    "                     \\end{bmatrix},\n",
    "\\end{align}\n",
    "avec $Y(1) = c_A$, $Y(2) = c_B$ et $Y(3) = c_C$.\n",
    "\n",
    "La fonction odeint peut intégrer un tel système d'ODE, on pourra y faire appel une seule fois pour tout résoudre. Cependant, contrairement aux cas où il y a une seule équation à résoudre, il faudra faire passer correctement en argument, à odeint, **la fonction décrivant le système d'ODE** et **les conditions initiales**. "
   ]
  },
  {
   "cell_type": "markdown",
   "id": "1549013d",
   "metadata": {},
   "source": [
    "# Définition de la fonction décrivant le système d'ODE\n",
    "\n",
    "**Ecrire une fonction** qui prend 2 arguments :\n",
    "+ le vecteur Y (qui comprendra 3 éléments)\n",
    "+ le temps t\n",
    "\n",
    "qui calcule les dérivées :\n",
    "+ $-k_1 c_A$ \n",
    "+ $k_1 c_A - k_2 c_B$\n",
    "+ $k_2 c_B$\n",
    "\n",
    "et qui renvoie ces 3 valeurs de dérivées\n",
    "\n",
    "**Créer un tableau (array) comprenant les valeurs des concentrations initiales**\n",
    "\n",
    "**A partir de la fonction et du tableau, calculer et afficher les valeurs des dérivées à $t$ = 0** "
   ]
  },
  {
   "cell_type": "code",
   "execution_count": null,
   "id": "29eaffc7",
   "metadata": {},
   "outputs": [],
   "source": []
  },
  {
   "cell_type": "markdown",
   "id": "c64dfaf5",
   "metadata": {},
   "source": [
    "# Utilisation de odeint et représentation des résultats\n",
    "**Utiliser odeint** avec la fonction que vous avez créée pour résoudre le systéme d'équations et obtenir $c_A(t)$, $c_B(t)$ et $c_C(t)$ sur l'interavalle de temps [0, 2000 s].\n",
    "\n",
    "Petites précisions :\n",
    "+ Les 3 conditions initiales doivent être passées en argument à odeint sous forme d'une liste (ou d'un tableau)\n",
    "+ La variable renvoyée par odeint (résutlat du calcul) est un tableau, pour accéder au premier élément de $Y$, il faudra sélectionner la première colonne de ce tableau.\n",
    "\n",
    "**Sur une même figure**, tracer $c_A(t)$, $c_B(t)$ et $c_C(t)$, y inclure une légende et les noms des axes \n",
    "\n",
    "**Déterminer les valeurs de $t_{max}$ et ${c_B}_{max}$** et les représenter sur la figure.\n",
    "\n",
    "**Rajouter le tracé** de la quantité $c_A(t)+ c_B(t)+c_C(t)$, pour vérifier que la résolution numérique est conservative."
   ]
  },
  {
   "cell_type": "code",
   "execution_count": null,
   "id": "41304354",
   "metadata": {},
   "outputs": [],
   "source": []
  },
  {
   "cell_type": "markdown",
   "id": "3cea388f",
   "metadata": {},
   "source": [
    "# Comparaison avec la solution théorique\n",
    "La solution théorique du problème est la suivante :\n",
    "\n",
    "${c_A}_{th}(t) = c_A(0)e^{-k_1t}$\n",
    "\n",
    "${c_B}_{th}(t) = \\frac{k_1}{k_2-k_1}c_A(0)\\left(e^{-k_1 t}- e^{-k_2 t}\\right)$\n",
    "\n",
    "${c_C}_{th}(t) = c_A(0)+c_B(0)+c_C(0) - {c_A}_{th}(t) - {c_B}_{th}(t)$\n",
    "\n",
    "**Rajouter le tracé de ${c_B}_{th}(t)$**\n",
    "\n",
    "**Faire une nouvelle figure**, tracer l'erreur relative sur $c_B$ en fonction du temps : \n",
    "\\begin{equation}\n",
    "    \\frac{\\sqrt{(c_B - {c_B}_{th})^2 }}{{c_B}_{th}},\n",
    "\\end{equation}    \n",
    "et calculer sa valeur moyenne"
   ]
  },
  {
   "cell_type": "code",
   "execution_count": null,
   "id": "4046587c",
   "metadata": {},
   "outputs": [],
   "source": []
  },
  {
   "cell_type": "code",
   "execution_count": 14,
   "id": "1358b3a7",
   "metadata": {},
   "outputs": [
    {
     "data": {
      "text/markdown": [
       "**Fin à:** Tuesday 15 November 2022, 09:29:06  \n",
       "**Durée:** 00:00:00 030ms"
      ],
      "text/plain": [
       "<IPython.core.display.Markdown object>"
      ]
     },
     "metadata": {},
     "output_type": "display_data"
    },
    {
     "data": {
      "text/markdown": [
       "<p style=\"text-align: center\"><img width=\"800px\" src=\"../config/svg/logoFin.svg\" style=\"margin-left:auto; margin-right:auto\"/></p>"
      ],
      "text/plain": [
       "<IPython.core.display.Markdown object>"
      ]
     },
     "metadata": {},
     "output_type": "display_data"
    }
   ],
   "source": [
    "###############################################################################################\n",
    "# supprimez cette cellule si vous exécutez ce notebook en-dehors de la distribution CHIM2-ON1 #\n",
    "###############################################################################################\n",
    "\n",
    "vID.end(cwd0)"
   ]
  }
 ],
 "metadata": {
  "kernelspec": {
   "display_name": "Python 3",
   "language": "python",
   "name": "python3"
  },
  "language_info": {
   "codemirror_mode": {
    "name": "ipython",
    "version": 3
   },
   "file_extension": ".py",
   "mimetype": "text/x-python",
   "name": "python",
   "nbconvert_exporter": "python",
   "pygments_lexer": "ipython3",
   "version": "3.9.13"
  }
 },
 "nbformat": 4,
 "nbformat_minor": 5
}
