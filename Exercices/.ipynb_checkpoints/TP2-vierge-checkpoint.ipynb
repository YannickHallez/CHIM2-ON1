{
 "cells": [
  {
   "cell_type": "code",
   "execution_count": 1,
   "id": "a031484a",
   "metadata": {},
   "outputs": [
    {
     "data": {
      "text/html": [
       "<style>\n",
       "h1, h2, h3, h4, h5, h6 {\n",
       "  font-family: Verdana, \"DejaVu Sans\", \"Bitstream Vera Sans\", Geneva, sans-serif;\n",
       "  font-weight: bold;\n",
       "}\n",
       "body {\n",
       "  font-family: Verdana, \"DejaVu Sans\", \"Bitstream Vera Sans\", Geneva, sans-serif;\n",
       "  font-weight: 200;\n",
       "}\n",
       "h1 {\n",
       "  border: 0 solid #333;\n",
       "  padding: 30px ;\n",
       "  color: white;\n",
       "  background: #b11d01;\n",
       "  text-align: center;\n",
       "}\n",
       "h2 {\n",
       "  border: 3px solid #333;\n",
       "  padding: 18px ;\n",
       "  color: #b11d01;\n",
       "  background: #ffffff;\n",
       "  text-align: center;\n",
       "}\n",
       "h3 {\n",
       "  border: 0 solid #333;\n",
       "  padding: 12px ;\n",
       "  color: #000000;\n",
       "  background: #c1c1c1;\n",
       "  text-align: left;\n",
       "}\n",
       "h4 {\n",
       "  border: 0 solid #333;\n",
       "  padding: 2px ;\n",
       "  color: #000000;\n",
       "  background: #d9fffc;\n",
       "  text-align: left;\n",
       "}\n",
       "h5 {\n",
       "  border: 1px solid #333;\n",
       "  padding: 2px ;\n",
       "  color: #000000;\n",
       "  background: #ffffff;\n",
       "  text-align: left;\n",
       "}\n",
       ".warn {    \n",
       "    background-color: #fcf2f2;\n",
       "    border-color: #dFb5b4;\n",
       "    border-left: 5px solid #dfb5b4;\n",
       "    padding: 0.5em;\n",
       "    font-weight: 200;\n",
       "    }\n",
       ".rq {    \n",
       "    background-color: #e2e2e2;\n",
       "    border-color: #969696;\n",
       "    border-left: 5px solid #969696;\n",
       "    padding: 0.5em;\n",
       "    font-weight: 200;\n",
       "    }\n",
       "</style>\n"
      ],
      "text/plain": [
       "<IPython.core.display.HTML object>"
      ]
     },
     "metadata": {},
     "output_type": "display_data"
    },
    {
     "data": {
      "text/markdown": [
       "**Début à:** Sunday 30 October 2022, 09:42:47  \n",
       "**Hostname:** localhost.localdomain (Linux)"
      ],
      "text/plain": [
       "<IPython.core.display.Markdown object>"
      ]
     },
     "metadata": {},
     "output_type": "display_data"
    },
    {
     "data": {
      "text/markdown": [
       "<p style=\"text-align: center\"><img width=\"800px\" src=\"../config/svg/logoDebut.svg\" style=\"margin-left:auto; margin-right:auto\"/></p>"
      ],
      "text/plain": [
       "<IPython.core.display.Markdown object>"
      ]
     },
     "metadata": {},
     "output_type": "display_data"
    }
   ],
   "source": [
    "###############################################################################################\n",
    "# supprimez cette cellule si vous exécutez ce notebook en-dehors de la distribution CHIM2-ON1 #\n",
    "###############################################################################################\n",
    "\n",
    "import os\n",
    "import sys\n",
    "\n",
    "cwd0 = \"../config/\"\n",
    "sys.path.append(cwd0)\n",
    "                            \n",
    "import visualID as vID\n",
    "from visualID import color\n",
    "vID.init(cwd0)"
   ]
  },
  {
   "cell_type": "markdown",
   "id": "d88f0262",
   "metadata": {},
   "source": [
    "# TP2. Exercices sur les Tableaux \n",
    "\n",
    "## Exercice 1. Dosage des ions Calcium et Magnesium dans de l'eau (2ème partie)\n",
    "\n",
    "Des mesures par dosage de la concentration en ions Calcium et Magnesium sont réalisées. A partir d'une série de mesures, vous allez calculer des grandeurs caractéristiques de cette série.\n",
    "\n",
    "Afin de générer artificiellement cette série de mesures, vous importerez le code `genereConcentration.py` dans la cellule ci-dessous. On y appelle ensuite la fonction `genereC` du module `genereConcentration` pour créer une liste appelée `C` de `N` concentrations mesurées."
   ]
  },
  {
   "cell_type": "code",
   "execution_count": 4,
   "id": "15067f78",
   "metadata": {},
   "outputs": [
    {
     "name": "stdout",
     "output_type": "stream",
     "text": [
      "[4.16294, 3.81468, 3.98643, 4.27698, 3.64242, 4.07021, 3.92728, 3.74498, 3.60271, 3.85509, 4.00183, 3.53495, 4.1093, 3.82107, 4.06609, 4.17144, 4.24872, 3.91234, 4.23606, 3.90864, 4.09346, 3.8884, 4.01041, 3.99336, 4.00815, 4.19792, 4.0613, 3.72411, 4.11349, 3.58778, 4.19244, 4.17819, 4.03065, 4.17369, 3.78749, 4.14533, 3.73082, 3.88442, 3.67594, 4.33418, 4.29488, 4.37015, 3.89743, 4.17352, 3.91084, 3.982, 3.95524, 3.68699, 3.81983, 3.92425, 4.09783, 3.82894, 3.54164, 3.87653, 4.20296, 4.42074, 4.37682, 3.97642, 3.85565, 4.37483, 4.06193, 4.30151, 3.97024, 4.02608, 3.81196, 3.78602, 3.96433, 4.10658, 4.25299, 3.72041, 3.99431, 3.94519, 3.97324, 3.9607, 3.89365, 4.14339, 3.72273, 4.049, 3.81743, 3.86301, 4.05286, 3.79997, 3.90138, 3.73754, 4.34189, 4.06561, 3.92152, 4.34997, 4.11816, 3.97165, 3.68072, 3.76654, 4.27545, 4.41018, 4.06333, 3.94117, 3.86159, 4.37754, 4.158, 3.80182, 3.91202, 3.79334, 3.83175, 3.83508, 4.28229, 4.46724, 3.92225, 3.71595, 3.83787, 3.97884, 3.84416, 3.94507, 3.62394, 3.97319, 3.86643, 4.01726, 3.7755, 3.9709, 3.93157, 3.84627, 3.76271, 4.13355, 4.06875, 3.82535, 3.88303, 4.095, 3.57079, 3.98084, 4.11623, 3.77445, 4.11201, 4.02753, 3.95472, 3.81649, 4.01172, 4.07789, 4.01585, 3.63657, 3.93641, 3.43605, 4.13317, 3.86215, 3.65554, 3.96959, 4.01977, 4.12766, 3.89092, 4.11393, 3.6474, 4.03018]\n"
     ]
    }
   ],
   "source": [
    "# entrez votre code python dans cette cellule\n",
    "import genereConcentration as gc\n",
    "N = 150\n",
    "C = gc.genereC(N)\n",
    "print (C)"
   ]
  },
  {
   "cell_type": "markdown",
   "id": "8848415b",
   "metadata": {},
   "source": [
    "**Dans cet exercice, vous ne devez pas utiliser de boucles.**\n",
    "\n",
    "**1.** Convertir la liste `C` en un tableau."
   ]
  },
  {
   "cell_type": "code",
   "execution_count": null,
   "id": "15f2509c",
   "metadata": {},
   "outputs": [],
   "source": [
    "# entrez votre code python dans cette cellule\n"
   ]
  },
  {
   "cell_type": "markdown",
   "id": "0edfb07e",
   "metadata": {},
   "source": [
    "**2.** Calculer la moyenne de la concentration $\\bar{c}$."
   ]
  },
  {
   "cell_type": "code",
   "execution_count": null,
   "id": "7631f7e1",
   "metadata": {},
   "outputs": [],
   "source": [
    "# entrez votre code python dans cette cellule\n"
   ]
  },
  {
   "cell_type": "markdown",
   "id": "4aa801eb",
   "metadata": {},
   "source": [
    "**3.** Trouver le minimum et le maximum de la concentration."
   ]
  },
  {
   "cell_type": "code",
   "execution_count": null,
   "id": "6b2634e4",
   "metadata": {},
   "outputs": [],
   "source": [
    "# entrez votre code python dans cette cellule\n"
   ]
  },
  {
   "cell_type": "markdown",
   "id": "842fe535",
   "metadata": {},
   "source": [
    "**4.** Calculer l'écart-type de la série de mesure sans faire de boucles. On donne la formule permettant le calcul de l'écart-type :\n",
    "\n",
    "$$ \\sigma=\\sqrt{\\dfrac{1}{N}\\sum_{i=0}^{N-1}(c_{i}-\\bar{c})^{2}} $$\n",
    "\n",
    "où $N$ est le nombre de valeurs de la série générée par `genereC`. Les $c_i$ correspondent aux éléments du tableau des concentrations `C` générée par le code ci-dessus."
   ]
  },
  {
   "cell_type": "code",
   "execution_count": null,
   "id": "8005455f",
   "metadata": {},
   "outputs": [],
   "source": [
    "# entrez votre code python dans cette cellule\n"
   ]
  },
  {
   "cell_type": "markdown",
   "id": "4efc5b11",
   "metadata": {},
   "source": [
    "**5.** Calculez la médiane de la série de données grâce à `med = median(C)` et vérifiez que la valeur de `med` correspond bien à la définition de la médiane, c'est-à-dire qu'il y a 50% de valeurs dans la série inférieures à `med` et 50% de valeurs dans la série supérieures à `med`."
   ]
  },
  {
   "cell_type": "code",
   "execution_count": null,
   "id": "88400d63",
   "metadata": {},
   "outputs": [],
   "source": [
    "# entrez votre code python dans cette cellule\n"
   ]
  },
  {
   "cell_type": "markdown",
   "id": "373e3c93",
   "metadata": {},
   "source": [
    "## Exercice 2. Vitesse des molécules dans un gaz parfait\n",
    "\n",
    "La théorie cinétique des gaz permet de connaître pour une température $T$ donnée (en Kelvin) la quantité d'atomes (ou de molécules pour un gaz moléculaire) dont la vitesse $v$ est comprise entre $v$ et $v+dv$ où $dv$ représente un élément de taille très petite de la vitesse comparé à la valeur de $v$ (on parle de variation infinitésimale). En langage plus familier, cela permet de connaître la fraction d'atomes ayant une certaine vitesse. Nous appellerons cette quantité $\\rho(v,T)$. Cette loi de variation s'appelle la loi de Maxwell-Boltzmann.\n",
    "\n",
    "La fonction `ddp` du module `distribVT` permet de calculer la valeur de cette loi pour une vitesse $v$ et une température $T$ données. Pour pourvoir l'utiliser, il faut que le fichier `distribVT.py` soit présent dans votre répertoire de travail. Dans ce module, le gaz considéré est l'Argon. Dans la cellule  ci-dessous, on montre comment utiliser ce module pour calculer la valeur de la loi de Maxwell-Boltzmann pour une température $T$ = 273 K et une vitesse $v$ = 500 m s$^{-1}$, c'est à dire $\\rho(500,273)$."
   ]
  },
  {
   "cell_type": "code",
   "execution_count": 7,
   "id": "4c8ae004",
   "metadata": {},
   "outputs": [
    {
     "name": "stdout",
     "output_type": "stream",
     "text": [
      "0.0016295314537043363\n"
     ]
    }
   ],
   "source": [
    "import distribVT as vt\n",
    "T=273\n",
    "print (vt.ddp(500 ,T))"
   ]
  },
  {
   "cell_type": "markdown",
   "id": "e149ed62",
   "metadata": {},
   "source": [
    "**1.** Faire le nécessaire pour qu'un utilisateur puisse saisir la température de travail en faisant en sorte que l'utilisateur ne puisse pas saisir une température inférieure à la température de liquéfaction de l'argon qui est de -185,85 °C à la pression atmosphérique. Cette valeur sera placée dans une variable `T`. Vous choisirez dans un premier temps une valeur 25 °C."
   ]
  },
  {
   "cell_type": "code",
   "execution_count": null,
   "id": "15a4a331",
   "metadata": {},
   "outputs": [],
   "source": [
    "# entrez votre code python dans cette cellule\n"
   ]
  },
  {
   "cell_type": "markdown",
   "id": "32ab3783",
   "metadata": {},
   "source": [
    "**2.** Faire le nécessaire pour qu'un utilisateur puisse saisir la vitesse maximale du domaine des vitesses, $v_{\\mathrm{max}}$. Cette valeur sera placée dans une variable `vMax`. Vous choisirez dans un premier temps une valeur de 1500 m s$^{-1}$."
   ]
  },
  {
   "cell_type": "code",
   "execution_count": null,
   "id": "08e097e3",
   "metadata": {},
   "outputs": [],
   "source": [
    "# entrez votre code python dans cette cellule\n"
   ]
  },
  {
   "cell_type": "markdown",
   "id": "1a23b4d7",
   "metadata": {},
   "source": [
    "**3.** Créer un tableau vitesse `v` comprenant $n$=2000 valeurs entre 0 m s$^{-1}$ et $v_{\\mathrm{max}}$. Calculer dans une variable `pas`, l'écart de vitesse entre 2 vitesses successives dans le tableau `v`."
   ]
  },
  {
   "cell_type": "code",
   "execution_count": null,
   "id": "cc316bbe",
   "metadata": {},
   "outputs": [],
   "source": [
    "# entrez votre code python dans cette cellule\n"
   ]
  },
  {
   "cell_type": "markdown",
   "id": "7843a320",
   "metadata": {},
   "source": [
    "**4.** Créer un tableau `val` contenant les valeurs de la loi de Maxwell-Boltzmann pour chacune des vitesses du tableau `v`."
   ]
  },
  {
   "cell_type": "code",
   "execution_count": null,
   "id": "82f0972f",
   "metadata": {},
   "outputs": [],
   "source": [
    "# entrez votre code python dans cette cellule\n"
   ]
  },
  {
   "cell_type": "markdown",
   "id": "22cafa4f",
   "metadata": {},
   "source": [
    "**5.** Donner la vitesse la plus probable, c'est à dire, celle qui correspond au maximum du tableau  `val`. Il ne s'agit pas d'en faire un calcul théorique (une formule existe) mais de trouver sa valeur dans le tableau vitesse `v`."
   ]
  },
  {
   "cell_type": "code",
   "execution_count": null,
   "id": "0c256cce",
   "metadata": {},
   "outputs": [],
   "source": [
    "# entrez votre code python dans cette cellule\n"
   ]
  },
  {
   "cell_type": "markdown",
   "id": "ab7161b9",
   "metadata": {},
   "source": [
    "**6.** Calculer la vitesse moyenne $\\bar{v}$. Pour cela, vous utiliserez la méthode des trapèzes et la formule suivante : \n",
    "\n",
    "$$\\bar{v}=\\int_{0}^{+\\infty}v\\rho(v,T)dv$$\n",
    "\n",
    "Appliquée à la méthodes des trapèzes, on a dans le cas qui nous intéresse :\n",
    "\n",
    "$$\\bar{v}={pas}\\left(\\dfrac{\\left(v_{0}\\rho(v_{0},T)+v_{n-1}\\rho(v_{n-1},T)\\right)}{2})+\\sum_{i=1}^{n-2}v_{i}\\rho(v_{i},T)\\right)$$\n",
    "\n",
    "Vous remarquerez que la vitesse la vitesse moyenne n'est pas la plus probable !"
   ]
  },
  {
   "cell_type": "code",
   "execution_count": null,
   "id": "c8e43353",
   "metadata": {},
   "outputs": [],
   "source": [
    "# entrez votre code python dans cette cellule\n"
   ]
  },
  {
   "cell_type": "markdown",
   "id": "276fe56c",
   "metadata": {},
   "source": [
    "<div class='rq'>\n",
    "    \n",
    "**AMÉLIORATIONS FACULTATIVES** (demander à l'enseignant si vous avez le temps de la traiter en séance ou s'il vaut mieux passer à l'exercice suivant). Si vous avez réussi les questions précédentes, C'est que le sujet a été écrit pour vous faciliter la tâche. On vous a fixé les données suivantes : la température et la vitesse maximale $v_{\\mathrm{max}}$. Mais si vous choisissez une température plus élevée qui vous garantit qu'un nombre important d'atomes ne vont pas dépasser les 1500 m s$^{-1}$ ? Il faut donc vérifier avant les calculs de la vitesse la plus probable et de $\\bar{v}$ que l'ensemble des vitesses choisies est suffisant. S'il n'est pas suffisant il faudra alors demander à l'utilisateur de choisir une valeur $v_{\\mathrm{max}}$ supérieure à celle choisie précédemment.\n",
    "    \n",
    "Mais comment savoir si $v_{\\mathrm{max}}$ est suffisamment grande ? Pour cela, il faut s'assurer que l'intégrale\n",
    "    \n",
    "$$I=\\int_{0}^{v_{\\mathrm{max}}}\\rho(v,T)dv$$\n",
    "    \n",
    " est proche de 1.\n",
    "    \n",
    "Par exemple, on peut considérer que si $(1-I)<10^{-3}$, la plage de vitesses est suffisante. Sinon, cela signifie que la valeur saisie pour $v_{\\mathrm{max}}$ est trop faible et qu'il faut demander une valeur plus importante et ainsi de suite jusqu'à ce que I vérifie $(1-I)<10^{-3}$. Les questions suivantes portent sur l'implémentation de ce processus.\n",
    "    \n",
    "</div>"
   ]
  },
  {
   "cell_type": "markdown",
   "id": "53d2f34d",
   "metadata": {},
   "source": [
    "<div class='rq'>\n",
    "\n",
    "**7.** Calculer I par la méthode des trapèzes : \n",
    "    \n",
    "\n",
    "$$I={pas}\\left(\\dfrac{\\left(\\rho(v_{0},T)+\\rho(v_{n-1},T)\\right)}{2})+\\sum_{i=1}^{n-2}\\rho(v_{i},T)\\right)$$\n",
    "    \n",
    "</div>"
   ]
  },
  {
   "cell_type": "code",
   "execution_count": null,
   "id": "c1e7bea2",
   "metadata": {},
   "outputs": [],
   "source": [
    "# entrez votre code python dans cette cellule\n"
   ]
  },
  {
   "cell_type": "markdown",
   "id": "2aa1d934",
   "metadata": {},
   "source": [
    "<div class='rq'>\n",
    "\n",
    "**8.** Faire en sorte que l'utilisateur saisisse à nouveau une valeur de $v_{\\mathrm{max}}$ tant que la relation $1-I<10^{-3}$ n'est pas respectée avant de calculer la vitesse la plus probable et $\\bar{v}$.\n",
    "\n",
    "*Vous pouvez maintenant faire les calculs pour toutes les températures que vous voulez :-)*\n",
    "    \n",
    "</div>"
   ]
  },
  {
   "cell_type": "code",
   "execution_count": 8,
   "id": "e4c84d2b",
   "metadata": {},
   "outputs": [],
   "source": [
    "# entrez votre code python dans cette cellule\n"
   ]
  },
  {
   "cell_type": "markdown",
   "id": "d6dc678f",
   "metadata": {},
   "source": [
    "## Exercice 3. Écrêtage et lissage de courbes\n",
    "\n",
    "Des mesures donnent l'évolution d'une concentration en fonction du temps.\n",
    "\n",
    "Afin de générer artificiellement cette série de mesures, vous utiliserez le fichier `genereConcentration.py`. On rappelle dans la cellule ci-dessous comment créer une liste appelée `C`, grâce à l'appel de la fonction `decC`, importée du module `genereConcentration`. On fait ensuite à la fonction `plot`."
   ]
  },
  {
   "cell_type": "code",
   "execution_count": 10,
   "id": "2cd056bc",
   "metadata": {
    "scrolled": true
   },
   "outputs": [
    {
     "data": {
      "text/plain": [
       "[<matplotlib.lines.Line2D at 0x7f76902f6b20>]"
      ]
     },
     "execution_count": 10,
     "metadata": {},
     "output_type": "execute_result"
    },
    {
     "data": {
      "image/png": "[encoded data removed]",
      "text/plain": [
       "<Figure size 432x288 with 1 Axes>"
      ]
     },
     "metadata": {
      "needs_background": "light"
     },
     "output_type": "display_data"
    }
   ],
   "source": [
    "import genereConcentration as gc\n",
    "from pylab import *\n",
    "C = gc.decC ()\n",
    "plot(C)"
   ]
  },
  {
   "cell_type": "markdown",
   "id": "10cbc889",
   "metadata": {},
   "source": [
    "**1.** Convertir la liste `C` en un tableau."
   ]
  },
  {
   "cell_type": "code",
   "execution_count": null,
   "id": "50616a13",
   "metadata": {},
   "outputs": [],
   "source": [
    "# entrez votre code python dans cette cellule\n"
   ]
  },
  {
   "cell_type": "markdown",
   "id": "baaf8e73",
   "metadata": {},
   "source": [
    "**2.** Certaines mesures de concentration sont négatives suite à des erreurs de mesure. Sans faire de boucles, remplacer par la valeur 0 les valeurs négatives dans le tableau `C`."
   ]
  },
  {
   "cell_type": "code",
   "execution_count": null,
   "id": "3b4fc093",
   "metadata": {},
   "outputs": [],
   "source": [
    "# entrez votre code python dans cette cellule\n"
   ]
  },
  {
   "cell_type": "markdown",
   "id": "160a3a0c",
   "metadata": {},
   "source": [
    "**3.** Les données présentent beaucoup de variations d'une mesure à l'autre. Vous allez lisser ces valeurs en utilisant la méthode de la moyenne mobile. Cette méthode consiste à calculer la $i$-ème valeur du tableau des valeurs lissées, que nous appellerons $L$, comme étant la moyenne centrées autour de $C_{i}$ des $k$ valeurs qui le précèdent, des $k$ valeurs qui le suivent et de lui-même. On a ainsi la formule :\n",
    "\n",
    "$$L_{i}=\\dfrac{1}{2k+1}\\sum_{j=i-k}^{i+k}C_{i}$$\n",
    "\n",
    "**3a.** Calculer les valeurs du tableau `L`. Vous laisserez les $k$ premières valeurs de $L_{i}$ égales à celle de $C_{i}$ et de même pour les $k$ dernières."
   ]
  },
  {
   "cell_type": "code",
   "execution_count": null,
   "id": "75282e64",
   "metadata": {},
   "outputs": [],
   "source": [
    "# entrez votre code python dans cette cellule\n"
   ]
  },
  {
   "cell_type": "markdown",
   "id": "3c463717",
   "metadata": {},
   "source": [
    "**3b.** Vous pouvez en exécutant `plot(L)` voir l'effet de votre lissage. Vous pouvez vous amuser à le faire pour différentes valeurs de $k$."
   ]
  },
  {
   "cell_type": "code",
   "execution_count": null,
   "id": "db9eb82f",
   "metadata": {},
   "outputs": [],
   "source": [
    "# entrez votre code python dans cette cellule\n"
   ]
  },
  {
   "cell_type": "markdown",
   "id": "446d9a02",
   "metadata": {},
   "source": [
    "<div class='rq'>\n",
    "\n",
    "**4. Question facultative.** Trouver un moyen d'améliorer le traitement des $k$ premières et des $k$ dernières valeurs pour que le lissage concernent également cette partie des valeurs. \n",
    "    \n",
    "</div>"
   ]
  },
  {
   "cell_type": "code",
   "execution_count": 11,
   "id": "558d9e28",
   "metadata": {},
   "outputs": [],
   "source": [
    "# entrez votre code python dans cette cellule\n"
   ]
  },
  {
   "cell_type": "code",
   "execution_count": 2,
   "id": "16c95e7f",
   "metadata": {},
   "outputs": [
    {
     "data": {
      "text/markdown": [
       "**Fin à:** Sunday 30 October 2022, 09:42:52  \n",
       "**Durée:** 00:00:06 540ms"
      ],
      "text/plain": [
       "<IPython.core.display.Markdown object>"
      ]
     },
     "metadata": {},
     "output_type": "display_data"
    },
    {
     "data": {
      "text/markdown": [
       "<p style=\"text-align: center\"><img width=\"800px\" src=\"../config/svg/logoFin.svg\" style=\"margin-left:auto; margin-right:auto\"/></p>"
      ],
      "text/plain": [
       "<IPython.core.display.Markdown object>"
      ]
     },
     "metadata": {},
     "output_type": "display_data"
    }
   ],
   "source": [
    "###############################################################################################\n",
    "# supprimez cette cellule si vous exécutez ce notebook en-dehors de la distribution CHIM2-ON1 #\n",
    "###############################################################################################\n",
    "\n",
    "vID.end(cwd0)"
   ]
  },
  {
   "cell_type": "code",
   "execution_count": null,
   "id": "64d5f763",
   "metadata": {},
   "outputs": [],
   "source": []
  }
 ],
 "metadata": {
  "kernelspec": {
   "display_name": "Python 3 (ipykernel)",
   "language": "python",
   "name": "python3"
  },
  "language_info": {
   "codemirror_mode": {
    "name": "ipython",
    "version": 3
   },
   "file_extension": ".py",
   "mimetype": "text/x-python",
   "name": "python",
   "nbconvert_exporter": "python",
   "pygments_lexer": "ipython3",
   "version": "3.9.12"
  }
 },
 "nbformat": 4,
 "nbformat_minor": 5
}
