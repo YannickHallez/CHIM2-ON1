{
 "cells": [
  {
   "cell_type": "code",
   "execution_count": 1,
   "id": "7c003c58",
   "metadata": {
    "tags": []
   },
   "outputs": [
    {
     "data": {
      "text/html": [
       "<style>\n",
       "h1, h2, h3, h4, h5, h6 {\n",
       "  font-family: Verdana, \"DejaVu Sans\", \"Bitstream Vera Sans\", Geneva, sans-serif;\n",
       "  font-weight: bold;\n",
       "}\n",
       "body {\n",
       "  font-family: Verdana, \"DejaVu Sans\", \"Bitstream Vera Sans\", Geneva, sans-serif;\n",
       "  font-weight: 200;\n",
       "}\n",
       "h1 {\n",
       "  border: 0 solid #333;\n",
       "  padding: 30px ;\n",
       "  color: white;\n",
       "  background: #b11d01;\n",
       "  text-align: center;\n",
       "}\n",
       "h2 {\n",
       "  border: 3px solid #333;\n",
       "  padding: 18px ;\n",
       "  color: #b11d01;\n",
       "  background: #ffffff;\n",
       "  text-align: center;\n",
       "}\n",
       "h3 {\n",
       "  border: 0 solid #333;\n",
       "  padding: 12px ;\n",
       "  color: #000000;\n",
       "  background: #c1c1c1;\n",
       "  text-align: left;\n",
       "}\n",
       "h4 {\n",
       "  border: 0 solid #333;\n",
       "  padding: 2px ;\n",
       "  color: #000000;\n",
       "  background: #d9fffc;\n",
       "  text-align: left;\n",
       "}\n",
       "h5 {\n",
       "  border: 1px solid #333;\n",
       "  padding: 2px ;\n",
       "  color: #000000;\n",
       "  background: #ffffff;\n",
       "  text-align: left;\n",
       "}\n",
       ".warn {    \n",
       "    background-color: #fcf2f2;\n",
       "    border-color: #dFb5b4;\n",
       "    border-left: 5px solid #dfb5b4;\n",
       "    padding: 0.5em;\n",
       "    font-weight: 200;\n",
       "    }\n",
       ".rq {    \n",
       "    background-color: #e2e2e2;\n",
       "    border-color: #969696;\n",
       "    border-left: 5px solid #969696;\n",
       "    padding: 0.5em;\n",
       "    font-weight: 200;\n",
       "    }\n",
       "</style>\n"
      ],
      "text/plain": [
       "<IPython.core.display.HTML object>"
      ]
     },
     "metadata": {},
     "output_type": "display_data"
    },
    {
     "data": {
      "text/markdown": [
       "**Début à:** Saturday 12 November 2022, 15:44:01  \n",
       "**Hostname:** heimdall (Darwin)"
      ],
      "text/plain": [
       "<IPython.core.display.Markdown object>"
      ]
     },
     "metadata": {},
     "output_type": "display_data"
    },
    {
     "data": {
      "text/markdown": [
       "<p style=\"text-align: center\"><img width=\"800px\" src=\"../config/svg/logoDebut.svg\" style=\"margin-left:auto; margin-right:auto\"/></p>"
      ],
      "text/plain": [
       "<IPython.core.display.Markdown object>"
      ]
     },
     "metadata": {},
     "output_type": "display_data"
    }
   ],
   "source": [
    "###############################################################################################\n",
    "#\n",
    "# exécutez cette cellule avant d'utiliser le reste du notebook\n",
    "#\n",
    "# supprimez-là si vous exécutez ce notebook en-dehors de la distribution CHIM2-ON1 #\n",
    "#\n",
    "###############################################################################################\n",
    "\n",
    "import os\n",
    "import sys\n",
    "\n",
    "cwd0 = \"../config/\"\n",
    "sys.path.append(cwd0)\n",
    "                            \n",
    "import visualID as vID\n",
    "from visualID import color\n",
    "vID.init(cwd0)"
   ]
  },
  {
   "cell_type": "markdown",
   "id": "4de2f37d",
   "metadata": {},
   "source": [
    "# TP4. Exercices sur la définition de fonctions et l'ajustement de modèles\n",
    "\n",
    "## Exercice 1. Calcul du pH d'une solution d'acide formique.\n",
    "\n",
    "On ajoute de l'acide formique (HCOOH, abrégé ici AH, pKa=3.8) à une concentration initiale $[AH_0]$ dans de l'eau à pH=7. On suppose que $[AH_0]\\gg 10^{-7}$ M de manière à pouvoir négliger la dissociation de l'eau. On considère la réaction de dissociation \n",
    "\n",
    "$$\\mathrm{AH +H_2O\\leftrightarrow A^- + H_3O^+}$$\n",
    "\n",
    "dont la constante est \n",
    "\n",
    "$$Ka=\\frac{[\\mathrm{A^-}][\\mathrm{H_3O^+}]}{[\\mathrm{AH}]}.$$ \n",
    "\n",
    "Il est possible de démontrer que le pH est  \n",
    "\n",
    "$$pH = -\\log\\left[ \\frac{Ka}{2}\\left(\\sqrt{1+4\\frac{[\\mathrm{AH_0}]}{Ka}}-1\\right)\\right]$$\n",
    "\n",
    "et que la fraction d'acide est  \n",
    "\n",
    "$$f=\\frac{[AH]}{[AH_0]}=\\frac{1}{1+10^{pH-pKa}}$$\n",
    "\n",
    "1. Ecrivez une fonction Python appelée calculepH() qui prend en argument la concentration initiale en acide $[AH_0]$ et son pKa et qui renvoie à l'utilisateur le pH à l'équilibre. \n",
    "2. Testez cette fonction pour la valider : le pH de l'acide formique à une concentration initiale de 1 mM devrait être d'environ 3.48.\n",
    "3. Utilisez la fonction pour tracer la courbe du pH d'une solution d'acide formique en fonction de sa concentration initiale $[AH_0]$ comprise entre 0.1 mM et 1 M. Pour ceci, vous créerez au préalable un tableau numpy AH0 contenant 100 valeurs entre 0.1 mM et 1M. \n",
    "4. Ecrivez une fonction fraction() qui prend comme argument le pH et le pKa et qui renvoie la valeur de la fraction en acide $f$. \n",
    "5. Tracez le diagramme de spéciation de l'acide formique pour des pH compris entre 0 et 10, c'est-à-dire un graphe représentant la fraction de la forme acide en fonction du pH sur une première courbe, ainsi que la fraction de la forme basique en fonction du pH sur une autre courbe. Pour ceci, il faudra créer un tableau numpy pour le pH. Votre graphe aura des labels sur les axes, ainsi qu'une légende."
   ]
  },
  {
   "cell_type": "code",
   "execution_count": 1,
   "id": "60158eba",
   "metadata": {},
   "outputs": [],
   "source": [
    "#1 \n",
    "\n",
    "#2\n",
    "\n",
    "#3\n",
    "\n",
    "#4\n",
    "\n",
    "#5\n"
   ]
  },
  {
   "cell_type": "code",
   "execution_count": 2,
   "id": "129e8a3a",
   "metadata": {},
   "outputs": [
    {
     "data": {
      "text/markdown": [
       "**Fin à:** Saturday 12 November 2022, 15:44:01  \n",
       "**Durée:** 00:00:00 018ms"
      ],
      "text/plain": [
       "<IPython.core.display.Markdown object>"
      ]
     },
     "metadata": {},
     "output_type": "display_data"
    },
    {
     "data": {
      "text/markdown": [
       "<p style=\"text-align: center\"><img width=\"800px\" src=\"../config/svg/logoFin.svg\" style=\"margin-left:auto; margin-right:auto\"/></p>"
      ],
      "text/plain": [
       "<IPython.core.display.Markdown object>"
      ]
     },
     "metadata": {},
     "output_type": "display_data"
    }
   ],
   "source": [
    "###############################################################################################\n",
    "# supprimez cette cellule si vous exécutez ce notebook en-dehors de la distribution CHIM2-ON1 #\n",
    "###############################################################################################\n",
    "\n",
    "vID.end(cwd0)"
   ]
  }
 ],
 "metadata": {
  "kernelspec": {
   "display_name": "Python 3 (ipykernel)",
   "language": "python",
   "name": "python3"
  },
  "language_info": {
   "codemirror_mode": {
    "name": "ipython",
    "version": 3
   },
   "file_extension": ".py",
   "mimetype": "text/x-python",
   "name": "python",
   "nbconvert_exporter": "python",
   "pygments_lexer": "ipython3",
   "version": "3.10.6"
  }
 },
 "nbformat": 4,
 "nbformat_minor": 5
}
