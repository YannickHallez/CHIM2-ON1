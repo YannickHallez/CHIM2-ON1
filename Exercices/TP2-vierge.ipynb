{
 "cells": [
  {
   "cell_type": "code",
   "execution_count": 4,
   "metadata": {},
   "outputs": [
    {
     "data": {
      "text/html": [
       "<style>\n",
       "h1, h2, h3, h4, h5, h6 {\n",
       "  font-family: Verdana, \"DejaVu Sans\", \"Bitstream Vera Sans\", Geneva, sans-serif;\n",
       "  font-weight: bold;\n",
       "}\n",
       "body {\n",
       "  font-family: Verdana, \"DejaVu Sans\", \"Bitstream Vera Sans\", Geneva, sans-serif;\n",
       "  font-weight: 200;\n",
       "}\n",
       "h1 {\n",
       "  border: 0 solid #333;\n",
       "  padding: 30px ;\n",
       "  color: white;\n",
       "  background: #b11d01;\n",
       "  text-align: center;\n",
       "}\n",
       "h2 {\n",
       "  border: 3px solid #333;\n",
       "  padding: 18px ;\n",
       "  color: #b11d01;\n",
       "  background: #ffffff;\n",
       "  text-align: center;\n",
       "}\n",
       "h3 {\n",
       "  border: 0 solid #333;\n",
       "  padding: 12px ;\n",
       "  color: #000000;\n",
       "  background: #c1c1c1;\n",
       "  text-align: left;\n",
       "}\n",
       "h4 {\n",
       "  border: 0 solid #333;\n",
       "  padding: 2px ;\n",
       "  color: #000000;\n",
       "  background: #d9fffc;\n",
       "  text-align: left;\n",
       "}\n",
       "h5 {\n",
       "  border: 1px solid #333;\n",
       "  padding: 2px ;\n",
       "  color: #000000;\n",
       "  background: #ffffff;\n",
       "  text-align: left;\n",
       "}\n",
       ".warn {    \n",
       "    background-color: #fcf2f2;\n",
       "    border-color: #dFb5b4;\n",
       "    border-left: 5px solid #dfb5b4;\n",
       "    padding: 0.5em;\n",
       "    font-weight: 200;\n",
       "    }\n",
       ".rq {    \n",
       "    background-color: #e2e2e2;\n",
       "    border-color: #969696;\n",
       "    border-left: 5px solid #969696;\n",
       "    padding: 0.5em;\n",
       "    font-weight: 200;\n",
       "    }\n",
       "</style>\n"
      ],
      "text/plain": [
       "<IPython.core.display.HTML object>"
      ]
     },
     "metadata": {},
     "output_type": "display_data"
    },
    {
     "data": {
      "text/markdown": [
       "**Début à:** Monday 07 November 2022, 22:35:24  \n",
       "**Hostname:** linux.home (Linux)"
      ],
      "text/plain": [
       "<IPython.core.display.Markdown object>"
      ]
     },
     "metadata": {},
     "output_type": "display_data"
    },
    {
     "data": {
      "text/markdown": [
       "<p style=\"text-align: center\"><img width=\"800px\" src=\"../config/svg/logoDebut.svg\" style=\"margin-left:auto; margin-right:auto\"/></p>"
      ],
      "text/plain": [
       "<IPython.core.display.Markdown object>"
      ]
     },
     "metadata": {},
     "output_type": "display_data"
    }
   ],
   "source": [
    "###############################################################################################\n",
    "# supprimez cette cellule si vous exécutez ce notebook en-dehors de la distribution CHIM2-ON1 #\n",
    "###############################################################################################\n",
    "\n",
    "import os\n",
    "import sys\n",
    "\n",
    "cwd0 = \"../config/\"\n",
    "sys.path.append(cwd0)\n",
    "                            \n",
    "import visualID as vID\n",
    "from visualID import color\n",
    "vID.init(cwd0)"
   ]
  },
  {
   "cell_type": "markdown",
   "metadata": {},
   "source": [
    "# TP2. Exercices sur les Tableaux \n",
    "\n",
    "## Exercice 1. Dosage des ions Calcium et Magnesium dans de l'eau (2ème partie)\n",
    "\n",
    "Des mesures par dosage de la concentration en ions Calcium et Magnesium sont réalisées. A partir d'une série de mesures, vous allez calculer des grandeurs caractéristiques de cette série.\n",
    "\n",
    "Afin de générer artificiellement cette série de mesures, vous importerez le code `genereConcentration.py` dans la cellule ci-dessous. On y appelle ensuite la fonction `genereC` du module `genereConcentration` pour créer une liste appelée `C` de `N` concentrations mesurées."
   ]
  },
  {
   "cell_type": "code",
   "execution_count": null,
   "metadata": {},
   "outputs": [],
   "source": [
    "# entrez votre code python dans cette cellule\n",
    "import genereConcentration as gc\n",
    "N = 150\n",
    "C = gc.genereC(N)\n",
    "print (C)"
   ]
  },
  {
   "cell_type": "markdown",
   "metadata": {},
   "source": [
    "**Dans cet exercice, vous ne devez pas utiliser de boucles.**\n",
    "\n",
    "**1.** Convertir la liste `C` en un tableau."
   ]
  },
  {
   "cell_type": "code",
   "execution_count": null,
   "metadata": {},
   "outputs": [],
   "source": [
    "# entrez votre code python dans cette cellule\n"
   ]
  },
  {
   "cell_type": "markdown",
   "metadata": {},
   "source": [
    "**2.** Calculer la moyenne de la concentration $\\bar{c}$."
   ]
  },
  {
   "cell_type": "code",
   "execution_count": null,
   "metadata": {},
   "outputs": [],
   "source": [
    "# entrez votre code python dans cette cellule\n"
   ]
  },
  {
   "cell_type": "markdown",
   "metadata": {},
   "source": [
    "**3.** Trouver le minimum et le maximum de la concentration."
   ]
  },
  {
   "cell_type": "code",
   "execution_count": null,
   "metadata": {},
   "outputs": [],
   "source": [
    "# entrez votre code python dans cette cellule\n",
    "cmoy = np.moy(C\n",
    "cmin = np.min(C)\n",
    "cmax = np.max(C)"
   ]
  },
  {
   "cell_type": "markdown",
   "metadata": {},
   "source": [
    "**4.** Calculer l'écart-type de la série de mesure sans faire de boucles. On donne la formule permettant le calcul de l'écart-type :\n",
    "\n",
    "$$ \\sigma=\\sqrt{\\dfrac{1}{N}\\sum_{i=0}^{N-1}(c_{i}-\\bar{c})^{2}} $$\n",
    "\n",
    "où $N$ est le nombre de valeurs de la série générée par `genereC`. Les $c_i$ correspondent aux éléments du tableau des concentrations `C` générée par le code ci-dessus."
   ]
  },
  {
   "cell_type": "code",
   "execution_count": null,
   "metadata": {},
   "outputs": [],
   "source": [
    "# entrez votre code python dans cette cellule\n"
   ]
  },
  {
   "cell_type": "markdown",
   "metadata": {},
   "source": [
    "**5.** Calculez la médiane de la série de données grâce à `med = median(C)` et vérifiez que la valeur de `med` correspond bien à la définition de la médiane, c'est-à-dire qu'il y a 50% de valeurs dans la série inférieures à `med` et 50% de valeurs dans la série supérieures à `med`."
   ]
  },
  {
   "cell_type": "code",
   "execution_count": null,
   "metadata": {},
   "outputs": [],
   "source": [
    "# entrez votre code python dans cette cellule\n"
   ]
  },
  {
   "cell_type": "markdown",
   "metadata": {},
   "source": [
    "## Exercice 2. Vitesse des molécules dans un gaz parfait\n",
    "\n",
    "Les molécules d'air dans une pièce ne se déplacent pas toutes à la même vitesse, même si l'air est uniformément à la même température. Certaines molécules d'air vont bouger extrêmement rapidement, tandis que d'autres ne vont quasiment pas bouger. La vitesse des molécules dans un gaz n'est donc pas uniforme, et chaque molécule possède un grand éventail de vitesses possibles.\n",
    "\n",
    "La théorie cinétique des gaz permet de connaître pour une température $T$ donnée (en Kelvin) la quantité d'atomes (ou de molécules pour un gaz moléculaire) dont la vitesse $v$ est comprise entre $v$ et $v+dv$ où $dv$ représente un élément de taille très petite de la vitesse comparé à la valeur de $v$ (on parle de variation infinitésimale). En langage plus familier, cela permet de connaître la fraction d'atomes ayant une certaine vitesse. Nous appellerons cette quantité $\\rho(v,T)$. Cette loi de variation s'appelle la loi de Maxwell-Boltzmann.\n",
    "\n",
    "La fonction `ddp` du module `distribVT` permet de calculer la valeur de cette loi pour une vitesse $v$ et une température $T$ données. Pour pourvoir l'utiliser, il faut que le fichier `distribVT.py` soit présent dans votre répertoire de travail. Dans ce module, le gaz considéré est l'Argon. Dans la cellule  ci-dessous, on montre comment utiliser ce module pour calculer la valeur de la loi de Maxwell-Boltzmann pour une température $T$ = 273 K et une vitesse $v$ = 500 m s$^{-1}$, c'est à dire $\\rho(500,273)$."
   ]
  },
  {
   "cell_type": "code",
   "execution_count": null,
   "metadata": {},
   "outputs": [],
   "source": [
    "import distribVT as vt\n",
    "T=273\n",
    "print (vt.ddp(500 ,T))"
   ]
  },
  {
   "cell_type": "markdown",
   "metadata": {},
   "source": [
    "**1.** Faire le nécessaire pour qu'un utilisateur puisse saisir la température de travail en faisant en sorte que l'utilisateur ne puisse pas saisir une température inférieure à la température de liquéfaction de l'argon qui est de -185,85 °C à la pression atmosphérique. Cette valeur sera placée dans une variable `T`. Vous choisirez dans un premier temps une valeur 25 °C."
   ]
  },
  {
   "cell_type": "code",
   "execution_count": null,
   "metadata": {},
   "outputs": [],
   "source": [
    "# entrez votre code python dans cette cellule\n"
   ]
  },
  {
   "cell_type": "markdown",
   "metadata": {},
   "source": [
    "**2.** Faire le nécessaire pour qu'un utilisateur puisse saisir la vitesse maximale du domaine des vitesses, $v_{\\mathrm{max}}$. Cette valeur sera placée dans une variable `vMax`. Vous choisirez dans un premier temps une valeur de 1500 m s$^{-1}$."
   ]
  },
  {
   "cell_type": "code",
   "execution_count": null,
   "metadata": {},
   "outputs": [],
   "source": [
    "# entrez votre code python dans cette cellule\n"
   ]
  },
  {
   "cell_type": "markdown",
   "metadata": {},
   "source": [
    "**3.** Créer un tableau vitesse `v` comprenant $n$=2000 valeurs entre 0 m s$^{-1}$ et $v_{\\mathrm{max}}$. Calculer dans une variable `pas`, l'écart de vitesse entre 2 vitesses successives dans le tableau `v`."
   ]
  },
  {
   "cell_type": "code",
   "execution_count": null,
   "metadata": {},
   "outputs": [],
   "source": [
    "# entrez votre code python dans cette cellule\n"
   ]
  },
  {
   "cell_type": "markdown",
   "metadata": {},
   "source": [
    "**4.** Créer un tableau `rho` contenant les valeurs de la loi de Maxwell-Boltzmann pour chacune des vitesses du tableau `v`."
   ]
  },
  {
   "cell_type": "code",
   "execution_count": null,
   "metadata": {},
   "outputs": [],
   "source": [
    "# entrez votre code python dans cette cellule\n"
   ]
  },
  {
   "cell_type": "markdown",
   "metadata": {},
   "source": [
    "**5.** Donner la vitesse la plus probable, c'est à dire, celle qui correspond au maximum du tableau  `rho`. Il ne s'agit pas d'en faire un calcul théorique (une formule existe) mais de trouver sa valeur dans le tableau vitesse `v`."
   ]
  },
  {
   "cell_type": "code",
   "execution_count": null,
   "metadata": {},
   "outputs": [],
   "source": [
    "# entrez votre code python dans cette cellule\n"
   ]
  },
  {
   "cell_type": "markdown",
   "metadata": {},
   "source": [
    "**6.** Calculer la vitesse moyenne $\\bar{v}$. **Attention !!** Toutes les vitesses ne sont pas équiprobables. Une justification graphique est donnée ci-dessous, où on trace $\\rho(v,T)$ en fonction de la vitesse"
   ]
  },
  {
   "cell_type": "code",
   "execution_count": null,
   "metadata": {},
   "outputs": [],
   "source": [
    "# Exécutez cette cellule sans la modifier, sauf si vous avez changé le nom des variables v et rho\n",
    "plt.plot(v,rho)\n",
    "plt.xlabel('v / m.s$^{-1}$')\n",
    "plt.ylabel('rho')"
   ]
  },
  {
   "cell_type": "markdown",
   "metadata": {},
   "source": [
    "Il faut donc faire une moyenne pondérée, ce qui revient à appliquer la formule suivante :\n",
    "\n",
    "$$\\bar{v}=\\int_{0}^{v_\\mathrm{max}}v\\rho(v,T)dv$$\n",
    "\n",
    "On va la calculer à l'aide de la méthode des trapèzes, ce qui donne dans le cas qui nous intéresse :\n",
    "\n",
    "$$\\bar{v}=\\mathrm{pas}\\left(\\dfrac{\\left(v_{0}\\rho(v_{0},T)+v_{n-1}\\rho(v_{n-1},T)\\right)}{2})+\\sum_{i=1}^{n-2}v_{i}\\rho(v_{i},T)\\right)$$\n",
    "\n",
    "Vous remarquerez que la vitesse la vitesse moyenne n'est pas la plus probable !"
   ]
  },
  {
   "cell_type": "code",
   "execution_count": null,
   "metadata": {},
   "outputs": [],
   "source": [
    "# entrez votre code python dans cette cellule\n"
   ]
  },
  {
   "cell_type": "markdown",
   "metadata": {},
   "source": [
    "<div class='rq'>\n",
    "    \n",
    "**AMÉLIORATIONS FACULTATIVES** (demander à l'enseignant si vous avez le temps de la traiter en séance ou s'il vaut mieux passer à l'exercice suivant). Si vous avez réussi les questions précédentes, C'est que le sujet a été écrit pour vous faciliter la tâche. On vous a fixé les données suivantes : la température et la vitesse maximale $v_{\\mathrm{max}}$. Mais si vous choisissez une température plus élevée qui vous garantit qu'un nombre important d'atomes ne vont pas dépasser les 1500 m s$^{-1}$ ? Et d'ailleurs, en réalité la vitesse moyenne s'obtient en intégrant entre 0 et $+\\infty$ :\n",
    "    \n",
    "$$\\bar{v}=\\int_{0}^{+\\infty}v\\rho(v,T)dv$$\n",
    "    \n",
    "Il faut donc vérifier avant les calculs de la vitesse la plus probable et de $\\bar{v}$ que l'ensemble des vitesses choisies est suffisant. S'il n'est pas suffisant il faudra alors demander à l'utilisateur de choisir une valeur $v_{\\mathrm{max}}$ supérieure à celle choisie précédemment.\n",
    "    \n",
    "Mais comment savoir si $v_{\\mathrm{max}}$ est suffisamment grande ? Pour cela, il faut s'assurer que l'intégrale\n",
    "    \n",
    "$$I=\\int_{0}^{v_{\\mathrm{max}}}\\rho(v,T)dv$$\n",
    "    \n",
    " est proche de 1.\n",
    "    \n",
    "Par exemple, on peut considérer que si $(1-I)<10^{-3}$, la plage de vitesses est suffisante. Sinon, cela signifie que la valeur saisie pour $v_{\\mathrm{max}}$ est trop faible et qu'il faut demander une valeur plus importante et ainsi de suite jusqu'à ce que I vérifie $(1-I)<10^{-3}$. Les questions suivantes portent sur l'implémentation de ce processus.\n",
    "    \n",
    "</div>"
   ]
  },
  {
   "cell_type": "markdown",
   "metadata": {},
   "source": [
    "<div class='rq'>\n",
    "\n",
    "**7.** Calculer I par la méthode des trapèzes : \n",
    "    \n",
    "\n",
    "$$I=\\mathrm{pas}\\left(\\dfrac{\\left(\\rho(v_{0},T)+\\rho(v_{n-1},T)\\right)}{2})+\\sum_{i=1}^{n-2}\\rho(v_{i},T)\\right)$$\n",
    "    \n",
    "</div>"
   ]
  },
  {
   "cell_type": "code",
   "execution_count": null,
   "metadata": {},
   "outputs": [],
   "source": [
    "# entrez votre code python dans cette cellule\n"
   ]
  },
  {
   "cell_type": "markdown",
   "metadata": {},
   "source": [
    "On peut faire une auto-correction en utilisant la fonction d'intégration `integrate.quad` du module `scipy`. Après avoir analysé sa syntaxe et le nom des options, exécutez la cellule ci-dessous sans la modifier, sauf si vous avez changé le nom des variables `vmax` et `T`\n",
    "\n",
    "La fonction à intégrer est du type $f(x)$ ou bien du type $f(x,a,b...)$ où $x$, la variable d'intégration, est la première varibale, les autres ($a,b,c...$) étant des paramètres\n",
    "\n",
    "`integrate.quad`  est une méthode numérique qui retourne un tuple de deux valeurs :\n",
    "- la valeur de l’intégrale.\n",
    "- une estimation de l’erreur de l’intégrale entre la valeur réelle et la valeur approximative"
   ]
  },
  {
   "cell_type": "code",
   "execution_count": null,
   "metadata": {},
   "outputs": [],
   "source": [
    "import scipy.integrate as integrate\n",
    "integrate.quad(vt.ddp,0,vmax,args=(T,))"
   ]
  },
  {
   "cell_type": "markdown",
   "metadata": {},
   "source": [
    "<div class='rq'>\n",
    "\n",
    "**8.** Faire en sorte que l'utilisateur saisisse à nouveau une valeur de $v_{\\mathrm{max}}$ tant que la relation $1-I<10^{-3}$ n'est pas respectée avant de calculer la vitesse la plus probable et $\\bar{v}$.\n",
    "\n",
    "*Vous pouvez maintenant faire les calculs pour toutes les températures que vous voulez :-)*\n",
    "    \n",
    "</div>"
   ]
  },
  {
   "cell_type": "code",
   "execution_count": null,
   "metadata": {},
   "outputs": [],
   "source": [
    "# entrez votre code python dans cette cellule\n"
   ]
  },
  {
   "cell_type": "markdown",
   "metadata": {},
   "source": [
    "## Exercice 3. Écrêtage et lissage de courbes\n",
    "\n",
    "Des mesures donnent l'évolution d'une concentration en fonction du temps.\n",
    "\n",
    "Afin de générer artificiellement cette série de mesures, vous utiliserez le fichier `genereConcentration.py`. On rappelle dans la cellule ci-dessous comment créer une liste appelée `C`, grâce à l'appel de la fonction `decC`, importée du module `genereConcentration`. On fait ensuite à la fonction `plot`."
   ]
  },
  {
   "cell_type": "code",
   "execution_count": null,
   "metadata": {
    "scrolled": true
   },
   "outputs": [],
   "source": [
    "import genereConcentration as gc\n",
    "from pylab import *\n",
    "C = gc.decC ()\n",
    "plot(C)"
   ]
  },
  {
   "cell_type": "markdown",
   "metadata": {},
   "source": [
    "**1.** Convertir la liste `C` en un tableau."
   ]
  },
  {
   "cell_type": "code",
   "execution_count": null,
   "metadata": {},
   "outputs": [],
   "source": [
    "# entrez votre code python dans cette cellule\n"
   ]
  },
  {
   "cell_type": "markdown",
   "metadata": {},
   "source": [
    "**2.** Certaines mesures de concentration sont négatives suite à des erreurs de mesure. Sans faire de boucles, remplacer par la valeur 0 les valeurs négatives dans le tableau `C`."
   ]
  },
  {
   "cell_type": "code",
   "execution_count": null,
   "metadata": {},
   "outputs": [],
   "source": [
    "# entrez votre code python dans cette cellule\n"
   ]
  },
  {
   "cell_type": "markdown",
   "metadata": {},
   "source": [
    "**3.** Les données présentent beaucoup de variations d'une mesure à l'autre. Vous allez lisser ces valeurs en utilisant la méthode de la moyenne mobile. Cette méthode consiste à calculer la $i$-ème valeur du tableau des valeurs lissées, que nous appellerons $L$, comme étant la moyenne centrées autour de $C_{i}$ des $k$ valeurs qui le précèdent, des $k$ valeurs qui le suivent et de lui-même. On a ainsi la formule :\n",
    "\n",
    "$$L_{i}=\\dfrac{1}{2k+1}\\sum_{j=i-k}^{i+k}C_{i}$$\n",
    "\n",
    "**3a.** Calculer les valeurs du tableau `L`. Vous laisserez les $k$ premières valeurs de $L_{i}$ égales à celle de $C_{i}$ et de même pour les $k$ dernières."
   ]
  },
  {
   "cell_type": "code",
   "execution_count": null,
   "metadata": {},
   "outputs": [],
   "source": [
    "# entrez votre code python dans cette cellule\n"
   ]
  },
  {
   "cell_type": "markdown",
   "metadata": {},
   "source": [
    "**3b.** Vous pouvez en exécutant `plot(L)` voir l'effet de votre lissage. Vous pouvez vous amuser à le faire pour différentes valeurs de $k$."
   ]
  },
  {
   "cell_type": "code",
   "execution_count": null,
   "metadata": {},
   "outputs": [],
   "source": [
    "# entrez votre code python dans cette cellule\n"
   ]
  },
  {
   "cell_type": "markdown",
   "metadata": {},
   "source": [
    "On peut faire une auto-correction en utilisant la fonction de lissage `signal.savgol_filter` du module `scipy`. Après avoir analysé sa syntaxe et le nom des options, exécutez la cellule ci-dessous sans la modifier, sauf si vous avez changé le nom des variables `vmax` et `T`\n",
    "\n",
    "`savgol.filter(array,Npoints,M)` est un filtre numérique qui utilise des points de données pour lisser le graphique. Il essaie d'ajuster un polynôme d'ordre $M$ sur une \"fenêtre\" de $N_\\mathrm{points}$, puis la fenêtre est décalée d’un point de données et le processus est itéré jusqu’à ce que tous les voisins soient relativement ajustés les uns par rapport aux autres. **Attention :** $N_\\mathrm{points}$ est obligatoirement un nombre impair"
   ]
  },
  {
   "cell_type": "code",
   "execution_count": null,
   "metadata": {},
   "outputs": [],
   "source": [
    "# exécutez directement le code python de cette cellule sans le modifier, sauf si vous n'avez pas nommé le tableau des concentrations C\n",
    "from scipy.signal import savgol_filter as lissage\n",
    "L=lissage(C,101,3)\n",
    "plt.plot(L)"
   ]
  },
  {
   "cell_type": "markdown",
   "metadata": {},
   "source": [
    "<div class='rq'>\n",
    "\n",
    "**4. Question facultative.** Trouver un moyen d'améliorer le traitement des $k$ premières et des $k$ dernières valeurs pour que le lissage concernent également cette partie des valeurs. \n",
    "    \n",
    "</div>"
   ]
  },
  {
   "cell_type": "code",
   "execution_count": null,
   "metadata": {},
   "outputs": [],
   "source": [
    "# entrez votre code python dans cette cellule\n"
   ]
  },
  {
   "cell_type": "code",
   "execution_count": 5,
   "metadata": {},
   "outputs": [
    {
     "data": {
      "text/markdown": [
       "**Fin à:** Monday 07 November 2022, 22:35:31  \n",
       "**Durée:** 00:00:07 844ms"
      ],
      "text/plain": [
       "<IPython.core.display.Markdown object>"
      ]
     },
     "metadata": {},
     "output_type": "display_data"
    },
    {
     "data": {
      "text/markdown": [
       "<p style=\"text-align: center\"><img width=\"800px\" src=\"../config/svg/logoFin.svg\" style=\"margin-left:auto; margin-right:auto\"/></p>"
      ],
      "text/plain": [
       "<IPython.core.display.Markdown object>"
      ]
     },
     "metadata": {},
     "output_type": "display_data"
    }
   ],
   "source": [
    "###############################################################################################\n",
    "# supprimez cette cellule si vous exécutez ce notebook en-dehors de la distribution CHIM2-ON1 #\n",
    "###############################################################################################\n",
    "\n",
    "vID.end(cwd0)"
   ]
  },
  {
   "cell_type": "code",
   "execution_count": null,
   "metadata": {},
   "outputs": [],
   "source": []
  }
 ],
 "metadata": {
  "kernelspec": {
   "display_name": "Python 3",
   "language": "python",
   "name": "python3"
  },
  "language_info": {
   "codemirror_mode": {
    "name": "ipython",
    "version": 3
   },
   "file_extension": ".py",
   "mimetype": "text/x-python",
   "name": "python",
   "nbconvert_exporter": "python",
   "pygments_lexer": "ipython3",
   "version": "3.7.6"
  }
 },
 "nbformat": 4,
 "nbformat_minor": 5
}
