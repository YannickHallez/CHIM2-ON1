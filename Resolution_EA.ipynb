{
 "cells": [
  {
   "cell_type": "code",
   "execution_count": 2,
   "metadata": {},
   "outputs": [
    {
     "data": {
      "text/html": [
       "<style>\n",
       "h1, h2, h3, h4, h5, h6 {\n",
       "  font-family: Verdana, \"DejaVu Sans\", \"Bitstream Vera Sans\", Geneva, sans-serif;\n",
       "  font-weight: bold;\n",
       "}\n",
       "body {\n",
       "  font-family: Verdana, \"DejaVu Sans\", \"Bitstream Vera Sans\", Geneva, sans-serif;\n",
       "  font-weight: 200;\n",
       "}\n",
       "h1 {\n",
       "  border: 0 solid #333;\n",
       "  padding: 30px ;\n",
       "  color: white;\n",
       "  background: #b11d01;\n",
       "  text-align: center;\n",
       "}\n",
       "h2 {\n",
       "  border: 3px solid #333;\n",
       "  padding: 18px ;\n",
       "  color: #b11d01;\n",
       "  background: #ffffff;\n",
       "  text-align: center;\n",
       "}\n",
       "h3 {\n",
       "  border: 0 solid #333;\n",
       "  padding: 12px ;\n",
       "  color: #000000;\n",
       "  background: #c1c1c1;\n",
       "  text-align: left;\n",
       "}\n",
       "h4 {\n",
       "  border: 0 solid #333;\n",
       "  padding: 2px ;\n",
       "  color: #000000;\n",
       "  background: #d9fffc;\n",
       "  text-align: left;\n",
       "}\n",
       "h5 {\n",
       "  border: 1px solid #333;\n",
       "  padding: 2px ;\n",
       "  color: #000000;\n",
       "  background: #ffffff;\n",
       "  text-align: left;\n",
       "}\n",
       ".warn {    \n",
       "    background-color: #fcf2f2;\n",
       "    border-color: #dFb5b4;\n",
       "    border-left: 5px solid #dfb5b4;\n",
       "    padding: 0.5em;\n",
       "    font-weight: 200;\n",
       "    }\n",
       ".rq {    \n",
       "    background-color: #e2e2e2;\n",
       "    border-color: #969696;\n",
       "    border-left: 5px solid #969696;\n",
       "    padding: 0.5em;\n",
       "    font-weight: 200;\n",
       "    }\n",
       "</style>\n"
      ],
      "text/plain": [
       "<IPython.core.display.HTML object>"
      ]
     },
     "metadata": {},
     "output_type": "display_data"
    },
    {
     "data": {
      "text/markdown": [
       "**Début à:** Monday 20 November 2023, 14:00:43  \n",
       "**Hostname:** yggdrasil.private.univ-tlse3.fr (Darwin)"
      ],
      "text/plain": [
       "<IPython.core.display.Markdown object>"
      ]
     },
     "metadata": {},
     "output_type": "display_data"
    },
    {
     "data": {
      "text/markdown": [
       "<p style=\"text-align: center\"><img width=\"800px\" src=\"./config/svg/logoDebut.svg\" style=\"margin-left:auto; margin-right:auto\"/></p>"
      ],
      "text/plain": [
       "<IPython.core.display.Markdown object>"
      ]
     },
     "metadata": {},
     "output_type": "display_data"
    }
   ],
   "source": [
    "###############################################################################################\n",
    "# supprimez cette cellule si vous exécutez ce notebook en-dehors de la distribution CHIM2-ON1 #\n",
    "###############################################################################################\n",
    "\n",
    "import os\n",
    "import sys\n",
    "\n",
    "cwd0 = './config/'\n",
    "sys.path.append(cwd0)\n",
    "\n",
    "import visualID as vID\n",
    "from visualID import color\n",
    "vID.init(cwd0)"
   ]
  },
  {
   "cell_type": "markdown",
   "metadata": {
    "id": "qwQMEf6qgDSG"
   },
   "source": [
    "# La résolution d'équations (pas différentielles)\n",
    "\n",
    "## Prérequis\n",
    "\n",
    "- Les variables\n",
    "- Les tableaux  \n",
    "\n",
    "## Compétences \n",
    "\n",
    "1. Résoudre une équation. \n",
    "2. Résoudre un système d'équations. \n",
    "\n",
    "## Objectifs \n",
    "\n",
    "1. Acquérir les compétences ci-dessus.\n",
    "2. Pouvoir trouver rapidement une solution approchée pour des équations sans solution analytique. \n",
    "\n",
    "\n",
    "## Contenu de la vidéo \n",
    "\n",
    "### Résoudre une équation \n",
    "\n",
    "On s'intéresse ici à des équations qui ne contiennent pas de dérivées. Elle peuvent avoir une solution analytique, par exemple $x+3=0$ a pour solution $x=-3$, ou bien elle peuvent ne pas avoir de solution analytique, comme par exemple l'équation $e^x=x+2$. Dans tous les cas il est possible de résoudre ces équations avec la fonction `fsolve` du module `scipy.optimize`. \n",
    "\n",
    "La première étape est d'écrire l'équation sous la forme $F(x)=0$ et de définir la fonction $F$ sous Python. Ensuite, on charge la fonction `fsolve` et on l'appelle avec comme arguments $F$ et une valeur de départ pour $x$ aussi proche que possible la solution à trouver. Voici un exemple ci-dessous :   "
   ]
  },
  {
   "cell_type": "code",
   "execution_count": 3,
   "metadata": {
    "colab": {
     "base_uri": "https://localhost:8080/"
    },
    "id": "SzqQJxLMgDSI",
    "outputId": "2450177e-2761-494f-9462-7b7aa499d001"
   },
   "outputs": [
    {
     "name": "stdout",
     "output_type": "stream",
     "text": [
      "[-3.]\n"
     ]
    }
   ],
   "source": [
    "from pylab import *\n",
    "\n",
    "def F(x):                                # definition de la fonction qui doit valoir 0 \n",
    "  return x+3 \n",
    "\n",
    "from scipy.optimize import fsolve        # chargement de fsolve dans l'environnement \n",
    "resultat = fsolve( F, 1 )                # resolution de l'equation, en partant de la valeur x=1 comme valeur 'proche' de la solution \n",
    "print(resultat)                          "
   ]
  },
  {
   "cell_type": "markdown",
   "metadata": {
    "id": "7d45UOMJgDSK"
   },
   "source": [
    "Notez que la resultat est un tableau même si nous n'attendons qu'une valeur. Si on doit continuer le code, on peut faire `solution=resultat[0]` par exemple pour passer à un réel. \n",
    "\n",
    "### Résoudre un système d'équations \n",
    "\n",
    "Si on doit résoudre un système d'équations, c'est très similaire mais au lieu de la variable `x` scalaire, on va utiliser un vecteur `X` dont les composantes sont les variables solutions. Par exemple, on veut résoudre le système \n",
    "$$x^2 + y^2 = 1$$\n",
    "$$y = x/2 $$  \n",
    "NB : la solution analytique est $y=1/\\sqrt{5}$ et $x=2/\\sqrt{5}$. \n",
    "\n",
    "On récrit d'abord le système sous une forme $F(x,y)=0$ :\n",
    "$$x^2 + y^2 - 1 = 0$$\n",
    "$$x/2 - y = 0$$  \n",
    "et on introduit le vecteur solution $X = (x,y)$, donc avec $X[0]=x$ et $X[1]=y$ :\n",
    "$$X[0]^2 + X[1]^2 - 1 = 0$$\n",
    "$$X[0]/2 - X[1] = 0$$ \n",
    "On peut maintenant définir la fonction Python $F(X)$ qui renvoie 2 valeurs, une pour la première équation et une pour la seconde. Regardez l'exemple ci-dessous :"
   ]
  },
  {
   "cell_type": "code",
   "execution_count": 4,
   "metadata": {
    "colab": {
     "base_uri": "https://localhost:8080/"
    },
    "id": "xQQHaKER_rBn",
    "outputId": "62dc852e-7e89-45d0-8e65-f92b714fdda1"
   },
   "outputs": [
    {
     "name": "stdout",
     "output_type": "stream",
     "text": [
      "Reponse de fsolve :  [0.89442719 0.4472136 ]\n",
      "Solution theorique :  0.8944271909999159 0.4472135954999579\n"
     ]
    }
   ],
   "source": [
    "from pylab import *\n",
    "\n",
    "def F(X):\n",
    "  F0 = X[0]**2+X[1]**2-1                              # definition de la premiere equation  \n",
    "  F1 = X[0]/2-X[1]                                    # definition de la seconde equation \n",
    "  return F0, F1                                       # On renvoie les 2 valeurs\n",
    "\n",
    "from scipy.optimize import fsolve            # chargement de fsolve dans l'environnement \n",
    "resultat = fsolve( F, (1,1) )                # resolution de l'equation, en partant des valeurs (x,y)=(1,1) comme valeurs 'proches' de la solution \n",
    "print(\"Reponse de fsolve : \", resultat)\n",
    "print(\"Solution theorique : \", 2/sqrt(5), 1/sqrt(5))  "
   ]
  },
  {
   "cell_type": "markdown",
   "metadata": {
    "id": "OTp2opH_gDSM"
   },
   "source": [
    "On voit que `resultat` est un tableau avec 2 valeurs. Il s'agit du vecteur solution $X$, donc des valeurs de x et y.  \n",
    "\n",
    "Si le système a N équations, il faudra un vecteur $X$ de taille N, que la fonction $F$ renvoie N valeurs, et passer un tableau de valeurs de démarrage à `fsolve` avec N valeurs. "
   ]
  },
  {
   "cell_type": "code",
   "execution_count": 5,
   "metadata": {},
   "outputs": [
    {
     "data": {
      "text/markdown": [
       "**Fin à:** Monday 20 November 2023, 14:00:49  \n",
       "**Durée:** 00:00:05 363ms"
      ],
      "text/plain": [
       "<IPython.core.display.Markdown object>"
      ]
     },
     "metadata": {},
     "output_type": "display_data"
    },
    {
     "data": {
      "text/markdown": [
       "<p style=\"text-align: center\"><img width=\"800px\" src=\"./config/svg/logoFin.svg\" style=\"margin-left:auto; margin-right:auto\"/></p>"
      ],
      "text/plain": [
       "<IPython.core.display.Markdown object>"
      ]
     },
     "metadata": {},
     "output_type": "display_data"
    }
   ],
   "source": [
    "###############################################################################################\n",
    "# supprimez cette cellule si vous exécutez ce notebook en-dehors de la distribution CHIM2-ON1 #\n",
    "###############################################################################################\n",
    "\n",
    "vID.end(cwd0)"
   ]
  },
  {
   "cell_type": "code",
   "execution_count": null,
   "metadata": {},
   "outputs": [],
   "source": []
  }
 ],
 "metadata": {
  "colab": {
   "collapsed_sections": [],
   "include_colab_link": true,
   "name": "Resolution_EA.ipynb",
   "provenance": []
  },
  "kernelspec": {
   "display_name": "Python 3 (ipykernel)",
   "language": "python",
   "name": "python3"
  },
  "language_info": {
   "codemirror_mode": {
    "name": "ipython",
    "version": 3
   },
   "file_extension": ".py",
   "mimetype": "text/x-python",
   "name": "python",
   "nbconvert_exporter": "python",
   "pygments_lexer": "ipython3",
   "version": "3.9.6"
  }
 },
 "nbformat": 4,
 "nbformat_minor": 4
}
