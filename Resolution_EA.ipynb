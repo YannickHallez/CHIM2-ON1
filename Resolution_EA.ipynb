{
  "cells": [
    {
      "cell_type": "markdown",
      "metadata": {
        "id": "view-in-github",
        "colab_type": "text"
      },
      "source": [
        "<a href=\"https://colab.research.google.com/github/YannickHallez/CHIM2-ON1/blob/main/Resolution_EA.ipynb\" target=\"_parent\"><img src=\"https://colab.research.google.com/assets/colab-badge.svg\" alt=\"Open In Colab\"/></a>"
      ]
    },
    {
      "cell_type": "markdown",
      "metadata": {
        "id": "qwQMEf6qgDSG"
      },
      "source": [
        "# La résolution d'équations algébriques\n",
        "\n",
        "## Prérequis\n",
        "\n",
        "- Les variables\n",
        "- Les tableaux  \n",
        "\n",
        "## Compétences \n",
        "\n",
        "1. Résoudre une équation algébrique. \n",
        "2. Résoudre un système d'équations algébriques. \n",
        "\n",
        "## Objectifs \n",
        "\n",
        "1. Acquérir les compétences ci-dessus.\n",
        "2. Pouvoir trouver rapidement une solution approchée pour des équations sans solution analytique. \n",
        "\n",
        "\n",
        "## Contenu de la vidéo \n",
        "\n",
        "### Résoudre une équation algébrique\n",
        "\n",
        "Une équation est dite algébrique quand elle ne contient pas de dérivées. Elle peut avoir une solution analytique, par exemple $x+3=0$ a pour solution $x=-3$, ou bien elle peut ne pas avoir de solution analytique, comme par exemple l'équation $e^x=x+2$. Dans tous les cas il est possible de résoudre ces équations avec la fonction `fsolve` du module `scipy.optimize`. \n",
        "\n",
        "La première étape est d'écrire l'équation sous la forme $F(x)=0$ et de définir la fonction $F$ sous Python. Ensuite, on charge la fonction `fsolve` et on l'appelle avec comme arguments $F$ et une valeur de départ pour $x$ aussi proche que possible la solution à trouver. Voici un exemple ci-dessous :   "
      ]
    },
    {
      "cell_type": "code",
      "execution_count": 1,
      "metadata": {
        "id": "SzqQJxLMgDSI",
        "colab": {
          "base_uri": "https://localhost:8080/"
        },
        "outputId": "2450177e-2761-494f-9462-7b7aa499d001"
      },
      "outputs": [
        {
          "output_type": "stream",
          "name": "stdout",
          "text": [
            "[-3.]\n"
          ]
        }
      ],
      "source": [
        "from pylab import *\n",
        "\n",
        "def F(x):                                # definition de la fonction qui doit valoir 0 \n",
        "  return x+3 \n",
        "\n",
        "from scipy.optimize import fsolve        # chargement de fsolve dans l'environnement \n",
        "resultat = fsolve( F, 1 )                # resolution de l'equation, en partant de la valeur x=1 comme valeur 'proche' de la solution \n",
        "print(resultat)                          "
      ]
    },
    {
      "cell_type": "markdown",
      "metadata": {
        "id": "7d45UOMJgDSK"
      },
      "source": [
        "Notez que la resultat est un tableau même si nous n'attendons qu'une valeur. Si on doit continuer le code, on peut faire `solution=resultat[0]` par exemple pour passer à un réel. \n",
        "\n",
        "### Résoudre un système d'équations algébriques\n",
        "\n",
        "Si on doit résoudre un système d'équations, c'est très similaire mais au lieu de la variable `x` scalaire, on va utiliser un vecteur `X` dont les composantes sont les variables solutions. Par exemple, on veut résoudre le système \n",
        "$$x^2 + y^2 = 1$$\n",
        "$$y = x/2 $$  \n",
        "NB : la solution analytique est $y=1/\\sqrt{5}$ et $x=2/\\sqrt{5}$. \n",
        "\n",
        "On récrit d'abord le système sous une forme $F(x,y)=0$ :\n",
        "$$x^2 + y^2 - 1 = 0$$\n",
        "$$x/2 - y = 0$$  \n",
        "et on introduit le vecteur solution $X = (x,y)$, donc avec $X[0]=x$ et $X[1]=y$ :\n",
        "$$X[0]^2 + X[1]^2 - 1 = 0$$\n",
        "$$X[0]/2 - X[1] = 0$$ \n",
        "On peut maintenant définir la fonction Python $F(X)$ qui renvoie 2 valeurs, une pour la première équation et une pour la seconde. Regardez l'exemple ci-dessous :"
      ]
    },
    {
      "cell_type": "code",
      "source": [
        "from pylab import *\n",
        "\n",
        "def F(X):\n",
        "  F0 = X[0]**2+X[1]**2-1                              # definition de la premiere equation  \n",
        "  F1 = X[0]/2-X[1]                                    # definition de la seconde equation \n",
        "  return F0, F1                                       # On renvoie les 2 valeurs\n",
        "\n",
        "from scipy.optimize import fsolve            # chargement de fsolve dans l'environnement \n",
        "resultat = fsolve( F, (1,1) )                # resolution de l'equation, en partant des valeurs (x,y)=(1,1) comme valeurs 'proches' de la solution \n",
        "print(\"Reponse de fsolve : \", resultat)\n",
        "print(\"Solution theorique : \", 2/sqrt(5), 1/sqrt(5))  "
      ],
      "metadata": {
        "colab": {
          "base_uri": "https://localhost:8080/"
        },
        "id": "xQQHaKER_rBn",
        "outputId": "62dc852e-7e89-45d0-8e65-f92b714fdda1"
      },
      "execution_count": 5,
      "outputs": [
        {
          "output_type": "stream",
          "name": "stdout",
          "text": [
            "Reponse de fsolve :  [0.89442719 0.4472136 ]\n",
            "Solution theorique :  0.8944271909999159 0.4472135954999579\n"
          ]
        }
      ]
    },
    {
      "cell_type": "markdown",
      "metadata": {
        "id": "OTp2opH_gDSM"
      },
      "source": [
        "On voit que `resultat` est un tableau avec 2 valeurs. Il s'agit du vecteur solution $X$, donc des valeurs de x et y.  \n",
        "\n",
        "Si le système a N équations, il faudra un vecteur $X$ de taille N, que la fonction $F$ renvoie N valeurs, et passer un tableau de valeurs de démarrage à `fsolve` avec N valeurs. "
      ]
    },
    {
      "cell_type": "markdown",
      "metadata": {
        "id": "WgSZ-KdZgDSW"
      },
      "source": [
        "### Evaluation formative après la vidéo \n",
        "\n",
        "Quizz moodle avec les questions suivantes…\n",
        "\n",
        "1. "
      ]
    }
  ],
  "metadata": {
    "kernelspec": {
      "display_name": "Python 3",
      "language": "python",
      "name": "python3"
    },
    "language_info": {
      "codemirror_mode": {
        "name": "ipython",
        "version": 3
      },
      "file_extension": ".py",
      "mimetype": "text/x-python",
      "name": "python",
      "nbconvert_exporter": "python",
      "pygments_lexer": "ipython3",
      "version": "3.7.6"
    },
    "colab": {
      "name": "Resolution_EA.ipynb",
      "provenance": [],
      "collapsed_sections": [],
      "include_colab_link": true
    }
  },
  "nbformat": 4,
  "nbformat_minor": 0
}