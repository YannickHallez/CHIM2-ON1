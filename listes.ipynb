{
  "nbformat": 4,
  "nbformat_minor": 0,
  "metadata": {
    "colab": {
      "provenance": [],
      "collapsed_sections": [],
      "authorship_tag": "ABX9TyP/0qMeuO+IxDRvApBaQ9lf",
      "include_colab_link": true
    },
    "kernelspec": {
      "name": "python3",
      "display_name": "Python 3"
    },
    "language_info": {
      "name": "python"
    }
  },
  "cells": [
    {
      "cell_type": "markdown",
      "metadata": {
        "id": "view-in-github",
        "colab_type": "text"
      },
      "source": [
        "<a href=\"https://colab.research.google.com/github/YannickHallez/CHIM2-ON1/blob/main/listes.ipynb\" target=\"_parent\"><img src=\"https://colab.research.google.com/assets/colab-badge.svg\" alt=\"Open In Colab\"/></a>"
      ]
    },
    {
      "cell_type": "markdown",
      "source": [
        "# Les Listes\n",
        "\n",
        "## Prérequis\n",
        "\n",
        "Avoir suivi la leçon sur les variables.\n",
        "\n",
        "## Compétences\n",
        "\n",
        "- Créer des listes de divers types\n",
        "- Utiliser les listes\n",
        "- Accéder à un élément ou à une tranche de liste\n",
        "- Utiliser les fonctions de base s'appliquant aux listes (ajout, dimension)\n",
        "\n",
        "## Objectifs\n",
        "\n",
        "- Acquérir les compétences ci-dessus.\n",
        "\n",
        "- Se familiariser avec les premières notions de programmation. Contenu de la vidéo\n"
      ],
      "metadata": {
        "id": "BEK34Oa55hJT"
      }
    },
    {
      "cell_type": "code",
      "source": [],
      "metadata": {
        "id": "li3DylOWM-0I"
      },
      "execution_count": null,
      "outputs": []
    },
    {
      "cell_type": "markdown",
      "source": [
        "# Qu’est-ce qu’une liste ?\n",
        "\n",
        "Une liste est un moyen de mettre plusieurs données ensemble. Les informaticiens appellent cela une structure de données (il y a en d’autres en python). \n",
        "\n",
        "Pour construire une liste, il suffit de séparer les grandeurs que l’on veut mettre dedans par des virgules et d’entourer le tout par des crochets. Dans cet exemple, je vous montre comment créer une liste simple d’entiers.\n"
      ],
      "metadata": {
        "id": "enscLJVP1lNu"
      }
    },
    {
      "cell_type": "code",
      "execution_count": null,
      "metadata": {
        "id": "LrTHe1jA1iMD"
      },
      "outputs": [],
      "source": [
        "a=[1,3,5,7]\n",
        "print(a)"
      ]
    },
    {
      "cell_type": "markdown",
      "source": [
        "une liste de réels"
      ],
      "metadata": {
        "id": "wLrMv5-l2bEW"
      }
    },
    {
      "cell_type": "code",
      "source": [
        "r=[1.5,-2.0,3.6,-8.5]\n",
        "print(r)"
      ],
      "metadata": {
        "id": "bMFoLJmG26QZ"
      },
      "execution_count": null,
      "outputs": []
    },
    {
      "cell_type": "markdown",
      "source": [
        "une liste de chaînes de caractères"
      ],
      "metadata": {
        "id": "qlNjVDCf3B0H"
      }
    },
    {
      "cell_type": "code",
      "source": [
        "chaussures=[\"pantoufles\",\"mocassins\",\"claquettes\"]\n",
        "print(chaussures)"
      ],
      "metadata": {
        "id": "_i6YsvNO3EhI"
      },
      "execution_count": null,
      "outputs": []
    },
    {
      "cell_type": "markdown",
      "source": [
        "On peut même mélanger les types de variables (ici des chaînes et des entiers)"
      ],
      "metadata": {
        "id": "zVJtD4K33PtN"
      }
    },
    {
      "cell_type": "code",
      "source": [
        "bd=[\"légionnaires\",300,\"gaulois\",2]\n",
        "print(bd)"
      ],
      "metadata": {
        "id": "sB1nTIpH3R-P"
      },
      "execution_count": null,
      "outputs": []
    },
    {
      "cell_type": "markdown",
      "source": [
        "En sciences, c’est assez rare d’avoir ce type de mélange de type. c’est juste pour dire que c’est possible…"
      ],
      "metadata": {
        "id": "WIytCjiP83iY"
      }
    },
    {
      "cell_type": "markdown",
      "source": [
        "# Mais à quoi ça peut donc bien servir ?\n",
        "\n",
        "A plein de choses qui pour le coup sont très utiles, même si en sciences on utilisera plus souvent un concept un peu similaire que vous verrez un peu plus tard : les matrices ou array du module numpy. Les 2 ont d’ailleurs des modes de fonctionnement un peu similaires. Pour faire des traitements purement mathématiques les listes ne sont pas les plus adaptées. Mais revenons à nos listes.\n",
        "\n",
        "Imaginez que vous remontez au temps où un petit village gaulois isolé et entouré de camps retranchés romains. Au détour d’un chemin séparant le village de ces camps, des gaulois rencontrent une patrouille romaine. S'ensuit une distribution de baffes. Passons en revue les compositions et effectifs des 2 camps au moyen de 2 listes :\n",
        "\n"
      ],
      "metadata": {
        "id": "J3Ycn9cZ9CXv"
      }
    },
    {
      "cell_type": "code",
      "source": [
        "camp=[\"légionnaires\",\"gaulois\"]\n",
        "effectif=[300,2]"
      ],
      "metadata": {
        "id": "iH0tuFLv9qWe"
      },
      "execution_count": null,
      "outputs": []
    },
    {
      "cell_type": "markdown",
      "source": [
        "Première constatation, vous voyez que contrairement à la liste bd créée un peu plus tôt, on a choisi ici de créer 2 listes, l’une contenant les noms des opposants et la seconde leur effectif. Quels avantages cela présente-t-il ?\n",
        "\n",
        "Pour le comprendre commençons par expliquer comment accéder à des éléments dans une liste"
      ],
      "metadata": {
        "id": "ChJc_KMq94dO"
      }
    },
    {
      "cell_type": "markdown",
      "source": [
        "# Les indices ou comment accéder à des éléments individuels d’une liste\n",
        "\n",
        "A chaque élément d’une liste est associé un entier appelé indice qui indique à quelle position l’élément est dans la liste en commençant à compter à 0. Ainsi, l’élément “légionnaire” porte l’indice 0 de la liste appelée camp et “gaulois” l’indice 1. On peut accéder à un élément en faisant par exemple : le nom de la liste suivi par l’indice entre crochets\n"
      ],
      "metadata": {
        "id": "c-m_lRmDBhGJ"
      }
    },
    {
      "cell_type": "code",
      "source": [
        "print(camp[1])"
      ],
      "metadata": {
        "id": "9Ttsz9TPBlao"
      },
      "execution_count": null,
      "outputs": []
    },
    {
      "cell_type": "markdown",
      "source": [
        "ou encore des choses du type :\n"
      ],
      "metadata": {
        "id": "duSklHzVB0xA"
      }
    },
    {
      "cell_type": "code",
      "source": [
        "print(\"il y a \",effectif[0],\" \",camp[0],\" contre \",effectif[1],\" \",camp[1])"
      ],
      "metadata": {
        "id": "_LmBNvdvB6Fd"
      },
      "execution_count": null,
      "outputs": []
    },
    {
      "cell_type": "markdown",
      "source": [
        "On voit comment  **au travers de l’utilisation du concept d'indice, on peut établir des correspondances entre 2 listes par l’intermédiaire des indices** ….. Et ça, vous allez voir que c’est très très utilisé en sciences (et pas que d’ailleurs)\n"
      ],
      "metadata": {
        "id": "8vGwTfcOB5b_"
      }
    },
    {
      "cell_type": "markdown",
      "source": [
        "On peut d'ailleurs utiliser les indices non seulement pour accéder à un élément mais aussi pour le modifier. Par exemple, imaginons que le nombre de légionnaires n'est pas 300 mais 350. Il suffit de faire `effectif[0]=350` (car l'indice 0 correspond à l'effectif des légionnaires). Pas besoin de réécrire toute la liste pour en modifier un seul élément."
      ],
      "metadata": {
        "id": "KWymhDGRrCm5"
      }
    },
    {
      "cell_type": "code",
      "source": [
        "effectif[0]=350\n",
        "print(effectif)"
      ],
      "metadata": {
        "id": "246YJGWBr_jx"
      },
      "execution_count": null,
      "outputs": []
    },
    {
      "cell_type": "markdown",
      "source": [
        "## Les indices négatifs\n",
        "\n",
        "Et oui, les éléments d'une liste peuvent porter des indices négatifs. Bizarre non ? En fait, ils correspondent à un comptage à l'envers. Le dernier élément de la liste porte l'indice -1, l'avant dernier -2 et ainsi de suite. Ca ne sert pas forcément très souvent sauf pour parcourir une liste à l'envers, mais **surtout pour accéder très rapidement au dernier élément qui porte donc l'indice -1** et, ce, quelque soit sa longueur."
      ],
      "metadata": {
        "id": "KdBl0vD8iHmt"
      }
    },
    {
      "cell_type": "code",
      "source": [
        "print(camp[-1])  # l'indice  -1 permet d'accéder au dernier élement d'une liste\n",
        "print(camp[-2])"
      ],
      "metadata": {
        "id": "iPwkVr9hi7Cm"
      },
      "execution_count": null,
      "outputs": []
    },
    {
      "cell_type": "markdown",
      "source": [
        "\n",
        "Avant de voir des façons un peu plus complexes d’atteindre des tranches de listes (des slices en anglais), on va voir comment ajouter des éléments à nos listes\n"
      ],
      "metadata": {
        "id": "b_ymYaHBqnMF"
      }
    },
    {
      "cell_type": "markdown",
      "source": [
        "# Ajouter un élément ou des éléments à une liste\n",
        "\n",
        "Lorsque l’on veut ajouter un seul élément, la méthode de choix est d’utiliser la méthode append. On voit bien que dans ce combat entre romains et gaulois, il manque un élément essentiel : le chien ! Ajoutons dans nos 2 listes le mot “chien” et le fait qu’il est seul dans effectif.\n",
        "\n",
        "*(attention n'exécuter le code ci-dessous qu'une seule fois sinon il y aura des problèmes de compréhension pour la suite)*\n"
      ],
      "metadata": {
        "id": "EDxQsNWmCLBg"
      }
    },
    {
      "cell_type": "code",
      "source": [
        "camp.append('chien')\n",
        "effectif.append(1)\n",
        "print(camp)\n",
        "print(effectif)"
      ],
      "metadata": {
        "id": "J0Y_a9YLCHkO"
      },
      "execution_count": null,
      "outputs": []
    },
    {
      "cell_type": "markdown",
      "source": [
        "Bon, on s’aperçoit qu’on a oublié les officiers : 1 centurion et 4 décurions. Essayons d’ajouter les 2 en une seule fois :"
      ],
      "metadata": {
        "id": "IFPEoZD0Ct3Q"
      }
    },
    {
      "cell_type": "code",
      "source": [
        "camp.append(\"centurion\",\"decurion\")"
      ],
      "metadata": {
        "id": "hhDekdStC8Pc"
      },
      "execution_count": null,
      "outputs": []
    },
    {
      "cell_type": "markdown",
      "source": [
        "Visiblement, python n'est pas content et nous indique une erreur.\n",
        "append ne sert qu’à ajouter un seul élément à la fois !!! \n",
        "D’ailleurs si on lit bien le message d’erreur précédent, c’était dit : \n",
        "`list.append() takes exactly one argument (2 given)`\n",
        "\n",
        "Et oui, même si c’est en anglais, comprendre les erreurs indiquées par python3 est souvent le début de leur correction.\n",
        "\n",
        "\n",
        " Puisque ça ne marche qu'avec un seul élément. Essayons autrement :"
      ],
      "metadata": {
        "id": "cOpvZQJBDHX9"
      }
    },
    {
      "cell_type": "code",
      "source": [
        "camp.append([\"centurion\",\"decurion\"])\n",
        "print(camp)"
      ],
      "metadata": {
        "id": "r0hrZ8naDUR9"
      },
      "execution_count": null,
      "outputs": []
    },
    {
      "cell_type": "markdown",
      "source": [
        "ça marche mais c’est bizarre : on a une liste dans une liste !\n",
        "\n",
        "D’ailleurs, on peut vérifier le type de nos variables. Commençons par voir ce que nous la fonction type de la variable camp : \n"
      ],
      "metadata": {
        "id": "pOa7Lo3fDguo"
      }
    },
    {
      "cell_type": "code",
      "source": [
        "type(camp)"
      ],
      "metadata": {
        "id": "96FjaIGaEhbW"
      },
      "execution_count": null,
      "outputs": []
    },
    {
      "cell_type": "markdown",
      "source": [
        "Le type list existe donc. Maintenant regardons le type du premier élément de camp (d’indice 0 donc)\n"
      ],
      "metadata": {
        "id": "AmBIYvwQEocl"
      }
    },
    {
      "cell_type": "code",
      "source": [
        "type(camp[0])"
      ],
      "metadata": {
        "id": "rj1WOTjCEpHx"
      },
      "execution_count": null,
      "outputs": []
    },
    {
      "cell_type": "markdown",
      "source": [
        "Et maintenant, vérifions que le dernier élément (le 4ième donc d’indice 3) de camp est une liste :"
      ],
      "metadata": {
        "id": "ytVz7GixEzuo"
      }
    },
    {
      "cell_type": "code",
      "source": [
        "type(camp[3])"
      ],
      "metadata": {
        "id": "p7iTx8RVE5TZ"
      },
      "execution_count": null,
      "outputs": []
    },
    {
      "cell_type": "markdown",
      "source": [
        "On a donc bien une liste dans notre liste … Mais bon , encore une fois ce n’est pas ce que nous voulons.\n",
        "\n",
        "Revenons donc avant nos tentatives d’ajout des officiers romains et prenons-nous y autrement. Essayons de compléter les listes déjà existantes, camp et effectif en y \"ajoutant\" des nouvelles listes\n"
      ],
      "metadata": {
        "id": "lNisyVdKGEZf"
      }
    },
    {
      "cell_type": "code",
      "source": [
        "camp=['légionnaires', 'gaulois', 'chien']\n",
        "effectif=[300,2,1]\n",
        "camp=camp+[\"centurion\",\"decurion\"]\n",
        "effectif=effectif+[1,4]\n",
        "print(camp)\n",
        "print(effectif)"
      ],
      "metadata": {
        "id": "XqiIBNGOHTLP"
      },
      "execution_count": null,
      "outputs": []
    },
    {
      "cell_type": "markdown",
      "source": [
        "ça marche !!!!\n",
        "\n",
        "Vous remarquerez au passage, que le signe + ne fait pas ici une addition au sens mathématiques ! C’est une concaténation de liste. Essayez de voir et comprendre ce qui se passe si vous utilisez le signe * ….\n",
        "\n",
        "D’ailleurs cela aurait très bien fonctionné avec des variables. Imaginons une 3ième liste associée à la précédente indiquant au travers de booléens si on a affaire à des entités sous la tutelle de Jules César ou à des habitants du village gaulois isolé. Quand la composante est romaine on doit avoir False et True si la composante est gauloise\n"
      ],
      "metadata": {
        "id": "G0ut6Iw5HoC2"
      }
    },
    {
      "cell_type": "code",
      "source": [
        "gauloisTest1=[False,True]\n",
        "gauloisTest2=[True,False,False]\n",
        "gauloisTest=gauloisTest1+gauloisTest2\n",
        "print(gauloisTest)"
      ],
      "metadata": {
        "id": "aIhbPOujHrco"
      },
      "execution_count": null,
      "outputs": []
    },
    {
      "cell_type": "markdown",
      "source": [
        "Notez bien que j’ai respecté l’ordre des autres listes pour que la correspondance par indice soit fonctionnelle."
      ],
      "metadata": {
        "id": "EYA93_XIH1nQ"
      }
    },
    {
      "cell_type": "markdown",
      "source": [
        "**une instruction facultative pour les étudiants avancés** : Avec python on peut faire des choses rigolotes comme la ligne suivante qui permet d'extraire de la liste `camp` en se basant sur la valeur des booléens de `gauloisTest` une liste qui ne contient que les gaulois (vous pouvez essayer aussi d'extraire les romains en vous basant sur le même principe sans ajouter de nouvelles variables ... Il suffit d'ajouter un opérateur à la ligne) "
      ],
      "metadata": {
        "id": "y4_ZOGIvUZtt"
      }
    },
    {
      "cell_type": "code",
      "source": [
        "listeGaulois = [c for (c, t) in zip(camp, gauloisTest) if t]\n",
        "print(listeGaulois)"
      ],
      "metadata": {
        "id": "L4l8hjBDVNsN"
      },
      "execution_count": null,
      "outputs": []
    },
    {
      "cell_type": "markdown",
      "source": [
        "# Les tranches ou comment accéder à une partie de liste\n",
        "\n",
        "On aborde ici un sujet très important qu'il vous faudra vraiment maîtriser. Il est un peu compliqué au premier abord mais en le pratiquant, on s'aperçoit qu'il n'en est rien.\n",
        "\n",
        "Rappelons tout d'abord que dans une liste, chaque élément porte un numéro qui correspond à sa position dans la liste. Le comptage commence à 0 (voir la section sur les [indices](https://colab.research.google.com/drive/1lUxjYly6hvAcuTTfLm77QdAVj2PwTq1U#scrollTo=c-m_lRmDBhGJ)).\n",
        "\n",
        "\n",
        "Reprenons pour l'exemple notre liste : `camp=['légionnaires', 'gaulois', 'chien', 'centurion', 'decurion']`\n",
        "\n",
        "Extraire de cette liste une tranche qui va **de l'élément d'indice p à celui d'indice n**  revient à écrire un **indice un peu spécial sous la forme p:n+1**. Je sais c'est étrange de finir par l'indice n+1 plutôt que n, mais c'est comme ça et cela a même un côté très pratique ... Vous vous en appercevrez quand vous aurez écrit beaucoup de lignes de code en python 😀.\n",
        "\n",
        "Mettons que l'on veuille afficher les 3 premiers éléments de la liste `camp`"
      ],
      "metadata": {
        "id": "w-9nB-L8W8aN"
      }
    },
    {
      "cell_type": "code",
      "source": [
        "print(camp[0:4])"
      ],
      "metadata": {
        "id": "540t3qJun3e3"
      },
      "execution_count": null,
      "outputs": []
    },
    {
      "cell_type": "markdown",
      "source": [
        "Et oui, 'légionnaires' est bien l'élément d'indice 0 et 'centurion' est celui d'indice 3 (et pas 4 !).\n",
        "\n",
        "Maintenant, créons une nouvelle liste `subCamp` dans laquelle on veut les éléments 1 à 3 de `camp`. "
      ],
      "metadata": {
        "id": "xMijPqyZobVM"
      }
    },
    {
      "cell_type": "code",
      "source": [
        "subCamp=camp[1:4]\n",
        "print(subCamp)"
      ],
      "metadata": {
        "id": "YieoK76Tpbf4"
      },
      "execution_count": null,
      "outputs": []
    },
    {
      "cell_type": "markdown",
      "source": [
        "On peut aussi omettre une des 2 limites. Dans ce cas, si on veut tous les éléments après celui d'indice 3 inclus"
      ],
      "metadata": {
        "id": "aZipy91XsmZl"
      }
    },
    {
      "cell_type": "code",
      "source": [
        "print(camp[3:])"
      ],
      "metadata": {
        "id": "YClttlJ3vDzG"
      },
      "execution_count": null,
      "outputs": []
    },
    {
      "cell_type": "markdown",
      "source": [
        "ou tous les éléments avant"
      ],
      "metadata": {
        "id": "fAcGO1LgvMaT"
      }
    },
    {
      "cell_type": "code",
      "source": [
        "print(camp[:3])"
      ],
      "metadata": {
        "id": "MThu7nf9u4ye"
      },
      "execution_count": null,
      "outputs": []
    },
    {
      "cell_type": "markdown",
      "source": [
        "on peut même tout prendre en omettant les 2 limites :"
      ],
      "metadata": {
        "id": "ia8cUy5RvYs1"
      }
    },
    {
      "cell_type": "code",
      "source": [
        "print(camp[:])"
      ],
      "metadata": {
        "id": "qILFcetOvdsV"
      },
      "execution_count": null,
      "outputs": []
    },
    {
      "cell_type": "markdown",
      "source": [
        "**une instruction facultative pour les étudiants avancés** : On peut même choisir un pas entre les éléments en ajoutant le pas dans l'indice selon la syntaxe `n:p:pas`. Par exemple si on veut tous les éléments dont les indices sont pairs jusqu'à celui d'indice 4 inclus :"
      ],
      "metadata": {
        "id": "hnI_zS_7yztd"
      }
    },
    {
      "cell_type": "code",
      "source": [
        "print(camp[0:5:2])"
      ],
      "metadata": {
        "id": "P8sA9kebzV3D"
      },
      "execution_count": null,
      "outputs": []
    },
    {
      "cell_type": "markdown",
      "source": [
        "# Les listes de listes\n",
        "\n",
        "On peut faire des listes de listes. A priori, l'idée peut sembler bizarre, mais cela est utilisé dans certains contextes.\n",
        "\n",
        "Plutôt que d'avoir la liste `camp` et la liste effectif qui sont associées par les indices des 2 listes, on peut faire un autre choix : directement les asocier dans une liste de liste comme ci-dessous :\n",
        "\n"
      ],
      "metadata": {
        "id": "cUizgOXvr2tk"
      }
    },
    {
      "cell_type": "code",
      "source": [
        "campEffec=[['légionnaire',300],['gaulois',2],['chien',1]]\n",
        "print(campEffec)"
      ],
      "metadata": {
        "id": "VSjaD_X_r33Z"
      },
      "execution_count": null,
      "outputs": []
    },
    {
      "cell_type": "markdown",
      "source": [
        "Nous avons ici la liste `campEffec` qui comprend 3 éléments qui sont chacun des listes. Par exemple, si on prend le deuxième élément, il est constitué de la liste `['gaulois',2]`. Pour accéder à cet élément, comme d'habitude : campEffec[1].\n",
        "\n",
        "Maintenant si on veut accéder à un élément de cette liste qu'est `campEffec[1]`, il suffit d'appliquer un nouveau rang de crochet à cette liste comme dans l'exemple ci-dessous."
      ],
      "metadata": {
        "id": "mHLPyZy7r-RH"
      }
    },
    {
      "cell_type": "code",
      "source": [
        "print(\"il y a \",campEffec[1][1],\" \",campEffec[1][0],\" contre \",campEffec[0][1],\" \",campEffec[0][0])"
      ],
      "metadata": {
        "id": "LcGAboXLElgf"
      },
      "execution_count": null,
      "outputs": []
    },
    {
      "cell_type": "markdown",
      "source": [
        "A notre niveau, les listes de listes ne sont pas forcément d'une grande utilité. Une exemple typique d'utilisation est la création de variable de type \"dictionnaire\""
      ],
      "metadata": {
        "id": "mUP8YOSoF2kd"
      }
    },
    {
      "cell_type": "markdown",
      "source": [
        "# Des fonctions utiles : list(),range(),len(),shape(),ndim(),size()\n",
        "\n",
        "## générer des listes d'entiers automatiquement : range() avec list()\n",
        "\n",
        "Nous allons générer dans cette section des listes d'entiers automatiquement. Pour faire cela, il y a un type particulier de python nommé `range` qui contient des séries d'entiers. Pour créer une série de 0 à 9 :"
      ],
      "metadata": {
        "id": "Q1JK5EeOGyxW"
      }
    },
    {
      "cell_type": "code",
      "source": [
        "range(10)"
      ],
      "metadata": {
        "id": "pGxYBhBL2ZIO"
      },
      "execution_count": null,
      "outputs": []
    },
    {
      "cell_type": "markdown",
      "source": [
        "On voit que le retour de la commande est un peu spécial. On ne voit pas la liste d'entiers mais juste `range(0, 10)`. En fait, cela vient directement du fait que range est un type de python, d'ailleurs on le voit bien en faisant :"
      ],
      "metadata": {
        "id": "LD5OcxTy2qEV"
      }
    },
    {
      "cell_type": "code",
      "source": [
        "a=range(10)\n",
        "type(a)"
      ],
      "metadata": {
        "id": "0FIXCh4Y1tUt"
      },
      "execution_count": null,
      "outputs": []
    },
    {
      "cell_type": "markdown",
      "source": [
        "Mais alors commentconnaître les valeurs contenues dans la liste :"
      ],
      "metadata": {
        "id": "LRl_pp5rR2e0"
      }
    },
    {
      "cell_type": "code",
      "source": [
        "a=list(range(10))\n",
        "print(a)"
      ],
      "metadata": {
        "id": "t6Cme8nbSat9"
      },
      "execution_count": null,
      "outputs": []
    },
    {
      "cell_type": "markdown",
      "source": [
        "On a utilisé ici la fonction list qui convertit certains types de données de python en liste ... Ce qui est fort à propos dans le cadre présent 😀\n",
        "\n",
        "Quand on utilise range sous la forme `range(n)`, le range contient tous les entiers de 0 à la n-1.\n",
        "\n",
        "Sous la la forme `range(p,n)`, le range contient tous les entiers de p à la n-1."
      ],
      "metadata": {
        "id": "IhMi0fJQSkRb"
      }
    },
    {
      "cell_type": "code",
      "source": [
        "a=list(range(2,10))\n",
        "print(a)"
      ],
      "metadata": {
        "id": "MtZtta7_YGY1"
      },
      "execution_count": null,
      "outputs": []
    },
    {
      "cell_type": "markdown",
      "source": [
        "Sous la la forme `range(p,n,inc)`, le range contient tous les entiers de p à la n-1 avec un pas de inc entre chaque valeur"
      ],
      "metadata": {
        "id": "YwVh1fYfYd2j"
      }
    },
    {
      "cell_type": "code",
      "source": [
        "a=list(range(2,10,3))\n",
        "print(a)"
      ],
      "metadata": {
        "id": "m6Xy1hsgY4NT"
      },
      "execution_count": null,
      "outputs": []
    },
    {
      "cell_type": "markdown",
      "source": [
        "Vous verrez dans d'autres parties de ce cours que range à plusieurs utilisation autre que celle de simplement générer des listes.\n",
        "\n",
        "On peut aussi faire des listes \"à l'envers\""
      ],
      "metadata": {
        "id": "EX2M0hkeZRy1"
      }
    },
    {
      "cell_type": "code",
      "source": [
        "a=list(range(10,-5,-3))\n",
        "print(a)"
      ],
      "metadata": {
        "id": "BlvEEMSOfQtj"
      },
      "execution_count": null,
      "outputs": []
    },
    {
      "cell_type": "markdown",
      "source": [
        "## Connaîtres la taille des listes : len(),shape(),ndim(),size()\n",
        "\n",
        "La fonction `len` permet de connaître la taille d'une liste"
      ],
      "metadata": {
        "id": "ICYggODKZefu"
      }
    },
    {
      "cell_type": "code",
      "source": [
        "print(camp)\n",
        "print(len(camp))"
      ],
      "metadata": {
        "id": "RLvg1hagZ5Ha"
      },
      "execution_count": null,
      "outputs": []
    },
    {
      "cell_type": "markdown",
      "source": [
        "C'était facile, mais avec une liste de listes, comment ça se passe ?"
      ],
      "metadata": {
        "id": "dCVDAATVaPZV"
      }
    },
    {
      "cell_type": "code",
      "source": [
        "len(campEffec)"
      ],
      "metadata": {
        "id": "z-OLNyvradcl"
      },
      "execution_count": null,
      "outputs": []
    },
    {
      "cell_type": "markdown",
      "source": [
        "Ca ne se passe pas bien 😞. `campEffec` contient bien 3 listes, mais on a ici aucune information sur le fait que chacune de ces listes est aussi une liste de 2 éléments. Pour avoir plus d'informations, il faut charger le module `pylab` pour avoir accès aux fonctions `ndim` et `shape`."
      ],
      "metadata": {
        "id": "Q1lsiISJbmPl"
      }
    },
    {
      "cell_type": "code",
      "source": [
        "from pylab import *\n",
        "print(ndim(campEffec))\n",
        "print(shape(campEffec))\n",
        "print(size(campEffec))"
      ],
      "metadata": {
        "id": "t3qvqgeZcK_o"
      },
      "execution_count": null,
      "outputs": []
    },
    {
      "cell_type": "markdown",
      "source": [
        "On voit que `ndim()` nous fournit le nombre de dimension de la matrice. Ici, 2 signifie qu'on a une liste de listes. Si on avait obtenu 3, cela aurait signifié qu'on avait affaire à une liste de listes de listes ... et ainsi de suite.\n",
        "\n",
        "`shape()` donne des indications supplémentaires : pour chacune des 2 dimensions, on a le nombre d'éléments.\n",
        "\n",
        "`size()` renvoie le nombre total d'éléments"
      ],
      "metadata": {
        "id": "ov1PB-57c85H"
      }
    }
  ]
}