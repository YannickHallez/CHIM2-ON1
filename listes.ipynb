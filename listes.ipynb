{
  "nbformat": 4,
  "nbformat_minor": 0,
  "metadata": {
    "colab": {
      "name": "listes.ipynb",
      "provenance": [],
      "authorship_tag": "ABX9TyPLcrSfogxpl+tcB5ommvoI",
      "include_colab_link": true
    },
    "kernelspec": {
      "name": "python3",
      "display_name": "Python 3"
    },
    "language_info": {
      "name": "python"
    }
  },
  "cells": [
    {
      "cell_type": "markdown",
      "metadata": {
        "id": "view-in-github",
        "colab_type": "text"
      },
      "source": [
        "<a href=\"https://colab.research.google.com/github/YannickHallez/CHIM2-ON1/blob/main/listes.ipynb\" target=\"_parent\"><img src=\"https://colab.research.google.com/assets/colab-badge.svg\" alt=\"Open In Colab\"/></a>"
      ]
    },
    {
      "cell_type": "markdown",
      "source": [
        "Qu’est-ce qu’une liste ?\n",
        "Une liste est un moyen de mettre plusieurs données ensemble. Les informaticiens appellent cela une structure de données (il y a en d’autres en python). \n",
        "\n",
        "Pour construire une liste, il suffit de séparer les grandeurs que l’on veut mettre dedans par des virgules et d’entourer le tout par des crochets. Dans cet exemple, je vous montre comment créer une liste simple d’entiers.\n"
      ],
      "metadata": {
        "id": "enscLJVP1lNu"
      }
    },
    {
      "cell_type": "code",
      "execution_count": 2,
      "metadata": {
        "colab": {
          "base_uri": "https://localhost:8080/"
        },
        "id": "LrTHe1jA1iMD",
        "outputId": "b02224d1-6a9e-407d-aeb3-5218f2fd852c"
      },
      "outputs": [
        {
          "output_type": "execute_result",
          "data": {
            "text/plain": [
              "[1, 3, 5, 7]"
            ]
          },
          "metadata": {},
          "execution_count": 2
        }
      ],
      "source": [
        "a=[1,3,5,7]\n",
        "a"
      ]
    },
    {
      "cell_type": "markdown",
      "source": [
        "une liste de réels"
      ],
      "metadata": {
        "id": "wLrMv5-l2bEW"
      }
    },
    {
      "cell_type": "code",
      "source": [
        "r=[1.5,-2.0,3.6,-8.5]\n",
        "r"
      ],
      "metadata": {
        "colab": {
          "base_uri": "https://localhost:8080/"
        },
        "id": "bMFoLJmG26QZ",
        "outputId": "4d91f1f1-df05-4413-8d0a-7911bf529508"
      },
      "execution_count": 3,
      "outputs": [
        {
          "output_type": "execute_result",
          "data": {
            "text/plain": [
              "[1.5, -2.0, 3.6, -8.5]"
            ]
          },
          "metadata": {},
          "execution_count": 3
        }
      ]
    },
    {
      "cell_type": "markdown",
      "source": [
        "une liste de chaînes de caractères"
      ],
      "metadata": {
        "id": "qlNjVDCf3B0H"
      }
    },
    {
      "cell_type": "code",
      "source": [
        "chaussures=[\"pantoufles\",\"mocassins\",\"claquettes\"]\n",
        "chaussures"
      ],
      "metadata": {
        "colab": {
          "base_uri": "https://localhost:8080/"
        },
        "id": "_i6YsvNO3EhI",
        "outputId": "3d9e8337-a8a3-4f96-8e2b-0ac97ab9673d"
      },
      "execution_count": 4,
      "outputs": [
        {
          "output_type": "execute_result",
          "data": {
            "text/plain": [
              "['pantoufles', 'mocassins', 'claquettes']"
            ]
          },
          "metadata": {},
          "execution_count": 4
        }
      ]
    },
    {
      "cell_type": "markdown",
      "source": [
        "On peut même mélanger les types de variables (ici des chaînes et des entiers)"
      ],
      "metadata": {
        "id": "zVJtD4K33PtN"
      }
    },
    {
      "cell_type": "code",
      "source": [
        ""
      ],
      "metadata": {
        "id": "sB1nTIpH3R-P"
      },
      "execution_count": null,
      "outputs": []
    }
  ]
}