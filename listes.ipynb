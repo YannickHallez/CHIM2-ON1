{
  "nbformat": 4,
  "nbformat_minor": 0,
  "metadata": {
    "colab": {
      "provenance": [],
      "collapsed_sections": [],
      "authorship_tag": "ABX9TyO8BKOne4xomTIux5KYaPBi",
      "include_colab_link": true
    },
    "kernelspec": {
      "name": "python3",
      "display_name": "Python 3"
    },
    "language_info": {
      "name": "python"
    }
  },
  "cells": [
    {
      "cell_type": "markdown",
      "metadata": {
        "id": "view-in-github",
        "colab_type": "text"
      },
      "source": [
        "<a href=\"https://colab.research.google.com/github/YannickHallez/CHIM2-ON1/blob/main/listes.ipynb\" target=\"_parent\"><img src=\"https://colab.research.google.com/assets/colab-badge.svg\" alt=\"Open In Colab\"/></a>"
      ]
    },
    {
      "cell_type": "markdown",
      "source": [
        "# Les Listes\n",
        "\n",
        "## Prérequis\n",
        "\n",
        "Avoir suivi la leçon sur les variables.\n",
        "\n",
        "## Compétences\n",
        "\n",
        "- Créer des listes de divers types\n",
        "- Utiliser les listes\n",
        "- Accéder à un élément ou à une tranche de liste\n",
        "- Utiliser les fonctions de base s'appliquant aux listes (ajout, dimension)\n",
        "\n",
        "## Objectifs\n",
        "\n",
        "- Acquérir les compétences ci-dessus.\n",
        "\n",
        "- Se familiariser avec les premières notions de programmation. Contenu de la vidéo\n"
      ],
      "metadata": {
        "id": "BEK34Oa55hJT"
      }
    },
    {
      "cell_type": "markdown",
      "source": [
        "# Qu’est-ce qu’une liste ?\n",
        "\n",
        "Une liste est un moyen de mettre plusieurs données ensemble. Les informaticiens appellent cela une structure de données (il y a en d’autres en python). \n",
        "\n",
        "Pour construire une liste, il suffit de séparer les grandeurs que l’on veut mettre dedans par des virgules et d’entourer le tout par des crochets. Dans cet exemple, je vous montre comment créer une liste simple d’entiers.\n"
      ],
      "metadata": {
        "id": "enscLJVP1lNu"
      }
    },
    {
      "cell_type": "code",
      "execution_count": null,
      "metadata": {
        "id": "LrTHe1jA1iMD"
      },
      "outputs": [],
      "source": [
        "a=[1,3,5,7]\n",
        "print(a)"
      ]
    },
    {
      "cell_type": "markdown",
      "source": [
        "une liste de réels"
      ],
      "metadata": {
        "id": "wLrMv5-l2bEW"
      }
    },
    {
      "cell_type": "code",
      "source": [
        "r=[1.5,-2.0,3.6,-8.5]\n",
        "print(r)"
      ],
      "metadata": {
        "id": "bMFoLJmG26QZ"
      },
      "execution_count": null,
      "outputs": []
    },
    {
      "cell_type": "markdown",
      "source": [
        "une liste de chaînes de caractères"
      ],
      "metadata": {
        "id": "qlNjVDCf3B0H"
      }
    },
    {
      "cell_type": "code",
      "source": [
        "chaussures=[\"pantoufles\",\"mocassins\",\"claquettes\"]\n",
        "print(chaussures)"
      ],
      "metadata": {
        "id": "_i6YsvNO3EhI"
      },
      "execution_count": null,
      "outputs": []
    },
    {
      "cell_type": "markdown",
      "source": [
        "On peut même mélanger les types de variables (ici des chaînes et des entiers)"
      ],
      "metadata": {
        "id": "zVJtD4K33PtN"
      }
    },
    {
      "cell_type": "code",
      "source": [
        "bd=[\"légionnaires\",300,\"gaulois\",2]\n",
        "print(bd)"
      ],
      "metadata": {
        "id": "sB1nTIpH3R-P"
      },
      "execution_count": null,
      "outputs": []
    },
    {
      "cell_type": "markdown",
      "source": [
        "En sciences, c’est assez rare d’avoir ce type de mélange de type. c’est juste pour dire que c’est possible…"
      ],
      "metadata": {
        "id": "WIytCjiP83iY"
      }
    },
    {
      "cell_type": "markdown",
      "source": [
        "# Mais à quoi ça peut donc bien servir ?\n",
        "\n",
        "A plein de choses qui pour le coup sont très utiles, même si en sciences on utilisera plus souvent un concept un peu similaire que vous verrez un peu plus tard : les matrices ou array du module numpy. Les 2 ont d’ailleurs des modes de fonctionnement un peu similaires. Pour faire des traitements purement mathématiques les listes ne sont pas les plus adaptées. Mais revenons à nos listes.\n",
        "\n",
        "Imaginez que vous remontez au temps où un petit village gaulois isolé et entouré de camps retranchés romains. Au détour d’un chemin séparant le village de ces camps, des gaulois rencontrent une patrouille romaine. S'ensuit une distribution de baffes. Passons en revue les compositions et effectifs des 2 camps au moyen de 2 listes :\n",
        "\n"
      ],
      "metadata": {
        "id": "J3Ycn9cZ9CXv"
      }
    },
    {
      "cell_type": "code",
      "source": [
        "camp=[\"légionnaires\",\"gaulois\"]\n",
        "effectif=[300,2]"
      ],
      "metadata": {
        "id": "iH0tuFLv9qWe"
      },
      "execution_count": null,
      "outputs": []
    },
    {
      "cell_type": "markdown",
      "source": [
        "Première constatation, vous voyez que contrairement à la liste bd créée un peu plus tôt, on a choisi ici de créer 2 listes, l’une contenant les noms des opposants et la seconde leur effectif. Quels avantages cela présente-t-il ?\n",
        "\n",
        "Pour le comprendre commençons par expliquer comment accéder à des éléments dans une liste"
      ],
      "metadata": {
        "id": "ChJc_KMq94dO"
      }
    },
    {
      "cell_type": "markdown",
      "source": [
        "# Les indices ou comment accéder à des éléments individuels d’une liste\n",
        "\n",
        "A chaque élément d’une liste est associé un entier appelé indice qui indique à quelle position l’élément est dans la liste en commençant à compter à 0. Ainsi, l’élément “légionnaire” porte l’indice 0 de la liste appelée camp et “gaulois” l’indice 1. On peut accéder à un élément en faisant par exemple : le nom de la liste suivi par l’indice entre crochets\n"
      ],
      "metadata": {
        "id": "c-m_lRmDBhGJ"
      }
    },
    {
      "cell_type": "code",
      "source": [
        "print(camp[1])"
      ],
      "metadata": {
        "id": "9Ttsz9TPBlao"
      },
      "execution_count": null,
      "outputs": []
    },
    {
      "cell_type": "markdown",
      "source": [
        "ou encore des choses du type :\n"
      ],
      "metadata": {
        "id": "duSklHzVB0xA"
      }
    },
    {
      "cell_type": "code",
      "source": [
        "print(\"il y a \",effectif[0],\" \",camp[0],\" contre \",effectif[1],\" \",camp[1])"
      ],
      "metadata": {
        "colab": {
          "base_uri": "https://localhost:8080/"
        },
        "id": "_LmBNvdvB6Fd",
        "outputId": "ff0819d8-fa9b-4380-bda2-91a4eab4a6c0"
      },
      "execution_count": null,
      "outputs": [
        {
          "output_type": "stream",
          "name": "stdout",
          "text": [
            "il y a  300   légionnaires  contre  2   gaulois\n"
          ]
        }
      ]
    },
    {
      "cell_type": "markdown",
      "source": [
        "On voit comment  **au travers de l’utilisation du concept d'indice, on peut établir des correspondances entre 2 listes par l’intermédiaire des indices** ….. Et ça, vous allez voir que c’est très très utilisé en sciences (et pas que d’ailleurs)\n"
      ],
      "metadata": {
        "id": "8vGwTfcOB5b_"
      }
    },
    {
      "cell_type": "markdown",
      "source": [
        "On peut d'ailleurs utiliser les indices non seulement pour accéder à un élément mais aussi pour le modifier. Par exemple, imaginons que le nombre de légionnaires n'est pas 300 mais 350. Il suffit de faire `effectif[0]=350` (car l'indice 0 correspond à l'effectif des légionnaires). Pas besoin de réécrire toute la liste pour en modifier un seul élément."
      ],
      "metadata": {
        "id": "KWymhDGRrCm5"
      }
    },
    {
      "cell_type": "code",
      "source": [
        "effectif[0]=350\n",
        "print(effectif)"
      ],
      "metadata": {
        "id": "246YJGWBr_jx"
      },
      "execution_count": null,
      "outputs": []
    },
    {
      "cell_type": "markdown",
      "source": [
        "## Les indices négatifs\n",
        "\n",
        "Et oui, les éléments d'une liste peuvent porter des indices négatifs. Bizarre non ? En fait, ils correspondent à un comptage à l'envers. Le dernier élément de la liste porte l'indice -1, l'avant dernier -2 et ainsi de suite. Ca ne sert pas forcément très souvent sauf pour parcourir une liste à l'envers, mais **surtout pour accéder très rapidement au dernier élément qui porte donc l'indice -1** et, ce, quelque soit sa longueur."
      ],
      "metadata": {
        "id": "KdBl0vD8iHmt"
      }
    },
    {
      "cell_type": "code",
      "source": [
        "print(camp[-1])  # l'indice  -1 permet d'accéder au dernier élement d'une liste\n",
        "print(camp[-2])"
      ],
      "metadata": {
        "colab": {
          "base_uri": "https://localhost:8080/"
        },
        "id": "iPwkVr9hi7Cm",
        "outputId": "909f0ca8-6b3d-4a6c-cc39-2fcb79bd5151"
      },
      "execution_count": null,
      "outputs": [
        {
          "output_type": "stream",
          "name": "stdout",
          "text": [
            "gaulois\n",
            "légionnaires\n"
          ]
        }
      ]
    },
    {
      "cell_type": "markdown",
      "source": [
        "\n",
        "Avant de voir des façons un peu plus complexes d’atteindre des tranches de listes (des slices en anglais), on va voir comment ajouter des éléments à nos listes\n"
      ],
      "metadata": {
        "id": "b_ymYaHBqnMF"
      }
    },
    {
      "cell_type": "markdown",
      "source": [
        "# Ajouter un élément ou des éléments à une liste\n",
        "\n",
        "Lorsque l’on veut ajouter un seul élément, la méthode de choix est d’utiliser la méthode append. On voit bien que dans ce combat entre romains et gaulois, il manque un élément essentiel : le chien ! Ajoutons dans nos 2 listes le mot “chien” et le fait qu’il est seul dans effectif.\n",
        "\n",
        "*(attention n'exécuter le code ci-dessous qu'une seule fois sinon il y aura des problèmes de compréhension pour la suite)*\n"
      ],
      "metadata": {
        "id": "EDxQsNWmCLBg"
      }
    },
    {
      "cell_type": "code",
      "source": [
        "camp.append('chien')\n",
        "effectif.append(1)\n",
        "print(camp)\n",
        "print(effectif)"
      ],
      "metadata": {
        "id": "J0Y_a9YLCHkO"
      },
      "execution_count": null,
      "outputs": []
    },
    {
      "cell_type": "markdown",
      "source": [
        "Bon, on s’aperçoit qu’on a oublié les officiers : 1 centurion et 4 décurions. Essayons d’ajouter les 2 en une seule fois :"
      ],
      "metadata": {
        "id": "IFPEoZD0Ct3Q"
      }
    },
    {
      "cell_type": "code",
      "source": [
        "camp.append(\"centurion\",\"decurion\")"
      ],
      "metadata": {
        "colab": {
          "base_uri": "https://localhost:8080/",
          "height": 166
        },
        "id": "hhDekdStC8Pc",
        "outputId": "5f3b0120-023d-4ab4-b57c-6b9f59ba100c"
      },
      "execution_count": null,
      "outputs": [
        {
          "output_type": "error",
          "ename": "TypeError",
          "evalue": "ignored",
          "traceback": [
            "\u001b[0;31m---------------------------------------------------------------------------\u001b[0m",
            "\u001b[0;31mTypeError\u001b[0m                                 Traceback (most recent call last)",
            "\u001b[0;32m<ipython-input-16-4a13ef14952b>\u001b[0m in \u001b[0;36m<module>\u001b[0;34m()\u001b[0m\n\u001b[0;32m----> 1\u001b[0;31m \u001b[0mcamp\u001b[0m\u001b[0;34m.\u001b[0m\u001b[0mappend\u001b[0m\u001b[0;34m(\u001b[0m\u001b[0;34m\"centurion\"\u001b[0m\u001b[0;34m,\u001b[0m\u001b[0;34m\"decurion\"\u001b[0m\u001b[0;34m)\u001b[0m\u001b[0;34m\u001b[0m\u001b[0;34m\u001b[0m\u001b[0m\n\u001b[0m",
            "\u001b[0;31mTypeError\u001b[0m: append() takes exactly one argument (2 given)"
          ]
        }
      ]
    },
    {
      "cell_type": "markdown",
      "source": [
        "Visiblement, python n'est pas content et nous indique une erreur.\n",
        "append ne sert qu’à ajouter un seul élément à la fois !!! \n",
        "D’ailleurs si on lit bien le message d’erreur précédent, c’était dit : \n",
        "`list.append() takes exactly one argument (2 given)`\n",
        "\n",
        "Et oui, même si c’est en anglais, comprendre les erreurs indiquées par python3 est souvent le début de leur correction.\n",
        "\n",
        "\n",
        " Puisque ça ne marche qu'avec un seul élément. Essayons autrement :"
      ],
      "metadata": {
        "id": "cOpvZQJBDHX9"
      }
    },
    {
      "cell_type": "code",
      "source": [
        "camp.append([\"centurion\",\"decurion\"])\n",
        "print(camp)"
      ],
      "metadata": {
        "colab": {
          "base_uri": "https://localhost:8080/"
        },
        "id": "r0hrZ8naDUR9",
        "outputId": "d4de6773-1035-46d0-b9fb-fa32e22f2cf3"
      },
      "execution_count": null,
      "outputs": [
        {
          "output_type": "stream",
          "name": "stdout",
          "text": [
            "['légionnaires', 'gaulois', 'chien', ['centurion', 'decurion']]\n"
          ]
        }
      ]
    },
    {
      "cell_type": "markdown",
      "source": [
        "ça marche mais c’est bizarre : on a une liste dans une liste !\n",
        "\n",
        "D’ailleurs, on peut vérifier le type de nos variables. Commençons par voir ce que nous la fonction type de la variable camp : \n"
      ],
      "metadata": {
        "id": "pOa7Lo3fDguo"
      }
    },
    {
      "cell_type": "code",
      "source": [
        "type(camp)"
      ],
      "metadata": {
        "colab": {
          "base_uri": "https://localhost:8080/"
        },
        "id": "96FjaIGaEhbW",
        "outputId": "1e5b173a-c943-42f9-9175-34effecf4eec"
      },
      "execution_count": null,
      "outputs": [
        {
          "output_type": "execute_result",
          "data": {
            "text/plain": [
              "list"
            ]
          },
          "metadata": {},
          "execution_count": 24
        }
      ]
    },
    {
      "cell_type": "markdown",
      "source": [
        "Le type list existe donc. Maintenant regardons le type du premier élément de camp (d’indice 0 donc)\n"
      ],
      "metadata": {
        "id": "AmBIYvwQEocl"
      }
    },
    {
      "cell_type": "code",
      "source": [
        "type(camp[0])"
      ],
      "metadata": {
        "colab": {
          "base_uri": "https://localhost:8080/"
        },
        "id": "rj1WOTjCEpHx",
        "outputId": "205c3fde-b34b-4aa9-f924-be97c3527427"
      },
      "execution_count": null,
      "outputs": [
        {
          "output_type": "execute_result",
          "data": {
            "text/plain": [
              "str"
            ]
          },
          "metadata": {},
          "execution_count": 25
        }
      ]
    },
    {
      "cell_type": "markdown",
      "source": [
        "Et maintenant, vérifions que le dernier élément (le 4ième donc d’indice 3) de camp est une liste :"
      ],
      "metadata": {
        "id": "ytVz7GixEzuo"
      }
    },
    {
      "cell_type": "code",
      "source": [
        "type(camp[3])"
      ],
      "metadata": {
        "colab": {
          "base_uri": "https://localhost:8080/"
        },
        "id": "p7iTx8RVE5TZ",
        "outputId": "015d7162-ddf2-4f7d-abe1-3e8e3d3d29f9"
      },
      "execution_count": null,
      "outputs": [
        {
          "output_type": "execute_result",
          "data": {
            "text/plain": [
              "list"
            ]
          },
          "metadata": {},
          "execution_count": 26
        }
      ]
    },
    {
      "cell_type": "markdown",
      "source": [
        "On a donc bien une liste dans notre liste … Mais bon , encore une fois ce n’est pas ce que nous voulons.\n",
        "\n",
        "Revenons donc avant nos tentatives d’ajout des officiers romains et prenons-nous y autrement. Essayons de compléter les listes déjà existantes, camp et effectif en y \"ajoutant\" des nouvelles listes\n"
      ],
      "metadata": {
        "id": "lNisyVdKGEZf"
      }
    },
    {
      "cell_type": "code",
      "source": [
        "camp=['légionnaires', 'gaulois', 'chien']\n",
        "effectif=[300,2,1]\n",
        "camp=camp+[\"centurion\",\"decurion\"]\n",
        "effectif=effectif+[1,4]\n",
        "print(camp)\n",
        "print(effectif)"
      ],
      "metadata": {
        "colab": {
          "base_uri": "https://localhost:8080/"
        },
        "id": "XqiIBNGOHTLP",
        "outputId": "3574ddb3-1641-46b8-a01d-d3f4975e4cde"
      },
      "execution_count": null,
      "outputs": [
        {
          "output_type": "stream",
          "name": "stdout",
          "text": [
            "['légionnaires', 'gaulois', 'chien', 'centurion', 'decurion']\n",
            "[300, 2, 1, 1, 4]\n"
          ]
        }
      ]
    },
    {
      "cell_type": "markdown",
      "source": [
        "ça marche !!!!\n",
        "\n",
        "Vous remarquerez au passage, que le signe + ne fait pas ici une addition au sens mathématiques ! C’est une concaténation de liste. Essayez de voir et comprendre ce qui se passe si vous utilisez le signe * ….\n",
        "\n",
        "D’ailleurs cela aurait très bien fonctionné avec des variables. Imaginons une 3ième liste associée à la précédente indiquant au travers de booléens si on a affaire à des entités sous la tutelle de Jules César ou à des habitants du village gaulois isolé. Quand la composante est romaine on doit avoir False et True si la composante est gauloise\n"
      ],
      "metadata": {
        "id": "G0ut6Iw5HoC2"
      }
    },
    {
      "cell_type": "code",
      "source": [
        "gauloisTest1=[False,True]\n",
        "gauloisTest2=[True,False,False]\n",
        "gauloisTest=gauloisTest1+gauloisTest2\n",
        "print(gauloisTest)"
      ],
      "metadata": {
        "colab": {
          "base_uri": "https://localhost:8080/"
        },
        "id": "aIhbPOujHrco",
        "outputId": "a1dabd82-4d8b-4c63-a05f-7e5c4e568bef"
      },
      "execution_count": null,
      "outputs": [
        {
          "output_type": "stream",
          "name": "stdout",
          "text": [
            "[False, True, True, False, False]\n"
          ]
        }
      ]
    },
    {
      "cell_type": "markdown",
      "source": [
        "Notez bien que j’ai respecté l’ordre des autres listes pour que la correspondance par indice soit fonctionnelle."
      ],
      "metadata": {
        "id": "EYA93_XIH1nQ"
      }
    },
    {
      "cell_type": "markdown",
      "source": [
        "**une instruction facultative pour les étudiants avancés** : Avec python on peut faire des choses rigolotes comme la ligne suivante qui permet d'extraire de la liste `camp` en se basant sur la valeur des booléens de `gauloisTest` une liste qui ne contient que les gaulois (vous pouvez essayer aussi d'extraire les romains en vous basant sur le même principe sans ajouter de nouvelles variables ... Il suffit d'ajouter un opérateur à la ligne) "
      ],
      "metadata": {
        "id": "y4_ZOGIvUZtt"
      }
    },
    {
      "cell_type": "code",
      "source": [
        "listeGaulois = [c for (c, t) in zip(camp, gauloisTest) if t]\n",
        "print(listeGaulois)"
      ],
      "metadata": {
        "colab": {
          "base_uri": "https://localhost:8080/"
        },
        "id": "L4l8hjBDVNsN",
        "outputId": "112e3354-2a64-43ea-ae40-4b7fc3e75212"
      },
      "execution_count": null,
      "outputs": [
        {
          "output_type": "stream",
          "name": "stdout",
          "text": [
            "['gaulois', 'chien']\n"
          ]
        }
      ]
    },
    {
      "cell_type": "markdown",
      "source": [
        "# Les tranches ou comment accéder à une partie de liste\n",
        "\n",
        "On aborde ici un sujet très important qu'il vous faudra vraiment maîtriser. Il est un peu compliqué au premier abord mais en le pratiquant, on s'aperçoit qu'il n'en est rien.\n",
        "\n",
        "Rappelons tout d'abord que dans une liste, chaque élément porte un numéro qui correspond à sa position dans la liste. Le comptage commence à 0 (voir la section sur les [indices](https://colab.research.google.com/drive/1lUxjYly6hvAcuTTfLm77QdAVj2PwTq1U#scrollTo=c-m_lRmDBhGJ)).\n",
        "\n",
        "\n",
        "Reprenons pour l'exemple notre liste : `camp=['légionnaires', 'gaulois', 'chien', 'centurion', 'decurion']`\n",
        "\n",
        "Extraire de cette liste une tranche qui va **de l'élément d'indice p à celui d'indice n**  revient à écrire un **indice un peu spécial sous la forme p:n+1**. Je sais c'est étrange de finir par l'indice n+1 plutôt que n, mais c'est comme ça et cela a même un côté très pratique ... Vous vous en appercevrez quand vous aurez écrit beaucoup de lignes de code en python 😀.\n",
        "\n",
        "Mettons que l'on veuille afficher les 3 premiers éléments de la liste `camp`"
      ],
      "metadata": {
        "id": "w-9nB-L8W8aN"
      }
    },
    {
      "cell_type": "code",
      "source": [
        "print(camp[0:4])"
      ],
      "metadata": {
        "colab": {
          "base_uri": "https://localhost:8080/"
        },
        "id": "540t3qJun3e3",
        "outputId": "55c41b62-54ad-434f-88f4-db4dca0fa67a"
      },
      "execution_count": null,
      "outputs": [
        {
          "output_type": "stream",
          "name": "stdout",
          "text": [
            "['légionnaires', 'gaulois', 'chien', 'centurion']\n"
          ]
        }
      ]
    },
    {
      "cell_type": "markdown",
      "source": [
        "Et oui, 'légionnaires' est bien l'élément d'indice 0 et 'centurion' est celui d'indice 3 (et pas 4 !).\n",
        "\n",
        "Maintenant, créons une nouvelle liste `subCamp` dans laquelle on veut les éléments 1 à 3 de `camp`. "
      ],
      "metadata": {
        "id": "xMijPqyZobVM"
      }
    },
    {
      "cell_type": "code",
      "source": [
        "subCamp=camp[1:4]\n",
        "print(subCamp)"
      ],
      "metadata": {
        "colab": {
          "base_uri": "https://localhost:8080/"
        },
        "id": "YieoK76Tpbf4",
        "outputId": "2677ec58-3cd3-4b9d-9492-ef458d3b44e9"
      },
      "execution_count": null,
      "outputs": [
        {
          "output_type": "stream",
          "name": "stdout",
          "text": [
            "['gaulois', 'chien', 'centurion']\n"
          ]
        }
      ]
    },
    {
      "cell_type": "markdown",
      "source": [
        "On peut aussi omettre une des 2 limites. Dans ce cas, si on veut tous les éléments après celui d'indice 3 inclus"
      ],
      "metadata": {
        "id": "aZipy91XsmZl"
      }
    },
    {
      "cell_type": "code",
      "source": [
        "print(camp[3:])"
      ],
      "metadata": {
        "colab": {
          "base_uri": "https://localhost:8080/"
        },
        "id": "YClttlJ3vDzG",
        "outputId": "dbdad34d-c89d-41aa-8531-9a1bf1dfcc11"
      },
      "execution_count": null,
      "outputs": [
        {
          "output_type": "stream",
          "name": "stdout",
          "text": [
            "['centurion', 'decurion']\n"
          ]
        }
      ]
    },
    {
      "cell_type": "markdown",
      "source": [
        "ou tous les éléments avant"
      ],
      "metadata": {
        "id": "fAcGO1LgvMaT"
      }
    },
    {
      "cell_type": "code",
      "source": [
        "print(camp[:3])"
      ],
      "metadata": {
        "colab": {
          "base_uri": "https://localhost:8080/"
        },
        "id": "MThu7nf9u4ye",
        "outputId": "266115a8-7e27-4e0a-9b6f-045d07c3df9f"
      },
      "execution_count": null,
      "outputs": [
        {
          "output_type": "stream",
          "name": "stdout",
          "text": [
            "['légionnaires', 'gaulois', 'chien']\n"
          ]
        }
      ]
    },
    {
      "cell_type": "markdown",
      "source": [
        "on peut même tout prendre en omettant les 2 limites :"
      ],
      "metadata": {
        "id": "ia8cUy5RvYs1"
      }
    },
    {
      "cell_type": "code",
      "source": [
        "print(camp[:])"
      ],
      "metadata": {
        "colab": {
          "base_uri": "https://localhost:8080/"
        },
        "id": "qILFcetOvdsV",
        "outputId": "67d02cbf-1f47-4130-e946-556fa6fbee34"
      },
      "execution_count": null,
      "outputs": [
        {
          "output_type": "stream",
          "name": "stdout",
          "text": [
            "['légionnaires', 'gaulois', 'chien', 'centurion', 'decurion']\n"
          ]
        }
      ]
    },
    {
      "cell_type": "markdown",
      "source": [
        "**une instruction facultative pour les étudiants avancés** : On peut même choisir un pas entre les éléments en ajoutant le pas dans l'indice selon la syntaxe `n:p:pas`. Par exemple si on veut tous les éléments dont les indices sont pairs jusqu'à celui d'indice 4 inclus :"
      ],
      "metadata": {
        "id": "hnI_zS_7yztd"
      }
    },
    {
      "cell_type": "code",
      "source": [
        "print(camp[0:5:2])"
      ],
      "metadata": {
        "colab": {
          "base_uri": "https://localhost:8080/"
        },
        "id": "P8sA9kebzV3D",
        "outputId": "c8f03d1b-2337-4f07-ea07-5a1177ef6c2b"
      },
      "execution_count": null,
      "outputs": [
        {
          "output_type": "stream",
          "name": "stdout",
          "text": [
            "['légionnaires', 'chien', 'decurion']\n"
          ]
        }
      ]
    }
  ]
}