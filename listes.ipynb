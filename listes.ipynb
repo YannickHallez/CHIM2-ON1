{
 "cells": [
  {
   "cell_type": "markdown",
   "metadata": {
    "colab_type": "text",
    "id": "view-in-github"
   },
   "source": [
    "<a href=\"https://colab.research.google.com/github/YannickHallez/CHIM2-ON1/blob/main/listes.ipynb\" target=\"_parent\"><img src=\"https://colab.research.google.com/assets/colab-badge.svg\" alt=\"Open In Colab\"/></a>"
   ]
  },
  {
   "cell_type": "code",
   "execution_count": 2,
   "metadata": {},
   "outputs": [
    {
     "data": {
      "text/html": [
       "<style>\n",
       "h1, h2, h3, h4, h5, h6 {\n",
       "  font-family: Verdana, \"DejaVu Sans\", \"Bitstream Vera Sans\", Geneva, sans-serif;\n",
       "  font-weight: bold;\n",
       "}\n",
       "body {\n",
       "  font-family: Verdana, \"DejaVu Sans\", \"Bitstream Vera Sans\", Geneva, sans-serif;\n",
       "  font-weight: 200;\n",
       "}\n",
       "h1 {\n",
       "  border: 0 solid #333;\n",
       "  padding: 30px ;\n",
       "  color: white;\n",
       "  background: #b11d01;\n",
       "  text-align: center;\n",
       "}\n",
       "h2 {\n",
       "  border: 3px solid #333;\n",
       "  padding: 18px ;\n",
       "  color: #b11d01;\n",
       "  background: #ffffff;\n",
       "  text-align: center;\n",
       "}\n",
       "h3 {\n",
       "  border: 0 solid #333;\n",
       "  padding: 12px ;\n",
       "  color: #000000;\n",
       "  background: #c1c1c1;\n",
       "  text-align: left;\n",
       "}\n",
       "h4 {\n",
       "  border: 0 solid #333;\n",
       "  padding: 2px ;\n",
       "  color: #000000;\n",
       "  background: #d9fffc;\n",
       "  text-align: left;\n",
       "}\n",
       "h5 {\n",
       "  border: 1px solid #333;\n",
       "  padding: 2px ;\n",
       "  color: #000000;\n",
       "  background: #ffffff;\n",
       "  text-align: left;\n",
       "}\n",
       ".warn {    \n",
       "    background-color: #fcf2f2;\n",
       "    border-color: #dFb5b4;\n",
       "    border-left: 5px solid #dfb5b4;\n",
       "    padding: 0.5em;\n",
       "    font-weight: 200;\n",
       "    }\n",
       ".rq {    \n",
       "    background-color: #e2e2e2;\n",
       "    border-color: #969696;\n",
       "    border-left: 5px solid #969696;\n",
       "    padding: 0.5em;\n",
       "    font-weight: 200;\n",
       "    }\n",
       "</style>\n"
      ],
      "text/plain": [
       "<IPython.core.display.HTML object>"
      ]
     },
     "metadata": {},
     "output_type": "display_data"
    },
    {
     "data": {
      "text/markdown": [
       "**Début à:** Wednesday 27 November 2024, 10:45:32  \n",
       "**Hostname:** yggdrasil.private.univ-tlse3.fr (Darwin)"
      ],
      "text/plain": [
       "<IPython.core.display.Markdown object>"
      ]
     },
     "metadata": {},
     "output_type": "display_data"
    },
    {
     "data": {
      "text/markdown": [
       "<p style=\"text-align: center\"><img width=\"800px\" src=\"./config/svg/logoDebut.svg\" style=\"margin-left:auto; margin-right:auto\"/></p>"
      ],
      "text/plain": [
       "<IPython.core.display.Markdown object>"
      ]
     },
     "metadata": {},
     "output_type": "display_data"
    }
   ],
   "source": [
    "###############################################################################################\n",
    "# supprimez cette cellule si vous exécutez ce notebook en-dehors de la distribution CHIM2-ON1 #\n",
    "###############################################################################################\n",
    "\n",
    "import os\n",
    "import sys\n",
    "\n",
    "cwd0 = './config/'\n",
    "sys.path.append(cwd0)\n",
    "\n",
    "import visualID as vID\n",
    "from visualID import color\n",
    "vID.init(cwd0)"
   ]
  },
  {
   "cell_type": "markdown",
   "metadata": {
    "id": "BEK34Oa55hJT"
   },
   "source": [
    "# Les Listes\n",
    "\n",
    "## Prérequis\n",
    "\n",
    "Avoir suivi la leçon sur les variables.\n",
    "\n",
    "## Compétences\n",
    "\n",
    "- Créer des listes de divers types\n",
    "- Utiliser les listes\n",
    "- Accéder à un élément ou à une tranche de liste\n",
    "- Utiliser les fonctions de base s'appliquant aux listes (ajout, dimension)\n",
    "\n",
    "## Objectifs\n",
    "\n",
    "- Acquérir les compétences ci-dessus.\n",
    "\n",
    "- Se familiariser avec les premières notions de programmation. Contenu de la vidéo\n"
   ]
  },
  {
   "cell_type": "code",
   "execution_count": null,
   "metadata": {
    "id": "li3DylOWM-0I"
   },
   "outputs": [],
   "source": []
  },
  {
   "cell_type": "markdown",
   "metadata": {
    "id": "enscLJVP1lNu"
   },
   "source": [
    "# Qu’est-ce qu’une liste ?\n",
    "\n",
    "Une liste est un moyen de mettre plusieurs données ensemble. Les informaticiens appellent cela une structure de données (il y a en d’autres en python). \n",
    "\n",
    "Pour construire une liste, il suffit de séparer les grandeurs que l’on veut mettre dedans par des virgules et d’entourer le tout par des crochets. Dans cet exemple, je vous montre comment créer une liste simple d’entiers.\n"
   ]
  },
  {
   "cell_type": "code",
   "execution_count": 3,
   "metadata": {
    "id": "LrTHe1jA1iMD"
   },
   "outputs": [
    {
     "name": "stdout",
     "output_type": "stream",
     "text": [
      "[1, 3, 5, 7]\n"
     ]
    }
   ],
   "source": [
    "a=[1,3,5,7]\n",
    "print(a)"
   ]
  },
  {
   "cell_type": "markdown",
   "metadata": {
    "id": "wLrMv5-l2bEW"
   },
   "source": [
    "une liste de réels"
   ]
  },
  {
   "cell_type": "code",
   "execution_count": 4,
   "metadata": {
    "id": "bMFoLJmG26QZ"
   },
   "outputs": [
    {
     "name": "stdout",
     "output_type": "stream",
     "text": [
      "[1.5, -2.0, 3.6, -8.5]\n"
     ]
    }
   ],
   "source": [
    "r=[1.5,-2.0,3.6,-8.5]\n",
    "print(r)"
   ]
  },
  {
   "cell_type": "markdown",
   "metadata": {
    "id": "qlNjVDCf3B0H"
   },
   "source": [
    "une liste de chaînes de caractères"
   ]
  },
  {
   "cell_type": "code",
   "execution_count": 5,
   "metadata": {
    "id": "_i6YsvNO3EhI"
   },
   "outputs": [
    {
     "name": "stdout",
     "output_type": "stream",
     "text": [
      "['pantoufles', 'mocassins', 'claquettes']\n"
     ]
    }
   ],
   "source": [
    "chaussures=[\"pantoufles\",\"mocassins\",\"claquettes\"]\n",
    "print(chaussures)"
   ]
  },
  {
   "cell_type": "markdown",
   "metadata": {
    "id": "zVJtD4K33PtN"
   },
   "source": [
    "On peut même mélanger les types de variables (ici des chaînes et des entiers)"
   ]
  },
  {
   "cell_type": "code",
   "execution_count": 6,
   "metadata": {
    "id": "sB1nTIpH3R-P"
   },
   "outputs": [
    {
     "name": "stdout",
     "output_type": "stream",
     "text": [
      "['légionnaires', 300, 'gaulois', 2]\n"
     ]
    }
   ],
   "source": [
    "bd=[\"légionnaires\",300,\"gaulois\",2]\n",
    "print(bd)"
   ]
  },
  {
   "cell_type": "markdown",
   "metadata": {
    "id": "WIytCjiP83iY"
   },
   "source": [
    "En sciences, c’est assez rare d’avoir ce type de mélange de type. c’est juste pour dire que c’est possible…"
   ]
  },
  {
   "cell_type": "markdown",
   "metadata": {
    "id": "J3Ycn9cZ9CXv"
   },
   "source": [
    "# Mais à quoi ça peut donc bien servir ?\n",
    "\n",
    "A plein de choses qui pour le coup sont très utiles, même si en sciences on utilisera plus souvent un concept un peu similaire que vous verrez un peu plus tard : les matrices ou array du module numpy. Les 2 ont d’ailleurs des modes de fonctionnement un peu similaires. Pour faire des traitements purement mathématiques les listes ne sont pas les plus adaptées. Mais revenons à nos listes.\n",
    "\n",
    "Imaginez que vous remontez au temps où un petit village gaulois isolé et entouré de camps retranchés romains. Au détour d’un chemin séparant le village de ces camps, des gaulois rencontrent une patrouille romaine. S'ensuit une distribution de baffes. Passons en revue les compositions et effectifs des 2 camps au moyen de 2 listes :\n",
    "\n"
   ]
  },
  {
   "cell_type": "code",
   "execution_count": 7,
   "metadata": {
    "id": "iH0tuFLv9qWe"
   },
   "outputs": [],
   "source": [
    "camp=[\"légionnaires\",\"gaulois\"]\n",
    "effectif=[300,2]"
   ]
  },
  {
   "cell_type": "markdown",
   "metadata": {
    "id": "ChJc_KMq94dO"
   },
   "source": [
    "Première constatation, vous voyez que contrairement à la liste bd créée un peu plus tôt, on a choisi ici de créer 2 listes, l’une contenant les noms des opposants et la seconde leur effectif. Quels avantages cela présente-t-il ?\n",
    "\n",
    "Pour le comprendre commençons par expliquer comment accéder à des éléments dans une liste"
   ]
  },
  {
   "cell_type": "markdown",
   "metadata": {
    "id": "c-m_lRmDBhGJ"
   },
   "source": [
    "# Les indices ou comment accéder à des éléments individuels d’une liste\n",
    "\n",
    "A chaque élément d’une liste est associé un entier appelé indice qui indique à quelle position l’élément est dans la liste en commençant à compter à 0. Ainsi, l’élément “légionnaire” porte l’indice 0 de la liste appelée camp et “gaulois” l’indice 1. On peut accéder à un élément en faisant par exemple : le nom de la liste suivi par l’indice entre crochets\n"
   ]
  },
  {
   "cell_type": "code",
   "execution_count": 8,
   "metadata": {
    "id": "9Ttsz9TPBlao"
   },
   "outputs": [
    {
     "name": "stdout",
     "output_type": "stream",
     "text": [
      "gaulois\n"
     ]
    }
   ],
   "source": [
    "print(camp[1])"
   ]
  },
  {
   "cell_type": "markdown",
   "metadata": {
    "id": "duSklHzVB0xA"
   },
   "source": [
    "ou encore des choses du type :\n"
   ]
  },
  {
   "cell_type": "code",
   "execution_count": 9,
   "metadata": {
    "id": "_LmBNvdvB6Fd"
   },
   "outputs": [
    {
     "name": "stdout",
     "output_type": "stream",
     "text": [
      "il y a  300   légionnaires  contre  2   gaulois\n"
     ]
    }
   ],
   "source": [
    "print(\"il y a \",effectif[0],\" \",camp[0],\" contre \",effectif[1],\" \",camp[1])"
   ]
  },
  {
   "cell_type": "markdown",
   "metadata": {
    "id": "8vGwTfcOB5b_"
   },
   "source": [
    "On voit comment  **au travers de l’utilisation du concept d'indice, on peut établir des correspondances entre 2 listes par l’intermédiaire des indices** ….. Et ça, vous allez voir que c’est très très utilisé en sciences (et pas que d’ailleurs)\n"
   ]
  },
  {
   "cell_type": "markdown",
   "metadata": {
    "id": "KWymhDGRrCm5"
   },
   "source": [
    "On peut d'ailleurs utiliser les indices non seulement pour accéder à un élément mais aussi pour le modifier. Par exemple, imaginons que le nombre de légionnaires n'est pas 300 mais 350. Il suffit de faire `effectif[0]=350` (car l'indice 0 correspond à l'effectif des légionnaires). Pas besoin de réécrire toute la liste pour en modifier un seul élément."
   ]
  },
  {
   "cell_type": "code",
   "execution_count": 10,
   "metadata": {
    "id": "246YJGWBr_jx"
   },
   "outputs": [
    {
     "name": "stdout",
     "output_type": "stream",
     "text": [
      "[350, 2]\n"
     ]
    }
   ],
   "source": [
    "effectif[0]=350\n",
    "print(effectif)"
   ]
  },
  {
   "cell_type": "markdown",
   "metadata": {
    "id": "KdBl0vD8iHmt"
   },
   "source": [
    "## Les indices négatifs\n",
    "\n",
    "Et oui, les éléments d'une liste peuvent porter des indices négatifs. Bizarre non ? En fait, ils correspondent à un comptage à l'envers. Le dernier élément de la liste porte l'indice -1, l'avant dernier -2 et ainsi de suite. Ca ne sert pas forcément très souvent sauf pour parcourir une liste à l'envers, mais **surtout pour accéder très rapidement au dernier élément qui porte donc l'indice -1** et, ce, quelque soit sa longueur."
   ]
  },
  {
   "cell_type": "code",
   "execution_count": 11,
   "metadata": {
    "id": "iPwkVr9hi7Cm"
   },
   "outputs": [
    {
     "name": "stdout",
     "output_type": "stream",
     "text": [
      "gaulois\n",
      "légionnaires\n"
     ]
    }
   ],
   "source": [
    "print(camp[-1])  # l'indice  -1 permet d'accéder au dernier élement d'une liste\n",
    "print(camp[-2])"
   ]
  },
  {
   "cell_type": "markdown",
   "metadata": {
    "id": "b_ymYaHBqnMF"
   },
   "source": [
    "\n",
    "Avant de voir des façons un peu plus complexes d’atteindre des tranches de listes (des slices en anglais), on va voir comment ajouter des éléments à nos listes\n"
   ]
  },
  {
   "cell_type": "markdown",
   "metadata": {
    "id": "EDxQsNWmCLBg"
   },
   "source": [
    "# Ajouter un élément ou des éléments à une liste\n",
    "\n",
    "Lorsque l’on veut ajouter un seul élément, la méthode de choix est d’utiliser la méthode append. On voit bien que dans ce combat entre romains et gaulois, il manque un élément essentiel : le chien ! Ajoutons dans nos 2 listes le mot “chien” et le fait qu’il est seul dans effectif.\n",
    "\n",
    "*(attention n'exécuter le code ci-dessous qu'une seule fois sinon il y aura des problèmes de compréhension pour la suite)*\n"
   ]
  },
  {
   "cell_type": "code",
   "execution_count": 12,
   "metadata": {
    "id": "J0Y_a9YLCHkO"
   },
   "outputs": [
    {
     "name": "stdout",
     "output_type": "stream",
     "text": [
      "['légionnaires', 'gaulois', 'chien']\n",
      "[350, 2, 1]\n"
     ]
    }
   ],
   "source": [
    "camp.append('chien')\n",
    "effectif.append(1)\n",
    "print(camp)\n",
    "print(effectif)"
   ]
  },
  {
   "cell_type": "markdown",
   "metadata": {
    "id": "IFPEoZD0Ct3Q"
   },
   "source": [
    "Bon, on s’aperçoit qu’on a oublié les officiers : 1 centurion et 4 décurions. Essayons d’ajouter les 2 en une seule fois :"
   ]
  },
  {
   "cell_type": "code",
   "execution_count": 13,
   "metadata": {
    "id": "hhDekdStC8Pc"
   },
   "outputs": [
    {
     "ename": "TypeError",
     "evalue": "list.append() takes exactly one argument (2 given)",
     "output_type": "error",
     "traceback": [
      "\u001b[0;31m---------------------------------------------------------------------------\u001b[0m",
      "\u001b[0;31mTypeError\u001b[0m                                 Traceback (most recent call last)",
      "\u001b[0;32m/var/folders/q_/8y17tb6j3z5c7372g46g6zrc0000gn/T/ipykernel_89141/857295306.py\u001b[0m in \u001b[0;36m<module>\u001b[0;34m\u001b[0m\n\u001b[0;32m----> 1\u001b[0;31m \u001b[0mcamp\u001b[0m\u001b[0;34m.\u001b[0m\u001b[0mappend\u001b[0m\u001b[0;34m(\u001b[0m\u001b[0;34m\"centurion\"\u001b[0m\u001b[0;34m,\u001b[0m\u001b[0;34m\"decurion\"\u001b[0m\u001b[0;34m)\u001b[0m\u001b[0;34m\u001b[0m\u001b[0;34m\u001b[0m\u001b[0m\n\u001b[0m",
      "\u001b[0;31mTypeError\u001b[0m: list.append() takes exactly one argument (2 given)"
     ]
    }
   ],
   "source": [
    "camp.append(\"centurion\",\"decurion\")"
   ]
  },
  {
   "cell_type": "markdown",
   "metadata": {
    "id": "cOpvZQJBDHX9"
   },
   "source": [
    "Visiblement, python n'est pas content et nous indique une erreur.\n",
    "append ne sert qu’à ajouter un seul élément à la fois !!! \n",
    "D’ailleurs si on lit bien le message d’erreur précédent, c’était dit : \n",
    "`list.append() takes exactly one argument (2 given)`\n",
    "\n",
    "Et oui, même si c’est en anglais, comprendre les erreurs indiquées par python3 est souvent le début de leur correction.\n",
    "\n",
    "\n",
    " Puisque ça ne marche qu'avec un seul élément. Essayons autrement :"
   ]
  },
  {
   "cell_type": "code",
   "execution_count": 14,
   "metadata": {
    "id": "r0hrZ8naDUR9"
   },
   "outputs": [
    {
     "name": "stdout",
     "output_type": "stream",
     "text": [
      "['légionnaires', 'gaulois', 'chien', ['centurion', 'decurion']]\n"
     ]
    }
   ],
   "source": [
    "camp.append([\"centurion\",\"decurion\"])\n",
    "print(camp)"
   ]
  },
  {
   "cell_type": "markdown",
   "metadata": {
    "id": "pOa7Lo3fDguo"
   },
   "source": [
    "ça marche mais c’est bizarre : on a une liste dans une liste !\n",
    "\n",
    "D’ailleurs, on peut vérifier le type de nos variables. Commençons par voir ce que nous la fonction type de la variable camp : \n"
   ]
  },
  {
   "cell_type": "code",
   "execution_count": 15,
   "metadata": {
    "id": "96FjaIGaEhbW"
   },
   "outputs": [
    {
     "data": {
      "text/plain": [
       "list"
      ]
     },
     "execution_count": 15,
     "metadata": {},
     "output_type": "execute_result"
    }
   ],
   "source": [
    "type(camp)"
   ]
  },
  {
   "cell_type": "markdown",
   "metadata": {
    "id": "AmBIYvwQEocl"
   },
   "source": [
    "Le type list existe donc. Maintenant regardons le type du premier élément de camp (d’indice 0 donc)\n"
   ]
  },
  {
   "cell_type": "code",
   "execution_count": 16,
   "metadata": {
    "id": "rj1WOTjCEpHx"
   },
   "outputs": [
    {
     "data": {
      "text/plain": [
       "str"
      ]
     },
     "execution_count": 16,
     "metadata": {},
     "output_type": "execute_result"
    }
   ],
   "source": [
    "type(camp[0])"
   ]
  },
  {
   "cell_type": "markdown",
   "metadata": {
    "id": "ytVz7GixEzuo"
   },
   "source": [
    "Et maintenant, vérifions que le dernier élément (le 4ième donc d’indice 3) de camp est une liste :"
   ]
  },
  {
   "cell_type": "code",
   "execution_count": 17,
   "metadata": {
    "id": "p7iTx8RVE5TZ"
   },
   "outputs": [
    {
     "data": {
      "text/plain": [
       "list"
      ]
     },
     "execution_count": 17,
     "metadata": {},
     "output_type": "execute_result"
    }
   ],
   "source": [
    "type(camp[3])"
   ]
  },
  {
   "cell_type": "markdown",
   "metadata": {
    "id": "lNisyVdKGEZf"
   },
   "source": [
    "On a donc bien une liste dans notre liste … Mais bon , encore une fois ce n’est pas ce que nous voulons.\n",
    "\n",
    "Revenons donc avant nos tentatives d’ajout des officiers romains et prenons-nous y autrement. Essayons de compléter les listes déjà existantes, camp et effectif en y \"ajoutant\" des nouvelles listes\n"
   ]
  },
  {
   "cell_type": "code",
   "execution_count": 18,
   "metadata": {
    "id": "XqiIBNGOHTLP"
   },
   "outputs": [
    {
     "name": "stdout",
     "output_type": "stream",
     "text": [
      "['légionnaires', 'gaulois', 'chien', 'centurion', 'decurion']\n",
      "[300, 2, 1, 1, 4]\n"
     ]
    }
   ],
   "source": [
    "camp=['légionnaires', 'gaulois', 'chien']\n",
    "effectif=[300,2,1]\n",
    "camp=camp+[\"centurion\",\"decurion\"]\n",
    "effectif=effectif+[1,4]\n",
    "print(camp)\n",
    "print(effectif)"
   ]
  },
  {
   "cell_type": "markdown",
   "metadata": {
    "id": "G0ut6Iw5HoC2"
   },
   "source": [
    "ça marche !!!!\n",
    "\n",
    "Vous remarquerez au passage, que le signe + ne fait pas ici une addition au sens mathématiques ! C’est une concaténation de liste. Essayez de voir et comprendre ce qui se passe si vous utilisez le signe * ….\n",
    "\n",
    "D’ailleurs cela aurait très bien fonctionné avec des variables. Imaginons une 3ième liste associée à la précédente indiquant au travers de booléens si on a affaire à des entités sous la tutelle de Jules César ou à des habitants du village gaulois isolé. Quand la composante est romaine on doit avoir False et True si la composante est gauloise\n"
   ]
  },
  {
   "cell_type": "code",
   "execution_count": 19,
   "metadata": {
    "id": "aIhbPOujHrco"
   },
   "outputs": [
    {
     "name": "stdout",
     "output_type": "stream",
     "text": [
      "[False, True, True, False, False]\n"
     ]
    }
   ],
   "source": [
    "gauloisTest1=[False,True]\n",
    "gauloisTest2=[True,False,False]\n",
    "gauloisTest=gauloisTest1+gauloisTest2\n",
    "print(gauloisTest)"
   ]
  },
  {
   "cell_type": "markdown",
   "metadata": {
    "id": "EYA93_XIH1nQ"
   },
   "source": [
    "Notez bien que j’ai respecté l’ordre des autres listes pour que la correspondance par indice soit fonctionnelle."
   ]
  },
  {
   "cell_type": "markdown",
   "metadata": {
    "id": "y4_ZOGIvUZtt"
   },
   "source": [
    "**une instruction facultative pour les étudiants avancés** : Avec python on peut faire des choses rigolotes comme la ligne suivante qui permet d'extraire de la liste `camp` en se basant sur la valeur des booléens de `gauloisTest` une liste qui ne contient que les gaulois (vous pouvez essayer aussi d'extraire les romains en vous basant sur le même principe sans ajouter de nouvelles variables ... Il suffit d'ajouter un opérateur à la ligne) "
   ]
  },
  {
   "cell_type": "code",
   "execution_count": 20,
   "metadata": {
    "id": "L4l8hjBDVNsN"
   },
   "outputs": [
    {
     "name": "stdout",
     "output_type": "stream",
     "text": [
      "['gaulois', 'chien']\n"
     ]
    }
   ],
   "source": [
    "listeGaulois = [c for (c, t) in zip(camp, gauloisTest) if t]\n",
    "print(listeGaulois)"
   ]
  },
  {
   "cell_type": "markdown",
   "metadata": {
    "id": "w-9nB-L8W8aN"
   },
   "source": [
    "# Les tranches ou comment accéder à une partie de liste\n",
    "\n",
    "On aborde ici un sujet très important qu'il vous faudra vraiment maîtriser. Il est un peu compliqué au premier abord mais en le pratiquant, on s'aperçoit qu'il n'en est rien.\n",
    "\n",
    "Rappelons tout d'abord que dans une liste, chaque élément porte un numéro qui correspond à sa position dans la liste. Le comptage commence à 0 (voir la section sur les [indices](https://colab.research.google.com/drive/1lUxjYly6hvAcuTTfLm77QdAVj2PwTq1U#scrollTo=c-m_lRmDBhGJ)).\n",
    "\n",
    "\n",
    "Reprenons pour l'exemple notre liste : `camp=['légionnaires', 'gaulois', 'chien', 'centurion', 'decurion']`\n",
    "\n",
    "Extraire de cette liste une tranche qui va **de l'élément d'indice p à celui d'indice n**  revient à écrire un **indice un peu spécial sous la forme p:n+1**. Je sais c'est étrange de finir par l'indice n+1 plutôt que n, mais c'est comme ça et cela a même un côté très pratique ... Vous vous en appercevrez quand vous aurez écrit beaucoup de lignes de code en python 😀.\n",
    "\n",
    "Mettons que l'on veuille afficher les 3 premiers éléments de la liste `camp`"
   ]
  },
  {
   "cell_type": "code",
   "execution_count": 21,
   "metadata": {
    "id": "540t3qJun3e3"
   },
   "outputs": [
    {
     "name": "stdout",
     "output_type": "stream",
     "text": [
      "['légionnaires', 'gaulois', 'chien', 'centurion']\n"
     ]
    }
   ],
   "source": [
    "print(camp[0:4])"
   ]
  },
  {
   "cell_type": "markdown",
   "metadata": {
    "id": "xMijPqyZobVM"
   },
   "source": [
    "Et oui, 'légionnaires' est bien l'élément d'indice 0 et 'centurion' est celui d'indice 3 (et pas 4 !).\n",
    "\n",
    "Maintenant, créons une nouvelle liste `subCamp` dans laquelle on veut les éléments 1 à 3 de `camp`. "
   ]
  },
  {
   "cell_type": "code",
   "execution_count": 22,
   "metadata": {
    "id": "YieoK76Tpbf4"
   },
   "outputs": [
    {
     "name": "stdout",
     "output_type": "stream",
     "text": [
      "['gaulois', 'chien', 'centurion']\n"
     ]
    }
   ],
   "source": [
    "subCamp=camp[1:4]\n",
    "print(subCamp)"
   ]
  },
  {
   "cell_type": "markdown",
   "metadata": {
    "id": "aZipy91XsmZl"
   },
   "source": [
    "On peut aussi omettre une des 2 limites. Dans ce cas, si on veut tous les éléments après celui d'indice 3 inclus"
   ]
  },
  {
   "cell_type": "code",
   "execution_count": 23,
   "metadata": {
    "id": "YClttlJ3vDzG"
   },
   "outputs": [
    {
     "name": "stdout",
     "output_type": "stream",
     "text": [
      "['centurion', 'decurion']\n"
     ]
    }
   ],
   "source": [
    "print(camp[3:])"
   ]
  },
  {
   "cell_type": "markdown",
   "metadata": {
    "id": "fAcGO1LgvMaT"
   },
   "source": [
    "ou tous les éléments avant"
   ]
  },
  {
   "cell_type": "code",
   "execution_count": 24,
   "metadata": {
    "id": "MThu7nf9u4ye"
   },
   "outputs": [
    {
     "name": "stdout",
     "output_type": "stream",
     "text": [
      "['légionnaires', 'gaulois', 'chien']\n"
     ]
    }
   ],
   "source": [
    "print(camp[:3])"
   ]
  },
  {
   "cell_type": "markdown",
   "metadata": {
    "id": "ia8cUy5RvYs1"
   },
   "source": [
    "on peut même tout prendre en omettant les 2 limites :"
   ]
  },
  {
   "cell_type": "code",
   "execution_count": 25,
   "metadata": {
    "id": "qILFcetOvdsV"
   },
   "outputs": [
    {
     "name": "stdout",
     "output_type": "stream",
     "text": [
      "['légionnaires', 'gaulois', 'chien', 'centurion', 'decurion']\n"
     ]
    }
   ],
   "source": [
    "print(camp[:])"
   ]
  },
  {
   "cell_type": "markdown",
   "metadata": {
    "id": "hnI_zS_7yztd"
   },
   "source": [
    "On peut même choisir un pas entre les éléments en ajoutant le pas dans l'indice selon la syntaxe `n:p:pas`. Par exemple si on veut tous les éléments dont les indices sont pairs jusqu'à celui d'indice 4 inclus :"
   ]
  },
  {
   "cell_type": "code",
   "execution_count": 26,
   "metadata": {
    "id": "P8sA9kebzV3D"
   },
   "outputs": [
    {
     "name": "stdout",
     "output_type": "stream",
     "text": [
      "['légionnaires', 'chien', 'decurion']\n"
     ]
    }
   ],
   "source": [
    "print(camp[0:5:2])"
   ]
  },
  {
   "cell_type": "code",
   "execution_count": 27,
   "metadata": {},
   "outputs": [
    {
     "name": "stdout",
     "output_type": "stream",
     "text": [
      "['légionnaires', 'gaulois', 'chien', 'centurion', 'decurion']\n",
      "['decurion', 'centurion', 'chien', 'gaulois', 'légionnaires']\n"
     ]
    }
   ],
   "source": [
    "print(camp)\n",
    "print(camp[::-1])"
   ]
  },
  {
   "cell_type": "markdown",
   "metadata": {},
   "source": [
    "Ainsi, un raccourci bien pratique pour retourner une liste est la syntaxe ::-1 dans laquelle on ne spécifie pas p, donc p=0 par défaut, on ne spécifie pas n, donc n sera la fin du tableau par défaut, et on donne un pas de -1 pour lire de droite à gauche : "
   ]
  },
  {
   "cell_type": "markdown",
   "metadata": {
    "id": "cUizgOXvr2tk"
   },
   "source": [
    "# Les listes de listes\n",
    "\n",
    "On peut faire des listes de listes. A priori, l'idée peut sembler bizarre, mais cela est utilisé dans certains contextes.\n",
    "\n",
    "Plutôt que d'avoir la liste `camp` et la liste effectif qui sont associées par les indices des 2 listes, on peut faire un autre choix : directement les asocier dans une liste de liste comme ci-dessous :\n",
    "\n"
   ]
  },
  {
   "cell_type": "code",
   "execution_count": 28,
   "metadata": {
    "id": "VSjaD_X_r33Z"
   },
   "outputs": [
    {
     "name": "stdout",
     "output_type": "stream",
     "text": [
      "[['légionnaire', 300], ['gaulois', 2], ['chien', 1]]\n"
     ]
    }
   ],
   "source": [
    "campEffec=[['légionnaire',300],['gaulois',2],['chien',1]]\n",
    "print(campEffec)"
   ]
  },
  {
   "cell_type": "markdown",
   "metadata": {
    "id": "mHLPyZy7r-RH"
   },
   "source": [
    "Nous avons ici la liste `campEffec` qui comprend 3 éléments qui sont chacun des listes. Par exemple, si on prend le deuxième élément, il est constitué de la liste `['gaulois',2]`. Pour accéder à cet élément, comme d'habitude : campEffec[1].\n",
    "\n",
    "Maintenant si on veut accéder à un élément de cette liste qu'est `campEffec[1]`, il suffit d'appliquer un nouveau rang de crochet à cette liste comme dans l'exemple ci-dessous."
   ]
  },
  {
   "cell_type": "code",
   "execution_count": 29,
   "metadata": {
    "id": "LcGAboXLElgf"
   },
   "outputs": [
    {
     "name": "stdout",
     "output_type": "stream",
     "text": [
      "il y a  2   gaulois  contre  300   légionnaire\n"
     ]
    }
   ],
   "source": [
    "print(\"il y a \",campEffec[1][1],\" \",campEffec[1][0],\" contre \",campEffec[0][1],\" \",campEffec[0][0])"
   ]
  },
  {
   "cell_type": "markdown",
   "metadata": {
    "id": "mUP8YOSoF2kd"
   },
   "source": [
    "A notre niveau, les listes de listes ne sont pas forcément d'une grande utilité. Une exemple typique d'utilisation est la création de variable de type \"dictionnaire\""
   ]
  },
  {
   "cell_type": "markdown",
   "metadata": {
    "id": "Q1JK5EeOGyxW"
   },
   "source": [
    "# Des fonctions utiles : list(),range(),len(),shape(),ndim(),size()\n",
    "\n",
    "## générer des listes d'entiers automatiquement : range() avec list()\n",
    "\n",
    "Nous allons générer dans cette section des listes d'entiers automatiquement. Pour faire cela, il y a un type particulier de python nommé `range` qui contient des séries d'entiers. Pour créer une série de 0 à 9 :"
   ]
  },
  {
   "cell_type": "code",
   "execution_count": 30,
   "metadata": {
    "id": "pGxYBhBL2ZIO"
   },
   "outputs": [
    {
     "data": {
      "text/plain": [
       "range(0, 10)"
      ]
     },
     "execution_count": 30,
     "metadata": {},
     "output_type": "execute_result"
    }
   ],
   "source": [
    "range(10)"
   ]
  },
  {
   "cell_type": "markdown",
   "metadata": {
    "id": "LD5OcxTy2qEV"
   },
   "source": [
    "On voit que le retour de la commande est un peu spécial. On ne voit pas la liste d'entiers mais juste `range(0, 10)`. En fait, cela vient directement du fait que range est un type de python, d'ailleurs on le voit bien en faisant :"
   ]
  },
  {
   "cell_type": "code",
   "execution_count": 31,
   "metadata": {
    "id": "0FIXCh4Y1tUt"
   },
   "outputs": [
    {
     "data": {
      "text/plain": [
       "range"
      ]
     },
     "execution_count": 31,
     "metadata": {},
     "output_type": "execute_result"
    }
   ],
   "source": [
    "a=range(10)\n",
    "type(a)"
   ]
  },
  {
   "cell_type": "markdown",
   "metadata": {
    "id": "LRl_pp5rR2e0"
   },
   "source": [
    "Mais alors commentconnaître les valeurs contenues dans la liste :"
   ]
  },
  {
   "cell_type": "code",
   "execution_count": 32,
   "metadata": {
    "id": "t6Cme8nbSat9"
   },
   "outputs": [
    {
     "name": "stdout",
     "output_type": "stream",
     "text": [
      "[0, 1, 2, 3, 4, 5, 6, 7, 8, 9]\n"
     ]
    }
   ],
   "source": [
    "a=list(range(10))\n",
    "print(a)"
   ]
  },
  {
   "cell_type": "markdown",
   "metadata": {
    "id": "IhMi0fJQSkRb"
   },
   "source": [
    "On a utilisé ici la fonction list qui convertit certains types de données de python en liste ... Ce qui est fort à propos dans le cadre présent 😀\n",
    "\n",
    "Quand on utilise range sous la forme `range(n)`, le range contient tous les entiers de 0 à la n-1.\n",
    "\n",
    "Sous la la forme `range(p,n)`, le range contient tous les entiers de p à la n-1."
   ]
  },
  {
   "cell_type": "code",
   "execution_count": 33,
   "metadata": {
    "id": "MtZtta7_YGY1"
   },
   "outputs": [
    {
     "name": "stdout",
     "output_type": "stream",
     "text": [
      "[2, 3, 4, 5, 6, 7, 8, 9]\n"
     ]
    }
   ],
   "source": [
    "a=list(range(2,10))\n",
    "print(a)"
   ]
  },
  {
   "cell_type": "markdown",
   "metadata": {
    "id": "YwVh1fYfYd2j"
   },
   "source": [
    "Sous la la forme `range(p,n,inc)`, le range contient tous les entiers de p à la n-1 avec un pas de inc entre chaque valeur"
   ]
  },
  {
   "cell_type": "code",
   "execution_count": 34,
   "metadata": {
    "id": "m6Xy1hsgY4NT"
   },
   "outputs": [
    {
     "name": "stdout",
     "output_type": "stream",
     "text": [
      "[2, 5, 8]\n"
     ]
    }
   ],
   "source": [
    "a=list(range(2,10,3))\n",
    "print(a)"
   ]
  },
  {
   "cell_type": "markdown",
   "metadata": {
    "id": "EX2M0hkeZRy1"
   },
   "source": [
    "Vous verrez dans d'autres parties de ce cours que range à plusieurs utilisation autre que celle de simplement générer des listes.\n",
    "\n",
    "On peut aussi faire des listes \"à l'envers\""
   ]
  },
  {
   "cell_type": "code",
   "execution_count": 35,
   "metadata": {
    "id": "BlvEEMSOfQtj"
   },
   "outputs": [
    {
     "name": "stdout",
     "output_type": "stream",
     "text": [
      "[10, 7, 4, 1, -2]\n"
     ]
    }
   ],
   "source": [
    "a=list(range(10,-5,-3))\n",
    "print(a)"
   ]
  },
  {
   "cell_type": "markdown",
   "metadata": {
    "id": "ICYggODKZefu"
   },
   "source": [
    "## Connaîtres la taille des listes : len(),shape(),ndim(),size()\n",
    "\n",
    "La fonction `len` permet de connaître la taille d'une liste"
   ]
  },
  {
   "cell_type": "code",
   "execution_count": 36,
   "metadata": {
    "id": "RLvg1hagZ5Ha"
   },
   "outputs": [
    {
     "name": "stdout",
     "output_type": "stream",
     "text": [
      "['légionnaires', 'gaulois', 'chien', 'centurion', 'decurion']\n",
      "5\n"
     ]
    }
   ],
   "source": [
    "print(camp)\n",
    "print(len(camp))"
   ]
  },
  {
   "cell_type": "markdown",
   "metadata": {
    "id": "dCVDAATVaPZV"
   },
   "source": [
    "C'était facile, mais avec une liste de listes, comment ça se passe ?"
   ]
  },
  {
   "cell_type": "code",
   "execution_count": 37,
   "metadata": {
    "id": "z-OLNyvradcl"
   },
   "outputs": [
    {
     "data": {
      "text/plain": [
       "3"
      ]
     },
     "execution_count": 37,
     "metadata": {},
     "output_type": "execute_result"
    }
   ],
   "source": [
    "len(campEffec)"
   ]
  },
  {
   "cell_type": "markdown",
   "metadata": {
    "id": "Q1lsiISJbmPl"
   },
   "source": [
    "Ca ne se passe pas bien 😞. `campEffec` contient bien 3 listes, mais on a ici aucune information sur le fait que chacune de ces listes est aussi une liste de 2 éléments. Pour avoir plus d'informations, il faut charger le module `pylab` pour avoir accès aux fonctions `ndim` et `shape`."
   ]
  },
  {
   "cell_type": "code",
   "execution_count": 38,
   "metadata": {
    "id": "t3qvqgeZcK_o"
   },
   "outputs": [
    {
     "name": "stdout",
     "output_type": "stream",
     "text": [
      "2\n",
      "(3, 2)\n",
      "6\n"
     ]
    }
   ],
   "source": [
    "from pylab import *\n",
    "print(ndim(campEffec))\n",
    "print(shape(campEffec))\n",
    "print(size(campEffec))"
   ]
  },
  {
   "cell_type": "markdown",
   "metadata": {
    "id": "ov1PB-57c85H"
   },
   "source": [
    "On voit que `ndim()` nous fournit le nombre de dimension de la matrice. Ici, 2 signifie qu'on a une liste de listes. Si on avait obtenu 3, cela aurait signifié qu'on avait affaire à une liste de listes de listes ... et ainsi de suite.\n",
    "\n",
    "`shape()` donne des indications supplémentaires : pour chacune des 2 dimensions, on a le nombre d'éléments.\n",
    "\n",
    "`size()` renvoie le nombre total d'éléments"
   ]
  },
  {
   "cell_type": "code",
   "execution_count": 39,
   "metadata": {},
   "outputs": [
    {
     "data": {
      "text/markdown": [
       "**Fin à:** Wednesday 27 November 2024, 10:45:55  \n",
       "**Durée:** 00:00:23 854ms"
      ],
      "text/plain": [
       "<IPython.core.display.Markdown object>"
      ]
     },
     "metadata": {},
     "output_type": "display_data"
    },
    {
     "data": {
      "text/markdown": [
       "<p style=\"text-align: center\"><img width=\"800px\" src=\"./config/svg/logoFin.svg\" style=\"margin-left:auto; margin-right:auto\"/></p>"
      ],
      "text/plain": [
       "<IPython.core.display.Markdown object>"
      ]
     },
     "metadata": {},
     "output_type": "display_data"
    }
   ],
   "source": [
    "###############################################################################################\n",
    "# supprimez cette cellule si vous exécutez ce notebook en-dehors de la distribution CHIM2-ON1 #\n",
    "###############################################################################################\n",
    "\n",
    "vID.end(cwd0)"
   ]
  }
 ],
 "metadata": {
  "colab": {
   "authorship_tag": "ABX9TyP/0qMeuO+IxDRvApBaQ9lf",
   "collapsed_sections": [],
   "include_colab_link": true,
   "provenance": []
  },
  "kernelspec": {
   "display_name": "Python 3 (ipykernel)",
   "language": "python",
   "name": "python3"
  },
  "language_info": {
   "codemirror_mode": {
    "name": "ipython",
    "version": 3
   },
   "file_extension": ".py",
   "mimetype": "text/x-python",
   "name": "python",
   "nbconvert_exporter": "python",
   "pygments_lexer": "ipython3",
   "version": "3.9.13"
  }
 },
 "nbformat": 4,
 "nbformat_minor": 1
}
