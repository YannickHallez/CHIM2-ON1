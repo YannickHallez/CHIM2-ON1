{
 "cells": [
  {
   "cell_type": "markdown",
   "id": "45a7d97e",
   "metadata": {},
   "source": [
    "# Générateurs de nombres aléatoires et méthodes de Monte Carlo"
   ]
  },
  {
   "cell_type": "markdown",
   "id": "931240fc",
   "metadata": {},
   "source": [
    "## Concept et définitions"
   ]
  },
  {
   "cell_type": "markdown",
   "id": "1db2e87c",
   "metadata": {},
   "source": [
    "En chimie, comme en d'autres disciplines, les simulations sont un outil indispensable à l'analyse, au calcul et à la prédiction. Dans beaucoup de cas, remonter aux valeurs recherchées constitue un véritable défi. Une solution qui peut être particulièrement performante est l'utilisation des méthodes stochastiques, c'est-à-dire des méthodes basées sur des nombres aléatoires.\n",
    "\n",
    "- __Séquence de nombres aléatoires:__ une série de nombres générés au hasard. Aucun lien défini mathimatiquement n'existe entre un tel nombre et les nombres générés précédemment dans la même série.\n",
    "\n",
    "\n",
    "- __Générateur de nombres aléatoires (RNG: Random Number Generator):__ un dispositif qui sert à générer des nombres aléatoires. Dans le cas de ce projet, cela sera une relation mathématique qui génére un nombre à partir du nombre précédent. Ainsi, nous pourrions utiliser le terme nombres \"pseudo-aléatoires\" vu qu'il existe un lien entre eux, mais pour la suite de ce projet nous y référons comme nombres aléatoires.\n",
    "\n",
    "\n",
    "- __Seed:__ le nombre qui initialise un RNG.\n",
    "\n",
    "\n",
    "- __Période:__ le nombre de nombres générés par le RNG jusqu'à répétition d'un nombre généré avant dans la même séquence.\n",
    "\n",
    "\n",
    "- __Corrélation:__ la relation/dépendance entre deux nombres aléatoires succéssifs."
   ]
  },
  {
   "cell_type": "markdown",
   "id": "e80e8c40",
   "metadata": {},
   "source": [
    "### Création d'un RNG de type générateur congruentiel linéaire (LC-RNG)\n",
    "\n",
    "\n",
    "__a.__ Dans cette première partie on se propose de produire une séquence de nombres aléatoires qui suit la relation:\n",
    "\n",
    "$$X_{n+1} = (kX_n+l) \\quad mod\\quad m $$\n",
    "\n",
    "Nous allons étudier quatre cas différents:\n",
    "\n",
    "1. k=899, l=0, m=32768\n",
    "\n",
    "\n",
    "2. k=899, l=0, m=32771\n",
    "\n",
    "\n",
    "3. k=895, l=0, m=32768\n",
    "\n",
    "\n",
    "4. k=16807, l=0, m=6075\n",
    "\n",
    "Le seed sera choisi arbitrairement $ X_0=12. $\n",
    "\n",
    "__b.__ Dans chaque cas, nous allons trouver la période, le nombre qui se répéte ainsi que les indices de la première et de la deuxième fois que ce nombre apparait.\n",
    "\n",
    "_Mot-clé potentiellement utile:_  `break` ."
   ]
  },
  {
   "cell_type": "code",
   "execution_count": 1,
   "id": "4c4283d3",
   "metadata": {},
   "outputs": [],
   "source": [
    "# A compléter"
   ]
  },
  {
   "cell_type": "markdown",
   "id": "1b6847ae",
   "metadata": {},
   "source": [
    "__c.__ Valider la fiabilité du code en vériafiant qu'il n'y a pas d'autres répétitions avant celle donnée dans la question précédente. \n",
    "_Astuce:_ Chercher et trouver une fonction python qui trouve les doublons dans une liste."
   ]
  },
  {
   "cell_type": "code",
   "execution_count": 2,
   "id": "e40136b5",
   "metadata": {},
   "outputs": [],
   "source": [
    "# A compléter"
   ]
  },
  {
   "cell_type": "markdown",
   "id": "f056ace4",
   "metadata": {},
   "source": [
    "__d.__ Représenter graphiquement la correlation de chacun des cas en traçant $ X_{n+1}=f(X_n) $."
   ]
  },
  {
   "cell_type": "code",
   "execution_count": 3,
   "id": "2ded354f",
   "metadata": {},
   "outputs": [],
   "source": [
    "# A compléter"
   ]
  },
  {
   "cell_type": "markdown",
   "id": "246be317",
   "metadata": {},
   "source": [
    "__e.__ Si tout va bien, les valeurs des nombres générés varient de 0 à quelques milles. <u> Sans regénérer des nombres</u>, appliquer une opération mathématique pour que ces nombres soient compris entre 0 et 1. Ensuite, tracer à nouveau les quatre graphiques comme précédemment, avec les nouvelles valeurs."
   ]
  },
  {
   "cell_type": "code",
   "execution_count": 4,
   "id": "682309ca",
   "metadata": {},
   "outputs": [],
   "source": [
    "# A compléter"
   ]
  },
  {
   "cell_type": "markdown",
   "id": "6fc2e87b",
   "metadata": {},
   "source": [
    "## Application en chimie: Dissociation d'un acide "
   ]
  },
  {
   "cell_type": "markdown",
   "id": "61deb909",
   "metadata": {},
   "source": [
    "### Méthodes  de Monte-Carlo"
   ]
  },
  {
   "cell_type": "markdown",
   "id": "fba6edad",
   "metadata": {},
   "source": [
    "Les méthodes de Monte-Carlo (MC) sont utilisées afin de calculer approximativement une valeur, résultat d'un processus où l'élément de hasard est particulièrement présent. En d'autres mots, il s'agit d'une manière itérative d'utiliser un grand nombre des nombres aléatoires afin de remonter aux valeurs characteristiques des systèmes plus complexes. Dans cette partie, nous allons étudier un processus chimique: la dissociation d'un acide.  \n",
    "\n",
    "Chaque itération constitue une probabilité pour  le système (ici l'acide) de passer d'un état a (acide non-dissocié) à un état b (acide dissocié). Afin d'accepter ou pas la transition de a à b et _vice versa_ nous allons mettre en place un critère qui sera une expression mathématique. La transition sera acceptée seulement si la valeur correspondant au critère est supérieure au nombre aléatoire.\n",
    "\n",
    "Un acide va se dissocier selon\n",
    "$$ [\\text{HA}] \\leftrightarrow [\\text{H}^+] + [\\text{A}^-] \\qquad (1)$$ \n",
    "\n",
    "\n",
    "Nous souhaitons calculer la fraction de dissociation d'un acide de pKa=4.76 pour des pH de 1 à 8 par les méthodes de MC. Nous pouvons utiliser le RNG le plus performant parmi les quatre créés dans la première partie.\n",
    "\n",
    "Nous vous proposons de calculer $R_a=\\dfrac{[\\text{A}^-]}{[\\text{HA}]}$ en fonction du pH en utilisant la séquence de nombres aléatoires la plus performante parmi celles de la première partie comme l'élément de hasard d'une méthode Monte-Carlo. On notera que $R_a$ est une grandeur comprise entre 0 et 1 comme le sont les séquences de nombres aléatoires de la première partie.\n",
    "\n",
    "Le principe de la méthode à utiliser est le suivant. On utilisera une variable etat qui vaut 0 quand HA est au dessus (même très légérement) de sa concentration d'équilibre et 1 quand c'est $\\text{A}^-$ qui est au-dessus (même très légérement) de sa concentration d'équilibre.\n",
    "\n",
    "Supposons qu'au début de nos calculs, HA est  majoritaire (etat=0). On tire alors un nombre aléatoire qui nous indique une valeur possible pour $R_a$ parmi toutes les valeurs possibles entre 0 et 1.S'il y a un excès de HA par rapport à l'équilibre, le principe de Le Chatelier nous dit qu'il y a un déplacement de l'équilibre vers la création de $\\text{A}^-$ et on se retrouve dans une situation de transition vers un état dans lequel $\\text{A}^-$ sera au-delà de sa concentration d'équilibre (etat = 1). Mais que veut dire \"S'il y a un excès de HA par rapport à l'équilibre\" ? Vu la réaction (1), à l'équilibre, on a $R_a^{eq}=\\dfrac{[\\text{A}^-]}{[\\text{HA}]}=10^{pH-pKa}$. Ainsi, si le nombre tiré vérifie $R_a < R_a^{eq}$ (trop de HA par rapport à l'équilibre), on transite vers etat = 1.\n",
    "Si le nombre tiré est supérieur à $R_a^{eq}$, il n'y a pas de transition: on reste à etat = 0.\n",
    "\n",
    "Mais maintenant que nous sommes en excès de $\\text{A}^-$, il faut continuer à tirer des nombres aléatoires pour savoir quand on va retransiter vers l'état où HA sera en excès (etat = 0). La procédure est la même que précédemment sauf qu'on considère la réaction inverse de la réaction (1). Dire qu'on a un excès de $\\text{A}^-$ par rapport à l'équilibre revient à considérer comme critère de transition que le nombre tiré vérifie $R_a < \\dfrac{1}{R_a^{eq}}$. Si ce n'est pas le cas, on reste à etat = 1.\n",
    "\n",
    "Ainsi tout au long du tirage des nombres aléatoires de la RNG, vous aurez une évolution entre des états pour lesquels HA sera en excès par rapport à l'équilibre (etat=0) et des états pour lesquels ce sera $\\text{A}^-$ (etat =1). \n",
    "\n",
    "Au final, la fraction de dissociation à l'équilibre $R_a^{eq}$ est donnée par le nombre de fois où on est resté à l'état $\\text{A}^-$ divisé par le nombre total d'états (qui est aussi le nombre de tirages aléatoires effectués).\n"
   ]
  },
  {
   "cell_type": "markdown",
   "id": "3066da69",
   "metadata": {},
   "source": [
    "__a.__ Calculer $R_a^{eq}$ pour pH =4 en appliquant la méthode décrite ci-dessus."
   ]
  },
  {
   "cell_type": "code",
   "execution_count": 5,
   "id": "a3689ee9",
   "metadata": {},
   "outputs": [],
   "source": [
    "# A compléter"
   ]
  },
  {
   "cell_type": "markdown",
   "id": "2e3d720b",
   "metadata": {},
   "source": [
    "__b.__ Tracer la fraction en fonction du pH."
   ]
  },
  {
   "cell_type": "code",
   "execution_count": 6,
   "id": "cff31fce",
   "metadata": {},
   "outputs": [],
   "source": [
    "# A compléter\n",
    "    "
   ]
  },
  {
   "cell_type": "markdown",
   "id": "b6fd1bb4",
   "metadata": {},
   "source": [
    "__c.__ Maintenant répéter le processus, cette fois-ci en utilisant le RNG de python. Tracer la fraction en fonction du pH."
   ]
  },
  {
   "cell_type": "code",
   "execution_count": 7,
   "id": "82df72ef",
   "metadata": {},
   "outputs": [],
   "source": [
    "# A compléter"
   ]
  },
  {
   "cell_type": "markdown",
   "id": "7d15dd09",
   "metadata": {},
   "source": [
    "__d.__ Comparer avec les valeurs analytiques données par l'expression\n",
    "\n",
    "$$ fraction=\\frac{1}{1+10^{(pKa-pH)}} $$"
   ]
  },
  {
   "cell_type": "code",
   "execution_count": 8,
   "id": "bbdfcd1d",
   "metadata": {},
   "outputs": [],
   "source": [
    "# A compléter"
   ]
  },
  {
   "cell_type": "code",
   "execution_count": 9,
   "id": "cb127744",
   "metadata": {},
   "outputs": [],
   "source": [
    "# A compléter"
   ]
  },
  {
   "cell_type": "code",
   "execution_count": null,
   "id": "f90c2e2e",
   "metadata": {},
   "outputs": [],
   "source": []
  }
 ],
 "metadata": {
  "kernelspec": {
   "display_name": "Python 3 (ipykernel)",
   "language": "python",
   "name": "python3"
  },
  "language_info": {
   "codemirror_mode": {
    "name": "ipython",
    "version": 3
   },
   "file_extension": ".py",
   "mimetype": "text/x-python",
   "name": "python",
   "nbconvert_exporter": "python",
   "pygments_lexer": "ipython3",
   "version": "3.12.1"
  }
 },
 "nbformat": 4,
 "nbformat_minor": 5
}
