{
 "cells": [
  {
   "cell_type": "markdown",
   "id": "a07e2aae",
   "metadata": {},
   "source": [
    "**Disclaimer**: Ce projet est inspiré par la publication \"Generalized logistic growth modeling of the COVID-19\n",
    "pandemic in Asia\" dans la revue \"Infectious Disease Modelling\" 5 (2020) p 502 à 509 par E. Aviv-Sharon, A. Aharoni.\n",
    "Ce projet n'a pas été écrit par un épidémiologiste et ne présente qu'une étude **inspirée** par le papier ci-dessus. Dans ce papier, l'étude est plus complexe et rigoureuse. Ce projet n'a que vocation à vous faire travailler le langage python et à vous sensibiliser à certains biais possibles. Il n'a pas vocation à interprétation autres que celles proposées et certainement pas à proposer quelques analyses médicales que ce soient."
   ]
  },
  {
   "cell_type": "markdown",
   "id": "86eb0049",
   "metadata": {},
   "source": [
    "# Analyse d'une épidémie - V2024\n",
    "\n",
    "## Lecture des données épidémiques de la Chine\n",
    "\n",
    "Lire le fichier china.csv. Il contient en\n",
    "* première colonne : le nombre de jours qui s'est écoulé depuis le 20/01/2020, jour du début de l'épidémie (jour 0), jusqu'au 24/02/2020 (35ième jour)\n",
    "* deuxième colonne le nombre de cas de covid pour chacun de ces jours.\n",
    "\n",
    "Dans la suite de ce texte, $t$ est le nombre de jours et $c$ le nombre de cas journalier le début de l'épidémie. En appelant $j$ le numéro de ligne dans le fichier, on notera $c_j$ le nombre de cas au temps $t_j$. Ainsi, la première ligne du fichier contiendra $t_0$ et $c_0$, la seconde $t_1$ et $c_1$, etc..."
   ]
  },
  {
   "cell_type": "code",
   "execution_count": null,
   "id": "a118d7c3",
   "metadata": {},
   "outputs": [],
   "source": []
  },
  {
   "cell_type": "markdown",
   "id": "51cf457c",
   "metadata": {},
   "source": [
    "## calcul du nombre de cas cumulés \n",
    "\n",
    "Le nombre de cas cumulés, $CC_j$, est le nombre de cas total de personnes ayant été victime du covid depuis le jour 0. Ainsi, au jième jour, on a \n",
    "$$CC_j=\\sum_{k=0}^j c_k $$\n",
    "Par exemple, le nombre de cas cumulé au 5ième jour est $CC_5=c_0+c_1+c_2+c_3+c_4+c_5$.\n",
    "\n",
    "1. Créez un tableau numpy CC rempli de zéros, qui aura la bonne taille pour contenir les 35 valeurs $CC_j$.\n",
    "1. En vous rappelant de la façon dont on programme le calcul d'une somme, faîtes le nécessaire pour calculer la suite des nombres de $CC_0$ à $CC_{34}$ et placez les dans le tableau CC. \n",
    "1. Tracez avec des ronds bleus l'évolution du nombre de cas cumulés en fonction du temps, c'est à dire $CC$ en fonction $t$.\n",
    "1. Afin d'écrire votre programme de façon plus propre et de préparer la suite de ce projet, créez une fonction que vous appelerez \"cumulator\" qui à partir d'une liste (ou un tableau) renvoie une liste (ou un tableau) contenant les données cumulées. Cette fonction ne doit avoir en entrée qu'un tableau et ne renvoyer qu'un seul tableau. Typiquement, l'appel de la fonction \"cumulator\" suivant la ligne :\n",
    "\n",
    "        CC = cumulator(c) \n",
    "    doit vous permettre de faire les mêmes calculs que ceux réalisés à la question 1. "
   ]
  },
  {
   "cell_type": "code",
   "execution_count": null,
   "id": "f9773276",
   "metadata": {},
   "outputs": [],
   "source": []
  },
  {
   "cell_type": "markdown",
   "id": "a463f1b9",
   "metadata": {},
   "source": [
    "Dans la suite de ce projet, nous allons nous intéresser à \"reproduire\" l'évolution de $CC$ en fonction de $j$ à l'aide d'un modèle, c'est à dire d'une fonction mathématique reliant $CC$ à $j$.\n",
    "\n",
    "Ce modèle, le modèle logistique généralisé (acronyme : MLG) dans le cas présent, sera dans un premier temps étudié indépendemment des données sur le COVID pour comprendre l'influence de ses différents paramètres sur la forme de l'évolution qu'il est censé représenter. Après cette première phase, nous ajusterons ce modèle aux données des 35 premiers jours de l'épidémie en Chine qui ont été lues dans la partie précédente. Enfin, nous utiliserons le MLG afin de prédire une date de fin à l'épidémie.\n",
    "\n",
    "\n",
    "\n",
    "## Analyse du modèle logistique généralisé (MLG)\n",
    "\n",
    "Un modèle pouvant possiblement convenir pour \"reproduire\" l'évolution de l'épidémie est le modèle logistique généralisé. Suivant ce modèle, $Y$ (le nombre de cas cumulés modélisé) est calculé à partir de $t$ (le temps en jour depuis le début de l'épidémie) suivant l'équation : \n",
    "\n",
    "$$ Y(t)=\\dfrac{K}{(1+\\exp(-rt+r_m)))^{\\beta}} $$\n",
    "\n",
    "Dans cette équation, les paramètres $K$, $r$, $r_m$ et $\\beta$ sont ceux qu'il faudra ajuster pour \"reproduire\" l'évolution du nombre de cas en Chine en fonction de $t$. Mais avant cela, vous allez analyser l'influence de ces paramètres en suivant les 2 étapes suivantes : \n",
    "\n",
    "1. Ecrire une fonction python appelée \"Y\" ayant pour paramètres t, $K$, $r$, $r_m$ et $\\beta$ qui renvoie la valeur de $Y$ calculée en utilisant le MLG.\n",
    "\n",
    "1. En considérant les valeurs de référence suivantes : $K=2000$, $r=0.25$, $r_m=5$ et $\\beta=1$, vous allez observer l'influence de chacun des paramètres en faisant varier chacun d'eux indépendamment en conservant les autres aux valeurs de référence. Pour cela, vous allez tracer des courbes représentant l'évolution de $Y(t)$ sur 150 jours dans les cas suivants :\n",
    "\n",
    "    1. Avec $r=0.25$, $r_m=5$ et $\\beta=1$, tracer sur une même figure 5 courbes pour 5 valeurs de $K$ réparties sur entre 1000 et 5000\n",
    "    1. Avec $K=2000$, $r_m=5$ et $\\beta=1$, tracer sur une même figure 5 courbes pour 5 valeurs de $r$ réparties sur entre 0.1 et 0.5\n",
    "    1. Avec $K=2000$, $r=0.25$ et $\\beta=1$, tracer sur une même figure 5 courbes pour 5 valeurs de $r_m$ réparties sur entre 2.5 et 12.5\n",
    "    1. Avec $K=2000$, $r=0.25$ et $r_m=5$, tracer sur une même figure 5 courbes pour 5 valeurs de $\\beta$ réparties sur entre 0.8 et 1.2\n",
    "\n",
    "1. Réunir les 4 figures précédentes sur une seule et même figure. \n"
   ]
  },
  {
   "cell_type": "code",
   "execution_count": null,
   "id": "5d80daf0",
   "metadata": {
    "scrolled": true
   },
   "outputs": [],
   "source": []
  },
  {
   "cell_type": "markdown",
   "id": "ec1f0726",
   "metadata": {},
   "source": [
    "## Ajustement du MLG aux données COVID de la Chine\n",
    "\n",
    "1. En utilisant les compétences acquises lors du TP \"Ajustement de modèles\", trouver les valeurs des paramètres $K$, $r$, $r_m$ et $\\beta$ qui permettent d'ajuster l'évolution du nombre de cas cumulés en Chine par un MLG . Il faut ajouter des contraintes sur les limites (bounds en anglais et en python) pour les empécher d'être négatives. Il faut également initialiser le processus de recherche des paramètres par des valeurs bien choisies. L'analyse des courbes tracées à l'étape précédente est là pour vous aider à choisir ces valeurs initiales. \n",
    "\n",
    "1. Sur un même graphique, tracer  l'évolution expérimentale du nombre de cas en Chine et l'évolution de $Y$ en prenant les valeurs de $K$, $r$, $r_m$ et $\\beta$ trouvées à la question ci-dessus de manière à vérifier la cohérence de l'ajustement. Sur ce graphique, l'évolution expérimentale sera représentée sur 35 jours par des ronds bleus rouges  et la courbe ajustée sur 100 jours par un trait noir discontinu.\n"
   ]
  },
  {
   "cell_type": "code",
   "execution_count": null,
   "id": "1e96007e",
   "metadata": {},
   "outputs": [],
   "source": []
  },
  {
   "cell_type": "markdown",
   "id": "a1112f32",
   "metadata": {},
   "source": [
    "## Calcul du nombre de cas contamination induit $R_O$\n",
    "\n",
    "Vous pourrez à partir de la valeur de $r$ ajustée, calculer le fameux $R_0$ donné par les médias qui correspond au nombre de cas secondaires engendrés par une personne contaminée. Il est donné par la formule $R_0=\\mathrm{exp}(rT)$ où T est le temps moyen entre le début des symptômes pour le premier infecté et celui pour les seconds infectés. Dans l'étude concerné, $T=5.18$"
   ]
  },
  {
   "cell_type": "code",
   "execution_count": null,
   "id": "475790c8",
   "metadata": {},
   "outputs": [],
   "source": []
  },
  {
   "cell_type": "markdown",
   "id": "465c6248",
   "metadata": {},
   "source": [
    "## Détermination du seuil à partir duquel on dépasse 95 % du nombre d'infectés potentiels\n",
    "\n",
    "On considère que la valeur ajustée de $K$ que l'on vient de trouver est le nombre total de personnes potentiellement infectées par le virus entre le jour 0 et la fin de l'épidémie. On voudrait savoir quand on atteint un cumul du nombre de cas égal à 0.95$K$.\n",
    "\n",
    "1. Créez une fonction $F(t)$, ne dépendant explicitement que de t, qui retourne la valeur $Y(t,K,r,rm,beta)-0.99K$\n",
    "2. Résoudre cette équation comme dans le TP \"résolution d'équation algébrique\"."
   ]
  },
  {
   "cell_type": "code",
   "execution_count": null,
   "id": "8a9aa014",
   "metadata": {},
   "outputs": [],
   "source": []
  },
  {
   "cell_type": "markdown",
   "id": "b2614b5d",
   "metadata": {},
   "source": [
    "## Détermination de la date de fin d'épidémie à partir de l'ajustement\n",
    "\n",
    "Par définition, on peut considérer qu'une épidémie est terminée quand aucun nouveau cas n'apparaît durant plus de 3 mois consécutifs (soit environ 90 jours). Cette détermination se fera à partir des données ajustées. Imaginez que vous êtes un épidémiologiste et qu'à partir des données que vous avez sur les premiers jours de l'épidémie (ici les 35 premiers jours), on vous demande une date de fin d'épidémie !\n",
    "\n",
    "1. A partir de la courbe ajustée, construire l'évolution du nombre de cas journaliers sur 200 jours sous la forme d'un diagramme barre.\n",
    "\n",
    "Indice : Pour remonter au nombre de cas journaliers au jour $t$ à partir de la fonction ajustée $Y$, il suffit de faire la différence entre la valeur de $Y$ au temps $t$ et celle au temps $t-1$."
   ]
  },
  {
   "cell_type": "code",
   "execution_count": null,
   "id": "d9514575",
   "metadata": {},
   "outputs": [],
   "source": []
  },
  {
   "cell_type": "markdown",
   "id": "1d1b9e0a",
   "metadata": {},
   "source": [
    "2. En déduire la date théorique de fin d'épidémie. (même si votre calcul est approximatif, nous voulons un ordre d'idée ... nous faisons ici du python pas de l'épidémiologie de haut niveau).\n",
    "\n",
    "Indice : vous pourrez calculer le nombre de cas cumulé sur des plages de 90 jours, en utilisant la fonction \"cumulator\" que vous avez développée en début de projet. Vous pourrez faire cela entre le jour 0 et le jour 89 puis entre le jour 1 et le jour 90, etc... Quand le nombre de cas cumulé sur la plage de 90 jours devient inférieur à 1, le dernier jour de la plage concernée est le jour de la fin de l'épidémie."
   ]
  },
  {
   "cell_type": "code",
   "execution_count": null,
   "id": "009bd196",
   "metadata": {},
   "outputs": [],
   "source": []
  },
  {
   "cell_type": "markdown",
   "id": "4f0f9131",
   "metadata": {},
   "source": [
    "## De l'influence des données sur les résultats d'un ajustement à vocation prédictive\n",
    "\n",
    "Le fichier dataWonderland.csv contient des données pour un pays merveilleux appelé Wonderland. Il est au même format que celui de la Chine mais contient l'évolution sur 100 jours. Le but de cette partie est de s'intéresser à la robustesse de l'ajustement que l'on effectue. Notamment, vous étudierez l'influence du nombre de jours d'épidémie servant à l'ajustement. Dans le cas de la Chine, le nombre de jours qui avait servi à ajuster le MLG avait été de 35. Dans cette partie, nous allons faire varier le nombre de jours servant à trouver les valeurs des paramètres d'ajustement. Nous appellerons ce nombre de jours d'étude $n_j$.\n",
    "\n",
    "1. Lire les données du fichier dataWonderland.csv et tracer le nombre de cas cumulés en fonction du nombre de jours avec des étoiles rouges.\n"
   ]
  },
  {
   "cell_type": "code",
   "execution_count": null,
   "id": "e9853daa",
   "metadata": {
    "scrolled": false
   },
   "outputs": [],
   "source": []
  },
  {
   "cell_type": "markdown",
   "id": "4debf8c9",
   "metadata": {},
   "source": [
    "2. Dans un premier temps, effectuer un ajustement de Y en ne considérant que ses 40 premières valeurs ($n_j=40$) et donner les valeurs des paramètres $K$, $r$, $r_m$ et $\\beta$.\n",
    "3. Tracer la comparaison \"expérience\"-MLG\n"
   ]
  },
  {
   "cell_type": "code",
   "execution_count": null,
   "id": "08076612",
   "metadata": {
    "scrolled": true
   },
   "outputs": [],
   "source": []
  },
  {
   "cell_type": "markdown",
   "id": "aa04f1c7",
   "metadata": {},
   "source": [
    "4. En vous inspirant de la question précédente, tracer sur un même graphique les courbes d'ajustement pour des valeurs de $n_j$ allant de 30 à 70 avec un pas de 10 en affichant pour chaque valeur de $n_j$ les valeurs des paramètres $K$, $r$, $r_m$ et $\\beta$. Vous veillerez à légender correctement votre figure afin de pouvoir l'analyser correctement."
   ]
  },
  {
   "cell_type": "code",
   "execution_count": null,
   "id": "d376b5d7",
   "metadata": {},
   "outputs": [],
   "source": []
  },
  {
   "cell_type": "markdown",
   "id": "2bca183e",
   "metadata": {},
   "source": [
    "5. Clairement, le nombre de jours qui servent à l'ajustement a un rôle important. Dans le cas du Wonderland, estimer la valeur de $n_j$ à partir de laquelle le modèle peut être considéré fiable. Vous considérerez que le modèle est fiable quand, pour 2 valeurs successives de $n_j$, l'écart relatif entre les 2 valeurs successives de $K$ correspondantes est inférieur à 5 %. AIDE : Pour que cela marche, il faut ajouter l'option maxfev=10000 à l'appel de curve_fit.\n",
    "\n",
    "6. tracer alors la courbe \"expérimentale\" et son ajustement."
   ]
  },
  {
   "cell_type": "code",
   "execution_count": null,
   "id": "286cb8d1",
   "metadata": {},
   "outputs": [],
   "source": []
  }
 ],
 "metadata": {
  "kernelspec": {
   "display_name": "Python 3 (ipykernel)",
   "language": "python",
   "name": "python3"
  },
  "language_info": {
   "codemirror_mode": {
    "name": "ipython",
    "version": 3
   },
   "file_extension": ".py",
   "mimetype": "text/x-python",
   "name": "python",
   "nbconvert_exporter": "python",
   "pygments_lexer": "ipython3",
   "version": "3.9.13"
  }
 },
 "nbformat": 4,
 "nbformat_minor": 5
}
