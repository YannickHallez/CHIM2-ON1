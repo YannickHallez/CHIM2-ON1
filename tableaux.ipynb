{
  "nbformat": 4,
  "nbformat_minor": 0,
  "metadata": {
    "colab": {
      "name": "tableaux.ipynb",
      "provenance": [],
      "collapsed_sections": [],
      "authorship_tag": "ABX9TyMVbKc5R3lrfme/c+7yH6b7",
      "include_colab_link": true
    },
    "kernelspec": {
      "name": "python3",
      "display_name": "Python 3"
    },
    "language_info": {
      "name": "python"
    }
  },
  "cells": [
    {
      "cell_type": "markdown",
      "metadata": {
        "id": "view-in-github",
        "colab_type": "text"
      },
      "source": [
        "<a href=\"https://colab.research.google.com/github/YannickHallez/CHIM2-ON1/blob/main/tableaux.ipynb\" target=\"_parent\"><img src=\"https://colab.research.google.com/assets/colab-badge.svg\" alt=\"Open In Colab\"/></a>"
      ]
    },
    {
      "cell_type": "markdown",
      "source": [
        "# Les tableaux\n",
        "\n",
        "## Prérequis\n",
        "\n",
        "Avoir suivi la leçon sur les listes.\n",
        "\n",
        "## Compétences\n",
        "\n",
        "- Créer des tableaux\n",
        "- Utiliser les tableaux\n",
        "- Accéder à un élément ou à une tranche de liste\n",
        "- Utiliser les fonctions de base s'appliquant aux tableaux (ajout, dimension)\n",
        "- Faire des calculs avec des tableaux\n",
        "\n",
        "## Objectifs\n",
        "\n",
        "- Acquérir les compétences ci-dessus.\n",
        "- Avoir faire des calculs simples avec des vecteurs ou matrices.\n",
        "- Avoir les bases pour utiliser les modules scientifiques de python souvent basé sur le concept de tableau et en particulier dans la suite de cette UE.\n",
        "\n"
      ],
      "metadata": {
        "id": "BEK34Oa55hJT"
      }
    },
    {
      "cell_type": "markdown",
      "source": [
        "# Qu'est ce qu'un tableau ?\n",
        "\n",
        "Les tableaux sont très similaires à des listes ... et même au début vous allez probablement les confondre 😞. Cependant, ils n'ont pas la même utilité. Alors que les listes permettent de faire du stockage  de données de tous types, les tableaux sont eux plutôt destinés à faire des calculs au sens mathématique du terme, et en particulier sur des vecteurs ou matrice. \n",
        "\n",
        "En python, on ne parle pas de tableaux mais du terme anglais `array`. Et c'est d'ailleurs ce terme que nous utiliserons dans la suite, même si les anglicismes, c'est pas bien. \n",
        "\n",
        "`array` comme `list`, `float`, `range`, `int` ... est un type de variables."
      ],
      "metadata": {
        "id": "AVmnV7qNEtnw"
      }
    },
    {
      "cell_type": "markdown",
      "source": [
        "# Comment définir un tableau ?\n",
        "\n",
        "1.   **Importer le module numpy**, ce que vous faîtes implicitement quand vous importez `pylab`.\n",
        "\n",
        "2.   **Définir le tableau**. Pour cela, ça marche un peu comme les listes avec des valeurs entre crochets mais vous incluez cette liste dans un appel à `array`.\n",
        "\n"
      ],
      "metadata": {
        "id": "nbhM_frJqkJV"
      }
    },
    {
      "cell_type": "code",
      "source": [
        "from pylab import *\n",
        "\n",
        "a = array([1,2.5,-3.9])\n",
        "print(a)\n",
        "print(type(a))"
      ],
      "metadata": {
        "colab": {
          "base_uri": "https://localhost:8080/"
        },
        "id": "NcSFUr-NEITL",
        "outputId": "68645f38-68ca-45e0-a4e0-c003bafb1ff4"
      },
      "execution_count": 1,
      "outputs": [
        {
          "output_type": "stream",
          "name": "stdout",
          "text": [
            "[ 1.   2.5 -3.9]\n",
            "<class 'numpy.ndarray'>\n"
          ]
        }
      ]
    },
    {
      "cell_type": "markdown",
      "source": [
        "D'ailleurs, on peut très bien convertir une liste en array"
      ],
      "metadata": {
        "id": "M4LRkm9z0t2t"
      }
    },
    {
      "cell_type": "code",
      "execution_count": 2,
      "metadata": {
        "colab": {
          "base_uri": "https://localhost:8080/"
        },
        "id": "WpgRQ7pUD6HI",
        "outputId": "7cdcdb07-9f2f-4ea4-b3dc-757b23a51172"
      },
      "outputs": [
        {
          "output_type": "stream",
          "name": "stdout",
          "text": [
            "[ 1.   2.5 -3.9]\n",
            "<class 'numpy.ndarray'>\n"
          ]
        }
      ],
      "source": [
        "l = [1,2.5,-3.9]    #ici l est une liste\n",
        "b = array(l)    # on converti la liste en array\n",
        "print(b)\n",
        "print(type(b))"
      ]
    },
    {
      "cell_type": "markdown",
      "source": [
        "En fait, la différence essentielle entre une liste et l'array correspondante est que \n",
        "*   une array à **une dimension** peut-être essentiellement considérés comme un **vecteur** en mathématiques \n",
        "*   une array à **2 dimensions** comme une **matrice** en mathématiques  (nous n'en parlerons pas pour le moment)\n",
        "\n",
        "Donc, comme ces objets ont un sens mathématiques, on peut faire des opérations mathématiques avec ceux-ci"
      ],
      "metadata": {
        "id": "cy2SQh-n7tON"
      }
    },
    {
      "cell_type": "code",
      "source": [
        "#des exemples d'opérations\n",
        "c=b+1 #additionner un scalaire\n",
        "print(b)\n",
        "print('addition d\\'un scalaire',c) \n",
        "print('addition de deux vecteurs:',b+c) # addition de 2 arrays\n",
        "#on pourrait faire pareil avec la soustraction\n",
        "d=b*2 #multiplier par un scalaire\n",
        "print('multiplication par un scalaire: ',d)\n",
        "print('multiplication de 2 arrays: ',b*c)\n",
        "#on pourrait faire pareil avec la division\n",
        "\n",
        "#On a fait des calculs avec des matrices à deux dimensions, mais cela fonctionne aussi avec des vecteurs (array à 1 dimension)"
      ],
      "metadata": {
        "colab": {
          "base_uri": "https://localhost:8080/"
        },
        "outputId": "11062c68-d219-4ce4-9270-1f125255a36a",
        "id": "OTJpIxz6-YuK"
      },
      "execution_count": 3,
      "outputs": [
        {
          "output_type": "stream",
          "name": "stdout",
          "text": [
            "[ 1.   2.5 -3.9]\n",
            "addition d'un scalaire [ 2.   3.5 -2.9]\n",
            "addition de deux vecteurs: [ 3.   6.  -6.8]\n",
            "multiplication par un scalaire:  [ 2.   5.  -7.8]\n",
            "multiplication de 2 arrays:  [ 2.    8.75 11.31]\n"
          ]
        }
      ]
    },
    {
      "cell_type": "markdown",
      "source": [
        "# **REMARQUES TRES IMPORTANTES \\:**\n",
        "\n",
        "Les opérations entre 2 matrices que nous venons d'effectuer sont des **opérations membres à membres**, c'est dire qu'un élément du premier vecteur  à une position donnée  est additionné ou multiplié par l'élément à la même position dans le second vecteur. Ici, rien de surprenant pour l'addition, mais en revanche, c'est très important de le comprendre pour la multiplication et la division. En effet, **en math, on ne peut pas multiplier deux vecteurs de même dimension** et la division de vecteur n'existe pas en tant que telle."
      ],
      "metadata": {
        "id": "Skk_h2XDBTrV"
      }
    },
    {
      "cell_type": "markdown",
      "source": [
        "# Quelques manières de générer des arrays automatiquement (arange, linspace,zeros, ones)\n",
        "\n",
        "## range\n",
        "\n",
        "Pour les arrays, il existe un parallèle à la fonction `range` que nous avons vu pour les listes: c'est la fonction `arange`.\n",
        "\n",
        "Ainsi, si on veut générer automatiquement une liste d'entiers de 10 à 20 :\n"
      ],
      "metadata": {
        "id": "wff6DVe6ICc-"
      }
    },
    {
      "cell_type": "code",
      "source": [
        "print('avec un pas de 1 :',arange(10,20)) \n",
        "print('avec un pas de 2 :',arange(10,20,2)) "
      ],
      "metadata": {
        "colab": {
          "base_uri": "https://localhost:8080/"
        },
        "id": "z_eVwuWJIyXu",
        "outputId": "58b8c2c8-708e-4e87-962d-7b41be00a788"
      },
      "execution_count": 4,
      "outputs": [
        {
          "output_type": "stream",
          "name": "stdout",
          "text": [
            "avec un pas de 1 : [10 11 12 13 14 15 16 17 18 19]\n",
            "avec un pas de 2 : [10 12 14 16 18]\n"
          ]
        }
      ]
    },
    {
      "cell_type": "markdown",
      "source": [
        "On retrouve le fait que les valeurs contenues dans l'array s'arrêtent à la valeur précédant la valeur 20 et non à 20. "
      ],
      "metadata": {
        "id": "Z7ELjerUJScd"
      }
    },
    {
      "cell_type": "markdown",
      "source": [
        "Contrairement à range, on peut aussi travailler avec des réels"
      ],
      "metadata": {
        "id": "QfvFfaoeJjq4"
      }
    },
    {
      "cell_type": "code",
      "source": [
        "r=arange(0,1,5e-2)\n",
        "print(r)"
      ],
      "metadata": {
        "colab": {
          "base_uri": "https://localhost:8080/"
        },
        "id": "bT-w6CpCMzEY",
        "outputId": "917a2745-d416-4f42-9745-f9d9e4935733"
      },
      "execution_count": 5,
      "outputs": [
        {
          "output_type": "stream",
          "name": "stdout",
          "text": [
            "[0.   0.05 0.1  0.15 0.2  0.25 0.3  0.35 0.4  0.45 0.5  0.55 0.6  0.65\n",
            " 0.7  0.75 0.8  0.85 0.9  0.95]\n"
          ]
        }
      ]
    },
    {
      "cell_type": "markdown",
      "source": [
        "## linspace\n",
        "\n",
        "Une autre manière de générer des réels également répartis sur un intervalle est d'utiliser la fonction `linspace`. Cette fonction prend 3 paramètres les 2 premiers étant le point de départ et le point d'arrivée. Le dernier est le nombre de points que l'on veut sur l'intervalle entre celui de départ et d'arrivée"
      ],
      "metadata": {
        "id": "hzXqOSDSNdNq"
      }
    },
    {
      "cell_type": "code",
      "source": [
        "e=linspace(0,1,11)\n",
        "print(e)"
      ],
      "metadata": {
        "colab": {
          "base_uri": "https://localhost:8080/"
        },
        "id": "yJU34Y4nOTxg",
        "outputId": "efb03218-f96a-4302-deb1-50a38d149d8b"
      },
      "execution_count": 6,
      "outputs": [
        {
          "output_type": "stream",
          "name": "stdout",
          "text": [
            "[0.  0.1 0.2 0.3 0.4 0.5 0.6 0.7 0.8 0.9 1. ]\n"
          ]
        }
      ]
    },
    {
      "cell_type": "markdown",
      "source": [
        "On voit bien les différences avec arange. Ici, le point final fait bien partie du vecteur contrairement à arange. De plus, alors que arange a besoin de l'écart entre chaque valeurs, linspace a besoin lui du nombre de valeurs en incluant les valeurs extrémales. c'est d'ailleurs parce que ces 2 valeurs extrémales sont incluses que j'ai pris 11 points pour avoir 0,1 entre chaque valeur."
      ],
      "metadata": {
        "id": "ngcQpaYoPtCn"
      }
    },
    {
      "cell_type": "markdown",
      "source": [
        "## arange ou linspace ? Telle est la question ...\n",
        "\n",
        "effectivement, vous avez vu que ces deux fonctions font à peu près la même chose : tronçonner un intervalle. Alors laquelle choisir ?\n",
        "\n",
        "Cela dépend en fait essentiellement de ce que vous voulez même comme troisième paramètre. Si sur l'intervalle, vous connaissez le nombre de points à mettre, partez pour `linspace`. Si vous connaissez l'écart voulu entre chaque valeur, il faut choisir `arange`.\n",
        "\n",
        "Pour arange, il y a même un moyen de faire en sorte que si la dernière valeur fait partie de l'ensemble des valeurs à atteindre. "
      ],
      "metadata": {
        "id": "TZkxjcbIQy0P"
      }
    },
    {
      "cell_type": "code",
      "source": [
        "r=arange(0,1,5e-2)\n",
        "print(r)  # 1 ne fait pas partie du vecteur avec arange\n",
        "r=arange(0,1+5e-2,5e-2)\n",
        "print(r) # 1 en fait maintenant partie ... on a en quelque sorte berné arange"
      ],
      "metadata": {
        "colab": {
          "base_uri": "https://localhost:8080/"
        },
        "id": "jsjUDHOSSKl_",
        "outputId": "4b549107-04ff-4081-df97-452161ff3133"
      },
      "execution_count": 7,
      "outputs": [
        {
          "output_type": "stream",
          "name": "stdout",
          "text": [
            "[0.   0.05 0.1  0.15 0.2  0.25 0.3  0.35 0.4  0.45 0.5  0.55 0.6  0.65\n",
            " 0.7  0.75 0.8  0.85 0.9  0.95]\n",
            "[0.   0.05 0.1  0.15 0.2  0.25 0.3  0.35 0.4  0.45 0.5  0.55 0.6  0.65\n",
            " 0.7  0.75 0.8  0.85 0.9  0.95 1.  ]\n"
          ]
        }
      ]
    },
    {
      "cell_type": "markdown",
      "source": [
        "## zeros et ones\n",
        "\n",
        "Il est parfois utile de peupler des vecteurs avec des valeurs prédéfinies."
      ],
      "metadata": {
        "id": "1JzMHeWMS-W4"
      }
    },
    {
      "cell_type": "code",
      "source": [
        "zz=zeros((3)) #remarquez bien le double niveau de parenthèses\n",
        "print(zz) #on a rempli un vecteur de 3 éléments nuls.\n",
        "oo=ones((3))\n",
        "print(oo)"
      ],
      "metadata": {
        "colab": {
          "base_uri": "https://localhost:8080/"
        },
        "id": "FDon4dvqTPyl",
        "outputId": "e42c4471-cc56-4429-dce5-25d0d848f4b4"
      },
      "execution_count": 8,
      "outputs": [
        {
          "output_type": "stream",
          "name": "stdout",
          "text": [
            "[0. 0. 0.]\n",
            "[1. 1. 1.]\n"
          ]
        }
      ]
    },
    {
      "cell_type": "markdown",
      "source": [
        "# La copie d'array\n",
        "\n",
        "Nous tombons ici sur un sujet qui peut ne pas être facile à comprendre pour un débutant et qui mène parfois à des erreurs qui sont très difficiles à identifier.\n",
        "\n",
        "Prenons l'exemple simple ci-dessous dans lequel je mets un vecteur dans une variable a. Puis, je décide de la mettre aussi dans une autre variable b comme ça."
      ],
      "metadata": {
        "id": "M0mfwpqdWURh"
      }
    },
    {
      "cell_type": "code",
      "source": [
        "a=array([12,15.5,-2])\n",
        "b=a"
      ],
      "metadata": {
        "id": "nWteN2WPZLfi"
      },
      "execution_count": 9,
      "outputs": []
    },
    {
      "cell_type": "markdown",
      "source": [
        "Légitimement et d'ailleurs comme dans de nombreux langages de programmation, on pourrait pensez que b contient les mêmes valeurs que a mais en est complètement indépendant. Vérifions le modifiant une valeur de b comme par exemple, "
      ],
      "metadata": {
        "id": "z6lEUqkQZVVp"
      }
    },
    {
      "cell_type": "code",
      "source": [
        "b[1]=203\n",
        "print(b) #là c'est sans surprise\n",
        "print(a) #là c'est beaucoup plus surprenant ..."
      ],
      "metadata": {
        "colab": {
          "base_uri": "https://localhost:8080/"
        },
        "id": "XfxDNRp1Zwaz",
        "outputId": "65749e82-d5dd-4a87-bdb3-5128ae03bc77"
      },
      "execution_count": 10,
      "outputs": [
        {
          "output_type": "stream",
          "name": "stdout",
          "text": [
            "[ 12. 203.  -2.]\n",
            "[ 12. 203.  -2.]\n"
          ]
        }
      ]
    },
    {
      "cell_type": "markdown",
      "source": [
        "Et oui, on a modifié b, mais le vecteur a a aussi été modifié quand on a modifié b. Le moyen le plus simple pour rendre b complètement indépendant de a tout en copiant ses valeurs est de générer une nouvelle liste à partir de a."
      ],
      "metadata": {
        "id": "7eDGWIeWaCPi"
      }
    },
    {
      "cell_type": "code",
      "source": [
        "a=array([12,15.5,-2])\n",
        "b=array(a)\n",
        "b[1]=203\n",
        "print(b) #là c'est sans surprise\n",
        "print(a) #on n'a pas touché à a"
      ],
      "metadata": {
        "colab": {
          "base_uri": "https://localhost:8080/"
        },
        "id": "HZfQkSz4w6jX",
        "outputId": "3c74dae0-a458-49fb-e0ca-da45f6f1ee21"
      },
      "execution_count": 11,
      "outputs": [
        {
          "output_type": "stream",
          "name": "stdout",
          "text": [
            "[ 12. 203.  -2.]\n",
            "[12.  15.5 -2. ]\n"
          ]
        }
      ]
    },
    {
      "cell_type": "markdown",
      "source": [
        "Il faut noter que les listes se comportent de la manière vis à vis de la copie;"
      ],
      "metadata": {
        "id": "LmEd36ocGhR4"
      }
    },
    {
      "cell_type": "markdown",
      "source": [
        "# Quelques Fonctions utiles (max, min,argmax,argmin,sum, mean)\n",
        "\n",
        "Les fonctions `min` et `max` permettent de connaître respectivement la valeur minimale et la valeur maximale dans une array tandis que `argmin` et `argmax` permettent d'accéder  à l'indice de la valeur minimale et celui de la valeur maximale respectivement. \n",
        "\n",
        "`sum` renvoie la somme des éléments\n",
        "`mean` renvoie la valeur moyenne des éléments"
      ],
      "metadata": {
        "id": "9N2C9XFaExLu"
      }
    },
    {
      "cell_type": "code",
      "source": [
        "a=array([10,1,15,12.5,18,19.5,5,12])\n",
        "print(min(a))\n",
        "print(argmin(a))\n",
        "print(max(a))\n",
        "print(argmax(a))\n",
        "print(sum(a))\n",
        "print(mean(a))"
      ],
      "metadata": {
        "colab": {
          "base_uri": "https://localhost:8080/"
        },
        "id": "wfdY3pmqHfhW",
        "outputId": "ea7217e1-7a14-43b9-c229-0d18454bb38f"
      },
      "execution_count": 28,
      "outputs": [
        {
          "output_type": "stream",
          "name": "stdout",
          "text": [
            "1.0\n",
            "1\n",
            "19.5\n",
            "5\n",
            "93.0\n",
            "11.625\n"
          ]
        }
      ]
    },
    {
      "cell_type": "markdown",
      "source": [
        "# Masquage booléens d'array\n",
        "\n",
        "on peut en python facilement extraire ou modifier des données dans une array à partir d'opérateurs relationnels"
      ],
      "metadata": {
        "id": "COx5W26mIDZn"
      }
    },
    {
      "cell_type": "code",
      "source": [
        "b=a>=10\n",
        "print(b)\n",
        "print(a[b])"
      ],
      "metadata": {
        "colab": {
          "base_uri": "https://localhost:8080/"
        },
        "id": "s7XrfVX_INfN",
        "outputId": "0490862b-9163-4a46-d074-fb289b77d758"
      },
      "execution_count": 26,
      "outputs": [
        {
          "output_type": "stream",
          "name": "stdout",
          "text": [
            "[ True False  True  True  True  True False  True]\n",
            "[10.  15.  12.5 18.  19.5 12. ]\n"
          ]
        }
      ]
    },
    {
      "cell_type": "markdown",
      "source": [
        "b contient autant de booléens que a qui vérifie pour chaque élément de a s'il est supérieur ou égal à 10. \n",
        "\n",
        "l'appel à a[b] indice les valeurs de a avec les valeurs dans b. On ne voit plus que les valeurs supérieures à 10 \n",
        "\n",
        "On peut aussi modifier des données à partir de ce type d'opérations"
      ],
      "metadata": {
        "id": "rHoyQURuJ3lt"
      }
    },
    {
      "cell_type": "code",
      "source": [
        "a[a<10]=0\n",
        "a[a>=10]=1\n",
        "print(a)"
      ],
      "metadata": {
        "colab": {
          "base_uri": "https://localhost:8080/"
        },
        "id": "JdN-YSglF12G",
        "outputId": "f64289dd-0753-433b-b035-b08251444819"
      },
      "execution_count": 27,
      "outputs": [
        {
          "output_type": "stream",
          "name": "stdout",
          "text": [
            "[1. 0. 1. 1. 1. 1. 0. 1.]\n"
          ]
        }
      ]
    },
    {
      "cell_type": "markdown",
      "source": [
        "# Alors list ou array ? Le retour de \"Telle est la question\" \n",
        "\n",
        "Comme vous l'avez vu, nombre de concept des list python se retrouvent pour les array et ils se manipulent quasiment de la même manière. Alors comment choisir entre les 2 ?\n",
        "Le choix se base sur la question suivante : S'agit-il de faire des manipulations mathématiques sur l'objet ? \n",
        "\n",
        "Si oui :  array\n",
        "\n",
        "Si non : les listes suffiront."
      ],
      "metadata": {
        "id": "oo08t22YIKYt"
      }
    },
    {
      "cell_type": "markdown",
      "source": [
        "\n",
        "\n",
        "---\n",
        "\n",
        "\n",
        "# **Pour ceux qui veulent aller plus loin : les arrays à 2 dimensions**\n",
        "\n",
        "Exactement comme pour les listes sauf qu'il faut préciser qu'on veut une `array`, on peut définir des tableaux à 2 dimensions"
      ],
      "metadata": {
        "id": "GsP-eu7-6EKd"
      }
    },
    {
      "cell_type": "code",
      "source": [
        "b = array([[1,2.5],[-5.6,6.5]])    \n",
        "print(b)"
      ],
      "metadata": {
        "colab": {
          "base_uri": "https://localhost:8080/"
        },
        "id": "xSUokScX6Q9k",
        "outputId": "095d2174-bc7a-4d04-996f-023b15659b27"
      },
      "execution_count": 15,
      "outputs": [
        {
          "output_type": "stream",
          "name": "stdout",
          "text": [
            "[[ 1.   2.5]\n",
            " [-5.6  6.5]]\n"
          ]
        }
      ]
    },
    {
      "cell_type": "markdown",
      "source": [
        "En fait, la différence essentielle entre une liste et l'array correspondante est que \n",
        "*   une array à **une dimension** peut-être essentiellement considérés comme un **vecteur** en mathématiques \n",
        "*   une array à **2 dimensions** comme une **matrice** en mathématiques.\n",
        "\n",
        "Donc, comme ces objets ont un sens mathématiques, on peut faire des opérations mathématiques avec ceux-ci"
      ],
      "metadata": {
        "id": "pf7U0BYS-oFZ"
      }
    },
    {
      "cell_type": "code",
      "source": [
        "#des exemples d'opérations\n",
        "c=b+1 #additionner un scalaire\n",
        "print(b)\n",
        "print(c) \n",
        "print(b+c) # addition de 2 arrays\n",
        "#on pourrait faire pareil avec la soustraction\n",
        "d=b*2 #multiplier par un scalaire\n",
        "print(d)\n",
        "print(b*c)\n",
        "#on pourrait faire pareil avec la division\n",
        "\n",
        "#On a fait des calculs avec des matrices à deux dimensions, mais cela fonctionne aussi avec des vecteurs (array à 1 dimension)"
      ],
      "metadata": {
        "colab": {
          "base_uri": "https://localhost:8080/"
        },
        "id": "IHL0ApGTA3Pj",
        "outputId": "2902e30b-6192-4bde-feb2-4cbaae307b52"
      },
      "execution_count": 16,
      "outputs": [
        {
          "output_type": "stream",
          "name": "stdout",
          "text": [
            "[[ 1.   2.5]\n",
            " [-5.6  6.5]]\n",
            "[[ 2.   3.5]\n",
            " [-4.6  7.5]]\n",
            "[[  3.    6. ]\n",
            " [-10.2  14. ]]\n",
            "[[  2.    5. ]\n",
            " [-11.2  13. ]]\n",
            "[[ 2.    8.75]\n",
            " [25.76 48.75]]\n"
          ]
        }
      ]
    },
    {
      "cell_type": "markdown",
      "source": [
        "# **REMARQUES TRES IMPORTANTES \\:**\n",
        "\n",
        "Les opérations entre 2 matrices que nous venons d'effectuer sont des **opérations membres à membres**, c'est dire qu'un élément de la première matrice à une position donnée  est additionné ou multiplié par l'élément à la même position dans la seconde matrice. Ici, rien de surprenant pour l'addition, mais en revanche, c'est très important de le comprendre pour la multiplication et la division. En effet, **en math, la multiplication de matrice est une opération très particulière différente de celle que nous venons de voir** et la division de matrice n'existe pas en tant que telle.\n",
        "\n",
        "On remarquera aussi que ces opérations membres à membres imposent que les vecteurs soient de même taille."
      ],
      "metadata": {
        "id": "ve6vMdbHsNn2"
      }
    },
    {
      "cell_type": "markdown",
      "source": [
        "# accéder aux dimensions des arrays à 2 dimensions :\n",
        "\n",
        "On retrouve les mêmes commandes que pour les listes à savoir `ndim`, `shape` et `size`. Pour bien comprendre, ce qu'il y a derrière les arrays surtout à 2 dimensions, nous allons détailler quelques points. Commençons par observer le résultat de ces fonctions avec un vecteur."
      ],
      "metadata": {
        "id": "3uU5wdbYeK-_"
      }
    },
    {
      "cell_type": "code",
      "source": [
        "a = array([1,2.5,-3.9])\n",
        "print(a)\n",
        "print('dimension :',ndim(a))\n",
        "print('forme :',shape(a))"
      ],
      "metadata": {
        "colab": {
          "base_uri": "https://localhost:8080/"
        },
        "id": "RNSx2zGhfsTv",
        "outputId": "cf3d3627-134a-49a2-84a1-d75ae9bf8977"
      },
      "execution_count": 17,
      "outputs": [
        {
          "output_type": "stream",
          "name": "stdout",
          "text": [
            "[ 1.   2.5 -3.9]\n",
            "dimension : 1\n",
            "forme : (3,)\n"
          ]
        }
      ]
    },
    {
      "cell_type": "markdown",
      "source": [
        "`ndim` nous indique bien le nombre de dimensions de a. Il s'agit donc d'un vecteur. `shape` nous donne le nombre d'élément sous un forme un peu étrange. Il s'agit d'un autre objet de python que l'on nomme `tuples` qui correspond à une série de données, entourée par des parenthèses, et séparées par des virgules. Nous ne rentrerons pas plus en détails dans la description de ce type d'objet. Mais, dans le cadre présent, il nous suffit de savoir que `shape` donne le nombre d'éléments pour chaque dimension. Et en l'occurence, comme `a` n'a qu'une seule dimension, `shape` ne renvoie qu'un chiffre qui est le nombre d'élements de l'unique dimension. "
      ],
      "metadata": {
        "id": "1NFq8yX3gTs0"
      }
    },
    {
      "cell_type": "markdown",
      "source": [
        "Intéressons nous maintenant à la structure d'une matrice à 2 dimensions. J'en profite pour vous montrer une autre manière d'appeler les fonctions `ndim` et `shape`."
      ],
      "metadata": {
        "id": "PeM9TtrLkCC0"
      }
    },
    {
      "cell_type": "code",
      "source": [
        "c = array([[1,2,3],[4,5,6]])    \n",
        "print(c)\n",
        "print('dimension :',c.ndim)\n",
        "print('forme :',c.shape)"
      ],
      "metadata": {
        "colab": {
          "base_uri": "https://localhost:8080/"
        },
        "id": "fIetwH3bgTI1",
        "outputId": "0923798b-53dd-43f0-c7d3-b636a76437e5"
      },
      "execution_count": 18,
      "outputs": [
        {
          "output_type": "stream",
          "name": "stdout",
          "text": [
            "[[1 2 3]\n",
            " [4 5 6]]\n",
            "dimension : 2\n",
            "forme : (2, 3)\n"
          ]
        }
      ]
    },
    {
      "cell_type": "markdown",
      "source": [
        "Nous voyons ici que l'array c à 2 dimensions et que la première de ces dimensions est 2 et la deuxième 3. Pourquoi pas l'inverse... eh bien, c'est un peu comme des poupées gigognes. Ecrivons autrement, la même matrice. "
      ],
      "metadata": {
        "id": "qQuacv9tm3Bw"
      }
    },
    {
      "cell_type": "code",
      "source": [
        "a = array([1,2,3])\n",
        "b = array([4,5,6])    \n",
        "c=array([a,b])\n",
        "print(c)"
      ],
      "metadata": {
        "colab": {
          "base_uri": "https://localhost:8080/"
        },
        "id": "rwXSBgTfUNj3",
        "outputId": "5304c16c-3a5b-43ee-8e55-e6ded2f42d43"
      },
      "execution_count": 19,
      "outputs": [
        {
          "output_type": "stream",
          "name": "stdout",
          "text": [
            "[[1 2 3]\n",
            " [4 5 6]]\n"
          ]
        }
      ]
    },
    {
      "cell_type": "markdown",
      "source": [
        "on voit qu'en fait `c` est un vecteur à 2 éléments, chacun des éléments étant un vecteur à 3 éléments. La dimension que l'on voit en premier est donc 2 puis vient après la dimension suivante : 3. Un peu comme quand pour les poupées gigognes où on ouvre d'abord la plus grosse  qui est la seule qu'on voit pour voir la suivante."
      ],
      "metadata": {
        "id": "mSYLxUNIjvWw"
      }
    },
    {
      "cell_type": "markdown",
      "source": [
        "# Accéder à un élément d'array à 2 dimensions\n",
        "\n",
        "C'est important de bien comprendre ce qui précède pour accéder à un élément du tableau. Par exemple, l'accès au 3ième élement du 2ième vecteur s'effectue sous la forme c[1,2] : le premier indice entre crochet correspond au numéro du premier contenant en commençant à 0 et le deuxième à celui des sous-contenants en commençant à 0 comme toujours dans python.\n",
        "\n",
        "Cela conduit à une parfaite analogie avec la notation que les mathématiciens utilisent par convention pour les matrices : le premier indice correspond au numéro de ligne et le second au numéro de colonne.\n",
        "\n",
        "![arrayIndicage.png](data:image/png;base64,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)\n"
      ],
      "metadata": {
        "id": "fbc-82h9UuO5"
      }
    },
    {
      "cell_type": "code",
      "source": [
        "print(c[1,2])"
      ],
      "metadata": {
        "colab": {
          "base_uri": "https://localhost:8080/"
        },
        "id": "eB6BkckZhNOy",
        "outputId": "14c90989-5cbb-4715-cf48-2e58c13f3540"
      },
      "execution_count": 20,
      "outputs": [
        {
          "output_type": "stream",
          "name": "stdout",
          "text": [
            "6\n"
          ]
        }
      ]
    },
    {
      "cell_type": "markdown",
      "source": [
        "**remarque** : les array ne peuvent contenir que des éléments de même taille. La ligne suivante *conduit* à une erreur !"
      ],
      "metadata": {
        "id": "gt1AL6H8iBbZ"
      }
    },
    {
      "cell_type": "code",
      "source": [
        "c = array([[1,2],[4,5,6]]) #conduit à une erreur"
      ],
      "metadata": {
        "colab": {
          "base_uri": "https://localhost:8080/"
        },
        "id": "1-cva0P3ic45",
        "outputId": "78714a84-cda0-42e4-d716-252b60160642"
      },
      "execution_count": 21,
      "outputs": [
        {
          "output_type": "stream",
          "name": "stderr",
          "text": [
            "/usr/local/lib/python3.7/dist-packages/ipykernel_launcher.py:1: VisibleDeprecationWarning: Creating an ndarray from ragged nested sequences (which is a list-or-tuple of lists-or-tuples-or ndarrays with different lengths or shapes) is deprecated. If you meant to do this, you must specify 'dtype=object' when creating the ndarray.\n",
            "  \"\"\"Entry point for launching an IPython kernel.\n"
          ]
        }
      ]
    },
    {
      "cell_type": "markdown",
      "source": [
        "# Les tranches ou comment accéder à des lignes ou colonnes dans une array 2D\n",
        "\n",
        "Ici encore, le parallèle avec ce que nous avons vu pour les listes est maintenu. Cependant pour les listes, nous avons traité cette partie seulement pour les listes à une seule dimension. Nous allons voir maintenant comment faire pour des arrays à deux dimensions. Les mêmes principes pourront être appliqués pour des listes de listes."
      ],
      "metadata": {
        "id": "1xufu-fN4SJG"
      }
    },
    {
      "cell_type": "markdown",
      "source": [
        "### Accéder à une ligne\n",
        "\n",
        "Supposons que l'on veuille avoir accès à la deuxième ligne de l'array `c`. Cela revient à accéder à toutes les colonnes de la deuxième ligne de `c`. Comme on l'a vu pour les listes, tous les éléments correspond au symbole :"
      ],
      "metadata": {
        "id": "sI77VgNE2m6G"
      }
    },
    {
      "cell_type": "code",
      "source": [
        "c = array([[1,2,3],[4,5,6]]) \n",
        "print(c[1,:])"
      ],
      "metadata": {
        "colab": {
          "base_uri": "https://localhost:8080/"
        },
        "id": "cg6SKFTE3WIF",
        "outputId": "f3015c33-ca52-4d28-8e02-0c60eeb4273c"
      },
      "execution_count": 22,
      "outputs": [
        {
          "output_type": "stream",
          "name": "stdout",
          "text": [
            "[4 5 6]\n"
          ]
        }
      ]
    },
    {
      "cell_type": "markdown",
      "source": [
        "### Accéder à une colonne\n",
        "\n",
        "De même la même manière si on veut accéder, mettons à la deuxième colonne, cela revient à prendre toutes les lignes de la deuxième colonne. On utilise donc le même formalisme mais cette fois, c'est le premier indice qui prend le symbole \\:"
      ],
      "metadata": {
        "id": "mpkEuUDO3zad"
      }
    },
    {
      "cell_type": "code",
      "source": [
        "print(c[:,1])"
      ],
      "metadata": {
        "colab": {
          "base_uri": "https://localhost:8080/"
        },
        "id": "yh_ooLYI5rGm",
        "outputId": "a2b81474-943d-4b8f-aa3c-055f93caba56"
      },
      "execution_count": 23,
      "outputs": [
        {
          "output_type": "stream",
          "name": "stdout",
          "text": [
            "[2 5]\n"
          ]
        }
      ]
    },
    {
      "cell_type": "markdown",
      "source": [
        "on remarque que python ne retient pas la forme de colonne ! Pour python, cette colonne n'a qu'une seule dimension et l'affichage se fait comme pour tout élément à une seule dimension."
      ],
      "metadata": {
        "id": "V01650sC505u"
      }
    }
  ]
}