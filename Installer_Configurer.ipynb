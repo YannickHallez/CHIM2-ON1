{
  "nbformat": 4,
  "nbformat_minor": 0,
  "metadata": {
    "colab": {
      "name": "Installer_Configurer.ipynb",
      "provenance": [],
      "collapsed_sections": [],
      "authorship_tag": "ABX9TyPE3tVH7eb/zQXawhzeocs0",
      "include_colab_link": true
    },
    "kernelspec": {
      "name": "python3",
      "display_name": "Python 3"
    },
    "language_info": {
      "name": "python"
    }
  },
  "cells": [
    {
      "cell_type": "markdown",
      "metadata": {
        "id": "view-in-github",
        "colab_type": "text"
      },
      "source": [
        "<a href=\"https://colab.research.google.com/github/YannickHallez/CHIM2-ON1/blob/main/Installer_Configurer.ipynb\" target=\"_parent\"><img src=\"https://colab.research.google.com/assets/colab-badge.svg\" alt=\"Open In Colab\"/></a>"
      ]
    },
    {
      "cell_type": "markdown",
      "source": [
        "# Installer python et configurer son environnement\n",
        "\n",
        "## Prérequis\n",
        "\n",
        "Avoir suivi l'introduction à Python. \n",
        "\n",
        "## Compétences \n",
        "\n",
        "1. Installer une distribution Python.\n",
        "2. Configurer son environnement de travail pour la science.\n",
        "\n",
        "## Objectifs \n",
        "\n",
        "1. Acquérir les compétences ci-dessus.\n",
        "2. Disposer d'un environnement de travail fonctionnel pour la suite du cours.\n",
        "\n",
        "## Contenu de la vidéo \n",
        "\n",
        "### Installation d'une distribution Python \n",
        "\n",
        "Python est juste un langage. Pour l'utiliser, il faut aussi disposer d'un éditeur de texte pour écrire les programmes, voire d'une interface graphique qui vous aidera dans cette tâche (IDE), des modules scientifiques qui vous seront utiles, et bien d'autres choses encore. Il est possible de tout installer manuellement, mais heureusement, ils est aussi possible de tout installer en une seule fois grâce aux distributions Python. C'est la solutions que nous recommandons. \n",
        "\n",
        "La distribution la plus répandue, avec une très bonne version gratuite, est Anaconda. Pour l'installer, téléchargez la dernière version avec Python version >3 correspondant à votre système : [ici](https://www.anaconda.com/products/distribution), et installez-là. Pour Windows et MacOS, il suffit de cliquer sur l'installateur. Pour Linux, c'est un peu plus long : suivez la vidéo associée à ce document. Enfin, pour Chrome OS, allez dans les paramètres système et cochez l'option \"activer Linux\", puis suivez la procédure d'installation pour Linux. Attention, il est recommandé de laisser le répertoire d'installation qui vous est proposé par défaut et d'éviter les répertoires d'installation contenant des caractères spéciaux (y compris des espaces). Ca peut prendre pas mal de temps... Il faut bien laisser faire faire jusqu'au bout pour éviter les ennuis. \n",
        "\n",
        "\n",
        "\n",
        "\n",
        "\n",
        "\n"
      ],
      "metadata": {
        "id": "fekg8ZsUfkQq"
      }
    }
  ]
}