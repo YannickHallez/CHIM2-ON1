{
  "nbformat": 4,
  "nbformat_minor": 0,
  "metadata": {
    "colab": {
      "name": "Installer_Configurer.ipynb",
      "provenance": [],
      "collapsed_sections": [],
      "authorship_tag": "ABX9TyM2Pb1iBrEUDiYscZD+btv2"
    },
    "kernelspec": {
      "name": "python3",
      "display_name": "Python 3"
    },
    "language_info": {
      "name": "python"
    }
  },
  "cells": [
    {
      "cell_type": "markdown",
      "source": [
        "# Installer python et configurer son environnement\n",
        "\n",
        "## Prérequis\n",
        "\n",
        "Avoir suivi l'introduction à Python. \n",
        "\n",
        "## Compétences \n",
        "\n",
        "1. Installer une distribution Python.\n",
        "2. Configurer son environnement de travail pour la science.\n",
        "\n",
        "## Objectifs \n",
        "\n",
        "1. Acquérir les compétences ci-dessus.\n",
        "2. Disposer d'un environnement de travail fonctionnel pour la suite du cours.\n",
        "\n",
        "## Contenu de la vidéo \n",
        "\n",
        "### Installation d'une distribution Python \n",
        "\n",
        "Python est juste un langage. Pour l'utiliser, il faut aussi disposer d'un éditeur de texte pour écrire les programmes, voire d'une interface graphique qui vous aidera dans cette tâche (IDE), des modules scientifiques qui vous seront utiles, et bien d'autres choses encore. Il est possible de tout installer manuellement, mais heureusement, ils est aussi possible de tout installer en une seule fois grâce aux distributions Python. C'est la solutions que nous recommandons. \n",
        "\n",
        "La distribution la plus répandue, avec une très bonne version gratuite, est Anaconda. Pour l'installer, téléchargez la dernière version correspondant à votre système : [ici](https://www.anaconda.com/products/distribution), et installez-là. Attention, il est recommandé de laisser le répertoire d'installation qui vous est proposé par défaut et d'éviter les répertoires d'installation contenant des caractères spéciaux (y compris des espaces). Ca peut prendre pas mal de temps... Il faut bien laisser faire faire jusqu'au bout pour éviter les ennuis. \n",
        "\n",
        "\n",
        "\n",
        "\n",
        "\n",
        "\n"
      ],
      "metadata": {
        "id": "fekg8ZsUfkQq"
      }
    }
  ]
}