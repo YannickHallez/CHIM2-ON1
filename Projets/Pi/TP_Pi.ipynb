{
 "cells": [
  {
   "cell_type": "code",
   "execution_count": null,
   "id": "b61513f3",
   "metadata": {},
   "outputs": [],
   "source": [
    "# Import de la librairie Numpy pour les opérations sur les array\n",
    "import numpy as np\n",
    "\n",
    "# Import de la librairies matplotlib pour animer les résultats\n",
    "import matplotlib.pyplot as plt \n",
    "import matplotlib as mpl\n",
    "from matplotlib.animation import FuncAnimation\n",
    "from matplotlib.patches import Rectangle\n",
    "\n",
    "# Permet d'avoir des plot interactifs sur Jupyter\n",
    "%matplotlib widget\n",
    "\n",
    "# Redéfinition des couleurs par défaut de matplotlib\n",
    "from cycler import cycler  \n",
    "\n",
    "red    = \"#B77673\"\n",
    "green  = \"#73B798\"\n",
    "blue   = \"#7673B7\"\n",
    "orange = \"#FFB247\"\n",
    "purple = \"#B19CD9\"\n",
    "brown  = \"#B1907F\"\n",
    "pink   = \"#F0B6D5\"\n",
    "gray   = \"#CCCCC4\"\n",
    "yellow = \"#FBF38A\"\n",
    "\n",
    "mpl.rcParams['font.size'] = 20\n",
    "mpl.rcParams['axes.prop_cycle'] = cycler('color', [blue, red, green, orange, purple, pink, brown, gray, yellow])"
   ]
  },
  {
   "cell_type": "markdown",
   "id": "aa831058",
   "metadata": {},
   "source": [
    "# Calcul de Pi\n",
    "\n",
    "L'aire d'un cercle de rayon $r$ se calcula par la formule $A = \\pi r^2$. Si le rayon d'un cercle est 1 unité, son aire est donc égale à $\\pi$ (unité$^2$). \n",
    "\n",
    "En utilisant cette connaissance, il est possible de calculer pi de plusieurs façons différentes. Trois de ces façons seront abordées dans ce TP \n",
    "\n",
    "- Le calcul de l'aire d'un demi-cercle par la méthode de Riemann\n",
    "- L'encadrement par les aires de polygones réguliers\n",
    "- Le calcul probabiliste (Monte Carlo) "
   ]
  },
  {
   "cell_type": "markdown",
   "id": "07c28d4a",
   "metadata": {
    "tags": []
   },
   "source": [
    "# Approximation de $\\pi$ par calcul d'une intégrale"
   ]
  },
  {
   "cell_type": "markdown",
   "id": "3fea5388",
   "metadata": {},
   "source": [
    "L'aire d'un demi-cercle centré en (0, 0) et de rayon 1 vaut $\\frac{\\pi}{2}$, et peut se calculer comme une intégrale en utilisant l'équation du cercle $x^2 + y^2 = 1$ \n",
    "\n",
    "$$ \\int_{-1}^{1} \\sqrt{1 - x^2} \\text{d} x = \\frac{\\pi}{2}$$\n",
    "\n",
    "L'objectif de cette partie est de calculer cette intégrale entre 0 et 1 de deux façons différentes afin d'évaluer $\\pi$\n",
    "\n",
    "**Écrire une fonction qui, pour une valeur de x, donne la valeur de y > 0 telle que le point (x,y) soit situé sur le cercle de rayon 1 centré en (0, 0)**"
   ]
  },
  {
   "cell_type": "code",
   "execution_count": null,
   "id": "a75d85ef",
   "metadata": {},
   "outputs": [],
   "source": []
  },
  {
   "cell_type": "markdown",
   "id": "8702f463",
   "metadata": {},
   "source": [
    "## Première approche : somme d'aires de rectangles"
   ]
  },
  {
   "cell_type": "markdown",
   "id": "f7483a7c",
   "metadata": {},
   "source": [
    "Dans un premier temps, nous allons approximer que l'intégrale peut se découper en une somme d'aire de rectangles \n",
    "\n",
    "$$ \\int_{a}^{b} f(x) \\text{d}x \\approx (b-a) f(a)  $$\n",
    "\n",
    "Plus l'intervalle $[a,b]$ est petite, plus cette approximation sera valable\n",
    "\n",
    "**Écrire une fonction qui, pour un nombre N d'intervalles entre -1 et 1, donne la valeur approximée de l'aire du cercle**"
   ]
  },
  {
   "cell_type": "code",
   "execution_count": null,
   "id": "9e0e47fb",
   "metadata": {},
   "outputs": [],
   "source": []
  },
  {
   "cell_type": "markdown",
   "id": "17c6de48",
   "metadata": {},
   "source": [
    "**Pour différents nombres d'intervalles, calculer la valeur approximée de $\\pi$ et afficher un graphique représentant l'évolution de l'erreur de calcul en fonction du nombre d'intervalles**"
   ]
  },
  {
   "cell_type": "code",
   "execution_count": null,
   "id": "00895236",
   "metadata": {},
   "outputs": [],
   "source": []
  },
  {
   "cell_type": "markdown",
   "id": "6c3a586b",
   "metadata": {},
   "source": [
    "Dans un second temps, nous allons approximer que l'intégrale peut se découper en une somme d'aire de trapèzes \n",
    "\n",
    "$$ \\int_{a}^{b} f(x) \\text{d}x \\approx (b-a) \\frac{f(a)+f(b)}{2}  $$\n",
    "\n",
    "Plus l'intervalle $[a,b]$ est petite, plus cette approximation sera valable\n",
    "\n",
    "**Écrire une fonction qui, pour un nombre N d'intervalles entre -1 et 1, donne la valeur approximée de l'aire du cercle**"
   ]
  },
  {
   "cell_type": "code",
   "execution_count": null,
   "id": "29d01afa",
   "metadata": {},
   "outputs": [],
   "source": []
  },
  {
   "cell_type": "markdown",
   "id": "3d5ebda9",
   "metadata": {},
   "source": [
    "**Pour différents nombres d'intervalles, calculer la valeur approximée de $\\pi$ et afficher un graphique représentant l'évolution de l'erreur de calcul en fonction du nombre d'intervalles**"
   ]
  },
  {
   "cell_type": "code",
   "execution_count": null,
   "id": "ef23e170",
   "metadata": {},
   "outputs": [],
   "source": []
  },
  {
   "cell_type": "markdown",
   "id": "f233f6a3",
   "metadata": {},
   "source": [
    "**Sur un même graphique, représenter l'évolution des erreurs pour les deux méthodes précédentes, commenter**"
   ]
  },
  {
   "cell_type": "code",
   "execution_count": null,
   "id": "f0e2e752",
   "metadata": {},
   "outputs": [],
   "source": []
  },
  {
   "cell_type": "markdown",
   "id": "6245a834",
   "metadata": {},
   "source": [
    "# Encadrement de $\\pi$ par encadrement d'aires de polygones"
   ]
  },
  {
   "cell_type": "markdown",
   "id": "9dab3589",
   "metadata": {},
   "source": [
    "## Polygone inscrit"
   ]
  },
  {
   "cell_type": "markdown",
   "id": "2f951cca",
   "metadata": {},
   "source": [
    "\n",
    "Commençons par le calcul des coordonnées des sommets d'un polygone régulier de $n$ côtés. Il s'agit de déterminer un ensemble de $n$ points séparés d'une distance angulaire équivalente placés sur le cercle unitaire. Pour des raisons pratiques, on choisira le premier point pour un angle de $\\theta = -\\frac{\\pi}{2}$ \n",
    "\n",
    "$$ \\left\\{\\begin{split}\n",
    " x_n &= \\cos \\left( n \\frac{2\\pi}{N} - \\frac{\\pi}{2} \\right) \\\\\n",
    " y_n &= \\sin \\left( n \\frac{2\\pi}{N} - \\frac{\\pi}{2} \\right) \\\\ \n",
    "\\end{split}\\right. $$\n",
    "\n",
    "**Écrire une fonction permettant de calculer les positions des sommets d'un polygone régulier inscrit au cercle unité d'un nombre arbitraire de côtés**"
   ]
  },
  {
   "cell_type": "code",
   "execution_count": null,
   "id": "c652c577",
   "metadata": {},
   "outputs": [],
   "source": []
  },
  {
   "cell_type": "markdown",
   "id": "9897ee78",
   "metadata": {},
   "source": [
    "## Polygone exinscrit"
   ]
  },
  {
   "cell_type": "markdown",
   "id": "1d00c505",
   "metadata": {},
   "source": [
    "Le calcul des coordonnées des sommets du polygone exinscrit est légèrement plus complexe. Chaque sommet du polygone inscrit dans le cercle est situé au centre d'une arrête du polygone encadrant le cercle. De plus, cette arrête est perpendiculaire au segment reliant le centre du cercle au point du polygone inscrit. Les arrêtes du polygones contenant le cercle sont donc situées sur une droite d'équation cartésienne\n",
    "\n",
    "$$ - x_n \\cdot x - y_n \\cdot y + ( x_n^2 + y_n^2)  = 0$$\n",
    "\n",
    "Les sommets du polygone contenant le cercle sont situés aux intersections de ces diverses droites, il est donc possible de trouver leurs coordonnées \n",
    "\n",
    "$$ \\left\\{ \\begin{split}\n",
    "X_n &= \\frac{ -y_n \\cdot ( x_{n+1}^2 + y_{n+1}^2 ) - y_{n+1} \\cdot ( x_n^2 + y_n^2 ) }{ x_n \\cdot y_{n+1} - x_{n+1} \\cdot y_n} \\\\\n",
    "Y_n &= \\frac{ x_{n+1} \\cdot ( x_{n}^2 + y_{n}^2 ) - x_{n} \\cdot ( x_{n+1}^2 + y_{n+1}^2 ) }{ x_n \\cdot y_{n+1} - x_{n+1} \\cdot y_n} \\\\\n",
    "\\end{split}\\right. $$ \n",
    "\n",
    "Ce qui peut se simplifier \n",
    "\n",
    "$$ \\left\\{ \\begin{split}\n",
    "X_n &= \\frac{ -y_n + y_{n+1}  }{ x_n \\cdot y_{n+1} - x_{n+1} \\cdot y_n} \\\\\n",
    "Y_n &= \\frac{ x_{n} - x_{n+1}  }{ x_n \\cdot y_{n+1} - x_{n+1} \\cdot y_n} \\\\\n",
    "\\end{split}\\right. $$\n",
    "\n",
    "**Écrire une fonction permettant de calculer les positions des sommets d'un polygone régulier exinscrit au cercle unité d'un nombre arbitraire de côtés**"
   ]
  },
  {
   "cell_type": "code",
   "execution_count": null,
   "id": "460e93cb",
   "metadata": {},
   "outputs": [],
   "source": []
  },
  {
   "cell_type": "markdown",
   "id": "b24956f1",
   "metadata": {},
   "source": [
    "## Calcul de l'aire d'un polygone régulier"
   ]
  },
  {
   "cell_type": "markdown",
   "id": "e9383430",
   "metadata": {},
   "source": [
    "Le calcul de l'aire d'un polygone régulier peut s'effectuer simplement en connaissant son périmètre ($p$) et son apothème ($a$)\n",
    "\n",
    "$$ A = \\frac{p \\cdot a}{2} $$\n",
    "\n",
    "L'apothée se calcule simplement \n",
    "\n",
    "$$a_N = \\frac{l_n}{2 \\cdot \\tan \\left( \\frac{2\\pi}{N} \\right)} $$\n",
    "\n",
    "Où $l_n$ est la longueur d'un des côtés"
   ]
  },
  {
   "cell_type": "code",
   "execution_count": null,
   "id": "856ea709",
   "metadata": {},
   "outputs": [],
   "source": [
    "def aire(sommets):    \n",
    "    segment = np.sqrt( (sommets[0,0]-sommets[1,0])**2 + (sommets[0,1]-sommets[1,1])**2 )\n",
    "    \n",
    "    perimetre = sommets.shape[0] * segment\n",
    "    apotheme  = segment / ( 2 * np.tan( np.pi / sommets.shape[0] ) )\n",
    "    \n",
    "    return perimetre * apotheme / 2"
   ]
  },
  {
   "cell_type": "markdown",
   "id": "ce3839a5",
   "metadata": {},
   "source": [
    "## Encadrement de $\\pi$"
   ]
  },
  {
   "cell_type": "markdown",
   "id": "53ed99fe",
   "metadata": {},
   "source": [
    "**Pour différentes nombres de côtés, calculer un encadrement pour $\\pi$, puis afficher un graphique représentant l'évolution de cet encadrement en fonction du nombre de côtés**"
   ]
  },
  {
   "cell_type": "code",
   "execution_count": null,
   "id": "220beaa3",
   "metadata": {},
   "outputs": [],
   "source": []
  },
  {
   "cell_type": "markdown",
   "id": "d64457b8",
   "metadata": {},
   "source": [
    "# Méthode de Monte Carlo"
   ]
  },
  {
   "cell_type": "markdown",
   "id": "29504c61",
   "metadata": {},
   "source": [
    "La méthode de Monte Carlo est une méthode utilisée pour calculer $\\pi$ utilisant des probabilités et un tirage aléatoire (d'où le nom Monte Carlo, en référence au casino de Monaco)\n",
    "\n",
    "L'idée de cette méthode est simple imaginons le quart d'un cercle de rayon 1, centré en (0, 0), ainsi qu'un carré de côté 1 dont le coin inférieur gauche se situe en (0, 0) tel que le quart de cercle soit intégralement compris dans le carré\n",
    "\n",
    "Maintenant, imaginons que l'on lance une aiguille à coudre sur ce dessin. Il y a trois cas de figure possibles \n",
    "- La pointe de l'aiguille se situe à l'intérieur du quart de cercle\n",
    "- La pointe de l'aiguille se situe à l'extérieur du quart de cercle mais dans le carré\n",
    "- La pointe de l'aiguille se situe à l'extérieur du carré\n",
    "\n",
    "Nous nous intéresseront seulement aux cas pour numéro 1 et 2, c'est-à-dire aux cas ou la pointe de l'aiguille se situe à l'intérieur du carré. Parmis tous ces tirages, la probabilité que l'aiguille soit dans le carré est donc égale à 1 \n",
    "\n",
    "$$p(\\text{dans le carré}) = 1 $$\n",
    "\n",
    "Quelle est la probabilité que l'aiguille se situe dans le cercle ? En supposant que la position de l'aiguille soit purement due au hasard, il s'agit simplement du rapport de l'aire du quart de cercle divisé par l'aire du carré \n",
    "\n",
    "$$p(\\text{dans le quart de cercle}) = \\frac{\\pi}{4} $$\n",
    "\n",
    "Maintenant, si nous lançons un grand nombre d'aiguilles, le rapport entre le nombre d'aiguilles dont la pointe est dans le quart de cercle par le nombre d'aiguilles dont la pointe est dans le carré nous donne donc une estimation de pi\n",
    "\n",
    "$$\\frac{\\#\\text{dans le quart de cercle}}{\\#\\text{dans le carré}} \\approx \\frac{\\pi}{4} $$\n",
    "\n",
    "---\n",
    "**Écrire une fonction qui, donné un point (ou une liste de points) de coordonnées (x,y), renvoie un booléen True si il se situe dans le quart de cercle, False sinon**"
   ]
  },
  {
   "cell_type": "code",
   "execution_count": null,
   "id": "190fd481",
   "metadata": {},
   "outputs": [],
   "source": []
  },
  {
   "cell_type": "markdown",
   "id": "04da7b37",
   "metadata": {},
   "source": [
    "## Différentes définitions de l'aléatoire "
   ]
  },
  {
   "cell_type": "markdown",
   "id": "6b9b0746",
   "metadata": {},
   "source": [
    "L'aléatoire étant un élément central de ce calcul de $\\pi$, il est crucial de correctement l'utiliser. Pour cela, nous allons utiliser les fonctions du module numpy.random.\n",
    "\n",
    "Il existe un grand nombre de distributions dans ce module, nous allons ici comparer les distributions **uniform**, **normal** et **logistic**\n",
    "\n",
    "**Générer pour ces 3 différentes distributions un grand nombre de points aléatoirement choisis, puis afficher un histogramme de la distribution pour chacune de ces distributions, utiliser ces histogrammes pour déterminer laquelle de ces 3 distributions est la plus appropriée pour notre calcul**"
   ]
  },
  {
   "cell_type": "code",
   "execution_count": null,
   "id": "352e83f5",
   "metadata": {},
   "outputs": [],
   "source": []
  },
  {
   "cell_type": "markdown",
   "id": "a79c6cc4",
   "metadata": {},
   "source": [
    "**Maintenant que la distribution est choisis, écrire un fonction qui prend en entrée un nombre de tirages à effectuer, génére ce nombre de points aléatoires et calcule une estimation de $\\pi$**"
   ]
  },
  {
   "cell_type": "code",
   "execution_count": null,
   "id": "9e88cde9",
   "metadata": {},
   "outputs": [],
   "source": []
  },
  {
   "cell_type": "markdown",
   "id": "6ece5544",
   "metadata": {},
   "source": [
    "**Calculer une approximation de $\\pi$ pour différents nombres de tirages et afficher l'erreur effectuée sur sur un graphique. Cette méthode produit-elle des résultats fiables ?**"
   ]
  },
  {
   "cell_type": "code",
   "execution_count": null,
   "id": "4f2d2b2f",
   "metadata": {},
   "outputs": [],
   "source": []
  },
  {
   "cell_type": "markdown",
   "id": "0ae37034",
   "metadata": {},
   "source": [
    "**Pour un même nombre de points, effectuer plusieurs calculs de $\\pi$, qu'observe-t-on ? Que pourrait-on faire pour avoir une meilleure idée de la réelle valeur ?**"
   ]
  },
  {
   "cell_type": "code",
   "execution_count": null,
   "id": "7e51de49",
   "metadata": {},
   "outputs": [],
   "source": []
  }
 ],
 "metadata": {
  "kernelspec": {
   "display_name": "Python 3 (ipykernel)",
   "language": "python",
   "name": "python3"
  },
  "language_info": {
   "codemirror_mode": {
    "name": "ipython",
    "version": 3
   },
   "file_extension": ".py",
   "mimetype": "text/x-python",
   "name": "python",
   "nbconvert_exporter": "python",
   "pygments_lexer": "ipython3",
   "version": "3.7.15"
  }
 },
 "nbformat": 4,
 "nbformat_minor": 5
}
