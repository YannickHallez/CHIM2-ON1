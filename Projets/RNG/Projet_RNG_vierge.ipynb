{
 "cells": [
  {
   "cell_type": "markdown",
   "id": "45a7d97e",
   "metadata": {},
   "source": [
    "# Générateurs de nombres aléatoires et méthodes de Monte Carlo"
   ]
  },
  {
   "cell_type": "markdown",
   "id": "931240fc",
   "metadata": {},
   "source": [
    "## Concept et définitions"
   ]
  },
  {
   "cell_type": "markdown",
   "id": "1db2e87c",
   "metadata": {},
   "source": [
    "En chimie, comme en d'autres disciplines, les simulations sont un outil indispensable à l'analyse, au calcul et à la prédiction. Dans beaucoup de cas, remonter aux valeurs recherchées constitue un véritable défi. Une solution qui peut être particulièrement performante est l'utilisation des méthodes stochastiques, c'est-à-dire des méthodes basées sur des nombres aléatoires.\n",
    "\n",
    "- __Séquence de nombres aléatoires:__ une série de nombres générés au hasard. Aucun lien défini mathimatiquement n'existe entre un tel nombre et les nombres générés précédemment dans la même série.\n",
    "\n",
    "\n",
    "- __Générateur de nombres aléatoires (RNG: Random Number Generator):__ un dispositif qui sert à générer des nombres aléatoires. Dans le cas de ce projet, cela sera une relation mathématique qui génére un nombre à partir du nombre précédent. Ainsi, nous pourrions utiliser le terme nombres \"pseudo-aléatoires\" vu qu'il existe un lien entre eux, mais pour la suite de ce projet nous y référons comme nombres aléatoires.\n",
    "\n",
    "\n",
    "- __Seed:__ le nombre qui initialise un RNG.\n",
    "\n",
    "\n",
    "- __Période:__ le nombre de nombres générés par le RNG jusqu'à répétition d'un nombre généré avant dans la même séquence.\n",
    "\n",
    "\n",
    "- __Corrélation:__ la relation/dépendance entre deux nombres aléatoires succéssifs."
   ]
  },
  {
   "cell_type": "markdown",
   "id": "e80e8c40",
   "metadata": {},
   "source": [
    "### Création d'un RNG de type générateur congruentiel linéaire (LC-RNG)\n",
    "\n",
    "\n",
    "__a.__ Dans cette première partie on se propose de produire une séquence de nombres aléatoires qui suit la relation:\n",
    "\n",
    "$$X_{n+1} = (kX_n+l) \\quad mod\\quad m $$\n",
    "\n",
    "Nous allons étudier quatre cas différents:\n",
    "\n",
    "1. k=899, l=0, m=32768\n",
    "\n",
    "\n",
    "2. k=899, l=0, m=32771\n",
    "\n",
    "\n",
    "3. k=895, l=0, m=32768\n",
    "\n",
    "\n",
    "4. k=16807, l=0, m=6075\n",
    "\n",
    "Le seed sera choisi arbitrairement $ X_0=12. $\n",
    "\n",
    "__b.__ Dans chaque cas, nous allons trouver la période, le nombre qui se répéte ainsi que les indices de la première et de la deuxième fois que ce nombre apparait.\n",
    "\n",
    "_Mot-clé potentiellement utile:_  `break` ."
   ]
  },
  {
   "cell_type": "code",
   "execution_count": null,
   "id": "4c4283d3",
   "metadata": {},
   "outputs": [],
   "source": []
  },
  {
   "cell_type": "markdown",
   "id": "1b6847ae",
   "metadata": {},
   "source": [
    "__c.__ Valider la fiabilité du code en vériafiant qu'il n'y a pas d'autres répétitions avant celle donnée dans la question précédente. \n",
    "_Astuce:_ Chercher et trouver une fonction python qui trouve les doublons dans une liste."
   ]
  },
  {
   "cell_type": "code",
   "execution_count": null,
   "id": "e40136b5",
   "metadata": {},
   "outputs": [],
   "source": []
  },
  {
   "cell_type": "markdown",
   "id": "f056ace4",
   "metadata": {},
   "source": [
    "__d.__ Représenter graphiquement la correlation de chacun des cas en traçant $ X_{n+1}=f(X_n) $."
   ]
  },
  {
   "cell_type": "code",
   "execution_count": null,
   "id": "2ded354f",
   "metadata": {},
   "outputs": [],
   "source": []
  },
  {
   "cell_type": "markdown",
   "id": "246be317",
   "metadata": {},
   "source": [
    "__e.__ Si tout va bien, les valeurs des nombres générés varient de 0 à quelques milles. <u> Sans regénérer des nombres</u>, appliquer une opération mathématique pour que ces nombres soient compris entre 0 et 1. Ensuite, tracer à nouveau les quatre graphiques comme précédemment, avec les nouvelles valeurs."
   ]
  },
  {
   "cell_type": "code",
   "execution_count": null,
   "id": "682309ca",
   "metadata": {},
   "outputs": [],
   "source": []
  },
  {
   "cell_type": "markdown",
   "id": "6fc2e87b",
   "metadata": {},
   "source": [
    "## Application en chimie: Dissociation d'un acide "
   ]
  },
  {
   "cell_type": "markdown",
   "id": "61deb909",
   "metadata": {},
   "source": [
    "### Méthodes  de Monte-Carlo"
   ]
  },
  {
   "cell_type": "markdown",
   "id": "fba6edad",
   "metadata": {},
   "source": [
    "Les méthodes de Monte-Carlo (MC) sont utilisées afin de calculer approximativement une valeur, résultat d'un processus où l'élément de hasard est particulièrement présent. En d'autres mots, il s'agit d'une manière itérative d'utiliser un grand nombre des nombres aléatoires afin de remonter aux valeurs characteristiques des systèmes plus complexes. Dans cette partie, nous allons étudier un processus chimique: la dissociation d'un acide.  \n",
    "\n",
    "Chaque itération constitue une probabilité pour  le système (ici l'acide) de passer d'un état a (acide non-dissocié) à un état b (acide dissocié). Afin d'accepter ou pas la transition de a à b et _vice versa_ nous allons mettre en place un critère qui sera une expression mathématique. La transition sera acceptée seulement si la valeur correspondant au critère est supérieure au nombre aléatoire.\n",
    "\n",
    "Un acide va se dissocier selon\n",
    "$$ [HA] \\leftrightarrow [H^+] + [A^-] $$\n",
    "\n",
    "\n",
    "Nous souhaitons calculer la fraction de dissociation d'un acide de pKa=4.76 pour des pH de 1 à 8 par les méthodes de MC. Nous pouvons utiliser le RNG le plus performant parmi les quatre créés dans la première partie.\n",
    "\n",
    "Le critère à utiliser dans ce cas sera le suivant:\n",
    "\n",
    "- transition de a à b: $ e^{(ph-pKa)log(10)} $\n",
    "- transition de b à a: $ e^{-(ph-pKa)log(10)} $\n",
    "\n",
    "Finalement, la fraction de dissociation sera donnée par le nombre de transitions acceptées (états b) divisé par le nombre d'itérations effectuées (nombre total d'états)."
   ]
  },
  {
   "cell_type": "markdown",
   "id": "3066da69",
   "metadata": {},
   "source": [
    "__a.__ Tracer la fraction en fonction du pH."
   ]
  },
  {
   "cell_type": "code",
   "execution_count": null,
   "id": "cff31fce",
   "metadata": {},
   "outputs": [],
   "source": []
  },
  {
   "cell_type": "markdown",
   "id": "b6fd1bb4",
   "metadata": {},
   "source": [
    "__b.__ Maintenant répéter le processus, cette fois-ci en utilisant le RNG de python. Tracer la fraction en fonction du pH."
   ]
  },
  {
   "cell_type": "code",
   "execution_count": null,
   "id": "82df72ef",
   "metadata": {},
   "outputs": [],
   "source": []
  },
  {
   "cell_type": "markdown",
   "id": "7d15dd09",
   "metadata": {},
   "source": [
    "__c.__ Comparer avec les valeurs analytiques données par l'expression\n",
    "\n",
    "$$ fraction=\\frac{1}{1+10^{(pKa-pH)}} $$"
   ]
  },
  {
   "cell_type": "code",
   "execution_count": null,
   "id": "bbdfcd1d",
   "metadata": {},
   "outputs": [],
   "source": []
  }
 ],
 "metadata": {
  "kernelspec": {
   "display_name": "Python 3 (ipykernel)",
   "language": "python",
   "name": "python3"
  },
  "language_info": {
   "codemirror_mode": {
    "name": "ipython",
    "version": 3
   },
   "file_extension": ".py",
   "mimetype": "text/x-python",
   "name": "python",
   "nbconvert_exporter": "python",
   "pygments_lexer": "ipython3",
   "version": "3.9.13"
  }
 },
 "nbformat": 4,
 "nbformat_minor": 5
}
