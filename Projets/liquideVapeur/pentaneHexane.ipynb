{
 "cells": [
  {
   "cell_type": "markdown",
   "id": "5ec7367c",
   "metadata": {},
   "source": [
    "# Etude de l'équilibre n-pentane/n-hexane\n",
    "\n",
    "\n",
    "## Lecture des données expérimentales de pression de vapeur saturante\n",
    "\n",
    "Le fichier dataP5H6.txt comprend 3 colonnes. La première contient des températures en °C. Les deux suivantes contiennent respectivement les pressions de vapeur saturante en mmHg du pentane et de l'hexane pour chaque température de la première colonne. Dans ce projet, vous n'avez pas à faire de conversion d'unités.\n",
    "\n",
    "1. Faire le nécessaire pour que le contenu de chaque colonne soit mis en mémoire dans des variables : Tdata, P5data et H6data.\n",
    "\n",
    "2. Tracer ces courbes expérimentales avec des étoiles rouges pour le pentane et des points bleus pour l'hexane. Légender proprement votre figure."
   ]
  },
  {
   "cell_type": "code",
   "execution_count": null,
   "id": "83eee0b9",
   "metadata": {},
   "outputs": [],
   "source": []
  },
  {
   "cell_type": "markdown",
   "id": "7ec08d80",
   "metadata": {},
   "source": [
    "## Ajustement des données expétimentales à un modèle\n",
    "\n",
    "Vous savez que la pression de vapeur saturante répond à des relations du type\n",
    "$$ \\mathrm{log}_{10}(P^{\\mathrm{sat}})=a-\\dfrac{b}{c+T} $$\n",
    "\n",
    "où $P^{\\mathrm{sat}}$ est la pression de vapeur saturante et $T$ la température. Les paramètres $a$, $b$ et $c$ dépendent du composé considéré.\n",
    "\n",
    "A partir des données expérimentales fournies, calculer les paramètres $a_5$, $b_5$ et $c_5$ correspondant au modèle pour le pentane et $a_6$, $b_6$ et $c_6$ correspondant au modèle pour l'hexane.\n",
    "Votre expérience d'expert en pression de vapeur saturante vous indique que de bonnes valeurs pour initialiser les processus de recherche des 3 paramètres sont 6, 100 et 250 respectivement pour $a$, $b$ et $c$.\n",
    "\n",
    "Afficher ces paramètres."
   ]
  },
  {
   "cell_type": "code",
   "execution_count": null,
   "id": "390444a7",
   "metadata": {},
   "outputs": [],
   "source": []
  },
  {
   "cell_type": "markdown",
   "id": "b20648fc",
   "metadata": {},
   "source": [
    "Tracer sur le même graphe, les données expérimentales et leur ajustement."
   ]
  },
  {
   "cell_type": "code",
   "execution_count": null,
   "id": "32dd7b30",
   "metadata": {},
   "outputs": [],
   "source": []
  },
  {
   "cell_type": "markdown",
   "id": "348d53f3",
   "metadata": {},
   "source": [
    "## Température d'ébullition d'un mélange équimolaire pentane/hexane à la pression atmosphérique\n",
    "\n",
    "Dans la suite de ce projet, nous considérerons un mélange liquide de pentane et hexane. Nous appelerons $x_5$ et $x_6$ les fractions molaires dans le mélange liquide repsectivement du pentane et de l'hexane.\n",
    "On notera que $x_5+x_6=1$\n",
    "\n",
    "Le but de cette partie est de déterminer la température d'ébullition d'un mélange équimolaire pentane/hexane.Pour un mélange équimolaire, on a $x_5=0.5$ et $x_6=0.5$. La température d'ébullition est celle pour laquelle on a:\n",
    "$$ P_{\\mathrm{total}}= x_5P^{\\mathrm{sat}}_5+x_6P^{\\mathrm{sat}}_6$$\n",
    "\n",
    "Dans le cas présent, $ P_{\\mathrm{total}}= 760 $ mmHg."
   ]
  },
  {
   "cell_type": "code",
   "execution_count": null,
   "id": "7fe4839d",
   "metadata": {},
   "outputs": [],
   "source": []
  },
  {
   "cell_type": "markdown",
   "id": "4d9b588c",
   "metadata": {},
   "source": [
    "En prenant 100 valeurs de $x_5$ comprises entre 0 et 1, tracer la température d'ébullition du mélange en fonction de $x_5$. Appeler TEbull la liste (ou tableau) contenant les valeurs de la température d'ébullition pour les valeurs de $x_5$"
   ]
  },
  {
   "cell_type": "code",
   "execution_count": null,
   "id": "2b4439d5",
   "metadata": {},
   "outputs": [],
   "source": []
  },
  {
   "cell_type": "markdown",
   "id": "a010273b",
   "metadata": {},
   "source": [
    "## Tracé de la fraction molaire en phase gaz en fonction de celle en phase liquide.\n",
    "\n",
    "Nous appelerons $y_5$ et $y_6$ les fractions molaires respectives du pentane et de l'hexane dans la phase gaz en équilibre avec le liquide de composition $x_5$ et $x_6$.\n",
    "On notera que $y_5+y_6=1$.\n",
    "Connaissant la température d'ébullition d'un mélange liquide de composition $x_5$ et $x_6$, on peut calculer la fraction molaire de pentane dans la phase gaz :\n",
    "$$ y_5=\\dfrac{x_5P^{\\mathrm{sat}}_5}{760}$$"
   ]
  },
  {
   "cell_type": "code",
   "execution_count": null,
   "id": "433b5cd0",
   "metadata": {},
   "outputs": [],
   "source": []
  },
  {
   "cell_type": "markdown",
   "id": "7f117271",
   "metadata": {},
   "source": [
    "# Tracé des courbes d'ébullition et de rosée\n",
    "\n",
    "On appelle courbe d'ébullition la courbe représentant la température d'ébullition en fonction de $x_5$.\n",
    "On appelle courbe de rosée la courbe donnant la température d'ébullition en fonction de $y_5$.\n",
    "Tracer le même graphe ces 2 courbes."
   ]
  },
  {
   "cell_type": "code",
   "execution_count": null,
   "id": "71734abd",
   "metadata": {},
   "outputs": [],
   "source": []
  },
  {
   "cell_type": "markdown",
   "id": "a489f819",
   "metadata": {},
   "source": [
    "# Trouver la fraction liquide en équilibre pour une composition donnée de la phase gaz.\n",
    "\n",
    "Connaissant la fraction $y_5=0.5$ dans la phase gaz, trouver la valeur de $x_5$ dans le mélange liquide en équilibre avec cette phase gaz.\n",
    "\n",
    "Aide : Vous pouvez commencer par trouver la température correspondant à l'ébullition du liquide conduisant à un gaz de fraction massique $y_5$ en remarquant que $x_5P^{\\mathrm{sat}}_5=y_5P_{\\mathrm{total}}$. Une fois, cette température connue, il n'y a plus qu'à chercher pour quelle valeur de $x_5$, l'équation $$ P_{\\mathrm{total}}= x_5P^{\\mathrm{sat}}_5+x_6P^{\\mathrm{sat}}_6$$ est vérifiée.\n",
    "\n"
   ]
  },
  {
   "cell_type": "code",
   "execution_count": null,
   "id": "ae4c22f1",
   "metadata": {},
   "outputs": [],
   "source": []
  },
  {
   "cell_type": "code",
   "execution_count": null,
   "id": "377a8403",
   "metadata": {},
   "outputs": [],
   "source": []
  }
 ],
 "metadata": {
  "kernelspec": {
   "display_name": "Python 3 (ipykernel)",
   "language": "python",
   "name": "python3"
  },
  "language_info": {
   "codemirror_mode": {
    "name": "ipython",
    "version": 3
   },
   "file_extension": ".py",
   "mimetype": "text/x-python",
   "name": "python",
   "nbconvert_exporter": "python",
   "pygments_lexer": "ipython3",
   "version": "3.9.13"
  }
 },
 "nbformat": 4,
 "nbformat_minor": 5
}
