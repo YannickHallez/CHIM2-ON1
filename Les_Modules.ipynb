{
  "cells": [
    {
      "cell_type": "markdown",
      "metadata": {
        "id": "view-in-github",
        "colab_type": "text"
      },
      "source": [
        "<a href=\"https://colab.research.google.com/github/YannickHallez/CHIM2-ON1/blob/main/Les_Modules.ipynb\" target=\"_parent\"><img src=\"https://colab.research.google.com/assets/colab-badge.svg\" alt=\"Open In Colab\"/></a>"
      ]
    },
    {
      "cell_type": "markdown",
      "metadata": {
        "id": "qwQMEf6qgDSG"
      },
      "source": [
        "# Les modules\n",
        "\n",
        "## Prérequis\n",
        "\n",
        "Avoir suivi l'introduction à Python et le cours sur les variables.  \n",
        "\n",
        "## Compétences \n",
        "\n",
        "1. Importer et utiliser des fonctions disponibles dans des modules spécialisés.  \n",
        "\n",
        "## Objectifs \n",
        "\n",
        "1. Acquérir les compétences ci-dessus.\n",
        "2. Connaître les modules les plus courants. \n",
        "\n",
        "\n",
        "## Contenu de la vidéo \n",
        "\n",
        "### Qu’est-ce qu’un module ?\n",
        "\n",
        "Un module est simplement un fichier contenant du code Python (extension \".py\") qui va pouvoir être utilisé dans un autre programme. Un module peut contenir des variables, des fonctions, et bien d'autres choses... Il existe des modules déjà disponibles, mais vous pouvez aussi créer les votres. Certains modules sont rangés à l'intérieur d'autres modules. \n",
        "\n",
        "Pour **charger un module**, c'est à dire pour rendre son contenu disponible pour utilisation, on utilise la commande `import NomDuModule`. Voici un exemple avec le module `numpy` qui contient des fonctions l'analyse numérique. "
      ]
    },
    {
      "cell_type": "code",
      "execution_count": 9,
      "metadata": {
        "id": "VtckDDdBgDSW"
      },
      "outputs": [],
      "source": [
        "import numpy"
      ]
    },
    {
      "cell_type": "markdown",
      "source": [
        "Maintenant que le module est chargé, on peut obtenir sa documentation avec la fonction `help()`, et voir quelles fonctions il contient (NB : on trouve la même chose en ligne). "
      ],
      "metadata": {
        "id": "OeCME4I61KvP"
      }
    },
    {
      "cell_type": "code",
      "source": [
        "help(numpy)"
      ],
      "metadata": {
        "id": "lNnkp5zB1Y0K"
      },
      "execution_count": null,
      "outputs": []
    },
    {
      "cell_type": "markdown",
      "source": [
        "Pour utiliser la fonction cosinus `cos()` qui est dans le module `numpy`, on tape  "
      ],
      "metadata": {
        "id": "Gyd53pIA17Il"
      }
    },
    {
      "cell_type": "code",
      "source": [
        "numpy.cos(1.2)"
      ],
      "metadata": {
        "colab": {
          "base_uri": "https://localhost:8080/"
        },
        "id": "joKsOJkn2djV",
        "outputId": "4492dd68-0405-48ad-8998-99a853f5d57c"
      },
      "execution_count": 13,
      "outputs": [
        {
          "output_type": "execute_result",
          "data": {
            "text/plain": [
              "0.3623577544766736"
            ]
          },
          "metadata": {},
          "execution_count": 13
        }
      ]
    },
    {
      "cell_type": "markdown",
      "source": [
        "Pour utiliser une fonction ou une variable qui se trouve dans un module, on tape d'abord le nom du module, puis un point, puis le nom de la fonction ou de la variable. \n",
        "\n",
        "Un autre exemple avec $\\pi$ :"
      ],
      "metadata": {
        "id": "kJuO8ypy521g"
      }
    },
    {
      "cell_type": "code",
      "source": [
        "numpy.pi"
      ],
      "metadata": {
        "colab": {
          "base_uri": "https://localhost:8080/"
        },
        "id": "afk79RbE6IIU",
        "outputId": "b447d807-3c94-42aa-98a4-06703549f9a6"
      },
      "execution_count": 14,
      "outputs": [
        {
          "output_type": "execute_result",
          "data": {
            "text/plain": [
              "3.141592653589793"
            ]
          },
          "metadata": {},
          "execution_count": 14
        }
      ]
    },
    {
      "cell_type": "markdown",
      "source": [
        "Ajouter le nom du module à chaque fois peut rendre l'écriture lourde. Par exemple pour $\\sin(\\pi/2)$ : "
      ],
      "metadata": {
        "id": "6Voj_isL6P4H"
      }
    },
    {
      "cell_type": "code",
      "source": [
        "numpy.sin(numpy.pi/2)"
      ],
      "metadata": {
        "colab": {
          "base_uri": "https://localhost:8080/"
        },
        "id": "hXDBML336ZmR",
        "outputId": "4734fdaa-f2ce-44d3-bfaf-9a294d144400"
      },
      "execution_count": 15,
      "outputs": [
        {
          "output_type": "execute_result",
          "data": {
            "text/plain": [
              "1.0"
            ]
          },
          "metadata": {},
          "execution_count": 15
        }
      ]
    },
    {
      "cell_type": "markdown",
      "source": [
        "Vous pouvez remplacer le nom du module par un autre nom de votre choix (un _alias_) grâce à la commande `import NomDuModule as NouveauNomDuModule`. Pour `numpy`, en général on utilise l'alias `np` : "
      ],
      "metadata": {
        "id": "KQkdkj2R6k3R"
      }
    },
    {
      "cell_type": "code",
      "source": [
        "import numpy as np\n",
        "np.sin(np.pi/2)"
      ],
      "metadata": {
        "colab": {
          "base_uri": "https://localhost:8080/"
        },
        "id": "21pqnkMl63Qg",
        "outputId": "d0387c27-6af3-4643-bedb-a4348ef1e62a"
      },
      "execution_count": 16,
      "outputs": [
        {
          "output_type": "execute_result",
          "data": {
            "text/plain": [
              "1.0"
            ]
          },
          "metadata": {},
          "execution_count": 16
        }
      ]
    },
    {
      "cell_type": "markdown",
      "source": [
        "Si on veut utiliser une/des fonction(s) ou une/des variable(s) en particulier plusieurs fois, on peut les charger spécifiquement grâce à la forme `from NomDuModule import NomDeLaFonction1, NomDeLaFonction2, NomDeLaVariable1`. Ainsi, elles sont disponibles directement dans l'environnement et il n'y a plus besoin d'invoquer le nom du module à chaque fois :  "
      ],
      "metadata": {
        "id": "FnJM3UN97V3-"
      }
    },
    {
      "cell_type": "code",
      "source": [
        "from numpy import sin, pi\n",
        "sin(pi/2)"
      ],
      "metadata": {
        "colab": {
          "base_uri": "https://localhost:8080/"
        },
        "id": "6FcQ3hnD7rRs",
        "outputId": "d06760ec-e6ad-40dd-8cdd-e9f6380b2ecd"
      },
      "execution_count": 19,
      "outputs": [
        {
          "output_type": "execute_result",
          "data": {
            "text/plain": [
              "1.0"
            ]
          },
          "metadata": {},
          "execution_count": 19
        }
      ]
    },
    {
      "cell_type": "markdown",
      "source": [
        "Enfin, il est possible de charger dans l'environnement standard tout le contenu d'un module grâce à la forme `from NomDuModule import *`. Dans l'exemple suivant, la fonction cosinus hyperbolique `cosh` est rendue disponible dans l'environnement car elle fait partie de `numpy` "
      ],
      "metadata": {
        "id": "x9WSGuhw8fbo"
      }
    },
    {
      "cell_type": "code",
      "source": [
        "from numpy import *\n",
        "cosh(2)"
      ],
      "metadata": {
        "colab": {
          "base_uri": "https://localhost:8080/"
        },
        "id": "iH8zwvQb8r-_",
        "outputId": "3f21e5b7-ec93-43a8-8e9f-1fb844d5a709"
      },
      "execution_count": 23,
      "outputs": [
        {
          "output_type": "execute_result",
          "data": {
            "text/plain": [
              "3.7621956910836314"
            ]
          },
          "metadata": {},
          "execution_count": 23
        }
      ]
    },
    {
      "cell_type": "markdown",
      "source": [
        "Bien que pratique, ce type d'importation peut constituer un danger car les fonctions chargées en dernier peuvent avoir le même nom que d'autres fonctions définies auparavant et les remplacer sans que vous ne vous en rendiez compte. Voici un exemple de problème qui peut arriver. Ici on anticipe un peu sur la suite avec l'utilisation de la fonction `linspace(a,b,n)` qui génère un tableau de `n` valeurs allant de `a` à `b`. "
      ],
      "metadata": {
        "id": "BdjN2EPa9jcw"
      }
    },
    {
      "cell_type": "code",
      "source": [
        "from numpy import linspace, cos\n",
        "tableau = linspace(0,1,10) \n",
        "print(\"Utilisation de la fonction cos du module numpy : \")\n",
        "print( cos(tableau) ) \n",
        "from math import * \n",
        "print(\"Utilisation malencontreuse de la fonction cos du module math : \")\n",
        "print( cos(tableau) )"
      ],
      "metadata": {
        "colab": {
          "base_uri": "https://localhost:8080/",
          "height": 293
        },
        "id": "vX9k6Evu9-Qm",
        "outputId": "eea49d42-a2e4-49ea-842c-78ea49a95123"
      },
      "execution_count": 29,
      "outputs": [
        {
          "output_type": "stream",
          "name": "stdout",
          "text": [
            "Utilisation de la fonction cos du module numpy : \n",
            "[1.         0.99383351 0.97541009 0.94495695 0.90284967 0.84960756\n",
            " 0.78588726 0.71247462 0.63027505 0.54030231]\n",
            "Utilisation malencontreuse de la fonction cos du module math : \n"
          ]
        },
        {
          "output_type": "error",
          "ename": "TypeError",
          "evalue": "ignored",
          "traceback": [
            "\u001b[0;31m---------------------------------------------------------------------------\u001b[0m",
            "\u001b[0;31mTypeError\u001b[0m                                 Traceback (most recent call last)",
            "\u001b[0;32m<ipython-input-29-0df0f3fcdd4c>\u001b[0m in \u001b[0;36m<module>\u001b[0;34m()\u001b[0m\n\u001b[1;32m      5\u001b[0m \u001b[0;32mfrom\u001b[0m \u001b[0mmath\u001b[0m \u001b[0;32mimport\u001b[0m \u001b[0;34m*\u001b[0m\u001b[0;34m\u001b[0m\u001b[0;34m\u001b[0m\u001b[0m\n\u001b[1;32m      6\u001b[0m \u001b[0mprint\u001b[0m\u001b[0;34m(\u001b[0m\u001b[0;34m\"Utilisation malencontreuse de la fonction cos du module math : \"\u001b[0m\u001b[0;34m)\u001b[0m\u001b[0;34m\u001b[0m\u001b[0;34m\u001b[0m\u001b[0m\n\u001b[0;32m----> 7\u001b[0;31m \u001b[0mprint\u001b[0m\u001b[0;34m(\u001b[0m \u001b[0mcos\u001b[0m\u001b[0;34m(\u001b[0m\u001b[0mtableau\u001b[0m\u001b[0;34m)\u001b[0m \u001b[0;34m)\u001b[0m\u001b[0;34m\u001b[0m\u001b[0;34m\u001b[0m\u001b[0m\n\u001b[0m",
            "\u001b[0;31mTypeError\u001b[0m: only size-1 arrays can be converted to Python scalars"
          ]
        }
      ]
    },
    {
      "cell_type": "markdown",
      "source": [
        "On voit d'abord que la fonction `cos` de `numpy` permet de calculer le cosinus de toutes les valeurs du tableau passé en argument. Ensuite, avec `from math import *`, on charge toutes les fonctions du module `math` et pas de chance, il y en a une qui s'appelle `cos` et qui a remplacé silencieusement la fonction `cos` chargée depuis `numpy`. Le problème est que la fonction `cos` du module `math` ne peut pas travailler avec des tableaux. \n",
        "\n",
        "Ce genre de conflits ne se produit pas si on s'astreint à laisser les fonctions dans leurs modules. Par exemple : "
      ],
      "metadata": {
        "id": "GUfsnyCXAbY4"
      }
    },
    {
      "cell_type": "code",
      "source": [
        "import numpy as np\n",
        "tableau = np.linspace(0,1,10) \n",
        "from math import * \n",
        "print( np.cos(tableau) ) "
      ],
      "metadata": {
        "colab": {
          "base_uri": "https://localhost:8080/"
        },
        "id": "MvD32fkvBgvL",
        "outputId": "9f02d9e9-9eb0-4288-888c-e8f471be3efc"
      },
      "execution_count": 30,
      "outputs": [
        {
          "output_type": "stream",
          "name": "stdout",
          "text": [
            "[1.         0.99383351 0.97541009 0.94495695 0.90284967 0.84960756\n",
            " 0.78588726 0.71247462 0.63027505 0.54030231]\n"
          ]
        }
      ]
    },
    {
      "cell_type": "markdown",
      "source": [
        "Ici, le `from math import *` a encore une fois chargé une fonction `cos` dans l'environnement, mais l'utilisation explicite de `np.cos` permet de spécifier qu'on veut la fonction de `numpy` et pas l'autre. \n",
        "\n",
        "De tels conflits sont toutefois assez rares et peuvent être débogués rapidement si on a conscience qu'ils peuvent exister. Aussi, dans ce cours nous utiliserons régulièrement `from pylab import *` qui permet de charger toutes les fonctions et variables des modules `numpy` et `matplotlib`. Dans des codes plus longs et difficiles à deboguer, cette pratique n'est pas recommandée. Il vaut mieux éviter les problèmes en gardant des noms de modules (ou alias) devant les fonctions. "
      ],
      "metadata": {
        "id": "t9a0KPnrByaB"
      }
    }
  ],
  "metadata": {
    "kernelspec": {
      "display_name": "Python 3",
      "language": "python",
      "name": "python3"
    },
    "language_info": {
      "codemirror_mode": {
        "name": "ipython",
        "version": 3
      },
      "file_extension": ".py",
      "mimetype": "text/x-python",
      "name": "python",
      "nbconvert_exporter": "python",
      "pygments_lexer": "ipython3",
      "version": "3.7.6"
    },
    "colab": {
      "name": "Les_Modules.ipynb",
      "provenance": [],
      "collapsed_sections": [],
      "include_colab_link": true
    }
  },
  "nbformat": 4,
  "nbformat_minor": 0
}