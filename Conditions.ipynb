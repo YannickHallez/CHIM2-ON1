{
  "nbformat": 4,
  "nbformat_minor": 0,
  "metadata": {
    "colab": {
      "name": "Conditions.ipynb",
      "provenance": [],
      "collapsed_sections": [],
      "include_colab_link": true
    },
    "kernelspec": {
      "name": "python3",
      "display_name": "Python 3"
    },
    "language_info": {
      "name": "python"
    }
  },
  "cells": [
    {
      "cell_type": "markdown",
      "metadata": {
        "id": "view-in-github",
        "colab_type": "text"
      },
      "source": [
        "<a href=\"https://colab.research.google.com/github/YannickHallez/CHIM2-ON1/blob/main/Conditions.ipynb\" target=\"_parent\"><img src=\"https://colab.research.google.com/assets/colab-badge.svg\" alt=\"Open In Colab\"/></a>"
      ]
    },
    {
      "cell_type": "markdown",
      "source": [
        "# Les structures conditionnelles\n",
        "\n",
        "## Prérequis\n",
        "\n",
        "- Introduction à Python\n",
        "- Les variables\n",
        "- Les tests\n",
        "\n",
        "## Compétences \n",
        "\n",
        "1. Ecrire des structures conditionnelles `if`. \n",
        "2. Ecrire des structures conditionnelles `if ... else`. \n",
        "2. Ecrire des structures conditionnelles `if ... elif ... else`. \n",
        "\n",
        "## Objectifs \n",
        "\n",
        "1. Acquérir les compétences ci-dessus.\n",
        "2. Ecrire des premiers programmes structurés avec des conditions.  \n",
        "\n",
        "## Contenu de la vidéo \n",
        "\n",
        "Il existe dans tous les languages de programmation des ensembles d'instructions (**bloc** ou **séquence**) qui vont vous permettre de contrôler le programme que vous souhaitez executer. On les appele les structures de contrôle. Les plus connues sont : \n",
        "  - les structures de contrôle conditionnelles : exécution d'un bloc de code **si une certaine condition est vérifiée**.\n",
        "  - les structures de contrôle de boucle : exécution d'un bloc de code plusieurs fois de suite. Cela peut être soit un **certain nombre de fois prédéfini**, soit **tant qu’une condition est vérifiée**.\n",
        "\n",
        "Dans ce cours, nous allons aborder les structures conditionnelles. "
      ],
      "metadata": {
        "id": "3PEzn9tomtuX"
      }
    },
    {
      "cell_type": "markdown",
      "source": [
        "### Les structures de contrôle conditionnelles\n",
        "\n",
        "Il existe 3 instructions qui peuvent être utilisé pour créer des structures de contrôle conditionnelles :\n",
        "  - `if`: signifie **si...**, c'est l'instruction de départ de la structure. Cette instruction `if` est **toujours présente**. \n",
        "  - `elif`, signifie **sinon, si...**, et permet d'introduire un second test après un premier `if` dont le résulat aurait été `False`. Cette instruction `elif` n'est pas obligatoire. Vous vous en servirez uniquement si nécessaire.    \n",
        "  - `else`: signifie **sinon**, et désigne le bloc de commandes qui seront exécutées si aucune condition précédente n'était vérifiée. Cette instruction `else` n'est pas obligatoire. Vous vous en servirez uniquement si nécessaire.\n",
        "\n",
        "Ces instructions sont très souvent utilisée avec des variables. L'idée étant de comparer la valeur d’une variable à une autre valeur et de dire : **si** cette variable a telle valeur alors faire ceci, **sinon** faire cela. \n",
        "\n",
        "Dans la suite, nous allons détailler l'utilisation de ces trois instructions. \n",
        "\n",
        "\n"
      ],
      "metadata": {
        "id": "yDSMHcbA07eW"
      }
    },
    {
      "cell_type": "markdown",
      "source": [
        "##### La conditionnelle `if`...\n",
        "\n",
        "Elle est utilisée pour éxécuter une séquence d'instructions, **si et seulement si** la condition est vraie.\n",
        "\n",
        "Pour une variable donnée, Python va évaluer la condition. Si le résultat est\n",
        "- `True`, le séquence est exécutée puis Python passe à la suite\n",
        "- `False`, Python passe à la suite sans exécuter la séquence.\n",
        "\n",
        "<!--\n",
        "<img src=\"content/CHIM2-ON1/images/algo1.JPG\" width=\"220\" height=\"250\"/>\n",
        "-->\n",
        "La syntaxe générale est :\n",
        "\n",
        "```\n",
        "if condition :\n",
        "    sequence\n",
        "```\n",
        "<!--\n",
        "<img src=\"https://drive.google.com/uc?id=133osBeWk1tPYkMOCwIMNP9o0QnHUBFZc\" width=\"30\" height=\"30\"/> \n",
        "-->\n",
        "ATTENTION ! N'oubliez pas le `:` à la fin de la ligne `if`.\n",
        "\n",
        "Voici un exemple simple qui n'utilise que l'instruction `if`. "
      ],
      "metadata": {
        "id": "hOmLrW2twNeF"
      }
    },
    {
      "cell_type": "code",
      "source": [
        "age = float(input(\"Entrez votre age :\"))\n",
        "if age >= 18 :\n",
        "  print(\"Vous pouvez conduire seul(e).\")"
      ],
      "metadata": {
        "id": "_uh4tqDI2Uj1",
        "colab": {
          "base_uri": "https://localhost:8080/"
        },
        "outputId": "4fc78530-89cc-43d8-efed-c9fb269a6c18"
      },
      "execution_count": null,
      "outputs": [
        {
          "name": "stdout",
          "output_type": "stream",
          "text": [
            "Entrez votre age :5\n"
          ]
        }
      ]
    },
    {
      "cell_type": "markdown",
      "source": [
        "Essayez de taper une valeur > 18. Vous voyez que le message est affiché : la commande `print` a bien été exécutée. Essayez maintenant de taper une valeur < 18. Rien ne semble se passer. Comme la condition du `if age > 18` était `False`, le contenu du `if` n'a pas été exécuté et Python a continué jusqu'à la fin du programme. \n",
        "\n",
        "Pour gérer tous les cas possibles, on peut rajouter un `else`...  "
      ],
      "metadata": {
        "id": "45VrCm3V5-5m"
      }
    },
    {
      "cell_type": "markdown",
      "source": [
        "###**La conditionnelle `if`...`else`**\n",
        "\n",
        "Elle permet de poser une alternative et d'éxécuter une autre séquence d'instructions si la condition du `if` est fausse. \n",
        "\n",
        "Python évalue d'abord la condition du `if`. Si elle est \n",
        "- `True`, la **séquence A** est exécutée puis Python passe à la suite\n",
        "- `False`,la **séquence B** est exécutée puis Python passe à la suite.\n",
        "\n",
        "<!--\n",
        "<img src=\"https://drive.google.com/uc?id=1gueYrSOO6x1taozgNsdrSRRywedCrQ8Q\" width=\"300\" height=\"250\"/>\n",
        "-->\n",
        "\n",
        "La syntaxe générale est :\n",
        "```\n",
        "if condition :\n",
        "    sequence A\n",
        "else :\n",
        "    sequence B\n",
        "```\n",
        "<!--\n",
        "<img src=\"https://drive.google.com/uc?id=133osBeWk1tPYkMOCwIMNP9o0QnHUBFZc\" width=\"30\" height=\"30\"/> \n",
        "-->\n",
        "ATTENTION ! N'oubliez pas le `:` à la fin des lignes `if` et `else`. \n",
        "\n",
        "Voici un exemple."
      ],
      "metadata": {
        "id": "CZzJwz114AM0"
      }
    },
    {
      "cell_type": "code",
      "source": [
        "age = float(input(\"Entrez votre age :\"))\n",
        "if age >= 18 :\n",
        "  print(\"Vous pouvez conduire seul(e).\")\n",
        "else:\n",
        "  print(\"Vous ne pouvez PAS conduire seul(e).\")"
      ],
      "metadata": {
        "id": "qEuoJpHsF79L",
        "colab": {
          "base_uri": "https://localhost:8080/"
        },
        "outputId": "fe145975-2e2a-4c16-832a-dce817202b46"
      },
      "execution_count": null,
      "outputs": [
        {
          "output_type": "stream",
          "name": "stdout",
          "text": [
            "Entrez votre age :5\n",
            "Vous ne pouvez PAS conduire seul(e).\n"
          ]
        }
      ]
    },
    {
      "cell_type": "markdown",
      "source": [
        "Essayez encore une fois de rentrer un age > 18 et un autre < 18. Vous voyez que dans le premier cas, c'est le premier `print` qui est exécuté, et dans le second cas c'est le second. "
      ],
      "metadata": {
        "id": "fEAIvGhF7O4S"
      }
    },
    {
      "cell_type": "markdown",
      "source": [
        "Voici un autre exemple. Vous rentrez votre note de partiel. Python vous félicite **si et seulement si** vous avez une note supérieur à 12, et sinon il vous dit \"Attention\". \n",
        "\n",
        "<!--\n",
        "l'algorigramme peut alors s'écrire \n",
        "<img src=\"https://drive.google.com/uc?id=1lsQ7XAcCsR7XmQanq_wuPoYxLWHF35IN\" width=\"220\" height=\"250\"/>\n",
        "-->"
      ],
      "metadata": {
        "id": "W95C805X3sgt"
      }
    },
    {
      "cell_type": "code",
      "source": [
        "x = float(input(\"Entrez votre note de partiel :\"))\n",
        "if x > 12 :\n",
        "  print(\"Bravo\")\n",
        "else:\n",
        "  print(\"Attention\")"
      ],
      "metadata": {
        "id": "63pFvurN96rX"
      },
      "execution_count": null,
      "outputs": []
    },
    {
      "cell_type": "markdown",
      "source": [
        "Pour enrichir encore la structure conditionnelle, introduisons un `elif`.  \n",
        "\n",
        "##### La conditionnelle `if`...`elif`...`else`\n",
        "\n",
        "Elle permet d'évaluer autant de condition à tester que nécessaire si les précédentes sont fausse. Imaginons deux conditions a tester. La syntaxe est :\n",
        "\n",
        "```\n",
        "if condition1 :\n",
        "    sequence A\n",
        "elif condition2 :\n",
        "    sequence B\n",
        "else :\n",
        "    sequence C\n",
        "```\n",
        "\n",
        "Python va évaluer d'abord la **condition 1** :\n",
        "- si elle est `True`, la **séquence A** est exécutée puis Python saute directement à la fin du bloc `if...elif...else` \n",
        "- si elle est `False`, Python va évaluer la **condition 2**\n",
        "  - si elle est `True`, la **séquence B** est exécutée puis Python saute à la fin du bloc `if...elif...else`\n",
        "  - si elle est `False`,la **séquence C** est exécutée puis Python passe à la suite.\n",
        "\n",
        "<!--\n",
        "<img src=\"https://drive.google.com/uc?id=1bJg4_8Ofbd38NTq7R_wU-7BNleZryuGK\" width=\"300\" height=\"250\"/>\n",
        "\n",
        "<img src=\"https://drive.google.com/uc?id=133osBeWk1tPYkMOCwIMNP9o0QnHUBFZc\" width=\"30\" height=\"30\"/> \n",
        "-->\n",
        "\n",
        "ATTENTION ! N'oubliez pas le `:` à la fin des lignes `if`, `elif` et `else`. \n",
        "\n",
        "Voici un exemple : "
      ],
      "metadata": {
        "id": "9sMiYIsl-seG"
      }
    },
    {
      "cell_type": "code",
      "source": [
        "x = float(input(\"Entrez votre note de partiel :\"))\n",
        "if x > 10 :\n",
        "  print(\"UE validee\")\n",
        "elif x > 8:\n",
        "  print(\"Courage\")\n",
        "else :\n",
        "  print(\"Attention\")"
      ],
      "metadata": {
        "id": "QRCyLYlfBl9v"
      },
      "execution_count": null,
      "outputs": []
    },
    {
      "cell_type": "markdown",
      "source": [
        "Vous rentrez votre note de partiel. Python vous dit \"UE validee\" si vous avez une note supérieure à 10, vous encourage si votre note est supérieure 8 et vous met en garde si vous avez une note inférieure à 8.\n",
        "\n",
        "Voici au autre exemple :"
      ],
      "metadata": {
        "id": "eqK5fOHaB_B8"
      }
    },
    {
      "cell_type": "code",
      "source": [
        "age = float(input(\"Entrez votre age :\"))\n",
        "if age >= 18 :\n",
        "  print(\"Vous pouvez conduire seul(e).\")\n",
        "elif 15 <= age < 18:\n",
        "  print(\"Vous pouvez conduire accompagne(e)\")\n",
        "else:\n",
        "  print(\"Vous ne pouvez PAS conduire.\")"
      ],
      "metadata": {
        "colab": {
          "base_uri": "https://localhost:8080/"
        },
        "id": "kHuO_yFg7YwZ",
        "outputId": "df4b65b9-65e6-4e20-cea8-5c5c332c5b2f"
      },
      "execution_count": null,
      "outputs": [
        {
          "output_type": "stream",
          "name": "stdout",
          "text": [
            "Entrez votre age :14\n",
            "Vous ne pouvez PAS conduire.\n"
          ]
        }
      ]
    },
    {
      "cell_type": "markdown",
      "source": [
        "Essayez maintenant de rentrer différents ages pour que soient exécutés tour à tour tous les `print`.  \n",
        "\n",
        "##### **Quelques remarques sur les structures conditionnelles**\n",
        "\n",
        "- Ne pas oublier les `:` à la fin des lignes commençant par `if`, `elif` ou `else`.   \n",
        "\n",
        "- On peut mettre autant de `elif` qu'on veut.  \n",
        "\n",
        "- Dans une structure **if** ... **elif** ... **else**, il ne peut y avoir qu'un seul bloc qui soit exécuté. \n",
        "\n",
        "- Il est possible de mettre des structures conditionnelles à l'intérieur d'autres structures conditionnelles.  \n",
        "\n",
        "<!--\n",
        "La syntaxe générale des structures conditionnelles est la suivante \n",
        "\n",
        "**if** condition1:<br>\n",
        "  &nbsp;&nbsp;&nbsp;&nbsp;&nbsp;&nbsp;&nbsp;&nbsp;instruction A<br>\n",
        "    &nbsp;&nbsp;&nbsp;&nbsp;&nbsp;&nbsp;&nbsp;&nbsp;instruction B<br>\n",
        "**elif** condition2:<br>\n",
        "  &nbsp;&nbsp;&nbsp;&nbsp;&nbsp;&nbsp;&nbsp;&nbsp;instruction C<br>\n",
        "    &nbsp;&nbsp;&nbsp;&nbsp;&nbsp;&nbsp;&nbsp;&nbsp;instruction D<br>\n",
        "      &nbsp;&nbsp;&nbsp;&nbsp;&nbsp;&nbsp;&nbsp;&nbsp;instruction E<br>\n",
        "**else**:<br>\n",
        "    &nbsp;&nbsp;&nbsp;&nbsp;&nbsp;&nbsp;&nbsp;&nbsp;instruction F<br>\n",
        "          &nbsp;&nbsp;&nbsp;&nbsp;&nbsp;&nbsp;&nbsp;&nbsp;instruction G\n",
        "\n",
        "Attention, à la fin des commandes **if**, **elif** et **else**, il faut TOUJOURS mettre deux points (**:**). \n",
        "\n",
        "Le bloc d'instruction exécuté si une condition est vérifiée est identifié par son alignement : il doit être décalé vers la droite par rapport au début de la ligne qui contient le test. \n",
        "\n",
        "Dans la structure ci-dessus, la condition1 est testée en premier. Si elle est vraie, les instructions A et B sont exécutées et les instructions C D E F G ne seront pas exécutées. Si la condition1 est fausse, Python teste la condition2. Si cette dernière condition est vraie, les instructions C D E sont exécutées et les autres instructions sont ignorées. Enfin, si la condition2 est aussi fausse, seules les instructions F G dans le bloc **else** seront exécutées. \n",
        "--> \n",
        "\n",
        "\n"
      ],
      "metadata": {
        "id": "0dor7EIMF5SN"
      }
    },
    {
      "cell_type": "code",
      "source": [
        "age = float(input(\"Entrez votre age :\"))\n",
        "\n",
        "# Exemple de structure unique avec 2 tests en 1 \n",
        "if age < 18 and age >= 15:\n",
        "  print(\"Vous pouvez conduire accompagne(e)\")\n",
        "\n",
        "# Autre exemple de structure unique avec 2 tests en 1, en utilisant le chainage\n",
        "if 15 <= age < 18:\n",
        "  print(\"Vous pouvez conduire accompagne(e)\")\n",
        "\n",
        "# Exemple de 2 structures imbriquees \n",
        "if age < 18:\n",
        "  if age >= 15:\n",
        "    print(\"Vous pouvez conduire accompagne(e)\")"
      ],
      "metadata": {
        "colab": {
          "base_uri": "https://localhost:8080/"
        },
        "id": "0_KyYpKBjuZO",
        "outputId": "51b41f41-3c75-43b6-af42-1c031eedf574"
      },
      "execution_count": 1,
      "outputs": [
        {
          "output_type": "stream",
          "name": "stdout",
          "text": [
            "Entrez votre age :16\n",
            "Vous pouvez conduire accompagne(e)\n",
            "Vous pouvez conduire accompagne(e)\n",
            "Vous pouvez conduire accompagne(e)\n"
          ]
        }
      ]
    },
    {
      "cell_type": "markdown",
      "source": [
        "Notez l'alignement dans le dernier exemple : le deuxième if est décalé par rapport au premier. Il est donc DANS la séquence qui est exécutée uniquement si le premier if est `True`. Donc si on rentre dans le deuxième `if`, ça veut dire que les deux ont eu la réponse `True`. C'est bien la même chose que les 2 exemples au dessus.    \n",
        "\n",
        "Notez que les 3 structures `if` sont exécutées car elles sont à la suite les unes des autres, et non les unes dans les autres. \n",
        "\n",
        "Pour finir, voici un dernier exemple d'utilisation de structure conditionnelle pour vérifier si une donnée peut être utilisée par un programme : "
      ],
      "metadata": {
        "id": "dXeh-tw2kcgC"
      }
    },
    {
      "cell_type": "code",
      "source": [
        "x = float(input(\"Entrez votre note de partiel :\"))\n",
        "if x > 20 or x < 0 :\n",
        "  print(\"Vous vous êtes trompe\")\n",
        "elif x > 10 :\n",
        "  print(\"UE validee\")\n",
        "elif x > 8:\n",
        "  print(\"Courage\")\n",
        "else :\n",
        "  print(\"Attention\")"
      ],
      "metadata": {
        "colab": {
          "base_uri": "https://localhost:8080/"
        },
        "id": "nHoJz2KxCb3Y",
        "outputId": "a5f78ac3-017c-4df4-9154-88fd20379644"
      },
      "execution_count": null,
      "outputs": [
        {
          "output_type": "stream",
          "name": "stdout",
          "text": [
            "Entrez votre note de partiel :25\n",
            "Vous vous êtes trompé\n"
          ]
        }
      ]
    },
    {
      "cell_type": "markdown",
      "source": [
        "Le soucis dans ce programme est que vous n'avez la possibilité que de rentrer une seule fois votre note. Si l'utilisateur se trompe, le programme lui renvoie la phrase \"Vous vous êtes trompé\", saute à la fin de la structure `if...else`, et est terminé. Il faudra alors relancer le programme pour rentrer la bonne note. En pratique, pour ré-exécuter un bloc de code automatiquement, vous allez pouvoir utiliser des **boucles**. Ce sera la suite de ce cours. "
      ],
      "metadata": {
        "id": "4Wuzk3Jj_iE8"
      }
    },
    {
      "cell_type": "markdown",
      "source": [
        "### Evaluation formative après la vidéo \n",
        "\n",
        "1. Coderunner : écrivez un programme qui dit si un nombre entré est plus grand ouplus petit que 5. \n",
        "\n",
        "2. Coderunner : écrivez un programme qui demande 2 chaines de caractères et les affiche dans l'ordre alphabétique. \n",
        "\n"
      ],
      "metadata": {
        "id": "MW4uAO8I-emK"
      }
    }
  ]
}