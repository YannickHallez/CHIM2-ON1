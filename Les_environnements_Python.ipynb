{
  "nbformat": 4,
  "nbformat_minor": 0,
  "metadata": {
    "colab": {
      "name": "Les_environnements_Python.ipynb",
      "provenance": [],
      "collapsed_sections": [],
      "authorship_tag": "ABX9TyNkIAK50eqhppDOUNdqD4Mr",
      "include_colab_link": true
    },
    "kernelspec": {
      "name": "python3",
      "display_name": "Python 3"
    },
    "language_info": {
      "name": "python"
    }
  },
  "cells": [
    {
      "cell_type": "markdown",
      "metadata": {
        "id": "view-in-github",
        "colab_type": "text"
      },
      "source": [
        "<a href=\"https://colab.research.google.com/github/YannickHallez/CHIM2-ON1/blob/main/Les_environnements_Python.ipynb\" target=\"_parent\"><img src=\"https://colab.research.google.com/assets/colab-badge.svg\" alt=\"Open In Colab\"/></a>"
      ]
    },
    {
      "cell_type": "markdown",
      "source": [
        "# Les environnements Python\n",
        "\n",
        "## Prérequis\n",
        "\n",
        "* Avoir suivi l'introduction à Python. \n",
        "* Avoir suivi \"Choisir Python\"\n",
        "\n",
        "## Compétences \n",
        "\n",
        "1. Décider quel environnement Python est le mieux adapté à une tâche donnée.\n",
        "2. Découvrir les premières commandes utiles (calculs et fonction print())\n",
        "\n",
        "## Objectifs \n",
        "\n",
        "1. Acquérir les compétences ci-dessus.\n",
        "\n",
        "## Contenu de la vidéo\n",
        "\n",
        "Dans le cadre de ce cours nous allons aborder 3 environnements de travail, mais il en existe d'autres. Nous allons utiliser la console IPython, l'environnement de développement Spyder, et afin les notebooks Jupyter. Les trois environnements sont disponibles dans Anaconda Navigator. \n",
        "\n",
        "### La console IPython \n",
        "\n",
        "La console IPython est un espace dans lequel on peut taper des commandes Python et les exécuter directement en appuyant sur la touche Entrée. Elle est très pratique pour de petits calculs rapides, ou pour faire de petits tests de quelques lignes maximum. IPython peut être utilisé notamment comme une calculatrice scientifique dans un premier temps. Les tâches les plus courantes qu'on fait avec sont \n",
        "* des petits calculs\n",
        "* lecture/écriture de données et tracés rapides de graphiques \n",
        "* débogage de programmes plus longs écrits dans un autre environnement\n",
        "\n",
        "NB : il est possible de faire beaucoup d'autres choses avec IPython, comme lancer des commandes système (déplacer, renommer, télécharger des fichiers, etc). Nous n'aborderons que quelques aspects utiles pour le cursus de chimie dans ce cours. \n",
        "\n",
        "En résumé, IPython est un bon outil pour réaliser de petites tâches rapidement.  \n",
        "\n",
        "### L'environnement de développement Spyder \n",
        "\n",
        "Spyder est un \"Environnement de Développement Intégré\" (IDE) pour Python, c'est-à-dire un ensemble d'outils permettant d'écrire, de tester, et de déboguer des programmes écrits en Python. Il comporte en entre autres  \n",
        "* un éditeur de texte où écrire le programme qui sera sauvegardé sous la forme d'un fichier avec l'extension \".py\", \n",
        "* des boutons pour exécuter le programme soit entièrement, soit ligne par ligne, \n",
        "* une console IPython où suivre l'exécution du programme et taper des commandes pour déboguer,  \n",
        "* des espaces pour visualiser des graphiques ou obtenir de l'aide pour les fonctions utilisées. \n",
        "\n",
        "NB : dans la suite Anaconda, vous avez aussi accès à l'IDE PyCharm qui est un peu similaire à Spyder. PyCharm offre un peu plus de fonctionnalités, mais est aussi un peu plus difficile à utiliser pour un(e) débutant(e).\n",
        "\n",
        "En résumé, Spyder est un bon outil pour écrire des programmes longs, nécessitant du débogage, et qui pourront être exécutés plusieurs fois.   \n",
        "\n",
        "### Les notebooks Jupyter \n",
        "\n",
        "Jupyter Notebook (anciennement \"IPython Notebooks\") est un environnement de développement pour Python et d'autres langages basés sur une page web. Un \"notebook\" contient différentes \"cellules\" qui sont des zones de la page dans lesquelles on peut \n",
        "* Entrer du code Python et l'exécuter (comme IPython ou Spyder)\n",
        "* Rédiger du texte, insérer des formules mathématiques, des images, des liens hypertexte, etc (comme un traitement de texte) à l'aide du langage \"Markdown\".  \n",
        "Un notebook Jupyter est sauvegardé sous la forme d'un fichier avec l'extension \".ipynb\". \n",
        "\n",
        "NB : Jupyter Notebook ne dispose pas d'outils de débogage comme Spyder et n'est pas aussi rapide d'utilisation que la console IPython. \n",
        "\n",
        "En résumé, Spyder est un bon outil pour écrire des programmes de taille intermédiaire (disons moins d'une vingtaine de lignes), ne présentant pas de difficulté d'écriture particulière, et lorsque l'on veut intercaler du texte et des résultats issus des programmes.   \n",
        "\n",
        "### Synthèse : quel outil choisir ? \n",
        "\n",
        "**IPython : pour la rapidité et l'interactivité.**\n",
        "Par exemple, votre manip vient de générer un fichier de concentrations mesurées au cours du temps et vous voulez voir rapidement la forme de la courbe pour prendre une décision (refaire la manip, changer un paramètre, etc). Vous ouvrez IPython et en trois commandes vous chargez les données et tracez un graphique sommaire. C'est plus rapide et simple que Spyder et Jupyter (et Excel!). \n",
        "\n",
        "**Spyder : pour les développements de programmes complexes** \n",
        "Par exemple, vous devez écrire un programme qui va lire des données expérimentales, les traiter, les filtrer, ajuster des modèles, peut-être lancer une simulation, etc. Tout ceci peut être long à développer et il vous faut un maximum d'assistance : Spyder (ou PyCharm) est le meilleur choix pour vous aider. IPython ne permet pas de développer de longs programmes, et Jupyter ne vous aidera pas à déboguer. \n",
        "\n",
        "**Jupyter Notebook : pour la mise en forme sur des tâches pas trop complexes**\n",
        "Par exemple, vous voulez charger des données de manips, éventuellement ajouter une ou deux commandes de traitement des données, les tracer, et surtout intercaler tout ça avec des commentaires rédigés sur ce que vous calculez et sur les résultats. C'est très bien adapté typiquement pour les travaux pratiques, ou pour la démonstration/pédagogie. Les supports de ce cours sont des notebooks Jupyter ! IPython seul et Spyder ne permettraient pas de faire cette présentation avancée.  \n",
        "\n",
        "En conclusion, *il n'y a pas de meilleur environnement pour Python. Il faut utiliser l'environnement le plus adapté à la tâche que vous devez accomplir.*"
      ],
      "metadata": {
        "id": "49yM0u4km9uj"
      }
    },
    {
      "cell_type": "markdown",
      "source": [
        ""
      ],
      "metadata": {
        "id": "4tTlxrgGdW1a"
      }
    }
  ]
}