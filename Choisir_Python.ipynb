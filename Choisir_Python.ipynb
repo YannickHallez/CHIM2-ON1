{
  "nbformat": 4,
  "nbformat_minor": 0,
  "metadata": {
    "colab": {
      "name": "Choisir_Python.ipynb",
      "provenance": [],
      "authorship_tag": "ABX9TyMyGhNpcq3zSNCKW0PVNswO"
    },
    "kernelspec": {
      "name": "python3",
      "display_name": "Python 3"
    },
    "language_info": {
      "name": "python"
    }
  },
  "cells": [
    {
      "cell_type": "markdown",
      "source": [
        "# Choisir Python\n",
        "\n",
        "Python est un langage de programmation qui dispose de nombreux modules complémentaires tournés vers la science. \n",
        "\n",
        "Différence entre tableurs et langages de programmation (Excel, Octave, Matlab...) \n",
        "\n",
        "Différents types de langages de programmation (Python C, Fortran, javascript...) \n",
        "\n"
      ],
      "metadata": {
        "id": "49yM0u4km9uj"
      }
    }
  ]
}