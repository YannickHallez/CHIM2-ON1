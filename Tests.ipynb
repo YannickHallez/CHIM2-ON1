{
  "nbformat": 4,
  "nbformat_minor": 0,
  "metadata": {
    "colab": {
      "name": "Tests.ipynb",
      "provenance": [],
      "collapsed_sections": [],
      "include_colab_link": true
    },
    "kernelspec": {
      "name": "python3",
      "display_name": "Python 3"
    },
    "language_info": {
      "name": "python"
    }
  },
  "cells": [
    {
      "cell_type": "markdown",
      "metadata": {
        "id": "view-in-github",
        "colab_type": "text"
      },
      "source": [
        "<a href=\"https://colab.research.google.com/github/YannickHallez/CHIM2-ON1/blob/main/Tests.ipynb\" target=\"_parent\"><img src=\"https://colab.research.google.com/assets/colab-badge.svg\" alt=\"Open In Colab\"/></a>"
      ]
    },
    {
      "cell_type": "markdown",
      "source": [
        "# Les tests\n",
        "\n",
        "## Prérequis\n",
        "\n",
        "Avoir suivi l'introduction à Python et le cours sur les variables. \n",
        "\n",
        "## Compétences \n",
        "\n",
        "1. Ecrire des tests simples. \n",
        "2. Ecrire des combinaisons de tests. \n",
        "\n",
        "## Objectifs \n",
        "\n",
        "1. Acquérir les compétences ci-dessus.\n",
        "\n",
        "## Contenu de la vidéo \n",
        "\n",
        "Faire des tests est souvent nécessaire dans un programme. Cela permet de décider si certaines lignes de code seront exécutées ou pas. Par exemple, si un programme doit calculer la valeur de 1/x, avec x fourni par l'utilisateur, il ne faudra pas faire le calcul mais plutôt envoyer un message d'erreur si x vaut 0.   \n",
        "\n",
        "Pour faire des tests, vous pouvez utiliser des opérateurs de comparaison et des opérateurs booléens (ou logiques). \n",
        "\n",
        "### Les opérateurs de comparaison\n",
        "\n",
        "Il existe 6 opérateurs de comparaison \n",
        "<table>\n",
        "    <thead>\n",
        "        <tr>\n",
        "            <th>Syntaxe Python</th><th>Signification</th>\n",
        "        </tr>\n",
        "    </thead>\n",
        "    <tbody>\n",
        "        <tr><td align=\"center\"><</td><td>strictement inférieur</td>\n",
        "        <tr><td align=\"center\">></td><td>strictement supérieur</td></tr>\n",
        "        <tr><td align=\"center\"><=</td><td>inférieur ou égal</td></tr>\n",
        "        <tr><td align=\"center\">>=</td><td>supérieur ou égal</td></tr>\n",
        "        <tr><td align=\"center\">==</td><td>égal</td></tr>\n",
        "        <tr><td align=\"center\">!=</td><td>différent</td></tr>\n",
        "    </tbody>\n",
        "</table>\n",
        "\n",
        "<img src=\"https://drive.google.com/uc?id=133osBeWk1tPYkMOCwIMNP9o0QnHUBFZc\" width=\"30\" height=\"30\"/> Attention : l’opérateur qui teste une égalité est `==` et\n",
        "non `=`. Le symbole `=` n'est PAS une égalité logique. C'est le symbole réservé pour effectuer une affectation : il sauve ce qui est à sa droite à l'adresse mémoire de la variable à sa gauche.  \n",
        "\n",
        "Le résultat d'une comparaison est toujours un booléen, soit `True` (vrai), soit `False` (faux). \n",
        "\n",
        "Voici quelques exemples. "
      ],
      "metadata": {
        "id": "3PEzn9tomtuX"
      }
    },
    {
      "cell_type": "code",
      "source": [
        "5 < 10"
      ],
      "metadata": {
        "colab": {
          "base_uri": "https://localhost:8080/"
        },
        "id": "qfBk_tc02FjN",
        "outputId": "0f626042-3f12-40ce-c973-39bd7e8012a8"
      },
      "execution_count": null,
      "outputs": [
        {
          "output_type": "execute_result",
          "data": {
            "text/plain": [
              "True"
            ]
          },
          "metadata": {},
          "execution_count": 49
        }
      ]
    },
    {
      "cell_type": "code",
      "source": [
        "7 > 10"
      ],
      "metadata": {
        "colab": {
          "base_uri": "https://localhost:8080/"
        },
        "id": "B3hQB2TM2jWj",
        "outputId": "d4f896ff-ceeb-4ca9-cfd5-ea7f0d7b6555"
      },
      "execution_count": 2,
      "outputs": [
        {
          "output_type": "execute_result",
          "data": {
            "text/plain": [
              "False"
            ]
          },
          "metadata": {},
          "execution_count": 2
        }
      ]
    },
    {
      "cell_type": "code",
      "source": [
        "\"bonjour\" == \"au revoir\""
      ],
      "metadata": {
        "colab": {
          "base_uri": "https://localhost:8080/"
        },
        "id": "vvbVBGP9S8BU",
        "outputId": "a3936485-188e-479e-93aa-7a8f5914e7b4"
      },
      "execution_count": 3,
      "outputs": [
        {
          "output_type": "execute_result",
          "data": {
            "text/plain": [
              "False"
            ]
          },
          "metadata": {},
          "execution_count": 3
        }
      ]
    },
    {
      "cell_type": "code",
      "source": [
        "5.9 == 5.90"
      ],
      "metadata": {
        "colab": {
          "base_uri": "https://localhost:8080/"
        },
        "id": "VFmu8NZ-TFot",
        "outputId": "cd3ca23b-0cb8-426c-9b19-aea4400f64d3"
      },
      "execution_count": 5,
      "outputs": [
        {
          "output_type": "execute_result",
          "data": {
            "text/plain": [
              "True"
            ]
          },
          "metadata": {},
          "execution_count": 5
        }
      ]
    },
    {
      "cell_type": "code",
      "source": [
        "4+3 == 7"
      ],
      "metadata": {
        "colab": {
          "base_uri": "https://localhost:8080/"
        },
        "id": "W4oB0xmHTS9D",
        "outputId": "9ff1a2a0-5d41-48d3-a2f6-f400aa34cdaf"
      },
      "execution_count": 6,
      "outputs": [
        {
          "output_type": "execute_result",
          "data": {
            "text/plain": [
              "True"
            ]
          },
          "metadata": {},
          "execution_count": 6
        }
      ]
    },
    {
      "cell_type": "code",
      "source": [
        "\"Led Zeppelin\" > \"Ariana Grande\""
      ],
      "metadata": {
        "colab": {
          "base_uri": "https://localhost:8080/"
        },
        "id": "LtvTQPaBVLz6",
        "outputId": "81f27bcd-d74c-4392-f8d0-d8af4c052e3c"
      },
      "execution_count": 15,
      "outputs": [
        {
          "output_type": "execute_result",
          "data": {
            "text/plain": [
              "True"
            ]
          },
          "metadata": {},
          "execution_count": 15
        }
      ]
    },
    {
      "cell_type": "markdown",
      "source": [
        "Ces exemples se comprennent bien, sauf peut-être éventuellement le dernier. On pourrait croire que votre ordinateur affiche ses goûts musicaux, mais il s'agit en fait d'un classement par ordre alphabétique. Pour des chaînes de caractères, `\"a\"<\"b\"` demande si \"a\" serait avant \"b\" dans le dictionnaire. \n",
        "\n",
        "Enfin, évitez absolument de tester une égalité entre réels issus d'un calcul. Il est possible qu'un test comme `(3-1.5) == 1.5` donne `True` mais aussi qu'il donne `False`. La raison est que les calculs ne sont pas exacts. Ils sont faits avec une précision de 16 chiffres significatifs. C'est tout à fait suffisant pour nos applications, mais il est possible que le résultat de `3-1.5` soit 1.5000000000000002 et pour Python ce nombre est différent de 1.5. Si vous devez tester l'égalité de deux réels x et y, il est préférable d'utiliser le test `abs(x-y) < 1.0e-12`, c'est à dire, est-ce que la valeur absolue de x-y est inférieure à un nombre arbitraire suffisamment petit à votre goût, ici $10^{-12}$.  \n",
        "\n",
        "\n",
        "### Les opérateurs booléens\n",
        "\n",
        "Les opérateurs booléens, encore appelés opérrateurs logiques, servent à combiner plusieurs tests. Les plus courants sont les suivants \n",
        "\n",
        "<table>\n",
        "    <thead>\n",
        "        <tr>\n",
        "            <th>Syntaxe Python</th><th>Signification</th>\n",
        "        </tr>\n",
        "    </thead>\n",
        "    <tbody>\n",
        "        <tr><td align=\"center\">and</td><td align=\"center\">et</td>\n",
        "        <tr><td align=\"center\">or</td><td align=\"center\">ou</td></tr>\n",
        "        <tr><td align=\"center\">not</td><td align=\"center\">non</td></tr>\n",
        "    </tbody>\n",
        "</table>\n",
        "\n",
        "`not` qui sert à inverser la condition qui suit (`not True` est `False` et `not False` est `True`). La réponse donnée sera toujours un booléen. Voici quelques exemples \n"
      ],
      "metadata": {
        "id": "yDSMHcbA07eW"
      }
    },
    {
      "cell_type": "code",
      "source": [
        "5 < 10 and 5 > 7"
      ],
      "metadata": {
        "colab": {
          "base_uri": "https://localhost:8080/"
        },
        "id": "O8Z9aA7xEfDp",
        "outputId": "d956962b-0afe-40e7-89e4-3fd6dcbbe52d"
      },
      "execution_count": 16,
      "outputs": [
        {
          "output_type": "execute_result",
          "data": {
            "text/plain": [
              "False"
            ]
          },
          "metadata": {},
          "execution_count": 16
        }
      ]
    },
    {
      "cell_type": "code",
      "source": [
        "5 < 10 or 5 > 10"
      ],
      "metadata": {
        "colab": {
          "base_uri": "https://localhost:8080/"
        },
        "id": "XESNHHGtE5xS",
        "outputId": "b53401a3-fc91-41c7-d134-066f1dedaccc"
      },
      "execution_count": 17,
      "outputs": [
        {
          "output_type": "execute_result",
          "data": {
            "text/plain": [
              "True"
            ]
          },
          "metadata": {},
          "execution_count": 17
        }
      ]
    },
    {
      "cell_type": "code",
      "source": [
        "not 5 > 10"
      ],
      "metadata": {
        "colab": {
          "base_uri": "https://localhost:8080/"
        },
        "id": "FsNQUfc1FBtp",
        "outputId": "fbc7e3fd-bd34-49e4-83cb-d6b6614bdddf"
      },
      "execution_count": 19,
      "outputs": [
        {
          "output_type": "execute_result",
          "data": {
            "text/plain": [
              "True"
            ]
          },
          "metadata": {},
          "execution_count": 19
        }
      ]
    },
    {
      "cell_type": "markdown",
      "source": [
        "Dans le premier exemple, on vérifie si les 2 conditions sont vraies en même temps. La première est vraie mais la seconde est fausse. Python renvoie donc la réponse `False`. Dans le deuxième exemple, une des 2 conditions doit être validée, ce qui est bien le cas, Python renvoie donc la réponse `True`. Dans le troisième exemple, on veut la condition opposée à `5 > 10`. Cette condition seule est `False`, donc Python renvoie la réponse `not False`, soit `True`.\n",
        "\n",
        "Voici un petit rappel sur le fonctionnement des opérateurs logiques pour la combinaison de deux conditions\n",
        "- `True and True`, réponse `True`\n",
        "- `True and False`, réponse `False`\n",
        "- `False and True`, réponse `False`\n",
        "- `False and False`, réponse `False`\n",
        "\n",
        "Et pour l'opérateur `or`\n",
        "- `True or True`, réponse `True`\n",
        "- `True or False`, réponse `True`\n",
        "- `False or True`, réponse `True`\n",
        "- `False or False`, réponse `False`\n",
        "\n"
      ],
      "metadata": {
        "id": "33Vb2sCfFTpw"
      }
    },
    {
      "cell_type": "markdown",
      "source": [
        "En Python, il est possible de combiner plusieurs opérateurs de comparaison en ce qui ressemble à un seul test. \n"
      ],
      "metadata": {
        "id": "LFU2_fWOQDcV"
      }
    },
    {
      "cell_type": "code",
      "source": [
        "x = 10\n",
        "5 < x < 20"
      ],
      "metadata": {
        "colab": {
          "base_uri": "https://localhost:8080/"
        },
        "id": "x8LCByvaQKMe",
        "outputId": "19164140-eb04-496c-bfc6-e77c3133168b"
      },
      "execution_count": 25,
      "outputs": [
        {
          "output_type": "execute_result",
          "data": {
            "text/plain": [
              "True"
            ]
          },
          "metadata": {},
          "execution_count": 25
        }
      ]
    },
    {
      "cell_type": "markdown",
      "source": [
        "La syntaxe `5 < x < 20` est exactement équivalente à `5 < x and x < 20`.   \n",
        "\n",
        "Lorsqu'on combine des tests, il peut se poser des problèmes de priorités. Comme en mathématiques, il faut avoir conscience de ces priorités et utiliser des parenthèses si nécessaire. \n",
        "\n",
        "Les calculs sont toujours prioritaires par rapport aux opérateurs de comparaison (==, !=, <, >, <=, >=).  Les opérateurs de comparaison sont prioritaires par rapport aux opérateurs logiques (and, or, not). Parmi les opérateurs logiques, `not` est prioritaire par rapport à `and` et `or`. Enfin, `and` est prioritaire par rapport à `or`. \n",
        "\n",
        "Examinez attentivement les exemples suivants : "
      ],
      "metadata": {
        "id": "1XCDxDgabUln"
      }
    },
    {
      "cell_type": "code",
      "source": [
        "5 < 10 and 5 > 10 or 2 > 5"
      ],
      "metadata": {
        "colab": {
          "base_uri": "https://localhost:8080/"
        },
        "id": "5KhWOVQTQza7",
        "outputId": "1091e0df-b172-4ecc-e92d-0cb1864d78e6"
      },
      "execution_count": null,
      "outputs": [
        {
          "output_type": "execute_result",
          "data": {
            "text/plain": [
              "False"
            ]
          },
          "metadata": {},
          "execution_count": 24
        }
      ]
    },
    {
      "cell_type": "markdown",
      "source": [
        "Comme `and` est prioritaire par rapport à `or`, Python va d'abord évaluer `5<10 and 5>10`, ce qui fait `False`. Puis il va évaluer `False or 2>5`, soit `False or False`, ce qui donne `False`. Comparez ça à la version suivante :       "
      ],
      "metadata": {
        "id": "Ch6c6EkxdpnS"
      }
    },
    {
      "cell_type": "code",
      "source": [
        "5 < 10 or 5 > 10 and 2 > 5"
      ],
      "metadata": {
        "colab": {
          "base_uri": "https://localhost:8080/"
        },
        "id": "WBDdQ6DvR_SY",
        "outputId": "153c4945-4f16-4767-8f5f-19237d1df440"
      },
      "execution_count": 26,
      "outputs": [
        {
          "output_type": "execute_result",
          "data": {
            "text/plain": [
              "True"
            ]
          },
          "metadata": {},
          "execution_count": 26
        }
      ]
    },
    {
      "cell_type": "markdown",
      "source": [
        "Ici, Python commence par `5 > 10 and 2 > 5`, ce qui fait `False`, puis il évalue `5 < 10 or False`, soit `True or False`, ce qui fait `True`. \n",
        "\n",
        "On peut comparer les priorités de `and` et `or` à celles de `*` et `+`. De la même manière, pour forcer un certain ordre dans les tests, on peut utiliser des parenthèses :   "
      ],
      "metadata": {
        "id": "Ji0crT3eeu9C"
      }
    },
    {
      "cell_type": "code",
      "source": [
        "(5 < 10 or 5 > 10) and 2 > 5"
      ],
      "metadata": {
        "colab": {
          "base_uri": "https://localhost:8080/"
        },
        "id": "XSKc7QxUQsVt",
        "outputId": "b59a79a9-7cbd-47d3-b86c-c322fa940006"
      },
      "execution_count": 27,
      "outputs": [
        {
          "output_type": "execute_result",
          "data": {
            "text/plain": [
              "False"
            ]
          },
          "metadata": {},
          "execution_count": 27
        }
      ]
    },
    {
      "cell_type": "markdown",
      "source": [
        "Dans cet exemple, on veut effectuer le `or` en premier alors qu'il n'est pas prioritaire, donc on lui met des parenthèses. Dans ce cas Python va commencer par `5 < 10 or 5 > 10`, ce qui fait `True`, puis il va évaluer `True and 2 > 5`, ce qui donne `False`.     \n",
        "\n",
        "\n",
        "\n",
        "### Evaluation formative après la vidéo \n",
        "\n",
        "\n",
        "1. Les tests suivants donnent vrai ou faux ? <br>\n",
        "5 > 7<br>\n",
        "x = 6; 9>x<br>\n",
        "11 == 3+8<br>\n",
        "7 != 2<br>\n",
        "6 <= 6<br>\n",
        "\n",
        "2. Avec coderunner...<br>\n",
        "Ecrire un test qui retourne vrai si 7 est inférieur à 12. <br>\n",
        "Ecrire un test qui retourne vrai si x est égal à 3.<br>\n",
        "Ecrire un test qui retourne vrai si deux entiers a et b sont égaux. <br>\n",
        "\n",
        "3. Les tests suivants donnent vrai ou faux ? <br>\n",
        "5<8 and 6<10 <br>\n",
        "8<10 or 10<6<br>\n",
        "\"a\"==\"b\" and 2==2<br>\n",
        "(3+2==5 or 6==7) and 8>5 <br>\n",
        "\n",
        "4. Le test suivant a un bug. Corrigez-le. <br>\n",
        "3 = 4 \n",
        "\n",
        "\n"
      ],
      "metadata": {
        "id": "4aipCGfPfdXj"
      }
    }
  ]
}