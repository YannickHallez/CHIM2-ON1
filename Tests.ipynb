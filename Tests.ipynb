{
  "nbformat": 4,
  "nbformat_minor": 0,
  "metadata": {
    "colab": {
      "name": "Tests.ipynb",
      "provenance": [],
      "collapsed_sections": [],
      "include_colab_link": true
    },
    "kernelspec": {
      "name": "python3",
      "display_name": "Python 3"
    },
    "language_info": {
      "name": "python"
    }
  },
  "cells": [
    {
      "cell_type": "markdown",
      "metadata": {
        "id": "view-in-github",
        "colab_type": "text"
      },
      "source": [
        "<a href=\"https://colab.research.google.com/github/YannickHallez/CHIM2-ON1/blob/main/Tests.ipynb\" target=\"_parent\"><img src=\"https://colab.research.google.com/assets/colab-badge.svg\" alt=\"Open In Colab\"/></a>"
      ]
    },
    {
      "cell_type": "markdown",
      "source": [
        "# Les tests\n",
        "\n",
        "## Prérequis\n",
        "\n",
        "Avoir suivi l'introduction à Python et le cours sur les variables. \n",
        "\n",
        "## Compétences \n",
        "\n",
        "1. Ecrire des tests simples. \n",
        "2. Ecrire des combinaisons de tests. \n",
        "\n",
        "## Objectifs \n",
        "\n",
        "1. Acquérir les compétences ci-dessus.\n",
        "\n",
        "## Contenu de la vidéo \n",
        "\n",
        "Faire des tests est souvent nécessaire dans un programme. Cela permet de décider si certaines lignes de code seront exécutées ou pas. Par exemple, si un programme doit calculer la valeur de 1/x, avec x fourni par l'utilisateur, il ne faudra pas faire le calcul mais plutôt envoyer un message d'erreur si x vaut 0.   \n",
        "\n",
        "Pour faire des tests, vous pouvez utiliser des opérateurs de comparaison et des opérateurs booléens (ou logiques). \n",
        "\n",
        "### Les opérateurs de comparaison\n",
        "\n",
        "Il existe 6 opérateurs de comparaison \n",
        "<table>\n",
        "    <thead>\n",
        "        <tr>\n",
        "            <th>Syntaxe Python</th><th>Signification</th>\n",
        "        </tr>\n",
        "    </thead>\n",
        "    <tbody>\n",
        "        <tr><td align=\"center\"><</td><td>strictement inférieur</td>\n",
        "        <tr><td align=\"center\">></td><td>strictement supérieur</td></tr>\n",
        "        <tr><td align=\"center\"><=</td><td>inférieur ou égal</td></tr>\n",
        "        <tr><td align=\"center\">>=</td><td>supérieur ou égal</td></tr>\n",
        "        <tr><td align=\"center\">==</td><td>égal</td></tr>\n",
        "        <tr><td align=\"center\">!=</td><td>différent</td></tr>\n",
        "    </tbody>\n",
        "</table>\n",
        "\n",
        "Attention : l’opérateur qui teste une égalité est `==` et\n",
        "non `=`. Le symbole `=` n'est PAS une égalité logique. C'est le symbole réservé pour effectuer une affectation : il sauve ce qui est à sa droite à l'adresse mémoire de la variable à sa gauche.  \n",
        "\n",
        "Le résultat d'une comparaison est toujours un booléen, soit `True` (vrai), soit `False` (faux). "
      ],
      "metadata": {
        "id": "3PEzn9tomtuX"
      }
    },
    {
      "cell_type": "markdown",
      "source": [
        "![algo1.JPG](data:image/jpeg;base64,/9j/4AAQSkZJRgABAQEAeAB4AAD/4RDmRXhpZgAATU0AKgAAAAgABAE7AAIAAAAJAAAISodpAAQAAAABAAAIVJydAAEAAAASAAAQzOocAAcAAAgMAAAAPgAAAAAc6gAAAAgAAAAAAAAAAAAAAAAAAAAAAAAAAAAAAAAAAAAAAAAAAAAAAAAAAAAAAAAAAAAAAAAAAAAAAAAAAAAAAAAAAAAAAAAAAAAAAAAAAAAAAAAAAAAAAAAAAAAAAAAAAAAAAAAAAAAAAAAAAAAAAAAAAAAAAAAAAAAAAAAAAAAAAAAAAAAAAAAAAAAAAAAAAAAAAAAAAAAAAAAAAAAAAAAAAAAAAAAAAAAAAAAAAAAAAAAAAAAAAAAAAAAAAAAAAAAAAAAAAAAAAAAAAAAAAAAAAAAAAAAAAAAAAAAAAAAAAAAAAAAAAAAAAAAAAAAAAAAAAAAAAAAAAAAAAAAAAAAAAAAAAAAAAAAAAAAAAAAAAAAAAAAAAAAAAAAAAAAAAAAAAAAAAAAAAAAAAAAAAAAAAAAAAAAAAAAAAAAAAAAAAAAAAAAAAAAAAAAAAAAAAAAAAAAAAAAAAAAAAAAAAAAAAAAAAAAAAAAAAAAAAAAAAAAAAAAAAAAAAAAAAAAAAAAAAAAAAAAAAAAAAAAAAAAAAAAAAAAAAAAAAAAAAAAAAAAAAAAAAAAAAAAAAAAAAAAAAAAAAAAAAAAAAAAAAAAAAAAAAAAAAAAAAAAAAAAAAAAAAAAAAAAAAAAAAAAAAAAAAAAAAAAAAAAAAAAAAAAAAAAAAAAAAAAAAAAAAAAAAAAAAAAAAAAAAAAAAAAAAAAAAAAAAAAAAAAAAAAAAAAAAAAAAAAAAAAAAAAAAAAAAAAAAAAAAAAAAAAAAAAAAAAAAAAAAAAAAAAAAAAAAAAAAAAAAAAAAAAAAAAAAAAAAAAAAAAAAAAAAAAAAAAAAAAAAAAAAAAAAAAAAAAAAAAAAAAAAAAAAAAAAAAAAAAAAAAAAAAAAAAAAAAAAAAAAAAAAAAAAAAAAAAAAAAAAAAAAAAAAAAAAAAAAAAAAAAAAAAAAAAAAAAAAAAAAAAAAAAAAAAAAAAAAAAAAAAAAAAAAAAAAAAAAAAAAAAAAAAAAAAAAAAAAAAAAAAAAAAAAAAAAAAAAAAAAAAAAAAAAAAAAAAAAAAAAAAAAAAAAAAAAAAAAAAAAAAAAAAAAAAAAAAAAAAAAAAAAAAAAAAAAAAAAAAAAAAAAAAAAAAAAAAAAAAAAAAAAAAAAAAAAAAAAAAAAAAAAAAAAAAAAAAAAAAAAAAAAAAAAAAAAAAAAAAAAAAAAAAAAAAAAAAAAAAAAAAAAAAAAAAAAAAAAAAAAAAAAAAAAAAAAAAAAAAAAAAAAAAAAAAAAAAAAAAAAAAAAAAAAAAAAAAAAAAAAAAAAAAAAAAAAAAAAAAAAAAAAAAAAAAAAAAAAAAAAAAAAAAAAAAAAAAAAAAAAAAAAAAAAAAAAAAAAAAAAAAAAAAAAAAAAAAAAAAAAAAAAAAAAAAAAAAAAAAAAAAAAAAAAAAAAAAAAAAAAAAAAAAAAAAAAAAAAAAAAAAAAAAAAAAAAAAAAAAAAAAAAAAAAAAAAAAAAAAAAAAAAAAAAAAAAAAAAAAAAAAAAAAAAAAAAAAAAAAAAAAAAAAAAAAAAAAAAAAAAAAAAAAAAAAAAAAAAAAAAAAAAAAAAAAAAAAAAAAAAAAAAAAAAAAAAAAAAAAAAAAAAAAAAAAAAAAAAAAAAAAAAAAAAAAAAAAAAAAAAAAAAAAAAAAAAAAAAAAAAAAAAAAAAAAAAAAAAAAAAAAAAAAAAAAAAAAAAAAAAAAAAAAAAAAAAAAAAAAAAAAAAAAAAAAAAAAAAAAAAAAAAAAAAAAAAAAAAAAAAAAAAAAAAAAAAAAAAAAAAAAAAAAAAAAAAAAAAAAAAAAAAAAAAAAAAAAAAAAAAAAAAAAAAAAAAAAAAAAAAAAAAAAAAAAAAAAAAAAAAAAAAAAAAAAAAAAAAAAAAAAAAAAAAAAAAAAAAAAAAAAAAAAAAAAAAAAAAAAAAAAAAAAAAAAAAAAAAAAAAAAAAAAAAAAAAAAAAAAAAAAAAAAAAAAAAAAAAAAAAAAAAAAAAAAAAAAAAAAAAAAAAAAAAAAAAAAAAAAAAAAAAAAAAAAAAAAAAAAAAAAAAAAAAAAAAAAAAAAAAAAAAAAAAAAAAAAAAAAAAAAAAAAAAAAAAAAAAAAAAAAAAAAAAAAAAAAAAAAAAAAAAAAAAAAAAAAAAAAAAAAAAAAAAAAAAAAAAAAAAAAAAAAAAAAAAAAAAAAAAAAAAAAAAAAAAAAAAAAAAAAAAAAAAAAAAAAAAAAAAAAAAAAAAAAAAAAAAAAAAAAAAAAAAAAAAAAAAAAAAAAAAAAAAAAAAAAAAAAAAAAAAAAAAAAAAAAAAAAAAAAAAAAAAAAAAAAAAAAAAAAAAAAAAAAAAAAAAAAAAAAAAAAAAAAAAAAAAAAAAAAAAAAAAAAAAAAAAAAAAAAAAAAAAAAAAAAAAAAAAAAAAAAAAAAAAAAAAAAAAAAAAAAAAAAAAAAAAAAAAAAAAAAAAAAAAAAAAAAAAAAAAAAAAAAAAAAAAAAAAAAAAAAAAAAAAAAAAAAAAAAAAAAAAAAAAAAAAAAAAAAAAAAAAAAAAAAAAAAAAAAAAAAAAAAAAAAAAAAAAAAAAAAAAAAAAAAAAAAAAAAAAAAAAAAAAAAAAAAAAAAAAAAAAAAAAAAAAAAAAAAAAAAAAAAAAAAAAAAAAAAAAAAAAAAAAAAAAAAAAAAAAAAAAAAAAAAAAAAAAAAAAAAAAAAAAAAAAAAAAAAAAAAAAAAAAAAAAAAAAAAAAAAAAFN0ZXBoYW5lAAAABZADAAIAAAAUAAAQopAEAAIAAAAUAAAQtpKRAAIAAAADMTYAAJKSAAIAAAADMTYAAOocAAcAAAgMAAAIlgAAAAAc6gAAAAgAAAAAAAAAAAAAAAAAAAAAAAAAAAAAAAAAAAAAAAAAAAAAAAAAAAAAAAAAAAAAAAAAAAAAAAAAAAAAAAAAAAAAAAAAAAAAAAAAAAAAAAAAAAAAAAAAAAAAAAAAAAAAAAAAAAAAAAAAAAAAAAAAAAAAAAAAAAAAAAAAAAAAAAAAAAAAAAAAAAAAAAAAAAAAAAAAAAAAAAAAAAAAAAAAAAAAAAAAAAAAAAAAAAAAAAAAAAAAAAAAAAAAAAAAAAAAAAAAAAAAAAAAAAAAAAAAAAAAAAAAAAAAAAAAAAAAAAAAAAAAAAAAAAAAAAAAAAAAAAAAAAAAAAAAAAAAAAAAAAAAAAAAAAAAAAAAAAAAAAAAAAAAAAAAAAAAAAAAAAAAAAAAAAAAAAAAAAAAAAAAAAAAAAAAAAAAAAAAAAAAAAAAAAAAAAAAAAAAAAAAAAAAAAAAAAAAAAAAAAAAAAAAAAAAAAAAAAAAAAAAAAAAAAAAAAAAAAAAAAAAAAAAAAAAAAAAAAAAAAAAAAAAAAAAAAAAAAAAAAAAAAAAAAAAAAAAAAAAAAAAAAAAAAAAAAAAAAAAAAAAAAAAAAAAAAAAAAAAAAAAAAAAAAAAAAAAAAAAAAAAAAAAAAAAAAAAAAAAAAAAAAAAAAAAAAAAAAAAAAAAAAAAAAAAAAAAAAAAAAAAAAAAAAAAAAAAAAAAAAAAAAAAAAAAAAAAAAAAAAAAAAAAAAAAAAAAAAAAAAAAAAAAAAAAAAAAAAAAAAAAAAAAAAAAAAAAAAAAAAAAAAAAAAAAAAAAAAAAAAAAAAAAAAAAAAAAAAAAAAAAAAAAAAAAAAAAAAAAAAAAAAAAAAAAAAAAAAAAAAAAAAAAAAAAAAAAAAAAAAAAAAAAAAAAAAAAAAAAAAAAAAAAAAAAAAAAAAAAAAAAAAAAAAAAAAAAAAAAAAAAAAAAAAAAAAAAAAAAAAAAAAAAAAAAAAAAAAAAAAAAAAAAAAAAAAAAAAAAAAAAAAAAAAAAAAAAAAAAAAAAAAAAAAAAAAAAAAAAAAAAAAAAAAAAAAAAAAAAAAAAAAAAAAAAAAAAAAAAAAAAAAAAAAAAAAAAAAAAAAAAAAAAAAAAAAAAAAAAAAAAAAAAAAAAAAAAAAAAAAAAAAAAAAAAAAAAAAAAAAAAAAAAAAAAAAAAAAAAAAAAAAAAAAAAAAAAAAAAAAAAAAAAAAAAAAAAAAAAAAAAAAAAAAAAAAAAAAAAAAAAAAAAAAAAAAAAAAAAAAAAAAAAAAAAAAAAAAAAAAAAAAAAAAAAAAAAAAAAAAAAAAAAAAAAAAAAAAAAAAAAAAAAAAAAAAAAAAAAAAAAAAAAAAAAAAAAAAAAAAAAAAAAAAAAAAAAAAAAAAAAAAAAAAAAAAAAAAAAAAAAAAAAAAAAAAAAAAAAAAAAAAAAAAAAAAAAAAAAAAAAAAAAAAAAAAAAAAAAAAAAAAAAAAAAAAAAAAAAAAAAAAAAAAAAAAAAAAAAAAAAAAAAAAAAAAAAAAAAAAAAAAAAAAAAAAAAAAAAAAAAAAAAAAAAAAAAAAAAAAAAAAAAAAAAAAAAAAAAAAAAAAAAAAAAAAAAAAAAAAAAAAAAAAAAAAAAAAAAAAAAAAAAAAAAAAAAAAAAAAAAAAAAAAAAAAAAAAAAAAAAAAAAAAAAAAAAAAAAAAAAAAAAAAAAAAAAAAAAAAAAAAAAAAAAAAAAAAAAAAAAAAAAAAAAAAAAAAAAAAAAAAAAAAAAAAAAAAAAAAAAAAAAAAAAAAAAAAAAAAAAAAAAAAAAAAAAAAAAAAAAAAAAAAAAAAAAAAAAAAAAAAAAAAAAAAAAAAAAAAAAAAAAAAAAAAAAAAAAAAAAAAAAAAAAAAAAAAAAAAAAAAAAAAAAAAAAAAAAAAAAAAAAAAAAAAAAAAAAAAAAAAAAAAAAAAAAAAAAAAAAAAAAAAAAAAAAAAAAAAAAAAAAAAAAAAAAAAAAAAAAAAAAAAAAAAAAAAAAAAAAAAAAAAAAAAAAAAAAAAAAAAAAAAAAAAAAAAAAAAAAAAAAAAAAAAAAAAAAAAAAAAAAAAAAAAAAAAAAAAAAAAAAAAAAAAAAAAAAAAAAAAAAAAAAAAAAAAAAAAAAAAAAAAAAAAAAAAAAAAAAAAAAAAAAAAAAAAAAAAAAAAAAAAAAAAAAAAAAAAAAAAAAAAAAAAAAAAAAAAAAAAAAAAAAAAAAAAAAAAAAAAAAAAAAAAAAAAAAAAAAAAAAAAAAAAAAAAAAAAAAAAAAAAAAAAAAAAAAAAAAAAAAAAAAAAAAAAAAAAAAAAAAAAAAAAAAAAAAAAAAAAAAAAAAAAAAAAAAAAAAAAAAAAAAAAAAAAAAAAAAAAAAAAAAAAAAAAAAAAAAAAAAAAAAAAAAAAAAAAAAAAAAAAAAAAAAAAAAAAAAAAAAAAAAAAAAAAAAAAAAAAAAAAAAAAAAAAAAAAAAAAAAAAAAAAAAAAAAAAAAAAAAAAAAAAAAAAAAAAAAAAAAAAAAAAAAAAAAAAAAAAAAAAAAAAAAAAAAAAAAAAAAAAAAAAAAAAAAAAAAAAAAAAAAAAAAAAAAAAAAAAAAAAAAAAAAAAAAAAAAAAAAAAAAAAAAAAAAAAAAAAAAAAAAAAAAAAAAAAAAAAAAAAAAAAAAAAAAAAAAAAAAAAAAAAAAAAAAAAAAAAAAAAAAAAAAAAAAAAAAAAAAAAAAAAAAAAAAAAAAAAAAAAAAAAAAAAAAADIwMjI6MDQ6MjYgMTk6MjM6MTIAMjAyMjowNDoyNiAxOToyMzoxMgAAAFMAdABlAHAAaABhAG4AZQAAAP/hCxtodHRwOi8vbnMuYWRvYmUuY29tL3hhcC8xLjAvADw/eHBhY2tldCBiZWdpbj0n77u/JyBpZD0nVzVNME1wQ2VoaUh6cmVTek5UY3prYzlkJz8+DQo8eDp4bXBtZXRhIHhtbG5zOng9ImFkb2JlOm5zOm1ldGEvIj48cmRmOlJERiB4bWxuczpyZGY9Imh0dHA6Ly93d3cudzMub3JnLzE5OTkvMDIvMjItcmRmLXN5bnRheC1ucyMiPjxyZGY6RGVzY3JpcHRpb24gcmRmOmFib3V0PSJ1dWlkOmZhZjViZGQ1LWJhM2QtMTFkYS1hZDMxLWQzM2Q3NTE4MmYxYiIgeG1sbnM6ZGM9Imh0dHA6Ly9wdXJsLm9yZy9kYy9lbGVtZW50cy8xLjEvIi8+PHJkZjpEZXNjcmlwdGlvbiByZGY6YWJvdXQ9InV1aWQ6ZmFmNWJkZDUtYmEzZC0xMWRhLWFkMzEtZDMzZDc1MTgyZjFiIiB4bWxuczp4bXA9Imh0dHA6Ly9ucy5hZG9iZS5jb20veGFwLzEuMC8iPjx4bXA6Q3JlYXRlRGF0ZT4yMDIyLTA0LTI2VDE5OjIzOjEyLjE2MjwveG1wOkNyZWF0ZURhdGU+PC9yZGY6RGVzY3JpcHRpb24+PHJkZjpEZXNjcmlwdGlvbiByZGY6YWJvdXQ9InV1aWQ6ZmFmNWJkZDUtYmEzZC0xMWRhLWFkMzEtZDMzZDc1MTgyZjFiIiB4bWxuczpkYz0iaHR0cDovL3B1cmwub3JnL2RjL2VsZW1lbnRzLzEuMS8iPjxkYzpjcmVhdG9yPjxyZGY6U2VxIHhtbG5zOnJkZj0iaHR0cDovL3d3dy53My5vcmcvMTk5OS8wMi8yMi1yZGYtc3ludGF4LW5zIyI+PHJkZjpsaT5TdGVwaGFuZTwvcmRmOmxpPjwvcmRmOlNlcT4NCgkJCTwvZGM6Y3JlYXRvcj48L3JkZjpEZXNjcmlwdGlvbj48L3JkZjpSREY+PC94OnhtcG1ldGE+DQogICAgICAgICAgICAgICAgICAgICAgICAgICAgICAgICAgICAgICAgICAgICAgICAgICAgICAgICAgICAgICAgICAgICAgICAgICAgICAgICAgICAgICAgICAgICAgICAgICAgCiAgICAgICAgICAgICAgICAgICAgICAgICAgICAgICAgICAgICAgICAgICAgICAgICAgICAgICAgICAgICAgICAgICAgICAgICAgICAgICAgICAgICAgICAgICAgICAgICAgICAKICAgICAgICAgICAgICAgICAgICAgICAgICAgICAgICAgICAgICAgICAgICAgICAgICAgICAgICAgICAgICAgICAgICAgICAgICAgICAgICAgICAgICAgICAgICAgICAgICAgIAogICAgICAgICAgICAgICAgICAgICAgICAgICAgICAgICAgICAgICAgICAgICAgICAgICAgICAgICAgICAgICAgICAgICAgICAgICAgICAgICAgICAgICAgICAgICAgICAgICAgCiAgICAgICAgICAgICAgICAgICAgICAgICAgICAgICAgICAgICAgICAgICAgICAgICAgICAgICAgICAgICAgICAgICAgICAgICAgICAgICAgICAgICAgICAgICAgICAgICAgICAKICAgICAgICAgICAgICAgICAgICAgICAgICAgICAgICAgICAgICAgICAgICAgICAgICAgICAgICAgICAgICAgICAgICAgICAgICAgICAgICAgICAgICAgICAgICAgICAgICAgIAogICAgICAgICAgICAgICAgICAgICAgICAgICAgICAgICAgICAgICAgICAgICAgICAgICAgICAgICAgICAgICAgICAgICAgICAgICAgICAgICAgICAgICAgICAgICAgICAgICAgCiAgICAgICAgICAgICAgICAgICAgICAgICAgICAgICAgICAgICAgICAgICAgICAgICAgICAgICAgICAgICAgICAgICAgICAgICAgICAgICAgICAgICAgICAgICAgICAgICAgICAKICAgICAgICAgICAgICAgICAgICAgICAgICAgICAgICAgICAgICAgICAgICAgICAgICAgICAgICAgICAgICAgICAgICAgICAgICAgICAgICAgICAgICAgICAgICAgICAgICAgIAogICAgICAgICAgICAgICAgICAgICAgICAgICAgICAgICAgICAgICAgICAgICAgICAgICAgICAgICAgICAgICAgICAgICAgICAgICAgICAgICAgICAgICAgICAgICAgICAgICAgCiAgICAgICAgICAgICAgICAgICAgICAgICAgICAgICAgICAgICAgICAgICAgICAgICAgICAgICAgICAgICAgICAgICAgICAgICAgICAgICAgICAgICAgICAgICAgICAgICAgICAKICAgICAgICAgICAgICAgICAgICAgICAgICAgICAgICAgICAgICAgICAgICAgICAgICAgICAgICAgICAgICAgICAgICAgICAgICAgICAgICAgICAgICAgICAgICAgICAgICAgIAogICAgICAgICAgICAgICAgICAgICAgICAgICAgICAgICAgICAgICAgICAgICAgICAgICAgICAgICAgICAgICAgICAgICAgICAgICAgICAgICAgICAgICAgICAgICAgICAgICAgCiAgICAgICAgICAgICAgICAgICAgICAgICAgICAgICAgICAgICAgICAgICAgICAgICAgICAgICAgICAgICAgICAgICAgICAgICAgICAgICAgICAgICAgICAgICAgICAgICAgICAKICAgICAgICAgICAgICAgICAgICAgICAgICAgICAgICAgICAgICAgICAgICAgICAgICAgICAgICAgICAgICAgICAgICAgICAgICAgICAgICAgICAgICAgICAgICAgICAgICAgIAogICAgICAgICAgICAgICAgICAgICAgICAgICAgICAgICAgICAgICAgICAgICAgICAgICAgICAgICAgICAgICAgICAgICAgICAgICAgICAgICAgICAgICAgICAgICAgICAgICAgCiAgICAgICAgICAgICAgICAgICAgICAgICAgICAgICAgICAgICAgICAgICAgICAgICAgICAgICAgICAgICAgICAgICAgICAgICAgICAgICAgICAgICAgICAgICAgICAgICAgICAKICAgICAgICAgICAgICAgICAgICAgICAgICAgICAgICAgICAgICAgICAgICAgICAgICAgICAgICAgICAgICAgICAgICAgICAgICAgICAgICAgICAgICAgICAgICAgICAgICAgIAogICAgICAgICAgICAgICAgICAgICAgICAgICAgICAgICAgICAgICAgICAgICAgICAgICAgICAgICAgICAgICAgICAgICAgICAgICAgICAgICAgICAgICAgICAgICAgICAgICAgCiAgICAgICAgICAgICAgICAgICAgICAgICAgICAgICAgICAgICAgICAgICAgICAgICAgICAgICAgICAgICAgICAgICAgICAgICAgICAgICAgICAgICAgICAgICAgICAgICAgICAKICAgICAgICAgICAgICAgICAgICAgICAgICAgIDw/eHBhY2tldCBlbmQ9J3cnPz7/2wBDAAcFBQYFBAcGBQYIBwcIChELCgkJChUPEAwRGBUaGRgVGBcbHichGx0lHRcYIi4iJSgpKywrGiAvMy8qMicqKyr/2wBDAQcICAoJChQLCxQqHBgcKioqKioqKioqKioqKioqKioqKioqKioqKioqKioqKioqKioqKioqKioqKioqKioqKir/wAARCADZATUDASIAAhEBAxEB/8QAHwAAAQUBAQEBAQEAAAAAAAAAAAECAwQFBgcICQoL/8QAtRAAAgEDAwIEAwUFBAQAAAF9AQIDAAQRBRIhMUEGE1FhByJxFDKBkaEII0KxwRVS0fAkM2JyggkKFhcYGRolJicoKSo0NTY3ODk6Q0RFRkdISUpTVFVWV1hZWmNkZWZnaGlqc3R1dnd4eXqDhIWGh4iJipKTlJWWl5iZmqKjpKWmp6ipqrKztLW2t7i5usLDxMXGx8jJytLT1NXW19jZ2uHi4+Tl5ufo6erx8vP09fb3+Pn6/8QAHwEAAwEBAQEBAQEBAQAAAAAAAAECAwQFBgcICQoL/8QAtREAAgECBAQDBAcFBAQAAQJ3AAECAxEEBSExBhJBUQdhcRMiMoEIFEKRobHBCSMzUvAVYnLRChYkNOEl8RcYGRomJygpKjU2Nzg5OkNERUZHSElKU1RVVldYWVpjZGVmZ2hpanN0dXZ3eHl6goOEhYaHiImKkpOUlZaXmJmaoqOkpaanqKmqsrO0tba3uLm6wsPExcbHyMnK0tPU1dbX2Nna4uPk5ebn6Onq8vP09fb3+Pn6/9oADAMBAAIRAxEAPwD6RooooAKKKKACiiigAooooAKKKKACiiigAqC8vbXTrOW71C5htbaFd0k08gREHqWPAFT1T1fTLfW9FvdLvl3W17A8Eo/2WUqf50ATG9tVsDfNcwi0EXnG4Mg8sR4zv3dNuOc9MVSuvE2hWWlw6le61p1vYXADQ3Ut2iRSA9Crk4PUdDXhUev6hc/BaH4ctLjxC2r/APCMPtHKxK2TJj+55Q25rs/Eb+G7HxfZ6Ho/gJvFeu6dpcUSRt5axWlqCQgLSnYpOT0GSOp4xQB6ZZ6lY6jYre6feW91aMCVnglV4yB1O4HFVIfE+gXNzaW1vrmmyz3qeZaxR3cbNcLz8yAHLDg8jPSvLvhIs1tqfxFsn0j+wo47mORdKWZJEtWeElgpT5ecA8cDgdqvfAXwnolv8MdF1s6fDPqt0rSvezoJJVKsyKFYjKqFGABjv6mgDtfBt9qd3oM8+v6rpGozLdTKJ9KfdCiKcBST/EvIPpV7T/FGgaveyWela5pt9dR53wW13HI6465VSSK8n8J6loOlfAvXrnxbbyXWlf2xdrNbxAlpibjCoACM5bA6gevFY3iVbiDxH4Dvbf4br4PRfElnbxX0c9uryRuSGhaOL5hkA9eOCO9AHoI16Wy+POrW+o6o1vpFv4diuGjnuNsETmcgvgnaDjjNdxpmr6brVp9q0bULXULfO3zrSdZUz6blJFeXX/h7R/EP7Tc8eu20V4lt4finhtp+Y3cTMMlDw2AT1yB19KfoVhaeHP2mNR0vw5BHa6ffeH1vL21txtiScTbQ20cA7cdP7xNAG78H9SvdT8GXk+p3k93KmrXkYkuJS7BFlIC5J6AdB2rqLLxT4f1LUHsNO13Tbu8QkNbwXkbyLjrlQcivBbzUL3T/ANmnXTp8pgNx4gnt5ZNxULG9zhssOgPQn0Jrc1X4WeNNS02xg07RvAGiy2M8U9rfaabhJoihB4by/mzjnJ569eaAPc6KKKACiiigAooooAKKKKACiiigAooooAKKKKACiiigAooooAKKKKACiiigAooooAKKKKACiiigAooooA4+P4Y6BF8Tn8dL9p/tR02+UXXyA2wRmQLtyG2jGc45PFHiP4bab4h8RJr0Wp6xouqCEW8lzpN35LTRg5CvlSCPyPTngV2FFAHK+F/h5o/hFtXOlS3rf2v5ZuftM/mncqFdwYjOWySSSeTxgcVp+FfDdn4Q8L2Wg6ZJPJa2SFI3uGDOQWLckADqT2Fa9FAHIR/DLw+PBF94VuRc3WnX1xJcyGaQeYsjvvyrKBjDYxx25zWZF8G9IN5pl3qWveItVudLu4bq0k1DUBL5RjYMFC7QuCQMnG4juK9CooA4zxF8LtE8SeJ28Q3V1qVrqgt0ggubK58l7bYWO5CBnJ3kHOQR2q54S8BaV4PuL68tJ73UNS1AqbrUdRn86eUL90FsAAD0AHb0FdPRQBzGn/D7QrHwhfeGpo5b7TL+aWaeO6YEsZG3EAqBjB6Y5GBznmsiw+EenWD28Z8S+KLqwtnVodOn1VjAu05VcKAxUY6FiK76igAooooAKKKKACiiigAooooAKKKKACiiigAooooAKKKKACiiigAooooAKKKKACiiigAooooAKKKKACiiigAooooAKKKKACud+HsjzfDHwvLM7SSPo9ozOxyWJhTJJ7muirm/hx/ySzwp/wBgWz/9EJQB0lFFFABRRRQAUUUUAFFFFABRRRQAUUUUAFFFFABRRRQAUUUUAFFFFABRRRQAUUUUAFFFFABRRRQAUUUUAFFFFABRRRQAUUUUAFFFFABXN/Dj/klnhT/sC2f/AKISukrm/hx/ySzwp/2BbP8A9EJQB0lFFFABRRRQAUUUUAFFFFABRRRQAUUUUAFFFFABRRRQAUUUUAFFFFABRRRQAUUUUAFFFFABRRRQAUUUUAFFFFABRRRQAUUUUAFFFFADXkSPHmOq56bjiub+G8iN8LvCqq6lho1nkA8j9ylYvxp8C/8ACd/Dm7traLfqVl/pVlgcs6jlP+BLkfXB7VzP7NvgT/hHPAza/fRbb/W8Om4cpbj7g/4Fy3uCvpQB7NRRRQAUUUUAFFFFABRRRQAUUUUAFFFFABRRRQAUUUUAFFFFABRRRQAUUUUAFFFFABRRRQAUUUUAFFFFABRRRQAUUUUAFFFFABVLVtYsNDsGvNUuFghBCgkEs7HoqqOWY9lAJPYVnav4m+z350nQ7b+1NZKgm3V9sduD0eaTBEa+g5Zv4VPOE0nwyYb9dX165/tTWMELMybYrUHqsEeTsHYtks3cngAApfYNV8YfPraTaTojfd01X23F0P8Apuyn5FP/ADzU5P8AE3VaP7O1Twf82gpLqmir97S2fM9qP+ndmPzKP+eTHj+FhwtdZRQBS0nWLDXLAXml3CzwlircFWRh1RlPKsO6kAirtYGreGfPv21fQrn+y9Y2gNOqbo7kDok0fG8eh4ZexHIJpPibz78aTrtt/ZesbSVgZ90dyB1eGTjePUcMvcDgkA36KKKACiiigAooooAKKKKACiiigAooooAKKKKACiiigAooooAKKKKACiiigAooooAKKKKACiiigAooooAKKKytb8Q2WhJEk/mXF5cErbWNsu+a4YdQq+g7scKOpIoA0p54ra3knuZUhhjUu8kjBVRR1JJ4Arlv7S1Xxf8AJoDy6Xorff1V0xNcj0t0YfKp/wCerD/dU5DB8Hh29164jvvGZjeNGD2+jwtut4SOQ0h/5bOPcbVPQZG49TQBR0jRrDQrAWel24hi3F2OSzSMeruxyWY92JJNXqKKACiiigAqlq2j2GuWBs9Ut1nhLBl5KsjDo6sOVYdmBBFXaKAOT/tDVfB/ya68uq6KvC6oqZntR/08Ko+ZR/z0UcfxKOWrqLe4hureO4tZUmhlUPHJGwZXU9CCOCKkrl5/Dt5oVxJf+DDHGrsZLjR5m2285PJaM/8ALGQ+oG0nquTuAB1FFZWieIrPXFlSESW17bkC5sbldk1uT03L6HswJU9ia1aACiiigAooooAKKKKACiiigAooooAKKKKACiiigArjviB45u/BsmiW+m6INYvNYvPscMLXYtwGxkHcVYfyrsa8m+NpvxrngH+xhbNf/wBuD7OLosIi+3jcVycfSgDsvDWt+LdS1KSHxJ4Qh0S1WEslwmrJdFnyAE2qgIyCTnPbHeunrj7G48Xw2Gpy+P59B03TUtHb7XpFxN5kPHLkyKAABkg88gV4b40uvCGmeEn8R+ANI8VRavaSwzW/iaaC58mf94oPmSyHBVge4wTgd8UAe2674g1Oy+MHhTRLa52adqNreSXMPlqfMaNVKHcRkYJPQj3rta848Uf8nAeBf+vLUP8A0Ba4XWtF03RfFOuX3xZ0zWT9p1FpNN8V2M8jR2cBwIkwh/clenKnJ9QBkA+gaK8V+KGpah4g+KGkeE7TSLjxDpB0k6nNptrqC2gui0jIpeQkbkULnaDyW74q38OPDniTQPiDK9r4TufDHhe4sSs1lLq8d3GLgMCrooYlSRkEdP0oA9fooooAKKqapqtjounve6pcx21umAXc9SeAoHUkngAZJPArnvsur+Mfm1FbjRdDbpZhil1eL/01YcxIf7incf4ivK0ATXfiO71W8l0zwdHFczRMY7nUpgTa2hHVeMebIP7inA/iZehv6J4ctdFeW5Mkt7qVwB9p1C5IaabHQZHCqOyKAo9OtaNpZ22n2cVpYwR21vCoSOKJAqoo6AAcAVNQAUUUUAFFFFABRRRQAUUUUAFFFFAGRrfhy01porjfLZ6jbA/ZtQtiFmhz1GTwynujAqe4rPtPEd3pN3FpvjFIreWRhHbanCCtrdseinOfKkP9xiQf4WboOnqK6tLe+tJbW9gjuLeZSkkUqBldT1BB4IoAlork/smreDudLW41nQ162LNvurNf+mTHmVB/cY7h/CTwtdBperWOtael7pdylzbuSA69iOCpB5VgeCDgg8GgC5RRRQBn65d6lY6NPcaHpi6rfJt8qze5EAkywB/eEEDAJPTnGO9ecv8AFPxonjJPC7fDmH+1ZLL7csX9vx7fJ3lM7vKxnIPHWvVq8uuf+Tr7P/sUj/6UvQB6BoN5ql/o8VxrulLpN6xbzLRLoXAQAkA7wADkYPTjNaNeOX/hOy8Y/tA69Y61LPJpcWlWk09jHIUS6cFgnmFSCVXLHb0JwT0q7Pp8OlftE+FbGxiaKztfDUtvAm4sFVGwFyck4GOpJoA9Wory+5Y/8NW2Yycf8IkeM/8ATy1cBp1vqPxC1LXdZ1rwDeeLlXU57W1m/txLWKzjQgCOOMupBHBL9SfxoA+j6K4j4S2HibS/BbWPjG3mt7iC8lW0S4u0uZRbcGMNIhIJGWH0A6V29ABRRRQAVzHizwaPFGs+HL8332X+w9QF75Yi3+fgY25yNv1wa6eigChruj23iHw/f6Pf7xbX1u9vKYzhgrDBIPrzXmmo/BrX9Y8GnwvqvxCup9KiiWK1hTTY02hCNglIbMgXaMDK8gE5xXrVFAHOap4S/tL4gaF4m+2+X/ZEFxF9m8rPm+aoGd2eMY9Dn2rm9Z+GXiDXIbvSr3x/fP4evJC0ti9jE0+wtuMYuDzt7DKk4r0eigDjPFPw6j1u70nU9D1a40DWdHiMNpewIso8ojGx0bh19ifWrnhrw74h03UpL3xJ4vn1xmhMSW6WUdrAmWB3bFyS3GMluhPrx09NkkSGJ5ZnWONFLM7HAUDqSewoAdWFrHiZLG9Gl6VbNqmsuoZbOJtoiU9HmfpGnuck/wAIY8VQOr6l4tPleGHax0k8Say6AtMPS2Rhgj/pqw2/3Q/Ubuj6JYaDZG202Hy1Zi8sjMXkmc9Xdzkux9SSaAM3S/DL/wBoJq/iS5XU9WXJiIXbBZ56rCh6ccFzlj6gfKOhoooAKKiurqCxs5ru8mSC3gQySyyNtVFAyST2AFeV2X7SHgTUPEkOkW51L9/MIY7xrYCEsTgfxbwMnutAHrNFeceNvjr4O8C6w2lag95fX0ePOhsIlfycjIDFmUZx2BJrR8PfFnwt4n8I6p4g0m4neDSbd7i8tnj2zxKqF/u5wchTgg4yMZoA7aivH7j9pvwDBb2cijVJnuV3PFHbKWtucfPlwM98KW/pXbav8SPDGieB4PFl5qGdKulVrdo1JeYsOFVeu7g5BxjBzjFAG7qOtaXo5gGralZ2JuX8uAXM6x+a/wDdXcRk+wq7Xyv8Tfip4e+JWpeDf7AF5DNZ6rmaC7iCMAzR4OVLKQcHvmvTtWuPCFv+0bbXFydbPiS10t5VWIx/YzEInJBH3y23PA4zigD1qivm/wAH/tIG5+ImpRa42oXGjX9wkWkW0dpAHt9z4G8hgehGeWruvDn/AAiUv7R/iP8As9ta/wCEkjsQbvzmj+x7P3I+THz7vmTrx96gD1aivKPEH7R3gXw/rUum7tQ1F4XKSzWMCtGjA4IyzrnHqARXQ3Xxa8Lw/DiTxtazXF9pUbrE620Y81XLBdpViuCCwPJ6cjORQB21FeSy/tKfD+LWIrET38kbkB7xLYeTET/eO7cceqqR6Zr1lHWSNXjYOjAFWU5BHqKAFrn9U8MudQfV/Dlyumas2PNbbugvAOizIMbuOA4ww7HHB6CigDC0fxMt5e/2Vq9sdL1lVLG0kbcsyjq8L8CRPpgj+ILW7VDWNEsNesvsupweYqsHjdWKSQuOjo4wUYdiCDWENW1PwifL8TO2oaQOE1lEG+AelyijAH/TVRt/vBepAOsrl5fBgk+K0PjX7fgxaSdM+x+T1/emTfv3e+MY/GumiljnhSWF1kjdQyOhyGB6EHuKdQBzll4T+x/ETVPFP23f9vsobX7L5WPL8sk7t2ec56YGKo+M/Ak3iTWdJ1zRdbl0LW9K3rBdpAs6PG4wyPGxAYfjxk+2OxooA4Hw/wDDO50n4hL4v1TxLc6xqD2D2k/nwKgbLAgoFOI1AGNgB5JOaik+Geq6Xr+paj4G8XzaBDqs5ubyyksI7uEyn7zoGIKE9+v5AAeh0UAZnh7S7vR9HS11LV7nWLrczyXdyqqzEnoFUAKB2FadFFABRRRQAV5/4K8J2Wr+AfD+pahqHiCa7vNMtp55P+Eiv13u8SsxwJgBkk8AYr0Cub+HH/JLPCn/AGBbP/0QlAB/wgekf8/niD/wo9Q/+P0f8IHpH/P54g/8KPUP/j9dJRQBzf8Awgekf8/niD/wo9Q/+P0f8IHpH/P54g/8KPUP/j9dJRQBzf8Awgekf8/niD/wo9Q/+P1T1T4a6TqFi0KX2so4ZXQ3OrXN5HuUgjdDPI8brkDIZfyPNdhRQBzen+JJ7K+h0jxZBFY3sh2W11Fn7LensEJ+4/8A0zbn+6WAzXSVXv7C01SxlstRtorq1mXbJDKoZWHuDXN7dX8Hf6v7Trmgr/BzJeWQ9u86D0/1g/2+gAOsoqtp2o2erWEV7plzHdW0wyksTZB/+v2I7GrNAHG/F2xvdS+EXiO10uN5Ll7QlUjyWcAhmAA6kqCMd+leX/DD4r/DzTvhpoHh3UIy+pJMkbWH2EybpzJxLuI2dSDnO4enFfQVZMXhPw7Bqv8AacGgaXHqG7d9rSzjEufXeBnP40AfPngfxZoPw1+MvjxfiAXtLq8u2e1u3t3l+QySMQNoLYdXQg4xxzVbwgU1yX4xeKNDtXttAudHvI4MpsV3MbNwvTOASfTePWvpDVvDeh6+YzrujafqRj+59stUm2/TcDirEemWEWmnTorK3SxKGM2qxKIihGCu3GMEHpQB4D4I0yx/4Y91mf7HB5s9reSSyeWNzsjNsYnuRtGPTFcXr0M3/DN/w41KeB7rTbPUbn7Wg5BBuJNoPthWXn1A719WwaDpFrozaRbaVZQ6Y6sjWUduiwsrZ3AoBtwcnPHOaWHRNKt9H/smDTLOLTdpX7GluohwTkjYBtwSSelAHzR8WPHvhPxx4g8GHwjunayvoxPN9kaIRhmTZFlgDxtbgccHFdjdf8noWX/YKP8A6JevW4/B/hmKzitIvDukpbQzCeKFbGIJHIOjhduA3J5HNXG0XS31ldXbTbNtTRPLW9MC+cqc/KHxuxyeM96APn/wl4s0jwN+0Z45h8S3D2ralchLbELvvZnDKvAOMhwcnj3q94bhmuP2q/iBDattnk0WRI2zjDEWwBz25r2288N6HqGpxajf6Np91fQ48q6mtUeWPHTa5GRj2NSQ6LpVvrE2rW+mWcWpXCbJrxLdVmkXj5WcDcR8q8E9h6UAfNnwX+IngvwB4L1jRPGcT2mqi8k8+B7NpGuFCqvlnAIBBDDa2B+ZrC0zTru2/ZX8VX80D29nqGrQSWiMeCokQFh7Z4z3219T6h4S8Oavei81Xw/pd9dLjE9zZRyOMdPmYE1cvdK07U9NOn6lYWt3ZMADbTwrJGQOR8pGOMDH0oA8C+I+mWNr+yP4dNvZwREW9hOCkYB8x4wXf6sScnvmvb/BzFvAugsxJY6bbkknr+6WrV1oWkX2kJpV7pVlcadGqqlnNbo8KhfugIRgAY444q5FFHBCkMEaxxRqFREXCqBwAAOgoAfRRVbUNRs9JsJb3UrmK1toRukllbaq/wCfTvQBZrm9Q8Sz3l9NpHhOCO/vom2XNzLn7LZH0kYfff8A6Zrz6lQc1Xxq/jH732nQ9BbtzHeXo/nAh/7+H/Y79JYafaaVYRWWm20VrbQrtjiiUKqj6UAcvpnw20rT7EQyX2sPIWaRza6rc2cW5iWO2GCRI0GScAD6knmrn/CB6R/z+eIP/Cj1D/4/XSUUAc3/AMIHpH/P54g/8KPUP/j9H/CB6R/z+eIP/Cj1D/4/XSUUAc3/AMIHpH/P54g/8KPUP/j9H/CB6R/z+eIP/Cj1D/4/XSUUAcbrfgvTbTQNQube+8QJNDaySRt/wkV+cMFJBwZvWui0CR5vDemSzO0kj2kTO7HJYlBkk9zTfEn/ACKurf8AXlN/6AaPDf8AyKuk/wDXlD/6AKANKiiigArm/hx/ySzwp/2BbP8A9EJXSVzfw4/5JZ4U/wCwLZ/+iEoA6SiiigAooooAKKKKACiiigDnNR8MzQX8ur+FbiPT9RlO64hcE216f+mijo3bzF+YcZ3Abas6L4lh1O5fT72CTTdXhXdLYXBG7b03xsOJEz/Ev0IB4rarN1rQbDXrVIr+Nt8Lb4LiJik1u/8Afjccqfp16HI4oA0qK5Rdc1Dws62/i9xcafnEWuRoFVfQXCjiM/7Y+Q99nAPVKyuoZCGVhkEHIIoAWiiigAooooAKKKKACiiigAooooAKKRmCqWYgADJJPSuVfXdQ8USNb+EGWCwB2y65IgZD6i3U8SN/tn5B/t8igDR1rxLBpdwmn2cEmpavMu6GwtyN23pvdjxGmf4m+gyeKraf4anub+LVvFc8d/qER3W8EYItrI/9M1P3n/6aN83ptBxWjoug2Gg2zx2KMZJm33FzM5ea4f8AvO55Y/oBwMDitKgAooooAKKKKACiiigAooooAzfEn/Iq6t/15Tf+gGjw3/yKuk/9eUP/AKAKPEn/ACKurf8AXlN/6AaPDf8AyKuk/wDXlD/6AKANKiiigArm/hx/ySzwp/2BbP8A9EJXSVzfw4/5JZ4U/wCwLZ/+iEoA6SiiigAooooAKKKKACiiigAooooARlV0ZHUMrDBUjII9K5VtE1Hwqxn8JJ9q03OZdEkcKE9TbOeEP/TM/Ie2zknq6KAM7RtdsNetXm0+Vi0TeXPBKpSW3fukiHlW9j9Rkc1o1ia14Zi1K6TUbC4fTNYiXbHfQKCWX+5IvSRP9k9OoKnmoNO8TSw6hFpHim3TTtSkO2CVGJtr3/rk56N3MbfMOcbgN1AHRUUUUAFFFFABRRRQAVnazrthoNos+oSkGRtkMMal5Z37JGg5ZvYfU8Vnal4mlk1CXSPC9umo6nGcTuzEW9lnvK4/i7iNfmPGdoO6p9G8MxaddtqWoXD6nrEq7ZL6dQCq/wByJekaf7I69WLHmgDPXRdR8VsJvFifZNM6x6GjhvM9DcuOH/65r8g7l+MdUiLHGqRqFRRhVUYAHpS0UAFFFFABRRRQAUUUUAFFFFABRRRQBm+JP+RV1b/rym/9ANHhv/kVdJ/68of/AEAUeJP+RV1b/rym/wDQDR4b/wCRV0n/AK8of/QBQBpUUUUAFc38OP8AklnhT/sC2f8A6ISsX4yz+KdO+Htzq/grUZLK900+fMqRJJ5sIHzjDKcFR82fRTXL/s33PirVPBTah4h1KSbSolSy0q1MSKFjiG0tkKCRwFGT/C1AHs1FFFABRRRQAUUUUAFFFFABRRRQAUUUUAFVdR02y1fT5bHU7aO6tpRh4pFyD6H2IPII5B5q1RQByfmav4O/15udc0Ff+WoBkvLIf7QHM6D1H7wdw/UdLY31rqdjFeadcRXVtMu6OaJwyuPUEVPXNX3hq5sb6XVfCM0dneStvubKXP2W9PcsB9xz/wA9FGf7wbAFAHS0VjaJ4lt9XmlspoZNP1W3XNxp9zgSIOm5SOHQno65Hbg5AXW/EltpE0VnFFJf6pcKTb6fbYMkg6bjnhEB6uxAHTk4BANG9vrXTbGW81C4itraFd0k0rhVQepJrmvN1fxjxbG50TQm6zkGO8vR/sA8wof7x+c9gnBM9j4budQvotV8Xyx3l3E2+2sYsm1sz2Kg/wCskH/PRh/uhea6WgCrpumWWj6fHZaZbR2ttEPljjXAHqfck8knknk1aoooAKKKKACiiigAooooAKKKKACiiigAooooAzfEn/Iq6t/15Tf+gGjw3/yKuk/9eUP/AKAK8/8Aj7ceKdM+H7at4S1KS1jtiU1CBYkcSwONpb5lJG046Y4YntR8ArjxTqfw/XVvFupSXUdyQmnwNEieVAg2hvlUE7jnrnhQe9AHqVFFFADZI0mieOVFeN1KsrDIYHqCKq6RpNloWj2ul6VAtvZ2kYihiX+FR/M+/erlFABRRRQAUUUUAFFFFABRRRQAUUUUAFFFFABRRRQAUUUUAZmt+H7HXoYxdrJHPA2+2u4H2TW7f3kcdPccgjggjik0Tw/Y6DDL9kEktxcMGuby4bfNcN/ed+/sBgAcAAcVqUUAFFFFABRRRQAUUUUAFFFFABRRRQAUUUUAFFFFABRRRQBBfWVvqWn3FjfRLNbXMTRSxt0dGGCD9QaLGyt9N0+3sbGJYba2iWKKNeiIowAPoBU9FABRRRQB/9k=)"
      ],
      "metadata": {
        "id": "ITZHyM7gBec7"
      }
    },
    {
      "cell_type": "markdown",
      "source": [
        "Voici quelques exemples. "
      ],
      "metadata": {
        "id": "tytJBUh2Bci2"
      }
    },
    {
      "cell_type": "code",
      "source": [
        "5 < 10"
      ],
      "metadata": {
        "colab": {
          "base_uri": "https://localhost:8080/"
        },
        "id": "qfBk_tc02FjN",
        "outputId": "0f626042-3f12-40ce-c973-39bd7e8012a8"
      },
      "execution_count": null,
      "outputs": [
        {
          "output_type": "execute_result",
          "data": {
            "text/plain": [
              "True"
            ]
          },
          "metadata": {},
          "execution_count": 49
        }
      ]
    },
    {
      "cell_type": "code",
      "source": [
        "7 > 10"
      ],
      "metadata": {
        "colab": {
          "base_uri": "https://localhost:8080/"
        },
        "id": "B3hQB2TM2jWj",
        "outputId": "d4f896ff-ceeb-4ca9-cfd5-ea7f0d7b6555"
      },
      "execution_count": null,
      "outputs": [
        {
          "output_type": "execute_result",
          "data": {
            "text/plain": [
              "False"
            ]
          },
          "metadata": {},
          "execution_count": 2
        }
      ]
    },
    {
      "cell_type": "code",
      "source": [
        "\"bonjour\" == \"au revoir\""
      ],
      "metadata": {
        "colab": {
          "base_uri": "https://localhost:8080/"
        },
        "id": "vvbVBGP9S8BU",
        "outputId": "a3936485-188e-479e-93aa-7a8f5914e7b4"
      },
      "execution_count": null,
      "outputs": [
        {
          "output_type": "execute_result",
          "data": {
            "text/plain": [
              "False"
            ]
          },
          "metadata": {},
          "execution_count": 3
        }
      ]
    },
    {
      "cell_type": "code",
      "source": [
        "5.9 == 5.90"
      ],
      "metadata": {
        "colab": {
          "base_uri": "https://localhost:8080/"
        },
        "id": "VFmu8NZ-TFot",
        "outputId": "cd3ca23b-0cb8-426c-9b19-aea4400f64d3"
      },
      "execution_count": null,
      "outputs": [
        {
          "output_type": "execute_result",
          "data": {
            "text/plain": [
              "True"
            ]
          },
          "metadata": {},
          "execution_count": 5
        }
      ]
    },
    {
      "cell_type": "code",
      "source": [
        "4+3 == 7"
      ],
      "metadata": {
        "colab": {
          "base_uri": "https://localhost:8080/"
        },
        "id": "W4oB0xmHTS9D",
        "outputId": "9ff1a2a0-5d41-48d3-a2f6-f400aa34cdaf"
      },
      "execution_count": null,
      "outputs": [
        {
          "output_type": "execute_result",
          "data": {
            "text/plain": [
              "True"
            ]
          },
          "metadata": {},
          "execution_count": 6
        }
      ]
    },
    {
      "cell_type": "code",
      "source": [
        "\"Led Zeppelin\" > \"Ariana Grande\""
      ],
      "metadata": {
        "colab": {
          "base_uri": "https://localhost:8080/"
        },
        "id": "LtvTQPaBVLz6",
        "outputId": "81f27bcd-d74c-4392-f8d0-d8af4c052e3c"
      },
      "execution_count": null,
      "outputs": [
        {
          "output_type": "execute_result",
          "data": {
            "text/plain": [
              "True"
            ]
          },
          "metadata": {},
          "execution_count": 15
        }
      ]
    },
    {
      "cell_type": "markdown",
      "source": [
        "Ces exemples se comprennent bien, sauf peut-être éventuellement le dernier. On pourrait croire que votre ordinateur affiche ses goûts musicaux, mais il s'agit en fait d'un classement par ordre alphabétique. Pour des chaînes de caractères, `\"a\"<\"b\"` demande si \"a\" serait avant \"b\" dans le dictionnaire. \n",
        "\n",
        "Enfin, évitez absolument de tester une égalité entre réels issus d'un calcul. Il est possible qu'un test comme `(3-1.5) == 1.5` donne `True` mais aussi qu'il donne `False`. La raison est que les calculs ne sont pas exacts. Ils sont faits avec une précision de 16 chiffres significatifs. C'est tout à fait suffisant pour nos applications, mais il est possible que le résultat de `3-1.5` soit 1.5000000000000002 et pour Python ce nombre est différent de 1.5. Si vous devez tester l'égalité de deux réels x et y, il est préférable d'utiliser le test `abs(x-y) < 1.0e-12`, c'est à dire, est-ce que la valeur absolue de x-y est inférieure à un nombre arbitraire suffisamment petit à votre goût, ici $10^{-12}$.  \n",
        "\n",
        "\n",
        "### Les opérateurs booléens\n",
        "\n",
        "Les opérateurs booléens, encore appelés opérrateurs logiques, servent à combiner plusieurs tests. Les plus courants sont les suivants \n",
        "\n",
        "<table>\n",
        "    <thead>\n",
        "        <tr>\n",
        "            <th>Syntaxe Python</th><th>Signification</th>\n",
        "        </tr>\n",
        "    </thead>\n",
        "    <tbody>\n",
        "        <tr><td align=\"center\">and</td><td align=\"center\">et</td>\n",
        "        <tr><td align=\"center\">or</td><td align=\"center\">ou</td></tr>\n",
        "        <tr><td align=\"center\">not</td><td align=\"center\">non</td></tr>\n",
        "    </tbody>\n",
        "</table>\n",
        "\n",
        "`not` qui sert à inverser la condition qui suit (`not True` est `False` et `not False` est `True`). La réponse donnée sera toujours un booléen. Voici quelques exemples \n"
      ],
      "metadata": {
        "id": "yDSMHcbA07eW"
      }
    },
    {
      "cell_type": "code",
      "source": [
        "5 < 10 and 5 > 7"
      ],
      "metadata": {
        "colab": {
          "base_uri": "https://localhost:8080/"
        },
        "id": "O8Z9aA7xEfDp",
        "outputId": "d956962b-0afe-40e7-89e4-3fd6dcbbe52d"
      },
      "execution_count": null,
      "outputs": [
        {
          "output_type": "execute_result",
          "data": {
            "text/plain": [
              "False"
            ]
          },
          "metadata": {},
          "execution_count": 16
        }
      ]
    },
    {
      "cell_type": "code",
      "source": [
        "5 < 10 or 5 > 10"
      ],
      "metadata": {
        "colab": {
          "base_uri": "https://localhost:8080/"
        },
        "id": "XESNHHGtE5xS",
        "outputId": "b53401a3-fc91-41c7-d134-066f1dedaccc"
      },
      "execution_count": null,
      "outputs": [
        {
          "output_type": "execute_result",
          "data": {
            "text/plain": [
              "True"
            ]
          },
          "metadata": {},
          "execution_count": 17
        }
      ]
    },
    {
      "cell_type": "code",
      "source": [
        "not 5 > 10"
      ],
      "metadata": {
        "colab": {
          "base_uri": "https://localhost:8080/"
        },
        "id": "FsNQUfc1FBtp",
        "outputId": "fbc7e3fd-bd34-49e4-83cb-d6b6614bdddf"
      },
      "execution_count": null,
      "outputs": [
        {
          "output_type": "execute_result",
          "data": {
            "text/plain": [
              "True"
            ]
          },
          "metadata": {},
          "execution_count": 19
        }
      ]
    },
    {
      "cell_type": "markdown",
      "source": [
        "Dans le premier exemple, on vérifie si les 2 conditions sont vraies en même temps. La première est vraie mais la seconde est fausse. Python renvoie donc la réponse `False`. Dans le deuxième exemple, une des 2 conditions doit être validée, ce qui est bien le cas, Python renvoie donc la réponse `True`. Dans le troisième exemple, on veut la condition opposée à `5 > 10`. Cette condition seule est `False`, donc Python renvoie la réponse `not False`, soit `True`.\n",
        "\n",
        "Voici un petit rappel sur le fonctionnement des opérateurs logiques pour la combinaison de deux conditions\n",
        "- `True and True`, réponse `True`\n",
        "- `True and False`, réponse `False`\n",
        "- `False and True`, réponse `False`\n",
        "- `False and False`, réponse `False`\n",
        "\n",
        "Et pour l'opérateur `or`\n",
        "- `True or True`, réponse `True`\n",
        "- `True or False`, réponse `True`\n",
        "- `False or True`, réponse `True`\n",
        "- `False or False`, réponse `False`\n",
        "\n"
      ],
      "metadata": {
        "id": "33Vb2sCfFTpw"
      }
    },
    {
      "cell_type": "markdown",
      "source": [
        "En Python, il est possible de combiner plusieurs opérateurs de comparaison en ce qui ressemble à un seul test. \n"
      ],
      "metadata": {
        "id": "LFU2_fWOQDcV"
      }
    },
    {
      "cell_type": "code",
      "source": [
        "x = 10\n",
        "5 < x < 20"
      ],
      "metadata": {
        "colab": {
          "base_uri": "https://localhost:8080/"
        },
        "id": "x8LCByvaQKMe",
        "outputId": "19164140-eb04-496c-bfc6-e77c3133168b"
      },
      "execution_count": null,
      "outputs": [
        {
          "output_type": "execute_result",
          "data": {
            "text/plain": [
              "True"
            ]
          },
          "metadata": {},
          "execution_count": 25
        }
      ]
    },
    {
      "cell_type": "markdown",
      "source": [
        "La syntaxe `5 < x < 20` est exactement équivalente à `5 < x and x < 20`.   \n",
        "\n",
        "Lorsqu'on combine des tests, il peut se poser des problèmes de priorités. Comme en mathématiques, il faut avoir conscience de ces priorités et utiliser des parenthèses si nécessaire. \n",
        "\n",
        "Les calculs sont toujours prioritaires par rapport aux opérateurs de comparaison (==, !=, <, >, <=, >=).  Les opérateurs de comparaison sont prioritaires par rapport aux opérateurs logiques (and, or, not). Parmi les opérateurs logiques, `not` est prioritaire par rapport à `and` et `or`. Enfin, `and` est prioritaire par rapport à `or`. \n",
        "\n",
        "Examinez attentivement les exemples suivants : "
      ],
      "metadata": {
        "id": "1XCDxDgabUln"
      }
    },
    {
      "cell_type": "code",
      "source": [
        "5 < 10 and 5 > 10 or 2 > 5"
      ],
      "metadata": {
        "colab": {
          "base_uri": "https://localhost:8080/"
        },
        "id": "5KhWOVQTQza7",
        "outputId": "1091e0df-b172-4ecc-e92d-0cb1864d78e6"
      },
      "execution_count": null,
      "outputs": [
        {
          "output_type": "execute_result",
          "data": {
            "text/plain": [
              "False"
            ]
          },
          "metadata": {},
          "execution_count": 24
        }
      ]
    },
    {
      "cell_type": "markdown",
      "source": [
        "Comme `and` est prioritaire par rapport à `or`, Python va d'abord évaluer `5<10 and 5>10`, ce qui fait `False`. Puis il va évaluer `False or 2>5`, soit `False or False`, ce qui donne `False`. Comparez ça à la version suivante :       "
      ],
      "metadata": {
        "id": "Ch6c6EkxdpnS"
      }
    },
    {
      "cell_type": "code",
      "source": [
        "5 < 10 or 5 > 10 and 2 > 5"
      ],
      "metadata": {
        "colab": {
          "base_uri": "https://localhost:8080/"
        },
        "id": "WBDdQ6DvR_SY",
        "outputId": "153c4945-4f16-4767-8f5f-19237d1df440"
      },
      "execution_count": null,
      "outputs": [
        {
          "output_type": "execute_result",
          "data": {
            "text/plain": [
              "True"
            ]
          },
          "metadata": {},
          "execution_count": 26
        }
      ]
    },
    {
      "cell_type": "markdown",
      "source": [
        "Ici, Python commence par `5 > 10 and 2 > 5`, ce qui fait `False`, puis il évalue `5 < 10 or False`, soit `True or False`, ce qui fait `True`. \n",
        "\n",
        "On peut comparer les priorités de `and` et `or` à celles de `*` et `+`. De la même manière, pour forcer un certain ordre dans les tests, on peut utiliser des parenthèses :   "
      ],
      "metadata": {
        "id": "Ji0crT3eeu9C"
      }
    },
    {
      "cell_type": "code",
      "source": [
        "(5 < 10 or 5 > 10) and 2 > 5"
      ],
      "metadata": {
        "colab": {
          "base_uri": "https://localhost:8080/"
        },
        "id": "XSKc7QxUQsVt",
        "outputId": "b59a79a9-7cbd-47d3-b86c-c322fa940006"
      },
      "execution_count": null,
      "outputs": [
        {
          "output_type": "execute_result",
          "data": {
            "text/plain": [
              "False"
            ]
          },
          "metadata": {},
          "execution_count": 27
        }
      ]
    },
    {
      "cell_type": "markdown",
      "source": [
        "Dans cet exemple, on veut effectuer le `or` en premier alors qu'il n'est pas prioritaire, donc on lui met des parenthèses. Dans ce cas Python va commencer par `5 < 10 or 5 > 10`, ce qui fait `True`, puis il va évaluer `True and 2 > 5`, ce qui donne `False`.     \n",
        "\n",
        "\n",
        "\n",
        "### Evaluation formative après la vidéo \n",
        "\n",
        "\n",
        "1. Les tests suivants donnent vrai ou faux ? <br>\n",
        "5 > 7<br>\n",
        "x = 6; 9>x<br>\n",
        "11 == 3+8<br>\n",
        "7 != 2<br>\n",
        "6 <= 6<br>\n",
        "\n",
        "2. Avec coderunner...<br>\n",
        "Ecrire un test qui retourne vrai si 7 est inférieur à 12. <br>\n",
        "Ecrire un test qui retourne vrai si x est égal à 3.<br>\n",
        "Ecrire un test qui retourne vrai si deux entiers a et b sont égaux. <br>\n",
        "\n",
        "3. Les tests suivants donnent vrai ou faux ? <br>\n",
        "5<8 and 6<10 <br>\n",
        "8<10 or 10<6<br>\n",
        "\"a\"==\"b\" and 2==2<br>\n",
        "(3+2==5 or 6==7) and 8>5 <br>\n",
        "\n",
        "4. Le test suivant a un bug. Corrigez-le. <br>\n",
        "3 = 4 \n",
        "\n",
        "\n"
      ],
      "metadata": {
        "id": "4aipCGfPfdXj"
      }
    }
  ]
}