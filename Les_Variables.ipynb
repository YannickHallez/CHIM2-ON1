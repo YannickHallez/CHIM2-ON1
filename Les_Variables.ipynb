{
  "cells": [
    {
      "cell_type": "markdown",
      "metadata": {
        "id": "qwQMEf6qgDSG"
      },
      "source": [
        "# Les variables\n",
        "\n",
        "## Prérequis\n",
        "\n",
        "Avoir suivi l'introduction à Python. \n",
        "\n",
        "## Compétences \n",
        "\n",
        "1. Créer des variables de type entier, réel, chaîne de caractère, booléen en respectant les règles de nommage. \n",
        "2. Effectuer des opérations simples impliquant des variables. \n",
        "\n",
        "## Objectifs \n",
        "\n",
        "1. Acquérir des compétences ci-dessus.\n",
        "2. Se familiariser avec les premières notions de programmation. \n",
        "\n",
        "\n",
        "## Contenu de la vidéo \n",
        "\n",
        "### Qu’est-ce qu’une variable\n",
        "\n",
        "Une variable sert à stocker une information dans la mémoire de l’ordinateur. Elle a un nom, par exemple `x`, qui cache une valeur, par exemple `3`, et une adresse, c’est-à-dire l’endroit où elle se trouve dans la mémoire. \n",
        "\n",
        "Pour créer une variable en Python, il suffit de lui donner une valeur. Par exemple :"
      ]
    },
    {
      "cell_type": "code",
      "execution_count": null,
      "metadata": {
        "id": "SzqQJxLMgDSI"
      },
      "outputs": [],
      "source": [
        "x = 3"
      ]
    },
    {
      "cell_type": "markdown",
      "metadata": {
        "id": "7d45UOMJgDSK"
      },
      "source": [
        "Python va automatiquement identifier que `3` est un entier et donc réserver dans la mémoire de la place pour stocker un entier. Il va définir le **type** de variable à **entier**. Enfin, sans réellement connaître l’adresse de `x` dans la mémoire, nous allons pouvoir accéder à sa valeur en utilisant le nom de variable `x`. Par exemple pour afficher la valeur stockée :"
      ]
    },
    {
      "cell_type": "code",
      "execution_count": null,
      "metadata": {
        "id": "txYk5QrWgDSL",
        "outputId": "c558e452-c8d5-4e38-9a7d-056105842b38"
      },
      "outputs": [
        {
          "name": "stdout",
          "output_type": "stream",
          "text": [
            "3\n"
          ]
        }
      ],
      "source": [
        "print(x)"
      ]
    },
    {
      "cell_type": "markdown",
      "metadata": {
        "id": "OTp2opH_gDSM"
      },
      "source": [
        "NB : on aurait aussi pu taper simplement "
      ]
    },
    {
      "cell_type": "code",
      "execution_count": null,
      "metadata": {
        "id": "YbU6w4tZgDSN",
        "outputId": "3135d427-0859-47ed-de78-ada64360a761"
      },
      "outputs": [
        {
          "data": {
            "text/plain": [
              "3"
            ]
          },
          "execution_count": 6,
          "metadata": {},
          "output_type": "execute_result"
        }
      ],
      "source": [
        "x"
      ]
    },
    {
      "cell_type": "markdown",
      "metadata": {
        "id": "pZ5FobhWgDSN"
      },
      "source": [
        "Attention, utiliser `=` en python n’est pas la même chose qu’en mathématiques. Le symbole `=` n’établit pas de lien logique. Il permet de calculer d’abord la valeur à droite du `=` et de la stocker dans la mémoire à l’adresse de la variable donnée à gauche. On parle d’affectation. La valeur `3` a été affectée à la variable `x`. Ainsi, dans l’exemple suivant..."
      ]
    },
    {
      "cell_type": "code",
      "execution_count": null,
      "metadata": {
        "id": "y7rFtiwggDSO",
        "outputId": "a548ea3b-6237-4232-da6f-390e51531595"
      },
      "outputs": [
        {
          "name": "stdout",
          "output_type": "stream",
          "text": [
            "Premier affichage de y :  2\n",
            "Deuxième affichage de y :  2\n"
          ]
        }
      ],
      "source": [
        "x = 2\n",
        "y = x \n",
        "print(\"Premier affichage de y : \", y) \n",
        "x = 3 \n",
        "print(\"Deuxième affichage de y : \", y)"
      ]
    },
    {
      "cell_type": "markdown",
      "metadata": {
        "id": "u0yF_JjVgDSO"
      },
      "source": [
        "On crée `x` à la première ligne avec la valeur `2`. A la deuxième ligne, on crée une variable `y` et on y range la valeur à droite du `=`, c’est-à-dire `2`. A la troisième ligne on vérifie que c’est bien le cas. A la quatrième ligne, on place la valeur `3` dans la variable `x`, puis à la cinquième ligne, on affiche la valeur de `y`. On voit qu’elle est toujours à `2`, alors que la valeur de `x` est passée à `3`. C’est parce que la second ligne `y=x` n’est pas un lien logique entre `x` et `y`. Elle signifie simplement “prends la valeur qu’il y a à l’adresse de `x`, et copie cette valeur à l’adresse de `y`”. Si on change la valeur de `x` par la suite, `y` ne changera pas. \n",
        "\n",
        "Il existe beaucoup de types de variables en Python, comme dans tous les langages. Vous allez utiliser les **entiers** (`int`), les **réels** (`float`), les **chaînes de caractères** (des mots ou des phrases, `str`), et les **booléens** (vrai ou faux, `bool`). \n",
        "\n",
        "On peut vérifier le type d’une variable ou d’une expression grâce à la fonction `type()`."
      ]
    },
    {
      "cell_type": "code",
      "execution_count": null,
      "metadata": {
        "id": "ZcVbJl_vgDSP",
        "outputId": "c1cc406a-95a0-4745-a2f9-6b5e3aa839e9"
      },
      "outputs": [
        {
          "name": "stdout",
          "output_type": "stream",
          "text": [
            "<class 'int'>\n",
            "<class 'float'>\n",
            "<class 'str'>\n",
            "<class 'bool'>\n",
            "<class 'bool'>\n"
          ]
        }
      ],
      "source": [
        "print( type(3) )\n",
        "print( type(6.5) )\n",
        "print( type(\"Hello!\") )\n",
        "print( type(False) )\n",
        "print( type(True) ) "
      ]
    },
    {
      "cell_type": "markdown",
      "metadata": {
        "id": "gK1CZTH9gDSQ"
      },
      "source": [
        "Les deux premiers exemples sont intuitifs. Pour les réels, on utilise le point comme séparateur décimal. Dans le troisième, on voit qu’une chaîne de caractères est définie en mettant des guillements “ autour de quelque chose. Dans notre exemple on voit que `“Hello!”` est une chaîne de caractères composée des caractères H, e, l, l, o et !. `False` et `True` sont des mots-clés qui représentent les booléens vrai ou faux en python. Leur type est donc `bool`.\n",
        "\n",
        "Définissons une variable et vérifions sont type : "
      ]
    },
    {
      "cell_type": "code",
      "execution_count": null,
      "metadata": {
        "id": "IlVT7yjngDSQ",
        "outputId": "d61ae7e8-da86-4306-d546-2651af64ec6b"
      },
      "outputs": [
        {
          "name": "stdout",
          "output_type": "stream",
          "text": [
            "<class 'float'>\n",
            "<class 'str'>\n"
          ]
        }
      ],
      "source": [
        "a = 5.9\n",
        "print( type(a) )\n",
        "print( type(\"a\") )"
      ]
    },
    {
      "cell_type": "code",
      "execution_count": null,
      "metadata": {
        "id": "1icWB8HjgDSS",
        "outputId": "4353f4b2-cd9b-49dc-b780-984e5050cf02"
      },
      "outputs": [
        {
          "name": "stdout",
          "output_type": "stream",
          "text": [
            "<class 'str'>\n"
          ]
        }
      ],
      "source": [
        "b = \"coucou\"\n",
        "print( type(b) )"
      ]
    },
    {
      "cell_type": "markdown",
      "metadata": {
        "id": "swDFRNZpgDSS"
      },
      "source": [
        "Quand on crée une variable, on peut utiliser un ou plusieurs caractères incluant les lettres minuscules, majuscules, les chiffres, mais pas d’espaces ni de caractères spéciaux sauf `_` (underscore) qui est bien pratique justement pour donner l’illusion d’un espace. Il ne faut pas commencer par un chiffre. Des noms de variables possibles sont : `x`, `xyz`, `maison`, `X`, `ma_variable`, `le_prix_du_pain`. Des noms de variables PAS possibles sont : `le nom de mon chien` (espaces interdits), `42street` (commence par un chiffre), `a$bc` (caractère spécial), `µ` (caractère spécial). \n",
        "\n",
        "Python est sensible à la casse, c'est-à-dire que :\n",
        "* `x` et `X` sont reconnues comme deux variables différentes. \n",
        "* Les éléments de syntaxe du langage doivent respecter la casse. Les booléens `True` et `False` on toujours une majuscule, la fonction `print()` doit toujours être en minuscules, la fonction `Circle()` doit toujours avoir une majuscule, etc. \n",
        "\n",
        "Au-delà de ces règles strictes sur les noms de variables, il faut toujours veiller à donner des noms explicites qu’une autre personne pourra comprendre facilement. Par exemple, pour stocker la valeur de la vitesse d’un gaz dans une colonne de chromatographie, on évitera `x34f6mv`, ou même `v`, et on préférera quelque chose comme `vitesseGaz`. \n",
        "\n",
        "### Opérations sur les variables \n",
        "\n",
        "Il est possible de faire des opérations sur les types numériques (`float`, `int`), mais aussi sur les chaînes de caractères (attacher 2 mots ensemble…), ou sur les booléens. \n",
        "\n",
        "Voici les opérations les plus importantes concernant les nombres : \n",
        "* Opérations usuelles : + - * /            \n",
        "* Puissance : ** \n",
        "* Quotient d’une division euclidienne : // \n",
        "* Reste d’une division euclidienne (modulo) : %  "
      ]
    },
    {
      "cell_type": "code",
      "execution_count": null,
      "metadata": {
        "id": "yuLv5HtIgDST",
        "outputId": "7c601381-dfc6-400b-86e2-bbec3b0d5afd"
      },
      "outputs": [
        {
          "name": "stdout",
          "output_type": "stream",
          "text": [
            "3+5     =  8\n",
            "9*3.0   =  27.0\n",
            "5/2     =  2.5\n",
            "4**2    =  16\n",
            "2**(-1) =  0.5\n",
            "10//3   =  3\n",
            "10%3    =  1\n"
          ]
        }
      ],
      "source": [
        "print( \"3+5     = \", 3+5 )\n",
        "print( \"9*3.0   = \", 9*3.0 )\n",
        "print( \"5/2     = \", 5/2 )\n",
        "print( \"4**2    = \", 4**2 )\n",
        "print( \"2**(-1) = \", 2**(-1) )\n",
        "print( \"10//3   = \", 10//3 )\n",
        "print( \"10%3    = \", 10%3 )"
      ]
    },
    {
      "cell_type": "markdown",
      "metadata": {
        "id": "DJ8kXF02gDSU"
      },
      "source": [
        "Voici les opérations les plus courantes concernant les chaînes de caractères :\n",
        "* Deux chaînes peuvent être concaténées avec +\n",
        "* Une chaîne `X` multipliée par un entier `N` crée une nouvelle chaîne dans laquelle la chaîne X est répétée N fois ( “cou”*2 donne “coucou”, ‘Tra”+2*”la” donne “Tralala”) \n",
        "\n",
        "\n"
      ]
    },
    {
      "cell_type": "code",
      "execution_count": null,
      "metadata": {
        "id": "-f2URfdrgDSU",
        "outputId": "7b31f8c9-e043-4259-f23c-0f86411a534d"
      },
      "outputs": [
        {
          "name": "stdout",
          "output_type": "stream",
          "text": [
            "coucou\n",
            "Tralala!\n"
          ]
        }
      ],
      "source": [
        "print( \"cou\"*2 )\n",
        "print( \"Tra\" + 2*\"la\" + \"!\" )"
      ]
    },
    {
      "cell_type": "markdown",
      "metadata": {
        "id": "Df9XGT9ugDSV"
      },
      "source": [
        "Pour les réels, on peut utiliser la notation scientifique, par exemple 3.23 10<sup>5</sup> s’écrit `3.23e5`, 1.23 10<sup>-4</sup>  s’écrit `1.23e-4`. Il ne faut pas faire `1.23*10**(-4)` car ce dernier exemple, bien que générant la bonne valeur, demande du travail non nécessaire au processeur (une multiplication et une puissance) et est source d’erreurs d'inattention. \n",
        "\n",
        "Les priorités des opérations sont les mêmes qu’en mathématiques : * et / sont prioritaires par rapport à + et -. ** est prioritaire par rapport au reste. On peut utiliser autant de parenthèses que nécessaire. \n",
        "\n",
        "On peut effectuer des opérations entre types numériques différents, par exemple un entier et un réel. Python donnera un résultat avec le type le plus “riche”. Par exemple `5+2` donnera `7` (int+int donne int), et `5+2.0` donnera `7.0` (int + float donne float). \n",
        "\n",
        "On peut (parfois) changer le type d’une variable. `int(X)` convertit `X` en entier, `float(X)` convertit `X` en réel, `str(X)` convertit `X` en chaîne de caractères. "
      ]
    },
    {
      "cell_type": "code",
      "execution_count": null,
      "metadata": {
        "id": "c4XMAAZggDSV",
        "outputId": "a747664b-3a62-476a-cd83-0d1753db0c33"
      },
      "outputs": [
        {
          "name": "stdout",
          "output_type": "stream",
          "text": [
            "<class 'float'>\n",
            "<class 'int'>\n",
            "3\n",
            "3.6\n",
            "6.6\n"
          ]
        },
        {
          "ename": "TypeError",
          "evalue": "unsupported operand type(s) for +: 'float' and 'str'",
          "output_type": "error",
          "traceback": [
            "\u001b[0;31m---------------------------------------------------------------------------\u001b[0m",
            "\u001b[0;31mTypeError\u001b[0m                                 Traceback (most recent call last)",
            "\u001b[0;32m<ipython-input-24-dcc1ac2c3a34>\u001b[0m in \u001b[0;36m<module>\u001b[0;34m\u001b[0m\n\u001b[1;32m     11\u001b[0m \u001b[0mprint\u001b[0m\u001b[0;34m(\u001b[0m \u001b[0ma\u001b[0m\u001b[0;34m+\u001b[0m\u001b[0mb\u001b[0m \u001b[0;34m)\u001b[0m\u001b[0;34m\u001b[0m\u001b[0;34m\u001b[0m\u001b[0m\n\u001b[1;32m     12\u001b[0m \u001b[0;34m\u001b[0m\u001b[0m\n\u001b[0;32m---> 13\u001b[0;31m \u001b[0mprint\u001b[0m\u001b[0;34m(\u001b[0m \u001b[0ma\u001b[0m\u001b[0;34m+\u001b[0m\u001b[0mc\u001b[0m \u001b[0;34m)\u001b[0m\u001b[0;34m\u001b[0m\u001b[0;34m\u001b[0m\u001b[0m\n\u001b[0m",
            "\u001b[0;31mTypeError\u001b[0m: unsupported operand type(s) for +: 'float' and 'str'"
          ]
        }
      ],
      "source": [
        "a = 3.6 \n",
        "print( type(a) )\n",
        "\n",
        "b = int(a) \n",
        "print( type(b) )\n",
        "print( b )\n",
        "\n",
        "c = str(a) \n",
        "print( c )\n",
        "\n",
        "print( a+b )\n",
        "\n",
        "print( a+c )"
      ]
    },
    {
      "cell_type": "markdown",
      "metadata": {
        "id": "WgSZ-KdZgDSW"
      },
      "source": [
        "On voit que `int(3.6)` n’est pas seulement une conversion. En effet, comme le résultat doit être entier, ce sera la partie entière du nombre passé en argument.\n",
        "\n",
        "On voit ensuite que `a+b` était une opération entre `int` et `float`, avec un résultat `float`. Mais `a+c` est une opération entre un `float` (a) et une chaîne de caractères `c`, ce qui n’a pas de sens et Python nous le rappelle avec un message d’erreur : “l’opérateur + ne peut pas accepter un float et un str”. \n",
        "\n",
        "### Evaluation formative après la vidéo \n",
        "\n",
        "Quizz moodle avec les questions suivantes…\n",
        "\n",
        "1. Associer la bonne réponse entre \n",
        "        print(3+2)\n",
        "        print(\"3+2\")\n",
        "        type(3+2)\n",
        "        type(\"3+2\")\n",
        "et \n",
        "        str\n",
        "        5\n",
        "        '3+2'\n",
        "        <class 'int'>\n",
        "\n",
        "2. QCM Quel est le type des variables suivantes :\n",
        "\n",
        "    5.3e6, 123, “maison”, True, “False”, a=2+6.3, b=3*”X”, c=25//4\n",
        "\n",
        "\n",
        "3. Que va afficher le programme suivant ?\n",
        "\n",
        "    > a = 3<br>\n",
        "    > b = 2<br>\n",
        "    > print( a+b ) \n",
        "    \n",
        "3, 2, 5, 5.0, ‘a+b’, une erreur\n",
        "\n",
        "\n",
        "4. Que va afficher le programme suivant ? \n",
        "\n",
        "    > a = 3<br>\n",
        "    > b = 2<br>\n",
        "    > print( \"a+b\" ) \n",
        "    \n",
        "3, 2, 5, 5.0, ‘a+b’, une erreur\n",
        "    \n",
        "5. Que va afficher le programme suivant ? \n",
        "\n",
        "    > a = 3<br>\n",
        "    > b = 2<br>\n",
        "    > print( \"a\"+b ) \n",
        "    \n",
        "3, 2, 5, 5.0, ‘a+b’, une erreur\n",
        "\n",
        "6. Vrai ou faux ? Les noms de variables suivants sont-ils possibles ?\n",
        "\n",
        "V, la pente, adV3, x, y-z, y_z, valeur!, mh45ut, 123T\n",
        "\n",
        "7. Prédire le résultat des opérations sur des variables ou valeurs suivantes \n",
        "\n",
        "    > 2+3\\*\\*2<br>\n",
        "    > 6-4*3<br>\n",
        "    > a=2; a/3<br>\n",
        "    > 12//5 <br>\n",
        "    > 12%5 <br>\n",
        "\n",
        "8/ Avec coderunner : “Ecrire un petit progrmme qui définit deux variables, effectue une opération entre elles et affiche le résultat réel de l'opération : 6.0”."
      ]
    },
    {
      "cell_type": "code",
      "execution_count": null,
      "metadata": {
        "id": "VtckDDdBgDSW"
      },
      "outputs": [],
      "source": [
        ""
      ]
    }
  ],
  "metadata": {
    "kernelspec": {
      "display_name": "Python 3",
      "language": "python",
      "name": "python3"
    },
    "language_info": {
      "codemirror_mode": {
        "name": "ipython",
        "version": 3
      },
      "file_extension": ".py",
      "mimetype": "text/x-python",
      "name": "python",
      "nbconvert_exporter": "python",
      "pygments_lexer": "ipython3",
      "version": "3.7.6"
    },
    "colab": {
      "name": "Les_Variables.ipynb",
      "provenance": []
    }
  },
  "nbformat": 4,
  "nbformat_minor": 0
}