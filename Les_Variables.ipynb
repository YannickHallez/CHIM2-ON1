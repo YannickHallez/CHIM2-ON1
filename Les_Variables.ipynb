{
 "cells": [
  {
   "cell_type": "markdown",
   "metadata": {
    "colab_type": "text",
    "id": "view-in-github"
   },
   "source": [
    "<a href=\"https://colab.research.google.com/github/YannickHallez/CHIM2-ON1/blob/main/Les_Variables.ipynb\" target=\"_parent\"><img src=\"https://colab.research.google.com/assets/colab-badge.svg\" alt=\"Open In Colab\"/></a>"
   ]
  },
  {
   "cell_type": "markdown",
   "metadata": {
    "id": "qwQMEf6qgDSG"
   },
   "source": [
    "# Les variables\n",
    "\n",
    "## Prérequis\n",
    "\n",
    "Avoir suivi l'introduction à Python. \n",
    "\n",
    "## Compétences \n",
    "\n",
    "1. Créer des variables de type entier, réel, chaîne de caractère, booléen en respectant les règles de nommage. \n",
    "2. Effectuer des opérations simples impliquant des variables. \n",
    "\n",
    "## Objectifs \n",
    "\n",
    "1. Acquérir les compétences ci-dessus.\n",
    "2. Se familiariser avec les premières notions de programmation. \n",
    "\n",
    "\n",
    "## Contenu de la vidéo \n",
    "\n",
    "### Qu’est-ce qu’une variable\n",
    "\n",
    "Une variable sert à stocker une information dans la mémoire de l’ordinateur. Elle a un nom, par exemple `x`, qui cache une valeur, par exemple `3`, et une adresse, c’est-à-dire l’endroit où elle se trouve dans la mémoire. \n",
    "\n",
    "Pour créer une variable en Python, il suffit de lui donner une valeur. Par exemple :"
   ]
  },
  {
   "cell_type": "code",
   "execution_count": 1,
   "metadata": {
    "id": "SzqQJxLMgDSI"
   },
   "outputs": [],
   "source": [
    "x = 3"
   ]
  },
  {
   "cell_type": "markdown",
   "metadata": {
    "id": "7d45UOMJgDSK"
   },
   "source": [
    "Python va automatiquement identifier que `3` est un entier et donc réserver dans la mémoire de la place pour stocker un entier. Il va définir le **type** de variable à **entier**. Enfin, sans réellement connaître l’adresse de `x` dans la mémoire, nous allons pouvoir accéder à sa valeur en utilisant le nom de variable `x`. Par exemple pour afficher la valeur stockée :"
   ]
  },
  {
   "cell_type": "code",
   "execution_count": 2,
   "metadata": {
    "id": "txYk5QrWgDSL",
    "outputId": "c558e452-c8d5-4e38-9a7d-056105842b38"
   },
   "outputs": [
    {
     "name": "stdout",
     "output_type": "stream",
     "text": [
      "3\n"
     ]
    }
   ],
   "source": [
    "print(x)"
   ]
  },
  {
   "cell_type": "markdown",
   "metadata": {
    "id": "OTp2opH_gDSM"
   },
   "source": [
    "NB : on aurait aussi pu taper simplement "
   ]
  },
  {
   "cell_type": "code",
   "execution_count": 3,
   "metadata": {
    "id": "YbU6w4tZgDSN",
    "outputId": "3135d427-0859-47ed-de78-ada64360a761"
   },
   "outputs": [
    {
     "data": {
      "text/plain": [
       "3"
      ]
     },
     "execution_count": 3,
     "metadata": {},
     "output_type": "execute_result"
    }
   ],
   "source": [
    "x"
   ]
  },
  {
   "cell_type": "markdown",
   "metadata": {
    "id": "pZ5FobhWgDSN"
   },
   "source": [
    "Attention, utiliser `=` en python n’est pas la même chose qu’en mathématiques. Le symbole `=` n’établit pas de lien logique. Il permet de calculer d’abord la valeur à droite du `=` et de la stocker dans la mémoire à l’adresse de la variable donnée à gauche. On parle d’affectation. La valeur `3` a été affectée à la variable `x`. Ainsi, dans l’exemple suivant..."
   ]
  },
  {
   "cell_type": "code",
   "execution_count": 4,
   "metadata": {
    "id": "y7rFtiwggDSO",
    "outputId": "a548ea3b-6237-4232-da6f-390e51531595"
   },
   "outputs": [
    {
     "name": "stdout",
     "output_type": "stream",
     "text": [
      "Premier affichage de y :  2\n",
      "Deuxième affichage de y :  2\n"
     ]
    }
   ],
   "source": [
    "x = 2\n",
    "y = x \n",
    "print(\"Premier affichage de y : \", y) \n",
    "x = 3 \n",
    "print(\"Deuxième affichage de y : \", y)"
   ]
  },
  {
   "cell_type": "markdown",
   "metadata": {
    "id": "u0yF_JjVgDSO"
   },
   "source": [
    "On crée `x` à la première ligne avec la valeur `2`. A la deuxième ligne, on crée une variable `y` et on y range la valeur à droite du `=`, c’est-à-dire `2`. A la troisième ligne on vérifie que c’est bien le cas. A la quatrième ligne, on place la valeur `3` dans la variable `x`, puis à la cinquième ligne, on affiche la valeur de `y`. On voit qu’elle est toujours à `2`, alors que la valeur de `x` est passée à `3`. C’est parce que la second ligne `y=x` n’est pas un lien logique entre `x` et `y`. Elle signifie simplement “prends la valeur qu’il y a à l’adresse de `x`, et copie cette valeur à l’adresse de `y`”. Si on change la valeur de `x` par la suite, `y` ne changera pas. \n",
    "\n",
    "Il existe beaucoup de types de variables en Python, comme dans tous les langages. Vous allez utiliser les **entiers** (`int`), les **réels** (`float`), les **chaînes de caractères** (des mots ou des phrases, `str`), et les **booléens** (vrai ou faux, `bool`). \n",
    "\n",
    "On peut vérifier le type d’une variable ou d’une expression grâce à la fonction `type()`."
   ]
  },
  {
   "cell_type": "code",
   "execution_count": 5,
   "metadata": {
    "id": "ZcVbJl_vgDSP",
    "outputId": "c1cc406a-95a0-4745-a2f9-6b5e3aa839e9"
   },
   "outputs": [
    {
     "name": "stdout",
     "output_type": "stream",
     "text": [
      "<class 'int'>\n",
      "<class 'float'>\n",
      "<class 'str'>\n",
      "<class 'bool'>\n",
      "<class 'bool'>\n"
     ]
    }
   ],
   "source": [
    "print( type(3) )\n",
    "print( type(6.5) )\n",
    "print( type(\"Hello!\") )\n",
    "print( type(False) )\n",
    "print( type(True) ) "
   ]
  },
  {
   "cell_type": "markdown",
   "metadata": {
    "id": "gK1CZTH9gDSQ"
   },
   "source": [
    "Les deux premiers exemples sont intuitifs. Pour les réels, on utilise le point comme séparateur décimal. Dans le troisième, on voit qu’une chaîne de caractères est définie en mettant des guillements “ autour de quelque chose. Dans notre exemple on voit que `“Hello!”` est une chaîne de caractères composée des caractères H, e, l, l, o et !. `False` et `True` sont des mots-clés qui représentent les booléens vrai ou faux en python. Leur type est donc `bool`.\n",
    "\n",
    "Définissons une variable et vérifions sont type : "
   ]
  },
  {
   "cell_type": "code",
   "execution_count": 6,
   "metadata": {
    "id": "IlVT7yjngDSQ",
    "outputId": "d61ae7e8-da86-4306-d546-2651af64ec6b"
   },
   "outputs": [
    {
     "name": "stdout",
     "output_type": "stream",
     "text": [
      "<class 'float'>\n",
      "<class 'str'>\n"
     ]
    }
   ],
   "source": [
    "a = 5.9\n",
    "print( type(a) )\n",
    "print( type(\"a\") )"
   ]
  },
  {
   "cell_type": "code",
   "execution_count": 7,
   "metadata": {
    "id": "1icWB8HjgDSS",
    "outputId": "4353f4b2-cd9b-49dc-b780-984e5050cf02"
   },
   "outputs": [
    {
     "name": "stdout",
     "output_type": "stream",
     "text": [
      "<class 'str'>\n"
     ]
    }
   ],
   "source": [
    "b = \"coucou\"\n",
    "print( type(b) )"
   ]
  },
  {
   "cell_type": "markdown",
   "metadata": {
    "id": "swDFRNZpgDSS"
   },
   "source": [
    "Quand on crée une variable, on peut utiliser un ou plusieurs caractères incluant les lettres minuscules, majuscules, les chiffres, mais pas d’espaces ni de caractères spéciaux sauf `_` (underscore) qui est bien pratique justement pour donner l’illusion d’un espace. Il ne faut pas commencer par un chiffre. Des noms de variables possibles sont : `x`, `xyz`, `maison`, `X`, `ma_variable`, `le_prix_du_pain`. Des noms de variables PAS possibles sont : `le nom de mon chien` (espaces interdits), `42street` (commence par un chiffre), `a$bc` (caractère spécial), `µ` (caractère spécial). \n",
    "\n",
    "Python est sensible à la casse, c'est-à-dire que :\n",
    "* `x` et `X` sont reconnues comme deux variables différentes. \n",
    "* Les éléments de syntaxe du langage doivent respecter la casse. Les booléens `True` et `False` on toujours une majuscule, la fonction `print()` doit toujours être en minuscules, la fonction `Circle()` doit toujours avoir une majuscule, etc. \n",
    "\n",
    "Au-delà de ces règles strictes sur les noms de variables, il faut toujours veiller à donner des noms explicites qu’une autre personne pourra comprendre facilement. Par exemple, pour stocker la valeur de la vitesse d’un gaz dans une colonne de chromatographie, on évitera `x34f6mv`, ou même `v`, et on préférera quelque chose comme `vitesseGaz`. \n",
    "\n",
    "### Opérations sur les variables \n",
    "\n",
    "Il est possible de faire des opérations sur les types numériques (`float`, `int`), mais aussi sur les chaînes de caractères (attacher 2 mots ensemble…), ou sur les booléens. \n",
    "\n",
    "Voici les opérations les plus importantes concernant les nombres : \n",
    "* Opérations usuelles : + - * /            \n",
    "* Puissance : ** \n",
    "* Quotient d’une division euclidienne : // \n",
    "* Reste d’une division euclidienne (modulo) : %  "
   ]
  },
  {
   "cell_type": "code",
   "execution_count": 8,
   "metadata": {
    "id": "yuLv5HtIgDST",
    "outputId": "7c601381-dfc6-400b-86e2-bbec3b0d5afd"
   },
   "outputs": [
    {
     "name": "stdout",
     "output_type": "stream",
     "text": [
      "3+5     =  8\n",
      "9*3.0   =  27.0\n",
      "5/2     =  2.5\n",
      "4**2    =  16\n",
      "2**(-1) =  0.5\n",
      "10//3   =  3\n",
      "10%3    =  1\n"
     ]
    }
   ],
   "source": [
    "print( \"3+5     = \", 3+5 )\n",
    "print( \"9*3.0   = \", 9*3.0 )\n",
    "print( \"5/2     = \", 5/2 )\n",
    "print( \"4**2    = \", 4**2 )\n",
    "print( \"2**(-1) = \", 2**(-1) )\n",
    "print( \"10//3   = \", 10//3 )\n",
    "print( \"10%3    = \", 10%3 )"
   ]
  },
  {
   "cell_type": "markdown",
   "metadata": {
    "id": "DJ8kXF02gDSU"
   },
   "source": [
    "Voici les opérations les plus courantes concernant les chaînes de caractères :\n",
    "* Deux chaînes peuvent être concaténées avec +\n",
    "* Une chaîne `X` multipliée par un entier `N` crée une nouvelle chaîne dans laquelle la chaîne X est répétée N fois ( “cou”*2 donne “coucou”, ‘Tra”+2*”la” donne “Tralala”) \n",
    "\n",
    "\n"
   ]
  },
  {
   "cell_type": "code",
   "execution_count": 9,
   "metadata": {
    "id": "-f2URfdrgDSU",
    "outputId": "7b31f8c9-e043-4259-f23c-0f86411a534d"
   },
   "outputs": [
    {
     "name": "stdout",
     "output_type": "stream",
     "text": [
      "coucou\n",
      "Tralala!\n"
     ]
    }
   ],
   "source": [
    "print( \"cou\"*2 )\n",
    "print( \"Tra\" + 2*\"la\" + \"!\" )"
   ]
  },
  {
   "cell_type": "markdown",
   "metadata": {
    "id": "Df9XGT9ugDSV"
   },
   "source": [
    "Pour les réels, on peut utiliser la notation scientifique, par exemple 3.23 10<sup>5</sup> s’écrit `3.23e5`, 1.23 10<sup>-4</sup>  s’écrit `1.23e-4`. Il ne faut pas faire `1.23*10**(-4)` car ce dernier exemple, bien que générant la bonne valeur, demande du travail non nécessaire au processeur (une multiplication et une puissance) et est source d’erreurs d'inattention. \n",
    "\n",
    "Les priorités des opérations sont les mêmes qu’en mathématiques : * et / sont prioritaires par rapport à + et -. ** est prioritaire par rapport au reste. On peut utiliser autant de parenthèses que nécessaire. \n",
    "\n",
    "On peut effectuer des opérations entre types numériques différents, par exemple un entier et un réel. Python donnera un résultat avec le type le plus “riche”. Par exemple `5+2` donnera `7` (int+int donne int), et `5+2.0` donnera `7.0` (int + float donne float). \n",
    "\n",
    "On parfois avoir envie de changer le type d’une variable. `int(X)` convertit `X` en entier, `float(X)` convertit `X` en réel, `str(X)` convertit `X` en chaîne de caractères. Dans l'exemple ci-dessus, on voudrait convertir `c` en réel"
   ]
  },
  {
   "cell_type": "code",
   "execution_count": 10,
   "metadata": {
    "colab": {
     "base_uri": "https://localhost:8080/",
     "height": 277
    },
    "id": "c4XMAAZggDSV",
    "outputId": "f618bb4f-0abe-4700-bd1e-b9028dd85f41"
   },
   "outputs": [
    {
     "name": "stdout",
     "output_type": "stream",
     "text": [
      "<class 'float'>\n",
      "<class 'int'>\n",
      "3\n",
      "3.6\n",
      "6.6\n"
     ]
    },
    {
     "ename": "TypeError",
     "evalue": "unsupported operand type(s) for +: 'float' and 'str'",
     "output_type": "error",
     "traceback": [
      "\u001b[0;31m---------------------------------------------------------------------------\u001b[0m",
      "\u001b[0;31mTypeError\u001b[0m                                 Traceback (most recent call last)",
      "\u001b[0;32m<ipython-input-10-dcc1ac2c3a34>\u001b[0m in \u001b[0;36m<module>\u001b[0;34m\u001b[0m\n\u001b[1;32m     11\u001b[0m \u001b[0mprint\u001b[0m\u001b[0;34m(\u001b[0m \u001b[0ma\u001b[0m\u001b[0;34m+\u001b[0m\u001b[0mb\u001b[0m \u001b[0;34m)\u001b[0m\u001b[0;34m\u001b[0m\u001b[0;34m\u001b[0m\u001b[0m\n\u001b[1;32m     12\u001b[0m \u001b[0;34m\u001b[0m\u001b[0m\n\u001b[0;32m---> 13\u001b[0;31m \u001b[0mprint\u001b[0m\u001b[0;34m(\u001b[0m \u001b[0ma\u001b[0m\u001b[0;34m+\u001b[0m\u001b[0mc\u001b[0m \u001b[0;34m)\u001b[0m\u001b[0;34m\u001b[0m\u001b[0;34m\u001b[0m\u001b[0m\n\u001b[0m",
      "\u001b[0;31mTypeError\u001b[0m: unsupported operand type(s) for +: 'float' and 'str'"
     ]
    }
   ],
   "source": [
    "a = 3.6 \n",
    "print( type(a) )\n",
    "\n",
    "b = int(a) \n",
    "print( type(b) )\n",
    "print( b )\n",
    "\n",
    "c = str(a) \n",
    "print( c )\n",
    "\n",
    "print( a+b )\n",
    "\n",
    "print( a+c )"
   ]
  },
  {
   "cell_type": "markdown",
   "metadata": {
    "id": "okdNDY7SGdDj"
   },
   "source": [
    "On voit que `int(3.6)` n’est pas seulement une conversion. En effet, comme le résultat doit être entier, ce sera la partie entière du nombre passé en argument.\n",
    "\n",
    "On voit ensuite que `a+b` était une opération entre `int` et `float`, avec un résultat `float`. Mais `a+c` est une opération entre un `float` (a) et une chaîne de caractères `c`, ce qui n’a pas de sens et Python nous le rappelle avec un message d’erreur : “l’opérateur + ne peut pas accepter un float et un str”. "
   ]
  },
  {
   "cell_type": "markdown",
   "metadata": {
    "id": "cHZNSnKYHGeA"
   },
   "source": [
    "### Lecture au clavier des variables \n",
    "\n",
    "Si on veut créer une variable dont la valeur est tapée au clavier au moment de l'exécution, on peut utiliser la fonction `input()`. Attention, cette fonction définit toujours une variable de type chaîne de caractères. Essayez l'exemple suivant en tapant un mot, et en tapant un chiffre. Vous aurez toujours le type <class 'str'>."
   ]
  },
  {
   "cell_type": "code",
   "execution_count": null,
   "metadata": {
    "colab": {
     "base_uri": "https://localhost:8080/"
    },
    "id": "4NXw5J5LHx32",
    "outputId": "512d4b4b-4f9b-405e-de0d-bd1291a97667"
   },
   "outputs": [],
   "source": [
    "x = input()\n",
    "print( \"Vous avez entre :\", x, \" et la variable x est de type \", type(x))"
   ]
  },
  {
   "cell_type": "markdown",
   "metadata": {
    "id": "ao4nKh-EdVM_"
   },
   "source": [
    "Si on veut faire un calcul, cela va poser des problèmes. Par exemple : "
   ]
  },
  {
   "cell_type": "code",
   "execution_count": null,
   "metadata": {
    "colab": {
     "base_uri": "https://localhost:8080/",
     "height": 88
    },
    "id": "SSPRGhy8dfL9",
    "outputId": "7609fc20-c040-417d-d1b1-7f4cc8252fc7"
   },
   "outputs": [],
   "source": [
    "a = input()\n",
    "b = input()\n",
    "a+b"
   ]
  },
  {
   "cell_type": "markdown",
   "metadata": {
    "id": "Hl_G_ib7dndN"
   },
   "source": [
    "Comme a est le mot '5' et b est le mot '6', le symbole + va coller (concaténer) ces deux mots pour former le nouveau mot '56'. Pour effectuer des calculs, il faut convertir les variables \"a\" et \"b\" comme nous l'avons vu ci-dessus. "
   ]
  },
  {
   "cell_type": "code",
   "execution_count": null,
   "metadata": {
    "colab": {
     "base_uri": "https://localhost:8080/"
    },
    "id": "JIG3kdfHd38o",
    "outputId": "615bb655-59e7-45e3-9ec7-542a88f8f872"
   },
   "outputs": [],
   "source": [
    "a = input()\n",
    "a = int(a)\n",
    "b = input()\n",
    "b = int(b) \n",
    "a+b"
   ]
  },
  {
   "cell_type": "markdown",
   "metadata": {
    "id": "SUdGxLMVeEaV"
   },
   "source": [
    "Pour plus de lisibilité, on enchaine en général directement la lecture avec `input` et la conversion. Par exemple :  "
   ]
  },
  {
   "cell_type": "code",
   "execution_count": null,
   "metadata": {
    "colab": {
     "base_uri": "https://localhost:8080/"
    },
    "id": "O2xIxc3QeMyS",
    "outputId": "924f6643-2e75-496e-d1a2-536937a35da1"
   },
   "outputs": [],
   "source": [
    "a = int( input() ) \n",
    "b = float( input() )\n",
    "a+b"
   ]
  },
  {
   "cell_type": "markdown",
   "metadata": {
    "id": "OwJlnATjeU_h"
   },
   "source": [
    "Quand 2 fonctions sont appelées l'une dans l'autre (ici `input()` à l'intérieur de `int()` ou `float`, Python exécute toujours en premier la fonction intérieure, et ensuite la fonction extérieure. Donc ici, à la première ligne, le `input()` est exécuté et vous entrez une valeur qui est une 'str' dans la mémoire. Cette 'str' est passée directement à `int()` qui la convertit en entier. Idem à la deuxième ligne mais la conversion est vers un réel.    \n",
    "\n",
    "On a souvent envie d'afficher un message à l'écran pour dire à l'utilisateur ce qu'il doit faire. On peut le faire en mettant le message en argument de la fonction `input()`.  "
   ]
  },
  {
   "cell_type": "code",
   "execution_count": null,
   "metadata": {
    "colab": {
     "base_uri": "https://localhost:8080/"
    },
    "id": "5L3wb-g5fqME",
    "outputId": "e6c1227b-07df-4d49-a12b-68329863af21"
   },
   "outputs": [],
   "source": [
    "x = input(\"Entrez une valeur svp : \")\n",
    "print( x )"
   ]
  },
  {
   "cell_type": "code",
   "execution_count": null,
   "metadata": {},
   "outputs": [],
   "source": []
  },
  {
   "cell_type": "code",
   "execution_count": null,
   "metadata": {},
   "outputs": [],
   "source": []
  }
 ],
 "metadata": {
  "colab": {
   "collapsed_sections": [],
   "include_colab_link": true,
   "name": "Les_Variables.ipynb",
   "provenance": []
  },
  "kernelspec": {
   "display_name": "Python 3",
   "language": "python",
   "name": "python3"
  },
  "language_info": {
   "codemirror_mode": {
    "name": "ipython",
    "version": 3
   },
   "file_extension": ".py",
   "mimetype": "text/x-python",
   "name": "python",
   "nbconvert_exporter": "python",
   "pygments_lexer": "ipython3",
   "version": "3.7.6"
  }
 },
 "nbformat": 4,
 "nbformat_minor": 1
}
