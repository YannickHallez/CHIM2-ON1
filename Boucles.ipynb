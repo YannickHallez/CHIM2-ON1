{
 "cells": [
  {
   "cell_type": "code",
   "execution_count": 1,
   "metadata": {},
   "outputs": [
    {
     "data": {
      "text/html": [
       "<style>\n",
       "h1, h2, h3, h4, h5, h6 {\n",
       "  font-family: Verdana, \"DejaVu Sans\", \"Bitstream Vera Sans\", Geneva, sans-serif;\n",
       "  font-weight: bold;\n",
       "}\n",
       "body {\n",
       "  font-family: Verdana, \"DejaVu Sans\", \"Bitstream Vera Sans\", Geneva, sans-serif;\n",
       "  font-weight: 200;\n",
       "}\n",
       "h1 {\n",
       "  border: 0 solid #333;\n",
       "  padding: 30px ;\n",
       "  color: white;\n",
       "  background: #b11d01;\n",
       "  text-align: center;\n",
       "}\n",
       "h2 {\n",
       "  border: 3px solid #333;\n",
       "  padding: 18px ;\n",
       "  color: #b11d01;\n",
       "  background: #ffffff;\n",
       "  text-align: center;\n",
       "}\n",
       "h3 {\n",
       "  border: 0 solid #333;\n",
       "  padding: 12px ;\n",
       "  color: #000000;\n",
       "  background: #c1c1c1;\n",
       "  text-align: left;\n",
       "}\n",
       "h4 {\n",
       "  border: 0 solid #333;\n",
       "  padding: 2px ;\n",
       "  color: #000000;\n",
       "  background: #d9fffc;\n",
       "  text-align: left;\n",
       "}\n",
       "h5 {\n",
       "  border: 1px solid #333;\n",
       "  padding: 2px ;\n",
       "  color: #000000;\n",
       "  background: #ffffff;\n",
       "  text-align: left;\n",
       "}\n",
       ".warn {    \n",
       "    background-color: #fcf2f2;\n",
       "    border-color: #dFb5b4;\n",
       "    border-left: 5px solid #dfb5b4;\n",
       "    padding: 0.5em;\n",
       "    font-weight: 200;\n",
       "    }\n",
       ".rq {    \n",
       "    background-color: #e2e2e2;\n",
       "    border-color: #969696;\n",
       "    border-left: 5px solid #969696;\n",
       "    padding: 0.5em;\n",
       "    font-weight: 200;\n",
       "    }\n",
       "</style>\n"
      ],
      "text/plain": [
       "<IPython.core.display.HTML object>"
      ]
     },
     "metadata": {},
     "output_type": "display_data"
    },
    {
     "data": {
      "text/markdown": [
       "**Début à:** Monday 07 November 2022, 22:07:50  \n",
       "**Hostname:** heimdall (Darwin)"
      ],
      "text/plain": [
       "<IPython.core.display.Markdown object>"
      ]
     },
     "metadata": {},
     "output_type": "display_data"
    },
    {
     "data": {
      "text/markdown": [
       "<p style=\"text-align: center\"><img width=\"800px\" src=\"./config/svg/logoDebut.svg\" style=\"margin-left:auto; margin-right:auto\"/></p>"
      ],
      "text/plain": [
       "<IPython.core.display.Markdown object>"
      ]
     },
     "metadata": {},
     "output_type": "display_data"
    }
   ],
   "source": [
    "###############################################################################################\n",
    "# supprimez cette cellule si vous exécutez ce notebook en-dehors de la distribution CHIM2-ON1 #\n",
    "###############################################################################################\n",
    "\n",
    "import os\n",
    "import sys\n",
    "\n",
    "cwd0 = './config/'\n",
    "sys.path.append(cwd0)\n",
    "\n",
    "import visualID as vID\n",
    "from visualID import color\n",
    "vID.init(cwd0)"
   ]
  },
  {
   "cell_type": "markdown",
   "metadata": {
    "id": "3PEzn9tomtuX"
   },
   "source": [
    "# Les structures de boucle\n",
    "## Prérequis\n",
    "\n",
    "- Introduction à Python \n",
    "- Les variables\n",
    "- Les listes et tableaux\n",
    "- Les tests \n",
    "- Les structures conditionnelles\n",
    "\n",
    "## Compétences \n",
    "\n",
    "1. Ecrire des boucle `for`.   \n",
    "2. Ecrire des boucle `while`.   \n",
    "3. Choisir d'utiliser plutôt une boucle `for` ou une boucle `while`.   \n",
    "\n",
    "## Objectifs \n",
    "\n",
    "1. Acquérir les compétences ci-dessus.\n",
    "2. Ecrire des premiers programmes structurés avec des structures conditionnelles et des structures de boucles. \n",
    "\n",
    "## Contenu de la vidéo"
   ]
  },
  {
   "cell_type": "markdown",
   "metadata": {
    "id": "o86goIE0Puz9"
   },
   "source": [
    "### Les structures de boucles\n",
    "\n",
    "Le but d’une boucle est de répéter plusieurs fois une séquence d’instructions. Ils existe 2 types de boucles :\n",
    "- les boucles de type `for`\n",
    "- les boucles de type `while`\n",
    "\n",
    "\n"
   ]
  },
  {
   "cell_type": "markdown",
   "metadata": {
    "id": "yJ8XlesN-8Bf"
   },
   "source": [
    "#### La boucle for\n",
    "\n",
    "Imaginons que nous ayons une liste appelée \"menu\" qui contienne des chaines de caractères identifiant des plats. On veut afficher tous les plats disponibles. Pour l'instant, vous savez faire la chose suivante."
   ]
  },
  {
   "cell_type": "code",
   "execution_count": 2,
   "metadata": {
    "colab": {
     "base_uri": "https://localhost:8080/"
    },
    "id": "7qDv8zTwsxNT",
    "outputId": "5c28d047-cccc-4d49-f3cf-25d5981dee3f"
   },
   "outputs": [
    {
     "name": "stdout",
     "output_type": "stream",
     "text": [
      "pizza\n",
      "salade\n",
      "pates\n",
      "omelette\n"
     ]
    }
   ],
   "source": [
    "menu = [\"pizza\", \"salade\", \"pates\", \"omelette\"]\n",
    "print(menu[0])\n",
    "print(menu[1])\n",
    "print(menu[2])\n",
    "print(menu[3])"
   ]
  },
  {
   "cell_type": "markdown",
   "metadata": {
    "id": "d-1W-TfisxpP"
   },
   "source": [
    "Mais imaginez le programme s'il y a 100 ou 1000 plats ! Il faudrait écrire un programme avec 100 ou 1000 `print`. Et si le nombre de plats dans le menu changeait, il faudrait récrire le programme. Pour éviter ce genre de problème, on utilise une boucle. Regardez l'exemple suivant : "
   ]
  },
  {
   "cell_type": "code",
   "execution_count": 3,
   "metadata": {
    "colab": {
     "base_uri": "https://localhost:8080/"
    },
    "id": "LQax6Z9prFox",
    "outputId": "7406aa27-89a5-4c33-8bfe-803a04ae234c"
   },
   "outputs": [
    {
     "name": "stdout",
     "output_type": "stream",
     "text": [
      "pizza\n",
      "salade\n",
      "pates\n",
      "omelette\n"
     ]
    }
   ],
   "source": [
    "menu = [\"pizza\", \"salade\", \"pates\", \"omelette\"]\n",
    "for plat in menu:\n",
    "  print(plat)"
   ]
  },
  {
   "cell_type": "markdown",
   "metadata": {
    "id": "1h5I7LJ3q-dG"
   },
   "source": [
    "On voit que le `print` a été exécuté 4 fois, et qu'à chaque fois la variable \"plat\" a changé de valeur. Cette variable a pris tour à tour toutes les valeurs contenues dans le tableau \"menu\", et la séquence d'instructions (ici juste le `print`) a été exécutée à chaque fois. Vous pouvez rajouter un plat dans le tableau \"menu\" et vous allez voir que la programme va toujours fonctionner, en prenant en compte votre plat. \n",
    "\n",
    "La syntaxe générale d'une boucle `for` est donc :\n",
    "\n",
    "```\n",
    "for variable in tableau :\n",
    "  sequence d'instructions\n",
    "```\n",
    "\n",
    "`for` va affecter la première valeur du tableau à \"variable\", puis effectuer la \"séquence d'instructions\", ensuite il affecte la deuxième valeur du tableau à \"variable\", et effectue à nouveau la \"séquence d'instructions\", etc, jusqu'à ce que toutes les valeurs du tableau aient été utilisées. \n",
    "\n",
    "Les variables dans le tableau peuvent avoir d'importe que type. Regardez l'exemple suivant. "
   ]
  },
  {
   "cell_type": "code",
   "execution_count": 4,
   "metadata": {
    "colab": {
     "base_uri": "https://localhost:8080/"
    },
    "id": "DYquR9elut0J",
    "outputId": "6b1b1ec3-a894-4470-e095-b14d6e61331f"
   },
   "outputs": [
    {
     "name": "stdout",
     "output_type": "stream",
     "text": [
      "bonjour <class 'str'>\n",
      "3 <class 'int'>\n",
      "True <class 'bool'>\n",
      "3.1415 <class 'float'>\n",
      "6 <class 'str'>\n"
     ]
    }
   ],
   "source": [
    "tableau = [\"bonjour\", 3, True, 3.1415, \"6\"]\n",
    "for variable in tableau:\n",
    "  print( variable, type(variable) )"
   ]
  },
  {
   "cell_type": "markdown",
   "metadata": {
    "id": "BMFIzmJGvVm3"
   },
   "source": [
    "Le tableau ne doit pas obligatoirement être défini avant. Il est possible de donner directement sur la ligne `for`. Par exemple : "
   ]
  },
  {
   "cell_type": "code",
   "execution_count": 5,
   "metadata": {
    "colab": {
     "base_uri": "https://localhost:8080/"
    },
    "id": "YLFZ4TZbQNp0",
    "outputId": "12bb2dc6-dc8b-4b7f-e919-f90af1e1cc3b"
   },
   "outputs": [
    {
     "name": "stdout",
     "output_type": "stream",
     "text": [
      "bonjour\n",
      "3\n",
      "True\n",
      "3.1415\n",
      "6\n"
     ]
    }
   ],
   "source": [
    "for variable in [\"bonjour\", 3, True, 3.1415, \"6\"]:\n",
    "  print( variable )"
   ]
  },
  {
   "cell_type": "markdown",
   "metadata": {
    "id": "vhTdZ4LtwVwF"
   },
   "source": [
    "La séquence d'instructions dans le for (qui sera répétée) est identifiée par un décalage vers la droite. Comparez les exemples suivants. "
   ]
  },
  {
   "cell_type": "code",
   "execution_count": 6,
   "metadata": {
    "colab": {
     "base_uri": "https://localhost:8080/"
    },
    "id": "xzwP1aOwwT-B",
    "outputId": "1721baec-5313-49b0-c4ca-6edab45927ef"
   },
   "outputs": [
    {
     "name": "stdout",
     "output_type": "stream",
     "text": [
      "0\n",
      "1\n",
      "2\n",
      "3\n",
      "-----\n"
     ]
    }
   ],
   "source": [
    "for i in [0, 1, 2, 3] :\n",
    "  print(i)\n",
    "print(\"-----\")"
   ]
  },
  {
   "cell_type": "code",
   "execution_count": 7,
   "metadata": {
    "colab": {
     "base_uri": "https://localhost:8080/"
    },
    "id": "8v4ucJhNwtxH",
    "outputId": "3ed1cf52-22b8-462f-e10a-8d7f7e1dce3b"
   },
   "outputs": [
    {
     "name": "stdout",
     "output_type": "stream",
     "text": [
      "0\n",
      "-----\n",
      "1\n",
      "-----\n",
      "2\n",
      "-----\n",
      "3\n",
      "-----\n"
     ]
    }
   ],
   "source": [
    "for i in [0, 1, 2, 3] :\n",
    "  print(i)\n",
    "  print(\"-----\")"
   ]
  },
  {
   "cell_type": "markdown",
   "metadata": {
    "id": "pt5sHj0Wx0H5"
   },
   "source": [
    "Dans le premier exemple, le `print(\"---\")` n'est pas décalé vers la droite. Il n'est donc pas dans la boucle `for` mais après elle. Il n'est donc exécuté qu'une fois. \n",
    "\n",
    "Dans le deuxième exemple, le `print(\"---\")` est décalé vers la droite. Il est donc dans la boucle `for` et est exécuté autant de fois que nécessaire.  \n",
    "\n",
    "Dans ces derniers exemples, on itère sur un tableau d'entiers consécutifs. On peut donc utiliser aussi la fonction `range`. "
   ]
  },
  {
   "cell_type": "code",
   "execution_count": 8,
   "metadata": {
    "colab": {
     "base_uri": "https://localhost:8080/"
    },
    "id": "innVZB-kQiYd",
    "outputId": "22e3d70d-6b60-4115-8dbb-9405c1402712"
   },
   "outputs": [
    {
     "name": "stdout",
     "output_type": "stream",
     "text": [
      "0\n",
      "1\n",
      "2\n",
      "3\n"
     ]
    }
   ],
   "source": [
    "for i in range(4) :\n",
    "  print (i)"
   ]
  },
  {
   "cell_type": "markdown",
   "metadata": {
    "id": "rKkHElPM0hkj"
   },
   "source": [
    "On peut donc imaginer toutes sortes d'utilisation pour cette boucle. Un exemple classique est le calcul de la somme des n premiers entiers."
   ]
  },
  {
   "cell_type": "code",
   "execution_count": 9,
   "metadata": {
    "colab": {
     "base_uri": "https://localhost:8080/"
    },
    "id": "kZHakxeg07UI",
    "outputId": "54b4d012-dc54-4186-ece0-27614b2468c9"
   },
   "outputs": [
    {
     "name": "stdout",
     "output_type": "stream",
     "text": [
      "La somme des entiers de 1 a 4 est  10\n"
     ]
    }
   ],
   "source": [
    "somme = 0\n",
    "for i in range(1,5) :\n",
    "  somme = somme + i\n",
    "\n",
    "print(\"La somme des entiers de 1 a 4 est \",somme)"
   ]
  },
  {
   "cell_type": "markdown",
   "metadata": {
    "id": "HiK5ZiYU2CPK"
   },
   "source": [
    "Quelques remarques pour bien comprendre : \n",
    "- rappelez vous que `range(1,5)` est `[1, 2, 3, 4]` car la borne maximum dans `range` n'est pas incluse dans le résultat.    \n",
    "- la syntaxe `somme = somme + i` pourra éventellement vous poser problème si vous la considérez comme une relation logique mathématique. Ce n'est pas le cas en programmation. Rappelez vous que la signification de `=` n'est pas une signification logique. C'est un opérateur d'affectation qui prend ce qu'il y a à sa droite (`somme + i`), le calcule, et range le résultat dans la mémoire de la machine, dans la variable donnée à sa gauche (`somme`). Si avant cette ligne on a i=4 et somme=6, Python calcule d'abord somme+i=6+4=10, puis range cette valeur 10 dans la variable somme. On voit qu'on passage l'ancienne valeur de somme (6) est perdue car elle a été remplacée par 10.   \n",
    "\n",
    "Nous allons enfin aborder la notion d'itération sur une les indices ou sur les éléments. Reprenons l'exemple du menu. "
   ]
  },
  {
   "cell_type": "code",
   "execution_count": 10,
   "metadata": {
    "colab": {
     "base_uri": "https://localhost:8080/"
    },
    "id": "OaCdZ2H01gu3",
    "outputId": "0263b8a4-460e-4b88-8b01-523a71d33acf"
   },
   "outputs": [
    {
     "name": "stdout",
     "output_type": "stream",
     "text": [
      "pizza\n",
      "salade\n",
      "pates\n",
      "omelette\n"
     ]
    }
   ],
   "source": [
    "menu = [\"pizza\", \"salade\", \"pates\", \"omelette\"]\n",
    "for plat in menu:\n",
    "  print(plat)"
   ]
  },
  {
   "cell_type": "markdown",
   "metadata": {
    "id": "pCytMEFp1pAe"
   },
   "source": [
    "On pourrait aussi faire la chose suivante qui semble plus compliquée : "
   ]
  },
  {
   "cell_type": "code",
   "execution_count": 11,
   "metadata": {
    "colab": {
     "base_uri": "https://localhost:8080/"
    },
    "id": "RjG6_-Ay1uVr",
    "outputId": "b6ab5d97-6a9c-4968-dfaf-ead0339eb669"
   },
   "outputs": [
    {
     "name": "stdout",
     "output_type": "stream",
     "text": [
      "pizza\n",
      "salade\n",
      "pates\n",
      "omelette\n"
     ]
    }
   ],
   "source": [
    "menu = [\"pizza\", \"salade\", \"pates\", \"omelette\"]\n",
    "for i in range( len(menu) ):\n",
    "  print( menu[i] )"
   ]
  },
  {
   "cell_type": "markdown",
   "metadata": {
    "id": "ABmjh59N14sC"
   },
   "source": [
    "Rappelez-vous que `len(menu)` renvoie le nombre d'éléments du tableau \"menu\", ici 4. Donc `range( len(menu) )` est `range(4)`, soit `[0, 1, 2, 3]`. La boucle `for` va donc affecter à \"i\" les valeurs 0, 1, 2, 3 successivement et exécuter `print( menu[0] )`  puis `print( menu[1] ) `, etc. \n",
    "\n",
    "Dans cet exemple, rendre les choses plus compliquées comme ça n'a aucun intérêt. Mais... dans certains autres langages c'est la seule possibilité donc il faut savoir le faire, ET surtout, parfois vous avez besoin de l'indice pour faire quelque chose avec. Par exemple :  "
   ]
  },
  {
   "cell_type": "code",
   "execution_count": 12,
   "metadata": {
    "colab": {
     "base_uri": "https://localhost:8080/"
    },
    "id": "WU2zlGjN3FgH",
    "outputId": "d480d0a0-c778-4120-aa9d-3457d6f3fa4c"
   },
   "outputs": [
    {
     "name": "stdout",
     "output_type": "stream",
     "text": [
      "Le plat  0  est  pizza\n",
      "Le plat  1  est  salade\n",
      "Le plat  2  est  pates\n",
      "Le plat  3  est  omelette\n"
     ]
    }
   ],
   "source": [
    "menu = [\"pizza\", \"salade\", \"pates\", \"omelette\"]\n",
    "for i in range( len(menu) ):\n",
    "  print( \"Le plat \", i, \" est \", menu[i] )"
   ]
  },
  {
   "cell_type": "markdown",
   "metadata": {
    "id": "xxtU8SyG3T-1"
   },
   "source": [
    "Comme ceci arrive très souvent, Python vous simplifie la vie en vous permettant d'utiliser la syntaxe suivante : "
   ]
  },
  {
   "cell_type": "code",
   "execution_count": 13,
   "metadata": {
    "colab": {
     "base_uri": "https://localhost:8080/"
    },
    "id": "OdoBzIhZ3g12",
    "outputId": "47080e27-8708-44fd-f3ee-f42f1a0e1a70"
   },
   "outputs": [
    {
     "name": "stdout",
     "output_type": "stream",
     "text": [
      "Le plat  0  est  pizza\n",
      "Le plat  1  est  salade\n",
      "Le plat  2  est  pates\n",
      "Le plat  3  est  omelette\n"
     ]
    }
   ],
   "source": [
    "menu = [\"pizza\", \"salade\", \"pates\", \"omelette\"]\n",
    "for i, plat in enumerate(menu):\n",
    "  print( \"Le plat \", i, \" est \", plat )"
   ]
  },
  {
   "cell_type": "markdown",
   "metadata": {
    "id": "IV9oKJFM3qlg"
   },
   "source": [
    "`enumerate(menu)` va créer à la fois une liste d'indices qui seront affectés à \"i\" ET une liste de variables qui seront affectées à \"plat\" automatiquement. Vous n'avez donc pas besoin d'utiliser la syntaxe des tableaux \"menu[i]\" avec cette méthode.  "
   ]
  },
  {
   "cell_type": "markdown",
   "metadata": {
    "id": "gMQ8PJGUB6va"
   },
   "source": [
    "#### La boucle while\n",
    "\n",
    "En python, dans une boucle `while`, on répète la séquence contenue dans la boucle tant qu’une condition reste vraie."
   ]
  },
  {
   "cell_type": "markdown",
   "metadata": {
    "id": "8iHDXxH-B4vb"
   },
   "source": [
    "![algo5.JPG](data:image/jpeg;base64,/9j/4AAQSkZJRgABAQEAeAB4AAD/4RDmRXhpZgAATU0AKgAAAAgABAE7AAIAAAAJAAAISodpAAQAAAABAAAIVJydAAEAAAASAAAQzOocAAcAAAgMAAAAPgAAAAAc6gAAAAgAAAAAAAAAAAAAAAAAAAAAAAAAAAAAAAAAAAAAAAAAAAAAAAAAAAAAAAAAAAAAAAAAAAAAAAAAAAAAAAAAAAAAAAAAAAAAAAAAAAAAAAAAAAAAAAAAAAAAAAAAAAAAAAAAAAAAAAAAAAAAAAAAAAAAAAAAAAAAAAAAAAAAAAAAAAAAAAAAAAAAAAAAAAAAAAAAAAAAAAAAAAAAAAAAAAAAAAAAAAAAAAAAAAAAAAAAAAAAAAAAAAAAAAAAAAAAAAAAAAAAAAAAAAAAAAAAAAAAAAAAAAAAAAAAAAAAAAAAAAAAAAAAAAAAAAAAAAAAAAAAAAAAAAAAAAAAAAAAAAAAAAAAAAAAAAAAAAAAAAAAAAAAAAAAAAAAAAAAAAAAAAAAAAAAAAAAAAAAAAAAAAAAAAAAAAAAAAAAAAAAAAAAAAAAAAAAAAAAAAAAAAAAAAAAAAAAAAAAAAAAAAAAAAAAAAAAAAAAAAAAAAAAAAAAAAAAAAAAAAAAAAAAAAAAAAAAAAAAAAAAAAAAAAAAAAAAAAAAAAAAAAAAAAAAAAAAAAAAAAAAAAAAAAAAAAAAAAAAAAAAAAAAAAAAAAAAAAAAAAAAAAAAAAAAAAAAAAAAAAAAAAAAAAAAAAAAAAAAAAAAAAAAAAAAAAAAAAAAAAAAAAAAAAAAAAAAAAAAAAAAAAAAAAAAAAAAAAAAAAAAAAAAAAAAAAAAAAAAAAAAAAAAAAAAAAAAAAAAAAAAAAAAAAAAAAAAAAAAAAAAAAAAAAAAAAAAAAAAAAAAAAAAAAAAAAAAAAAAAAAAAAAAAAAAAAAAAAAAAAAAAAAAAAAAAAAAAAAAAAAAAAAAAAAAAAAAAAAAAAAAAAAAAAAAAAAAAAAAAAAAAAAAAAAAAAAAAAAAAAAAAAAAAAAAAAAAAAAAAAAAAAAAAAAAAAAAAAAAAAAAAAAAAAAAAAAAAAAAAAAAAAAAAAAAAAAAAAAAAAAAAAAAAAAAAAAAAAAAAAAAAAAAAAAAAAAAAAAAAAAAAAAAAAAAAAAAAAAAAAAAAAAAAAAAAAAAAAAAAAAAAAAAAAAAAAAAAAAAAAAAAAAAAAAAAAAAAAAAAAAAAAAAAAAAAAAAAAAAAAAAAAAAAAAAAAAAAAAAAAAAAAAAAAAAAAAAAAAAAAAAAAAAAAAAAAAAAAAAAAAAAAAAAAAAAAAAAAAAAAAAAAAAAAAAAAAAAAAAAAAAAAAAAAAAAAAAAAAAAAAAAAAAAAAAAAAAAAAAAAAAAAAAAAAAAAAAAAAAAAAAAAAAAAAAAAAAAAAAAAAAAAAAAAAAAAAAAAAAAAAAAAAAAAAAAAAAAAAAAAAAAAAAAAAAAAAAAAAAAAAAAAAAAAAAAAAAAAAAAAAAAAAAAAAAAAAAAAAAAAAAAAAAAAAAAAAAAAAAAAAAAAAAAAAAAAAAAAAAAAAAAAAAAAAAAAAAAAAAAAAAAAAAAAAAAAAAAAAAAAAAAAAAAAAAAAAAAAAAAAAAAAAAAAAAAAAAAAAAAAAAAAAAAAAAAAAAAAAAAAAAAAAAAAAAAAAAAAAAAAAAAAAAAAAAAAAAAAAAAAAAAAAAAAAAAAAAAAAAAAAAAAAAAAAAAAAAAAAAAAAAAAAAAAAAAAAAAAAAAAAAAAAAAAAAAAAAAAAAAAAAAAAAAAAAAAAAAAAAAAAAAAAAAAAAAAAAAAAAAAAAAAAAAAAAAAAAAAAAAAAAAAAAAAAAAAAAAAAAAAAAAAAAAAAAAAAAAAAAAAAAAAAAAAAAAAAAAAAAAAAAAAAAAAAAAAAAAAAAAAAAAAAAAAAAAAAAAAAAAAAAAAAAAAAAAAAAAAAAAAAAAAAAAAAAAAAAAAAAAAAAAAAAAAAAAAAAAAAAAAAAAAAAAAAAAAAAAAAAAAAAAAAAAAAAAAAAAAAAAAAAAAAAAAAAAAAAAAAAAAAAAAAAAAAAAAAAAAAAAAAAAAAAAAAAAAAAAAAAAAAAAAAAAAAAAAAAAAAAAAAAAAAAAAAAAAAAAAAAAAAAAAAAAAAAAAAAAAAAAAAAAAAAAAAAAAAAAAAAAAAAAAAAAAAAAAAAAAAAAAAAAAAAAAAAAAAAAAAAAAAAAAAAAAAAAAAAAAAAAAAAAAAAAAAAAAAAAAAAAAAAAAAAAAAAAAAAAAAAAAAAAAAAAAAAAAAAAAAAAAAAAAAAAAAAAAAAAAAAAAAAAAAAAAAAAAAAAAAAAAAAAAAAAAAAAAAAAAAAAAAAAAAAAAAAAAAAAAAAAAAAAAAAAAAAAAAAAAAAAAAAAAAAAAAAAAAAAAAAAAAAAAAAAAAAAAAAAAAAAAAAAAAAAAAAAAAAAAAAAAAAAAAAAAAAAAAAAAAAAAAAAAAAAAAAAAAAAAAAAAAAAAAAAAAAAAAAAAAAAAAAAAAAAAAAAAAAAAAAAAAAAAAAAAAAAAAAAAAAAAAAAAAAAAAAAAAAAAAAAAAAAAAAAAAAAAAAAAAAAAAAAAAAAAAAAAAAAAAAAAAAAAAAAAAAAAAAAAAAAAAAAAAAAAAAAAAAAAAAAAAAAAAAAAAAAAAAAAAAAAAAAAAAAAAAAAAAAAAAAAAAAAAAAAAAAAAAAAAAAAAAAAAAAAAAAAAAAAAAAAAAAAAAAAAAAAAAAAAAAAAAAAAAAAAAAAAAAAAAAAAAAAAAAAAAAAAAAAAAAAAAAAAAAAAAAAAAAAAAAAAAAAAAAAAAAAAAAAAAAAAAAAAAAAAAAAAAAAAAAFN0ZXBoYW5lAAAABZADAAIAAAAUAAAQopAEAAIAAAAUAAAQtpKRAAIAAAADNDYAAJKSAAIAAAADNDYAAOocAAcAAAgMAAAIlgAAAAAc6gAAAAgAAAAAAAAAAAAAAAAAAAAAAAAAAAAAAAAAAAAAAAAAAAAAAAAAAAAAAAAAAAAAAAAAAAAAAAAAAAAAAAAAAAAAAAAAAAAAAAAAAAAAAAAAAAAAAAAAAAAAAAAAAAAAAAAAAAAAAAAAAAAAAAAAAAAAAAAAAAAAAAAAAAAAAAAAAAAAAAAAAAAAAAAAAAAAAAAAAAAAAAAAAAAAAAAAAAAAAAAAAAAAAAAAAAAAAAAAAAAAAAAAAAAAAAAAAAAAAAAAAAAAAAAAAAAAAAAAAAAAAAAAAAAAAAAAAAAAAAAAAAAAAAAAAAAAAAAAAAAAAAAAAAAAAAAAAAAAAAAAAAAAAAAAAAAAAAAAAAAAAAAAAAAAAAAAAAAAAAAAAAAAAAAAAAAAAAAAAAAAAAAAAAAAAAAAAAAAAAAAAAAAAAAAAAAAAAAAAAAAAAAAAAAAAAAAAAAAAAAAAAAAAAAAAAAAAAAAAAAAAAAAAAAAAAAAAAAAAAAAAAAAAAAAAAAAAAAAAAAAAAAAAAAAAAAAAAAAAAAAAAAAAAAAAAAAAAAAAAAAAAAAAAAAAAAAAAAAAAAAAAAAAAAAAAAAAAAAAAAAAAAAAAAAAAAAAAAAAAAAAAAAAAAAAAAAAAAAAAAAAAAAAAAAAAAAAAAAAAAAAAAAAAAAAAAAAAAAAAAAAAAAAAAAAAAAAAAAAAAAAAAAAAAAAAAAAAAAAAAAAAAAAAAAAAAAAAAAAAAAAAAAAAAAAAAAAAAAAAAAAAAAAAAAAAAAAAAAAAAAAAAAAAAAAAAAAAAAAAAAAAAAAAAAAAAAAAAAAAAAAAAAAAAAAAAAAAAAAAAAAAAAAAAAAAAAAAAAAAAAAAAAAAAAAAAAAAAAAAAAAAAAAAAAAAAAAAAAAAAAAAAAAAAAAAAAAAAAAAAAAAAAAAAAAAAAAAAAAAAAAAAAAAAAAAAAAAAAAAAAAAAAAAAAAAAAAAAAAAAAAAAAAAAAAAAAAAAAAAAAAAAAAAAAAAAAAAAAAAAAAAAAAAAAAAAAAAAAAAAAAAAAAAAAAAAAAAAAAAAAAAAAAAAAAAAAAAAAAAAAAAAAAAAAAAAAAAAAAAAAAAAAAAAAAAAAAAAAAAAAAAAAAAAAAAAAAAAAAAAAAAAAAAAAAAAAAAAAAAAAAAAAAAAAAAAAAAAAAAAAAAAAAAAAAAAAAAAAAAAAAAAAAAAAAAAAAAAAAAAAAAAAAAAAAAAAAAAAAAAAAAAAAAAAAAAAAAAAAAAAAAAAAAAAAAAAAAAAAAAAAAAAAAAAAAAAAAAAAAAAAAAAAAAAAAAAAAAAAAAAAAAAAAAAAAAAAAAAAAAAAAAAAAAAAAAAAAAAAAAAAAAAAAAAAAAAAAAAAAAAAAAAAAAAAAAAAAAAAAAAAAAAAAAAAAAAAAAAAAAAAAAAAAAAAAAAAAAAAAAAAAAAAAAAAAAAAAAAAAAAAAAAAAAAAAAAAAAAAAAAAAAAAAAAAAAAAAAAAAAAAAAAAAAAAAAAAAAAAAAAAAAAAAAAAAAAAAAAAAAAAAAAAAAAAAAAAAAAAAAAAAAAAAAAAAAAAAAAAAAAAAAAAAAAAAAAAAAAAAAAAAAAAAAAAAAAAAAAAAAAAAAAAAAAAAAAAAAAAAAAAAAAAAAAAAAAAAAAAAAAAAAAAAAAAAAAAAAAAAAAAAAAAAAAAAAAAAAAAAAAAAAAAAAAAAAAAAAAAAAAAAAAAAAAAAAAAAAAAAAAAAAAAAAAAAAAAAAAAAAAAAAAAAAAAAAAAAAAAAAAAAAAAAAAAAAAAAAAAAAAAAAAAAAAAAAAAAAAAAAAAAAAAAAAAAAAAAAAAAAAAAAAAAAAAAAAAAAAAAAAAAAAAAAAAAAAAAAAAAAAAAAAAAAAAAAAAAAAAAAAAAAAAAAAAAAAAAAAAAAAAAAAAAAAAAAAAAAAAAAAAAAAAAAAAAAAAAAAAAAAAAAAAAAAAAAAAAAAAAAAAAAAAAAAAAAAAAAAAAAAAAAAAAAAAAAAAAAAAAAAAAAAAAAAAAAAAAAAAAAAAAAAAAAAAAAAAAAAAAAAAAAAAAAAAAAAAAAAAAAAAAAAAAAAAAAAAAAAAAAAAAAAAAAAAAAAAAAAAAAAAAAAAAAAAAAAAAAAAAAAAAAAAAAAAAAAAAAAAAAAAAAAAAAAAAAAAAAAAAAAAAAAAAAAAAAAAAAAAAAAAAAAAAAAAAAAAAAAAAAAAAAAAAAAAAAAAAAAAAAAAAAAAAAAAAAAAAAAAAAAAAAAAAAAAAAAAAAAAAAAAAAAAAAAAAAAAAAAAAAAAAAAAAAAAAAAAAAAAAAAAAAAAAAAAAAAAAAAAAAAAAAAAAAAAAAAAAAAAAAAAAAAAAAAAAAAAAAAAAAAAAAAAAAAAAAAAAAAAAAAAAAAAAAAAAAAAAAAAAAAAAAAAAAAAAAAAAAAAAAAAAAAAAAAAAAAAAAAAAAAAAAAAAAAAAAAAAAAAAAAAAAAAAAAAAAAAAAAAAAAAAAAAAAAAAAAAAAAAAAAAAAAAAAAAAAAAAAAAAAAAAAAAAAAAAAAAAAAAAAAAAAAAAAAAAAAAAAAAAAAAAAAAAAAAAAAAAAAAAAAAAAAAAAAAAAAAAAAAAAAAAAAAAAAAAAAAAAAAAAAAAAAAAAAAAAAAAAAAAAAAAAAAAAAAAAAAAAAAAAAAAAAAAAAAAAAAAAAAAAAAAAAAAAAAAAAAAAAAAAAAAAAAAAAAAAAAAAAAAAAADIwMjI6MDQ6MjcgMTk6MTA6NTgAMjAyMjowNDoyNyAxOToxMDo1OAAAAFMAdABlAHAAaABhAG4AZQAAAP/hCxtodHRwOi8vbnMuYWRvYmUuY29tL3hhcC8xLjAvADw/eHBhY2tldCBiZWdpbj0n77u/JyBpZD0nVzVNME1wQ2VoaUh6cmVTek5UY3prYzlkJz8+DQo8eDp4bXBtZXRhIHhtbG5zOng9ImFkb2JlOm5zOm1ldGEvIj48cmRmOlJERiB4bWxuczpyZGY9Imh0dHA6Ly93d3cudzMub3JnLzE5OTkvMDIvMjItcmRmLXN5bnRheC1ucyMiPjxyZGY6RGVzY3JpcHRpb24gcmRmOmFib3V0PSJ1dWlkOmZhZjViZGQ1LWJhM2QtMTFkYS1hZDMxLWQzM2Q3NTE4MmYxYiIgeG1sbnM6ZGM9Imh0dHA6Ly9wdXJsLm9yZy9kYy9lbGVtZW50cy8xLjEvIi8+PHJkZjpEZXNjcmlwdGlvbiByZGY6YWJvdXQ9InV1aWQ6ZmFmNWJkZDUtYmEzZC0xMWRhLWFkMzEtZDMzZDc1MTgyZjFiIiB4bWxuczp4bXA9Imh0dHA6Ly9ucy5hZG9iZS5jb20veGFwLzEuMC8iPjx4bXA6Q3JlYXRlRGF0ZT4yMDIyLTA0LTI3VDE5OjEwOjU4LjQ1NzwveG1wOkNyZWF0ZURhdGU+PC9yZGY6RGVzY3JpcHRpb24+PHJkZjpEZXNjcmlwdGlvbiByZGY6YWJvdXQ9InV1aWQ6ZmFmNWJkZDUtYmEzZC0xMWRhLWFkMzEtZDMzZDc1MTgyZjFiIiB4bWxuczpkYz0iaHR0cDovL3B1cmwub3JnL2RjL2VsZW1lbnRzLzEuMS8iPjxkYzpjcmVhdG9yPjxyZGY6U2VxIHhtbG5zOnJkZj0iaHR0cDovL3d3dy53My5vcmcvMTk5OS8wMi8yMi1yZGYtc3ludGF4LW5zIyI+PHJkZjpsaT5TdGVwaGFuZTwvcmRmOmxpPjwvcmRmOlNlcT4NCgkJCTwvZGM6Y3JlYXRvcj48L3JkZjpEZXNjcmlwdGlvbj48L3JkZjpSREY+PC94OnhtcG1ldGE+DQogICAgICAgICAgICAgICAgICAgICAgICAgICAgICAgICAgICAgICAgICAgICAgICAgICAgICAgICAgICAgICAgICAgICAgICAgICAgICAgICAgICAgICAgICAgICAgICAgICAgCiAgICAgICAgICAgICAgICAgICAgICAgICAgICAgICAgICAgICAgICAgICAgICAgICAgICAgICAgICAgICAgICAgICAgICAgICAgICAgICAgICAgICAgICAgICAgICAgICAgICAKICAgICAgICAgICAgICAgICAgICAgICAgICAgICAgICAgICAgICAgICAgICAgICAgICAgICAgICAgICAgICAgICAgICAgICAgICAgICAgICAgICAgICAgICAgICAgICAgICAgIAogICAgICAgICAgICAgICAgICAgICAgICAgICAgICAgICAgICAgICAgICAgICAgICAgICAgICAgICAgICAgICAgICAgICAgICAgICAgICAgICAgICAgICAgICAgICAgICAgICAgCiAgICAgICAgICAgICAgICAgICAgICAgICAgICAgICAgICAgICAgICAgICAgICAgICAgICAgICAgICAgICAgICAgICAgICAgICAgICAgICAgICAgICAgICAgICAgICAgICAgICAKICAgICAgICAgICAgICAgICAgICAgICAgICAgICAgICAgICAgICAgICAgICAgICAgICAgICAgICAgICAgICAgICAgICAgICAgICAgICAgICAgICAgICAgICAgICAgICAgICAgIAogICAgICAgICAgICAgICAgICAgICAgICAgICAgICAgICAgICAgICAgICAgICAgICAgICAgICAgICAgICAgICAgICAgICAgICAgICAgICAgICAgICAgICAgICAgICAgICAgICAgCiAgICAgICAgICAgICAgICAgICAgICAgICAgICAgICAgICAgICAgICAgICAgICAgICAgICAgICAgICAgICAgICAgICAgICAgICAgICAgICAgICAgICAgICAgICAgICAgICAgICAKICAgICAgICAgICAgICAgICAgICAgICAgICAgICAgICAgICAgICAgICAgICAgICAgICAgICAgICAgICAgICAgICAgICAgICAgICAgICAgICAgICAgICAgICAgICAgICAgICAgIAogICAgICAgICAgICAgICAgICAgICAgICAgICAgICAgICAgICAgICAgICAgICAgICAgICAgICAgICAgICAgICAgICAgICAgICAgICAgICAgICAgICAgICAgICAgICAgICAgICAgCiAgICAgICAgICAgICAgICAgICAgICAgICAgICAgICAgICAgICAgICAgICAgICAgICAgICAgICAgICAgICAgICAgICAgICAgICAgICAgICAgICAgICAgICAgICAgICAgICAgICAKICAgICAgICAgICAgICAgICAgICAgICAgICAgICAgICAgICAgICAgICAgICAgICAgICAgICAgICAgICAgICAgICAgICAgICAgICAgICAgICAgICAgICAgICAgICAgICAgICAgIAogICAgICAgICAgICAgICAgICAgICAgICAgICAgICAgICAgICAgICAgICAgICAgICAgICAgICAgICAgICAgICAgICAgICAgICAgICAgICAgICAgICAgICAgICAgICAgICAgICAgCiAgICAgICAgICAgICAgICAgICAgICAgICAgICAgICAgICAgICAgICAgICAgICAgICAgICAgICAgICAgICAgICAgICAgICAgICAgICAgICAgICAgICAgICAgICAgICAgICAgICAKICAgICAgICAgICAgICAgICAgICAgICAgICAgICAgICAgICAgICAgICAgICAgICAgICAgICAgICAgICAgICAgICAgICAgICAgICAgICAgICAgICAgICAgICAgICAgICAgICAgIAogICAgICAgICAgICAgICAgICAgICAgICAgICAgICAgICAgICAgICAgICAgICAgICAgICAgICAgICAgICAgICAgICAgICAgICAgICAgICAgICAgICAgICAgICAgICAgICAgICAgCiAgICAgICAgICAgICAgICAgICAgICAgICAgICAgICAgICAgICAgICAgICAgICAgICAgICAgICAgICAgICAgICAgICAgICAgICAgICAgICAgICAgICAgICAgICAgICAgICAgICAKICAgICAgICAgICAgICAgICAgICAgICAgICAgICAgICAgICAgICAgICAgICAgICAgICAgICAgICAgICAgICAgICAgICAgICAgICAgICAgICAgICAgICAgICAgICAgICAgICAgIAogICAgICAgICAgICAgICAgICAgICAgICAgICAgICAgICAgICAgICAgICAgICAgICAgICAgICAgICAgICAgICAgICAgICAgICAgICAgICAgICAgICAgICAgICAgICAgICAgICAgCiAgICAgICAgICAgICAgICAgICAgICAgICAgICAgICAgICAgICAgICAgICAgICAgICAgICAgICAgICAgICAgICAgICAgICAgICAgICAgICAgICAgICAgICAgICAgICAgICAgICAKICAgICAgICAgICAgICAgICAgICAgICAgICAgIDw/eHBhY2tldCBlbmQ9J3cnPz7/2wBDAAcFBQYFBAcGBQYIBwcIChELCgkJChUPEAwRGBUaGRgVGBcbHichGx0lHRcYIi4iJSgpKywrGiAvMy8qMicqKyr/2wBDAQcICAoJChQLCxQqHBgcKioqKioqKioqKioqKioqKioqKioqKioqKioqKioqKioqKioqKioqKioqKioqKioqKir/wAARCAFiAXADASIAAhEBAxEB/8QAHwAAAQUBAQEBAQEAAAAAAAAAAAECAwQFBgcICQoL/8QAtRAAAgEDAwIEAwUFBAQAAAF9AQIDAAQRBRIhMUEGE1FhByJxFDKBkaEII0KxwRVS0fAkM2JyggkKFhcYGRolJicoKSo0NTY3ODk6Q0RFRkdISUpTVFVWV1hZWmNkZWZnaGlqc3R1dnd4eXqDhIWGh4iJipKTlJWWl5iZmqKjpKWmp6ipqrKztLW2t7i5usLDxMXGx8jJytLT1NXW19jZ2uHi4+Tl5ufo6erx8vP09fb3+Pn6/8QAHwEAAwEBAQEBAQEBAQAAAAAAAAECAwQFBgcICQoL/8QAtREAAgECBAQDBAcFBAQAAQJ3AAECAxEEBSExBhJBUQdhcRMiMoEIFEKRobHBCSMzUvAVYnLRChYkNOEl8RcYGRomJygpKjU2Nzg5OkNERUZHSElKU1RVVldYWVpjZGVmZ2hpanN0dXZ3eHl6goOEhYaHiImKkpOUlZaXmJmaoqOkpaanqKmqsrO0tba3uLm6wsPExcbHyMnK0tPU1dbX2Nna4uPk5ebn6Onq8vP09fb3+Pn6/9oADAMBAAIRAxEAPwD6RooooAKKKKACiiigAoorjdU8X3+j/FrR/Dt7DbDR9ZspTa3G1hKLqM5ZCc7duzGOAcnrQB2VFcW/jHVLn4o6j4c0eygurPSdKF1dsSVka5c5ihVs7VyvOSD+Fc94j8a/ETwXpI8S+JtJ8PtocUsa3dnZTTNdW6O4UHecIxBI4AHX8aAPVaoalrmmaPNZQ6pfQ2sl/OLe1WV8GaQ9FX1JrjvHfjfxBoHjPQfD/hnSrXUbjWYJ9izllEboUw7MDwgUsTwScADGar+ItW1rSh4Kj8Vad4fv9SvdeS2eSK3d44AQxWSHedySAAc896APSKo63qsGg6BqGr3iSPb6fayXUqxAF2VFLEKCQM4HGSKwvEVz49k1Y23hGw0SG0jjVjfatNI/msc5RY48EY45J78CuXfxhfeLPgz49j1qxisdV0i11DT7yOBy0TOkDHchPO0g96APRtF1WDXdB0/V7NZFt9Qto7qJZQAwR1DAEAkZwfU1S1vxTZaBq2i6feR3Dy6zcm1t2iUFVcKWy2SCBgds15doXif4iaP8ItG1zTtB0c6LpmkQM9pczSG8uYY4l3SqV+RAQNwU5OPfitXxXrNt4i1f4V6zY7hb3+pfaIw/3lDQE4PuM4NAHq1FeaeJviTfr40vPDHha48P2U+mxxvfXuv3JjiDONyxxopDO2OSc4HTr10vh14+n8WXms6RqyaeNV0WSNZpdMuPOtrhJFLI8bHnsQQenfngAHc0UUUAFFFFABRRRQAUUUUAFFFFABRRRQAUUUUAFFFFABRRRQAUUUUAFFFFABRRRQAUUUUAFFFFABRRRQAUUUUAFFFFABXA/GHQr/UvCEGq6Bbvca1oF7FqVlFEpZ5SjfMgA5OVJ4HXAFd9RQB5V4O0TxKvw18U67Hby2Hi3xJJc3kUVwuyS3OCsER3DjaACM9N3NeW+IvCraz8N5obTwF4zuPFixRm81DUnnZQ6spkKKXIm3YYAKhwGzxivqeigDgfEWm30/xw8GX8FncSWdtZ3yz3CRExxFkUKGbGAT2z1o+Jem32oa14Hexs7i5S18QwzTtDEXEMYRsuxA+Vfc8V31FAHinjbTru4+KOpN4z0DxR4g8OyW8I0eDRGkMMbbf3olEbKQxfkMx6e2MReDvDWp6d8KfiZYDw9faY16141jYS75pGV7UBFVuTIcnbkE85GTXuFFAHiUPiTxXa/CODwYfAetnXW0lNOgljgDWhUxBBI8pI2ELyVYAhuK1LzwfqGiQ/CvSoLaa8Gj3YF5NBGzJHiEhmJx8q7icE4r1migDxXXfDUXhv4r67ruveBX8X6JrscDxS2+nx3s1lLGuxl8tuQrdSR6L1wa7vwCNNkjvrjSPAzeE4GZVUzWUVrJdAZ5MacgDtu9a6+igAooooAKKKKACiiigAooooAKKKKACiiigAooooAKKKKACiiigAooooAKKKKACiiigAooooAKKKKACiiigAooooAKKKKACiiigAooooAKKKKAMu41Z4fF+n6OIlMd3Y3V00meVMUluoA9j55/IVqVzd9/yVPQv+wLqX/o+xrpKACiiigAooooAKKKKACiiigAooooAKKKKACiiigAooooAKKKKACiiigAooooAKKKKACiiigAooooAKKKKACiiigAooooAKKKKACiiigAooooAKKKKACiiigDm77/kqehf9gXUv/R9jXSVzd9/yVPQv+wLqX/o+xryT44+Gvizqv2htIvRf+HiD/oGlqYpQvpImS0v4Eg9dooA99iljmiWWF1kjcZV0OQw9QadXnPw/07xnH8OPDqQazo1tGumwBYLjRJnkjHlj5WYXS5I6E7R9BXRfYfG//Qw+H/8AwQz/APyZQB0lFc39h8b/APQw+H//AAQz/wDyZR9h8b/9DD4f/wDBDP8A/JlAHSUVzf2Hxv8A9DD4f/8ABDP/APJlH2Hxv/0MPh//AMEM/wD8mUAdJRXN/YfG/wD0MPh//wAEM/8A8mUfYfG//Qw+H/8AwQz/APyZQB0lFc39h8b/APQw+H//AAQz/wDyZR9h8b/9DD4f/wDBDP8A/JlAHSUVzf2Hxv8A9DD4f/8ABDP/APJlH2Hxv/0MPh//AMEM/wD8mUAdJRXN/YfG/wD0MPh//wAEM/8A8mUfYfG//Qw+H/8AwQz/APyZQB0lFc39h8b/APQw+H//AAQz/wDyZR9h8b/9DD4f/wDBDP8A/JlAHSUVzf2Hxv8A9DD4f/8ABDP/APJlH2Hxv/0MPh//AMEM/wD8mUAdJRXN/YfG/wD0MPh//wAEM/8A8mUfYfG//Qw+H/8AwQz/APyZQB0lFc39h8b/APQw+H//AAQz/wDyZR9h8b/9DD4f/wDBDP8A/JlAHSUVzf2Hxv8A9DD4f/8ABDP/APJlH2Hxv/0MPh//AMEM/wD8mUAdJRXN/YfG/wD0MPh//wAEM/8A8mUfYfG//Qw+H/8AwQz/APyZQB0lFc39h8b/APQw+H//AAQz/wDyZR9h8b/9DD4f/wDBDP8A/JlAHSUVzf2Hxv8A9DD4f/8ABDP/APJlVNV1TX/CWkXeveJtc0efS7CFpZ4rbSZYJJMD5VV2uXAJYqOVOc475oA6+isTwd4ntPGXhDTtesOIryEOyZyY3HDofcMCPwrboAKKKKACiiigAooooAKKKKACiiigAooooA5u+/5KnoX/AGBdS/8AR9jXSV80eLPiZ8RtJ+OMWhQWGkzahCZLHTybaQLNDcPE4dvn6/ukyRwPn/D6UgEq28YuHV5QoDsi7QzY5IGTgZ7ZoAfRRRQAUUUUAFFFFABRRRQAUUUUAFFFFABRRRQAUUUUAFFFFABRRRQAUUUUAFFFFABRRRQAUUUUAFcB8YvBN/478GHTrTWV0y1gZrm5X7OZDcbFyq/eGBnnvyB6V39Udb/5AGof9esn/oJoA4H4IeBb/wAD+Edk+tLqNlqSRXsMH2cxm2d0BYZ3HII29h0z3r0ysjwn/wAiXon/AGD4P/Ra1r0AFFFFABRRRQAUUUUAFFFFABRRRQAVT1XVrHRNPe91W5S2t0IG5uSzHoqgcsxPAUAknoKztY8TLaX39laPbHVNZZQwtI32rCp6PM+CI1/Nj/CrUzSvDLJqCav4huRqerqD5b7NsNoD1WGM52+hY5Y9zjAABy95p+oX3jPT/Hs/hUMun28ltDbmT/T/ACn/AOWxT7uQNwEed2HbndhK7zStXsdbsFvdLuVuIGJXcuQVYdVYHlWHQqQCO4q5XP6r4ZaS/fV/D9yNL1cgb5Au6G7A6LPHxu9Awww7HGQQDoKKwdI8TC6vv7J1m2Ol6yqlvsrvuSdR1eF+BIv5MP4lFb1ABRRRQAUUUUAFFFFABRRRQAUUUUAFFFFABRRRQAUUUUAFFFFABRRRQAUUUUAFFFFABRRRQAVR1v8A5AGof9esn/oJq9VHW/8AkAah/wBesn/oJoAreE/+RL0T/sHwf+i1rXrI8J/8iXon/YPg/wDRa1r0AFFFFABRRRQAUUUUAFFFZet+IbHQYovtRkmubglbazt13zXDeiL39ycAdSQOaANGWWOCF5p5FjijUs7u2FUDqST0Fct/aup+Lv3fht307R24fWHT95OPS2Rh0/6asMf3Q2dwfF4fvvEUyXnjMR+QrB4NFibdDGRyGmb/AJbOPT7inoCRurqenSgCho+i2GhWP2XTIPKQsXkZmLPK56u7nJdj3Ykmr9FFABRRRQBR1fRbDXbH7JqcAljDB0YEq8Tjo6MMFWHZgQRWD/amqeEP3fiJ5NS0ccJq6J+9tx6XCKOR/wBNVGP7wX7x6yigBkM0VxAk1vIksUihkkRgysDyCCOop9ctN4evvD873vg3yxC7F7jRpW2wSk8loj/yxc9f7jHqATurV0TxDZa7HKLbzILq3IW5srhdk1u3o6+/ZhlT1BIoA1KKKKACiiigAooooAKKKKACiiigAooooAKKKKACiiigAooooAKKKKACiiigAooooAKo63/yANQ/69ZP/QTV6qOt/wDIA1D/AK9ZP/QTQBW8J/8AIl6J/wBg+D/0Wta9ZHhP/kS9E/7B8H/ota16ACiiigAooooAKKq6lqdlo+nyXuqXMdrbR/ekkOBzwAPUk8ADkngVzvk6v4x5uxcaJoTdLcEx3l4v+2RzCh/uj5z3KcqQCe98SXOo3sul+EIo7u6iby7m/lybWzPcEj/WSD/nmp4/iK8Zu6J4bttHllu5JZb/AFS4AFxqFzgyyDrtGOEQHoigAfXJrRsrK102yis9Pt4ra2hXZHDEgVUHoAOlT0AFFFFABRRRQAUUUUAFFFFABWPrfhu11iSK7SSSx1O3BFtqFsQJYv8AZOeHQ90YFT6ZwRsUUAczZ+JLrTb2LS/GEcVrcysEttQiBFreHsAT/q5D/wA82PP8JbnHTVDeWVtqNnLaX9vFc20ylJIZUDK49CD1rmfI1fwdzZC41vQl62pYyXdmv/TMnmZB/dJ3jsW4WgDrKKqaZqllrOnx3ul3MdzbSZ2yRnuOCCOoIPBB5B4NW6ACiiigAorzT4qfDjwlqPhfxT4lvdFhl1hdLnmW7LuGDxwEIcBscbV7dqwPBvhXwl4P+EOmfEGDw7DPrNho4vjKJ3RpH8o7uckDIJH3T16UAe1UVwvhz4g6r4isptXj8Jz2ugCze4t9Qnu0DXBUA4EONwVudrnqBnAyKv8Ah/xwNd+FqeMjp5tw1lNdG087fjy93y79o67euO9AHV0Vw6/E60T4b6P4ouNOn+0az5cdnplu3mSTTOTtjVsAHoTkgcCobP4iaxaeItM0vxr4Qm0AatKYLK6jv47uNpcZEblQNjHHHUH88AHfUUUUAFFFFABRRRQAUUUUAFFFFABRRRQAVR1v/kAah/16yf8AoJq9VHW/+QBqH/XrJ/6CaAK3hP8A5EvRP+wfB/6LWtesjwn/AMiXon/YPg/9FrWvQAUUUjuscbPIwRFBLMxwAB3JoAWsPWfE0Wn3a6bp1u+p6xIu5LGFgNi/35X6Rp7nk9FDHiqB1nUfFbGHwo/2TS84k1t0B8wdxbIeH/66N8g7B+23o2hWGg2jQadEVMjeZNNIxeWd+7yOeWY+p+nSgDN03wzK+oR6v4nuU1LVIzmBVUi3ss9oUPfHBkbLHn7oO0dFRRQAUUUUAFFFFABRRRQAUV5T4D+KmueJ9P8AGtzc6PBdS+H52SztLBXWS5A34UklssdgGQO/SuksviLbWvw8h8V+ONPuPCsbOUltbpJJJIjvKrwEDHOM/d6GgDsqKwPEPiWbTfA83iHQNKuNffyY5raztgyyXCuVwR8pI+Vt33ScDpV3w9qdzrPh2x1G/wBNm0u5uYVkkspyd8BP8JyBz+A+lAGlRRRQAUUUUAc9qfhmRdQk1fwzcLpuqPzMCpNve47TIOpxwHGGHqR8pl0bxNHf3h0zU7dtL1mNdz2UzZ8xR1eJ+kie45H8QU8VuVn6zodhr1mtvqMJby28yGVGKSQOOjo45Vh6g0AaFFcmNY1LwmRD4qc3ulDiPW0QAxD0uUHC/wDXRRt9Qnfqo5EljWSJldHAZWU5DA9CDQBzvxGGfhb4qA6/2Nef+iHrien7JP8A3LH/ALRr1qigDnPD1qbz4X6XadDPo8MXpjMIH9a8j8K+O9O0f4ITeCbu1v8A/hKrW0urGTSUtXMoZi+HJxtCYYEsTgYPtn3+igD521TQZNT+Afw61GTTrnU9P0maKfUbS1LCVrc5DMu0huPb1zkYJrc8M2fwW1LxRpX/AAi9ne6jqcdws0G176QWrp8weTzG2rgj+L8q9tooAKKKKACiiigAooooAKKKKACiiigAooooAKo63/yANQ/69ZP/AEE1eqjrf/IA1D/r1k/9BNAFbwn/AMiXon/YPg/9FrWvWR4T/wCRL0T/ALB8H/ota16ACuCu2OreMH0zx0Ta2JmxpdiP+PTUAOQZJP8AlpJ/0xYKBjOHxuHe1W1DTrPVrCWy1K2juraYYeKVdyt/nrntQBYUBVCqAABgAdqWuTzrHg77/wBp1zQV/i5kvLIe/edB/wB/B/t9uksNQtNUsIr3TbmK6tpl3RyxMGVh9RQBYooooA8N+IWteK/F/wAaLf4d+F9el8O2sNqLi6vLfIkYld2QVIJABUAAjknJ6Yb4s1Txp8GPhLfnUPEh1++utRS10y/nQtJAjRlmLhicn5GwCWxkH2rb+Inwo17V/HNr40+H+uw6PrkUQhlFwD5cgAwDkK3Y4IKkHA6Yps/wl8R+K/hzqOi/EPxQuo6tdXaXdtcwxZitHVdoCrheCCwOAvWgDg/FGhfE34c+D4PHD/EW91CZWia60+cu8SbyBgBmKsMkD7q98Vf8eeMfF2sfEDwCng7V5dJk8QaPHMIWkJgRpg2WdOQxUHIyDgqMVZm+DPxN8SWNpoHjPxzaTeHLVlxHbKWmdV6A5jXJx3ZmweecV2GvfC28vPil4O1/RpbO30nw9bLbNbyO4k2ru2hAFIPBA5I6UAcZ4cu/GXw9/aA0vwjr/iy68SWOs2rTs1yWOzIkwVVmbYQ0RHBwQenpV0eTx98XvHniW70fxpc+G7DQ7rybS3g3FH+ZgoZFYBuEyxbd1wBjp6H4h+HWq6v8ePD3ja3ubNNO0uz8iaJ3cTM2ZuVAXbj96OpHQ1y1x8GvG+g+N9W1L4ceLbXSNN1qUyXUU0ZLx5JOFXYwbBZsHKkA4z3oA5D4WXWo6X8Nvizci7aPUrcOxubdihEoWXLKRjHPIxiqHjCHWvEP7L3hnxHqHiO/m+zzTx3VvPI8n2wtdOqM7FuSgTAyD14xXpXhT4M614d8G+PNEn1S0u5PEAdLK4Z3LY2uA03y8E7gTt3d+tXYvhBf3H7PEHw/1C+tY9ShLSLcw7niD/aGlHUBsYbB44yevcA5e90jxH4C/Zp1jVB4z1O/uLy2sJrNy8kbWCNJGDHG29iBtfHG3gdKb4n8f+KLb4cfDjQdA1CSLWfFEEMcupTPukGfLT7xyclpMluvHvW6nww8fah8GdZ8H+JPEOm3t3MlrDppG4RW8UMithnEYYkhcZIJ4HNWPEnwWu9f+HXhTTotVi0/xD4agRYLyIM0bMFXIzwwG5FIbGRjpzQBxviBfHvwU17QNRvfHF54m03UboQXVtebzxxkKHdscE4YEcgcYqzr15458Q/tH+IvCPhnxXcaRZtaws7MzOtvGIYmYxJnAcs/UYPJ5rXsvg9458TeJtKv/iv4rtNUstKlEsNnZpxIQQcN+7QDJAycEkccZzXUab8OtVsv2gtX8dyXNm2mX1ksEcKs3nKwjiXkbduP3ZOd3ccUAcr8Hda8T6V8V/EvgDxNrtxrqafb/aIbq5ZnYYaPuxLciUcEnBHHv7lXm3h34darpHx48Q+Nrm5s207U7PyIYY3czK37nlgVCgfuj0J6ivSaACiiq9/f2ml2Mt7qNzFa20K7pJpWCqo9yaALBAZSGGQeCD3rz4PPo3ic6d8OkS+iVz/aGmSyFLKyJBOVmAYxOTjMSq4wc7VzuOrv1fxj/qvtOiaC38eDHeXq+w6wIfX/AFh/2Op6PTtNs9IsIrLTLaO1tohhIolwB/8AXPUnvQBifbvG/wD0L3h//wAH0/8A8h0fbvG//QveH/8AwfT/APyHXSUUAc39u8b/APQveH//AAfT/wDyHR9u8b/9C94f/wDB9P8A/IddJRQBzf27xv8A9C94f/8AB9P/APIdH27xv/0L3h//AMH0/wD8h10lFAHO6TrusTeJJNH13SrGzkFp9qjks9Qe5DDftwd0MeD+ddFXN/8ANVP+4L/7XrpKACiiigAooooAKKKKACiiigAooooAKo63/wAgDUP+vWT/ANBNXqo63/yANQ/69ZP/AEE0AVvCf/Il6J/2D4P/AEWta9ZHhP8A5EvRP+wfB/6LWtegAooooAK5u/8ADVxaX0ureEpo7G+lbfcWsufst6fV1H3H/wCmi8/3gwGK6SigDF0XxLBqtxJY3MEmnatAu6fT7gjeo6b0I4kTPR1yOxwcgbVZutaBY69bxpeo6TQNvt7qFtk1u/8AeRxyD+hHBBHFY8evX/hmRbbxiyy2ZIWHXIk2xnsBcKOIm/2h8h/2SQtAHVUUAhlBU5B5BHeigAooooAKKKKACiiigAooooAKKKKACigkAEk4A6k1ysmv3/iWV7XwcUjtFJWbW5U3RL6iBf8Alq3+19wHuxBWgDR1vxLb6TPHY28MmoarOu6DT7bBkYdN7E8RoD1dsDsMnANSw8NXF7fRat4tmjvb2Jt9vaRZ+y2R9UU8u/8A00bn+6FBIrR0TQLHQYJFs1d5p233N1O++a4f+87nkn0HQDgADitOgAooooAKKKKACiiigAooooA5v/mqn/cF/wDa9dJXN/8ANVP+4L/7XrpKACiiigAooooAKKKKACiiigAooooAKo63/wAgDUP+vWT/ANBNXqo63/yANQ/69ZP/AEE0AVvCf/Il6J/2D4P/AEWta9ZHhP8A5EvRP+wfB/6LWtegAooooAKKKKACmyRpLG0cqq6OCrKwyGB6ginUUAcmdH1LwmTN4VQ3uljmTRHcAxD1tnPC/wDXNjt9Cnfc0bXLDXrM3GnTF9jbJonUpJA46o6HlWHoRWhWHrPhmO/vBqemXDaXrMa7UvYVz5ijokqdJE9jyP4Sp5oA3KK57TPE0i6hHpHia3XTdUfIhIbNve47wuepxyUOGHoR8x6GgAooooAKKKKACiiigArP1nXLDQbMXGpTbA7BIokUvJM56IiDl2PoBWdqfiZzqEmkeGrZdT1VMCbLbYLPPQzOOh7hBlj6AfMJdH8MpY3h1TVLltU1l1KteyrgRqeqRJ0jT2HJ43FjzQBnjSNS8WnzfFCGx0k8x6KjgtMPW5ccN/1yU7f7xfoOqjjSGJY4kVI0AVVUYCgdABTqKACiiigAooooAKKKKACiiigAooooA5v/AJqp/wBwX/2vXSVzf/NVP+4L/wC166SgAooooAKKKKACiiigAooooAKKKKACqOt/8gDUP+vWT/0E1eqjrf8AyANQ/wCvWT/0E0AVvCf/ACJeif8AYPg/9FrWvWR4T/5EvRP+wfB/6LWtegAooooAKKKKACiiigAooooAqanpdlrOnyWWqW0dzbSY3RyDuOQQeoIPII5B5Fc99o1fwdxfG41rQl6XQUyXdmv/AE0A5mQf3h847huWrrKKAIbO9ttRs4ruwuIrm2mUPHNE4ZXHqCOtTVzN54butNvJdU8HyRWtxKxkudPlJFreHuSB/q5D/wA9FHP8QbjF7RPElrrMkto8ctjqduAbnT7kASxf7Qxw6Hs6kqfXOQADYoorI1vxJa6NJFarHLe6lcAm20+2AaWXHU88Kg7uxCj1zgUAaN5eW2n2ct3fXEdtbQqXkmlcKqKO5J4Fcz9p1fxjxp7XGi6E3W7KlLu8X/pmp5hQ/wB8jef4QvDVNZ+G7rVLyLU/GEkdzPEwkttOhJNraN2POPNkH99hx/Cq856agCppml2OjafHZaXbR21vHnCIOpPUk9SSeSTyTyat0UUAFFFFABRRRQAUUUUAFFFFABRRRQAUUUHgHAyfSgDm/wDmqn/cF/8Aa9dJXgv/AAv3Rf8AhaXl/wDCP659r8n+yvsnlReZ5/nfdx5mOvHXrXvQ5AyMe1ABRRRQAUUUUAFFFFABRRRQAUUUUAFUdb/5AGof9esn/oJq9VHW/wDkAah/16yf+gmgCt4T/wCRL0T/ALB8H/ota16yPCf/ACJeif8AYPg/9FrWvQAUUUUAFFFFABRRRQAUUUUAFFFFABWXrfh6y12OI3PmQXVuS1te27bJrdvVG9+6nKnoQRWpRQBxMmqeLYtWg8Lv9h+23EEtxFrWPkMEbRq7eR/z1BlQYzsOd2eCldDonh6y0JJWt/Mnu7ghrm9uG3zXDDuzeg7KMKOgAFUL7/kqehf9gXUv/R9jXSUAFFFFABRRRQAUUUUAFFFYHj26nsvhv4lurOaSC4g0m6kiljYq0brCxDAjkEEZzQBv0Vzf/CB6R/z+eIP/AAo9Q/8Aj9H/AAgekf8AP54g/wDCj1D/AOP0AdJRXN/8IHpH/P54g/8ACj1D/wCP0f8ACB6R/wA/niD/AMKPUP8A4/QB0lFc3/wgekf8/niD/wAKPUP/AI/R/wAIHpH/AD+eIP8Awo9Q/wDj9AHSUVzf/CB6R/z+eIP/AAo9Q/8Aj9H/AAgekf8AP54g/wDCj1D/AOP0Ac9/wqXT/wDhd3/Cefu9n2bP2fH/AC9fd830xs/8e5r0Wub/AOED0j/n88Qf+FHqH/x+j/hA9I/5/PEH/hR6h/8AH6AOkorm/wDhA9I/5/PEH/hR6h/8fo/4QPSP+fzxB/4Ueof/AB+gDpKK5v8A4QPSP+fzxB/4Ueof/H6P+ED0j/n88Qf+FHqH/wAfoA6Siub/AOED0j/n88Qf+FHqH/x+j/hA9I/5/PEH/hR6h/8AH6AOkorm/wDhA9I/5/PEH/hR6h/8fqXwFdT33w48NXd5M89xPpNrLLLIxZpHaFSWJPUknOaAN+iiigAqjrf/ACANQ/69ZP8A0E1eqjrf/IA1D/r1k/8AQTQBW8J/8iXon/YPg/8ARa1r1keE/wDkS9E/7B8H/ota16ACiiigAooooAKK86+Luv69o8fha08NaqdKm1jXINPluBbxzFUkyD8rgjg4Pbp1ra0HQ/E2i30l54k8dSaxYpC26CbTbe2VDwd5dADwAfbmgDq6K4u1+L/gO91iLTLbxHbvcTSeVE3lyCKR842rKV2E59GrL8bH/i+3ww/7i3/pMtAHpFFclrPxS8F+H9bbSNX16C3vUKiVPLd1hJ6b3VSqdR94itXxD4s0Pwppi6h4g1KGytpGCxs2WMjYzhVUFmPsAaANiisDwx448OeMVnPhzVI7xrcjzotjRyR56Eo4DAe+K36AObvv+Sp6F/2BdS/9H2NdJXN33/JU9C/7Aupf+j7GukoAKKKKACiiigAooooAK5v4j/8AJLPFf/YFvP8A0Q9dJXN/Ef8A5JZ4r/7At5/6IegDpKKKKAOc8TfEDwv4PuIbfxDq0drcTLujt1jeWVl/vbEDNjg84xwa0dA8RaT4o0lNT8P38V9ZuSoliPQjqCDyD7HmvN/ENr4h8C/FjUvG9joEviPSNUtIoLlLQg3Vl5YA+RT95TjJA6nrjHOlf/FXw3YfCjVfGnhaKK4WKTD23l+U/wBpZlTEq9QeVJPcDg9KAOkk8WSS/EBPDOl6f9sEFv5+p3hm2LZBh+7TG073brtyMDmukr50vfjFe6FYxaxD8StN8SXCyIbnQo9I8lHRmAZYZcBsqDkFjzjPsfRPFPiTxBq/xGsfBPg3UYtJdtOOqX2pSWwmeOLeEVUR+NxJGcjgEehoA9HoryzQNe8Z2Hxsi8H+JtWttRs10V72OaC1WJrj96FV3AHyuMMMKdpGDjNa/wAKPEureJrHxNJrd19pex8RXdlbny1TZCgQqvygZxuPJyfegDvKK8e0n4qanpnwf8TeK9cYajdadq1xaWsexYwRvVI1O0DgFsk9SB1zXK3vxivdCsYtYh+JWm+JLhZENzoUekeSjozAMsMuA2VByCx5xn2IB9F0V5r4y8Q+LP8AhZmheHvCF7a28Op6dNLK93AHWHay/vQOGZguQFyASeelO8M6z4q0X4qTeDfFWrR67b3OmHUbO/FolvImJAjRsqcY75+n4AHpFFeUaFqPjr4kJf65oXieDw3pMV5LbafbLpiXLXCxtgySM/IyQRhcY/DlvxD+It/4VuPD3hu81yw0XUb608/Udae1aaOHaMHyou5Zw2N3AA70Aes0V458PviZPqHxFTww3iu28X2V3aPPFfx2H2WW3kQ8o6gBSpXkH1/X2OgArm/hx/ySzwp/2BbP/wBEJXSVzfw4/wCSWeFP+wLZ/wDohKAOkooooAKo63/yANQ/69ZP/QTV6qOt/wDIA1D/AK9ZP/QTQBW8J/8AIl6J/wBg+D/0Wta9ZHhP/kS9E/7B8H/ota16ACiiigAooooA8m+O9qb5vAtoLie1Nx4otYhPbsFki3ZG5CQcMM5BweRW8+gQeAND1nXtV8Q+IvEVnb6fKZrHVLqOeN1A3HC7F+YgbeTjDGun1nw5pXiCbTpdXtPtD6Zdpe2hMjL5cyfdb5SM49Dke1aFxbw3dtLb3USTQzIUkjkXcrqRggg9QR2oA+d/ilrHizWfge+o32l+GdL0C5W2ms4IruR7uMF0KeWAoTODyB0XdXofjb/ku3ww/wC4t/6TLV1Pgn8PEhniHhqIxzqVKtcTNsBOTsy/7vP+ziuqvfD+majrumazeWvmX+k+b9im8xh5XmqFk4BwcqAOQcdsUAeXa1Z6r8PYPE/ijwzPpHiHwzfXct7qmmXjYkSQ/LKI5RlTyMbGHHQDPXP8USajr3xw8IzaRrEXh+K88O+dps11ZJcqJWcl41RmAD7NnIPQY716Be/CLwJqOsyapeeHbeS6ml86X95II5Hzks0QbYxJ65XmtrxH4Q0DxbpyWPiLS4L63jOYw4IMZ6ZVlwV/AigDlPD/AID1bT/iYniTxD4xt9W1D+zntfs0WmJatJFvB3NtclgGxzjuOa9ErnPDXgDwv4QuZbnw9pMdrczJ5clw0jyysuQdu92LYyBxnsPSujoA5u+/5KnoX/YF1L/0fY10lc3ff8lT0L/sC6l/6Psa6SgAooooAKKKKACiiigArm/iP/ySzxX/ANgW8/8ARD10lc38R/8Aklniv/sC3n/oh6AOkooooA4vWNe8e6Xrd3FYeDbXXdNYg2k9tqaW8ijaMiRZOCd2eVPTHFcjH8IdT1rwF4wt9dltLLWfFF2L0Q2xJhtGRt0algPmyc7iB37mvYqKAPPbDxD8T3hgsbzwNYpdLtSbUn1eP7O3q4jUGTn+7j8ai8V+H/EelfE+z8c+EdMi1lm05tMv9Oe5WB2TfvV0d/lznGQT/CPUmvR6KAPFtDuNfu/2nYLjxRY22nXMvhhmhs7ebzjBF9oICu+AGfIYkjjBA7Vo6RpXjrwJr/iWy8P+HLPWNN1rVJdTtL179IEtXlxuWRCNxAwPujt78d1J4Q0+T4gReMGkuP7Rj046cIw48ox+YXzjGd2Sec4x2reoA8Z0b4U61f8AwV8R+EvEBitNRvtUnuoJwwMbHejI+FJwrFeh5APTNdJYeIfie8MFjeeBrFLpdqTak+rx/Z29XEagyc/3cfjXoVFAHF6poGp3Hxn0LXYbbdptpplzBNP5ijY7sCo253HOOoGKS68P6nJ8crDxAltnS4dDktHuPMXiUzBgu3O7pznGPeu1ooA8m8O6f47+G63+haP4Xh8R6TJeS3On3a6nHbmBJG3eXIrjJwSTlc96veJvDni5vEHhvxvotlYXWu6fZta6jpZuCkc6OMlY5GHBVicE9fwwfS6KAOW8Oax4w1XVD/bvhWDQdOWI/wCs1FLiZ5MjGBGNoXGc5OeldTRRQAVzfw4/5JZ4U/7Atn/6ISukrm/hx/ySzwp/2BbP/wBEJQB0lFFFABVHW/8AkAah/wBesn/oJq9VHW/+QBqH/XrJ/wCgmgCt4T/5EvRP+wfB/wCi1rXrI8J/8iXon/YPg/8ARa1r0AFFFFABRRRQAUUUUAFFFFABRRRQAUUUUAc3ff8AJU9C/wCwLqX/AKPsa6Subvv+Sp6F/wBgXUv/AEfY10lABRRRQAUUUUAFFFFABWb4j0geIPC2q6MZvs41GzmtTNt3eX5iFd2MjOM5xkVpUUAc39h8b/8AQw+H/wDwQz//ACZR9h8b/wDQw+H/APwQz/8AyZXSUUAc39h8b/8AQw+H/wDwQz//ACZR9h8b/wDQw+H/APwQz/8AyZXSUUAc39h8b/8AQw+H/wDwQz//ACZR9h8b/wDQw+H/APwQz/8AyZXSUUAc39h8b/8AQw+H/wDwQz//ACZR9h8b/wDQw+H/APwQz/8AyZXSUUAcTPc+N4fFVjo39t+H2+12Vzd+d/Yk/wAnkvAm3b9r5z5+c542988aX2Hxv/0MPh//AMEM/wD8mUX3/JU9C/7Aupf+j7GukoA5v7D43/6GHw//AOCGf/5Mo+w+N/8AoYfD/wD4IZ//AJMrpKKAOb+w+N/+hh8P/wDghn/+TKPsPjf/AKGHw/8A+CGf/wCTK6SigDm/sPjf/oYfD/8A4IZ//kyj7D43/wChh8P/APghn/8AkyukooA5v7D43/6GHw//AOCGf/5MrT8O6QPD/hfStGWYzjTrOG1EpXb5nloF3YycZxnGa0aKACiiigAqjrf/ACANQ/69ZP8A0E1eqjrf/IA1D/r1k/8AQTQBW8J/8iXon/YPg/8ARa1r1keE/wDkS9E/7B8H/ota16ACiiigAooooAKKKKACiiigAooooAKKKKAObvv+Sp6F/wBgXUv/AEfY10lc3ff8lT0L/sC6l/6Psa6SgAooooAKKKKACiiigAooooAKKKKACiiigAooooAKKKKAObvv+Sp6F/2BdS/9H2NdJXMa/Bq1v4w0nWNK0ttSit7C8tZY0uEiZWlktmU/ORkfuW/Sn/294j/6E64/8GEH/wAVQB0lFc3/AG94j/6E64/8GEH/AMVR/b3iP/oTrj/wYQf/ABVAHSUVzf8Ab3iP/oTrj/wYQf8AxVH9veI/+hOuP/BhB/8AFUAdJRXN/wBveI/+hOuP/BhB/wDFUf294j/6E64/8GEH/wAVQB0lFc3/AG94j/6E64/8GEH/AMVR/b3iP/oTrj/wYQf/ABVAHSUVzf8Ab3iP/oTrj/wYQf8AxVH9veI/+hOuP/BhB/8AFUAdJVHW/wDkAah/16yf+gmsn+3vEf8A0J1x/wCDCD/4qq9/q3iW8025tk8Hzq00LxgnUIMAkEf3qANXwn/yJeif9g+D/wBFrWvWfoFpLp/hvTLO5AWa3tIopADkBlQA8/UVoUAFFFFABRRRQAUUUUAFFFFABRRRQAUUUUAc3ff8lT0L/sC6l/6Psa6Subvv+Sp6F/2BdS/9H2NdJQAUUUUAFFFFABRRRQAUUUUAFFFFABRRRQAUUUUAFFFFABRRRQAUUUUAFFFFABRRRQAUUUUAFFFFABRRRQAUUUUAFFFFABRRRQAUUUUAFFFFABRRRQAUUUUAc3ff8lT0L/sC6l/6Psa6Subvv+Sp6F/2BdS/9H2NdJQAUUUUAFFFFABRRRQAUUUUAFFFFABRRRQAUUUUAFFFFABRRRQAUUUUAFFFFABRRRQAUUUUAFFFFABRRRQAUUUUAFFFFABRRRQAUUUUAFFFFABRRRQAUUUUAc3ff8lT0L/sC6l/6Psa6Subvv8Akqehf9gXUv8A0fY10lABRRRQAUUUUAFFFFABRRRQAUUUUAFFFFABRRRQAUUUUAFFFFABRRRQAUUUUAFFFFABRRRQAUUUUAFFFFABRRRQAUUUUAFFFFABRRRQAUUUUAFFFFABRRRQB8ueL/Aviw/tD2uh6drerx6fqjNc29wt5J/o1sxDToDnjaUwB3/d57V9QQxLBBHFHnZGoVckk4Ax1PJpGgha5S4aJDNGjIkhUblViCwB7AlVyPYelSUAFFFFABRRRQAUUUUAFFFFABRRRQAUUUUAFFFFABRRRQAUUUUAFFFFABRRRQAUUUUAFFFFABRRRQAUUUUAFFFFABRRRQAUUUUAFFFFABRRRQAUUUUAFFFFABRRRQAUUUUAFFFFABRRRQAUUUUAFFFFABRRRQAUUUUAFFFFABRRRQAUUUUAFFFFABRRRQAUUUUAFFFFABRRRQAUUUUAf//Z)"
   ]
  },
  {
   "cell_type": "markdown",
   "metadata": {
    "id": "j_JxKHb83P1L"
   },
   "source": [
    "La syntaxe est la suivante :\n",
    "\n",
    "```\n",
    "while condition :\n",
    "  sequence\n",
    "```\n",
    "Par exemple : "
   ]
  },
  {
   "cell_type": "code",
   "execution_count": 14,
   "metadata": {
    "colab": {
     "base_uri": "https://localhost:8080/"
    },
    "id": "b4JmfATa453S",
    "outputId": "0ee657fb-663f-47d6-9b46-f839022abe56"
   },
   "outputs": [
    {
     "name": "stdout",
     "output_type": "stream",
     "text": [
      "0\n",
      "1\n",
      "2\n",
      "3\n"
     ]
    }
   ],
   "source": [
    "i = 0\n",
    "while i < 4:\n",
    "  print( i )\n",
    "  i = i + 1"
   ]
  },
  {
   "cell_type": "markdown",
   "metadata": {
    "id": "yTn1DTGq5KJU"
   },
   "source": [
    "ATTENTION ! Il faut toujours veiller à certaines choses si on veut éviter d'avoir une boucle qui tourne à l'infini :\n",
    "- initialiser une variable d'itération, ici \"i = 0\"\n",
    "- écrire une condition qui dépend de la variable d'itération, ici \"i < 4\"\n",
    "- faire changer la valeur de la variable d'itération, ici \"i = i + 1\"\n",
    "\n",
    "Si vous faites une erreur et que vous lancez une boucle infinie, vous pouvez l'arrêter avec Ctrl+C si le programme est dans un terminal python, ou bien en cliquant sur une icône pour arrêter le calcul dans les notebooks Jupyter ou Colab (symbol \"stop\" sur le bouton qui sert à lancer le code à gauche de la cellule). \n",
    "\n",
    "Remarque : il est toujours possible de n'utiliser QUE des boucles `while` et jamais de boucles `for`. Les boucles de l'exemple suivant font exactement la même chose :  "
   ]
  },
  {
   "cell_type": "code",
   "execution_count": 15,
   "metadata": {
    "colab": {
     "base_uri": "https://localhost:8080/"
    },
    "id": "STFbpzQy6rpa",
    "outputId": "3df60e83-a0de-4c6b-c644-969f79d7de17"
   },
   "outputs": [
    {
     "name": "stdout",
     "output_type": "stream",
     "text": [
      "0\n",
      "1\n",
      "2\n",
      "3\n",
      "---\n",
      "0\n",
      "1\n",
      "2\n",
      "3\n"
     ]
    }
   ],
   "source": [
    "for i in range(4):\n",
    "  print(i)\n",
    "\n",
    "print(\"---\")\n",
    "\n",
    "i = 0\n",
    "while i < 4:\n",
    "  print(i)\n",
    "  i = i + 1\n"
   ]
  },
  {
   "cell_type": "markdown",
   "metadata": {
    "id": "RLgThkg169Jq"
   },
   "source": [
    "On voit que même si on connaît le nombre d'itérations à l'avance, on peut utiliser `while` au lieu de `for` MAIS\n",
    "- `while` nécessite plus de lignes et est plus difficile à utiliser donc vous risquez de faire plus de bugs\n",
    "- en utilisant `for`, on avertit la machine du nombre d'itérations à l'avance, ce qui peut lui permettre d'optimiser l'utilisation du processeur, et ainsi d'avoir un code plus rapide.     \n",
    "\n",
    "Quand on ne connait pas le nombre d'itérations à l'avance, il faut utiliser `while`. C'est le cas dans l'exemple suivant :  "
   ]
  },
  {
   "cell_type": "code",
   "execution_count": 16,
   "metadata": {
    "colab": {
     "base_uri": "https://localhost:8080/"
    },
    "id": "JONFQMy75CqA",
    "outputId": "2982e688-65bc-419a-a3e5-16b84286dad2"
   },
   "outputs": [
    {
     "name": "stdout",
     "output_type": "stream",
     "text": [
      "Entrez votre note de partiel :12\n",
      "UE validee\n"
     ]
    }
   ],
   "source": [
    "x = float(input(\"Entrez votre note de partiel :\"))\n",
    "\n",
    "while x > 20 or x < 0 :\n",
    "  x = float(input(\"Vous vous etes trompe(e), entrez une autre note :\"))\n",
    "\n",
    "if x > 10 :\n",
    "  print(\"UE validee\")\n",
    "elif x > 8:\n",
    "  print(\"Courage\")\n",
    "else :\n",
    "  print(\"Attention\")"
   ]
  },
  {
   "cell_type": "markdown",
   "metadata": {
    "id": "_fmXFfOM5nZ8"
   },
   "source": [
    "Ci-dessus, nous avons évoqué les 3 conditions pour éviter les boucles infinies. On voit ici qu'on n'a pas oublié l'initialisation (la première ligne donne une première valeur à x), de mettre une condition qui dépend de la variable x, et de mettre dans la boucle quelque chose qui modifie la variable x. "
   ]
  },
  {
   "cell_type": "markdown",
   "metadata": {
    "id": "jZPIDE3X56rV"
   },
   "source": [
    "Sur le même principe vous pouvez créer des petits jeux. Le plus connu est le jeux du juste prix."
   ]
  },
  {
   "cell_type": "code",
   "execution_count": 17,
   "metadata": {
    "colab": {
     "base_uri": "https://localhost:8080/"
    },
    "id": "QYbTQh4w6CvE",
    "outputId": "192b7db0-adec-4ef4-e43a-77db763e30f2"
   },
   "outputs": [
    {
     "name": "stdout",
     "output_type": "stream",
     "text": [
      "Devinez un nombre : 4\n",
      "Plus grand !\n",
      "Devinez un nombre : 10\n",
      "Plus grand !\n",
      "Devinez un nombre : 20\n",
      "Plus grand !\n",
      "Devinez un nombre : 80\n",
      "Plus petit !\n",
      "Devinez un nombre : 60\n",
      "Plus petit !\n",
      "Devinez un nombre : 54\n",
      "Plus petit !\n",
      "Devinez un nombre : 44\n",
      "Plus petit !\n",
      "Devinez un nombre : 34\n",
      "Plus grand !\n",
      "Devinez un nombre : 36\n",
      "Gagné !!\n"
     ]
    }
   ],
   "source": [
    "from pylab import * \n",
    "import random\n",
    "\n",
    "# creation d'un nombre aleatoire entre 0 et 100\n",
    "number=random.randint (0,100)\n",
    "\n",
    "x = float(input(\"Devinez un nombre : \"))\n",
    "\n",
    "while number != x :\n",
    "    if number < x :\n",
    "        print(\"Plus petit !\")\n",
    "        x = float(input(\"Devinez un nombre : \"))\n",
    "    elif number > x :\n",
    "        print(\"Plus grand !\")\n",
    "        x = float(input(\"Devinez un nombre : \"))\n",
    "else:\n",
    "    print(\"Gagné !!\")"
   ]
  },
  {
   "cell_type": "markdown",
   "metadata": {
    "id": "AsswNJaDo_Dp"
   },
   "source": [
    "### Résumé sur les boucles \n",
    "\n",
    "La boucle `for` est essentiellement utilisée pour exécuter la même séquence N fois, où N est un nombre connu à l'avance. On dit que la boucle \"itère N fois\" ou qu'elle comporte \"N itérations\". On parle de boucle bornée. \n",
    "\n",
    "La boucle `while` doit être utilisée quand le nombre d'itérations n'est pas connu à l'avance. La boucle va se répéter tant qu'une certaine condition reste valide. On parle alors de boucle non bornée."
   ]
  },
  {
   "cell_type": "code",
   "execution_count": 19,
   "metadata": {},
   "outputs": [
    {
     "data": {
      "text/markdown": [
       "**Fin à:** Monday 07 November 2022, 22:09:01  \n",
       "**Durée:** 00:01:11 079ms"
      ],
      "text/plain": [
       "<IPython.core.display.Markdown object>"
      ]
     },
     "metadata": {},
     "output_type": "display_data"
    },
    {
     "data": {
      "text/markdown": [
       "<p style=\"text-align: center\"><img width=\"800px\" src=\"./config/svg/logoFin.svg\" style=\"margin-left:auto; margin-right:auto\"/></p>"
      ],
      "text/plain": [
       "<IPython.core.display.Markdown object>"
      ]
     },
     "metadata": {},
     "output_type": "display_data"
    }
   ],
   "source": [
    "###############################################################################################\n",
    "# supprimez cette cellule si vous exécutez ce notebook en-dehors de la distribution CHIM2-ON1 #\n",
    "###############################################################################################\n",
    "\n",
    "vID.end(cwd0)"
   ]
  }
 ],
 "metadata": {
  "colab": {
   "collapsed_sections": [],
   "include_colab_link": true,
   "name": "Boucles.ipynb",
   "provenance": []
  },
  "kernelspec": {
   "display_name": "Python 3",
   "language": "python",
   "name": "python3"
  },
  "language_info": {
   "codemirror_mode": {
    "name": "ipython",
    "version": 3
   },
   "file_extension": ".py",
   "mimetype": "text/x-python",
   "name": "python",
   "nbconvert_exporter": "python",
   "pygments_lexer": "ipython3",
   "version": "3.7.6"
  }
 },
 "nbformat": 4,
 "nbformat_minor": 1
}
