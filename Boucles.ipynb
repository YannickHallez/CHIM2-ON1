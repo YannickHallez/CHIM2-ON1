{
  "nbformat": 4,
  "nbformat_minor": 0,
  "metadata": {
    "colab": {
      "name": "Boucles.ipynb",
      "provenance": [],
      "collapsed_sections": [],
      "include_colab_link": true
    },
    "kernelspec": {
      "name": "python3",
      "display_name": "Python 3"
    },
    "language_info": {
      "name": "python"
    }
  },
  "cells": [
    {
      "cell_type": "markdown",
      "metadata": {
        "id": "view-in-github",
        "colab_type": "text"
      },
      "source": [
        "<a href=\"https://colab.research.google.com/github/YannickHallez/CHIM2-ON1/blob/main/Boucles.ipynb\" target=\"_parent\"><img src=\"https://colab.research.google.com/assets/colab-badge.svg\" alt=\"Open In Colab\"/></a>"
      ]
    },
    {
      "cell_type": "markdown",
      "source": [
        "# Les structures de boucle\n",
        "## Prérequis\n",
        "\n",
        "- Introduction à Python \n",
        "- Les variables\n",
        "- Les listes et tableaux\n",
        "- Les tests \n",
        "- Les structures conditionnelles\n",
        "\n",
        "## Compétences \n",
        "\n",
        "1. Ecrire des boucle `for`.   \n",
        "2. Ecrire des boucle `while`.   \n",
        "3. Choisir d'utiliser plutôt une boucle `for` ou une boucle `while`.   \n",
        "\n",
        "## Objectifs \n",
        "\n",
        "1. Acquérir les compétences ci-dessus.\n",
        "2. Ecrire des premiers programmes structurés avec des structures conditionnelles et des structures de boucles. \n",
        "\n",
        "## Contenu de la vidéo"
      ],
      "metadata": {
        "id": "3PEzn9tomtuX"
      }
    },
    {
      "cell_type": "markdown",
      "source": [
        "### Les structures de boucles\n",
        "\n",
        "Le but d’une boucle est de répéter plusieurs fois une séquence d’instructions. Ils existe 2 types de boucles :\n",
        "- les boucles de type `for`\n",
        "- les boucles de type `while`\n",
        "\n",
        "\n"
      ],
      "metadata": {
        "id": "o86goIE0Puz9"
      }
    },
    {
      "cell_type": "markdown",
      "source": [
        "#### La boucle for\n",
        "\n",
        "Imaginons que nous ayons une liste appelée \"menu\" qui contienne des chaines de caractères identifiant des plats. On veut afficher tous les plats disponibles. Pour l'instant, vous savez faire la chose suivante."
      ],
      "metadata": {
        "id": "yJ8XlesN-8Bf"
      }
    },
    {
      "cell_type": "code",
      "source": [
        "menu = [\"pizza\", \"salade\", \"pates\", \"omelette\"]\n",
        "print(menu[0])\n",
        "print(menu[1])\n",
        "print(menu[2])\n",
        "print(menu[3])"
      ],
      "metadata": {
        "colab": {
          "base_uri": "https://localhost:8080/"
        },
        "id": "7qDv8zTwsxNT",
        "outputId": "5c28d047-cccc-4d49-f3cf-25d5981dee3f"
      },
      "execution_count": null,
      "outputs": [
        {
          "output_type": "stream",
          "name": "stdout",
          "text": [
            "pizza\n",
            "salade\n",
            "pates\n",
            "omelette\n"
          ]
        }
      ]
    },
    {
      "cell_type": "markdown",
      "source": [
        "Mais imaginez le programme s'il y a 100 ou 1000 plats ! Il faudrait écrire un programme avec 100 ou 1000 `print`. Et si le nombre de plats dans le menu changeait, il faudrait récrire le programme. Pour éviter ce genre de problème, on utilise une boucle. Regardez l'exemple suivant : "
      ],
      "metadata": {
        "id": "d-1W-TfisxpP"
      }
    },
    {
      "cell_type": "code",
      "source": [
        "menu = [\"pizza\", \"salade\", \"pates\", \"omelette\"]\n",
        "for plat in menu:\n",
        "  print(plat)"
      ],
      "metadata": {
        "colab": {
          "base_uri": "https://localhost:8080/"
        },
        "id": "LQax6Z9prFox",
        "outputId": "7406aa27-89a5-4c33-8bfe-803a04ae234c"
      },
      "execution_count": null,
      "outputs": [
        {
          "output_type": "stream",
          "name": "stdout",
          "text": [
            "pizza\n",
            "salade\n",
            "pates\n",
            "omelette\n"
          ]
        }
      ]
    },
    {
      "cell_type": "markdown",
      "source": [
        "On voit que le `print` a été exécuté 4 fois, et qu'à chaque fois la variable \"plat\" a changé de valeur. Cette variable a pris tour à tour toutes les valeurs contenues dans le tableau \"menu\", et la séquence d'instructions (ici juste le `print`) a été exécutée à chaque fois. Vous pouvez rajouter un plat dans le tableau \"menu\" et vous allez voir que la programme va toujours fonctionner, en prenant en compte votre plat. \n",
        "\n",
        "La syntaxe générale d'une boucle `for` est donc :\n",
        "\n",
        "```\n",
        "for variable in tableau :\n",
        "  sequence d'instructions\n",
        "```\n",
        "\n",
        "`for` va affecter la première valeur du tableau à \"variable\", puis effectuer la \"séquence d'instructions\", ensuite il affecte la deuxième valeur du tableau à \"variable\", et effectue à nouveau la \"séquence d'instructions\", etc, jusqu'à ce que toutes les valeurs du tableau aient été utilisées. \n",
        "\n",
        "Les variables dans le tableau peuvent avoir d'importe que type. Regardez l'exemple suivant. "
      ],
      "metadata": {
        "id": "1h5I7LJ3q-dG"
      }
    },
    {
      "cell_type": "code",
      "source": [
        "tableau = [\"bonjour\", 3, True, 3.1415, \"6\"]\n",
        "for variable in tableau:\n",
        "  print( variable, type(variable) )"
      ],
      "metadata": {
        "colab": {
          "base_uri": "https://localhost:8080/"
        },
        "id": "DYquR9elut0J",
        "outputId": "6b1b1ec3-a894-4470-e095-b14d6e61331f"
      },
      "execution_count": null,
      "outputs": [
        {
          "output_type": "stream",
          "name": "stdout",
          "text": [
            "bonjour <class 'str'>\n",
            "3 <class 'int'>\n",
            "True <class 'bool'>\n",
            "3.1415 <class 'float'>\n",
            "6 <class 'str'>\n"
          ]
        }
      ]
    },
    {
      "cell_type": "markdown",
      "source": [
        "Le tableau ne doit pas obligatoirement être défini avant. Il est possible de donner directement sur la ligne `for`. Par exemple : "
      ],
      "metadata": {
        "id": "BMFIzmJGvVm3"
      }
    },
    {
      "cell_type": "code",
      "source": [
        "for variable in [\"bonjour\", 3, True, 3.1415, \"6\"]:\n",
        "  print( variable )"
      ],
      "metadata": {
        "colab": {
          "base_uri": "https://localhost:8080/"
        },
        "id": "YLFZ4TZbQNp0",
        "outputId": "12bb2dc6-dc8b-4b7f-e919-f90af1e1cc3b"
      },
      "execution_count": null,
      "outputs": [
        {
          "output_type": "stream",
          "name": "stdout",
          "text": [
            "bonjour\n",
            "3\n",
            "True\n",
            "3.1415\n",
            "6\n"
          ]
        }
      ]
    },
    {
      "cell_type": "markdown",
      "source": [
        "La séquence d'instructions dans le for (qui sera répétée) est identifiée par un décalage vers la droite. Comparez les exemples suivants. "
      ],
      "metadata": {
        "id": "vhTdZ4LtwVwF"
      }
    },
    {
      "cell_type": "code",
      "source": [
        "for i in [0, 1, 2, 3] :\n",
        "  print(i)\n",
        "print(\"-----\")"
      ],
      "metadata": {
        "colab": {
          "base_uri": "https://localhost:8080/"
        },
        "id": "xzwP1aOwwT-B",
        "outputId": "1721baec-5313-49b0-c4ca-6edab45927ef"
      },
      "execution_count": null,
      "outputs": [
        {
          "output_type": "stream",
          "name": "stdout",
          "text": [
            "1\n",
            "2\n",
            "3\n",
            "4\n",
            "-----\n"
          ]
        }
      ]
    },
    {
      "cell_type": "code",
      "source": [
        "for i in [0, 1, 2, 3] :\n",
        "  print(i)\n",
        "  print(\"-----\")"
      ],
      "metadata": {
        "colab": {
          "base_uri": "https://localhost:8080/"
        },
        "id": "8v4ucJhNwtxH",
        "outputId": "3ed1cf52-22b8-462f-e10a-8d7f7e1dce3b"
      },
      "execution_count": null,
      "outputs": [
        {
          "output_type": "stream",
          "name": "stdout",
          "text": [
            "0\n",
            "-----\n",
            "1\n",
            "-----\n",
            "2\n",
            "-----\n",
            "3\n",
            "-----\n"
          ]
        }
      ]
    },
    {
      "cell_type": "markdown",
      "source": [
        "Dans le premier exemple, le `print(\"---\")` n'est pas décalé vers la droite. Il n'est donc pas dans la boucle `for` mais après elle. Il n'est donc exécuté qu'une fois. \n",
        "\n",
        "Dans le deuxième exemple, le `print(\"---\")` est décalé vers la droite. Il est donc dans la boucle `for` et est exécuté autant de fois que nécessaire.  \n",
        "\n",
        "Dans ces derniers exemples, on itère sur un tableau d'entiers consécutifs. On peut donc utiliser aussi la fonction `range`. "
      ],
      "metadata": {
        "id": "pt5sHj0Wx0H5"
      }
    },
    {
      "cell_type": "code",
      "source": [
        "for i in range(4) :\n",
        "  print (i)"
      ],
      "metadata": {
        "colab": {
          "base_uri": "https://localhost:8080/"
        },
        "id": "innVZB-kQiYd",
        "outputId": "22e3d70d-6b60-4115-8dbb-9405c1402712"
      },
      "execution_count": null,
      "outputs": [
        {
          "output_type": "stream",
          "name": "stdout",
          "text": [
            "0\n",
            "1\n",
            "2\n",
            "3\n"
          ]
        }
      ]
    },
    {
      "cell_type": "markdown",
      "source": [
        "On peut donc imaginer toutes sortes d'utilisation pour cette boucle. Un exemple classique est le calcul de la somme des n premiers entiers."
      ],
      "metadata": {
        "id": "rKkHElPM0hkj"
      }
    },
    {
      "cell_type": "code",
      "source": [
        "somme = 0\n",
        "for i in range(1,5) :\n",
        "  somme = somme + i\n",
        "\n",
        "print(\"La somme des entiers de 1 a 4 est \",somme)"
      ],
      "metadata": {
        "colab": {
          "base_uri": "https://localhost:8080/"
        },
        "id": "kZHakxeg07UI",
        "outputId": "54b4d012-dc54-4186-ece0-27614b2468c9"
      },
      "execution_count": null,
      "outputs": [
        {
          "output_type": "stream",
          "name": "stdout",
          "text": [
            "La somme des entiers de 1 a 4 est  10\n"
          ]
        }
      ]
    },
    {
      "cell_type": "markdown",
      "source": [
        "Quelques remarques pour bien comprendre : \n",
        "- rappelez vous que `range(1,5)` est `[1, 2, 3, 4]` car la borne maximum dans `range` n'est pas incluse dans le résultat.    \n",
        "- la syntaxe `somme = somme + i` pourra éventellement vous poser problème si vous la considérez comme une relation logique mathématique. Ce n'est pas le cas en programmation. Rappelez vous que la signification de `=` n'est pas une signification logique. C'est un opérateur d'affectation qui prend ce qu'il y a à sa droite (`somme + i`), le calcule, et range le résultat dans la mémoire de la machine, dans la variable donnée à sa gauche (`somme`). Si avant cette ligne on a i=4 et somme=6, Python calcule d'abord somme+i=6+4=10, puis range cette valeur 10 dans la variable somme. On voit qu'on passage l'ancienne valeur de somme (6) est perdue car elle a été remplacée par 10.   \n",
        "\n",
        "Nous allons enfin aborder la notion d'itération sur une les indices ou sur les éléments. Reprenons l'exemple du menu. "
      ],
      "metadata": {
        "id": "HiK5ZiYU2CPK"
      }
    },
    {
      "cell_type": "code",
      "source": [
        "menu = [\"pizza\", \"salade\", \"pates\", \"omelette\"]\n",
        "for plat in menu:\n",
        "  print(plat)"
      ],
      "metadata": {
        "colab": {
          "base_uri": "https://localhost:8080/"
        },
        "id": "OaCdZ2H01gu3",
        "outputId": "0263b8a4-460e-4b88-8b01-523a71d33acf"
      },
      "execution_count": null,
      "outputs": [
        {
          "output_type": "stream",
          "name": "stdout",
          "text": [
            "pizza\n",
            "salade\n",
            "pates\n",
            "omelette\n"
          ]
        }
      ]
    },
    {
      "cell_type": "markdown",
      "source": [
        "On pourrait aussi faire la chose suivante qui semble plus compliquée : "
      ],
      "metadata": {
        "id": "pCytMEFp1pAe"
      }
    },
    {
      "cell_type": "code",
      "source": [
        "menu = [\"pizza\", \"salade\", \"pates\", \"omelette\"]\n",
        "for i in range( len(menu) ):\n",
        "  print( menu[i] )"
      ],
      "metadata": {
        "colab": {
          "base_uri": "https://localhost:8080/"
        },
        "id": "RjG6_-Ay1uVr",
        "outputId": "b6ab5d97-6a9c-4968-dfaf-ead0339eb669"
      },
      "execution_count": null,
      "outputs": [
        {
          "output_type": "stream",
          "name": "stdout",
          "text": [
            "pizza\n",
            "salade\n",
            "pates\n",
            "omelette\n"
          ]
        }
      ]
    },
    {
      "cell_type": "markdown",
      "source": [
        "Rappelez-vous que `len(menu)` renvoie le nombre d'éléments du tableau \"menu\", ici 4. Donc `range( len(menu) )` est `range(4)`, soit `[0, 1, 2, 3]`. La boucle `for` va donc affecter à \"i\" les valeurs 0, 1, 2, 3 successivement et exécuter `print( menu[0] )`  puis `print( menu[1] ) `, etc. \n",
        "\n",
        "Dans cet exemple, rendre les choses plus compliquées comme ça n'a aucun intérêt. Mais... dans certains autres langages c'est la seule possibilité donc il faut savoir le faire, ET surtout, parfois vous avez besoin de l'indice pour faire quelque chose avec. Par exemple :  "
      ],
      "metadata": {
        "id": "ABmjh59N14sC"
      }
    },
    {
      "cell_type": "code",
      "source": [
        "menu = [\"pizza\", \"salade\", \"pates\", \"omelette\"]\n",
        "for i in range( len(menu) ):\n",
        "  print( \"Le plat \", i, \" est \", menu[i] )"
      ],
      "metadata": {
        "colab": {
          "base_uri": "https://localhost:8080/"
        },
        "id": "WU2zlGjN3FgH",
        "outputId": "d480d0a0-c778-4120-aa9d-3457d6f3fa4c"
      },
      "execution_count": null,
      "outputs": [
        {
          "output_type": "stream",
          "name": "stdout",
          "text": [
            "Le plat  0  est  pizza\n",
            "Le plat  1  est  salade\n",
            "Le plat  2  est  pates\n",
            "Le plat  3  est  omelette\n"
          ]
        }
      ]
    },
    {
      "cell_type": "markdown",
      "source": [
        "Comme ceci arrive très souvent, Python vous simplifie la vie en vous permettant d'utiliser la syntaxe suivante : "
      ],
      "metadata": {
        "id": "xxtU8SyG3T-1"
      }
    },
    {
      "cell_type": "code",
      "source": [
        "menu = [\"pizza\", \"salade\", \"pates\", \"omelette\"]\n",
        "for i, plat in enumerate(menu):\n",
        "  print( \"Le plat \", i, \" est \", plat )"
      ],
      "metadata": {
        "colab": {
          "base_uri": "https://localhost:8080/"
        },
        "id": "OdoBzIhZ3g12",
        "outputId": "47080e27-8708-44fd-f3ee-f42f1a0e1a70"
      },
      "execution_count": null,
      "outputs": [
        {
          "output_type": "stream",
          "name": "stdout",
          "text": [
            "Le plat  0  est  pizza\n",
            "Le plat  1  est  salade\n",
            "Le plat  2  est  pates\n",
            "Le plat  3  est  omelette\n"
          ]
        }
      ]
    },
    {
      "cell_type": "markdown",
      "source": [
        "`enumerate(menu)` va créer à la fois une liste d'indices qui seront affectés à \"i\" ET une liste de variables qui seront affectées à \"plat\" automatiquement. Vous n'avez donc pas besoin d'utiliser la syntaxe des tableaux \"menu[i]\" avec cette méthode.  "
      ],
      "metadata": {
        "id": "IV9oKJFM3qlg"
      }
    },
    {
      "cell_type": "markdown",
      "source": [
        "#### La boucle while\n",
        "\n",
        "En python, dans une boucle `while`, on répète la séquence contenue dans la boucle tant qu’une condition reste vraie.\n",
        "\n",
        "<!--\n",
        "<img src=\"https://drive.google.com/uc?id=1YEn9RjOJPp2bGrGVeFIrGSicBP12d1tV\" width=\"250\" height=\"250\"/>\n",
        "-->\n",
        "\n",
        "La syntaxe est la suivante :\n",
        "\n",
        "```\n",
        "while condition :\n",
        "  sequence\n",
        "```\n",
        "Par exemple : "
      ],
      "metadata": {
        "id": "j_JxKHb83P1L"
      }
    },
    {
      "cell_type": "code",
      "source": [
        "i = 0\n",
        "while i < 4:\n",
        "  print( i )\n",
        "  i = i + 1"
      ],
      "metadata": {
        "colab": {
          "base_uri": "https://localhost:8080/"
        },
        "id": "b4JmfATa453S",
        "outputId": "0ee657fb-663f-47d6-9b46-f839022abe56"
      },
      "execution_count": null,
      "outputs": [
        {
          "output_type": "stream",
          "name": "stdout",
          "text": [
            "0\n",
            "1\n",
            "2\n",
            "3\n"
          ]
        }
      ]
    },
    {
      "cell_type": "markdown",
      "source": [
        "ATTENTION ! Il faut toujours veiller à certaines choses si on veut éviter d'avoir une boucle qui tourne à l'infini :\n",
        "- initialiser une variable d'itération, ici \"i = 0\"\n",
        "- écrire une condition qui dépend de la variable d'itération, ici \"i < 4\"\n",
        "- faire changer la valeur de la variable d'itération, ici \"i = i + 1\"\n",
        "\n",
        "Si vous faites une erreur et que vous lancez une boucle infinie, vous pouvez l'arrêter avec Ctrl+C si le programme est dans un terminal python, ou bien en cliquant sur une icône pour arrêter le calcul dans les notebooks Jupyter ou Colab (symbol \"stop\" sur le bouton qui sert à lancer le code à gauche de la cellule). \n",
        "\n",
        "Remarque : il est toujours possible de n'utiliser QUE des boucles `while` et jamais de boucles `for`. Les boucles de l'exemple suivant font exactement la même chose :  "
      ],
      "metadata": {
        "id": "yTn1DTGq5KJU"
      }
    },
    {
      "cell_type": "code",
      "source": [
        "for i in range(4):\n",
        "  print(i)\n",
        "\n",
        "print(\"---\")\n",
        "\n",
        "i = 0\n",
        "while i < 4:\n",
        "  print(i)\n",
        "  i = i + 1\n"
      ],
      "metadata": {
        "colab": {
          "base_uri": "https://localhost:8080/"
        },
        "id": "STFbpzQy6rpa",
        "outputId": "3df60e83-a0de-4c6b-c644-969f79d7de17"
      },
      "execution_count": null,
      "outputs": [
        {
          "output_type": "stream",
          "name": "stdout",
          "text": [
            "0\n",
            "1\n",
            "2\n",
            "3\n",
            "---\n",
            "0\n",
            "1\n",
            "2\n",
            "3\n"
          ]
        }
      ]
    },
    {
      "cell_type": "markdown",
      "source": [
        "On voit que même si on connaît le nombre d'itérations à l'avance, on peut utiliser `while` au lieu de `for` MAIS\n",
        "- `while` nécessite plus de lignes et est plus difficile à utiliser donc vous risquez de faire plus de bugs\n",
        "- en utilisant `for`, on avertit la machine du nombre d'itérations à l'avance, ce qui peut lui permettre d'optimiser l'utilisation du processeur, et ainsi d'avoir un code plus rapide.     \n",
        "\n",
        "Quand on ne connait pas le nombre d'itérations à l'avance, il faut utiliser `while`. C'est le cas dans l'exemple suivant :  "
      ],
      "metadata": {
        "id": "RLgThkg169Jq"
      }
    },
    {
      "cell_type": "code",
      "source": [
        "x = float(input(\"Entrez votre note de partiel :\"))\n",
        "\n",
        "while x > 20 or x < 0 :\n",
        "  x = float(input(\"Vous vous etes trompe(e), entrez une autre note :\"))\n",
        "\n",
        "if x > 10 :\n",
        "  print(\"UE validee\")\n",
        "elif x > 8:\n",
        "  print(\"Courage\")\n",
        "else :\n",
        "  print(\"Attention\")"
      ],
      "metadata": {
        "colab": {
          "base_uri": "https://localhost:8080/"
        },
        "id": "JONFQMy75CqA",
        "outputId": "2982e688-65bc-419a-a3e5-16b84286dad2"
      },
      "execution_count": null,
      "outputs": [
        {
          "output_type": "stream",
          "name": "stdout",
          "text": [
            "Entrez votre note de partiel :-4\n",
            "Vous vous etes trompe(e), entrez une autre note :25\n",
            "Vous vous etes trompe(e), entrez une autre note :6\n",
            "Attention\n"
          ]
        }
      ]
    },
    {
      "cell_type": "markdown",
      "source": [
        "Ci-dessus, nous avons évoqué les 3 conditions pour éviter les boucles infinies. On voit ici qu'on n'a pas oublié l'initialisation (la première ligne donne une première valeur à x), de mettre une condition qui dépend de la variable x, et de mettre dans la boucle quelque chose qui modifie la variable x. "
      ],
      "metadata": {
        "id": "_fmXFfOM5nZ8"
      }
    },
    {
      "cell_type": "markdown",
      "source": [
        "Sur le même principe vous pouvez créer des petits jeux. Le plus connu est le jeux du juste prix."
      ],
      "metadata": {
        "id": "jZPIDE3X56rV"
      }
    },
    {
      "cell_type": "code",
      "source": [
        "from pylab import * \n",
        "import random\n",
        "\n",
        "# creation d'un nombre aleatoire entre 0 et 100\n",
        "number=random.randint (0,100)\n",
        "\n",
        "x = float(input(\"Devinez un nombre : \"))\n",
        "\n",
        "while number != x :\n",
        "    if number < x :\n",
        "        print(\"Plus petit !\")\n",
        "        x = float(input(\"Devinez un nombre : \"))\n",
        "    elif number > x :\n",
        "        print(\"Plus grand !\")\n",
        "        x = float(input(\"Devinez un nombre : \"))\n",
        "else:\n",
        "    print(\"Gagné !!\")"
      ],
      "metadata": {
        "colab": {
          "base_uri": "https://localhost:8080/"
        },
        "id": "QYbTQh4w6CvE",
        "outputId": "192b7db0-adec-4ef4-e43a-77db763e30f2"
      },
      "execution_count": null,
      "outputs": [
        {
          "output_type": "stream",
          "name": "stdout",
          "text": [
            "Devinez un nombre : 50\n",
            "Plus petit !\n",
            "Devinez un nombre : 25\n",
            "Plus grand !\n",
            "Devinez un nombre : 37\n",
            "Plus grand !\n",
            "Devinez un nombre : 44\n",
            "Plus petit !\n",
            "Devinez un nombre : 40\n",
            "Plus petit !\n",
            "Devinez un nombre : 38\n",
            "Gagné !!\n"
          ]
        }
      ]
    },
    {
      "cell_type": "markdown",
      "source": [
        "### Résumé sur les boucles \n",
        "\n",
        "La boucle `for` est essentiellement utilisée pour exécuter la même séquence N fois, où N est un nombre connu à l'avance. On dit que la boucle \"itère N fois\" ou qu'elle comporte \"N itérations\". On parle de boucle bornée. \n",
        "\n",
        "La boucle `while` doit être utilisée quand le nombre d'itérations n'est pas connu à l'avance. La boucle va se répéter tant qu'une certaine condition reste valide. On parle alors de boucle non bornée."
      ],
      "metadata": {
        "id": "AsswNJaDo_Dp"
      }
    },
    {
      "cell_type": "markdown",
      "source": [
        "### Evaluation formative après la vidéo \n",
        "\n",
        "1. Que va afficher la boucle suivante\n",
        "```\n",
        "for i in [1,6,8]:\n",
        "    print( i ) \n",
        "```\n",
        "1 6 8, ou 1 2 3\n",
        "\n",
        "2. Coderunner : récrivez le code suivant avec range \n",
        "```\n",
        "for i in [0,1,2,3,4,5,6,7,8]:\n",
        "    print( i ) \n",
        "```\n",
        "\n",
        "3. Coderunner : modifiez le code suivant pour afficher i puis 2*i, pour i de 0 à 3. (soit 0 0 1 2 2 4 3 6)  \n",
        "```\n",
        "for i in [0,1,2,3]:\n",
        "    print( i ) \n",
        "```\n",
        "\n",
        "4. Coderunner : transformez la boucle suivante en boucle while \n",
        "```\n",
        "for i in range(3):\n",
        "    print( i ) \n",
        "```\n",
        "\n",
        "4.1 Coderunner : créez une liste \"semaine\" qui contient le nom des jours. Affichez le nom des jours avec une boucle for.\n",
        "\n",
        "4.2 Coderunner : créez une liste \"semaine\" qui contient le nom des jours. Utilisez un while pour afficher les jours du weekend uniquement.  \n",
        "\n",
        "5. Coderunner : calculez la somme des i, de i = 1 à 5\n",
        "\n",
        "5.1 Coderunner : voici une liste de notes [15, 8, 12, 18, 15]. Calculez la moyenne à l'aide d'un for. \n",
        "\n",
        "6. Coderunner : calculez le produit des i, de i = 1 à 5 (indice : il faut initialiser i à 1 dans ce cas)\n",
        "\n",
        "7. Coderunner : ecrire une boucle while qui lit un chiffre et qui s'arrête lorsque le chiffre rentré est 0. \n",
        "\n",
        "8. Coderunner : reprendre l'exemple précédent et calculer la somme de tous les chiffres rentrés.\n"
      ],
      "metadata": {
        "id": "MW4uAO8I-emK"
      }
    }
  ]
}