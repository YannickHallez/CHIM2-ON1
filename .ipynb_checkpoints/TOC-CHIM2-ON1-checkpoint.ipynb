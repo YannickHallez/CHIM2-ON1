{
 "cells": [
  {
   "cell_type": "code",
   "execution_count": 1,
   "id": "a031484a",
   "metadata": {},
   "outputs": [
    {
     "data": {
      "text/html": [
       "<style>\n",
       "h1, h2, h3, h4, h5, h6 {\n",
       "  font-family: Verdana, \"DejaVu Sans\", \"Bitstream Vera Sans\", Geneva, sans-serif;\n",
       "  font-weight: bold;\n",
       "}\n",
       "body {\n",
       "  font-family: Verdana, \"DejaVu Sans\", \"Bitstream Vera Sans\", Geneva, sans-serif;\n",
       "  font-weight: 200;\n",
       "}\n",
       "h1 {\n",
       "  border: 0 solid #333;\n",
       "  padding: 30px ;\n",
       "  color: white;\n",
       "  background: #b11d01;\n",
       "  text-align: center;\n",
       "}\n",
       "h2 {\n",
       "  border: 3px solid #333;\n",
       "  padding: 18px ;\n",
       "  color: #b11d01;\n",
       "  background: #ffffff;\n",
       "  text-align: center;\n",
       "}\n",
       "h3 {\n",
       "  border: 0 solid #333;\n",
       "  padding: 12px ;\n",
       "  color: #000000;\n",
       "  background: #c1c1c1;\n",
       "  text-align: left;\n",
       "}\n",
       "h4 {\n",
       "  border: 0 solid #333;\n",
       "  padding: 2px ;\n",
       "  color: #000000;\n",
       "  background: #d9fffc;\n",
       "  text-align: left;\n",
       "}\n",
       "h5 {\n",
       "  border: 1px solid #333;\n",
       "  padding: 2px ;\n",
       "  color: #000000;\n",
       "  background: #ffffff;\n",
       "  text-align: left;\n",
       "}\n",
       ".warn {    \n",
       "    background-color: #fcf2f2;\n",
       "    border-color: #dFb5b4;\n",
       "    border-left: 5px solid #dfb5b4;\n",
       "    padding: 0.5em;\n",
       "    font-weight: 200;\n",
       "    }\n",
       ".rq {    \n",
       "    background-color: #e2e2e2;\n",
       "    border-color: #969696;\n",
       "    border-left: 5px solid #969696;\n",
       "    padding: 0.5em;\n",
       "    font-weight: 200;\n",
       "    }\n",
       "</style>\n"
      ],
      "text/plain": [
       "<IPython.core.display.HTML object>"
      ]
     },
     "metadata": {},
     "output_type": "display_data"
    },
    {
     "data": {
      "text/markdown": [
       "**Début à:** Saturday 12 November 2022, 20:33:22  \n",
       "**Hostname:** ip-sw-install-nico.insa-toulouse.fr (Linux)"
      ],
      "text/plain": [
       "<IPython.core.display.Markdown object>"
      ]
     },
     "metadata": {},
     "output_type": "display_data"
    },
    {
     "data": {
      "text/markdown": [
       "<p style=\"text-align: center\"><img width=\"800px\" src=\"./config/svg/logoDebut.svg\" style=\"margin-left:auto; margin-right:auto\"/></p>"
      ],
      "text/plain": [
       "<IPython.core.display.Markdown object>"
      ]
     },
     "metadata": {},
     "output_type": "display_data"
    }
   ],
   "source": [
    "###############################################################################################\n",
    "#\n",
    "# exécutez cette cellule avant d'utiliser le reste du notebook\n",
    "#\n",
    "# supprimez-là si vous exécutez ce notebook en-dehors de la distribution CHIM2-ON1 #\n",
    "#\n",
    "###############################################################################################\n",
    "\n",
    "import os\n",
    "import sys\n",
    "\n",
    "cwd0 = './config/'\n",
    "sys.path.append(cwd0)\n",
    "\n",
    "import visualID as vID\n",
    "from visualID import color\n",
    "vID.init(cwd0)"
   ]
  },
  {
   "cell_type": "markdown",
   "id": "fa6df19e-e946-4534-82c9-37683316e133",
   "metadata": {
    "tags": []
   },
   "source": [
    "# Table des matières\n",
    "\n",
    "### Cours 1 : Création et utilisation de variables, listes et tableaux\n",
    "- [notebook. Premiers pas avec Python](./Choisir_Python.ipynb)\n",
    "- [notebook. Variables](./Les_Variables.ipynb)\n",
    "- [notebook. La structure en modules](./Les_Modules.ipynb)\n",
    "- [notebook. Listes](./listes.ipynb)\n",
    "- [notebook. Tableaux `numpy`](./tableaux.ipynb)\n",
    "\n",
    "### Cours 2 : Structures de contrôle et boucles\n",
    "\n",
    "- [notebook. Tests](./Conditions.ipynb)\n",
    "- [notebook. Structures conditionnelles](./Conditions.ipynb)\n",
    "- [notebook. Boucles](./Boucles.ipynb)\n",
    "\n",
    "<div class=\"warn\">\n",
    "    \n",
    "**Sujets de TP cours 1 & 2** \n",
    "\n",
    "**<span style=\"color:red\">N'oubliez pas de renommer chaque notebook de TP après l'avoir chargé (Menu `Fichier > Renommer` de jupyter-notebook ou jupyter-lab) !</span>**\n",
    "    \n",
    "- [notebook à compléter. TP1](./Exercices/TP1-vierge.ipynb)\n",
    "- [notebook à compléter. TP2](./Exercices/TP2-vierge.ipynb)\n",
    "\n",
    "</div>\n",
    "\n",
    "### Cours 3 : Les principaux modules scientifiques pour la lecture et la représentation des données\n",
    "\n",
    "- [notebook. Représentation des données (a)](./Graphes.ipynb)\n",
    "- [notebook. Représentation des données (b)](./Graphes_multi.ipynb)\n",
    "- [notebook. Lecture/Ecriture des données](./Fichiers.ipynb)\n",
    "\n",
    "### Cours 4 : Traitement des données et modélisation\n",
    "\n",
    "- [notebook. La définition de fonctions](./Les_Fonctions.ipynb)\n",
    "- [notebook. L'ajustement de modèles](./Ajustement.ipynb)\n",
    "\n",
    "<div class=\"warn\">\n",
    "    \n",
    "**Sujets de TP cours 3 & 4** \n",
    "    \n",
    "**<span style=\"color:red\">N'oubliez pas de renommer chaque notebook de TP après l'avoir chargé (Menu `Fichier > Renommer` de jupyter-notebook ou jupyter-lab) !</span>**\n",
    "    \n",
    "- [notebook à compléter. TP3](./Exercices/TP3-vierge.ipynb)\n",
    "- [notebook à compléter. TP4](./Exercices/TP4-vierge.ipynb)\n",
    "\n",
    "</div>\n",
    "\n",
    "### Cours 6 : Traitement statistique de données (data science pour débutants)\n",
    "\n",
    "[Lien vers la page de cette thématique](./DS4B-TOC.ipynb)"
   ]
  },
  {
   "cell_type": "code",
   "execution_count": 2,
   "id": "2afeed0e",
   "metadata": {},
   "outputs": [
    {
     "data": {
      "text/markdown": [
       "**Fin à:** Saturday 12 November 2022, 20:33:22  \n",
       "**Durée:** 00:00:00 010ms"
      ],
      "text/plain": [
       "<IPython.core.display.Markdown object>"
      ]
     },
     "metadata": {},
     "output_type": "display_data"
    },
    {
     "data": {
      "text/markdown": [
       "<p style=\"text-align: center\"><img width=\"800px\" src=\"./config/svg/logoFin.svg\" style=\"margin-left:auto; margin-right:auto\"/></p>"
      ],
      "text/plain": [
       "<IPython.core.display.Markdown object>"
      ]
     },
     "metadata": {},
     "output_type": "display_data"
    }
   ],
   "source": [
    "###############################################################################################\n",
    "# supprimez cette cellule si vous exécutez ce notebook en-dehors de la distribution CHIM2-ON1 #\n",
    "###############################################################################################\n",
    "\n",
    "vID.end(cwd0)"
   ]
  },
  {
   "cell_type": "code",
   "execution_count": null,
   "id": "5dd4c10f",
   "metadata": {},
   "outputs": [],
   "source": []
  }
 ],
 "metadata": {
  "kernelspec": {
   "display_name": "Python 3 (ipykernel)",
   "language": "python",
   "name": "python3"
  },
  "language_info": {
   "codemirror_mode": {
    "name": "ipython",
    "version": 3
   },
   "file_extension": ".py",
   "mimetype": "text/x-python",
   "name": "python",
   "nbconvert_exporter": "python",
   "pygments_lexer": "ipython3",
   "version": "3.10.6"
  }
 },
 "nbformat": 4,
 "nbformat_minor": 5
}
