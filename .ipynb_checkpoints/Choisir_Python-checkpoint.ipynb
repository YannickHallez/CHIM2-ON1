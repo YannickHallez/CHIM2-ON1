{
 "cells": [
  {
   "cell_type": "code",
   "execution_count": 1,
   "metadata": {},
   "outputs": [
    {
     "data": {
      "text/html": [
       "<style>\n",
       "h1, h2, h3, h4, h5, h6 {\n",
       "  font-family: Verdana, \"DejaVu Sans\", \"Bitstream Vera Sans\", Geneva, sans-serif;\n",
       "  font-weight: bold;\n",
       "}\n",
       "body {\n",
       "  font-family: Verdana, \"DejaVu Sans\", \"Bitstream Vera Sans\", Geneva, sans-serif;\n",
       "  font-weight: 200;\n",
       "}\n",
       "h1 {\n",
       "  border: 0 solid #333;\n",
       "  padding: 30px ;\n",
       "  color: white;\n",
       "  background: #b11d01;\n",
       "  text-align: center;\n",
       "}\n",
       "h2 {\n",
       "  border: 3px solid #333;\n",
       "  padding: 18px ;\n",
       "  color: #b11d01;\n",
       "  background: #ffffff;\n",
       "  text-align: center;\n",
       "}\n",
       "h3 {\n",
       "  border: 0 solid #333;\n",
       "  padding: 12px ;\n",
       "  color: #000000;\n",
       "  background: #c1c1c1;\n",
       "  text-align: left;\n",
       "}\n",
       "h4 {\n",
       "  border: 0 solid #333;\n",
       "  padding: 2px ;\n",
       "  color: #000000;\n",
       "  background: #d9fffc;\n",
       "  text-align: left;\n",
       "}\n",
       "h5 {\n",
       "  border: 1px solid #333;\n",
       "  padding: 2px ;\n",
       "  color: #000000;\n",
       "  background: #ffffff;\n",
       "  text-align: left;\n",
       "}\n",
       ".warn {    \n",
       "    background-color: #fcf2f2;\n",
       "    border-color: #dFb5b4;\n",
       "    border-left: 5px solid #dfb5b4;\n",
       "    padding: 0.5em;\n",
       "    font-weight: 200;\n",
       "    }\n",
       ".rq {    \n",
       "    background-color: #e2e2e2;\n",
       "    border-color: #969696;\n",
       "    border-left: 5px solid #969696;\n",
       "    padding: 0.5em;\n",
       "    font-weight: 200;\n",
       "    }\n",
       "</style>\n"
      ],
      "text/plain": [
       "<IPython.core.display.HTML object>"
      ]
     },
     "metadata": {},
     "output_type": "display_data"
    },
    {
     "data": {
      "text/markdown": [
       "**Début à:** Thursday 03 November 2022, 21:16:52  \n",
       "**Hostname:** localhost.localdomain (Linux)"
      ],
      "text/plain": [
       "<IPython.core.display.Markdown object>"
      ]
     },
     "metadata": {},
     "output_type": "display_data"
    },
    {
     "data": {
      "text/markdown": [
       "<p style=\"text-align: center\"><img width=\"800px\" src=\"./config/svg/logoDebut.svg\" style=\"margin-left:auto; margin-right:auto\"/></p>"
      ],
      "text/plain": [
       "<IPython.core.display.Markdown object>"
      ]
     },
     "metadata": {},
     "output_type": "display_data"
    }
   ],
   "source": [
    "###############################################################################################\n",
    "# supprimez cette cellule si vous exécutez ce notebook en-dehors de la distribution CHIM2-ON1 #\n",
    "###############################################################################################\n",
    "\n",
    "import os\n",
    "import sys\n",
    "\n",
    "cwd0 = './config/'\n",
    "sys.path.append(cwd0)\n",
    "\n",
    "import visualID as vID\n",
    "from visualID import color\n",
    "vID.init(cwd0)"
   ]
  },
  {
   "cell_type": "markdown",
   "metadata": {
    "id": "49yM0u4km9uj"
   },
   "source": [
    "# Choisir Python\n",
    "\n",
    "## Prérequis\n",
    "\n",
    "Aucun. \n",
    "\n",
    "## Compétences \n",
    "\n",
    "1. Décider si Python est le bon outil pour un problème donné. \n",
    "\n",
    "## Objectifs \n",
    "\n",
    "1. Acquérir les compétences ci-dessus.\n",
    "\n",
    "## Contenu de la vidéo\n",
    "\n",
    "### Faut-il utiliser un tableur ou Python ? \n",
    "\n",
    "Un tableur (Microsoft Excel, LibreOffice Calc Spreadsheet...)  \n",
    "* est facile à installer, \n",
    "* facile à utiliser, \n",
    "* très répandu, \n",
    "* permet de faire des calculs basiques et des graphiques simples même sans formation,\n",
    "* il permet de voir directement les valeurs, mais pas les formules, \n",
    "* est lent et ne permet pas de travailler avec des quantités de données importantes,\n",
    "* rend le débogage compliqué.\n",
    "\n",
    "Python (ou Matlab, Scilab...) est un langage de programmation, donc \n",
    "* il peut paraître plus compliqué au début, \n",
    "* il doit être installé et configuré avant de commencer\n",
    "* il cache les données dans des variables, et il faut donc savoir (un peu) programmer,\n",
    "* il permet de travailler rapidement avec des gros volumes de données,\n",
    "* il permet de voir directement les formules, mais pas les valeurs, il est donc plus lisible et facile à déboguer que les formules des tableurs,\n",
    "* il permet de faire des graphiques de meilleure qualité,\n",
    "* il dispose de modules scientifiques spécialisés pour vous aider sur des tâches techniques. \n",
    "\n",
    "En résumé, les tableurs sont bien pour faire de petits calculs et graphiques rapides même sans vraiment avoir de formation, mais ils sont assez limités à ça. Ils montrent directement les valeurs, mais pas les formules. Ils sont bien adaptés à des devis, des feuilles de paie, etc.\n",
    "\n",
    "Python est beaucoup plus rapide et riche en fonctionnalités, notamment pour la science, mais il faut prendre le temps de se former pour être à l'aise avec. Il permet de lire les formules rapidement, ce qui aide à trouver les erreurs rapidement. Il est donc mieux adapté pour la science que les tableurs. \n",
    "\n",
    "A cause des nouvelles technologies autour des données (Intelligence Artificielle, cloud computing, etc), de plus en plus d'employés commencent à savoir programmer. Apprendre à maîtriser un langage de programmation est donc aussi une évolution des métiers indispensable à intégrer dans un cursus scientifique. \n",
    "\n",
    "### Python ou un autre langage de programmation ?\n",
    "\n",
    "Il existe plusieurs langages de programmation utilisés en sciences pour traiter des données ou créer des modèles, et avec des possibilités similaires à Python. Parmi les plus connus : Matlab, Octave, Scilab... Nous parlerons des langages comme C ou Fortran un peu plus tard. \n",
    "\n",
    "Matlab a été un des premiers langages pour la science et est très utilisé dans l'industrie. Le bémol majeur, c'est qu'il est payant, et cher. Octave est un clone opensource de Matlab. Il marche bien mais est lent, et est peu utilisé. Scilab est aussi opensource, ressemble fortement à Matlab, mais sans être 100% compatible, et n'a pas autant de fonctionnalités. Python est opensource et dispose d'un nombre impressionnant de modules scientifiques spécialisés qui vont vous mâcher le travail (plus que Matlab). C'est aussi un langage généraliste avant d'être utilisé pour la science. On peut donc l'utiliser pour réaliser beaucoup de tâches différentes, au delà de ce que Matlab peut faire. Enfin, il est très facile à apprendre et dispose d'une communauté d'utilisateurs très importante, ce qui permet de souvent trouver une solution à son problème sur internet. Pour toutes ces raisons, nous avons choisi d'utiliser Python pour ce cours d'Outils Numériques pour la chimie. \n",
    "\n",
    "Qu'en est-il des autres langages de programmation connus comme le C, java, ou Fortran ? Pour comprendre, il faut introduire la notion de langage compilé ou interprété. Pour être exécuté par le processeur, un programme lisible par un humain (dans n'importe quel langage) doit d'abord être converti en binaire. Si cette étape de traduction (et d'optimisation) est faite pour tout le programme une bonne fois pour toutes, avant l'exécution, on parle de langage compilé. C'est le cas du C, C++, Fortran... Parfois, votre langage est associé à un interpréteur qui lit les lignes du programme pendant l'exécution, et les convertit et les envoie au processeur à la volée. C'est ce qu'on appelle un langage interprété. Des exemples sont Python, Matlab, PHP, Perl... \n",
    "\n",
    "L'avantage des langages compilés est que l'exécution est beaucoup plus rapide puisque le seul travail qui reste à faire pendant l'exécution est le calcul qui a été programmé. Pour faire une équivalence, imaginez que vous (le processeur) receviez un papier avec une chorégraphie à effectuer (le programme), mais elle est écrite en chinois (le langage). Vous avez deux solutions : soit vous la traduisez au préalable et vous l'écrivez sur un autre papier (langage compilé), soit vous demandez à un ami de vous la traduire à la volée en même temps que vous dansez (langage interprété). On peut imaginer que la première version vous permettra de danser bien plus rapidement, non ? Mais alors pourquoi utiliser un langage interprété ? Essentiellement par ce qu'ils sont beaucoup plus simples d'utilisation. Pour qu'un programme en langage compilé fonctionne bien, il faut spécifier beaucoup de choses en avance, comme la manière dont la mémoire est utilisée par exemple. Avec un langage interprété, ce genre de choses est adapté automatiquement en cours d'exécution, mais au prix de performances réduites. \n",
    "\n",
    "Il n'y a pas de meilleure option dans l'absolu entre langages compilés ou interprétés. Ce sont des outils différents, utiles pour des tâches différentes. Pour les applications intensives très gourmandes en ressources, pour lesquelles la performance est essentielle on utilise des langages compilés (logiciels de simulation, jeux vidéo, systèmes d'exploitation). Pour des applications moins gourmandes en performances, la simplicité des langages interprétés est intéressante. \n",
    "\n",
    "En pratique, il est possible de mélanger ces langages et on voit de plus en plus d'applications hybrides avec l'interface utilisateur prise en charge par un langage interprété et les parties de calcul lourd effectuées à l'aide d'un langage compilé. \n",
    "\n",
    "\n"
   ]
  },
  {
   "cell_type": "code",
   "execution_count": 2,
   "metadata": {},
   "outputs": [
    {
     "data": {
      "text/markdown": [
       "**Fin à:** Thursday 03 November 2022, 21:17:09  \n",
       "**Durée:** 00:00:17 701ms"
      ],
      "text/plain": [
       "<IPython.core.display.Markdown object>"
      ]
     },
     "metadata": {},
     "output_type": "display_data"
    },
    {
     "data": {
      "text/markdown": [
       "<p style=\"text-align: center\"><img width=\"800px\" src=\"./config/svg/logoFin.svg\" style=\"margin-left:auto; margin-right:auto\"/></p>"
      ],
      "text/plain": [
       "<IPython.core.display.Markdown object>"
      ]
     },
     "metadata": {},
     "output_type": "display_data"
    }
   ],
   "source": [
    "###############################################################################################\n",
    "# supprimez cette cellule si vous exécutez ce notebook en-dehors de la distribution CHIM2-ON1 #\n",
    "###############################################################################################\n",
    "\n",
    "vID.end(cwd0)"
   ]
  },
  {
   "cell_type": "markdown",
   "metadata": {
    "id": "4tTlxrgGdW1a"
   },
   "source": []
  }
 ],
 "metadata": {
  "colab": {
   "authorship_tag": "ABX9TyN8HdOKY8a0f2J+Qhg9VUN6",
   "collapsed_sections": [],
   "name": "Choisir_Python.ipynb",
   "provenance": []
  },
  "kernelspec": {
   "display_name": "Python 3 (ipykernel)",
   "language": "python",
   "name": "python3"
  },
  "language_info": {
   "codemirror_mode": {
    "name": "ipython",
    "version": 3
   },
   "file_extension": ".py",
   "mimetype": "text/x-python",
   "name": "python",
   "nbconvert_exporter": "python",
   "pygments_lexer": "ipython3",
   "version": "3.9.12"
  }
 },
 "nbformat": 4,
 "nbformat_minor": 1
}
