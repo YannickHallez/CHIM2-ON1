{
 "cells": [
  {
   "cell_type": "code",
   "execution_count": 1,
   "metadata": {},
   "outputs": [
    {
     "data": {
      "text/html": [
       "<style>\n",
       "h1, h2, h3, h4, h5, h6 {\n",
       "  font-family: Verdana, \"DejaVu Sans\", \"Bitstream Vera Sans\", Geneva, sans-serif;\n",
       "  font-weight: bold;\n",
       "}\n",
       "body {\n",
       "  font-family: Verdana, \"DejaVu Sans\", \"Bitstream Vera Sans\", Geneva, sans-serif;\n",
       "  font-weight: 200;\n",
       "}\n",
       "h1 {\n",
       "  border: 0 solid #333;\n",
       "  padding: 30px ;\n",
       "  color: white;\n",
       "  background: #b11d01;\n",
       "  text-align: center;\n",
       "}\n",
       "h2 {\n",
       "  border: 3px solid #333;\n",
       "  padding: 18px ;\n",
       "  color: #b11d01;\n",
       "  background: #ffffff;\n",
       "  text-align: center;\n",
       "}\n",
       "h3 {\n",
       "  border: 0 solid #333;\n",
       "  padding: 12px ;\n",
       "  color: #000000;\n",
       "  background: #c1c1c1;\n",
       "  text-align: left;\n",
       "}\n",
       "h4 {\n",
       "  border: 0 solid #333;\n",
       "  padding: 2px ;\n",
       "  color: #000000;\n",
       "  background: #d9fffc;\n",
       "  text-align: left;\n",
       "}\n",
       "h5 {\n",
       "  border: 1px solid #333;\n",
       "  padding: 2px ;\n",
       "  color: #000000;\n",
       "  background: #ffffff;\n",
       "  text-align: left;\n",
       "}\n",
       ".warn {    \n",
       "    background-color: #fcf2f2;\n",
       "    border-color: #dFb5b4;\n",
       "    border-left: 5px solid #dfb5b4;\n",
       "    padding: 0.5em;\n",
       "    font-weight: 200;\n",
       "    }\n",
       ".rq {    \n",
       "    background-color: #e2e2e2;\n",
       "    border-color: #969696;\n",
       "    border-left: 5px solid #969696;\n",
       "    padding: 0.5em;\n",
       "    font-weight: 200;\n",
       "    }\n",
       "</style>\n"
      ],
      "text/plain": [
       "<IPython.core.display.HTML object>"
      ]
     },
     "metadata": {},
     "output_type": "display_data"
    },
    {
     "data": {
      "text/markdown": [
       "**Début à:** Wednesday 09 November 2022, 11:39:48  \n",
       "**Hostname:** heimdall (Darwin)"
      ],
      "text/plain": [
       "<IPython.core.display.Markdown object>"
      ]
     },
     "metadata": {},
     "output_type": "display_data"
    },
    {
     "data": {
      "text/markdown": [
       "<p style=\"text-align: center\"><img width=\"800px\" src=\"./config/svg/logoDebut.svg\" style=\"margin-left:auto; margin-right:auto\"/></p>"
      ],
      "text/plain": [
       "<IPython.core.display.Markdown object>"
      ]
     },
     "metadata": {},
     "output_type": "display_data"
    }
   ],
   "source": [
    "###############################################################################################\n",
    "# supprimez cette cellule si vous exécutez ce notebook en-dehors de la distribution CHIM2-ON1 #\n",
    "###############################################################################################\n",
    "\n",
    "import os\n",
    "import sys\n",
    "\n",
    "cwd0 = './config/'\n",
    "sys.path.append(cwd0)\n",
    "\n",
    "import visualID as vID\n",
    "from visualID import color\n",
    "vID.init(cwd0)"
   ]
  },
  {
   "cell_type": "markdown",
   "metadata": {
    "id": "qwQMEf6qgDSG"
   },
   "source": [
    "# Les fichiers\n",
    "\n",
    "## Prérequis\n",
    "\n",
    "- Les variables\n",
    "- Les tableaux\n",
    "- Les boucles\n",
    "\n",
    "## Compétences \n",
    "\n",
    "1. Lire des données fournies dans un fichier.  \n",
    "2. Ecrire des données dans un fichier. \n",
    "\n",
    "## Objectifs \n",
    "\n",
    "1. Acquérir les compétences ci-dessus.\n",
    "2. Savoir charger des données expérimentales dans Python facilement.  \n",
    "\n",
    "\n",
    "## Contenu de la vidéo \n",
    "\n",
    "Il existe plusieurs manières de lire et écrire des données dans des fichiers, en fonction du type de fichier ou de son format par exemple. Ici nous verrons deux méthodes simples ne nécessitant que le module numpy. Plus loin dans ce cours, vous verrez comment utiliser une autre méthode avec le module Pandas. \n",
    "\n",
    "### Lire des données dans un fichier\n",
    "\n",
    "Un fichier Concentrations.txt se trouve dans le même répertoire que cette fiche Jupyter. Il contient des données qui auraient pu êtres collectées lors de mesures de concentrations dans une étude de cinétique chimique. Vous pouvez ouvrir le fichier avec un éditeur de texte (Wordpad, TextEdit, gedit) si vous voulez voir ce qu'il contient. Le début est reproduit ici:\n",
    "\n",
    "|#   t (s)               |  A (M)          |            B (M)        |           C (M) |\n",
    "|:------------------------:|:----------------:|:--------------------------:|:----------------:|\n",
    "|0.000000000000000000e+00| 1.002420578808677076e+00 |1.508765751350790607e+00 |-4.379152307821003801e-03|\n",
    "|6.060606060606060774e-02| 9.149607988542877157e-01 |1.421522038291903600e+00| 8.720124177721891301e-02|\n",
    "|1.212121212121212155e-01| 8.447350244179753220e-01 |1.335372299639328464e+00 |1.584110103976936190e-01|\n",
    "|...|...|...|...|\n",
    "\n",
    "La première ligne est une ligne de texte qui contient \"  t(s)   A(M) ...\". Elle sert à décrire ce qui suit. On appelle cela une ligne d'entête. Ensuite vient un tableau de valeurs réelles. La première colonne est le temps en secondes, la seconde colonne est la concentration en réactif A en mol/L, la troisième colonne est la concentration en réactif B et la dernière colonne est la concentration en produit C. \n",
    "\n",
    "Ce type de fichier est très courant. On parle d'un fichier texte, par opposition aux fichiers binaires, car on peut lire son contenu avec un simple éditeur de texte. Les extensions de ce type de fichiers sont souvent \".txt\", \".dat\", ou encore \".csv\". Les fichiers CSV, qui finissent par \".csv\" sont des fichiers texte dans lesquelles les données sont rangées en respectant certaines règles.  \n",
    "\n",
    "Lorsque vous voulez charger des données depuis un fichier texte vers Python, il faut savoir comment il est structuré : \n",
    "- combien de lignes d'entête ? \n",
    "- comment les colonnes sont séparées (par des espaces ? des virgules ? etc)\n",
    "- combien de colonnes (optionnel)\n",
    "\n",
    "Si vous n'avez pas les réponses à ces questions, ouvrez le fichier avec un éditeur de texte pour vérifier. Dans l'exemple ci-dessus, il y a une ligne d'entête, 4 colonnnes, et les colonnes sont séparées par des espaces. \n",
    "\n",
    "Voici la méthode la plus simple pour charger toutes les données en une fois, dans un seul tableau. "
   ]
  },
  {
   "cell_type": "code",
   "execution_count": 2,
   "metadata": {
    "id": "SzqQJxLMgDSI"
   },
   "outputs": [
    {
     "name": "stdout",
     "output_type": "stream",
     "text": [
      "La taille du tableau est :  (100, 4)\n",
      "[[ 0.00000000e+00  1.00242058e+00  1.50876575e+00 -4.37915231e-03]\n",
      " [ 6.06060606e-02  9.14960799e-01  1.42152204e+00  8.72012418e-02]\n",
      " [ 1.21212121e-01  8.44735024e-01  1.33537230e+00  1.58411010e-01]\n",
      " [ 1.81818182e-01  7.79740142e-01  1.27934321e+00  2.19540891e-01]\n",
      " [ 2.42424242e-01  7.13423149e-01  1.21192634e+00  2.86748301e-01]\n",
      " [ 3.03030303e-01  6.69224351e-01  1.16391837e+00  3.27358787e-01]\n",
      " [ 3.63636364e-01  6.23649310e-01  1.13366071e+00  3.71033889e-01]\n",
      " [ 4.24242424e-01  5.79105707e-01  1.07755670e+00  4.10275979e-01]\n",
      " [ 4.84848485e-01  5.54355955e-01  1.04783816e+00  4.56936553e-01]\n",
      " [ 5.45454545e-01  5.14843308e-01  1.00950195e+00  4.82098849e-01]\n",
      " [ 6.06060606e-01  4.86676165e-01  9.76583081e-01  5.14538484e-01]\n",
      " [ 6.66666667e-01  4.50343586e-01  9.53335610e-01  5.38386811e-01]\n",
      " [ 7.27272727e-01  4.32181554e-01  9.32344552e-01  5.76607062e-01]\n",
      " [ 7.87878788e-01  4.02947174e-01  9.00164005e-01  5.87190865e-01]\n",
      " [ 8.48484848e-01  3.96532116e-01  8.96825848e-01  6.05637525e-01]\n",
      " [ 9.09090909e-01  3.66676782e-01  8.69336115e-01  6.23284034e-01]\n",
      " [ 9.69696970e-01  3.47202078e-01  8.48245653e-01  6.56590908e-01]\n",
      " [ 1.03030303e+00  3.31936121e-01  8.27359128e-01  6.61258730e-01]\n",
      " [ 1.09090909e+00  3.10977735e-01  8.23016782e-01  6.81155113e-01]\n",
      " [ 1.15151515e+00  3.08630368e-01  7.94869333e-01  7.02246186e-01]\n",
      " [ 1.21212121e+00  2.88240971e-01  7.87812239e-01  7.14574747e-01]\n",
      " [ 1.27272727e+00  2.73941254e-01  7.82205364e-01  7.24929708e-01]\n",
      " [ 1.33333333e+00  2.51072642e-01  7.53231325e-01  7.49245664e-01]\n",
      " [ 1.39393939e+00  2.46212801e-01  7.54485094e-01  7.55139192e-01]\n",
      " [ 1.45454545e+00  2.29082995e-01  7.45874084e-01  7.60538977e-01]\n",
      " [ 1.51515152e+00  2.30960434e-01  7.36881816e-01  7.65721617e-01]\n",
      " [ 1.57575758e+00  2.27275731e-01  7.17845342e-01  7.80559327e-01]\n",
      " [ 1.63636364e+00  2.04921129e-01  7.09802818e-01  7.99969994e-01]\n",
      " [ 1.69696970e+00  1.93673213e-01  7.03590799e-01  7.91568435e-01]\n",
      " [ 1.75757576e+00  1.87124766e-01  6.82799334e-01  8.07002203e-01]\n",
      " [ 1.81818182e+00  1.79192962e-01  6.81921857e-01  8.25013865e-01]\n",
      " [ 1.87878788e+00  1.78690500e-01  6.70849231e-01  8.13812560e-01]\n",
      " [ 1.93939394e+00  1.75795729e-01  6.63758819e-01  8.25806509e-01]\n",
      " [ 2.00000000e+00  1.65980956e-01  6.54621860e-01  8.35312126e-01]\n",
      " [ 2.06060606e+00  1.56810066e-01  6.60034277e-01  8.45856820e-01]\n",
      " [ 2.12121212e+00  1.55521170e-01  6.45471494e-01  8.56186221e-01]\n",
      " [ 2.18181818e+00  1.42605576e-01  6.40672819e-01  8.63349596e-01]\n",
      " [ 2.24242424e+00  1.42762590e-01  6.34045264e-01  8.57758638e-01]\n",
      " [ 2.30303030e+00  1.32820100e-01  6.28463278e-01  8.57006649e-01]\n",
      " [ 2.36363636e+00  1.36131352e-01  6.34357792e-01  8.66880897e-01]\n",
      " [ 2.42424242e+00  1.27396661e-01  6.21506418e-01  8.81085733e-01]\n",
      " [ 2.48484848e+00  1.12118140e-01  6.11900302e-01  8.73425159e-01]\n",
      " [ 2.54545455e+00  1.09206855e-01  6.24169155e-01  8.92776687e-01]\n",
      " [ 2.60606061e+00  1.01611888e-01  6.14615683e-01  8.85367241e-01]\n",
      " [ 2.66666667e+00  1.16906177e-01  6.13377947e-01  8.84722478e-01]\n",
      " [ 2.72727273e+00  1.10701232e-01  5.99173337e-01  9.02918804e-01]\n",
      " [ 2.78787879e+00  8.96459792e-02  6.05032911e-01  8.95354393e-01]\n",
      " [ 2.84848485e+00  1.00368272e-01  5.96734129e-01  8.98868019e-01]\n",
      " [ 2.90909091e+00  9.37858400e-02  6.02123274e-01  9.14068422e-01]\n",
      " [ 2.96969697e+00  9.19858121e-02  5.81215647e-01  9.10236567e-01]\n",
      " [ 3.03030303e+00  8.98236760e-02  5.94164508e-01  9.08802461e-01]\n",
      " [ 3.09090909e+00  7.43709969e-02  5.90793921e-01  9.18799452e-01]\n",
      " [ 3.15151515e+00  7.74589691e-02  5.73800487e-01  9.27277532e-01]\n",
      " [ 3.21212121e+00  8.57622900e-02  5.84748418e-01  9.29945432e-01]\n",
      " [ 3.27272727e+00  7.33972351e-02  5.74855523e-01  9.34446034e-01]\n",
      " [ 3.33333333e+00  7.23356127e-02  5.73124049e-01  9.35743706e-01]\n",
      " [ 3.39393939e+00  7.11355351e-02  5.79153607e-01  9.35215569e-01]\n",
      " [ 3.45454545e+00  5.89482700e-02  5.61722075e-01  9.36360914e-01]\n",
      " [ 3.51515152e+00  7.11858122e-02  5.58636045e-01  9.33912324e-01]\n",
      " [ 3.57575758e+00  6.07800619e-02  5.69274142e-01  9.41350318e-01]\n",
      " [ 3.63636364e+00  6.44646851e-02  5.56775786e-01  9.45630315e-01]\n",
      " [ 3.69696970e+00  6.84818366e-02  5.66153621e-01  9.31625185e-01]\n",
      " [ 3.75757576e+00  5.53802486e-02  5.59065117e-01  9.51500976e-01]\n",
      " [ 3.81818182e+00  5.68281717e-02  5.47919394e-01  9.36537576e-01]\n",
      " [ 3.87878788e+00  5.20083869e-02  5.46315909e-01  9.39741723e-01]\n",
      " [ 3.93939394e+00  5.45977493e-02  5.41954174e-01  9.57542327e-01]\n",
      " [ 4.00000000e+00  5.48308693e-02  5.40618539e-01  9.42327100e-01]\n",
      " [ 4.06060606e+00  3.88529793e-02  5.48501010e-01  9.52377085e-01]\n",
      " [ 4.12121212e+00  3.69791455e-02  5.50145411e-01  9.47085891e-01]\n",
      " [ 4.18181818e+00  4.56980690e-02  5.40069233e-01  9.56400223e-01]\n",
      " [ 4.24242424e+00  4.53210195e-02  5.48383127e-01  9.47214699e-01]\n",
      " [ 4.30303030e+00  4.82753435e-02  5.44927008e-01  9.50250415e-01]\n",
      " [ 4.36363636e+00  4.60848865e-02  5.42041374e-01  9.53739772e-01]\n",
      " [ 4.42424242e+00  4.66980667e-02  5.48629152e-01  9.54473376e-01]\n",
      " [ 4.48484848e+00  4.72299036e-02  5.33665220e-01  9.57005146e-01]\n",
      " [ 4.54545455e+00  3.77118330e-02  5.33110806e-01  9.71341224e-01]\n",
      " [ 4.60606061e+00  3.39385490e-02  5.28196465e-01  9.55083483e-01]\n",
      " [ 4.66666667e+00  3.86009272e-02  5.30998124e-01  9.61256754e-01]\n",
      " [ 4.72727273e+00  3.08386511e-02  5.38246227e-01  9.56777377e-01]\n",
      " [ 4.78787879e+00  3.17223309e-02  5.35540963e-01  9.61934330e-01]\n",
      " [ 4.84848485e+00  2.61964804e-02  5.36942547e-01  9.76997263e-01]\n",
      " [ 4.90909091e+00  2.62229950e-02  5.36983266e-01  9.66346780e-01]\n",
      " [ 4.96969697e+00  2.05640888e-02  5.29677713e-01  9.78708547e-01]\n",
      " [ 5.03030303e+00  3.39426181e-02  5.22502609e-01  9.79833568e-01]\n",
      " [ 5.09090909e+00  3.28701342e-02  5.32739110e-01  9.74921153e-01]\n",
      " [ 5.15151515e+00  3.28247853e-02  5.36108475e-01  9.72257293e-01]\n",
      " [ 5.21212121e+00  2.98788829e-02  5.31332619e-01  9.81411544e-01]\n",
      " [ 5.27272727e+00  2.25856389e-02  5.32449977e-01  9.79576578e-01]\n",
      " [ 5.33333333e+00  2.46816794e-02  5.21201456e-01  9.70914937e-01]\n",
      " [ 5.39393939e+00  1.97713577e-02  5.24137283e-01  9.83249670e-01]\n",
      " [ 5.45454545e+00  1.83138005e-02  5.21066774e-01  9.67527731e-01]\n",
      " [ 5.51515152e+00  1.36283505e-02  5.23615628e-01  9.72287210e-01]\n",
      " [ 5.57575758e+00  2.62345373e-02  5.19291176e-01  9.78142689e-01]\n",
      " [ 5.63636364e+00  2.81629668e-02  5.12808538e-01  9.74570835e-01]\n",
      " [ 5.69696970e+00  1.75314289e-02  5.21689562e-01  9.70236652e-01]\n",
      " [ 5.75757576e+00  2.48429350e-02  5.19813832e-01  9.80632694e-01]\n",
      " [ 5.81818182e+00  9.54908713e-03  5.22133000e-01  9.73765005e-01]\n",
      " [ 5.87878788e+00  1.32237403e-02  5.22429570e-01  9.87564293e-01]\n",
      " [ 5.93939394e+00  2.11431419e-02  5.20326097e-01  9.86879137e-01]\n",
      " [ 6.00000000e+00  2.49688135e-02  5.19602185e-01  9.82227685e-01]]\n"
     ]
    },
    {
     "data": {
      "text/plain": [
       "[<matplotlib.lines.Line2D at 0x7f9189201690>]"
      ]
     },
     "execution_count": 2,
     "metadata": {},
     "output_type": "execute_result"
    },
    {
     "data": {
      "image/png": "[encoded data removed]",
      "text/plain": [
       "<Figure size 432x288 with 1 Axes>"
      ]
     },
     "metadata": {
      "needs_background": "light"
     },
     "output_type": "display_data"
    }
   ],
   "source": [
    "from pylab import *                               # chargement automatique des modules numpy et matplotlib\n",
    "donnees = genfromtxt('Concentrations.txt')        # lecture des valeurs et stockage dans le tableau numpy donnees\n",
    "print(\"La taille du tableau est : \", shape(donnees))\n",
    "print(donnees)                                    # affichage\n",
    "plot(donnees[:,0], donnees[:,1])                  # trace de la deuxieme colonne (A) en fonction de la premiere (t)\n",
    "plot(donnees[:,0], donnees[:,2])                  # trace de la deuxieme colonne (B) en fonction de la premiere (t)\n",
    "plot(donnees[:,0], donnees[:,3])                  # trace de la deuxieme colonne (C) en fonction de la premiere (t)"
   ]
  },
  {
   "cell_type": "markdown",
   "metadata": {},
   "source": [
    "On voit que la méthode `genfromtxt` de Numpy crée un tableau Numpy 2D rempli avec toutes les colonnes.  \n",
    "\n",
    "Ce cas était le plus simple pour plusieurs raisons. \n",
    "\n",
    "Premièrement, la ligne d'entête du fichier commence par `#` et `genfromtxt` ignore automatiquement les lignes qui commencent par `#`. Si vos lignes d'entête ne commencent pas par `#` (c'est à peu près toujours le cas) il faut dire à `genfromtxt` combien de lignes d'entête il y a pour qu'il les ignore. Cela se fait avec l'argument `skip_header=n` où il faut remplacer 'n' par le nombre de lignes d'entête. Cf exemple ci-dessous. \n",
    "\n",
    "Deuxièmement, des espaces séparent les colonnes. C'est le séparateur standard pour `genfromtxt`. Parfois les colonnes sont séparées par autre chose. Par exemple, dans les fichiers CSV, on utilise le plus souvent une virgule pour séparer les valeurs (CSV=Comma-Separated Values). Dans ce cas, il faut le spécifier à `genfromtxt` avec l'argument `delimiter='x'` où vous devez remplacer x par le caractère séparateur. Cf exemple ci-dessous. \n",
    "\n",
    "Enfin, le plus souvent, il est plus pratique de demander à `genfromtxt` de nous construire autant de vecteurs (ou tableaux 1D) qu'il y a de colonnes, au lieu de construire un grand tableau 2D. Pour ceci, on peut spécifier l'argument `unpack=True`. Dans ce cas, à gauche de `genfromtxt`il faut donner autant de noms de variables qu'il y a de colonnes dans le fichier. Cf exemple ci-dessous."
   ]
  },
  {
   "cell_type": "code",
   "execution_count": 3,
   "metadata": {},
   "outputs": [
    {
     "name": "stdout",
     "output_type": "stream",
     "text": [
      "La taille des tableaux est :  (100,) (100,) (100,) (100,)\n"
     ]
    },
    {
     "data": {
      "text/plain": [
       "<matplotlib.legend.Legend at 0x7f9189348410>"
      ]
     },
     "execution_count": 3,
     "metadata": {},
     "output_type": "execute_result"
    },
    {
     "data": {
      "image/png": "[encoded data removed]",
      "text/plain": [
       "<Figure size 432x288 with 1 Axes>"
      ]
     },
     "metadata": {
      "needs_background": "light"
     },
     "output_type": "display_data"
    }
   ],
   "source": [
    "from pylab import *\n",
    "\n",
    "t, A, B, C = genfromtxt('Concentrations.txt', skip_header=1, delimiter=' ', unpack=True)     # lecture des valeurs et stockage dans les 4 vecteurs t, A, B, C.\n",
    "print(\"La taille des tableaux est : \", shape(t),shape(A),shape(B),shape(C))\n",
    "plot(t, A, label='A') \n",
    "plot(t, B, label='B') \n",
    "plot(t, C, label='C') \n",
    "xlabel('t (s)')\n",
    "ylabel('Concentration (M)')\n",
    "legend()"
   ]
  },
  {
   "cell_type": "markdown",
   "metadata": {},
   "source": [
    "Dans cet exemple, on a `skip_header=1` pour dire qu'il y a 1 ligne d'entête (même si ici ça ne sert à rien), `delimiter=' '` pour dire que les colonnes sont séparées par des espaces, et `unpack=True` pour dire qu'on veut des vecteurs et non un grand tableau 2D. Notez comme les appels à la fonction plot sont plus simples quand on dispose des variables t, A, B, C grâce à cette dernière option! \n",
    "\n",
    "La méthode de lecture de fichier ci-dessus est bien adaptée lorsque les données sont rangées sous forme d'un tableau dans le fichier. Parfois, ce n'est pas le cas et chaque ligne doit être analysée séparément. Pour lire un fichier arbitraire ligne par ligne, vous pouvez utiliser la construction suivante. "
   ]
  },
  {
   "cell_type": "code",
   "execution_count": 4,
   "metadata": {},
   "outputs": [
    {
     "name": "stdout",
     "output_type": "stream",
     "text": [
      "#          t (s)                 A (M)                       B (M)                   C (M) \n",
      "\n",
      "0.000000000000000000e+00 1.002420578808677076e+00 1.508765751350790607e+00 -4.379152307821003801e-03\n",
      "\n",
      "6.060606060606060774e-02 9.149607988542877157e-01 1.421522038291903600e+00 8.720124177721891301e-02\n",
      "\n",
      "1.212121212121212155e-01 8.447350244179753220e-01 1.335372299639328464e+00 1.584110103976936190e-01\n",
      "\n",
      "1.818181818181818232e-01 7.797401419663776423e-01 1.279343206356261975e+00 2.195408913705814424e-01\n",
      "\n",
      "2.424242424242424310e-01 7.134231494025577991e-01 1.211926341634596671e+00 2.867483006001840806e-01\n",
      "\n",
      "3.030303030303030387e-01 6.692243513702980096e-01 1.163918368957667759e+00 3.273587866907773924e-01\n",
      "\n",
      "3.636363636363636465e-01 6.236493102382180131e-01 1.133660714152036064e+00 3.710338885869863268e-01\n",
      "\n",
      "4.242424242424242542e-01 5.791057065151586913e-01 1.077556700316525840e+00 4.102759793927115983e-01\n",
      "\n",
      "4.848484848484848619e-01 5.543559551452812428e-01 1.047838159691048432e+00 4.569365531009166315e-01\n",
      "\n",
      "5.454545454545454142e-01 5.148433076677676468e-01 1.009501951837836309e+00 4.820988489464771987e-01\n",
      "\n",
      "6.060606060606060774e-01 4.866761652903268121e-01 9.765830805305401041e-01 5.145384841153873845e-01\n",
      "\n",
      "6.666666666666667407e-01 4.503435857529761166e-01 9.533356100502916597e-01 5.383868112155918428e-01\n",
      "\n",
      "7.272727272727272929e-01 4.321815540109269493e-01 9.323445519025029826e-01 5.766070620624402787e-01\n",
      "\n",
      "7.878787878787878451e-01 4.029471741839514842e-01 9.001640046067330703e-01 5.871908650426325149e-01\n",
      "\n",
      "8.484848484848485084e-01 3.965321164559060252e-01 8.968258478643456044e-01 6.056375253920938118e-01\n",
      "\n",
      "9.090909090909091717e-01 3.666767824088909000e-01 8.693361153935293961e-01 6.232840337421624577e-01\n",
      "\n",
      "9.696969696969697239e-01 3.472020781739469930e-01 8.482456527166026827e-01 6.565909080649253715e-01\n",
      "\n",
      "1.030303030303030276e+00 3.319361209032394844e-01 8.273591277414718004e-01 6.612587299196939217e-01\n",
      "\n",
      "1.090909090909090828e+00 3.109777350849403099e-01 8.230167818291749260e-01 6.811551128039987635e-01\n",
      "\n",
      "1.151515151515151603e+00 3.086303677021028924e-01 7.948693326517273228e-01 7.022461857416690822e-01\n",
      "\n",
      "1.212121212121212155e+00 2.882409707163631762e-01 7.878122394586646315e-01 7.145747470956840264e-01\n",
      "\n",
      "1.272727272727272707e+00 2.739412535724650155e-01 7.822053642358053338e-01 7.249297084511138189e-01\n",
      "\n",
      "1.333333333333333481e+00 2.510726422472388530e-01 7.532313245709728600e-01 7.492456640846580918e-01\n",
      "\n",
      "1.393939393939394034e+00 2.462128009643262949e-01 7.544850942422445250e-01 7.551391917611446347e-01\n",
      "\n",
      "1.454545454545454586e+00 2.290829946490352542e-01 7.458740842370129576e-01 7.605389765625442111e-01\n",
      "\n",
      "1.515151515151515138e+00 2.309604336891704912e-01 7.368818155448683127e-01 7.657216174529520858e-01\n",
      "\n",
      "1.575757575757575690e+00 2.272757309713541174e-01 7.178453417500879619e-01 7.805593269013357816e-01\n",
      "\n",
      "1.636363636363636465e+00 2.049211291975260585e-01 7.098028184771256743e-01 7.999699935044664034e-01\n",
      "\n",
      "1.696969696969697017e+00 1.936732127657933289e-01 7.035907990688118341e-01 7.915684349450502477e-01\n",
      "\n",
      "1.757575757575757569e+00 1.871247659658947515e-01 6.827993336119879686e-01 8.070022029347337922e-01\n",
      "\n",
      "1.818181818181818343e+00 1.791929618767794108e-01 6.819218572518507271e-01 8.250138650568389354e-01\n",
      "\n",
      "1.878787878787878896e+00 1.786904999108465120e-01 6.708492306157934904e-01 8.138125599270054078e-01\n",
      "\n",
      "1.939393939393939448e+00 1.757957288052301725e-01 6.637588185245485439e-01 8.258065087592106890e-01\n",
      "\n",
      "2.000000000000000000e+00 1.659809555494382582e-01 6.546218601253944724e-01 8.353121255618708441e-01\n",
      "\n",
      "2.060606060606060552e+00 1.568100663868997879e-01 6.600342769323244152e-01 8.458568196383995375e-01\n",
      "\n",
      "2.121212121212121104e+00 1.555211698935485554e-01 6.454714939671375440e-01 8.561862205265988734e-01\n",
      "\n",
      "2.181818181818181657e+00 1.426055757337221230e-01 6.406728189427760567e-01 8.633495959179975365e-01\n",
      "\n",
      "2.242424242424242653e+00 1.427625896182177223e-01 6.340452642981415643e-01 8.577586383120702207e-01\n",
      "\n",
      "2.303030303030303205e+00 1.328200998434761471e-01 6.284632780874219726e-01 8.570066488813818939e-01\n",
      "\n",
      "2.363636363636363757e+00 1.361313517015822760e-01 6.343577924406368362e-01 8.668808969730555924e-01\n",
      "\n",
      "2.424242424242424310e+00 1.273966607848742993e-01 6.215064180197021892e-01 8.810857331713186635e-01\n",
      "\n",
      "2.484848484848484862e+00 1.121181401102955971e-01 6.119003015037655091e-01 8.734251591548133353e-01\n",
      "\n",
      "2.545454545454545414e+00 1.092068554274736591e-01 6.241691550791114151e-01 8.927766867971955733e-01\n",
      "\n",
      "2.606060606060605966e+00 1.016118876690417089e-01 6.146156825749451436e-01 8.853672406125315808e-01\n",
      "\n",
      "2.666666666666666963e+00 1.169061770347951390e-01 6.133779471778798564e-01 8.847224783792724256e-01\n",
      "\n",
      "2.727272727272727515e+00 1.107012322896250012e-01 5.991733371388362484e-01 9.029188043440917744e-01\n",
      "\n",
      "2.787878787878788067e+00 8.964597924027391251e-02 6.050329108056526906e-01 8.953543931792983246e-01\n",
      "\n",
      "2.848484848484848619e+00 1.003682724844985746e-01 5.967341293191037455e-01 8.988680186043026543e-01\n",
      "\n",
      "2.909090909090909172e+00 9.378583996168590731e-02 6.021232740856529153e-01 9.140684215966565773e-01\n",
      "\n",
      "2.969696969696969724e+00 9.198581205972414243e-02 5.812156469728192443e-01 9.102365674172989696e-01\n",
      "\n",
      "3.030303030303030276e+00 8.982367601539127666e-02 5.941645082167837932e-01 9.088024612202976193e-01\n",
      "\n",
      "3.090909090909090828e+00 7.437099687870940556e-02 5.907939210874005864e-01 9.187994520972249113e-01\n",
      "\n",
      "3.151515151515151381e+00 7.745896908921751089e-02 5.738004869649105943e-01 9.272775317630257419e-01\n",
      "\n",
      "3.212121212121212377e+00 8.576229004970253866e-02 5.847484180856846736e-01 9.299454319538599245e-01\n",
      "\n",
      "3.272727272727272929e+00 7.339723507371102851e-02 5.748555225766014409e-01 9.344460340416730348e-01\n",
      "\n",
      "3.333333333333333481e+00 7.233561266629293107e-02 5.731240487390919514e-01 9.357437060699844711e-01\n",
      "\n",
      "3.393939393939394034e+00 7.113553511203443702e-02 5.791536067210225625e-01 9.352155687557963670e-01\n",
      "\n",
      "3.454545454545454586e+00 5.894826996581926937e-02 5.617220749316723660e-01 9.363609144172505561e-01\n",
      "\n",
      "3.515151515151515138e+00 7.118581218819709788e-02 5.586360447106445415e-01 9.339123237727406934e-01\n",
      "\n",
      "3.575757575757575690e+00 6.078006185005924156e-02 5.692741416407127719e-01 9.413503184329627960e-01\n",
      "\n",
      "3.636363636363636687e+00 6.446468508973922373e-02 5.567757858347907041e-01 9.456303149766449589e-01\n",
      "\n",
      "3.696969696969697239e+00 6.848183664312175456e-02 5.661536206900604773e-01 9.316251846849845641e-01\n",
      "\n",
      "3.757575757575757791e+00 5.538024858034301667e-02 5.590651170050219276e-01 9.515009760609115519e-01\n",
      "\n",
      "3.818181818181818343e+00 5.682817170676021656e-02 5.479193937630629785e-01 9.365375758268502659e-01\n",
      "\n",
      "3.878787878787878896e+00 5.200838685623119378e-02 5.463159090930639339e-01 9.397417232314749791e-01\n",
      "\n",
      "3.939393939393939448e+00 5.459774929140159827e-02 5.419541738182409585e-01 9.575423273474077401e-01\n",
      "\n",
      "4.000000000000000000e+00 5.483086929872118404e-02 5.406185392066932272e-01 9.423270999938143655e-01\n",
      "\n",
      "4.060606060606060552e+00 3.885297932296810641e-02 5.485010101474429023e-01 9.523770847582885279e-01\n",
      "\n",
      "4.121212121212121104e+00 3.697914550745234202e-02 5.501454113805653856e-01 9.470858906369340469e-01\n",
      "\n",
      "4.181818181818181657e+00 4.569806899158970065e-02 5.400692333764803843e-01 9.564002225044743177e-01\n",
      "\n",
      "4.242424242424242209e+00 4.532101947794619362e-02 5.483831267422573097e-01 9.472146989095381331e-01\n",
      "\n",
      "4.303030303030302761e+00 4.827534348378880596e-02 5.449270082746716648e-01 9.502504147098753684e-01\n",
      "\n",
      "4.363636363636363313e+00 4.608488654561680026e-02 5.420413739043851153e-01 9.537397720054432426e-01\n",
      "\n",
      "4.424242424242424754e+00 4.669806674005612390e-02 5.486291517005368323e-01 9.544733764600603632e-01\n",
      "\n",
      "4.484848484848485306e+00 4.722990362873651093e-02 5.336652197579743184e-01 9.570051461092826672e-01\n",
      "\n",
      "4.545454545454545858e+00 3.771183297667447115e-02 5.331108063125351570e-01 9.713412235187026678e-01\n",
      "\n",
      "4.606060606060606410e+00 3.393854898336288312e-02 5.281964650690099683e-01 9.550834832684587106e-01\n",
      "\n",
      "4.666666666666666963e+00 3.860092718489282343e-02 5.309981238271741510e-01 9.612567535173809352e-01\n",
      "\n",
      "4.727272727272727515e+00 3.083865114346956079e-02 5.382462265981251548e-01 9.567773766559454218e-01\n",
      "\n",
      "4.787878787878788067e+00 3.172233094718529545e-02 5.355409626189404637e-01 9.619343298123121944e-01\n",
      "\n",
      "4.848484848484848619e+00 2.619648044540305934e-02 5.369425465133156328e-01 9.769972628292489247e-01\n",
      "\n",
      "4.909090909090909172e+00 2.622299504227799602e-02 5.369832655097255270e-01 9.663467803075755924e-01\n",
      "\n",
      "4.969696969696969724e+00 2.056408879545920318e-02 5.296777133260569537e-01 9.787085472230918626e-01\n",
      "\n",
      "5.030303030303030276e+00 3.394261805985951397e-02 5.225026086016788529e-01 9.798335675829356051e-01\n",
      "\n",
      "5.090909090909090828e+00 3.287013415218083962e-02 5.327391101386181882e-01 9.749211527596378657e-01\n",
      "\n",
      "5.151515151515151381e+00 3.282478529530452604e-02 5.361084751991881392e-01 9.722572928658952396e-01\n",
      "\n",
      "5.212121212121211933e+00 2.987888286175011815e-02 5.313326190449579878e-01 9.814115437172250545e-01\n",
      "\n",
      "5.272727272727272485e+00 2.258563888476331286e-02 5.324499767724977239e-01 9.795765780972145453e-01\n",
      "\n",
      "5.333333333333333925e+00 2.468167940040174799e-02 5.212014561598173890e-01 9.709149365913358753e-01\n",
      "\n",
      "5.393939393939394478e+00 1.977135769582941127e-02 5.241372834853204044e-01 9.832496695636279149e-01\n",
      "\n",
      "5.454545454545455030e+00 1.831380051772907303e-02 5.210667743907684279e-01 9.675277308649629093e-01\n",
      "\n",
      "5.515151515151515582e+00 1.362835050892540964e-02 5.236156284886031020e-01 9.722872097324040119e-01\n",
      "\n",
      "5.575757575757576134e+00 2.623453725507165352e-02 5.192911759355016699e-01 9.781426891738750351e-01\n",
      "\n",
      "5.636363636363636687e+00 2.816296681994131385e-02 5.128085381294774647e-01 9.745708349940317428e-01\n",
      "\n",
      "5.696969696969697239e+00 1.753142894461665741e-02 5.216895621011459205e-01 9.702366521891420126e-01\n",
      "\n",
      "5.757575757575757791e+00 2.484293496801888088e-02 5.198138317050460255e-01 9.806326944802921108e-01\n",
      "\n",
      "5.818181818181818343e+00 9.549087132221915214e-03 5.221329999344263006e-01 9.737650047190540281e-01\n",
      "\n",
      "5.878787878787878896e+00 1.322374029880624136e-02 5.224295704762870196e-01 9.875642931765256094e-01\n",
      "\n",
      "5.939393939393939448e+00 2.114314192174681153e-02 5.203260967132692372e-01 9.868791367350682187e-01\n",
      "\n",
      "6.000000000000000000e+00 2.496881348460638916e-02 5.196021845198028899e-01 9.822276852351635723e-01\n",
      "\n"
     ]
    }
   ],
   "source": [
    "for line in open('Concentrations.txt'):\n",
    "    print(line)  "
   ]
  },
  {
   "cell_type": "markdown",
   "metadata": {},
   "source": [
    "Avec `for line in open('Concentrations.txt'):`, Python va automatiquement ouvrir le fichier indiqué dans `open`, lire ce fichier ligne par ligne en stockant le contenu de chaque ligne dans la variable `line`, et fermer le fichier à la fin de la boucle. \n",
    "\n",
    "Vous pouvez faire ce que vous voulez dans la boucle. Ici, nous avons simplement affiché chaque ligne lue. \n",
    "\n",
    "Notez que ces lignes sont des chaînes de caractères et non des réels. Si vous voulez créer des tableaux comme avec `genfromtxt`, il va falloir découper ces chaînes en listes de mots et transformer ces listes en listes de réels. Dans l'exemple ci dessous, on commence par créer 4 tableaux avec des zéros. On définit un compteur i. On lit chaque ligne. Si le caractère `#` n'est pas dans la ligne il s'agit de valeurs et on peut traiter les données. Il faut alors d'abord fractionner la chaîne `line` en liste de mots avec `line.split()`, puis la fonction `map` va appliquer la fonction `float()` à chaque élément de cette liste. Le résultat de `map()` est une liste de 4 réels, qu'on range dans `t[i]`, `A[i]`, etc. Il faut bien penser à incrémenter l'indice i pour la suite. C'est beaucoup plus de travail que `genfromtxt`, donc préférez cette dernière si possible. "
   ]
  },
  {
   "cell_type": "code",
   "execution_count": 5,
   "metadata": {},
   "outputs": [
    {
     "data": {
      "text/plain": [
       "<matplotlib.legend.Legend at 0x7f91892892d0>"
      ]
     },
     "execution_count": 5,
     "metadata": {},
     "output_type": "execute_result"
    },
    {
     "data": {
      "image/png": "[encoded data removed]",
      "text/plain": [
       "<Figure size 432x288 with 1 Axes>"
      ]
     },
     "metadata": {
      "needs_background": "light"
     },
     "output_type": "display_data"
    }
   ],
   "source": [
    "from pylab import *\n",
    "\n",
    "t = zeros(100)\n",
    "A = zeros(100)\n",
    "B = zeros(100)\n",
    "C = zeros(100)\n",
    "i = 0\n",
    "for line in open('Concentrations.txt'):\n",
    "    if not '#' in line:\n",
    "        t[i], A[i], B[i], C[i] = map( float, line.split() )\n",
    "        i = i+1\n",
    "plot(t, A, label='A') \n",
    "plot(t, B, label='B') \n",
    "plot(t, C, label='C') \n",
    "xlabel('t (s)')\n",
    "ylabel('Concentration (M)')\n",
    "legend()"
   ]
  },
  {
   "cell_type": "markdown",
   "metadata": {},
   "source": [
    "NB : dans l'exemple ci-dessus, on commence à créer des tableaux `numpy` t, A, B, C directement avec des zéros. Ensuite, on remplace ces zéros en écrivant les données dans les bonnes cases.\n",
    "\n",
    "Il est aussi possible d'utiliser des listes, mais si vous voulez faire des opérations sur ces listes il faudra au préalable les convertir en tableaux numpy. Voici un exemple avec des listes et une conversion à la fin. "
   ]
  },
  {
   "cell_type": "code",
   "execution_count": 1,
   "metadata": {},
   "outputs": [
    {
     "data": {
      "text/plain": [
       "<matplotlib.legend.Legend at 0x7ffa93013350>"
      ]
     },
     "execution_count": 1,
     "metadata": {},
     "output_type": "execute_result"
    },
    {
     "data": {
      "image/png": "[encoded data removed]",
      "text/plain": [
       "<Figure size 432x288 with 1 Axes>"
      ]
     },
     "metadata": {
      "needs_background": "light"
     },
     "output_type": "display_data"
    }
   ],
   "source": [
    "from pylab import *\n",
    "\n",
    "t = [] # liste vide\n",
    "A = []\n",
    "B = []\n",
    "C = []\n",
    "for line in open('Concentrations.txt'):\n",
    "    if not '#' in line:\n",
    "        tt, aa, bb, cc = map( float, line.split() )\n",
    "        t.append(tt)    # On ajoute les valeurs a la fin de la liste \n",
    "        A.append(aa)\n",
    "        B.append(bb)\n",
    "        C.append(cc)\n",
    "t = array(t)            # conversion de la liste t en tableau numpy t\n",
    "A = array(A)\n",
    "B = array(B)\n",
    "C = array(C)\n",
    "\n",
    "plot(t, A, label='A') \n",
    "plot(t, B, label='B') \n",
    "plot(t, C, label='C') \n",
    "xlabel('t (s)')\n",
    "ylabel('Concentration (M)')\n",
    "legend()"
   ]
  },
  {
   "cell_type": "markdown",
   "metadata": {},
   "source": [
    "Un avantage de cette méthode est qu'il n'y a plus besoin du compteur `i`, et qu'il n'y a pas besoin de connaître le nombre de lignes du fichier à l'avance. Un inconvénient est que ce n'est pas du tout optimal en termes de performances (rapidité du code). Quand on fait du Python, ce n'est pas un critère essentiel, mais ça peut l'être dans d'autres contextes. "
   ]
  },
  {
   "cell_type": "markdown",
   "metadata": {},
   "source": [
    "### Ecrire des données dans un fichier.\n",
    "\n",
    "La manière la plus simple de sauvegrader vos données dans un fichier est d'utiliser la fonction `savetxt()`. Voici comment lire les variables, passer les concentrations en mM, et les sauvegarder dans un nouveau fichier appelé `ConcentrationsmM.txt`. "
   ]
  },
  {
   "cell_type": "code",
   "execution_count": 6,
   "metadata": {},
   "outputs": [],
   "source": [
    "from pylab import *                               \n",
    "t, A, B, C = genfromtxt('Concentrations.txt', unpack=True)       # on lit t, A, B, C avec le minimum d'options requises\n",
    "A = A*1000                                                       # multiplication par 1000 pour passer de M a mM\n",
    "B = B*1000\n",
    "C = C*1000 \n",
    "savetxt('ConcentrationsmM.txt', transpose( (t,A,B,C) ) ) "
   ]
  },
  {
   "cell_type": "markdown",
   "metadata": {},
   "source": [
    "Le premier argument de la fonction `savetxt()` est le nom du fichier qui sera créé. Le second argument est un tableau numpy qui sera écrit dans le fichier. Comme nous avons 4 vecteurs, nous pouvons créer un taleau les rassemblant avec `(t,A,B,C)`. Il serait possible d'utiliser ce tableau dans `savetxt()` mais il serait stocké sous la forme de 4 lignes , la première pour t, la seconde pour A, etc, et non pas en colonnes. On utilise donc `transpose( (t,A,B,C) )` pour faire passer ce tableau 'horizontal' et un tableau 'vertical'. \n",
    "\n",
    "Si on doit écrire des données dans un fichier et qu'elles ne peuvent pas être rangées sous forme d'un tableau Numpy, c'est un peu plus difficile. Voici un exemple. "
   ]
  },
  {
   "cell_type": "code",
   "execution_count": 7,
   "metadata": {},
   "outputs": [],
   "source": [
    "from pylab import *                               \n",
    "t, A, B, C = genfromtxt('Concentrations.txt', unpack=True)       # on lit t, A, B, C avec le minimum d'options requises\n",
    "A = A*1000                                                       # multiplication par 1000 pour passer de M a mM\n",
    "B = B*1000\n",
    "C = C*1000 \n",
    "\n",
    "fid = open('ConcentrationsmM.txt', 'w')                          # Ouverture d'un fichier en mode écriture ('w'=write)\n",
    "for i in range(100):\n",
    "    fid.write( \"{:19.12e}\".format(t[i])+' '+\"{:19.12e}\".format(A[i])+' '+\"{:19.12e}\".format(B[i])+' '+\"{:19.12e}\".format(C[i])+'\\n' )\n",
    "fid.close()                                                      # fermeture du fichier"
   ]
  },
  {
   "cell_type": "markdown",
   "metadata": {},
   "source": [
    "Dans ce cas, il faut ouvrir explicitement le fichier à créer avec `open()` en indiquant son nom, ainsi que l'argument 'w' pour pouvoir écrire dedans ('w'=write). Cette commande crée une variable `fid` qui est la représentation du fichier en Python. A partir de là, il est possible d'utiliser `fid.write()` pour écrire une ligne dans le fichier mais cette fonction ne permet d'écrire que des chaînes de caractères. Il faut donc convertir nos 4 valeurs en 4 mots séparés par des espaces. L'instruction barbare `\"{:19.12e}\".format(X)` permet de convertir le réel `X` en une chaîne de 19 caractères dont 12 chiffres après la virgule, au format scientifique grâce au 'e'. Il est nécessaire d'écrire toutes les lignes individuellement grâce à une boucle. Enfin, il est impératif de fermer le fichier avec `fid.close()` à la fin, sans quoi les données ne seront peut être pas sauvegardées. Encore une fois, dans 95% des cas vous pouvez utiliser `savetxt()`, et il vaut mieux faire comme ça !"
   ]
  },
  {
   "cell_type": "code",
   "execution_count": 9,
   "metadata": {},
   "outputs": [
    {
     "data": {
      "text/markdown": [
       "**Fin à:** Wednesday 09 November 2022, 11:40:15  \n",
       "**Durée:** 00:00:26 461ms"
      ],
      "text/plain": [
       "<IPython.core.display.Markdown object>"
      ]
     },
     "metadata": {},
     "output_type": "display_data"
    },
    {
     "data": {
      "text/markdown": [
       "<p style=\"text-align: center\"><img width=\"800px\" src=\"./config/svg/logoFin.svg\" style=\"margin-left:auto; margin-right:auto\"/></p>"
      ],
      "text/plain": [
       "<IPython.core.display.Markdown object>"
      ]
     },
     "metadata": {},
     "output_type": "display_data"
    }
   ],
   "source": [
    "###############################################################################################\n",
    "# supprimez cette cellule si vous exécutez ce notebook en-dehors de la distribution CHIM2-ON1 #\n",
    "###############################################################################################\n",
    "\n",
    "vID.end(cwd0)"
   ]
  }
 ],
 "metadata": {
  "colab": {
   "collapsed_sections": [],
   "name": "Fichiers.ipynb",
   "provenance": []
  },
  "kernelspec": {
   "display_name": "Python 3",
   "language": "python",
   "name": "python3"
  },
  "language_info": {
   "codemirror_mode": {
    "name": "ipython",
    "version": 3
   },
   "file_extension": ".py",
   "mimetype": "text/x-python",
   "name": "python",
   "nbconvert_exporter": "python",
   "pygments_lexer": "ipython3",
   "version": "3.7.6"
  }
 },
 "nbformat": 4,
 "nbformat_minor": 1
}
