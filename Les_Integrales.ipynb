{
 "cells": [
  {
   "cell_type": "markdown",
   "metadata": {
    "colab_type": "text",
    "id": "view-in-github"
   },
   "source": [
    "<a href=\"https://colab.research.google.com/github/YannickHallez/CHIM2-ON1/blob/main/Les_Integrales.ipynb\" target=\"_parent\"><img src=\"https://colab.research.google.com/assets/colab-badge.svg\" alt=\"Open In Colab\"/></a>"
   ]
  },
  {
   "cell_type": "markdown",
   "metadata": {
    "id": "qwQMEf6qgDSG"
   },
   "source": [
    "# Les intégrales\n",
    "\n",
    "## Prérequis\n",
    "\n",
    "- Introduction à Python. \n",
    "- Les variables.\n",
    "- Les listes.\n",
    "- Les tableaux.\n",
    "- Les fonctions.\n",
    "\n",
    "## Compétences \n",
    "\n",
    "1. Calculer l'intégrale d'une fonction donnée en des points discrets.  \n",
    "2. Calculer l'intégrale d'une fonction dont on connait l'expression. \n",
    "\n",
    "## Objectifs \n",
    "\n",
    "1. Acquérir les compétences ci-dessus.\n",
    "\n",
    "## Contenu de la vidéo \n",
    "\n",
    "### Introduction \n",
    "\n",
    "L'intégrale d'une fonction $f$ entre deux bornes $a$ et $b$ est notée\n",
    "$$I = \\int_a^b f(x)dx$$\n",
    "\n",
    "Grâce au module `scipy.integrate` de Python, il est possible de calculer des intégrales de manière approchée. Si vous voulez calculer une intégrale, vous allez vous retrouver dans un des 2 cas suivants : \n",
    "- (1) Vous connaissez l'écriture analytique de la fonction. Par exemple, la capacité calorifique d'un fluide modélisée par $C_p(T)=A+BT+CT^2+DT^3+E/T^2$ avec des constantes A, B, C, D, E connues. \n",
    "- (2) Vous ne savez pas comment s'écrit la fonction. Vous connaissez juste sa valeur pour certains points $x$ donnés. C'est le cas quand la fonction est le résultat d'une mesure expérimentale. Par exemple, lors d'une analyse par chromatographie vous avez un tableau de valeurs mesurées $f(t)$ en fonction d'un tableau de temps $t$ et vous voulez l'aire sous les pics (c'est-à-dire l'intégrale de $f$). \n",
    "\n",
    "Dans chacun de ces cas, il faudra utiliser des méthodes différentes du module `scipy.integrate`.\n",
    "\n",
    "\n",
    "### Intégration d'une fonction dont on connait l'expression. \n",
    "\n",
    "Prenons l'exemple de la fonction $f(x)=4\\sqrt{1-x^2}$, qu'on voudrait intégrer entre $0$ et $1$. Le résultat peut être calculé de manière théorique et est $I=\\pi$ mais faisons comme si on ne le savait pas.\n",
    "\n",
    "Le calcul de l'intégrale se fait en 3 temps :\n",
    "1. Charger la méthode `quad` du module `scipy.integrate`.\n",
    "2. Définir la fonction Python qui va représenter la fonction mathématique qu'on veut intégrer. \n",
    "3. Appeler la méthode `quad`. \n",
    "\n",
    "Voici un exemple ci-dessous. "
   ]
  },
  {
   "cell_type": "code",
   "execution_count": null,
   "metadata": {
    "colab": {
     "base_uri": "https://localhost:8080/"
    },
    "id": "VKTOSuozrCyv",
    "outputId": "6b2ddb06-0ba5-48d2-a5d0-73e89417c307"
   },
   "outputs": [
    {
     "name": "stdout",
     "output_type": "stream",
     "text": [
      "Le resultat est                      :  3.1415926535897922\n",
      "L'etimation de l'erreur par quad est :  3.533564552071766e-10\n",
      "L'erreur est en realite              :  8.881784197001252e-16\n"
     ]
    }
   ],
   "source": [
    "from pylab import *                       # Chargement de l'environnement scientifique\n",
    "from scipy.integrate import quad          # 1. Chargement de la methode quad \n",
    "\n",
    "def f(x):                                 # 2. Definition de la fonction Python\n",
    "  return 4*sqrt(1-x**2) \n",
    "\n",
    "I, err = quad( f, a=0, b=1)                    # 3. Appel de la fonction quad, en spécifiant la fonction en premier, puis les bornes d'integration a et b\n",
    "                                               #    La fonction quad a 2 sorties par défaut : la valeur de l'intégrale, et une estimation de l'erreur. \n",
    "\n",
    "print(\"Le resultat est                      : \", I)\n",
    "print(\"L'etimation de l'erreur par quad est : \", err)\n",
    "print(\"L'erreur est en realite              : \", abs(pi-I))"
   ]
  },
  {
   "cell_type": "markdown",
   "metadata": {
    "id": "6O2J2vkrsn1Z"
   },
   "source": [
    "La fonction `quad` a 2 sorties, la valeur approchée de l'intégrale et une estimation de l'erreur qui vient de la méthode numérique utilisée. \n",
    "\n",
    "Gardez en tête que cette fonction `quad` **ne fait pas** une résolution analytique. Le résultat sera toujours une approximation de la réalité. Pour avoir une idée de l'erreur commise, il faut regarder la valeur de la deuxième sortie. Ici, l'erreur est estimée à $3.53\\,10^{-10}$ par `quad`. Comme nous savons que le résultat est $\\pi$, nous pouvons aussi calculer l'erreur nous même et nous voyons que cette erreur est en réalité encore plus petite.   \n",
    "\n",
    "NB : dans la méthode `quad`, on donne le nom de la fonction `f` et pas l'expression `f(x)`. Comment faire dans le cas où la fonction `f` a d'autres arguments ? Voyez sur l'exemple ci-dessous qui calcule la variation de chaleur  due au passage de 300K à 900K de 1kg de matériau de capacité calorifique $c_p$ : $Q = \\int_{300}^{900} c_p(T) dT$. Dans cette exemple, la fonction est $c_p$, son argument pour l'intégration est $T$ (notez l'intégrale avec $dT$) et les autres variables A, B, C, D, E sont des paramètres (des constantes). \n",
    "\n"
   ]
  },
  {
   "cell_type": "code",
   "execution_count": 5,
   "metadata": {
    "colab": {
     "base_uri": "https://localhost:8080/"
    },
    "id": "OP8ZI8tccN4r",
    "outputId": "de97f793-86b1-4a0e-a3c6-f02856ee6f38"
   },
   "outputs": [
    {
     "name": "stdout",
     "output_type": "stream",
     "text": [
      "Le resultat est                      :  709132.6531099023 Joules\n",
      "L'etimation de l'erreur par quad est :  7.872953989961376e-09\n"
     ]
    }
   ],
   "source": [
    "from pylab import *                       # Chargement de l'environnement scientifique\n",
    "from scipy.integrate import quad          # 1. Chargement de la methode quad \n",
    "\n",
    "A = 1075.51\n",
    "B = 75.237\n",
    "C = -69.81\n",
    "D = 327.53\n",
    "E = 0.015486\n",
    "\n",
    "def cp(T, A, B, C, D, E):   \n",
    "  t = T/1000                              # 2. Definition de la fonction Python\n",
    "  return A + B*t + C*t**2 + D*t**3 + E/t \n",
    "\n",
    "Q, err = quad( cp, a=300, b=900, args=(A, B, C, D, E))                    # 3. Appel de la fonction quad, en spécifiant la fonction en premier, puis les bornes d'integration a et b\n",
    "                                               #    La fonction quad a 2 sorties par défaut : la valeur de l'intégrale, et une estimation de l'erreur. \n",
    "\n",
    "print(\"Le resultat est                      : \", Q, \"Joules\")\n",
    "print(\"L'etimation de l'erreur par quad est : \", err)"
   ]
  },
  {
   "cell_type": "markdown",
   "metadata": {
    "id": "Pv-utep0hsJV"
   },
   "source": [
    "Lorsqu'il y a une variable d'intégration (ici $T$) et des paramètres (ici A, B, C, D, E), il faut veiller à 2 choses : \n",
    "1. placer la variable d'intégration en premier agrument de la fonction dans la définition `def cp(T,...)` \n",
    "2. rajouter `args=(les,parametres,separes,par,des,virgules)` dans l'appel à `quad`  \n",
    "\n",
    "\n",
    "\n",
    "\n",
    "### Intégration d'une fonction dont on ne connait que des valeurs discretes.  \n",
    "\n",
    "Lorsqu'on n'a pas d'expression pour la fonction, mais juste des valeurs en certains points, on ne peut pas utiliser la méthode ci-dessus. On peut par exemple utiliser par exemple la méthode de Simpson. Dans les anciennes versions de `scipy.integrate` , elle s'appelle `simps` et dans les récentes elle s'appelle `simpson`. Si l'une des deux versions ne fonctionne pas, essayez l'autre. (pour connaître votre version de scipy, vous pouvez taper `import scipy; print(scipy.__version__)` )\n",
    "\n",
    "Dans l'exemple ci-dessous, on dispose de mesures au cours du temps $t$, pour des temps entre 20 et 60 secondes. On dispose aussi de la valeur d'un signal $v$ en unités arbitraires. Il pourrait s'agir d'une courbe de chromatographie par exemple. On veut calculer l'aire sous le pic. "
   ]
  },
  {
   "cell_type": "code",
   "execution_count": 14,
   "metadata": {
    "colab": {
     "base_uri": "https://localhost:8080/",
     "height": 316
    },
    "id": "VIjObh9Gjacs",
    "outputId": "2ccef059-ec5b-4be0-9528-f772f3203a35"
   },
   "outputs": [
    {
     "name": "stdout",
     "output_type": "stream",
     "text": [
      "L'aire sous la courbe est  8.862273343765281\n"
     ]
    },
    {
     "data": {
      "image/png": "[encoded data removed]",
      "text/plain": [
       "<Figure size 432x288 with 1 Axes>"
      ]
     },
     "metadata": {
      "needs_background": "light"
     },
     "output_type": "display_data"
    }
   ],
   "source": [
    "from pylab import *\n",
    "from scipy.integrate import simps        # chargement de la methode simps (anciennes versions de scipy), a remplacer par simpson pour les nouvelles versions\n",
    "\n",
    "# donnees experimentales\n",
    "t = array([20.        , 22.10526316, 24.21052632, 26.31578947, 28.42105263, 30.52631579, 32.63157895, 34.73684211, 36.84210526, 38.94736842, 41.05263158, 43.15789474, 45.26315789, 47.36842105, 49.47368421, 51.57894737, 53.68421053, 55.78947368, 57.89473684, 60.        ])\n",
    "v = array([3.90893843e-09, 1.33119028e-07, 3.18004580e-06, 5.32891190e-05, 6.26405605e-04, 5.16517046e-03, 2.98762174e-02, 1.21221176e-01, 3.45019230e-01, 6.88842668e-01, 9.64736495e-01, 9.47783850e-01, 6.53163383e-01, 3.15752126e-01, 1.07073665e-01, 2.54701193e-02, 4.25002240e-03, 4.97465983e-04, 4.08458076e-05, 2.35257520e-06])\n",
    "\n",
    "# Visualisation des donnees \n",
    "figure()\n",
    "plot(t, v, 'o')\n",
    "xlabel('t (s)')\n",
    "ylabel('v (AU)')\n",
    "\n",
    "# Calcul de l'aire sous la courbe \n",
    "A = simps( v, x=t)                       # appel de la methode simps\n",
    "\n",
    "print(\"L'aire sous la courbe est \", A)\n"
   ]
  },
  {
   "cell_type": "markdown",
   "metadata": {
    "id": "svaC4LK5oK7R"
   },
   "source": [
    "On voit que l'appel est très simple : le premier argument est le tableau des ordonnées (valeurs de la fonction), et le second argument est le tableau des abscisses. Le `x=` n'est pas nécessaire, mais c'est bien de le mettre pour ne pas oublier l'ordre des arguments. La méthode `simps` ou `simpson` ne renvoie qu'un résultat : la valeur de l'intégrale.    \n",
    "\n",
    "\n",
    "### A retenir \n",
    "\n",
    "- Si vous pouvez écrire la fonction explicitement, utilisez `scipy.integrate.quad`. \n",
    "- Si vous ne disposez que de tableaux de données, utilisez `scipy.integrate.simps` (scipy version <= 1.4) ou `scipy.integrate.simpson` (scipy version >= 1.5).\n"
   ]
  },
  {
   "cell_type": "markdown",
   "metadata": {
    "id": "WgSZ-KdZgDSW"
   },
   "source": [
    "### Evaluation formative après la vidéo \n",
    "\n",
    "1. Calculez numériquement l'intégrale de $f(x)=e^{3x^2+1}$ entre 1 et 2. \n",
    "\n",
    "2. Calculez numériquement l'intégrale de $g(t,a,b) = \\cos(At+B)$ pour A=2, B=3, et t entre 3.5 et 6. \n",
    "\n",
    "3. Calculez numériquement l'intégrale de la fonction donnée par les abscisses x = 3, 4, 5, 6, 8, 10 et ordonnées h = 1, 2, 3.6, 0.4, -2, 6. \n"
   ]
  }
 ],
 "metadata": {
  "colab": {
   "collapsed_sections": [],
   "include_colab_link": true,
   "name": "Les_Integrales.ipynb",
   "provenance": []
  },
  "kernelspec": {
   "display_name": "Python 3",
   "language": "python",
   "name": "python3"
  },
  "language_info": {
   "codemirror_mode": {
    "name": "ipython",
    "version": 3
   },
   "file_extension": ".py",
   "mimetype": "text/x-python",
   "name": "python",
   "nbconvert_exporter": "python",
   "pygments_lexer": "ipython3",
   "version": "3.7.6"
  }
 },
 "nbformat": 4,
 "nbformat_minor": 1
}
