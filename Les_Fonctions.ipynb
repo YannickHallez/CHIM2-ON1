{
 "cells": [
  {
   "cell_type": "markdown",
   "metadata": {},
   "source": [
    "# Les fonctions\n",
    "\n",
    "\n",
    "## Prérequis\n",
    "\n",
    "- Introduction à Python. \n",
    "- Les variables.\n",
    "- Les listes.\n",
    "- Les tableaux.\n",
    "\n",
    "## Compétences \n",
    "\n",
    "1. Exécuter des fonctions existantes. \n",
    "2. Définir des fonctions. \n",
    "\n",
    "## Objectifs \n",
    "\n",
    "1. Acquérir les compétences ci-dessus.\n",
    "2. Ecrire des codes plus courts et plus propres en encapsulant des tâches dans des fonctions.  \n",
    "\n",
    "## Contenu de la vidéo \n",
    "\n",
    "### Qu’est-ce qu’une fonction\n"
   ]
  },
  {
   "cell_type": "code",
   "execution_count": null,
   "metadata": {},
   "outputs": [],
   "source": []
  }
 ],
 "metadata": {
  "colab": {
   "collapsed_sections": [],
   "include_colab_link": true,
   "name": "Les_Fonctions.ipynb",
   "provenance": []
  },
  "kernelspec": {
   "display_name": "Python 3 (ipykernel)",
   "language": "python",
   "name": "python3"
  },
  "language_info": {
   "codemirror_mode": {
    "name": "ipython",
    "version": 3
   },
   "file_extension": ".py",
   "mimetype": "text/x-python",
   "name": "python",
   "nbconvert_exporter": "python",
   "pygments_lexer": "ipython3",
   "version": "3.9.6"
  }
 },
 "nbformat": 4,
 "nbformat_minor": 4
}
