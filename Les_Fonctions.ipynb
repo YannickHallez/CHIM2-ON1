{
  "cells": [
    {
      "cell_type": "markdown",
      "metadata": {
        "id": "view-in-github",
        "colab_type": "text"
      },
      "source": [
        "<a href=\"https://colab.research.google.com/github/YannickHallez/CHIM2-ON1/blob/main/Les_Fonctions.ipynb\" target=\"_parent\"><img src=\"https://colab.research.google.com/assets/colab-badge.svg\" alt=\"Open In Colab\"/></a>"
      ]
    },
    {
      "cell_type": "markdown",
      "metadata": {
        "id": "qwQMEf6qgDSG"
      },
      "source": [
        "# Les fonctions\n",
        "\n",
        "## Prérequis\n",
        "\n",
        "- Introduction à Python. \n",
        "- Les variables.\n",
        "- Les listes.\n",
        "- Les tableaux.\n",
        "\n",
        "## Compétences \n",
        "\n",
        "1. Exécuter des fonctions existantes. \n",
        "2. Définir des fonctions. \n",
        "\n",
        "## Objectifs \n",
        "\n",
        "1. Acquérir les compétences ci-dessus.\n",
        "2. Ecrire des codes plus courts et plus propres en encapsulant des tâches dans des fonctions.  \n",
        "\n",
        "## Contenu de la vidéo \n",
        "\n",
        "### Qu’est-ce qu’une fonction\n",
        "\n",
        "Une fonction est une sorte de boîte noire qui va effectuer des actions pour lesquelles elle a été crée. En fait il s'agit d'un petit programme qu'on va pouvoir exécuter à partir d'un autre programme. En général, on définit et on utilise une fonction quand un même groupe d'actions doit être effectué à plusieurs occasions dans un programme. Cela évite de copier-coller les mêmes lignes de code plusieurs fois, et cela limite donc la possibilité de faire des bugs. D'autre part, si vous copiez-collez 10 fois des lignes avec des bugs, il faudra les corriger à 10 endroits. Si vous avez une fois ces lignes dans une fonction utilisée 10 fois. Il ne faudra corriger les lignes qu'une fois dans la fonction. \n",
        "\n",
        "En général, une fonction travaille à l'aide de variables qu'on lui fournit. Ces variables données en entrée de la fonction sont appelées **arguments**. On dit qu'on passe des arguments à la fonction. Certaines fonctions n'ont pas d'arguments. C'était le cas par exemple pour la fonction `input()` vue dans le cours sur les variables. En revanche, la fonction exponentielle `exp()` a forcément besoin d'un argument pour donner un résutat. \n",
        "\n",
        "En général, une fonction renvoie au programme qui l'a appelée un ou plusieurs résultats, mais ce n'est pas obligatoire. Par exemple, la fonction `exp()` renvoie la valeur de \"exponentielle de l'argument\", la fonction `input()` renvoie ce qui a été tapé au clavier, et la fonction `print()` ne renvoie rien du tout (elle affiche quelque chose à l'écran, mais ne revoie pas de variable au programme qui l'a appelée).    \n",
        "\n",
        "La syntaxe générale d'appel d'une fonction (appel = exécution = utilisation) est la suivante : \n",
        "``` \n",
        "sortie = NomDeLaFonction( argument )\n",
        "```  \n",
        "S'il n'y a pas de sortie, on enlève \"sortie = \". S'il n'y a pas d'argument(s), on n'écrit rien entre les parenthèses. NB : même s'il n'y a pas d'arguments, il faut toujours écrire les parenthèses, quitte à les laisser vides. \n",
        "\n",
        "Voici quelques exemples. "
      ]
    },
    {
      "cell_type": "code",
      "source": [
        "from pylab import *\n",
        "\n",
        "x = input()                 # \"input\" est le nom de la fonction, il n'y a pas d'argument, x est la sortie produite.  \n",
        "y = input(\"Entrez y :\")     # \"input\" est le nom de la fonction, l'argument est la chaine de caractères \"Entrez y :\", y est la sortie produite.  \n",
        "b = exp( 3.2 )              # \"exp\" est le nom de la fonction, l'argument est le réel 3.2, b est la sortie (ici un réel)\n",
        "print( b )                  # \"print\" est le nom de la fonction, l'argument est le réel b, il n'y a pas de sortie "
      ],
      "metadata": {
        "colab": {
          "base_uri": "https://localhost:8080/"
        },
        "id": "nxlI4okutKuw",
        "outputId": "505c11be-5917-4b62-e51f-c8d679642908"
      },
      "execution_count": 4,
      "outputs": [
        {
          "output_type": "stream",
          "name": "stdout",
          "text": [
            "6\n",
            "Entrez y :3\n",
            "24.532530197109352\n"
          ]
        }
      ]
    },
    {
      "cell_type": "markdown",
      "source": [
        "Python dispose de beaucoup de fonctions natives, comme `print()`. Vous pouvez aussi accéder à des fonction rangées dans des modules. Dans l'exemple ci-dessus, `exp()` n'est pas disponible par défaut. C'est en tapant la ligne `from pylab import *` que Python a rendu disponible tout un ensemble de fonctions scientifiques, dont `exp()`. \n",
        "\n",
        "### Définir ses propres fonctions\n",
        "\n",
        "Nous avons dit qu'one fonction est un petit programme qui effectue des actions, à partir de données d'entrée (les arguments) et qui peut définir des sorties. Définir une fonction, c'est spécifier tout ceci à Python, et cela se fait de la manière suivante :\n",
        "``` \n",
        "def NomDeLaFonction( arg1, arg2, ...) :\n",
        "    actions à réaliser\n",
        "    return sortie1, sortie2, ... \n",
        "``` \n",
        "Le début d'une définition est marqué par l'instruction `def`. Ensuite vient le nom de la fonction avec des parenthèses. Au sein des parenthèses, on déclare des noms de variables qui sont les arguments (entrées). En dessous, et dans un bloc décalé vers la droite, on peut taper une ou plusieurs lignes qui constituent les actions que la fonction réalise (faire un calcul, sauvegarder un fichier sur le disque dur, ouvrir une connexion internet, afficher un message, etc). La dernière ligne de la fonction commence par l'instruction `return` qui définit les variables  qui seront renvoyées au programme qui a appelé la fonction.  \n",
        "\n",
        "Voici plusieurs exemples. "
      ],
      "metadata": {
        "id": "PtlMYF4VumSQ"
      }
    },
    {
      "cell_type": "code",
      "source": [
        "def somme( a, b ) :\n",
        "  c = a + b \n",
        "  return c\n",
        "\n",
        "x = 12\n",
        "y = somme( x, 1)\n",
        "print(\"La valeur de y est : \", y) "
      ],
      "metadata": {
        "colab": {
          "base_uri": "https://localhost:8080/"
        },
        "id": "87jJGKJoxfyv",
        "outputId": "58f746f5-2945-40d8-cee0-9e62024e6c25"
      },
      "execution_count": 9,
      "outputs": [
        {
          "output_type": "stream",
          "name": "stdout",
          "text": [
            "La valeur de y est :  13\n"
          ]
        }
      ]
    },
    {
      "cell_type": "markdown",
      "source": [
        "A la première ligne, on définit la fonction \"somme\" et on déclare qu'elle a 2 arguments. Au sein de la fonction, ces deux arguments seront appelés \"a\" et \"b\". La deuxième ligne est la seule action réalisée par la fonction : elle définit la nouvelle variable \"c\" comme somme de \"a\" et \"b\". La troisième ligne signale à Python que cette fonction a une sortie, et qu'il s'agit de la valeur de la variable \"c\". \n",
        "\n",
        "Attention : quand Python exécute ces 3 premières lignes, il \"enregistre\" ce qu'est la fonction pour pouvoir s'en servir plus tard, mais il ne l'exécute pas! \n",
        "\n",
        "La fonction est exécutée à l'avant-dernière ligne. On voit qu'on lui donne comme arguments \"x\" et \"1\". L'ordre des arguments est important. Ceci veut dire que la valeur de \"x\" (12 ici) va être attribuée à \"a\" dans la fonction, et que la valeur \"1\" va être attribuée à \"b\" dans la fonction. Au sein de la fonction, c va donc prendre la valeur 12+1=13. La fonction renvoie la valeur de \"c\", c'est à dire 13, au programme principal. Comme nous avons écrit \"y = somme...\", c'est la variable \"y\" qui va recevoir cette valeur de 13 issue de la fonction. \n",
        "\n",
        "Attention : les noms des arguments et sorties dans la définition de la fonction (bloc def...return) ne sont pas nécessairement les mêmes que lors de l'exécution de la fonction. C'est même une bonne pratique de ne pas utiliser les mêmes noms pour éviter toute confusion. La correspondance entre les noms de variables dans la fonction et ceux dans le programme se fait grâce à l'ordre des arguments et l'ordre des sorties. \n",
        "\n",
        "Voici un autre exemple avec plusieurs arguments et plusieurs sorties : "
      ],
      "metadata": {
        "id": "gnDBvWdTyBW9"
      }
    },
    {
      "cell_type": "code",
      "source": [
        "def divisionEuclidienne( nombre, diviseur ) :\n",
        "  quotient = nombre//diviseur\n",
        "  reste    = nombre - quotient*diviseur \n",
        "  return quotient, reste\n",
        "\n",
        "q, r = divisionEuclidienne( nombre=23, diviseur=7 )\n",
        "print( \"Le quotient est : \", q)\n",
        "print( \"Le reste est    : \", r)\n"
      ],
      "metadata": {
        "colab": {
          "base_uri": "https://localhost:8080/"
        },
        "id": "d73232rb0NRS",
        "outputId": "e08d566f-61b3-4a83-f687-5aa9dca25d24"
      },
      "execution_count": 17,
      "outputs": [
        {
          "output_type": "stream",
          "name": "stdout",
          "text": [
            "Le quotient est :  3\n",
            "Le reste est    :  2\n"
          ]
        }
      ]
    },
    {
      "cell_type": "markdown",
      "source": [
        "On demande de diviser 23 par 7, et vous savez tous que 23 c'est 7 fois 3 et il reste 2. C'est bien ce que nous donne la fonction. Essayez d'inverser les valeurs de 23 et 7 dans l'appel à la fonction. Que voyez-vous ? Maintenant le nombre à diviser est 7, et on essaie de le diviser par 23. L'ordre des arguments est ce qui définit leur rôle dans la fonction. C'est la même chose pour les sorties. Faisons une bêtise en inversant q et r :"
      ],
      "metadata": {
        "id": "hAPUWaf81HHE"
      }
    },
    {
      "cell_type": "code",
      "source": [
        "reste, quotient = divisionEuclidienne( 23, 7 )\n",
        "print( \"Le quotient est : \", quotient)\n",
        "print( \"Le reste est    : \", reste)"
      ],
      "metadata": {
        "colab": {
          "base_uri": "https://localhost:8080/"
        },
        "id": "Z9M83BlK2Luc",
        "outputId": "a170338b-e169-4d5c-f5c1-1c52e6c48efa"
      },
      "execution_count": 15,
      "outputs": [
        {
          "output_type": "stream",
          "name": "stdout",
          "text": [
            "Le quotient est :  2\n",
            "Le reste est    :  3\n"
          ]
        }
      ]
    },
    {
      "cell_type": "markdown",
      "source": [
        "On voit que le message de résultat est faux ! C'est parce qu'on s'est trompé en appeleant la fonction : en tapant \"reste, quotient = divisionEuclidienne(...\", on a rangé la valeur de la première sortie de la fonction (le quotient) dans une variable qui s'appelle \"reste\". On a aussi rangé la valeur de la deuxième sortie de la fonction (le reste) dans une variable qui s'appelle \"quotient\". \n",
        "\n",
        "Il est TRES IMPORTANT de bien prendre conscience de ce qui se passe ici : Python n'a pas généré d'erreur, parce que ce code est tout à fait juste au niveau de la syntaxe. C'est simplement l'utilisateur qui a donné des noms stupides à ses variables. Python n'est pas une intelligence artificielle de science fiction qui va détecter que vous avez fait quelque chose de bizarre. Il ne fait que suivre les instructions que vous lui donnez. C'est à vous de bien faire attention à ce que vous écrivez. Rappelez-vous que la machine ne \"comprendra\" pas à votre place. \n",
        "\n",
        "Il faut toujours faire attention à l'ordre des sorties, mais il est possible de donner les arguments dans le désordre à condition de les définir \"par mot-clé\". Voici un exemple :  "
      ],
      "metadata": {
        "id": "gLxlWwv_2Q-X"
      }
    },
    {
      "cell_type": "code",
      "source": [
        "def divisionEuclidienne( nombre, diviseur ) :\n",
        "  quotient = nombre//diviseur\n",
        "  reste    = nombre - quotient*diviseur \n",
        "  return quotient, reste\n",
        "\n",
        "q, r = divisionEuclidienne( nombre=23, diviseur=7 )\n",
        "print( \"Le quotient est : \", q)\n",
        "print( \"Le reste est    : \", r)\n",
        "\n",
        "print(\"---\")\n",
        "\n",
        "q, r = divisionEuclidienne( diviseur=7, nombre=23 )\n",
        "print( \"Le quotient est : \", q)\n",
        "print( \"Le reste est    : \", r)"
      ],
      "metadata": {
        "colab": {
          "base_uri": "https://localhost:8080/"
        },
        "id": "LMG4HHLR487u",
        "outputId": "34343e2a-3494-4a7d-ec6d-201bef7490a6"
      },
      "execution_count": 21,
      "outputs": [
        {
          "output_type": "stream",
          "name": "stdout",
          "text": [
            "Le quotient est :  3\n",
            "Le reste est    :  2\n",
            "---\n",
            "Le quotient est :  3\n",
            "Le reste est    :  2\n"
          ]
        }
      ]
    },
    {
      "cell_type": "markdown",
      "source": [
        "On voit ici que peu importe l'ordre des arguments si on dit à la fonction quelle valeur correspond à quel argument. Passer les arguments par mot-clé est une bonne pratique qui évite bien des bugs. \n",
        "\n",
        "Enfin, pour conclure sur les fonctions, abordons les idées de variable locale et variable globale. Essayez ce exemple : "
      ],
      "metadata": {
        "id": "eTLXF1tA5Lk-"
      }
    },
    {
      "cell_type": "code",
      "source": [
        "def difference(a, b):     # a, b, et c sont des variables locales et n'existent pas hors de la fonction. \n",
        "  c = a - b \n",
        "  print(c)\n",
        "  return c\n",
        "\n",
        "y = 20\n",
        "z = 8\n",
        "resultat = difference( y, z )\n",
        "#print(c)"
      ],
      "metadata": {
        "colab": {
          "base_uri": "https://localhost:8080/"
        },
        "id": "UShB45sO6gf0",
        "outputId": "60ee94e1-50c3-480b-8356-34c88c8a6745"
      },
      "execution_count": 24,
      "outputs": [
        {
          "output_type": "stream",
          "name": "stdout",
          "text": [
            "12\n"
          ]
        }
      ]
    },
    {
      "cell_type": "markdown",
      "source": [
        "Il y a 2 `print(c)` dans ce code. Le second est commenté à l'aide d'un \\#. On voit s'afficher 12, qui vient du premier print au sein de la fonction. Jusque là, rien de surprenant. Commentez maintenant le premier print en insérant un \\# en début de ligne et décommentez le deuxième print. Le programme sort une erreur et dit que \"c\" n'est as défini. C'est parce que \"c\" est une variable qui est créée dans la fonction, et donc elle n'existe pas en dehors de la fonction. On dit que c'est une **variable locale**. \n",
        "\n",
        "Regardez maintenant l'exemple suivant : \n"
      ],
      "metadata": {
        "id": "Gc_Mr6sg7NcH"
      }
    },
    {
      "cell_type": "code",
      "source": [
        "def difference(a, b):     # a, b, et c sont des variables locales et n'existent pas hors de la fonction. \n",
        "  c = a - b + x\n",
        "  print(\"Premier affichage de x dans la fonction : \", x)\n",
        "  return c\n",
        "\n",
        "y = 20\n",
        "z = 8\n",
        "x = 20\n",
        "resultat = difference( y, z )\n",
        "print(\"Resultat : \", resultat)\n",
        "print(\"Deuxieme affichage de x hors de la fonction: \", x)"
      ],
      "metadata": {
        "colab": {
          "base_uri": "https://localhost:8080/"
        },
        "id": "J0S470Q28GHv",
        "outputId": "59e92e06-1124-4ef0-b382-00cdd4f73356"
      },
      "execution_count": 37,
      "outputs": [
        {
          "output_type": "stream",
          "name": "stdout",
          "text": [
            "Premier affichage de x dans la fonction :  20\n",
            "Resultat :  32\n",
            "Deuxieme affichage de x hors de la fonction:  20\n"
          ]
        }
      ]
    },
    {
      "cell_type": "markdown",
      "source": [
        "On voit que \"x\" est connu dans la fonction même s'il n'est pas dans les arguments, et même s'il est créé après la définition de la fonction. L'important est qu'il soit défini avant l'appel à fonction. Quand une telle variable utilisée dans la fonction n'est pas un argument, c'est une **variable globale**. C'est parfois pratique mais ça peut être très dangereux et source de bugs car vous allez changer le comportement de la fonction sans que ce soit très explicite. Par exemple "
      ],
      "metadata": {
        "id": "wiacGtr88yzA"
      }
    },
    {
      "cell_type": "code",
      "source": [
        "from pylab import *    # cette ligne charge la variable pi=3.14159... qui vient du module numpy \n",
        "\n",
        "# definissons une fonction qui convertit un angle en degres en un angle en radians \n",
        "def conversionRadians( angle ):         \n",
        "  angle_rad = angle / 180 * pi     # angle et angle_rad sont locales, pi est globale\n",
        "  return angle_rad\n",
        "\n",
        "\n",
        "print( conversionRadians( 180. ) ) \n",
        "# 1000 lignes de code compliquees \n",
        "# ...\n",
        "# ... dont la suivante par inadvertance par ce qu'on voulait calculer la pression P au point i et qu'on l'a appelee pi... \n",
        "pi = 2.12\n",
        "# ... \n",
        "# ...\n",
        "# fin des 1000 lignes \n",
        "print( conversionRadians( 180. ) ) "
      ],
      "metadata": {
        "colab": {
          "base_uri": "https://localhost:8080/"
        },
        "id": "5wsKNJDE99gb",
        "outputId": "656f1883-909e-46ea-c647-c41189d52765"
      },
      "execution_count": 43,
      "outputs": [
        {
          "output_type": "stream",
          "name": "stdout",
          "text": [
            "3.141592653589793\n",
            "2.12\n"
          ]
        }
      ]
    },
    {
      "cell_type": "markdown",
      "source": [
        "Le premier appel à la fonction donne le bon résultat mais pas le second... alors qu'on n'a pas touché à la fonction entre les deux! Stressant non ? C'est parce que la fonction fait appel à une variable globale (pi) qui a été chargée par `from pylab import *` au début, mais modifiée par inadvertance entre les deux appels à la fonction. \n",
        "\n",
        "Deux solutions : \n",
        "- faire très attention à ce que vous faîtes avec les variables globales\n",
        "- éviter les variables globales dans la mesure du possible. \n",
        "\n",
        "Dans l'exemple ci-dessus, on voit clairement pourquoi la ligne `from pylab import *` est pratique mais dangereuse. Pour éviter les problèmes, on peut laisser \"pi\" dans son module \"numpy\", ce qui donnerait l'exemple suivant  "
      ],
      "metadata": {
        "id": "4RWzOczs_sll"
      }
    },
    {
      "cell_type": "code",
      "source": [
        "import numpy as np    # cette ligne rend disponible pi mais le laisse dans le module numpy rebaptise np. On peut y acceder avec \"np.pi\" \n",
        "\n",
        "# definissons une fonction qui convertit un angle en degres en un angle en radians \n",
        "def conversionRadians( angle ):         \n",
        "  angle_rad = angle / 180 * np.pi     # angle et angle_rad sont locales, np.pi est globale du point de vue de la fonction \n",
        "  return angle_rad\n",
        "\n",
        "print( conversionRadians( 180. ) ) \n",
        "# 1000 lignes de code compliquees \n",
        "# ...\n",
        "# ... dont la suivante par inadvertance par ce qu'on voulait calculer la pression P au point i et qu'on l'a appelee pi... \n",
        "pi = 2.12  # mais ce n'est pas grave car on ne touche pas a np.pi utilise dans la fonction. \n",
        "# ... \n",
        "# ...\n",
        "# fin des 1000 lignes \n",
        "print( conversionRadians( 180. ) )"
      ],
      "metadata": {
        "colab": {
          "base_uri": "https://localhost:8080/"
        },
        "id": "CehTjy_RB3Nz",
        "outputId": "1c784270-2017-4154-c08b-d9eeea2eefa9"
      },
      "execution_count": 52,
      "outputs": [
        {
          "output_type": "stream",
          "name": "stdout",
          "text": [
            "3.141592653589793\n",
            "3.141592653589793\n"
          ]
        }
      ]
    },
    {
      "cell_type": "markdown",
      "source": [
        "Cette fois ça fonctionne toujours car notre definition malheureuse de \"pi\" n'aura pas de consequences sur \"np.pi\".  \n",
        "\n",
        "Et si on définisait par inadvertance \"np.pi = 2.12\" me direz-vous ? En effet on retomberait sur le problème, mais là vous l'auriez quand même fait un peu exprès, n'est-ce pas ? "
      ],
      "metadata": {
        "id": "rejqAJsmC1g4"
      }
    },
    {
      "cell_type": "markdown",
      "metadata": {
        "id": "WgSZ-KdZgDSW"
      },
      "source": [
        "### Evaluation formative après la vidéo \n",
        "\n",
        "0.1 Qu'affiche le programme suivant ? \n",
        "``` \n",
        "def carre(x):\n",
        "   return x*x \n",
        "\n",
        "print( carre(6) ) \n",
        "```\n",
        "6, 36, rien du tout ? \n",
        "\n",
        "0.2 Qu'affiche le programme suivant ? \n",
        "``` \n",
        "from pylab import *\n",
        "x = 36\n",
        "def racine(x):\n",
        "   return sqrt(x)  \n",
        "``` \n",
        "6, 36, rien du tout\n",
        "\n",
        "0.3 Coderunner : corrigez le programme précédent pour qu'il affiche 6\n",
        "\n",
        "0.4 Qu'affiche le programme suivant :\n",
        "``` \n",
        "def difference(x,y):\n",
        "   return x-y\n",
        "diff = difference( 12 , 3 )\n",
        "print(diff) \n",
        "```  \n",
        "12, 3, 9, -9, rien du tout\n",
        "\n",
        "0.5 Qu'affiche le programme suivant :\n",
        "``` \n",
        "def difference(x,y):\n",
        "   return x-y\n",
        "diff = difference( 3 , 12 )\n",
        "print(diff) \n",
        "```  \n",
        "3, 12, 9, -9, rien du tout\n",
        "\n",
        "0.6 Qu'affiche le programme suivant (attention, il y a des mauvaises pratiques ici avec les noms de variables) :\n",
        "``` \n",
        "def difference(x,y):\n",
        "   return x-y\n",
        "x = 12\n",
        "y = 3\n",
        "diff = difference( y, x )\n",
        "print(diff) \n",
        "```  \n",
        "9, -9, rien du tout\n",
        "\n",
        "0.7 coderunner : clarifiez le programme précédent pour qu'il ait un comportement plus intuitif. \n",
        "\n",
        "1. Coderunner : définir une fonction sans entrées ni sorties et qui affiche le message \"bonjour\", et exécutez cette fonction. \n",
        "\n",
        "2. Coderunner : définir une fonction produit qui multiplie ses 2 arguments et retourne le produit comme sortie; exécutez cette fonction sur 12 et 3. \n"
      ]
    }
  ],
  "metadata": {
    "kernelspec": {
      "display_name": "Python 3",
      "language": "python",
      "name": "python3"
    },
    "language_info": {
      "codemirror_mode": {
        "name": "ipython",
        "version": 3
      },
      "file_extension": ".py",
      "mimetype": "text/x-python",
      "name": "python",
      "nbconvert_exporter": "python",
      "pygments_lexer": "ipython3",
      "version": "3.7.6"
    },
    "colab": {
      "name": "Les_Fonctions.ipynb",
      "provenance": [],
      "collapsed_sections": [],
      "include_colab_link": true
    }
  },
  "nbformat": 4,
  "nbformat_minor": 0
}