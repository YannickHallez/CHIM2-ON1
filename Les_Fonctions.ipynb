{
 "cells": [
  {
   "cell_type": "code",
   "execution_count": 21,
   "metadata": {
    "scrolled": true
   },
   "outputs": [
    {
     "data": {
      "text/html": [
       "<style>\n",
       "h1, h2, h3, h4, h5, h6 {\n",
       "  font-family: Verdana, \"DejaVu Sans\", \"Bitstream Vera Sans\", Geneva, sans-serif;\n",
       "  font-weight: bold;\n",
       "}\n",
       "body {\n",
       "  font-family: Verdana, \"DejaVu Sans\", \"Bitstream Vera Sans\", Geneva, sans-serif;\n",
       "  font-weight: 200;\n",
       "}\n",
       "h1 {\n",
       "  border: 0 solid #333;\n",
       "  padding: 30px ;\n",
       "  color: white;\n",
       "  background: #b11d01;\n",
       "  text-align: center;\n",
       "}\n",
       "h2 {\n",
       "  border: 3px solid #333;\n",
       "  padding: 18px ;\n",
       "  color: #b11d01;\n",
       "  background: #ffffff;\n",
       "  text-align: center;\n",
       "}\n",
       "h3 {\n",
       "  border: 0 solid #333;\n",
       "  padding: 12px ;\n",
       "  color: #000000;\n",
       "  background: #c1c1c1;\n",
       "  text-align: left;\n",
       "}\n",
       "h4 {\n",
       "  border: 0 solid #333;\n",
       "  padding: 2px ;\n",
       "  color: #000000;\n",
       "  background: #d9fffc;\n",
       "  text-align: left;\n",
       "}\n",
       "h5 {\n",
       "  border: 1px solid #333;\n",
       "  padding: 2px ;\n",
       "  color: #000000;\n",
       "  background: #ffffff;\n",
       "  text-align: left;\n",
       "}\n",
       ".warn {    \n",
       "    background-color: #fcf2f2;\n",
       "    border-color: #dFb5b4;\n",
       "    border-left: 5px solid #dfb5b4;\n",
       "    padding: 0.5em;\n",
       "    font-weight: 200;\n",
       "    }\n",
       ".rq {    \n",
       "    background-color: #e2e2e2;\n",
       "    border-color: #969696;\n",
       "    border-left: 5px solid #969696;\n",
       "    padding: 0.5em;\n",
       "    font-weight: 200;\n",
       "    }\n",
       "</style>\n"
      ],
      "text/plain": [
       "<IPython.core.display.HTML object>"
      ]
     },
     "metadata": {},
     "output_type": "display_data"
    },
    {
     "data": {
      "text/markdown": [
       "**Début à:** Monday 13 November 2023, 14:16:34  \n",
       "**Hostname:** yggdrasil.private.univ-tlse3.fr (Darwin)"
      ],
      "text/plain": [
       "<IPython.core.display.Markdown object>"
      ]
     },
     "metadata": {},
     "output_type": "display_data"
    },
    {
     "data": {
      "text/markdown": [
       "<p style=\"text-align: center\"><img width=\"800px\" src=\"./config/svg/logoDebut.svg\" style=\"margin-left:auto; margin-right:auto\"/></p>"
      ],
      "text/plain": [
       "<IPython.core.display.Markdown object>"
      ]
     },
     "metadata": {},
     "output_type": "display_data"
    }
   ],
   "source": [
    "###############################################################################################\n",
    "#\n",
    "# exécutez cette cellule avant d'utiliser le reste du notebook\n",
    "#\n",
    "# supprimez-là si vous exécutez ce notebook en-dehors de la distribution CHIM2-ON1 #\n",
    "#\n",
    "###############################################################################################\n",
    "\n",
    "import os\n",
    "import sys\n",
    "\n",
    "cwd0 = './config/'\n",
    "sys.path.append(cwd0)\n",
    "\n",
    "import visualID as vID\n",
    "from visualID import color\n",
    "vID.init(cwd0)"
   ]
  },
  {
   "cell_type": "markdown",
   "metadata": {},
   "source": [
    "# Les fonctions\n",
    "\n",
    "## Prérequis\n",
    "\n",
    "- Introduction à Python. \n",
    "- Les variables.\n",
    "- Les listes.\n",
    "- Les tableaux.\n",
    "\n",
    "## Compétences \n",
    "\n",
    "1. Exécuter des fonctions existantes. \n",
    "2. Définir des fonctions. \n",
    "\n",
    "## Objectifs \n",
    "\n",
    "1. Acquérir les compétences ci-dessus.\n",
    "2. Ecrire des codes plus courts et plus propres en encapsulant des tâches dans des fonctions.  \n",
    "\n",
    "## Contenu de la vidéo \n",
    "\n",
    "### Qu’est-ce qu’une fonction\n",
    "\n",
    "Une fonction est une sorte de boîte noire qui va effectuer des actions pour lesquelles elle a été crée. En fait il s'agit d'un petit programme qu'on va pouvoir exécuter à partir d'un autre programme. En général, on définit et on utilise une fonction quand un même groupe d'actions doit être effectué à plusieurs occasions dans un programme. Cela évite de copier-coller les mêmes lignes de code plusieurs fois, et cela limite donc la possibilité de faire des bugs. D'autre part, si vous copiez-collez 10 fois des lignes avec des bugs, il faudra les corriger à 10 endroits. Si vous avez une fois ces lignes dans une fonction utilisée 10 fois. Il ne faudra corriger les lignes qu'une fois dans la fonction. \n",
    "\n",
    "En général, une fonction travaille à l'aide de variables qu'on lui fournit. Ces variables données en entrée de la fonction sont appelées **arguments**. On dit qu'on passe des arguments à la fonction. Certaines fonctions n'ont pas d'arguments. C'était le cas par exemple pour la fonction `input()` vue dans le cours sur les variables. En revanche, la fonction exponentielle `exp()` a forcément besoin d'un argument pour donner un résutat. \n",
    "\n",
    "En général, une fonction renvoie au programme qui l'a appelée un ou plusieurs résultats, mais ce n'est pas obligatoire. Par exemple, la fonction `exp()` renvoie la valeur de \"exponentielle de l'argument\", la fonction `input()` renvoie ce qui a été tapé au clavier, et la fonction `print()` ne renvoie rien du tout (elle affiche quelque chose à l'écran, mais ne revoie pas de variable au programme qui l'a appelée).    \n",
    "\n",
    "La syntaxe générale d'appel d'une fonction (appel = exécution = utilisation) est la suivante : \n",
    "``` \n",
    "sortie = NomDeLaFonction( argument )\n",
    "```  \n",
    "S'il n'y a pas de sortie, on enlève \"sortie = \". S'il n'y a pas d'argument(s), on n'écrit rien entre les parenthèses. NB : même s'il n'y a pas d'arguments, il faut toujours écrire les parenthèses, quitte à les laisser vides. \n",
    "\n",
    "Voici quelques exemples. "
   ]
  },
  {
   "cell_type": "code",
   "execution_count": 22,
   "metadata": {
    "scrolled": false
   },
   "outputs": [
    {
     "name": "stdout",
     "output_type": "stream",
     "text": [
      "2\n",
      "Entrez y :3\n",
      "24.532530197109352\n"
     ]
    }
   ],
   "source": [
    "from pylab import *\n",
    "\n",
    "x = input()                 # \"input\" est le nom de la fonction, il n'y a pas d'argument, x est la sortie produite.  \n",
    "y = input(\"Entrez y :\")     # \"input\" est le nom de la fonction, l'argument est la chaine de caractères \"Entrez y :\", y est la sortie produite.  \n",
    "b = exp( 3.2 )              # \"exp\" est le nom de la fonction, l'argument est le réel 3.2, b est la sortie (ici un réel)\n",
    "print( b )    "
   ]
  },
  {
   "cell_type": "markdown",
   "metadata": {
    "id": "PtlMYF4VumSQ"
   },
   "source": [
    "Python dispose de beaucoup de fonctions natives, comme `print()`. Vous pouvez aussi accéder à des fonction rangées dans des modules. Dans l'exemple ci-dessus, `exp()` n'est pas disponible par défaut. C'est en tapant la ligne `from pylab import *` que Python a rendu disponible tout un ensemble de fonctions scientifiques, dont `exp()`. \n",
    "\n",
    "### Définir ses propres fonctions\n",
    "\n",
    "Nous avons dit qu'one fonction est un petit programme qui effectue des actions, à partir de données d'entrée (les arguments) et qui peut définir des sorties. Définir une fonction, c'est spécifier tout ceci à Python, et cela se fait de la manière suivante :\n",
    "``` \n",
    "def NomDeLaFonction( arg1, arg2, ...) :\n",
    "    actions à réaliser\n",
    "    return sortie1, sortie2, ... \n",
    "``` \n",
    "Le début d'une définition est marqué par l'instruction `def`. Ensuite vient le nom de la fonction avec des parenthèses. Au sein des parenthèses, on déclare des noms de variables qui sont les arguments (entrées). En dessous, et dans un bloc décalé vers la droite, on peut taper une ou plusieurs lignes qui constituent les actions que la fonction réalise (faire un calcul, sauvegarder un fichier sur le disque dur, ouvrir une connexion internet, afficher un message, etc). La dernière ligne de la fonction commence par l'instruction `return` qui définit les variables  qui seront renvoyées au programme qui a appelé la fonction.  \n",
    "\n",
    "Voici plusieurs exemples.    "
   ]
  },
  {
   "cell_type": "code",
   "execution_count": 12,
   "metadata": {
    "colab": {
     "base_uri": "https://localhost:8080/"
    },
    "id": "87jJGKJoxfyv",
    "outputId": "58f746f5-2945-40d8-cee0-9e62024e6c25"
   },
   "outputs": [
    {
     "name": "stdout",
     "output_type": "stream",
     "text": [
      "La valeur de y est :  13\n"
     ]
    }
   ],
   "source": [
    "def somme( a, b ) :\n",
    "    c = a + b \n",
    "    return c\n",
    "\n",
    "x = 12\n",
    "y = somme( x, 1)\n",
    "print(\"La valeur de y est : \", y) "
   ]
  },
  {
   "cell_type": "markdown",
   "metadata": {
    "id": "gnDBvWdTyBW9"
   },
   "source": [
    "A la première ligne, on définit la fonction \"somme\" et on déclare qu'elle a 2 arguments. Au sein de la fonction, ces deux arguments seront appelés \"a\" et \"b\". La deuxième ligne est la seule action réalisée par la fonction : elle définit la nouvelle variable \"c\" comme somme de \"a\" et \"b\". La troisième ligne signale à Python que cette fonction a une sortie, et qu'il s'agit de la valeur de la variable \"c\". \n",
    "\n",
    "Attention : quand Python exécute ces 3 premières lignes, il \"enregistre\" ce qu'est la fonction pour pouvoir s'en servir plus tard, mais il ne l'exécute pas! \n",
    "\n",
    "La fonction est exécutée à l'avant-dernière ligne. On voit qu'on lui donne comme arguments \"x\" et \"1\". L'ordre des arguments est important. Ceci veut dire que la valeur de \"x\" (12 ici) va être attribuée à \"a\" dans la fonction, et que la valeur \"1\" va être attribuée à \"b\" dans la fonction. Au sein de la fonction, c va donc prendre la valeur 12+1=13. La fonction renvoie la valeur de \"c\", c'est à dire 13, au programme principal. Comme nous avons écrit \"y = somme...\", c'est la variable \"y\" qui va recevoir cette valeur de 13 issue de la fonction. \n",
    "\n",
    "Attention : les noms des arguments et sorties dans la définition de la fonction (bloc def...return) ne sont pas nécessairement les mêmes que lors de l'exécution de la fonction. C'est même une bonne pratique de ne pas utiliser les mêmes noms pour éviter toute confusion. La correspondance entre les noms de variables dans la fonction et ceux dans le programme se fait grâce à l'ordre des arguments et l'ordre des sorties. \n",
    "\n",
    "Voici un autre exemple avec plusieurs arguments et plusieurs sorties : "
   ]
  },
  {
   "cell_type": "code",
   "execution_count": 13,
   "metadata": {
    "colab": {
     "base_uri": "https://localhost:8080/"
    },
    "id": "d73232rb0NRS",
    "outputId": "e08d566f-61b3-4a83-f687-5aa9dca25d24"
   },
   "outputs": [
    {
     "name": "stdout",
     "output_type": "stream",
     "text": [
      "Le quotient est :  3\n",
      "Le reste est    :  2\n"
     ]
    }
   ],
   "source": [
    "def divisionEuclidienne( nombre, diviseur ) :\n",
    "    quotient = nombre//diviseur\n",
    "    reste    = nombre - quotient*diviseur \n",
    "    return quotient, reste\n",
    "\n",
    "q, r = divisionEuclidienne( nombre=23, diviseur=7 )\n",
    "print( \"Le quotient est : \", q)\n",
    "print( \"Le reste est    : \", r)\n"
   ]
  },
  {
   "cell_type": "markdown",
   "metadata": {
    "id": "hAPUWaf81HHE"
   },
   "source": [
    "On demande de diviser 23 par 7, et vous savez tous que 23 c'est 7 fois 3 et il reste 2. C'est bien ce que nous donne la fonction. Essayez d'inverser les valeurs de 23 et 7 dans l'appel à la fonction. Que voyez-vous ? Maintenant le nombre à diviser est 7, et on essaie de le diviser par 23. L'ordre des arguments est ce qui définit leur rôle dans la fonction. C'est la même chose pour les sorties. Faisons une bêtise en inversant q et r :"
   ]
  },
  {
   "cell_type": "code",
   "execution_count": 14,
   "metadata": {
    "colab": {
     "base_uri": "https://localhost:8080/"
    },
    "id": "Z9M83BlK2Luc",
    "outputId": "a170338b-e169-4d5c-f5c1-1c52e6c48efa"
   },
   "outputs": [
    {
     "name": "stdout",
     "output_type": "stream",
     "text": [
      "Le quotient est :  2\n",
      "Le reste est    :  3\n"
     ]
    }
   ],
   "source": [
    "reste, quotient = divisionEuclidienne( 23, 7 )\n",
    "print( \"Le quotient est : \", quotient)\n",
    "print( \"Le reste est    : \", reste)"
   ]
  },
  {
   "cell_type": "markdown",
   "metadata": {
    "id": "gLxlWwv_2Q-X"
   },
   "source": [
    "On voit que le message de résultat est faux ! C'est parce qu'on s'est trompé en appeleant la fonction : en tapant \"reste, quotient = divisionEuclidienne(...\", on a rangé la valeur de la première sortie de la fonction (le quotient) dans une variable qui s'appelle \"reste\". On a aussi rangé la valeur de la deuxième sortie de la fonction (le reste) dans une variable qui s'appelle \"quotient\". \n",
    "\n",
    "Il est TRES IMPORTANT de bien prendre conscience de ce qui se passe ici : Python n'a pas généré d'erreur, parce que ce code est tout à fait juste au niveau de la syntaxe. C'est simplement l'utilisateur qui a donné des noms stupides à ses variables. Python n'est pas une intelligence artificielle de science fiction qui va détecter que vous avez fait quelque chose de bizarre. Il ne fait que suivre les instructions que vous lui donnez. C'est à vous de bien faire attention à ce que vous écrivez. Rappelez-vous que la machine ne \"comprendra\" pas à votre place. \n",
    "\n",
    "Il faut toujours faire attention à l'ordre des sorties, mais il est possible de donner les arguments dans le désordre à condition de les définir \"par mot-clé\". Voici un exemple :  "
   ]
  },
  {
   "cell_type": "code",
   "execution_count": 15,
   "metadata": {
    "colab": {
     "base_uri": "https://localhost:8080/"
    },
    "id": "LMG4HHLR487u",
    "outputId": "34343e2a-3494-4a7d-ec6d-201bef7490a6"
   },
   "outputs": [
    {
     "name": "stdout",
     "output_type": "stream",
     "text": [
      "Le quotient est :  3\n",
      "Le reste est    :  2\n",
      "---\n",
      "Le quotient est :  3\n",
      "Le reste est    :  2\n"
     ]
    }
   ],
   "source": [
    "def divisionEuclidienne( nombre, diviseur ) :\n",
    "    quotient = nombre//diviseur\n",
    "    reste    = nombre - quotient*diviseur \n",
    "    return quotient, reste\n",
    "\n",
    "q, r = divisionEuclidienne( nombre=23, diviseur=7 )\n",
    "print( \"Le quotient est : \", q)\n",
    "print( \"Le reste est    : \", r)\n",
    "\n",
    "print(\"---\")\n",
    "\n",
    "q, r = divisionEuclidienne( diviseur=7, nombre=23 )\n",
    "print( \"Le quotient est : \", q)\n",
    "print( \"Le reste est    : \", r)"
   ]
  },
  {
   "cell_type": "markdown",
   "metadata": {
    "id": "eTLXF1tA5Lk-"
   },
   "source": [
    "On voit ici que peu importe l'ordre des arguments si on dit à la fonction quelle valeur correspond à quel argument. Passer les arguments par mot-clé est une bonne pratique qui évite bien des bugs. \n",
    "\n",
    "Enfin, pour conclure sur les fonctions, abordons les idées de variable locale et variable globale. Essayez ce exemple : "
   ]
  },
  {
   "cell_type": "code",
   "execution_count": 16,
   "metadata": {
    "colab": {
     "base_uri": "https://localhost:8080/"
    },
    "id": "UShB45sO6gf0",
    "outputId": "60ee94e1-50c3-480b-8356-34c88c8a6745"
   },
   "outputs": [
    {
     "name": "stdout",
     "output_type": "stream",
     "text": [
      "12\n"
     ]
    }
   ],
   "source": [
    "def difference(a, b):     # a, b, et c sont des variables locales et n'existent pas hors de la fonction. \n",
    "    c = a - b \n",
    "    print(c)\n",
    "    return c\n",
    "\n",
    "y = 20\n",
    "z = 8\n",
    "resultat = difference( y, z )\n",
    "#print(c)"
   ]
  },
  {
   "cell_type": "markdown",
   "metadata": {
    "id": "Gc_Mr6sg7NcH"
   },
   "source": [
    "Il y a 2 `print(c)` dans ce code. Le second est commenté à l'aide d'un \\#. On voit s'afficher 12, qui vient du premier print au sein de la fonction. Jusque là, rien de surprenant. Commentez maintenant le premier print en insérant un \\# en début de ligne et décommentez le deuxième print. Le programme sort une erreur et dit que \"c\" n'est as défini. C'est parce que \"c\" est une variable qui est créée dans la fonction, et donc elle n'existe pas en dehors de la fonction. On dit que c'est une **variable locale**. \n",
    "\n",
    "Regardez maintenant l'exemple suivant : \n"
   ]
  },
  {
   "cell_type": "code",
   "execution_count": 17,
   "metadata": {
    "colab": {
     "base_uri": "https://localhost:8080/"
    },
    "id": "J0S470Q28GHv",
    "outputId": "59e92e06-1124-4ef0-b382-00cdd4f73356"
   },
   "outputs": [
    {
     "name": "stdout",
     "output_type": "stream",
     "text": [
      "Premier affichage de x dans la fonction :  20\n",
      "Resultat :  32\n",
      "Deuxieme affichage de x hors de la fonction:  20\n"
     ]
    }
   ],
   "source": [
    "def difference(a, b):     # a, b, et c sont des variables locales et n'existent pas hors de la fonction. \n",
    "    c = a - b + x\n",
    "    print(\"Premier affichage de x dans la fonction : \", x)\n",
    "    return c\n",
    "\n",
    "y = 20\n",
    "z = 8\n",
    "x = 20\n",
    "resultat = difference( y, z )\n",
    "print(\"Resultat : \", resultat)\n",
    "print(\"Deuxieme affichage de x hors de la fonction: \", x)"
   ]
  }
 ],
 "metadata": {
  "colab": {
   "collapsed_sections": [],
   "include_colab_link": true,
   "name": "Les_Fonctions.ipynb",
   "provenance": []
  },
  "kernelspec": {
   "display_name": "Python 3 (ipykernel)",
   "language": "python",
   "name": "python3"
  },
  "language_info": {
   "codemirror_mode": {
    "name": "ipython",
    "version": 3
   },
   "file_extension": ".py",
   "mimetype": "text/x-python",
   "name": "python",
   "nbconvert_exporter": "python",
   "pygments_lexer": "ipython3",
   "version": "3.9.6"
  }
 },
 "nbformat": 4,
 "nbformat_minor": 4
}
