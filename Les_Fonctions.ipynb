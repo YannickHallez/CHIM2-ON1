{
 "cells": [
  {
   "cell_type": "markdown",
   "metadata": {},
   "source": [
    "# Les fonctions\n",
    "\n",
    "\n",
    "## Prérequis\n",
    "\n",
    "- Introduction à Python. \n",
    "- Les variables.\n",
    "- Les listes.\n",
    "- Les tableaux.\n",
    "\n",
    "## Compétences \n",
    "\n",
    "1. Exécuter des fonctions existantes. \n",
    "2. Définir des fonctions. \n",
    "\n",
    "## Objectifs \n",
    "\n",
    "1. Acquérir les compétences ci-dessus.\n",
    "2. Ecrire des codes plus courts et plus propres en encapsulant des tâches dans des fonctions.  \n",
    "\n",
    "## Contenu de la vidéo \n",
    "\n",
    "### Qu’est-ce qu’une fonction\n",
    "\n",
    "Une fonction est une sorte de boîte noire qui va effectuer des actions pour lesquelles elle a été crée. En fait il s'agit d'un petit programme qu'on va pouvoir exécuter à partir d'un autre programme. En général, on définit et on utilise une fonction quand un même groupe d'actions doit être effectué à plusieurs occasions dans un programme. Cela évite de copier-coller les mêmes lignes de code plusieurs fois, et cela limite donc la possibilité de faire des bugs. D'autre part, si vous copiez-collez 10 fois des lignes avec des bugs, il faudra les corriger à 10 endroits. Si vous avez une fois ces lignes dans une fonction utilisée 10 fois. Il ne faudra corriger les lignes qu'une fois dans la fonction. \n",
    "\n",
    "En général, une fonction travaille à l'aide de variables qu'on lui fournit. Ces variables données en entrée de la fonction sont appelées **arguments**. On dit qu'on passe des arguments à la fonction. Certaines fonctions n'ont pas d'arguments. C'était le cas par exemple pour la fonction `input()` vue dans le cours sur les variables. En revanche, la fonction exponentielle `exp()` a forcément besoin d'un argument pour donner un résutat. \n",
    "\n",
    "En général, une fonction renvoie au programme qui l'a appelée un ou plusieurs résultats, mais ce n'est pas obligatoire. Par exemple, la fonction `exp()` renvoie la valeur de \"exponentielle de l'argument\", la fonction `input()` renvoie ce qui a été tapé au clavier, et la fonction `print()` ne renvoie rien du tout (elle affiche quelque chose à l'écran, mais ne revoie pas de variable au programme qui l'a appelée).    \n",
    "\n"
   ]
  },
  {
   "cell_type": "code",
   "execution_count": null,
   "metadata": {},
   "outputs": [],
   "source": []
  }
 ],
 "metadata": {
  "colab": {
   "collapsed_sections": [],
   "include_colab_link": true,
   "name": "Les_Fonctions.ipynb",
   "provenance": []
  },
  "kernelspec": {
   "display_name": "Python 3 (ipykernel)",
   "language": "python",
   "name": "python3"
  },
  "language_info": {
   "codemirror_mode": {
    "name": "ipython",
    "version": 3
   },
   "file_extension": ".py",
   "mimetype": "text/x-python",
   "name": "python",
   "nbconvert_exporter": "python",
   "pygments_lexer": "ipython3",
   "version": "3.9.6"
  }
 },
 "nbformat": 4,
 "nbformat_minor": 4
}
