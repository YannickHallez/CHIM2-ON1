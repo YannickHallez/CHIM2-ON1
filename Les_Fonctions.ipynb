{
 "cells": [
  {
   "cell_type": "markdown",
   "metadata": {
    "id": "eTLXF1tA5Lk-"
   },
   "source": [
    "On voit ici que peu importe l'ordre des arguments si on dit à la fonction quelle valeur correspond à quel argument. Passer les arguments par mot-clé est une bonne pratique qui évite bien des bugs. \n",
    "\n",
    "Enfin, pour conclure sur les fonctions, abordons les idées de variable locale et variable globale. Essayez ce exemple : "
   ]
  },
  {
   "cell_type": "code",
   "execution_count": 16,
   "metadata": {
    "colab": {
     "base_uri": "https://localhost:8080/"
    },
    "id": "UShB45sO6gf0",
    "outputId": "60ee94e1-50c3-480b-8356-34c88c8a6745"
   },
   "outputs": [
    {
     "name": "stdout",
     "output_type": "stream",
     "text": [
      "12\n"
     ]
    }
   ],
   "source": [
    "def difference(a, b):     # a, b, et c sont des variables locales et n'existent pas hors de la fonction. \n",
    "    c = a - b \n",
    "    print(c)\n",
    "    return c\n",
    "\n",
    "y = 20\n",
    "z = 8\n",
    "resultat = difference( y, z )\n",
    "#print(c)"
   ]
  },
  {
   "cell_type": "markdown",
   "metadata": {
    "id": "Gc_Mr6sg7NcH"
   },
   "source": [
    "Il y a 2 `print(c)` dans ce code. Le second est commenté à l'aide d'un \\#. On voit s'afficher 12, qui vient du premier print au sein de la fonction. Jusque là, rien de surprenant. Commentez maintenant le premier print en insérant un \\# en début de ligne et décommentez le deuxième print. Le programme sort une erreur et dit que \"c\" n'est as défini. C'est parce que \"c\" est une variable qui est créée dans la fonction, et donc elle n'existe pas en dehors de la fonction. On dit que c'est une **variable locale**. \n",
    "\n",
    "Regardez maintenant l'exemple suivant : \n"
   ]
  },
  {
   "cell_type": "code",
   "execution_count": 17,
   "metadata": {
    "colab": {
     "base_uri": "https://localhost:8080/"
    },
    "id": "J0S470Q28GHv",
    "outputId": "59e92e06-1124-4ef0-b382-00cdd4f73356"
   },
   "outputs": [
    {
     "name": "stdout",
     "output_type": "stream",
     "text": [
      "Premier affichage de x dans la fonction :  20\n",
      "Resultat :  32\n",
      "Deuxieme affichage de x hors de la fonction:  20\n"
     ]
    }
   ],
   "source": [
    "def difference(a, b):     # a, b, et c sont des variables locales et n'existent pas hors de la fonction. \n",
    "    c = a - b + x\n",
    "    print(\"Premier affichage de x dans la fonction : \", x)\n",
    "    return c\n",
    "\n",
    "y = 20\n",
    "z = 8\n",
    "x = 20\n",
    "resultat = difference( y, z )\n",
    "print(\"Resultat : \", resultat)\n",
    "print(\"Deuxieme affichage de x hors de la fonction: \", x)"
   ]
  },
  {
   "cell_type": "markdown",
   "metadata": {
    "id": "wiacGtr88yzA"
   },
   "source": [
    "On voit que \"x\" est connu dans la fonction même s'il n'est pas dans les arguments, et même s'il est créé après la définition de la fonction. L'important est qu'il soit défini avant l'appel à fonction. Quand une telle variable utilisée dans la fonction n'est pas un argument, c'est une **variable globale**. C'est parfois pratique mais ça peut être très dangereux et source de bugs car vous allez changer le comportement de la fonction sans que ce soit très explicite. Par exemple "
   ]
  },
  {
   "cell_type": "code",
   "execution_count": 18,
   "metadata": {
    "colab": {
     "base_uri": "https://localhost:8080/"
    },
    "id": "5wsKNJDE99gb",
    "outputId": "656f1883-909e-46ea-c647-c41189d52765"
   },
   "outputs": [
    {
     "name": "stdout",
     "output_type": "stream",
     "text": [
      "3.141592653589793\n",
      "2.12\n"
     ]
    }
   ],
   "source": [
    "from pylab import *    # cette ligne charge la variable pi=3.14159... qui vient du module numpy \n",
    "\n",
    "# definissons une fonction qui convertit un angle en degres en un angle en radians \n",
    "def conversionRadians( angle ):         \n",
    "    angle_rad = angle / 180 * pi     # angle et angle_rad sont locales, pi est globale\n",
    "    return angle_rad\n",
    "\n",
    "\n",
    "print( conversionRadians( 180. ) ) \n",
    "# 1000 lignes de code compliquees \n",
    "# ...\n",
    "# ... dont la suivante par inadvertance par ce qu'on voulait calculer la pression P au point i et qu'on l'a appelee pi... \n",
    "pi = 2.12\n",
    "# ... \n",
    "# ...\n",
    "# fin des 1000 lignes \n",
    "print( conversionRadians( 180. ) ) "
   ]
  },
  {
   "cell_type": "markdown",
   "metadata": {
    "id": "4RWzOczs_sll"
   },
   "source": [
    "Le premier appel à la fonction donne le bon résultat mais pas le second... alors qu'on n'a pas touché à la fonction entre les deux! Stressant non ? C'est parce que la fonction fait appel à une variable globale (pi) qui a été chargée par `from pylab import *` au début, mais modifiée par inadvertance entre les deux appels à la fonction. \n",
    "\n",
    "Deux solutions : \n",
    "- faire très attention à ce que vous faîtes avec les variables globales\n",
    "- éviter les variables globales dans la mesure du possible. \n",
    "\n",
    "Dans l'exemple ci-dessus, on voit clairement pourquoi la ligne `from pylab import *` est pratique mais dangereuse. Pour éviter les problèmes, on peut laisser \"pi\" dans son module \"numpy\", ce qui donnerait l'exemple suivant  "
   ]
  },
  {
   "cell_type": "code",
   "execution_count": 19,
   "metadata": {
    "colab": {
     "base_uri": "https://localhost:8080/"
    },
    "id": "CehTjy_RB3Nz",
    "outputId": "1c784270-2017-4154-c08b-d9eeea2eefa9"
   },
   "outputs": [
    {
     "name": "stdout",
     "output_type": "stream",
     "text": [
      "3.141592653589793\n",
      "3.141592653589793\n"
     ]
    }
   ],
   "source": [
    "import numpy as np    # cette ligne rend disponible pi mais le laisse dans le module numpy rebaptise np. On peut y acceder avec \"np.pi\" \n",
    "\n",
    "# definissons une fonction qui convertit un angle en degres en un angle en radians \n",
    "def conversionRadians( angle ):         \n",
    "    angle_rad = angle / 180 * np.pi     # angle et angle_rad sont locales, np.pi est globale du point de vue de la fonction \n",
    "    return angle_rad\n",
    "\n",
    "print( conversionRadians( 180. ) ) \n",
    "# 1000 lignes de code compliquees \n",
    "# ...\n",
    "# ... dont la suivante par inadvertance par ce qu'on voulait calculer la pression P au point i et qu'on l'a appelee pi... \n",
    "pi = 2.12  # mais ce n'est pas grave car on ne touche pas a np.pi utilise dans la fonction. \n",
    "# ... \n",
    "# ...\n",
    "# fin des 1000 lignes \n",
    "print( conversionRadians( 180. ) )"
   ]
  },
  {
   "cell_type": "markdown",
   "metadata": {
    "id": "rejqAJsmC1g4"
   },
   "source": [
    "Cette fois ça fonctionne toujours car notre definition malheureuse de \"pi\" n'aura pas de consequences sur \"np.pi\".  \n",
    "\n",
    "Et si on définisait par inadvertance \"np.pi = 2.12\" me direz-vous ? En effet on retomberait sur le problème, mais là vous l'auriez quand même fait un peu exprès, n'est-ce pas ? "
   ]
  },
  {
   "cell_type": "code",
   "execution_count": 20,
   "metadata": {},
   "outputs": [
    {
     "data": {
      "text/markdown": [
       "**Fin à:** Monday 13 November 2023, 14:14:36  \n",
       "**Durée:** 00:10:51 200ms"
      ],
      "text/plain": [
       "<IPython.core.display.Markdown object>"
      ]
     },
     "metadata": {},
     "output_type": "display_data"
    },
    {
     "data": {
      "text/markdown": [
       "<p style=\"text-align: center\"><img width=\"800px\" src=\"./config/svg/logoFin.svg\" style=\"margin-left:auto; margin-right:auto\"/></p>"
      ],
      "text/plain": [
       "<IPython.core.display.Markdown object>"
      ]
     },
     "metadata": {},
     "output_type": "display_data"
    }
   ],
   "source": [
    "###############################################################################################\n",
    "# supprimez cette cellule si vous exécutez ce notebook en-dehors de la distribution CHIM2-ON1 #\n",
    "###############################################################################################\n",
    "\n",
    "vID.end(cwd0)"
   ]
  }
 ],
 "metadata": {
  "colab": {
   "collapsed_sections": [],
   "include_colab_link": true,
   "name": "Les_Fonctions.ipynb",
   "provenance": []
  },
  "kernelspec": {
   "display_name": "Python 3 (ipykernel)",
   "language": "python",
   "name": "python3"
  },
  "language_info": {
   "codemirror_mode": {
    "name": "ipython",
    "version": 3
   },
   "file_extension": ".py",
   "mimetype": "text/x-python",
   "name": "python",
   "nbconvert_exporter": "python",
   "pygments_lexer": "ipython3",
   "version": "3.9.6"
  }
 },
 "nbformat": 4,
 "nbformat_minor": 4
}
