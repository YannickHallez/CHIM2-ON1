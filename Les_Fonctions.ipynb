{
 "cells": [
  {
   "cell_type": "code",
   "execution_count": 21,
   "metadata": {
    "scrolled": true
   },
   "outputs": [
    {
     "data": {
      "text/html": [
       "<style>\n",
       "h1, h2, h3, h4, h5, h6 {\n",
       "  font-family: Verdana, \"DejaVu Sans\", \"Bitstream Vera Sans\", Geneva, sans-serif;\n",
       "  font-weight: bold;\n",
       "}\n",
       "body {\n",
       "  font-family: Verdana, \"DejaVu Sans\", \"Bitstream Vera Sans\", Geneva, sans-serif;\n",
       "  font-weight: 200;\n",
       "}\n",
       "h1 {\n",
       "  border: 0 solid #333;\n",
       "  padding: 30px ;\n",
       "  color: white;\n",
       "  background: #b11d01;\n",
       "  text-align: center;\n",
       "}\n",
       "h2 {\n",
       "  border: 3px solid #333;\n",
       "  padding: 18px ;\n",
       "  color: #b11d01;\n",
       "  background: #ffffff;\n",
       "  text-align: center;\n",
       "}\n",
       "h3 {\n",
       "  border: 0 solid #333;\n",
       "  padding: 12px ;\n",
       "  color: #000000;\n",
       "  background: #c1c1c1;\n",
       "  text-align: left;\n",
       "}\n",
       "h4 {\n",
       "  border: 0 solid #333;\n",
       "  padding: 2px ;\n",
       "  color: #000000;\n",
       "  background: #d9fffc;\n",
       "  text-align: left;\n",
       "}\n",
       "h5 {\n",
       "  border: 1px solid #333;\n",
       "  padding: 2px ;\n",
       "  color: #000000;\n",
       "  background: #ffffff;\n",
       "  text-align: left;\n",
       "}\n",
       ".warn {    \n",
       "    background-color: #fcf2f2;\n",
       "    border-color: #dFb5b4;\n",
       "    border-left: 5px solid #dfb5b4;\n",
       "    padding: 0.5em;\n",
       "    font-weight: 200;\n",
       "    }\n",
       ".rq {    \n",
       "    background-color: #e2e2e2;\n",
       "    border-color: #969696;\n",
       "    border-left: 5px solid #969696;\n",
       "    padding: 0.5em;\n",
       "    font-weight: 200;\n",
       "    }\n",
       "</style>\n"
      ],
      "text/plain": [
       "<IPython.core.display.HTML object>"
      ]
     },
     "metadata": {},
     "output_type": "display_data"
    },
    {
     "data": {
      "text/markdown": [
       "**Début à:** Monday 13 November 2023, 14:16:34  \n",
       "**Hostname:** yggdrasil.private.univ-tlse3.fr (Darwin)"
      ],
      "text/plain": [
       "<IPython.core.display.Markdown object>"
      ]
     },
     "metadata": {},
     "output_type": "display_data"
    },
    {
     "data": {
      "text/markdown": [
       "<p style=\"text-align: center\"><img width=\"800px\" src=\"./config/svg/logoDebut.svg\" style=\"margin-left:auto; margin-right:auto\"/></p>"
      ],
      "text/plain": [
       "<IPython.core.display.Markdown object>"
      ]
     },
     "metadata": {},
     "output_type": "display_data"
    }
   ],
   "source": [
    "###############################################################################################\n",
    "#\n",
    "# exécutez cette cellule avant d'utiliser le reste du notebook\n",
    "#\n",
    "# supprimez-là si vous exécutez ce notebook en-dehors de la distribution CHIM2-ON1 #\n",
    "#\n",
    "###############################################################################################\n",
    "\n",
    "import os\n",
    "import sys\n",
    "\n",
    "cwd0 = './config/'\n",
    "sys.path.append(cwd0)\n",
    "\n",
    "import visualID as vID\n",
    "from visualID import color\n",
    "vID.init(cwd0)"
   ]
  },
  {
   "cell_type": "markdown",
   "metadata": {},
   "source": [
    "# Les fonctions\n",
    "\n",
    "## Prérequis\n",
    "\n",
    "- Introduction à Python. \n",
    "- Les variables.\n",
    "- Les listes.\n",
    "- Les tableaux.\n",
    "\n",
    "## Compétences \n",
    "\n",
    "1. Exécuter des fonctions existantes. \n",
    "2. Définir des fonctions. \n",
    "\n",
    "## Objectifs \n",
    "\n",
    "1. Acquérir les compétences ci-dessus.\n",
    "2. Ecrire des codes plus courts et plus propres en encapsulant des tâches dans des fonctions.  \n",
    "\n",
    "## Contenu de la vidéo \n",
    "\n",
    "### Qu’est-ce qu’une fonction\n",
    "\n",
    "Une fonction est une sorte de boîte noire qui va effectuer des actions pour lesquelles elle a été crée. En fait il s'agit d'un petit programme qu'on va pouvoir exécuter à partir d'un autre programme. En général, on définit et on utilise une fonction quand un même groupe d'actions doit être effectué à plusieurs occasions dans un programme. Cela évite de copier-coller les mêmes lignes de code plusieurs fois, et cela limite donc la possibilité de faire des bugs. D'autre part, si vous copiez-collez 10 fois des lignes avec des bugs, il faudra les corriger à 10 endroits. Si vous avez une fois ces lignes dans une fonction utilisée 10 fois. Il ne faudra corriger les lignes qu'une fois dans la fonction. \n",
    "\n",
    "En général, une fonction travaille à l'aide de variables qu'on lui fournit. Ces variables données en entrée de la fonction sont appelées **arguments**. On dit qu'on passe des arguments à la fonction. Certaines fonctions n'ont pas d'arguments. C'était le cas par exemple pour la fonction `input()` vue dans le cours sur les variables. En revanche, la fonction exponentielle `exp()` a forcément besoin d'un argument pour donner un résutat. \n",
    "\n",
    "En général, une fonction renvoie au programme qui l'a appelée un ou plusieurs résultats, mais ce n'est pas obligatoire. Par exemple, la fonction `exp()` renvoie la valeur de \"exponentielle de l'argument\", la fonction `input()` renvoie ce qui a été tapé au clavier, et la fonction `print()` ne renvoie rien du tout (elle affiche quelque chose à l'écran, mais ne revoie pas de variable au programme qui l'a appelée).    \n",
    "\n",
    "La syntaxe générale d'appel d'une fonction (appel = exécution = utilisation) est la suivante : \n",
    "``` \n",
    "sortie = NomDeLaFonction( argument )\n",
    "```  \n",
    "S'il n'y a pas de sortie, on enlève \"sortie = \". S'il n'y a pas d'argument(s), on n'écrit rien entre les parenthèses. NB : même s'il n'y a pas d'arguments, il faut toujours écrire les parenthèses, quitte à les laisser vides. \n",
    "\n",
    "Voici quelques exemples. "
   ]
  },
  {
   "cell_type": "code",
   "execution_count": 22,
   "metadata": {
    "scrolled": false
   },
   "outputs": [
    {
     "name": "stdout",
     "output_type": "stream",
     "text": [
      "2\n",
      "Entrez y :3\n",
      "24.532530197109352\n"
     ]
    }
   ],
   "source": [
    "from pylab import *\n",
    "\n",
    "x = input()                 # \"input\" est le nom de la fonction, il n'y a pas d'argument, x est la sortie produite.  \n",
    "y = input(\"Entrez y :\")     # \"input\" est le nom de la fonction, l'argument est la chaine de caractères \"Entrez y :\", y est la sortie produite.  \n",
    "b = exp( 3.2 )              # \"exp\" est le nom de la fonction, l'argument est le réel 3.2, b est la sortie (ici un réel)\n",
    "print( b )    "
   ]
  },
  {
   "cell_type": "markdown",
   "metadata": {
    "id": "PtlMYF4VumSQ"
   },
   "source": [
    "Python dispose de beaucoup de fonctions natives, comme `print()`. Vous pouvez aussi accéder à des fonction rangées dans des modules. Dans l'exemple ci-dessus, `exp()` n'est pas disponible par défaut. C'est en tapant la ligne `from pylab import *` que Python a rendu disponible tout un ensemble de fonctions scientifiques, dont `exp()`. \n",
    "\n",
    "### Définir ses propres fonctions\n",
    "\n",
    "Nous avons dit qu'one fonction est un petit programme qui effectue des actions, à partir de données d'entrée (les arguments) et qui peut définir des sorties. Définir une fonction, c'est spécifier tout ceci à Python, et cela se fait de la manière suivante :\n",
    "``` \n",
    "def NomDeLaFonction( arg1, arg2, ...) :\n",
    "    actions à réaliser\n",
    "    return sortie1, sortie2, ... \n",
    "``` \n",
    "Le début d'une définition est marqué par l'instruction `def`. Ensuite vient le nom de la fonction avec des parenthèses. Au sein des parenthèses, on déclare des noms de variables qui sont les arguments (entrées). En dessous, et dans un bloc décalé vers la droite, on peut taper une ou plusieurs lignes qui constituent les actions que la fonction réalise (faire un calcul, sauvegarder un fichier sur le disque dur, ouvrir une connexion internet, afficher un message, etc). La dernière ligne de la fonction commence par l'instruction `return` qui définit les variables  qui seront renvoyées au programme qui a appelé la fonction.  \n",
    "\n",
    "Voici plusieurs exemples.    "
   ]
  }
 ],
 "metadata": {
  "colab": {
   "collapsed_sections": [],
   "include_colab_link": true,
   "name": "Les_Fonctions.ipynb",
   "provenance": []
  },
  "kernelspec": {
   "display_name": "Python 3 (ipykernel)",
   "language": "python",
   "name": "python3"
  },
  "language_info": {
   "codemirror_mode": {
    "name": "ipython",
    "version": 3
   },
   "file_extension": ".py",
   "mimetype": "text/x-python",
   "name": "python",
   "nbconvert_exporter": "python",
   "pygments_lexer": "ipython3",
   "version": "3.9.6"
  }
 },
 "nbformat": 4,
 "nbformat_minor": 4
}
